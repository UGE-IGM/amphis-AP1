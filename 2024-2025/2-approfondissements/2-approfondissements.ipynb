{
 "cells": [
  {
   "cell_type": "markdown",
   "id": "7a2ac299",
   "metadata": {},
   "source": [
    "# Note de cours AP1 - Séquence 2 : Approfondissement"
   ]
  },
  {
   "cell_type": "markdown",
   "id": "d8c4237e",
   "metadata": {
    "slideshow": {
     "slide_type": "slide"
    }
   },
   "source": [
    "## Fonctions \n",
    "\n",
    "### Rappels"
   ]
  },
  {
   "cell_type": "markdown",
   "id": "fe5aae12",
   "metadata": {
    "slideshow": {
     "slide_type": "subslide"
    }
   },
   "source": [
    "En programmation, une fonction est\n",
    "- un morceau de programme\n",
    "- portant en général un **nom**\n",
    "- acceptant zéro, un ou plusieurs **paramètres**\n",
    "- produisant le plus souvent un **résultat**. \n",
    "\n",
    "Des exceptions existent, mais la forme la plus courante d'une fonction est donc proche de celle d'une fonction mathématique."
   ]
  },
  {
   "cell_type": "markdown",
   "id": "1366d536",
   "metadata": {
    "slideshow": {
     "slide_type": "subslide"
    }
   },
   "source": [
    "L'utilisation de fonctions améliore les aspects suivants du code :\n",
    "\n",
    "-  **Lisibilité :** \n",
    "    - isoler une partie du programme (par exemple un gros calcul compliqué)\n",
    "    - éviter une trop grande imbrication des `if`, des `while`\n",
    "-  **Modularité et robustesse:** \n",
    "    - réutiliser le même code plusieurs fois (évite de recopier le code)\n",
    "    - faciliter la correction des bugs, l'évolution et la maintenance\n",
    "-  **Généricité :**\n",
    "    - changer la valeur des paramètres (même calcul mais avec différentes valeurs de départ)"
   ]
  },
  {
   "cell_type": "markdown",
   "id": "2a17a622",
   "metadata": {
    "slideshow": {
     "slide_type": "slide"
    }
   },
   "source": [
    "### Fonctions prédéfinies et bibliothèque standard\n",
    "\n",
    "En Python, il existe un grand nombre de fonctions prédéfinies, que nous avons déjà utilisées, par exemple :\n",
    "\n",
    "* `int(obj)` : 1 paramètre, 1 résultat. Reçoit en paramètre un objet (par exemple `str` ou `float`), essaie de le transformer en entier et renvoie l'entier obtenu."
   ]
  },
  {
   "cell_type": "code",
   "execution_count": 1,
   "id": "50e7cab6",
   "metadata": {
    "slideshow": {
     "slide_type": "-"
    }
   },
   "outputs": [
    {
     "data": {
      "text/plain": [
       "34"
      ]
     },
     "execution_count": 1,
     "metadata": {},
     "output_type": "execute_result"
    }
   ],
   "source": [
    "int(\"34\")"
   ]
  },
  {
   "cell_type": "markdown",
   "id": "523acb64",
   "metadata": {
    "slideshow": {
     "slide_type": "subslide"
    }
   },
   "source": [
    "* `len(obj)` : 1 paramètre, 1 résultat. Reçoit un objet (par exemple `str`) et renvoie sa longueur."
   ]
  },
  {
   "cell_type": "code",
   "execution_count": 2,
   "id": "5457f05d",
   "metadata": {
    "slideshow": {
     "slide_type": "-"
    }
   },
   "outputs": [
    {
     "data": {
      "text/plain": [
       "7"
      ]
     },
     "execution_count": 2,
     "metadata": {},
     "output_type": "execute_result"
    }
   ],
   "source": [
    "len(\"bonjour\")"
   ]
  },
  {
   "cell_type": "markdown",
   "id": "1dd25499",
   "metadata": {
    "slideshow": {
     "slide_type": "subslide"
    }
   },
   "source": [
    "* `randint(mini, maxi)` : 2 paramètres, 1 résultat. Reçoit deux nombres, et renvoie un entier aléatoire compris entre ces deux nombres (inclus)."
   ]
  },
  {
   "cell_type": "code",
   "execution_count": 3,
   "id": "c8b2265a",
   "metadata": {
    "slideshow": {
     "slide_type": "-"
    }
   },
   "outputs": [
    {
     "data": {
      "text/plain": [
       "8"
      ]
     },
     "execution_count": 3,
     "metadata": {},
     "output_type": "execute_result"
    }
   ],
   "source": [
    "from random import randint\n",
    "randint(1, 34)"
   ]
  },
  {
   "cell_type": "markdown",
   "id": "f4486a92",
   "metadata": {
    "slideshow": {
     "slide_type": "subslide"
    }
   },
   "source": [
    "Il y en a beaucoup d'autres, comme `print, input, float, str...`.\n",
    "\n",
    "Ces fonctions sont appelées _prédéfinies_ (ou _built-in_)\n",
    "- il est inutile de les connaître toutes par coeur\n",
    "- liste des fonctions prédéfinies sur [cette page](https://docs.python.org/3/library/functions.html)"
   ]
  },
  {
   "cell_type": "markdown",
   "id": "2f0cec74",
   "metadata": {
    "slideshow": {
     "slide_type": "subslide"
    }
   },
   "source": [
    "Il existe également de nombreux _modules_ officiels (par exemple le module `random`)\n",
    "- bibliothèques de fonctions, de types et d'objets\n",
    "- liste des modules prédéfinis documentée [ici](https://docs.python.org/3/library)."
   ]
  },
  {
   "cell_type": "markdown",
   "id": "b7b4716b",
   "metadata": {
    "slideshow": {
     "slide_type": "slide"
    }
   },
   "source": [
    "### Définition de fonction\n",
    "\n",
    "Pour définir une nouvelle fonction on utilise la syntaxe suivante :\n",
    "\n",
    "```python\n",
    "# ligne suivante : en-tête de fonction\n",
    "def nom_fonction(param_1, ..., param_n):  \n",
    "    # corps de la fonction\n",
    "    # utilisant param_1 à param_n\n",
    "    ...\n",
    "    # peut renvoyer un résultat :\n",
    "    return resultat\n",
    "```\n",
    "\n",
    "Une fonction peut :\n",
    "\n",
    "* prendre un certain nombre de paramètres (ici, $n$, qui s'appellent `param_1` à `param_n`)\n",
    "* renvoyer une valeur (via l’instruction `return`)"
   ]
  },
  {
   "cell_type": "markdown",
   "id": "3b7c56ca",
   "metadata": {
    "slideshow": {
     "slide_type": "slide"
    }
   },
   "source": [
    "### Appel de fonction\n",
    "\n",
    "Une fois définie, `nom_fonction` peut être utilisée dans le code (on parle d'un **appel**) en indiquant entre parenthèses ses paramètres séparés par des virgules :\n",
    "\n",
    "```python\n",
    "# définition de fonction\n",
    "def nom_fonction(param_1, ..., param_n): \n",
    "    ...\n",
    "\n",
    "# reste du programme \n",
    "...\n",
    "# appel de la fonction :\n",
    "une_var = nom_fonction(expr_1, ..., expr_n)\n",
    "```"
   ]
  },
  {
   "cell_type": "markdown",
   "id": "06e7ae71",
   "metadata": {
    "slideshow": {
     "slide_type": "slide"
    }
   },
   "source": [
    "### Exemples"
   ]
  },
  {
   "cell_type": "markdown",
   "id": "f9eb5168",
   "metadata": {
    "slideshow": {
     "slide_type": "slide"
    }
   },
   "source": [
    "#### Fonction à paramètres et résultat"
   ]
  },
  {
   "cell_type": "code",
   "execution_count": 4,
   "id": "d5508e0d",
   "metadata": {
    "slideshow": {
     "slide_type": "-"
    }
   },
   "outputs": [],
   "source": [
    "# fonction à deux paramètres produisant un résultat\n",
    "def maximum(a, b):\n",
    "    if a >= b:\n",
    "        return a\n",
    "    else:\n",
    "        return b"
   ]
  },
  {
   "cell_type": "code",
   "execution_count": 5,
   "id": "d368c3ea",
   "metadata": {
    "slideshow": {
     "slide_type": "subslide"
    }
   },
   "outputs": [
    {
     "name": "stdout",
     "output_type": "stream",
     "text": [
      "le max de 14 et 31 est 31\n",
      "le max de 14 et 31 est 31\n"
     ]
    }
   ],
   "source": [
    "nb1 = 14\n",
    "nb2 = 31\n",
    "\n",
    "maximum(nb1, nb2)  # ne sert à rien !!\n",
    "\n",
    "# On appelle la fonction et on garde le résultat dans c :\n",
    "c = maximum(nb1, nb2)\n",
    "print(\"le max de\", nb1, \"et\", nb2, \"est\", c)\n",
    "\n",
    "# On peut aussi utiliser directement le résultat :\n",
    "print(\"le max de\", nb1, \"et\", nb2, \"est\", maximum(nb1, nb2))"
   ]
  },
  {
   "cell_type": "markdown",
   "id": "46e1e878",
   "metadata": {
    "slideshow": {
     "slide_type": "subslide"
    }
   },
   "source": [
    "**Entraînement :** \n",
    "\n",
    "- Décrire l'exécution pas à pas du programme (avec état de la mémoire). On peut aussi essayer avec [Python Tutor](http://www.pythontutor.com/visualize.html#code=%23%20fonction%20%C3%A0%20deux%20param%C3%A8tres,%20sans%20effet%20de%20bord%0Adef%20maximum%28a,%20b%29%3A%0A%20%20%20%20if%20a%20%3E%20b%3A%0A%20%20%20%20%20%20%20%20return%20a%0A%20%20%20%20else%3A%0A%20%20%20%20%20%20%20%20return%20b%0A%20%20%20%20%0Anb1%20%3D%20int%28input%28%29%29%0Anb2%20%3D%20int%28input%28%29%29%0A%0A%23%20On%20appelle%20la%20fonction%20et%20on%20garde%20le%20r%C3%A9sultat%20dans%20c%20%3A%0Ac%20%3D%20maximum%28nb1,%20nb2%29%0Aprint%28%22le%20max%20de%22,%20nb1,%20%22et%22,%20nb2,%20%22est%22,%20c%29%0A%0A%23%20On%20peut%20aussi%20utiliser%20directement%20le%20r%C3%A9sultat%20%3A%0Aprint%28%22le%20max%20de%22,%20nb1,%20%22et%22,%20nb2,%20%22est%22,%20maximum%28nb1,%20nb2%29%29&cumulative=false&curInstr=0&heapPrimitives=true&mode=display&origin=opt-frontend.js&py=3&rawInputLstJSON=%5B%5D&textReferences=false).\n",
    "- Dresser un tableau de valeurs de l'exécution du programme"
   ]
  },
  {
   "cell_type": "markdown",
   "id": "9152f2ef",
   "metadata": {
    "slideshow": {
     "slide_type": "slide"
    }
   },
   "source": [
    "#### Fonction sans paramètre\n",
    "\n",
    "- En principe, une fonction sans paramètre devrait avoir toujours le même comportement\n",
    "- Dans l'exemple suivant, on utilise un générateur pseudo-aléatoire, ce qui explique que la fonction ne renvoie pas toujours le même résultat\n",
    "- Une fonction pourrait aussi recevoir des données depuis l'extérieur (utilisateur, requête réseau...).\n",
    "\n",
    "Dans ces cas, on parle de **causes secondaires**"
   ]
  },
  {
   "cell_type": "code",
   "execution_count": 6,
   "id": "5ed2b1f1",
   "metadata": {
    "slideshow": {
     "slide_type": "subslide"
    }
   },
   "outputs": [
    {
     "name": "stdout",
     "output_type": "stream",
     "text": [
      "Obtenu un 6 en 4 jets de dé.\n"
     ]
    }
   ],
   "source": [
    "from random import randint\n",
    "\n",
    "def lance_de() :\n",
    "    return randint(1,6)\n",
    "\n",
    "compteur = 1\n",
    "while lance_de() != 6: \n",
    "    compteur = compteur + 1\n",
    "print('Obtenu un 6 en', compteur, 'jets de dé.')"
   ]
  },
  {
   "cell_type": "markdown",
   "id": "5af82e2b",
   "metadata": {
    "slideshow": {
     "slide_type": "slide"
    }
   },
   "source": [
    "#### Fonction sans valeur de retour\n",
    "\n",
    "- Si l'exécution arrive à la dernière instruction du corps de la fonction sans rencontrer d'instruction `return expr`, alors la valeur de retour par défaut est `None` (même comportement si `return` seul)\n",
    "- En général une telle fonction a quand même un effet sur l'environnement (affichages, dessin, écriture dans un fichier, envoi d'informations sur le réseau...)\n",
    "\n",
    "Pour tous les effets autres que le renvoi d'un résultat, on parle d'**effets secondaires**"
   ]
  },
  {
   "cell_type": "code",
   "execution_count": 7,
   "id": "45dbf367",
   "metadata": {
    "slideshow": {
     "slide_type": "subslide"
    }
   },
   "outputs": [],
   "source": [
    "from turtle import *\n",
    "\n",
    "def trace_polygone(nb_cotes, taille_cote):\n",
    "    down()\n",
    "    i = 0\n",
    "    while i < nb_cotes:\n",
    "        forward(taille_cote)\n",
    "        left(360 / nb_cotes)\n",
    "        i = i + 1\n",
    "\n",
    "# faire une affectation ici ne servirait à rien (essayer !)\n",
    "trace_polygone(5, 100)\n",
    "exitonclick()"
   ]
  },
  {
   "cell_type": "markdown",
   "id": "8ef9a311",
   "metadata": {
    "slideshow": {
     "slide_type": "slide"
    }
   },
   "source": [
    "### Erreur fréquente : confusion (paramètre / saisie) et (retour / affichage)\n",
    "\n",
    "Les programmeurs débutants confondent très souvent la notion de paramètre et celle de saisie (au clavier par exemple) et la notion de valeur de retour avec celle de valeur affichée. "
   ]
  },
  {
   "cell_type": "code",
   "execution_count": 8,
   "id": "cfa42143",
   "metadata": {
    "slideshow": {
     "slide_type": "-"
    }
   },
   "outputs": [],
   "source": [
    "# ATTENTION CECI EST INCORRECT, A NE PAS REPRODUIRE !!!\n",
    "def pgcd(a, b):\n",
    "    a = int(input())  # NON !\n",
    "    b = int(input())  # NON !\n",
    "    while a % b != 0:\n",
    "        r = a % b\n",
    "        a = b\n",
    "        b = r\n",
    "    print(\"le pgcd est\", b)  # NON !"
   ]
  },
  {
   "cell_type": "markdown",
   "id": "4e0a6cf8",
   "metadata": {
    "slideshow": {
     "slide_type": "subslide"
    }
   },
   "source": [
    "<div style='color:red'>NE SURTOUT PAS PROGRAMMER COMME ÇA !</div>\n",
    "\n",
    "- Comment écrire un programme vérifiant si trois entiers sont\n",
    "  premiers entre eux à l'aide de cette fonction ?\n",
    "- Combien ce programme ferait-il de saisies ?\n",
    "- Qu'afficherait ce programme ?"
   ]
  },
  {
   "cell_type": "code",
   "execution_count": 9,
   "id": "d4ad08e6",
   "metadata": {
    "slideshow": {
     "slide_type": "-"
    }
   },
   "outputs": [
    {
     "ename": "TypeError",
     "evalue": "pgcd() missing 2 required positional arguments: 'a' and 'b'",
     "output_type": "error",
     "traceback": [
      "\u001b[0;31m---------------------------------------------------------------------------\u001b[0m",
      "\u001b[0;31mTypeError\u001b[0m                                 Traceback (most recent call last)",
      "\u001b[0;32m/tmp/ipykernel_45904/1383459214.py\u001b[0m in \u001b[0;36m<module>\u001b[0;34m\u001b[0m\n\u001b[1;32m      1\u001b[0m \u001b[0;31m# essayons de calculer le pgcd de trois nombres\u001b[0m\u001b[0;34m\u001b[0m\u001b[0;34m\u001b[0m\u001b[0m\n\u001b[0;32m----> 2\u001b[0;31m \u001b[0mpgcd\u001b[0m\u001b[0;34m(\u001b[0m\u001b[0;34m)\u001b[0m  \u001b[0;31m# saisit deux nombres et calcule leur pgcd\u001b[0m\u001b[0;34m\u001b[0m\u001b[0;34m\u001b[0m\u001b[0m\n\u001b[0m\u001b[1;32m      3\u001b[0m \u001b[0;34m...\u001b[0m     \u001b[0;31m# je ne sais pas comment continuer !\u001b[0m\u001b[0;34m\u001b[0m\u001b[0;34m\u001b[0m\u001b[0m\n",
      "\u001b[0;31mTypeError\u001b[0m: pgcd() missing 2 required positional arguments: 'a' and 'b'"
     ]
    }
   ],
   "source": [
    "# essayons de calculer le pgcd de trois nombres\n",
    "pgcd()  # saisit deux nombres et calcule leur pgcd\n",
    "...     # je ne sais pas comment continuer ! "
   ]
  },
  {
   "cell_type": "markdown",
   "id": "f22cfb96",
   "metadata": {
    "slideshow": {
     "slide_type": "slide"
    }
   },
   "source": [
    "## Approfondissement\n",
    "\n",
    "### Composition de fonctions"
   ]
  },
  {
   "cell_type": "code",
   "execution_count": null,
   "id": "1bccea6f",
   "metadata": {
    "slideshow": {
     "slide_type": "-"
    }
   },
   "outputs": [],
   "source": [
    "def pgcd(a, b):\n",
    "    while a % b != 0:\n",
    "        r = a % b\n",
    "        a = b\n",
    "        b = r\n",
    "    return b"
   ]
  },
  {
   "cell_type": "code",
   "execution_count": null,
   "id": "62894e26",
   "metadata": {
    "slideshow": {
     "slide_type": "subslide"
    }
   },
   "outputs": [],
   "source": [
    "def simplifier(num, denom):\n",
    "    d = pgcd(num, denom)\n",
    "    return (num // d, denom // d)"
   ]
  },
  {
   "cell_type": "code",
   "execution_count": null,
   "id": "f89ed34b",
   "metadata": {
    "slideshow": {
     "slide_type": "-"
    }
   },
   "outputs": [],
   "source": [
    "simplifier(8, 6)"
   ]
  },
  {
   "cell_type": "code",
   "execution_count": null,
   "id": "75e59d57",
   "metadata": {
    "slideshow": {
     "slide_type": "-"
    }
   },
   "outputs": [],
   "source": [
    "simplifier(21, 39)"
   ]
  },
  {
   "cell_type": "code",
   "execution_count": null,
   "id": "7c1c1ea9",
   "metadata": {
    "slideshow": {
     "slide_type": "subslide"
    }
   },
   "outputs": [],
   "source": [
    "def pgcd3(a, b, c):\n",
    "    d = pgcd(a, b)\n",
    "    return pgcd(c, d)"
   ]
  },
  {
   "cell_type": "code",
   "execution_count": null,
   "id": "9d3471f5",
   "metadata": {
    "slideshow": {
     "slide_type": "-"
    }
   },
   "outputs": [],
   "source": [
    "pgcd3(18, 27, 12)"
   ]
  },
  {
   "cell_type": "code",
   "execution_count": null,
   "id": "740f35e6",
   "metadata": {
    "slideshow": {
     "slide_type": "-"
    }
   },
   "outputs": [],
   "source": [
    "pgcd3(12, 10, 15)"
   ]
  },
  {
   "cell_type": "markdown",
   "id": "010b35a1",
   "metadata": {
    "slideshow": {
     "slide_type": "slide"
    }
   },
   "source": [
    "### Fonctions et espaces de noms\n",
    "\n",
    "Point de vigilance :\n",
    "- les paramètres et variables définies dans le corps d'une fonction sont indépendantes des autres variables du programme \n",
    "- elles n'existent plus une fois l'exécution de la fonction terminée\n",
    "- on les appelle des variables *locales*"
   ]
  },
  {
   "cell_type": "markdown",
   "id": "5148780e",
   "metadata": {
    "slideshow": {
     "slide_type": "subslide"
    }
   },
   "source": [
    "Reprenons un exemple précédent en changeant le nom des variables :"
   ]
  },
  {
   "cell_type": "code",
   "execution_count": null,
   "id": "1b3f38a4",
   "metadata": {
    "slideshow": {
     "slide_type": "-"
    }
   },
   "outputs": [],
   "source": [
    "%%nbtutor -r -f\n",
    "\n",
    "def maximum(a, b):\n",
    "    if a > b:\n",
    "        b = a\n",
    "    return b\n",
    "\n",
    "nb1 = 13\n",
    "nb2 = 3\n",
    "c = maximum(nb1, nb2)\n",
    "print(\"le max de\", nb1, \"et\", nb2, \"est\", c)"
   ]
  },
  {
   "cell_type": "markdown",
   "id": "c5a0943e",
   "metadata": {
    "slideshow": {
     "slide_type": "-"
    }
   },
   "source": [
    "**Entraînement :** Décrire l'exécution pas à pas du programme (avec état de la mémoire).\n",
    "\n",
    "**À retenir :** Changer les valeurs de `a` et `b` dans la fonction n'a pas d'effet sur `nb1` et `nb2` !"
   ]
  },
  {
   "cell_type": "markdown",
   "id": "2c35d6e6",
   "metadata": {
    "slideshow": {
     "slide_type": "subslide"
    }
   },
   "source": [
    "On renomme cette fois les variables globales du programme :"
   ]
  },
  {
   "cell_type": "code",
   "execution_count": null,
   "id": "14f5b9bc",
   "metadata": {
    "slideshow": {
     "slide_type": "-"
    }
   },
   "outputs": [],
   "source": [
    "%%nbtutor -r -f\n",
    "\n",
    "def maximum(a, b):\n",
    "    if a > b:\n",
    "        b = a\n",
    "    return b\n",
    "\n",
    "a = 13\n",
    "b = 3\n",
    "c = maximum(a, b)\n",
    "print(\"le max de\", a, \"et\", b, \"est\", c)"
   ]
  },
  {
   "cell_type": "markdown",
   "id": "ff3ad917",
   "metadata": {
    "slideshow": {
     "slide_type": "-"
    }
   },
   "source": [
    "**Entraînement :** Décrire l'exécution pas à pas du programme (avec état de la mémoire).\n",
    "\n",
    "**À retenir :** Changer les valeurs de `a` et `b` dans la fonction n'a pas d'effet sur `a` et `b` dans le programme principal !"
   ]
  },
  {
   "cell_type": "markdown",
   "id": "aab72e4f",
   "metadata": {
    "slideshow": {
     "slide_type": "subslide"
    }
   },
   "source": [
    "#### Autre exemple important\n",
    "\n",
    "Essayons d'écrire une fonction permettant d'intervertir les valeurs de deux variables :"
   ]
  },
  {
   "cell_type": "code",
   "execution_count": null,
   "id": "89153f74",
   "metadata": {
    "slideshow": {
     "slide_type": "-"
    }
   },
   "outputs": [],
   "source": [
    "# %%nbtutor -r -f  # commenter si nb_tutor non installé\n",
    "\n",
    "def echange(a, b):\n",
    "    temp = a\n",
    "    a = b\n",
    "    b = temp\n",
    "\n",
    "x = 1\n",
    "y = 2\n",
    "echange(x, y)\n",
    "print(x, y)\n",
    "print(temp)"
   ]
  },
  {
   "cell_type": "markdown",
   "id": "cc964dfc",
   "metadata": {
    "slideshow": {
     "slide_type": "-"
    }
   },
   "source": [
    "**Entraînement :** Décrire l'exécution pas à pas du programme (avec état de la mémoire).\n",
    "\n",
    "**À retenir :** \n",
    "- changer les valeurs de `a` et `b` dans la fonction n'a pas d'effet sur `x` et `y` dans le programme principal !\n",
    "- la variable `temp` n'existe plus après l'exécution de la fonction"
   ]
  },
  {
   "cell_type": "markdown",
   "id": "0e198b3a",
   "metadata": {
    "slideshow": {
     "slide_type": "slide"
    }
   },
   "source": [
    "### Sémantique d'un appel\n",
    "\n",
    "Au moment d'un appel de fonction, un espace de noms local est créé. Il associe à chacun des paramètres la valeur de l'expression correspondante dans l'appel. Les variables locales sont également créées dans ces espace de noms."
   ]
  },
  {
   "cell_type": "markdown",
   "id": "347d22fe",
   "metadata": {
    "slideshow": {
     "slide_type": "slide"
    }
   },
   "source": [
    "#### Espace de noms\n",
    "\n",
    "Un **espace de noms** est un ensemble de noms (de variables, de fonctions...) défini à un certain point d'un programme"
   ]
  },
  {
   "cell_type": "markdown",
   "id": "0c5526f8",
   "metadata": {
    "slideshow": {
     "slide_type": "subslide"
    }
   },
   "source": [
    "L'ensemble de tous les noms connus à un point du programme est généralement constitué de plusieurs espaces de noms superposés (du plus ancien au plus récent) :\n",
    "\n",
    "- espace de noms prédéfini (*built-in*)\n",
    "- espace de noms global\n",
    "    - noms définis dans le programme principal\n",
    "- empilement des espaces de noms locaux des appels de fonction en cours\n",
    "    - dans l'ordre chronologique\n",
    "    - contenant chacun les paramètres de l'appel correspondant\n",
    "    - contenant chacun les variables locales à cette fonction"
   ]
  },
  {
   "cell_type": "markdown",
   "id": "6a0f9f38",
   "metadata": {
    "slideshow": {
     "slide_type": "slide"
    }
   },
   "source": [
    "#### Pile d'appels\n",
    "\n",
    "L'empilement des espaces de noms obéit à une politique de **pile**\n",
    "\n",
    "- sommet : appel en cours\n",
    "- en-dessous : appels précédents\n",
    "- *(presque)* tout en bas : espace de nom global\n",
    "\n",
    "Dans Python Tutor : le plus récent est en bas..."
   ]
  },
  {
   "cell_type": "markdown",
   "id": "7a102062",
   "metadata": {
    "slideshow": {
     "slide_type": "subslide"
    }
   },
   "source": [
    "Quand l'appel en cours se termine\n",
    "\n",
    "- son espace de nom est supprimé de la pile\n",
    "- l'exécution de l'appel précédent reprend"
   ]
  },
  {
   "cell_type": "markdown",
   "id": "3666bf87",
   "metadata": {
    "slideshow": {
     "slide_type": "subslide"
    }
   },
   "source": [
    "Quand un nouvel appel commence :\n",
    "\n",
    "- l'exécution de la fonction en cours s'interrompt\n",
    "- un nouvel espace de noms local est créé \n",
    "- l'exécution de la fonction appelée commence"
   ]
  },
  {
   "cell_type": "markdown",
   "id": "7ef24c0b",
   "metadata": {
    "slideshow": {
     "slide_type": "subslide"
    }
   },
   "source": [
    "Quand une erreur se produit pendant l'exécution d'un appel :\n",
    "\n",
    "- la ligne en cours de chaque appel est affiché (du plus ancien au plus récent)\n",
    "- nom technique : « traceback »"
   ]
  },
  {
   "cell_type": "code",
   "execution_count": null,
   "id": "4175d7e2",
   "metadata": {
    "slideshow": {
     "slide_type": "subslide"
    }
   },
   "outputs": [],
   "source": [
    "simplifier(4, 0)"
   ]
  },
  {
   "cell_type": "markdown",
   "id": "a3fa6e23",
   "metadata": {
    "slideshow": {
     "slide_type": "slide"
    }
   },
   "source": [
    "#### Portée des variables\n",
    "\n",
    "Accès à la valeur d'une variable : \n",
    "\n",
    "- possible pour n'importe quel nom défini dans un des espaces de noms antérieurs\n",
    "- si plusieurs espaces contiennent le même nom, c'est le plus récent qui est sélectionné"
   ]
  },
  {
   "cell_type": "markdown",
   "id": "5241109f",
   "metadata": {
    "slideshow": {
     "slide_type": "subslide"
    }
   },
   "source": [
    "Affectation :\n",
    "\n",
    "- par défaut, uniquement aux variables locales\n",
    "- pour une variable dans un espace de nom plus ancien, mots-clés `global` ou `nonlocal` (à utiliser avec précaution)"
   ]
  },
  {
   "cell_type": "markdown",
   "id": "e6712697",
   "metadata": {
    "slideshow": {
     "slide_type": "slide"
    }
   },
   "source": [
    "#### Déroulement détaillé d'un appel\n",
    "\n",
    "Considérons l'appel suivant :\n",
    "\n",
    "```python\n",
    "def ma_fonction(p_1, ..., p_n):\n",
    "    ...\n",
    "    return expr\n",
    "\n",
    "# Appel de fonction (à l'intérieur d'une expression)\n",
    "... ma_fonction(e_1, ..., e_n) ...\n",
    "```"
   ]
  },
  {
   "cell_type": "markdown",
   "id": "0c5e129a",
   "metadata": {
    "slideshow": {
     "slide_type": "subslide"
    }
   },
   "source": [
    "Succession des étapes de l'appel :\n",
    "\n",
    "- création d'un espace de noms local contenant `p_1` à `p_n` au sommet de la pile d'appels\n",
    "- chaque expression `e_i` est évaluée en une valeur `v_i` et affectée à la variable `p_i`\n",
    "- exécution du corps de la fonction dans l'espace de noms local\n",
    "- si la fonction exécute l'instruction `return expr` ou atteint la fin de son bloc d'instructions\n",
    "    - l'espace de noms local est détruit \n",
    "    - l'expression appelante `ma_fonction(e_1, ..., e_n)` prend la valeur de `expr` (respectivement `None`)\n",
    "- reprise du programme principal dans l'espace global"
   ]
  },
  {
   "cell_type": "markdown",
   "id": "26550274",
   "metadata": {
    "slideshow": {
     "slide_type": "subslide"
    }
   },
   "source": [
    "Vocabulaire :\n",
    "\n",
    "- les noms `p_1` à `p_n` sont appelés _paramètres formels_ (ou _paramètres_ tout court)\n",
    "- les valeurs `v_1` à `v_n` sont appelées _paramètres effectifs_ (ou _arguments_)"
   ]
  },
  {
   "cell_type": "markdown",
   "id": "dbcb7fe0",
   "metadata": {
    "slideshow": {
     "slide_type": "slide"
    }
   },
   "source": [
    "### Documentation et test de fonctions\n",
    "\n",
    "#### Chaînes de documentation (*docstring*)\n",
    "\n",
    "Bonne pratique : indiquer par un commentaire\n",
    "- à quoi sert une fonction\n",
    "- ce que représentent ses paramètres et leur type\n",
    "- ce que représente sa valeur de retour\n",
    "- d'éventuels effets ou causes secondaires"
   ]
  },
  {
   "cell_type": "code",
   "execution_count": null,
   "id": "8a8fe99c",
   "metadata": {
    "slideshow": {
     "slide_type": "subslide"
    }
   },
   "outputs": [],
   "source": [
    "def triple(n):\n",
    "    \"\"\"\n",
    "    Fonction calculant le triple du nombre n (int ou float) \n",
    "    ou la répétition trois fois de la chaîne n.\n",
    "    \"\"\"\n",
    "    return n * 3"
   ]
  },
  {
   "cell_type": "markdown",
   "id": "4a0cc5b6",
   "metadata": {
    "slideshow": {
     "slide_type": "subslide"
    }
   },
   "source": [
    "On peut accéder à la chaîne de documentation d'une fonction en tapant `help(nom de la fonction)` dans l'interpréteur :"
   ]
  },
  {
   "cell_type": "code",
   "execution_count": null,
   "id": "94b6b91b",
   "metadata": {
    "slideshow": {
     "slide_type": "-"
    }
   },
   "outputs": [],
   "source": [
    "help(triple)"
   ]
  },
  {
   "cell_type": "markdown",
   "id": "b81a4ecb",
   "metadata": {
    "slideshow": {
     "slide_type": "subslide"
    }
   },
   "source": [
    "Cela fonctionne aussi pour les fonctions prédéfinies ou issues de modules :"
   ]
  },
  {
   "cell_type": "code",
   "execution_count": null,
   "id": "f0f4373c",
   "metadata": {
    "slideshow": {
     "slide_type": "-"
    }
   },
   "outputs": [],
   "source": [
    "from random import randint\n",
    "help(randint)"
   ]
  },
  {
   "cell_type": "markdown",
   "id": "1baf631d",
   "metadata": {
    "slideshow": {
     "slide_type": "slide"
    }
   },
   "source": [
    "#### Tests intégrés à la documentation (*doctest*)\n",
    "\n",
    "Comme tout morceau de programme, chaque fonction doit être *testée* immédiatement pour s'assurer qu'elle fonctionne."
   ]
  },
  {
   "cell_type": "code",
   "execution_count": null,
   "id": "c9969a5a",
   "metadata": {
    "slideshow": {
     "slide_type": "-"
    }
   },
   "outputs": [],
   "source": [
    "triple(3)"
   ]
  },
  {
   "cell_type": "code",
   "execution_count": null,
   "id": "e7887a83",
   "metadata": {
    "slideshow": {
     "slide_type": "-"
    }
   },
   "outputs": [],
   "source": [
    "triple(9.0)"
   ]
  },
  {
   "cell_type": "markdown",
   "id": "5032f5c6",
   "metadata": {
    "slideshow": {
     "slide_type": "subslide"
    }
   },
   "source": [
    "Plutôt que de perdre ces tests, il est utile de les intégrer à la documentation de la fonction, pour pouvoir s'y référer plus tard. Si l'on change le code de la fonction, cela permet aussi de vérifier que son comportement reste correct."
   ]
  },
  {
   "cell_type": "code",
   "execution_count": null,
   "id": "039d8cf0",
   "metadata": {
    "slideshow": {
     "slide_type": "-"
    }
   },
   "outputs": [],
   "source": [
    "def triple(n):\n",
    "    \"\"\"\n",
    "    Fonction calculant le triple du nombre n (int ou float) \n",
    "    ou la répétition trois fois de la chaîne n.\n",
    "    \n",
    "    >>> triple(3)\n",
    "    9\n",
    "    >>> triple(9.0)\n",
    "    27.0\n",
    "    \"\"\"\n",
    "    return n * 3"
   ]
  },
  {
   "cell_type": "markdown",
   "id": "fb38b5fc",
   "metadata": {
    "slideshow": {
     "slide_type": "subslide"
    }
   },
   "source": [
    "Il existe des outils qui permettent de lancer automatiquement tous les tests présents dans la documentation, et de vérifier qu'ils produisent les résultats annoncés."
   ]
  },
  {
   "cell_type": "markdown",
   "id": "cfa2fbef",
   "metadata": {
    "slideshow": {
     "slide_type": "-"
    }
   },
   "source": [
    "Par exemple, à la fin d'un programme, on peut écrire le code suivant pour lancer systématiquement tous les tests présents dans le fichier :\n",
    "\n",
    "```python\n",
    "import doctest\n",
    "doctest.testmod()\n",
    "```\n",
    "\n",
    "Exemple :"
   ]
  },
  {
   "cell_type": "code",
   "execution_count": null,
   "id": "7d7077c4",
   "metadata": {
    "slideshow": {
     "slide_type": "subslide"
    }
   },
   "outputs": [],
   "source": [
    "def triple(n):\n",
    "    \"\"\"\n",
    "    Fonction calculant le triple du nombre n (int ou float) \n",
    "    ou la répétition trois fois de la chaîne n.\n",
    "    \n",
    "    >>> triple(3)\n",
    "    9\n",
    "    >>> triple(9.0)\n",
    "    27.0\n",
    "    >>> triple('pom')\n",
    "    'pompompom'\n",
    "    \"\"\"\n",
    "    return n * 3"
   ]
  },
  {
   "cell_type": "code",
   "execution_count": null,
   "id": "535b655d",
   "metadata": {
    "slideshow": {
     "slide_type": "subslide"
    }
   },
   "outputs": [],
   "source": [
    "def racine(n):\n",
    "    \"\"\"\n",
    "    Fonction calculant la racine carrée du nombre n.\n",
    "    \n",
    "    >>> racine(0)\n",
    "    0.0\n",
    "    >>> racine(1)\n",
    "    1.0\n",
    "    >>> racine(4)\n",
    "    2.0\n",
    "    \"\"\"\n",
    "    return n ** (1/2)"
   ]
  },
  {
   "cell_type": "code",
   "execution_count": null,
   "id": "a920aba0",
   "metadata": {
    "slideshow": {
     "slide_type": "subslide"
    }
   },
   "outputs": [],
   "source": [
    "import doctest\n",
    "doctest.testmod()"
   ]
  },
  {
   "cell_type": "markdown",
   "id": "7689ca42",
   "metadata": {
    "slideshow": {
     "slide_type": "slide"
    }
   },
   "source": [
    "#### <img src='img/non-exigible.png' width='40px' style='display:inline'> Annotations de type\n",
    "\n",
    "Tout ce qui suit est *non exigible en contrôle*.\n",
    "\n",
    "On peut également préciser le type des paramètres et du résultat d'une fonction à l'aide d'annotations de type\n",
    "- Ces annotations ne sont pas vérifiées directement par Python\n",
    "- Elles sont utilisées par certains environnements de développement (IDE) comme PyCharm, VSCode, etc. pour fournir de l'information à l'utilisateur.ice\n",
    "- Voir la documentation [ici par exemple](https://docs.python.org/fr/3/library/typing.html)"
   ]
  },
  {
   "cell_type": "code",
   "execution_count": null,
   "id": "1bd4bf20",
   "metadata": {
    "slideshow": {
     "slide_type": "subslide"
    }
   },
   "outputs": [],
   "source": [
    "def pgcd(a: int, b: int) -> int:\n",
    "    while a % b != 0:\n",
    "        r = a % b\n",
    "        a = b\n",
    "        b = r\n",
    "    return b"
   ]
  },
  {
   "cell_type": "code",
   "execution_count": null,
   "id": "9551639e",
   "metadata": {
    "slideshow": {
     "slide_type": "subslide"
    }
   },
   "outputs": [],
   "source": [
    "def salutation(nom: str) -> str:\n",
    "    return 'Bonjour ' + nom"
   ]
  },
  {
   "cell_type": "markdown",
   "id": "33eef292",
   "metadata": {},
   "source": [
    "## Listes "
   ]
  },
  {
   "cell_type": "markdown",
   "id": "98eec3ef",
   "metadata": {},
   "source": [
    "### Rappels \n",
    "\n",
    "**Objectif :** désigner avec une seule variable une collection de valeurs\n",
    "\n",
    "**Liste :** suite **indexée** (numérotée) d'objets quelconques (type `list` en python)\n",
    "\n",
    "-   Élements \"rangés\" dans des \"cases\" numérotées de 0 à $n-1$\n",
    "\n",
    "-   En mémoire : tableau à $n$ cases, chacune contenant une référence\n",
    "    (*\"flèche\"*) vers un objet\n",
    "\n",
    "-   Peut contenir des objets de plusieurs types différents\n",
    "\n",
    "-   **Mutable** : peut être modifiée, agrandie, raccourcie..."
   ]
  },
  {
   "cell_type": "markdown",
   "id": "c238d17d",
   "metadata": {},
   "source": [
    "<div style='float:left; margin-right:40pt; width:10cm'><img src='img/schema_list_py.png'></div>"
   ]
  },
  {
   "cell_type": "markdown",
   "id": "d7cf561d",
   "metadata": {},
   "source": [
    "#### Création et affichage\n",
    "\n",
    "**Création :** suite entre `[` et `]` d'expressions séparées par `,`"
   ]
  },
  {
   "cell_type": "code",
   "execution_count": null,
   "id": "96bfdd10",
   "metadata": {},
   "outputs": [],
   "source": [
    "lst = [3, 'toto', 4.5, False, None]\n",
    "print(lst)"
   ]
  },
  {
   "cell_type": "markdown",
   "id": "7cedcec9",
   "metadata": {},
   "source": [
    "Liste vide `[]` : liste ne contenant aucun objet"
   ]
  },
  {
   "cell_type": "code",
   "execution_count": null,
   "id": "4120c29b",
   "metadata": {},
   "outputs": [],
   "source": [
    "lst = []\n",
    "print(lst)"
   ]
  },
  {
   "cell_type": "markdown",
   "id": "ceb885aa",
   "metadata": {},
   "source": [
    "Une liste peut contenir d'autres listes !"
   ]
  },
  {
   "cell_type": "code",
   "execution_count": null,
   "id": "78731447",
   "metadata": {},
   "outputs": [],
   "source": [
    "lst = ['test', [1, [2], 3]]\n",
    "print(lst)"
   ]
  },
  {
   "cell_type": "markdown",
   "id": "f28a1378",
   "metadata": {},
   "source": [
    "[Exemple (Python tutor)](http://pythontutor.com/visualize.html#code=%23Cr%C3%A9ation%20et%20affichage%0A%0Alst_ex1%20%3D%20%5B1,%204.5,%20'toto',%20False%5D%0A%0Alst_vide%20%3D%20%5B%5D%0A%0Alst_ex2%20%3D%20%5B1,%202,%20%5B3,'haha'%5D,%20'hoho'%5D%0A%0Aprint%28%22Le%20premier%20exemple%20%3A%20%22,lst_ex1%29%0Aprint%28%22La%20liste%20vide%20%3A%20%22,%20lst_vide%29%0Aprint%28%22Le%20deuxi%C3%A8me%20exemple%20%3A%20%22,%20lst_ex2%29%0A%0A%23Acc%C3%A8s%20%C3%A0%20un%20%C3%A9l%C3%A9ment%0Ai%20%3D%202%0Aval_ex1%20%3D%20lst_ex1%5Bi%5D%0Aval_ex2%20%3D%20lst_ex2%5Bi%5D%0Aprint%28%22Les%20%C3%A9l%C3%A9ments%20d'indice%22,%20i,%20%22sont%22,%20val_ex1,%20%22et%22,%20val_ex2%29%0A%0A%23Longueur%0Ataille_ex1%20%3D%20len%28lst_ex1%29%0Ataille_vide%20%3D%20len%28lst_vide%29%0A%0Aprint%28%22La%20longueur%20de%20lst_ex2%20est%22,%20len%28lst_ex2%29%29%0A%0A%23Modification%20d'un%20%C3%A9l%C3%A9ment%0Alst_ex1%5B0%5D%20%3D%20%22allo%3F%3F%22%0Aval_ex2%5B1%5D%20%3D%20%22blop%22%0A%0Aprint%28%22Est-ce%20que%20lst_ex2%20est%20modifi%C3%A9e%3F%5Cn%22,%20lst_ex2%29%0A%0Alst_ex2%5B2%5D%20%3D%2042%0A%0Aprint%28%22Est-ce%20que%20val_ex2%20est%20modifi%C3%A9e%3F%5Cn%22,%20val_ex2%29%0A%0A%23ajout%20d'un%20%C3%A9l%C3%A9ment%0Alst_ex1.append%28%22et%20hop%22%29%0A%23retirer%20un%20%C3%A9l%C3%A9ment%20%28case%20d'indice%202%29%0Alst_ex1.pop%282%29%0A%23%20retirer%20le%20dernier%20%C3%A9l%C3%A9ment%0Alst_ex1.pop%28%29%0A%23%20encore%20une%20fois%20sans%20perdre%20la%20valeur%20en%20route%0Ares%20%3D%20lst_ex1.pop%28%29&cumulative=false&heapPrimitives=false&mode=edit&origin=opt-frontend.js&py=3&rawInputLstJSON=%5B%5D&textReferences=false)  \n",
    "(exemple filé à exploiter tout au long du cours)"
   ]
  },
  {
   "cell_type": "markdown",
   "id": "ab01aa59",
   "metadata": {},
   "source": [
    "### Opérations et fonctions de base"
   ]
  },
  {
   "cell_type": "markdown",
   "id": "4471eb26",
   "metadata": {},
   "source": [
    "### Longueur d'une liste\n",
    "\n",
    "La longueur d'une liste (le nombre d'éléments qu'elle contient) s'obtient par la fonction `len`."
   ]
  },
  {
   "cell_type": "code",
   "execution_count": null,
   "id": "5b15f997",
   "metadata": {},
   "outputs": [],
   "source": [
    "lst = [3, 'toto', 4.5, False, None]\n",
    "print(len(lst))"
   ]
  },
  {
   "cell_type": "code",
   "execution_count": null,
   "id": "21f2cc4b",
   "metadata": {},
   "outputs": [],
   "source": [
    "print(len([]))"
   ]
  },
  {
   "cell_type": "markdown",
   "id": "d610b4cf",
   "metadata": {},
   "source": [
    "### Accès aux éléments\n",
    "\n",
    "Les éléments d'une liste à $n$ éléments sont numérotés de 0 à $n-1$.  \n",
    "Le numéro d'un élément est appelé son *indice*.  \n",
    "L'accès à un élément donné s'appelle l'**indexation**."
   ]
  },
  {
   "cell_type": "code",
   "execution_count": null,
   "id": "f24df12e",
   "metadata": {},
   "outputs": [],
   "source": [
    "lst = [3, 'toto', 4.5]\n",
    "print(lst[1])"
   ]
  },
  {
   "cell_type": "markdown",
   "id": "00706751",
   "metadata": {},
   "source": [
    "<img src='img/warning.png' width='50px' style='display:inline'> **Attention !** \n",
    "\n",
    "- Le premier élément d'une liste est l'élément d'indice `0` !\n",
    "- Si la liste a `n` éléments, il n'existe pas d'élément d'indice `n` !\n",
    "- L'accès à un indice supérieur ou égal à la taille de la liste provoque une erreur !"
   ]
  },
  {
   "cell_type": "code",
   "execution_count": null,
   "id": "8f1273c2",
   "metadata": {},
   "outputs": [],
   "source": [
    "lst = [3, 'toto', 4.5]\n",
    "print(lst[3])"
   ]
  },
  {
   "cell_type": "markdown",
   "id": "047ecdd7",
   "metadata": {},
   "source": [
    "**Exercice :** Écrire une fonction qui affiche tous les éléments d'une liste (un par ligne)"
   ]
  },
  {
   "cell_type": "code",
   "execution_count": null,
   "id": "d60e3683",
   "metadata": {},
   "outputs": [],
   "source": [
    "def affiche_elements(lst):\n",
    "    ...\n",
    "\n",
    "lst = [3, 'toto', 4.5]\n",
    "affiche_elements(lst)"
   ]
  },
  {
   "cell_type": "code",
   "execution_count": null,
   "id": "0483343d",
   "metadata": {},
   "outputs": [],
   "source": [
    "def affiche_elements(lst):\n",
    "    i = 0\n",
    "    while i < len(lst):\n",
    "        print(lst[i])\n",
    "        i = i + 1\n",
    "\n",
    "\n",
    "lst = [3, 'toto', 4.5]\n",
    "affiche_elements(lst)"
   ]
  },
  {
   "cell_type": "markdown",
   "id": "c6043565",
   "metadata": {},
   "source": [
    "### Modification d'un élément\n",
    "\n",
    "On peut modifier le $i$-ème élément de `lst` à l'aide d'une affectation :"
   ]
  },
  {
   "cell_type": "code",
   "execution_count": null,
   "id": "dcf8fae2",
   "metadata": {},
   "outputs": [],
   "source": [
    "lst = [3, 'toto', 4.5, False, None]\n",
    "print(lst[2])\n",
    "lst[2] = 'titi'\n",
    "print(lst)"
   ]
  },
  {
   "cell_type": "markdown",
   "id": "cc4943ba",
   "metadata": {},
   "source": [
    "**Attention**, ceci ne crée pas une nouvelle liste mais modifie la\n",
    "liste sur place !"
   ]
  },
  {
   "cell_type": "code",
   "execution_count": null,
   "id": "4a804f03",
   "metadata": {},
   "outputs": [],
   "source": [
    "lst = [3, 'toto', 4.5, False, None]\n",
    "lst_bis = lst\n",
    "lst[2] = 'titi'\n",
    "lst_bis"
   ]
  },
  {
   "cell_type": "markdown",
   "id": "dad2c7ee",
   "metadata": {},
   "source": [
    "### Concaténation et répétition\n",
    "\n",
    "Comme pour les chaînes de caractères (`str`) on peut utiliser les opérateurs `+` pour fabriquer la concaténation de deux listes et `*` pour répéter une liste."
   ]
  },
  {
   "cell_type": "code",
   "execution_count": null,
   "id": "2af66b46",
   "metadata": {},
   "outputs": [],
   "source": [
    "[3, 'toto', 4.5] + [False, None]"
   ]
  },
  {
   "cell_type": "code",
   "execution_count": null,
   "id": "65586062",
   "metadata": {},
   "outputs": [],
   "source": [
    "[] + [3, 'toto', 4.5] + []"
   ]
  },
  {
   "cell_type": "code",
   "execution_count": null,
   "id": "0d3df735",
   "metadata": {},
   "outputs": [],
   "source": [
    "3 * ['a', 'b']"
   ]
  },
  {
   "cell_type": "code",
   "execution_count": null,
   "id": "2bdb534f",
   "metadata": {},
   "outputs": [],
   "source": [
    "[0] * 13"
   ]
  },
  {
   "cell_type": "markdown",
   "id": "ee86d8bf",
   "metadata": {},
   "source": [
    "On peut utiliser ces opérateurs pour recopier une liste. Comparer :"
   ]
  },
  {
   "cell_type": "code",
   "execution_count": null,
   "id": "7b831a58",
   "metadata": {},
   "outputs": [],
   "source": [
    "lst = [3, 'toto', 4.5]\n",
    "lst2 = lst\n",
    "lst3 = lst + []\n",
    "lst4 = lst * 1"
   ]
  },
  {
   "cell_type": "markdown",
   "id": "93df76a9",
   "metadata": {},
   "source": [
    "### Test d'appartenance\n",
    "\n",
    "**Exercice :** Écrire une fonction recevant une liste et une valeur, et\n",
    "renvoyant `True` si la valeur apparaît dans la liste (`False` sinon)"
   ]
  },
  {
   "cell_type": "code",
   "execution_count": null,
   "id": "31be741d",
   "metadata": {},
   "outputs": [],
   "source": [
    "def appartient(lst, val):\n",
    "    ..."
   ]
  },
  {
   "cell_type": "code",
   "execution_count": null,
   "id": "9666d498",
   "metadata": {},
   "outputs": [],
   "source": [
    "def appartient(lst, val):\n",
    "    i = 0\n",
    "    while i < len(lst):\n",
    "        if lst[i] == val:\n",
    "            return True\n",
    "        i += 1\n",
    "    return False\n",
    "\n",
    "lst = ['Hildegarde', 'Cunégonde', 'Médor']\n",
    "\n",
    "print(appartient(lst, 'Cunégonde'))\n",
    "\n",
    "if appartient(lst, 'Médor'):\n",
    "    print('Bon chien !')"
   ]
  },
  {
   "cell_type": "markdown",
   "id": "8f9ec87f",
   "metadata": {},
   "source": [
    "\n",
    "\n",
    "\n",
    "\n",
    "\n",
    "\n",
    "\n",
    "\n",
    "\n",
    "\n",
    "**Remarque :** Cette fonctionnalité existe déjà en Python :\n",
    "\n",
    "-   `val in lst` vaut `True` si `val` apparaît dans `lst`, `False` sinon\n",
    "-   Réciproquement, on peut écrire `val not in lst`"
   ]
  },
  {
   "cell_type": "code",
   "execution_count": null,
   "id": "96569e44",
   "metadata": {},
   "outputs": [],
   "source": [
    "lst = ['Hildegarde', 'Cunégonde', 'Médor']\n",
    "'Cunégonde' in lst"
   ]
  },
  {
   "cell_type": "code",
   "execution_count": null,
   "id": "5c68a644",
   "metadata": {},
   "outputs": [],
   "source": [
    "lst = ['Hildegarde', 'Cunégonde', 'Médor']\n",
    "'Rex' not in lst"
   ]
  },
  {
   "cell_type": "code",
   "execution_count": null,
   "id": "6bf11720",
   "metadata": {},
   "outputs": [],
   "source": [
    "lst = ['Hildegarde', 'Cunégonde', 'Médor']\n",
    "if 'Médor' in lst:\n",
    "    print('Bon chien !')"
   ]
  },
  {
   "cell_type": "markdown",
   "id": "73c0fba9",
   "metadata": {},
   "source": [
    "### Minimum et maximum d'une liste\n",
    "\n",
    "**Exercice :** Écrire une fonction recevant une liste **non vide d'éléments comparables entre eux** et renvoyant la valeur du plus petit élément qui apparaît dans la liste"
   ]
  },
  {
   "cell_type": "code",
   "execution_count": null,
   "id": "869ce9a8",
   "metadata": {},
   "outputs": [],
   "source": [
    "def minimum(lst):\n",
    "    ..."
   ]
  },
  {
   "cell_type": "markdown",
   "id": "dcf39078",
   "metadata": {},
   "source": [
    "Même question pour le plus grand élément"
   ]
  },
  {
   "cell_type": "code",
   "execution_count": null,
   "id": "711674f2",
   "metadata": {},
   "outputs": [],
   "source": [
    "def maximum(lst):\n",
    "    ..."
   ]
  },
  {
   "cell_type": "code",
   "execution_count": null,
   "id": "12763a2f",
   "metadata": {},
   "outputs": [],
   "source": [
    "def minimum(lst):\n",
    "    res = lst[0]  # plante si lst == []\n",
    "    i = 1\n",
    "    while i < len(lst):\n",
    "        if lst[i] < res:\n",
    "            res = lst[i]\n",
    "        i += 1\n",
    "    return res"
   ]
  },
  {
   "cell_type": "code",
   "execution_count": null,
   "id": "a3b11a52",
   "metadata": {},
   "outputs": [],
   "source": [
    "def maximum(lst):\n",
    "    res = lst[0]\n",
    "    i = 1\n",
    "    while i < len(lst):\n",
    "        if lst[i] > res:\n",
    "            res = lst[i]\n",
    "        i += 1\n",
    "    return res"
   ]
  },
  {
   "cell_type": "code",
   "execution_count": null,
   "id": "19d30ed9",
   "metadata": {},
   "outputs": [],
   "source": [
    "lst = [4, 6.6, 2, -7, 13, -6, 0]\n",
    "print(minimum(lst), maximum(lst))"
   ]
  },
  {
   "cell_type": "markdown",
   "id": "c2225463",
   "metadata": {},
   "source": [
    "Ces fonctionnalités existent déjà en Python : fonctions `min` et `max`."
   ]
  },
  {
   "cell_type": "code",
   "execution_count": null,
   "id": "5224c65c",
   "metadata": {},
   "outputs": [],
   "source": [
    "lst = [4, 6.6, 2, -7, 13, -6, 0]\n",
    "print(min(lst), max(lst))"
   ]
  },
  {
   "cell_type": "markdown",
   "id": "40fb71c7",
   "metadata": {},
   "source": [
    "**Attention :** pour que cela fonctionne il faut que tous les éléments soient comparables !"
   ]
  },
  {
   "cell_type": "code",
   "execution_count": null,
   "id": "8c6e8fe0",
   "metadata": {},
   "outputs": [],
   "source": [
    "lst = [3, 'toto', 4.5, False, None]\n",
    "print(min(lst))"
   ]
  },
  {
   "cell_type": "markdown",
   "id": "41e4d8b8",
   "metadata": {},
   "source": [
    "Une erreur se produit aussi si l'on appelle ces fonctions sur une liste vide :"
   ]
  },
  {
   "cell_type": "code",
   "execution_count": null,
   "id": "c64c0d7e",
   "metadata": {},
   "outputs": [],
   "source": [
    "min([])"
   ]
  },
  {
   "cell_type": "markdown",
   "id": "a689332c",
   "metadata": {},
   "source": [
    "### Somme des éléments d'une liste\n",
    "\n",
    "**Exercice :** Écrire une fonction `somme(lst)` qui renvoie la somme des éléments d'une liste dont tous les éléments sont des nombres."
   ]
  },
  {
   "cell_type": "code",
   "execution_count": null,
   "id": "4e0598e8",
   "metadata": {},
   "outputs": [],
   "source": [
    "def somme(lst):\n",
    "    ..."
   ]
  },
  {
   "cell_type": "code",
   "execution_count": null,
   "id": "e57d0cee",
   "metadata": {},
   "outputs": [],
   "source": [
    "def somme(lst):\n",
    "    res = 0\n",
    "    i = 0\n",
    "    while i < len(lst):\n",
    "        res += lst[i]\n",
    "        i += 1\n",
    "    return res\n",
    "\n",
    "print(somme([1, 2, 3]))"
   ]
  },
  {
   "cell_type": "markdown",
   "id": "f9840eb1",
   "metadata": {},
   "source": [
    "La fonction prédéfinie `sum` de Python réalise également ce calcul :"
   ]
  },
  {
   "cell_type": "code",
   "execution_count": null,
   "id": "1a74f366",
   "metadata": {},
   "outputs": [],
   "source": [
    "sum([1, 2, 3])"
   ]
  },
  {
   "cell_type": "markdown",
   "id": "0d3bba4d",
   "metadata": {},
   "source": [
    "**Attention :** la fonction `sum` provoque une erreur si un élément de la liste n'est pas un nombre !"
   ]
  },
  {
   "cell_type": "code",
   "execution_count": null,
   "id": "b7b92eb1",
   "metadata": {},
   "outputs": [],
   "source": [
    "sum([3, 'toto', 4.5, False, None])"
   ]
  },
  {
   "cell_type": "markdown",
   "id": "ec53e400",
   "metadata": {},
   "source": [
    "### Manipulations plus complexes : méthodes\n",
    "\n",
    "On va maintenant énumérer un certain nombre de méthodes prédéfinies sur les listes, permettant des modifications plus complexes. Pour plus de détails, on pourra consulter la [documentation en ligne](https://docs.python.org/3/)."
   ]
  },
  {
   "cell_type": "markdown",
   "id": "7c0ecccf",
   "metadata": {},
   "source": [
    "#### Agrandir ou rétrécir une liste\n",
    "\n",
    "Plusieurs instructions ont un effet sur la taille de la liste :\n",
    "\n",
    "-   L'instruction `lst.append(elem)` ajoute l'élément `elem` à la fin de\n",
    "    la liste `lst`\n",
    "\n",
    "-   L'instruction `lst.pop()` supprime le dernier élément de `lst` et\n",
    "    renvoie sa valeur\n",
    "\n",
    "-   L'instruction `lst.pop(i)` supprime l'élément d'indice `i` de `lst` et\n",
    "    renvoie sa valeur\n",
    "\n",
    "*Les fonctions `append` et `pop` sont appelées **méthodes**, ou fonctions\n",
    "s'appliquant à un objet (nous en verrons d'autres dans les cours\n",
    "suivants)*\n",
    "\n",
    "**Attention**, ces instructions ne créent pas une nouvelle liste mais\n",
    "modifient la liste sur place !\n",
    "\n",
    "**Attention**, ne pas confondre `x = lst[2]` et `x = lst.pop(2)` !"
   ]
  },
  {
   "cell_type": "code",
   "execution_count": null,
   "id": "55c6789a",
   "metadata": {},
   "outputs": [],
   "source": [
    "lst = [3, 'toto', 4.5, False, None]\n",
    "lst_bis = lst\n",
    "\n",
    "lst.append(1)\n",
    "print(lst_bis)\n",
    "\n",
    "elem = lst_bis.pop(2)\n",
    "print(elem)\n",
    "\n",
    "print(lst)"
   ]
  },
  {
   "cell_type": "markdown",
   "id": "37d32043",
   "metadata": {},
   "source": [
    "**Exercice** : écrire une fonction recevant deux listes et ajoutant tous\n",
    "les éléments de la seconde à la fin de la première"
   ]
  },
  {
   "cell_type": "code",
   "execution_count": null,
   "id": "3d4324e5",
   "metadata": {},
   "outputs": [],
   "source": [
    "def etend_liste(une_liste, autre_liste):\n",
    "    ..."
   ]
  },
  {
   "cell_type": "markdown",
   "id": "8aa58310",
   "metadata": {},
   "source": [
    "-   Attention, pas de `return` : `une_liste` doit être modifiée sur place !\n",
    "\n",
    "-   Attention, on ne doit pas modifier `autre_liste` !"
   ]
  },
  {
   "cell_type": "code",
   "execution_count": null,
   "id": "a0fd0447",
   "metadata": {},
   "outputs": [],
   "source": [
    "def etend_liste(une_liste, autre_liste):\n",
    "    i = 0\n",
    "    while i < len(autre_liste):\n",
    "        une_liste.append(autre_liste[i])\n",
    "        i += 1\n",
    "        \n",
    "lst = [3, 'toto', 4.5]\n",
    "lst2 = [False, None]\n",
    "\n",
    "print(lst)\n",
    "print(lst2)\n",
    "etend_liste(lst, lst2)\n",
    "print(lst)\n",
    "print(lst2)"
   ]
  },
  {
   "cell_type": "markdown",
   "id": "8dbcabb3",
   "metadata": {},
   "source": [
    "-   Cette fonctionnalité existe déjà en Python :\n",
    "    `une_liste.extend(autre_liste)`"
   ]
  },
  {
   "cell_type": "code",
   "execution_count": null,
   "id": "9f7c4c6b",
   "metadata": {},
   "outputs": [],
   "source": [
    "lst = [3, 'toto', 4.5]\n",
    "lst_bis = lst\n",
    "lst2 = [False, None]\n",
    "\n",
    "lst.extend(lst2)\n",
    "print(lst)\n",
    "print(lst_bis)"
   ]
  },
  {
   "cell_type": "code",
   "execution_count": null,
   "id": "6863a61f",
   "metadata": {},
   "outputs": [],
   "source": [
    "lst = [3, 'toto', 4.5]\n",
    "lst_bis = lst\n",
    "lst2 = [False, None]\n",
    "\n",
    "lst = lst + lst2\n",
    "print(lst)\n",
    "print(lst_bis)"
   ]
  },
  {
   "cell_type": "markdown",
   "id": "c080bc6c",
   "metadata": {},
   "source": [
    "**Exercice :** Écrire une fonction recevant deux listes en argument et renvoyant une nouvelle liste contenant tous les éléments de la première suivis de tous les éléments de la seconde, à la manière de l'opérateur `+`."
   ]
  },
  {
   "cell_type": "code",
   "execution_count": null,
   "id": "5192a135",
   "metadata": {},
   "outputs": [],
   "source": [
    "def concatene(lst1, lst2):\n",
    "    ..."
   ]
  },
  {
   "cell_type": "code",
   "execution_count": null,
   "id": "8512fdab",
   "metadata": {},
   "outputs": [],
   "source": [
    "def concatene(lst1, lst2):\n",
    "    res = []\n",
    "    i = 0\n",
    "    while i < len(lst1):\n",
    "        res.append(lst1[i])\n",
    "        i += 1\n",
    "    i = 0\n",
    "    while i < len(lst2):\n",
    "        res.append(lst2[i])\n",
    "        i += 1\n",
    "    return res"
   ]
  },
  {
   "cell_type": "code",
   "execution_count": null,
   "id": "96100e88",
   "metadata": {},
   "outputs": [],
   "source": [
    "def concatene(lst1, lst2):\n",
    "    res = []\n",
    "    res.extend(lst1)\n",
    "    res.extend(lst2)\n",
    "    return res"
   ]
  },
  {
   "cell_type": "code",
   "execution_count": null,
   "id": "93a62e9c",
   "metadata": {},
   "outputs": [],
   "source": [
    "concatene([3, 1, 67], [2, 4])"
   ]
  },
  {
   "cell_type": "markdown",
   "id": "75907776",
   "metadata": {},
   "source": [
    "**Exercice :** Écrire une fonction recevant une liste `lst` et un entier `n` en argument et renvoyant une nouvelle liste contenant les éléments de `lst` répétés `n` fois à la manière de l'opérateur `*`."
   ]
  },
  {
   "cell_type": "code",
   "execution_count": null,
   "id": "cb4d6467",
   "metadata": {},
   "outputs": [],
   "source": [
    "def repete(lst, n):\n",
    "    ..."
   ]
  },
  {
   "cell_type": "code",
   "execution_count": null,
   "id": "b5d37aaa",
   "metadata": {},
   "outputs": [],
   "source": [
    "def repete(lst, n):\n",
    "    res = []\n",
    "    i = 0\n",
    "    while i < n:\n",
    "        j = 0\n",
    "        while j < len(lst):\n",
    "            res.append(lst[j])\n",
    "            j += 1\n",
    "        i += 1\n",
    "    return res"
   ]
  },
  {
   "cell_type": "code",
   "execution_count": null,
   "id": "df904627",
   "metadata": {},
   "outputs": [],
   "source": [
    "def repete(lst, n):\n",
    "    res = []\n",
    "    i = 0\n",
    "    while i < n:\n",
    "        res.extend(lst)\n",
    "        i += 1\n",
    "    return res"
   ]
  },
  {
   "cell_type": "code",
   "execution_count": null,
   "id": "bafc12aa",
   "metadata": {},
   "outputs": [],
   "source": [
    "repete([4, 5, 6], 3)"
   ]
  },
  {
   "cell_type": "markdown",
   "id": "fa2995fe",
   "metadata": {},
   "source": [
    "### Rechercher la position d'un élément\n",
    "\n",
    "**Exercice :** Écrire une fonction renvoyant le plus petit indice où apparaît un élément `x` dans une liste `lst` (on renverra `None` si `x` n'apparaît pas dans la liste)"
   ]
  },
  {
   "cell_type": "code",
   "execution_count": null,
   "id": "c92fa18b",
   "metadata": {},
   "outputs": [],
   "source": [
    "def chercher(lst, x):\n",
    "    ..."
   ]
  },
  {
   "cell_type": "code",
   "execution_count": null,
   "id": "d38075b3",
   "metadata": {},
   "outputs": [],
   "source": [
    "def chercher(lst, val):\n",
    "    i = 0\n",
    "    while i < len(lst):\n",
    "        if lst[i] == val:\n",
    "            return i\n",
    "        i += 1\n",
    "    return None\n",
    "\n",
    "lst = [3, 'toto', 4.5, False, None, 4.5]\n",
    "indice = chercher(lst, 4.5)\n",
    "print(indice)\n",
    "indiceNone = chercher(lst, 'AP1')\n",
    "print(indiceNone)"
   ]
  },
  {
   "cell_type": "markdown",
   "id": "80100e2a",
   "metadata": {},
   "source": [
    "Cette fonction existe déjà en Python : méthode `index`"
   ]
  },
  {
   "cell_type": "code",
   "execution_count": null,
   "id": "5dbc7cf7",
   "metadata": {},
   "outputs": [],
   "source": [
    "lst = [3, 'toto', 4.5, False, None, 4.5]\n",
    "lst.index(4.5)"
   ]
  },
  {
   "cell_type": "markdown",
   "id": "d446aa3d",
   "metadata": {},
   "source": [
    "**Attention**, cette méthode provoque une erreur si l'élément à retirer n'est pas dans la liste !"
   ]
  },
  {
   "cell_type": "code",
   "execution_count": null,
   "id": "d9a163c2",
   "metadata": {},
   "outputs": [],
   "source": [
    "lst = [3, 'toto', 4.5, False, None, 4.5]\n",
    "lst.index(3.5)"
   ]
  },
  {
   "cell_type": "markdown",
   "id": "150cdcd8",
   "metadata": {},
   "source": [
    "### Compter le nombre d'occurrences d'un élément\n",
    "\n",
    "**Exercice :** Écrire une fonction renvoyant le nombre de fois où apparaît un élément `x` dans une liste `lst`"
   ]
  },
  {
   "cell_type": "code",
   "execution_count": null,
   "id": "d4353981",
   "metadata": {},
   "outputs": [],
   "source": [
    "def compter(lst, x):\n",
    "    ..."
   ]
  },
  {
   "cell_type": "code",
   "execution_count": null,
   "id": "e73ae8fa",
   "metadata": {},
   "outputs": [],
   "source": [
    "def compter(lst, x):\n",
    "    cpt = 0\n",
    "    i = 0\n",
    "    while i < len(lst):\n",
    "        if lst[i] == x:\n",
    "            cpt += 1\n",
    "        i += 1\n",
    "    return cpt\n",
    "\n",
    "lst = [3, 'toto', 4.5, False, None, 4.5]\n",
    "print(compter(lst, 4.5))"
   ]
  },
  {
   "cell_type": "markdown",
   "id": "34cb89eb",
   "metadata": {},
   "source": [
    "Cette fonction existe déjà en Python : méthode `count`"
   ]
  },
  {
   "cell_type": "code",
   "execution_count": null,
   "id": "f1a21595",
   "metadata": {},
   "outputs": [],
   "source": [
    "lst = [3, 'toto', 4.5, False, None, 4.5]\n",
    "lst.count(4.5)"
   ]
  },
  {
   "cell_type": "markdown",
   "id": "c04d5018",
   "metadata": {},
   "source": [
    "### Vider entièrement une liste\n",
    "\n",
    "**Exercice :** Écrire une fonction supprimant tous les éléments de la liste `lst`"
   ]
  },
  {
   "cell_type": "code",
   "execution_count": null,
   "id": "846a80a6",
   "metadata": {},
   "outputs": [],
   "source": [
    "def vider(lst, x):\n",
    "    ..."
   ]
  },
  {
   "cell_type": "code",
   "execution_count": null,
   "id": "a8d194df",
   "metadata": {},
   "outputs": [],
   "source": [
    "def vider(lst):\n",
    "    while len(lst) > 0:\n",
    "        lst.pop()\n",
    "        \n",
    "lst = [3, 'toto', 4.5, False, None, 4.5]\n",
    "print(lst)\n",
    "vider(lst)\n",
    "print(lst)"
   ]
  },
  {
   "cell_type": "markdown",
   "id": "bb85a9f8",
   "metadata": {},
   "source": [
    "Cette fonction existe déjà en Python : méthode `clear`"
   ]
  },
  {
   "cell_type": "code",
   "execution_count": null,
   "id": "c1563593",
   "metadata": {},
   "outputs": [],
   "source": [
    "lst = [3, 'toto', 4.5, False, None, 4.5]\n",
    "lst.clear()\n",
    "print(lst)"
   ]
  },
  {
   "cell_type": "markdown",
   "id": "4e782479",
   "metadata": {},
   "source": [
    "### Renverser une liste\n",
    "\n",
    "**Exercice :** Écrire une fonction renversant l'ordre des éléments d'une liste `lst`"
   ]
  },
  {
   "cell_type": "code",
   "execution_count": null,
   "id": "efb3bc95",
   "metadata": {},
   "outputs": [],
   "source": [
    "def renverser(lst, x):\n",
    "    ..."
   ]
  },
  {
   "cell_type": "code",
   "execution_count": null,
   "id": "ca1c4149",
   "metadata": {},
   "outputs": [],
   "source": [
    "def renverser(lst):\n",
    "    i = 0\n",
    "    j = len(lst) - 1\n",
    "    while i < j:\n",
    "        lst[i], lst[j] = lst[j], lst[i]\n",
    "        i += 1\n",
    "        j -= 1\n",
    "\n",
    "lst = [3, 'toto', 4.5, False, None, 4.5]\n",
    "renverser(lst)\n",
    "print(lst)"
   ]
  },
  {
   "cell_type": "markdown",
   "id": "4980a564",
   "metadata": {},
   "source": [
    "Cette fonction existe déjà en Python : méthode `reverse`"
   ]
  },
  {
   "cell_type": "code",
   "execution_count": null,
   "id": "9980a381",
   "metadata": {},
   "outputs": [],
   "source": [
    "lst = [3, 'toto', 4.5, False, None, 4.5]\n",
    "lst.reverse()\n",
    "print(lst)"
   ]
  },
  {
   "cell_type": "markdown",
   "id": "89fdf2e2",
   "metadata": {},
   "source": [
    "### Retirer un élément donné\n",
    "\n",
    "**Exercice :** Écrire une fonction retirant la première occurrence d'un élément `x` dans une liste `lst` (on ne fera rien si la liste ne contient pas `x`)"
   ]
  },
  {
   "cell_type": "code",
   "execution_count": null,
   "id": "6dbd879a",
   "metadata": {},
   "outputs": [],
   "source": [
    "def retirer(lst, x):\n",
    "    ..."
   ]
  },
  {
   "cell_type": "code",
   "execution_count": null,
   "id": "86e75fc8",
   "metadata": {},
   "outputs": [],
   "source": [
    "def retirer(lst, x):\n",
    "    i = chercher(lst, x)\n",
    "    if i is not None:\n",
    "        while i < len(lst)-1:\n",
    "            lst[i] = lst[i+1]\n",
    "            i += 1\n",
    "        lst.pop()\n",
    "\n",
    "lst = [3, 'toto', 4.5, False, None, 4.5]\n",
    "print(lst)\n",
    "retirer(lst, 4.5)\n",
    "print(lst)"
   ]
  },
  {
   "cell_type": "code",
   "execution_count": null,
   "id": "77fc24e3",
   "metadata": {},
   "outputs": [],
   "source": [
    "def retirer2(lst, x): # version utilisant pop(i)\n",
    "    i = chercher(lst, x)\n",
    "    if i is not None:\n",
    "        lst.pop(i)\n",
    "        \n",
    "lst = [3, 'toto', 4.5, False, None, 4.5]\n",
    "print(lst)\n",
    "retirer2(lst, 4.5)\n",
    "print(lst)"
   ]
  },
  {
   "cell_type": "markdown",
   "id": "b8ba507e",
   "metadata": {},
   "source": [
    "Cette fonction existe déjà en Python : méthode `remove`"
   ]
  },
  {
   "cell_type": "code",
   "execution_count": null,
   "id": "6325f964",
   "metadata": {},
   "outputs": [],
   "source": [
    "lst = [3, 'toto', 4.5, False, None, 4.5]\n",
    "lst.remove(4.5)\n",
    "print(lst)"
   ]
  },
  {
   "cell_type": "markdown",
   "id": "a0a0de11",
   "metadata": {},
   "source": [
    "**Attention**, cette méthode provoque une erreur si l'élément à retirer n'est pas dans la liste !"
   ]
  },
  {
   "cell_type": "code",
   "execution_count": null,
   "id": "8fe9b66b",
   "metadata": {},
   "outputs": [],
   "source": [
    "lst = [3, 'toto', 4.5, False, None, 4.5]\n",
    "lst.remove(3.5)"
   ]
  },
  {
   "cell_type": "markdown",
   "id": "3cbb28cc",
   "metadata": {},
   "source": [
    "### Ajouter un élément donné à un indice donné\n",
    "\n",
    "**Exercice :** Écrire une fonction qui insère un élément `x` à la position `i` de la liste `lst` (si `i` est trop grand, la fonction insère `x` à la fin de `lst` ; si `i` est trop petit, elle insère `x` au début de `lst`)"
   ]
  },
  {
   "cell_type": "code",
   "execution_count": null,
   "id": "61ed8259",
   "metadata": {},
   "outputs": [],
   "source": [
    "def ajouter(lst, i, x):\n",
    "    ..."
   ]
  },
  {
   "cell_type": "code",
   "execution_count": null,
   "id": "e1a68071",
   "metadata": {},
   "outputs": [],
   "source": [
    "def ajouter(lst, i, x):\n",
    "    # determine une valeur correcte pour i\n",
    "    i = max(0, min(i, len(lst))) \n",
    "    # on ajoute une case vide à la fin\n",
    "    lst.append(None) \n",
    "    # decalage des cases sur la droite à partir de i\n",
    "    j = len(lst) - 1\n",
    "    while j > i:\n",
    "        lst[j] = lst[j-1]\n",
    "        j -= 1\n",
    "    lst[i] = x # on insère x à l'indice i\n",
    "    \n",
    "lst = [3, 'toto', 4.5, False, None, 4.5]\n",
    "print(lst)\n",
    "ajouter(lst, 3, 79) # indice ok\n",
    "print(lst)\n",
    "ajouter(lst, -6, \"petit\") # indice trop petit\n",
    "print(lst)\n",
    "ajouter(lst, 16, \"grand\") # indice trop grand\n",
    "print(lst)"
   ]
  },
  {
   "cell_type": "markdown",
   "id": "7b60e394",
   "metadata": {},
   "source": [
    "Cette fonction existe déjà en Python : méthode `insert`"
   ]
  },
  {
   "cell_type": "markdown",
   "id": "1316a43d",
   "metadata": {},
   "source": [
    "**Attention**, cette méthode insère l'élément à la fin si l'indice est supérieur à `len(lst)`, et au début si l'indice est négatif !"
   ]
  },
  {
   "cell_type": "code",
   "execution_count": null,
   "id": "c29ad87d",
   "metadata": {},
   "outputs": [],
   "source": [
    "lst = [3, 'toto', 4.5, False, None, 4.5]\n",
    "print(lst)\n",
    "lst.insert(3, 79)\n",
    "print(lst)"
   ]
  },
  {
   "cell_type": "code",
   "execution_count": null,
   "id": "ac300672",
   "metadata": {},
   "outputs": [],
   "source": [
    "lst.insert(-8, \"petit\")\n",
    "print(lst)\n",
    "lst.insert(16, \"grand\")\n",
    "print(lst)"
   ]
  },
  {
   "cell_type": "markdown",
   "id": "7055ffac",
   "metadata": {},
   "source": [
    "### Trier une liste\n",
    "\n",
    "Enfin, il est possible de trier le contenu d'une liste avec la méthode `sort`. Programmer ce genre de fonctions fait partie des objectifs du semestre 2."
   ]
  },
  {
   "cell_type": "code",
   "execution_count": null,
   "id": "d6fb0844",
   "metadata": {},
   "outputs": [],
   "source": [
    "lst = [4, 6.6, 2, -7, 13, -6, 0]\n",
    "lst.sort()\n",
    "print(lst)"
   ]
  },
  {
   "cell_type": "markdown",
   "id": "c75e1e9d",
   "metadata": {},
   "source": [
    "**Attention**, cette méthode ne fonctionne pas si les éléments ne sont pas tous comparables !"
   ]
  },
  {
   "cell_type": "code",
   "execution_count": null,
   "id": "81f8a99f",
   "metadata": {},
   "outputs": [],
   "source": [
    "lst = [3, 'toto', 4.5, False, None, 4.5]\n",
    "lst.sort()"
   ]
  },
  {
   "cell_type": "markdown",
   "id": "37c5a106",
   "metadata": {},
   "source": [
    "Notez que la méthode `sort` modifie définitivement la liste (une nouvelle liste n'est pas créée). Il existe aussi une fonction permettant de fabriquer une copie triée d'une liste : la fonction `sorted`."
   ]
  },
  {
   "cell_type": "code",
   "execution_count": null,
   "id": "16a265a0",
   "metadata": {},
   "outputs": [],
   "source": [
    "lst = [4, 6.6, 2, -7, 13, -6, 0]\n",
    "print(sorted(lst))\n",
    "print(lst)"
   ]
  },
  {
   "cell_type": "markdown",
   "id": "9b531ab0",
   "metadata": {},
   "source": [
    "### Récapitulatif\n",
    "\n",
    "#### Opérateurs sur les listes\n",
    "\n",
    "opérateur             | effet\n",
    "----------------------|-----------------------\n",
    "`lst[i]` (dans une expression) | élément d'indice `i` de `lst`\n",
    "`lst[i] = expr`       | modifie l'élément d'indice `i` de `lst`\n",
    "`lst1 + lst2`         | concaténation (nouvelle liste)\n",
    "`lst * n`             | répétition (nouvelle liste)\n",
    "`x in lst`         | `True` si `x` apparaît dans `lst`\n",
    "`x not in lst`     | `True` si `x` n'apparaît pas dans `lst`\n",
    "\n",
    "$\\star$ : erreur si `i` n'est pas un indice correct de `lst`"
   ]
  },
  {
   "cell_type": "markdown",
   "id": "78abc635",
   "metadata": {},
   "source": [
    "#### Fonctions sur les listes\n",
    "\n",
    "fonction | effet\n",
    "----------------------|-----------------------\n",
    "`len(lst)`            | renvoie la longueur de `lst`\n",
    "`min(lst)`            | renvoie le plus petit élément de `lst`$^{\\star\\heartsuit}$\n",
    "`max(lst)`            | renvoie le plus grand élément de `lst`$^{\\star\\heartsuit}$\n",
    "`sum(lst)`            | renvoie la somme des éléments de `lst` $^{\\clubsuit}$\n",
    "`sorted(lst)`         | renvoie une copie triée de `lst` $^{\\heartsuit}$\n",
    "\n",
    "$\\star$ : erreur si `lst` est vide  \n",
    "$\\heartsuit$ : erreur si `lst` contient des éléments incomparables  \n",
    "$\\clubsuit$ : ne fonctionne que sur des listes de *nombres*"
   ]
  },
  {
   "cell_type": "markdown",
   "id": "60f1642d",
   "metadata": {},
   "source": [
    "#### Méthodes qui modifient la liste\n",
    "\n",
    "méthode | effet\n",
    "----------------------|-----------------------\n",
    "`lst.append(x)`       | ajoute `x` à la fin de `lst`\n",
    "`lst.extend(lst2)`    | ajoute les éléments de `lst2` à la fin de `lst`\n",
    "`lst.insert(i, x)`    | ajoute `x` à l'indice `i` dans `lst`\n",
    "`lst.remove(x)`       | retire la première occurrence de `x` de `lst`$^\\star$\n",
    "`lst.pop()`           | retire et renvoie le dernier élément de `lst`$^\\clubsuit$\n",
    "`lst.pop(i)`          | retire et renvoie l'élément d'indice `i` de `lst`$^\\heartsuit$\n",
    "`lst.clear()`         | vide la liste\n",
    "`lst.sort()`          | trie la liste$^\\diamondsuit$\n",
    "`lst.reverse()`       | renverse la liste\n",
    "\n",
    "$\\star$ : erreur si `lst` ne contient pas `x`  \n",
    "$\\clubsuit$ : erreur si `lst` est vide  \n",
    "$\\heartsuit$ : erreur si l'indice `i` n'existe pas dans `lst`  \n",
    "$\\diamondsuit$ : erreur si `lst` contient des éléments incomparables  "
   ]
  },
  {
   "cell_type": "markdown",
   "id": "4c12a756",
   "metadata": {},
   "source": [
    "#### Méthodes qui ne modifient pas la liste\n",
    "\n",
    "méthode         | effet\n",
    "----------------|-----------------------\n",
    "`lst.index(x)`  | renvoie l'indice de la première occurrence de `x` dans `lst`$^\\star$\n",
    "`lst.count(x)`   | renvoie le nombre d'occurrences de `x` dans `lst`$^\\star$\n",
    "`lst.copy()`    | renvoie une copie (superficielle !) de `lst`$^\\clubsuit$\n",
    "\n",
    "$\\star$ : erreur si `lst` ne contient pas `x`  \n",
    "$^\\clubsuit$ : *superficielle* veut dire que les éléments ne sont pas recopiés"
   ]
  },
  {
   "cell_type": "markdown",
   "id": "61a17877",
   "metadata": {},
   "source": [
    "## <img src='img/non-exigible.png' width='50px' style='display:inline'> Manipulation de sous-listes : les *slices* (tranches)\n",
    "\n",
    "La connaissance de cette notion n'est pas exigible à l'examen.\n",
    "\n",
    "### Accès à une slice\n",
    "\n",
    "-   Syntaxe : `lst[i, j]` construit une liste contenant les éléments\n",
    "    d'indices `i` à `j-1` de `lst`\n",
    "-   Attention, l'élément d'indice `i` est **inclus** mais celui d'indice\n",
    "    `j` est **exclu** !"
   ]
  },
  {
   "cell_type": "code",
   "execution_count": null,
   "id": "f5299aa8",
   "metadata": {},
   "outputs": [],
   "source": [
    "lst = [3, 'toto', 4.5]\n",
    "print(lst[1:len(lst)])\n",
    "print(lst[0:1])"
   ]
  },
  {
   "cell_type": "markdown",
   "id": "ae8812b0",
   "metadata": {},
   "source": [
    "-   Si `i` est omis, il prend la valeur par défaut `0`\n",
    "-   Si `j` est omis, il prend la valeur par défaut `len(lst)`"
   ]
  },
  {
   "cell_type": "code",
   "execution_count": null,
   "id": "a38e6c5f",
   "metadata": {},
   "outputs": [],
   "source": [
    "lst = [3, 'toto', 4.5]\n",
    "print(lst[:len(lst)-1])\n",
    "print(lst[:])  # cette instruction crée une copie de lst !"
   ]
  },
  {
   "cell_type": "markdown",
   "id": "0b87f17e",
   "metadata": {},
   "source": [
    "### Affectation de slice\n",
    "\n",
    "On peut aussi utiliser la syntaxe des tranches pour modifier en une seule fois une partie de la liste"
   ]
  },
  {
   "cell_type": "code",
   "execution_count": null,
   "id": "fee8321e",
   "metadata": {},
   "outputs": [],
   "source": [
    "lst = [3, 'toto', 4.5]\n",
    "lst[1:3] = [\"riri\", \"fifi\", \"loulou\"]\n",
    "print(lst)"
   ]
  },
  {
   "cell_type": "markdown",
   "id": "ffd8aa8c",
   "metadata": {},
   "source": [
    "### Tranches avec intervalle\n",
    "\n",
    "Il est possible de compléter la notation des tranches en spécifiant un \"pas\" `k`: `lst[i:j:k]`. Dans ce cas, on sélectionne uniquement les éléments d'indices `i`, `i+k`, `i+2*k`, etc. en s'arrêtant à l'indice `j`(exclu)."
   ]
  },
  {
   "cell_type": "code",
   "execution_count": null,
   "id": "0a479a69",
   "metadata": {},
   "outputs": [],
   "source": [
    "lst = [0, 1, 2, 3, 4, 5]\n",
    "print(lst[1:6:2])"
   ]
  },
  {
   "cell_type": "markdown",
   "id": "418a1bda",
   "metadata": {},
   "source": [
    "Un exemple un peu étrange :"
   ]
  },
  {
   "cell_type": "code",
   "execution_count": null,
   "id": "0de82622",
   "metadata": {},
   "outputs": [],
   "source": [
    "lst = [0, 1, 2, 3, 4, 5]\n",
    "print(lst[6:1:-1])"
   ]
  },
  {
   "cell_type": "markdown",
   "id": "76788231",
   "metadata": {},
   "source": [
    "## <img src='img/non-exigible.png' width='50px' style='display:inline'> Indices négatifs\n",
    "\n",
    "La connaissance de cette notion n'est pas exigible à l'examen.\n",
    "\n",
    "Il est possible d'utiliser des indices négatifs pour accéder aux éléments d'une liste. Dans ce cas, les éléments sont numérotés à partir de la droite, en commençant par l'indice `-1` et jusqu'à l'indice `-len(lst)` :"
   ]
  },
  {
   "cell_type": "code",
   "execution_count": null,
   "id": "74e963e0",
   "metadata": {},
   "outputs": [],
   "source": [
    "lst = [3, 'toto', 4.5]\n",
    "print(lst[-1])\n",
    "print(lst[-3])"
   ]
  },
  {
   "cell_type": "markdown",
   "id": "3ecde641",
   "metadata": {},
   "source": [
    "On voit que `lst[-1]` est une autre façon de désigner l'élément `lst[len(lst)-1`, et `lst[-len(lst)]` désigne `lst[0]`. Tenter d'accéder à un indice plus petit provoque une erreur :"
   ]
  },
  {
   "cell_type": "code",
   "execution_count": null,
   "id": "87c6725a",
   "metadata": {},
   "outputs": [],
   "source": [
    "lst = [3, 'toto', 4.5]\n",
    "print(lst[-4])"
   ]
  },
  {
   "cell_type": "markdown",
   "id": "b88af868",
   "metadata": {},
   "source": [
    "Ces indices négatifs sont utiles comme raccourcis d'écriture dans certains cas particuliers, par exemple pour construire la copie d'une liste privée de son dernier élément :"
   ]
  },
  {
   "cell_type": "code",
   "execution_count": null,
   "id": "be2a8c37",
   "metadata": {},
   "outputs": [],
   "source": [
    "lst = [3, 'toto', 4.5]\n",
    "print(lst[:-1])"
   ]
  },
  {
   "cell_type": "markdown",
   "id": "56d08368",
   "metadata": {},
   "source": [
    "## Listes de listes\n",
    "\n",
    "Une liste peut contenir des éléments de n'importe quel type, en donc en particulier des listes, voire des listes de listes, etc.\n",
    "\n",
    "### Exemple : le morpion\n",
    "\n",
    "Les listes de listes sont particulièrement adaptées lorsque l'on souhaite représenter des grilles carrées ou rectangulaires. C'est le cas du morpion, qui se joue sur une grille 3x3 (voir aussi l'exercice \"retournement\", TD 6 ex.1). Par exemple, la grille (les points représentent des cases vides) :"
   ]
  },
  {
   "cell_type": "raw",
   "id": "f45b3292",
   "metadata": {},
   "source": [
    " . . .\n",
    " X . X\n",
    " . O ."
   ]
  },
  {
   "cell_type": "markdown",
   "id": "54d2bec4",
   "metadata": {},
   "source": [
    "Peut être représentée par la liste de liste :"
   ]
  },
  {
   "cell_type": "code",
   "execution_count": null,
   "id": "f174ebb5",
   "metadata": {},
   "outputs": [],
   "source": [
    "grille = [['.', '.', '.'], ['X', '.', 'X'], ['.', 'O', '.']]"
   ]
  },
  {
   "cell_type": "markdown",
   "id": "2823c67d",
   "metadata": {},
   "source": [
    "La case de coordonnées `(i, j)` correspond alors à `grille[i][j]` (attention : comme d'habitude, la numérotation commence à 0). Graphiquement :"
   ]
  },
  {
   "cell_type": "raw",
   "id": "319b9338",
   "metadata": {},
   "source": [
    "   0 1 2\n",
    " 0 . . .\n",
    " 1 X . X\n",
    " 2 . O ."
   ]
  },
  {
   "cell_type": "markdown",
   "id": "ec16a80c",
   "metadata": {},
   "source": [
    "On peut expérimenter :"
   ]
  },
  {
   "cell_type": "code",
   "execution_count": null,
   "id": "03c72553",
   "metadata": {},
   "outputs": [],
   "source": [
    "grille[2][1] # Vous pouvez faire varier les indices"
   ]
  },
  {
   "cell_type": "markdown",
   "id": "d559f900",
   "metadata": {},
   "source": [
    "On peut aussi modifier le contenu des cases :"
   ]
  },
  {
   "cell_type": "code",
   "execution_count": null,
   "id": "c3931a4c",
   "metadata": {},
   "outputs": [],
   "source": [
    "grille[2][2] = 'O'\n",
    "grille"
   ]
  },
  {
   "cell_type": "markdown",
   "id": "29f7b870",
   "metadata": {},
   "source": [
    "### Copie superficielle\n",
    "\n",
    "Pour des raisons d'efficacité, Python est flemmard : lorsqu'on met une liste dans une variable, la liste n'est pas copiée, et la variable est simplement un *alias*."
   ]
  },
  {
   "cell_type": "code",
   "execution_count": null,
   "id": "59821b08",
   "metadata": {},
   "outputs": [],
   "source": [
    "liste = [1, 2, 3]\n",
    "fausse_copie = liste\n",
    "fausse_copie[1] = 4\n",
    "print(fausse_copie)\n",
    "print(liste)\n",
    "# fausse_copie et liste sont toutes deux modifiées !"
   ]
  },
  {
   "cell_type": "markdown",
   "id": "da41c24d",
   "metadata": {},
   "source": [
    "C'est très instructif d'aller voir ce qu'il se passe mémoire sur PythonTutor : `fausse_copie` et `liste` pointent vers la *même* liste.\n",
    "\n",
    "Cela vaut aussi pour les listes de listes ! Par exemple :"
   ]
  },
  {
   "cell_type": "code",
   "execution_count": null,
   "id": "2dd7e7b9",
   "metadata": {},
   "outputs": [],
   "source": [
    "ligne = [1, 2, 3]\n",
    "grille = []\n",
    "for i in range(3):\n",
    "    grille.append(ligne)\n",
    "# Équivalent à grille = [ligne] * 3\n",
    "grille[2][1] = 4\n",
    "print(grille)\n",
    "# Le contenu des trois lignes est modifié, puisque c'est la *même* liste"
   ]
  },
  {
   "cell_type": "markdown",
   "id": "bf8d2bba",
   "metadata": {},
   "source": [
    "## Fonctions qui modifient des listes\n",
    "\n",
    "### Retour sur le modèle de mémoire\n",
    "\n",
    "Pour bien comprendre cette section, il est utile de revoir la section \"Modèle de mémoire de Python\" de la séquence 1 du cours. Ainsi, chaque variable est en fait le nom d'une flèche vers un objet en mémoire :\n",
    "![affectation3.png](img/affectation3.png).\n",
    "\n",
    "Souvenez-vous de cet exemple :"
   ]
  },
  {
   "cell_type": "code",
   "execution_count": null,
   "id": "53e0cb34",
   "metadata": {},
   "outputs": [],
   "source": [
    "def essaie_de_modifier_pour_voir(x):\n",
    "    x = 5\n",
    "\n",
    "x = 12\n",
    "essaie_de_modifier_pour_voir(x)\n",
    "print(x)"
   ]
  },
  {
   "cell_type": "markdown",
   "id": "85dc85b5",
   "metadata": {},
   "source": [
    "La valeur de x **n'est pas modifiée** ! En effet, la fonction reçoit seulement la *valeur* de `x`, qui est `12`, et le `x` dans la fonction est cantonné à l'espace de noms local (ce n'est pas le même `x`).\n",
    "\n",
    "Plus généralement, une fonction ne peut pas faire en sorte qu'une variable pointe vers *un autre* objet en mémoire :"
   ]
  },
  {
   "cell_type": "code",
   "execution_count": null,
   "id": "1f28810a",
   "metadata": {},
   "outputs": [],
   "source": [
    "def essaie_de_modifier_pour_voir_2(x):\n",
    "    x = [5]\n",
    "\n",
    "x = [12]\n",
    "essaie_de_modifier_pour_voir_2(x)\n",
    "print(x)"
   ]
  },
  {
   "cell_type": "markdown",
   "id": "4869a798",
   "metadata": {},
   "source": [
    "Ça marche aussi pour les autres types :"
   ]
  },
  {
   "cell_type": "code",
   "execution_count": null,
   "id": "3008a74f",
   "metadata": {
    "scrolled": false
   },
   "outputs": [],
   "source": [
    "def essaie_de_modifier_pour_voir_3(x):\n",
    "    x = \"5\"\n",
    "\n",
    "x = \"12\"\n",
    "essaie_de_modifier_pour_voir_3(x)\n",
    "print(x)"
   ]
  },
  {
   "cell_type": "markdown",
   "id": "6a338f10",
   "metadata": {},
   "source": [
    "### Les types primitifs sont immutables\n",
    "Puisqu'il est impossible qu'une fonction fasse en sorte que son argument pointe vers un autre objet, on pourrait être tenté de modifier cet objet.\n",
    "\n",
    "Ici, le comportement dépend du type de l'objet. Pour les `int`, `float` et `bool`, on ne voit pas bien comment on pourrait les modifier. Qu'en est-il des chaînes de caractères (`str`) ? Essayons :"
   ]
  },
  {
   "cell_type": "code",
   "execution_count": null,
   "id": "eefc3beb",
   "metadata": {
    "scrolled": true
   },
   "outputs": [],
   "source": [
    "def essaie_de_modifier_pour_voir_chaine(x):\n",
    "    x[0] = \"C\"\n",
    "\n",
    "x = \"Zoucou les AP1 !\"\n",
    "essaie_de_modifier_pour_voir_chaine(x)\n",
    "print(x)"
   ]
  },
  {
   "cell_type": "markdown",
   "id": "eb9f5a40",
   "metadata": {},
   "source": [
    "Python explose avec l'erreur `TypeError: 'str' object does not support item assignment`. En effet, il interdit aussi formellement de modifier les chaînes de caractères.\n",
    "\n",
    "On dit que `int`, `float`, `bool` et `str` sont *immutables*."
   ]
  },
  {
   "cell_type": "code",
   "execution_count": null,
   "id": "be137930",
   "metadata": {
    "scrolled": true
   },
   "outputs": [],
   "source": [
    "x = \"Zoucou les AP1 !\"\n",
    "x[0] = \"C\"\n",
    "# Même erreur"
   ]
  },
  {
   "cell_type": "markdown",
   "id": "b72c78a5",
   "metadata": {},
   "source": [
    "Cela n'interdit bien sûr pas de *réassigner* les variables :"
   ]
  },
  {
   "cell_type": "code",
   "execution_count": null,
   "id": "91ea018b",
   "metadata": {},
   "outputs": [],
   "source": [
    "x = \"Zoucou les AP1 !\"\n",
    "x = \"Coucou les AP1 !\"\n",
    "print(x)"
   ]
  },
  {
   "cell_type": "markdown",
   "id": "0ca3b29c",
   "metadata": {},
   "source": [
    "En effet, ici, Python crée un nouvel objet `\"Coucou les AP1 !\"` et fait en sorte que `x` pointe vers ce nouvel objet. L'ancien objet `\"Zoucou les AP1 !\"` n'est pas modifié (mais n'a plus personne qui pointe vers lui)."
   ]
  },
  {
   "cell_type": "markdown",
   "id": "e9048064",
   "metadata": {},
   "source": [
    "### Les listes sont mutables\n",
    "\n",
    "Les listes se comportent différemment ! Par exemple :"
   ]
  },
  {
   "cell_type": "code",
   "execution_count": null,
   "id": "db847da4",
   "metadata": {},
   "outputs": [],
   "source": [
    "liste = [1, 2, 3]\n",
    "liste[2] = 4\n",
    "print(liste)"
   ]
  },
  {
   "cell_type": "markdown",
   "id": "fef77c5a",
   "metadata": {},
   "source": [
    "Ou encore :"
   ]
  },
  {
   "cell_type": "code",
   "execution_count": null,
   "id": "7de238d0",
   "metadata": {},
   "outputs": [],
   "source": [
    "x = list(\"Zoucou les AP1 !\") # list convertit son argument en liste\n",
    "print(x)\n",
    "x[0] = \"C\"\n",
    "print(x)"
   ]
  },
  {
   "cell_type": "markdown",
   "id": "ff2bd5cf",
   "metadata": {},
   "source": [
    "Par conséquent, les fonctions peuvent aussi modifier les listes qu'elles prennent en argument :"
   ]
  },
  {
   "cell_type": "code",
   "execution_count": null,
   "id": "6b0c3284",
   "metadata": {},
   "outputs": [],
   "source": [
    "def essaie_de_modifier_pour_voir_liste(x):\n",
    "    x[0] = 5\n",
    "\n",
    "x = [12]\n",
    "essaie_de_modifier_pour_voir_liste(x)\n",
    "print(x)"
   ]
  },
  {
   "cell_type": "markdown",
   "id": "067a06e9",
   "metadata": {},
   "source": [
    "On observe que le contenu de la liste `x` est modifié ! En effet, la fonction reçoit en argument la *valeur* de la variable `x`, qui est la liste elle-même (`x` est seulement un nom pour la flèche vers la liste). Elle peut donc en modifier le contenu de la liste via `x[0] = 5`, qui exécute une action sur la liste.\n",
    "\n",
    "On dit que les listes sont *mutables*."
   ]
  },
  {
   "cell_type": "markdown",
   "id": "910001cb",
   "metadata": {},
   "source": [
    "Attention cependant ! Comme vu ci-dessus, on ne peut pas modifier directement `x` en tant que variable, par exemple en lui demandant de pointer vers une autre liste :"
   ]
  },
  {
   "cell_type": "code",
   "execution_count": null,
   "id": "d51df966",
   "metadata": {
    "scrolled": true
   },
   "outputs": [],
   "source": [
    "def essaie_de_modifier_pour_voir_liste_bis(x):\n",
    "    x = [5]\n",
    "\n",
    "x = [12]\n",
    "essaie_de_modifier_pour_voir_liste_bis(x)\n",
    "print(x)"
   ]
  },
  {
   "cell_type": "markdown",
   "id": "3c549d48",
   "metadata": {},
   "source": [
    "Observez que c'est cohérent avec le comportement de la fonction `essaie_de_modifier_pour_voir`."
   ]
  },
  {
   "cell_type": "markdown",
   "id": "721f5c07",
   "metadata": {},
   "source": [
    "# Séquences et itérables - La boucle `for`"
   ]
  },
  {
   "cell_type": "markdown",
   "id": "97b9ac37",
   "metadata": {},
   "source": [
    "## Les listes : récapitulatif"
   ]
  },
  {
   "cell_type": "markdown",
   "id": "e8630225",
   "metadata": {},
   "source": [
    "\n",
    "Type `list` : **séquence** **mutable** d'objets quelconques\n",
    "\n",
    "Les opérateurs et fonctions que nous avons rencontrés sont :\n",
    "\n",
    "- `L[i]`, `L[i][j]` : accès à un élément\n",
    "- `len(L)` :  longueur\n",
    "- `min(L)`, `max(L)` : minimum et maximum\n",
    "- `x in L`, `x not in L` : test d'appartenance\n",
    "- `L1 + L2`, `L * 3` : concaténation et répétition\n",
    "- `L[i] = x` : modification de l'élément d'indice `i`\n",
    "- `L2 = sorted(L)` : fabrication de liste triée\n",
    "\n",
    "Les principales méthodes que nous avons rencontrées sont :\n",
    "\n",
    "- `L.append(4)` : ajout d'un élément en fin de liste\n",
    "- `L1.extend(L2)` : ajout d'une liste d'éléments en fin de liste\n",
    "- `x = L.pop()` : suppression du dernier élément\n",
    "- `x = L.pop(i)` : suppression de l'élément d'indice `i`\n",
    "* `L.index(x)` : indice de la première occurrence de `x`\n",
    "* `L.count(x)` : nombre d'occurrences de `x`\n",
    "* `L.clear()` : retire tous les éléments de `L`\n",
    "* `L.copy()` : crée une copie *(superficielle)* de `L`\n",
    "* `L.reverse()` : renverse la liste `L`\n",
    "* `L.remove(x)` : retire la première occurrence de `x`\n",
    "* `L.insert(i, x)` : insère `x` avant la position `i`\n",
    "* `L.sort()` : trie sur place la liste `L` \n",
    "\n",
    "Consulter la [documentation en ligne](https://docs.python.org/3/) pour plus de\n",
    "détails"
   ]
  },
  {
   "cell_type": "markdown",
   "id": "b634e7a4",
   "metadata": {},
   "source": [
    "**Rappel :** fonctions imitant les méthodes prédéfinies sur les listes avec des `while`"
   ]
  },
  {
   "cell_type": "code",
   "execution_count": null,
   "id": "311543a4",
   "metadata": {},
   "outputs": [],
   "source": [
    "def chercher(L, x):\n",
    "    i = 0\n",
    "    while i < len(L):\n",
    "        if L[i] == x:\n",
    "            # pas la peine d'aller plus loin\n",
    "            return i\n",
    "        i += 1\n",
    "    # élément non trouvé\n",
    "    return None\n",
    "\n",
    "def compter(L, x):\n",
    "    i = 0\n",
    "    cpt = 0\n",
    "    while i < len(L):\n",
    "        if L[i] == x:\n",
    "            cpt += 1\n",
    "        i += 1\n",
    "    return cpt\n",
    "\n",
    "def vider(L):\n",
    "    # cette fonction n'est pas vraiment\n",
    "    # implémentée comme ça en principe...\n",
    "    while len(L) > 0:\n",
    "        L.pop()\n",
    "\n",
    "def copier(L):\n",
    "    copie = []\n",
    "    i = 0\n",
    "    while i < len(L):\n",
    "        copie.append(L[i])\n",
    "        i += 1\n",
    "    return copie\n",
    "\n",
    "def renverser(L):\n",
    "    i = 0\n",
    "    while i < len(L) // 2:\n",
    "        # chaque élément de la première moitié\n",
    "        # est interverti avec l'élément symétrique\n",
    "        temp = L[i]\n",
    "        L[i] = L[len(L) - i - 1]\n",
    "        L[len(L) - i - 1] = temp\n",
    "        i += 1\n",
    "\n",
    "def retirer(L, x):\n",
    "    i = chercher(L, x)\n",
    "    if i != None:\n",
    "        # décaler tous les éléments\n",
    "        # suivants d'un cran à gauche\n",
    "        while i < len(L) - 1:\n",
    "            L[i] = L[i + 1]\n",
    "            i += 1\n",
    "        # supprimer la dernière case\n",
    "        L.pop()\n",
    "\n",
    "def inserer(L, i, x):\n",
    "    if i >= len(L):\n",
    "        # le nouvel élément va à la fin\n",
    "        L.append(x)\n",
    "    else:\n",
    "        # décaler le dernier élément d'un cran à droite (nouvelle case)\n",
    "        L.append(L[len(L) - 1])\n",
    "        # décaler tous les éléments d'indices i à len(L)-2 vers la droite\n",
    "        # (en partant de l'ancienne fin)\n",
    "        j = len(L) - 2\n",
    "        while j > i:\n",
    "            L[j] = L[j - 1]\n",
    "            j -= 1\n",
    "        # placer le nouvel élément\n",
    "        L[i] = x"
   ]
  },
  {
   "cell_type": "markdown",
   "id": "ae2d2afc",
   "metadata": {},
   "source": [
    "## La boucle `for`"
   ]
  },
  {
   "cell_type": "markdown",
   "id": "d85f1802",
   "metadata": {},
   "source": [
    "\n",
    "Parcours de liste avec une boucle `while` :\n",
    "\n",
    "```python\n",
    "ma_liste = ...\n",
    "i = 0\n",
    "while i < len(ma_liste):\n",
    "    faire_un_truc_avec(i)\n",
    "    i += 1\n",
    "```\n",
    "\n",
    "*Inconvénients :*\n",
    "\n",
    "* Oubli fréquent de l'incrémentation de `i` *(surtout si le corps de la boucle\n",
    "  est long)*\n",
    "* Erreurs possibles dans l'initialisation et le test"
   ]
  },
  {
   "cell_type": "markdown",
   "id": "daff1436",
   "metadata": {},
   "source": [
    "Autre forme de parcours (**itération**):\n",
    "\n",
    "```python\n",
    "ma_liste = ...\n",
    "for elem in ma_liste:\n",
    "    faire_un_truc_avec(elem)\n",
    "```\n",
    "\n",
    "*Avantages :*\n",
    "\n",
    "- Absence des inconvénients du `while`...\n",
    "- Code plus lisible (pas de `[i]`)\n",
    "  \n",
    "*Inconvénient :*\n",
    "\n",
    "Pas d'accès à l'indice courant "
   ]
  },
  {
   "cell_type": "markdown",
   "id": "21c95dbc",
   "metadata": {},
   "source": [
    "\n",
    "**Exercice :** \n",
    "\n",
    "Reprendre les fonctions `compter`, `copier` et `chercher` en utilisant des boucles `for`"
   ]
  },
  {
   "cell_type": "code",
   "execution_count": 1,
   "id": "0793c119",
   "metadata": {},
   "outputs": [],
   "source": [
    "def compter(L, x):\n",
    "    cpt = 0\n",
    "    for elem in L:\n",
    "        if elem == x:\n",
    "            cpt += 1\n",
    "    return cpt"
   ]
  },
  {
   "cell_type": "code",
   "execution_count": 2,
   "id": "d11c65b3",
   "metadata": {},
   "outputs": [
    {
     "data": {
      "text/plain": [
       "3"
      ]
     },
     "execution_count": 2,
     "metadata": {},
     "output_type": "execute_result"
    }
   ],
   "source": [
    "compter([0, 0, 1, 0, 1, 1, 0], 1)"
   ]
  },
  {
   "cell_type": "code",
   "execution_count": 3,
   "id": "f8f7893b",
   "metadata": {},
   "outputs": [],
   "source": [
    "def copier(L):\n",
    "    copie = []\n",
    "    for elem in L:\n",
    "        copie.append(elem)\n",
    "    return copie"
   ]
  },
  {
   "cell_type": "code",
   "execution_count": null,
   "id": "58457ba7",
   "metadata": {},
   "outputs": [],
   "source": [
    "def chercher(L, x):\n",
    "    for elem in L:\n",
    "        if elem == x:\n",
    "            return ... # ???\n",
    "            # impossible de terminer, on a besoin d'un indice\n",
    "    return None"
   ]
  },
  {
   "cell_type": "markdown",
   "id": "676ad9be",
   "metadata": {},
   "source": [
    "**Problème :** pas d'accès à l'indice de `x` !\n",
    "\n",
    "**Solution :** itérer sur un intervalle d'indices -- fonction `range()`"
   ]
  },
  {
   "cell_type": "markdown",
   "id": "415486f2",
   "metadata": {},
   "source": [
    "## Intervalles d'entiers : `range`\n",
    "\n",
    "La fonction `range` fabrique des intervalles d'entiers\n",
    "\n",
    "* `range(i)` : entiers de 0 à `i-1`\n",
    "* `range(i, j)` : entiers de `i` à `j-1`\n",
    "* `range(i, j, k)` : entiers de `i` à `j-1` par\n",
    "  pas de `k`"
   ]
  },
  {
   "cell_type": "markdown",
   "id": "e62cc5ae",
   "metadata": {},
   "source": [
    "Opérations autorisées sur un `range` `r`:\n",
    "\n",
    "* `x in r, x not in r, r[i]`\n",
    "* `len(r), min(r), max(r), r.index(x), r.count(x)`\n",
    "* `list(r)` (conversion en liste)"
   ]
  },
  {
   "cell_type": "code",
   "execution_count": 4,
   "id": "121aecf6",
   "metadata": {},
   "outputs": [
    {
     "name": "stdout",
     "output_type": "stream",
     "text": [
      "range(0, 10)\n"
     ]
    }
   ],
   "source": [
    "r = range(10)\n",
    "print(r)"
   ]
  },
  {
   "cell_type": "code",
   "execution_count": 5,
   "id": "bcaf4b29",
   "metadata": {},
   "outputs": [
    {
     "data": {
      "text/plain": [
       "0"
      ]
     },
     "execution_count": 5,
     "metadata": {},
     "output_type": "execute_result"
    }
   ],
   "source": [
    "r[0]"
   ]
  },
  {
   "cell_type": "code",
   "execution_count": 7,
   "id": "397233e8",
   "metadata": {},
   "outputs": [
    {
     "data": {
      "text/plain": [
       "1"
      ]
     },
     "execution_count": 7,
     "metadata": {},
     "output_type": "execute_result"
    }
   ],
   "source": [
    "r[1]"
   ]
  },
  {
   "cell_type": "code",
   "execution_count": 8,
   "id": "89820961",
   "metadata": {},
   "outputs": [
    {
     "data": {
      "text/plain": [
       "9"
      ]
     },
     "execution_count": 8,
     "metadata": {},
     "output_type": "execute_result"
    }
   ],
   "source": [
    "max(r)"
   ]
  },
  {
   "cell_type": "code",
   "execution_count": 9,
   "id": "8705332a",
   "metadata": {},
   "outputs": [
    {
     "data": {
      "text/plain": [
       "24"
      ]
     },
     "execution_count": 9,
     "metadata": {},
     "output_type": "execute_result"
    }
   ],
   "source": [
    "r = range(10, 30, 7)\n",
    "max(r)"
   ]
  },
  {
   "cell_type": "code",
   "execution_count": 10,
   "id": "5fa55f1b",
   "metadata": {},
   "outputs": [
    {
     "data": {
      "text/plain": [
       "3"
      ]
     },
     "execution_count": 10,
     "metadata": {},
     "output_type": "execute_result"
    }
   ],
   "source": [
    "len(r)"
   ]
  },
  {
   "cell_type": "code",
   "execution_count": 11,
   "id": "e20a57f3",
   "metadata": {},
   "outputs": [
    {
     "data": {
      "text/plain": [
       "[10, 17, 24]"
      ]
     },
     "execution_count": 11,
     "metadata": {},
     "output_type": "execute_result"
    }
   ],
   "source": [
    "list(r)"
   ]
  },
  {
   "cell_type": "markdown",
   "id": "a0bea16d",
   "metadata": {},
   "source": [
    "Opérations interdites sur un `range` : **tout le reste**\n",
    "\n",
    "* Concaténation, répétition, affectation d'élément\n",
    "* Autres méthodes de listes (`append`, etc.)\n",
    "\n",
    "Objets de type `range` : \n",
    "\n",
    "* **séquences** (comme les listes)\n",
    "* **itérables** (utilisables dans un `for`, comme les listes)\n",
    "* **non mutables** (non modifiables, pas comme les listes)"
   ]
  },
  {
   "cell_type": "code",
   "execution_count": 12,
   "id": "e4735010",
   "metadata": {},
   "outputs": [
    {
     "name": "stdout",
     "output_type": "stream",
     "text": [
      "0\n",
      "1\n",
      "2\n",
      "3\n"
     ]
    }
   ],
   "source": [
    "for i in range(4):\n",
    "    print(i)"
   ]
  },
  {
   "cell_type": "markdown",
   "id": "c3f66609",
   "metadata": {},
   "source": [
    "Caractéristique importante :\n",
    "\n",
    "* Non construit entièrement en mémoire\n",
    "* `range(10000)` ne prend pas plus de place et ne prend pas plus de temps à construire que\n",
    "  `range(2)`\n",
    "* Éléments fabriqués « à la demande »\n",
    "\n",
    "Utilisation fréquente : parcours des indices d'une liste"
   ]
  },
  {
   "cell_type": "code",
   "execution_count": 13,
   "id": "543c1be5",
   "metadata": {},
   "outputs": [
    {
     "name": "stdout",
     "output_type": "stream",
     "text": [
      "0 -> a\n",
      "1 -> b\n",
      "2 -> c\n"
     ]
    }
   ],
   "source": [
    "L = ['a', 'b', 'c']\n",
    "for i in range(len(L)):\n",
    "    print(i, '->', L[i])"
   ]
  },
  {
   "cell_type": "markdown",
   "id": "b933926c",
   "metadata": {},
   "source": [
    "**Exercice :** Écrire une fonction `chercher(L, x)` qui recherche la première position de `x` dans `L` en utilisant une boucle `for` et la fonction `range`."
   ]
  },
  {
   "cell_type": "code",
   "execution_count": null,
   "id": "6657ec95",
   "metadata": {},
   "outputs": [],
   "source": [
    "def chercher(L, x):\n",
    "    for i in range(len(L)):\n",
    "        if L[i] == x:\n",
    "            return i\n",
    "    return None"
   ]
  },
  {
   "cell_type": "markdown",
   "id": "5fa63ed2",
   "metadata": {},
   "source": [
    "## Quand utiliser tel ou tel type de boucle ?\n",
    "\n",
    "Voir [le fichier types_boucles.py](21-10-2024/exemples/types_boucles.py)."
   ]
  },
  {
   "cell_type": "markdown",
   "id": "a1637bb7",
   "metadata": {},
   "source": [
    "## <img src='img/non-exigible.png' width='35px' style='display:inline'> Un autre type de parcours de liste : `enumerate`"
   ]
  },
  {
   "cell_type": "markdown",
   "id": "22e40382",
   "metadata": {},
   "source": [
    "\n",
    "*La connaissance de cette notion n'est pas exigible à l'examen.*\n",
    "\n",
    "La fonction `enumerate(iterable)` permet d'itérer sur les couples `(i, elem)` constitués d'un indice et de l'élément correspondant dans `iterable`."
   ]
  },
  {
   "cell_type": "code",
   "execution_count": 14,
   "id": "8f264f33",
   "metadata": {},
   "outputs": [],
   "source": [
    "def chercher(L, x):\n",
    "    for i, elem in enumerate(L):\n",
    "        if elem == x:\n",
    "            return i\n",
    "    return None"
   ]
  },
  {
   "cell_type": "code",
   "execution_count": null,
   "id": "a2531548",
   "metadata": {},
   "outputs": [],
   "source": [
    "def lister(lst):\n",
    "    for i, elem in enumerate(lst):\n",
    "        print(i, '->', elem)\n",
    "        \n",
    "lister([6, 3, 8])"
   ]
  },
  {
   "cell_type": "markdown",
   "id": "9a402f97",
   "metadata": {},
   "source": [
    "## <img src='img/non-exigible.png' width='35px' style='display:inline'> Mutations de listes"
   ]
  },
  {
   "cell_type": "markdown",
   "id": "b6cc388a",
   "metadata": {},
   "source": [
    "\n",
    "*La connaissance de cette notion n'est pas exigible à l'examen.*\n",
    "\n",
    "Il existe une syntaxe abrégée, inspirée de la notation ensembliste des mathématiques, qui permet de définir rapidement des listes. On parle de mutations de listes, ou *list comprehensions* en Anglais.\n",
    "\n",
    "La syntaxe est :\n",
    "\n",
    "```\n",
    "lst = [<forme d'un élement> for <variable> in <iterable>]\n",
    "```\n",
    "\n",
    "Cette écriture est équivalente à la syntaxe habituelle suivante :\n",
    "\n",
    "```\n",
    "lst = []\n",
    "for <variable> in <iterable>:\n",
    "    lst.append(<forme d'un element>)\n",
    "```\n",
    "\n",
    "On peu aussi rajouter une condition :\n",
    "\n",
    "```\n",
    "lst = [<forme d'un élement> for <variable> in <iterable> if <condition>]\n",
    "```\n",
    "\n",
    "Ce qui équivaut à :\n",
    "\n",
    "```\n",
    "lst = []\n",
    "for <variable> in <iterable>:\n",
    "    if <condition>:\n",
    "        lst.append(<forme d'un element>)\n",
    "```\n",
    "\n",
    "Voici quelques exemples :"
   ]
  },
  {
   "cell_type": "code",
   "execution_count": 16,
   "id": "d478ccc6",
   "metadata": {},
   "outputs": [
    {
     "data": {
      "text/plain": [
       "[0, 1, 4, 9, 16, 25, 36, 49, 64, 81]"
      ]
     },
     "execution_count": 16,
     "metadata": {},
     "output_type": "execute_result"
    }
   ],
   "source": [
    "[i*i for i in range(10)]  # liste des 10 premiers carrés"
   ]
  },
  {
   "cell_type": "code",
   "execution_count": 17,
   "id": "63540234",
   "metadata": {},
   "outputs": [
    {
     "data": {
      "text/plain": [
       "[0, 1, 4, 9, 16, 25, 36, 49, 64, 81]"
      ]
     },
     "execution_count": 17,
     "metadata": {},
     "output_type": "execute_result"
    }
   ],
   "source": [
    "lst = []\n",
    "for i in range(10):\n",
    "    lst.append(i*i)\n",
    "lst"
   ]
  },
  {
   "cell_type": "code",
   "execution_count": null,
   "id": "15e5452b",
   "metadata": {},
   "outputs": [],
   "source": [
    "[i*i for i in range(10) if i*i % 2 == 0]"
   ]
  },
  {
   "cell_type": "code",
   "execution_count": null,
   "id": "9b5147df",
   "metadata": {},
   "outputs": [],
   "source": [
    "[c for c in 'anticonstitutionnellement' if c in 'aeiouy']  # liste des voyelles d'un mot"
   ]
  },
  {
   "cell_type": "markdown",
   "id": "1075355c",
   "metadata": {},
   "source": [
    "On peut aussi utiliser plusieurs boucles et conditions :\n",
    "\n",
    "```\n",
    "lst = [<forme d'un élement> \n",
    "       for <variable1> in <iterable1>\n",
    "       for <variable2> in <iterable2>\n",
    "       if <condition>]\n",
    "```\n",
    "\n",
    "Ce qui équivaut à :\n",
    "\n",
    "```\n",
    "lst = []\n",
    "for <variable1> in <iterable1>:\n",
    "    for <variable2> in <iterable2>:\n",
    "        if <condition>:\n",
    "            lst.append(<forme d'un element>)\n",
    "```\n",
    "\n",
    "Exemple :"
   ]
  },
  {
   "cell_type": "code",
   "execution_count": null,
   "id": "e83528ad",
   "metadata": {},
   "outputs": [],
   "source": [
    "[(x, y) for x in [1,2,3] for y in [3,1,4] if x != y]"
   ]
  },
  {
   "cell_type": "markdown",
   "id": "d1a6268b",
   "metadata": {},
   "source": [
    "On peut également imbriquer les expressions de ce type :"
   ]
  },
  {
   "cell_type": "code",
   "execution_count": null,
   "id": "9a557029",
   "metadata": {},
   "outputs": [],
   "source": [
    "[[i + j for j in range(5)] for i in range(5)]"
   ]
  },
  {
   "cell_type": "markdown",
   "id": "f5fedf93",
   "metadata": {},
   "source": [
    "## Retour sur les chaînes de caractères (type `str`)"
   ]
  },
  {
   "cell_type": "markdown",
   "id": "896c8bb7",
   "metadata": {},
   "source": [
    "Les chaînes de caractères (`str`) sont aussi des séquences (et des itérables) !\n",
    "\n",
    "Type `str` : **séquence** **non mutable** et **itérable** de caractères\n",
    "\n",
    "En tant que séquences, les chaînes autorisent :\n",
    "  \n",
    "- `s[i]` : accès à un caractère par son indice\n",
    "- `len(s)` :  longueur\n",
    "- `min(s)`, `max(s)` : minimum et maximum\n",
    "- `s1 in s2`, `s1 not in s2` : recherche de sous-chaîne\n",
    "- `s2.index(s1)` : position de sous-chaîne\n",
    "- `s2.count(s1)` : comptage de sous-chaînes\n",
    "- `s1 + s2`, `s * 3` : concaténation et répétition\n",
    "         \n",
    "En tant que séquences **immutables**, les chaînes interdisent :\n",
    "  \n",
    "`s.append('a')`, `s1.extend(s2)`, `s.insert(i, x)`, `s.pop()`, `s.pop(i)`, `s.remove(x)`, `s.clear()`, `s[i] = x`, `s.reverse()`, `s.sort()`...\n",
    "\n",
    "En tant qu'objets **itérables**, les chaînes peuvent être utilisées dans des\n",
    "boucles `for` :"
   ]
  },
  {
   "cell_type": "code",
   "execution_count": 18,
   "id": "14b85065",
   "metadata": {},
   "outputs": [
    {
     "name": "stdout",
     "output_type": "stream",
     "text": [
      "H\n",
      "i\n",
      "l\n",
      "d\n",
      "e\n",
      "g\n",
      "a\n",
      "r\n",
      "d\n",
      "e\n"
     ]
    }
   ],
   "source": [
    "s = 'Hildegarde'\n",
    "# afficher les caractères de s, un par ligne\n",
    "for c in s:\n",
    "    print(c)"
   ]
  },
  {
   "cell_type": "markdown",
   "id": "01424a79",
   "metadata": {},
   "source": [
    "... et acceptent la conversion en liste :"
   ]
  },
  {
   "cell_type": "code",
   "execution_count": 19,
   "id": "0588420d",
   "metadata": {},
   "outputs": [
    {
     "data": {
      "text/plain": [
       "['H', 'i', 'l', 'd', 'e', 'g', 'a', 'r', 'd', 'e']"
      ]
     },
     "execution_count": 19,
     "metadata": {},
     "output_type": "execute_result"
    }
   ],
   "source": [
    "s = 'Hildegarde'\n",
    "list(s)"
   ]
  },
  {
   "cell_type": "markdown",
   "id": "910049b4",
   "metadata": {},
   "source": [
    "### Méthodes sur les chaînes"
   ]
  },
  {
   "cell_type": "markdown",
   "id": "00890ef2",
   "metadata": {},
   "source": [
    "\n",
    "De très nombreuses méthodes existent sur les chaînes :"
   ]
  },
  {
   "cell_type": "code",
   "execution_count": 20,
   "id": "dcbef0f8",
   "metadata": {
    "scrolled": true
   },
   "outputs": [
    {
     "data": {
      "text/plain": [
       "['__add__',\n",
       " '__class__',\n",
       " '__contains__',\n",
       " '__delattr__',\n",
       " '__dir__',\n",
       " '__doc__',\n",
       " '__eq__',\n",
       " '__format__',\n",
       " '__ge__',\n",
       " '__getattribute__',\n",
       " '__getitem__',\n",
       " '__getnewargs__',\n",
       " '__gt__',\n",
       " '__hash__',\n",
       " '__init__',\n",
       " '__init_subclass__',\n",
       " '__iter__',\n",
       " '__le__',\n",
       " '__len__',\n",
       " '__lt__',\n",
       " '__mod__',\n",
       " '__mul__',\n",
       " '__ne__',\n",
       " '__new__',\n",
       " '__reduce__',\n",
       " '__reduce_ex__',\n",
       " '__repr__',\n",
       " '__rmod__',\n",
       " '__rmul__',\n",
       " '__setattr__',\n",
       " '__sizeof__',\n",
       " '__str__',\n",
       " '__subclasshook__',\n",
       " 'capitalize',\n",
       " 'casefold',\n",
       " 'center',\n",
       " 'count',\n",
       " 'encode',\n",
       " 'endswith',\n",
       " 'expandtabs',\n",
       " 'find',\n",
       " 'format',\n",
       " 'format_map',\n",
       " 'index',\n",
       " 'isalnum',\n",
       " 'isalpha',\n",
       " 'isascii',\n",
       " 'isdecimal',\n",
       " 'isdigit',\n",
       " 'isidentifier',\n",
       " 'islower',\n",
       " 'isnumeric',\n",
       " 'isprintable',\n",
       " 'isspace',\n",
       " 'istitle',\n",
       " 'isupper',\n",
       " 'join',\n",
       " 'ljust',\n",
       " 'lower',\n",
       " 'lstrip',\n",
       " 'maketrans',\n",
       " 'partition',\n",
       " 'removeprefix',\n",
       " 'removesuffix',\n",
       " 'replace',\n",
       " 'rfind',\n",
       " 'rindex',\n",
       " 'rjust',\n",
       " 'rpartition',\n",
       " 'rsplit',\n",
       " 'rstrip',\n",
       " 'split',\n",
       " 'splitlines',\n",
       " 'startswith',\n",
       " 'strip',\n",
       " 'swapcase',\n",
       " 'title',\n",
       " 'translate',\n",
       " 'upper',\n",
       " 'zfill']"
      ]
     },
     "execution_count": 20,
     "metadata": {},
     "output_type": "execute_result"
    }
   ],
   "source": [
    "dir(\"\")"
   ]
  },
  {
   "cell_type": "markdown",
   "id": "9c5b3817",
   "metadata": {},
   "source": [
    "Nous les découvrirons au fur et à mesure (et pas toutes). *Si vous êtes curieux... pensez à la [doc](https://docs.python.org/3/) !* En voici quelques unes :\n",
    "* `s.capitalize()` : renvoie une copie de la chaîne avec son premier caractère en majuscule et le reste en minuscule.\n",
    "* `s.find(sub)` : donne la première la position dans la chaîne où *sub* est trouvé\n",
    "* `s.join(iterable)` : donne une chaîne qui est la concaténation des chaînes contenues dans *iterable*\n",
    "* `s.split(sep)` : renvoie une liste des mots de la chaîne, en utilisant *sep* comme séparateur de mots. Si *sep* n'est pas donné, le séparateur utilisé est l'espace\n",
    "* `s.replace(old, new)` : renvoie une copie de la chaîne dont toutes les occurrences de la sous-chaîne *old* sont remplacés par *new*. \n",
    "* *etc.*\n"
   ]
  },
  {
   "cell_type": "code",
   "execution_count": 21,
   "id": "a74c50d4",
   "metadata": {},
   "outputs": [
    {
     "name": "stdout",
     "output_type": "stream",
     "text": [
      "Ceci est un titre\n",
      "ceci est un titre\n"
     ]
    }
   ],
   "source": [
    "s='ceci est un titre'\n",
    "print(s.capitalize()) # renvoie une nouvelle chaine\n",
    "print(s) # str est non mutable, s n'a donc pas été modifiée"
   ]
  },
  {
   "cell_type": "code",
   "execution_count": 24,
   "id": "7a72454c",
   "metadata": {},
   "outputs": [
    {
     "name": "stdout",
     "output_type": "stream",
     "text": [
      "5\n"
     ]
    }
   ],
   "source": [
    "print(s.find(\"est\"))"
   ]
  },
  {
   "cell_type": "code",
   "execution_count": 25,
   "id": "338db6cb",
   "metadata": {},
   "outputs": [
    {
     "data": {
      "text/plain": [
       "'knights who say ni'"
      ]
     },
     "execution_count": 25,
     "metadata": {},
     "output_type": "execute_result"
    }
   ],
   "source": [
    "\" \".join([\"knights\", \"who\", \"say\", \"ni\"])"
   ]
  },
  {
   "cell_type": "code",
   "execution_count": 27,
   "id": "6e6a25dd",
   "metadata": {},
   "outputs": [
    {
     "data": {
      "text/plain": [
       "'knights--who--say--ni'"
      ]
     },
     "execution_count": 27,
     "metadata": {},
     "output_type": "execute_result"
    }
   ],
   "source": [
    "\"--\".join([\"knights\", \"who\", \"say\", \"ni\"])"
   ]
  },
  {
   "cell_type": "code",
   "execution_count": 28,
   "id": "e1632a53",
   "metadata": {},
   "outputs": [
    {
     "name": "stdout",
     "output_type": "stream",
     "text": [
      "['ceci', 'est', 'un', 'titre']\n"
     ]
    }
   ],
   "source": [
    "print(s.split(' '))"
   ]
  },
  {
   "cell_type": "code",
   "execution_count": 29,
   "id": "e771a9b4",
   "metadata": {},
   "outputs": [
    {
     "name": "stdout",
     "output_type": "stream",
     "text": [
      "['c', 'ci ', 'st un titr', '']\n"
     ]
    }
   ],
   "source": [
    "print(s.split('e'))"
   ]
  },
  {
   "cell_type": "code",
   "execution_count": 30,
   "id": "441ce2d6",
   "metadata": {},
   "outputs": [
    {
     "name": "stdout",
     "output_type": "stream",
     "text": [
      "['ceci', 'est', 'un', 'titre']\n"
     ]
    }
   ],
   "source": [
    "print(s.split())"
   ]
  },
  {
   "cell_type": "markdown",
   "id": "5c5b0c15",
   "metadata": {},
   "source": [
    "# <img src='img/non-exigible.png' width='35px' style='display:inline'> Au-delà de cette limite, le contenu n'est pas au programme du CC1\n",
    "Il peut cependant vous aider pour le projet, c'est pourquoi nous le mettons en ligne."
   ]
  },
  {
   "cell_type": "markdown",
   "id": "c6e311cb",
   "metadata": {},
   "source": [
    "## Tuples (ou *$n$-uplets*)"
   ]
  },
  {
   "cell_type": "markdown",
   "id": "75a84d07",
   "metadata": {},
   "source": [
    "Ils sont similaires aux listes mais il sont **non mutables**. \n",
    "\n",
    "Type `tuple` : **séquence** **non mutable** et **itérable**\n",
    "\n",
    "En tant que séquences, les tuples autorisent :\n",
    "  \n",
    "- `t[i]` : accès à un élément par son indice\n",
    "- `len(t)` :  longueur\n",
    "- `min(t)`, `max(t)` : minimum et maximum\n",
    "- `elem in t` : recherche d'élément\n",
    "- `t.index(elem)` : position d'élément\n",
    "- `t.count(elem)` : comptage d'élément\n",
    "- `t1 + t2`, `t * 3` : concaténation et répétition"
   ]
  },
  {
   "cell_type": "markdown",
   "id": "5610857b",
   "metadata": {},
   "source": [
    "En tant que séquences **immutables**, les tuples interdisent :\n",
    "  \n",
    "`t.append('a')`, `t1.extend(t2)`, `t.insert(i, elem)`, `t.pop()`, `t.pop(i)`, `t.remove(x)`, `t.clear()`, `t[i] = elem`, `t.reverse()`, `t.sort()`..."
   ]
  },
  {
   "cell_type": "markdown",
   "id": "78f05047",
   "metadata": {},
   "source": [
    "En tant qu'objets **itérables**, les tuples peuvent être utilisées dans des boucles `for` :"
   ]
  },
  {
   "cell_type": "code",
   "execution_count": 31,
   "id": "e36c2522",
   "metadata": {},
   "outputs": [
    {
     "name": "stdout",
     "output_type": "stream",
     "text": [
      "machin\n",
      "bidule\n",
      "chose\n"
     ]
    }
   ],
   "source": [
    "trucs = ('machin', 'bidule', 'chose')\n",
    "for elem in trucs:\n",
    "    print(elem)"
   ]
  },
  {
   "cell_type": "markdown",
   "id": "0edbbd01",
   "metadata": {},
   "source": [
    "\n",
    "Ils s'utilisent par exemple pour mémoriser les coordonnées d'un point du plan, une fraction...\n",
    "\n",
    "On les note avec des parenthèses:"
   ]
  },
  {
   "cell_type": "code",
   "execution_count": 32,
   "id": "e12db975",
   "metadata": {},
   "outputs": [
    {
     "data": {
      "text/plain": [
       "tuple"
      ]
     },
     "execution_count": 32,
     "metadata": {},
     "output_type": "execute_result"
    }
   ],
   "source": [
    "couple = (2, 64)\n",
    "type(couple)"
   ]
  },
  {
   "cell_type": "code",
   "execution_count": 33,
   "id": "6f814323",
   "metadata": {},
   "outputs": [
    {
     "data": {
      "text/plain": [
       "64"
      ]
     },
     "execution_count": 33,
     "metadata": {},
     "output_type": "execute_result"
    }
   ],
   "source": [
    "couple[1]"
   ]
  },
  {
   "cell_type": "markdown",
   "id": "d042d433",
   "metadata": {},
   "source": [
    "Il est souvent pratique d'affecter simultanément chacun des éléments d'un tuple à une variable. Par exemple :"
   ]
  },
  {
   "cell_type": "code",
   "execution_count": 34,
   "id": "374fea9a",
   "metadata": {},
   "outputs": [
    {
     "name": "stdout",
     "output_type": "stream",
     "text": [
      "3\n",
      "4\n"
     ]
    }
   ],
   "source": [
    "fraction = (3, 4)\n",
    "num, denom = fraction\n",
    "print(num)\n",
    "print(denom)"
   ]
  },
  {
   "cell_type": "markdown",
   "id": "41fdfeb7",
   "metadata": {},
   "source": [
    "Les parenthèses sont parfois omises autour des éléments d'un `tuple` :"
   ]
  },
  {
   "cell_type": "code",
   "execution_count": 35,
   "id": "86177415",
   "metadata": {},
   "outputs": [
    {
     "name": "stdout",
     "output_type": "stream",
     "text": [
      "3\n",
      "4\n"
     ]
    }
   ],
   "source": [
    "fraction = 3, 4  # pas de parenthèses !\n",
    "num, denom = fraction\n",
    "print(num)\n",
    "print(denom)"
   ]
  },
  {
   "cell_type": "markdown",
   "id": "70e6c07b",
   "metadata": {},
   "source": [
    "On se sert généralement d'un `tuple` pour renvoyer un résultat composé de plusieurs valeurs dans une fonction :"
   ]
  },
  {
   "cell_type": "code",
   "execution_count": 36,
   "id": "8a4085ae",
   "metadata": {},
   "outputs": [],
   "source": [
    "def produit_fractions(f1, f2):\n",
    "    num1, denom1 = f1\n",
    "    num2, denom2 = f2\n",
    "    return num1 * num2, denom1 * denom2  # c'est un tuple !"
   ]
  },
  {
   "cell_type": "code",
   "execution_count": 37,
   "id": "4250da6f",
   "metadata": {},
   "outputs": [
    {
     "data": {
      "text/plain": [
       "(5, 6)"
      ]
     },
     "execution_count": 37,
     "metadata": {},
     "output_type": "execute_result"
    }
   ],
   "source": [
    "frac1 = (1, 3)\n",
    "frac2 = (5, 2)\n",
    "produit_fractions(frac1, frac2)"
   ]
  },
  {
   "cell_type": "markdown",
   "id": "1d0bb5b1",
   "metadata": {},
   "source": [
    "## Fichiers"
   ]
  },
  {
   "cell_type": "markdown",
   "id": "cc697e32",
   "metadata": {},
   "source": [
    "Il est possible de consulter le contenu d'un fichier texte en Python, et de le modifier. On accède la plupart du temps aux lignes successives d'un fichier à l'aide d'une boucle `for`."
   ]
  },
  {
   "cell_type": "markdown",
   "id": "a4efb516",
   "metadata": {},
   "source": [
    "### Descripteurs de fichiers (type `file`)"
   ]
  },
  {
   "cell_type": "markdown",
   "id": "7d06a617",
   "metadata": {},
   "source": [
    "Ouverture d'un fichier : `f = open(chemin, mode)`\n",
    "\n",
    "- Paramètre `chemin` (chaîne de caractère) : nom (absolu ou relatif) d'un fichier\n",
    "- Paramètre `mode` (chaîne de caractère) :\n",
    "  - lecture seule : `'r'` (par défaut)\n",
    "  - écriture (crée / écrase le fichier) : `'w'`\n",
    "  - ajout (écrit à la fin) : `'a'`\n",
    "  - *autres modes possibles pour fichiers binaires*\n",
    "\n",
    "Fermeture : `f.close()`"
   ]
  },
  {
   "cell_type": "markdown",
   "id": "d0f583f2",
   "metadata": {},
   "source": [
    "### Lire et écrire dans un fichier\n",
    "\n",
    "Lecture (mode `'r'`) :\n",
    "\n",
    "-   Tout lire d'un coup (une seule chaîne) : `contenu = f.read()`  \n",
    "    **Attention :** charge tout le fichier en mémoire !  \n",
    "    **Attention :** inclut les retours à la ligne\n",
    "\n",
    "-   Liste des lignes (liste de chaînes) : `lst_lignes = f.readlines()`  \n",
    "    **Attention :** charge tout le fichier en mémoire !  \n",
    "    **Attention :** inclut les retours à la ligne\n",
    "    \n",
    "-   Prochaine ligne : `ligne = f.readline()`  \n",
    "    **Attention :** renvoie une chaîne vide à la fin\n",
    "\n",
    "-   Parcours ligne par ligne : `for ligne in f: ...`\n",
    "\n",
    "Écriture (modes `'w'` et `'a'`) : `f.write(chaine)`\n",
    "\n",
    "**Attention :** n'inclut pas de retour à la ligne (`'\\n'`) automatique !"
   ]
  },
  {
   "cell_type": "code",
   "execution_count": 1,
   "id": "d750a3e0",
   "metadata": {},
   "outputs": [],
   "source": [
    "f = open('test.txt', 'w')\n",
    "for chaine in ['au', 'revoir', 'tout', 'le', 'monde !']:\n",
    "    f.write(chaine)\n",
    "f.close()"
   ]
  },
  {
   "cell_type": "code",
   "execution_count": 2,
   "id": "93946412",
   "metadata": {},
   "outputs": [],
   "source": [
    "f = open('test.txt', 'w')\n",
    "f.write(\"\\n\".join(['au', 'revoir', 'tout', 'le', 'monde !']))\n",
    "f.close()"
   ]
  },
  {
   "cell_type": "code",
   "execution_count": 3,
   "id": "7d99e2ab",
   "metadata": {},
   "outputs": [],
   "source": [
    "f = open('test.txt', 'a')\n",
    "f.write('(signé : Machin)\\n')\n",
    "f.close()"
   ]
  },
  {
   "cell_type": "code",
   "execution_count": 4,
   "id": "f6c371f7",
   "metadata": {},
   "outputs": [
    {
     "name": "stdout",
     "output_type": "stream",
     "text": [
      "au\n",
      "revoir\n",
      "tout\n",
      "le\n",
      "monde !(signé : Machin)\n"
     ]
    }
   ],
   "source": [
    "f = open('test.txt', 'r')\n",
    "for ligne in f:\n",
    "    # strip supprime les espaces avant et après la chaîne\n",
    "    print(ligne.strip()) \n",
    "f.close()"
   ]
  },
  {
   "cell_type": "code",
   "execution_count": 5,
   "id": "d7bc31e0",
   "metadata": {},
   "outputs": [
    {
     "name": "stdout",
     "output_type": "stream",
     "text": [
      "{\n",
      "\"cells\": [\n",
      "{\n",
      "\"cell_type\": \"markdown\",\n",
      "\"metadata\": {\n",
      "\"slideshow\": {\n",
      "\"slide_type\": \"slide\"\n",
      "}\n",
      "},\n",
      "\"source\": [\n",
      "\"<div style='float:center; margin-right:20pt; width:30em'><img src='../img/logo-igm.png'></div>\\n\",\n",
      "\"<div style='float:center; font-size:large'>\\n\",\n",
      "\"    <strong>Algorithmique et programmation 1</strong><br>\\n\",\n",
      "\"    L1 Mathématiques - L1 Informatique<br>\\n\",\n",
      "\"    Semestre 1\\n\",\n",
      "\"</div>\"\n",
      "]\n",
      "},\n",
      "{\n",
      "\"cell_type\": \"markdown\",\n",
      "\"metadata\": {},\n",
      "\"source\": [\n",
      "\"# Chapitre 6 - Séquences et itérables - La boucle `for`\"\n",
      "]\n",
      "},\n",
      "{\n",
      "\"cell_type\": \"markdown\",\n",
      "\"metadata\": {},\n",
      "\"source\": [\n",
      "\"## Les listes : récapitulatif\"\n",
      "]\n",
      "},\n",
      "{\n",
      "\"cell_type\": \"markdown\",\n",
      "\"metadata\": {},\n",
      "\"source\": [\n",
      "\"\\n\",\n",
      "\"Type `list` : **séquence** **mutable** d'objets quelconques\\n\",\n",
      "\"\\n\",\n",
      "\"Les opérateurs et fonctions que nous avons rencontrés sont :\\n\",\n",
      "\"\\n\",\n",
      "\"- `L[i]`, `L[i][j]` : accès à un élément\\n\",\n",
      "\"- `len(L)` :  longueur\\n\",\n",
      "\"- `min(L)`, `max(L)` : minimum et maximum\\n\",\n",
      "\"- `x in L`, `x not in L` : test d'appartenance\\n\",\n",
      "\"- `L1 + L2`, `L * 3` : concaténation et répétition\\n\",\n",
      "\"- `L[i] = x` : modification de l'élément d'indice `i`\\n\",\n",
      "\"- `L2 = sorted(L)` : fabrication de liste triée\\n\",\n",
      "\"\\n\",\n",
      "\"Les principales méthodes que nous avons rencontrées sont :\\n\",\n",
      "\"\\n\",\n",
      "\"- `L.append(4)` : ajout d'un élément en fin de liste\\n\",\n",
      "\"- `L1.extend(L2)` : ajout d'une liste d'éléments en fin de liste\\n\",\n",
      "\"- `x = L.pop()` : suppression du dernier élément\\n\",\n",
      "\"- `x = L.pop(i)` : suppression de l'élément d'indice `i`\\n\",\n",
      "\"* `L.index(x)` : indice de la première occurrence de `x`\\n\",\n",
      "\"* `L.count(x)` : nombre d'occurrences de `x`\\n\",\n",
      "\"* `L.clear()` : retire tous les éléments de `L`\\n\",\n",
      "\"* `L.copy()` : crée une copie *(superficielle)* de `L`\\n\",\n",
      "\"* `L.reverse()` : renverse la liste `L`\\n\",\n",
      "\"* `L.remove(x)` : retire la première occurrence de `x`\\n\",\n",
      "\"* `L.insert(i, x)` : insère `x` avant la position `i`\\n\",\n",
      "\"* `L.sort()` : trie sur place la liste `L` \\n\",\n",
      "\"\\n\",\n",
      "\"Consulter la [documentation en ligne](https://docs.python.org/3/) pour plus de\\n\",\n",
      "\"détails\"\n",
      "]\n",
      "},\n",
      "{\n",
      "\"cell_type\": \"markdown\",\n",
      "\"metadata\": {},\n",
      "\"source\": [\n",
      "\"**Rappel :** fonctions imitant les méthodes prédéfinies sur les listes\"\n",
      "]\n",
      "},\n",
      "{\n",
      "\"cell_type\": \"code\",\n",
      "\"execution_count\": null,\n",
      "\"metadata\": {},\n",
      "\"outputs\": [],\n",
      "\"source\": [\n",
      "\"def chercher(L, x):\\n\",\n",
      "\"    i = 0\\n\",\n",
      "\"    while i < len(L):\\n\",\n",
      "\"        if L[i] == x:\\n\",\n",
      "\"            # pas la peine d'aller plus loin\\n\",\n",
      "\"            return i\\n\",\n",
      "\"        i += 1\\n\",\n",
      "\"    # élément non trouvé\\n\",\n",
      "\"    return None\\n\",\n",
      "\"\\n\",\n",
      "\"def compter(L, x):\\n\",\n",
      "\"    i = 0\\n\",\n",
      "\"    cpt = 0\\n\",\n",
      "\"    while i < len(L):\\n\",\n",
      "\"        if L[i] == x:\\n\",\n",
      "\"            cpt += 1\\n\",\n",
      "\"        i += 1\\n\",\n",
      "\"    return cpt\\n\",\n",
      "\"\\n\",\n",
      "\"def vider(L):\\n\",\n",
      "\"    # cette fonction n'est pas vraiment\\n\",\n",
      "\"    # implémentée comme ça en principe...\\n\",\n",
      "\"    while len(L) > 0:\\n\",\n",
      "\"        L.pop()\\n\",\n",
      "\"\\n\",\n",
      "\"def copier(L):\\n\",\n",
      "\"    copie = []\\n\",\n",
      "\"    i = 0\\n\",\n",
      "\"    while i < len(L):\\n\",\n",
      "\"        copie.append(L[i])\\n\",\n",
      "\"        i += 1\\n\",\n",
      "\"    return copie\\n\",\n",
      "\"\\n\",\n",
      "\"def renverser(L):\\n\",\n",
      "\"    i = 0\\n\",\n",
      "\"    while i < len(L) // 2:\\n\",\n",
      "\"        # chaque élément de la première moitié\\n\",\n",
      "\"        # est interverti avec l'élément symétrique\\n\",\n",
      "\"        temp = L[i]\\n\",\n",
      "\"        L[i] = L[len(L) - i - 1]\\n\",\n",
      "\"        L[len(L) - i - 1] = temp\\n\",\n",
      "\"        i += 1\\n\",\n",
      "\"\\n\",\n",
      "\"def retirer(L, x):\\n\",\n",
      "\"    i = chercher(L, x)\\n\",\n",
      "\"    if i != None:\\n\",\n",
      "\"        # décaler tous les éléments\\n\",\n",
      "\"        # suivants d'un cran à gauche\\n\",\n",
      "\"        while i < len(L) - 1:\\n\",\n",
      "\"            L[i] = L[i + 1]\\n\",\n",
      "\"            i += 1\\n\",\n",
      "\"        # supprimer la dernière case\\n\",\n",
      "\"        L.pop()\\n\",\n",
      "\"\\n\",\n",
      "\"def inserer(L, i, x):\\n\",\n",
      "\"    if i >= len(L):\\n\",\n",
      "\"        # le nouvel élément va à la fin\\n\",\n",
      "\"        L.append(x)\\n\",\n",
      "\"    else:\\n\",\n",
      "\"        # décaler le dernier élément d'un cran à droite (nouvelle case)\\n\",\n",
      "\"        L.append(L[len(L) - 1])\\n\",\n",
      "\"        # décaler tous les éléments d'indices i à len(L)-2 vers la droite\\n\",\n",
      "\"        # (en partant de l'ancienne fin)\\n\",\n",
      "\"        j = len(L) - 2\\n\",\n",
      "\"        while j > i:\\n\",\n",
      "\"            L[j] = L[j - 1]\\n\",\n",
      "\"            j -= 1\\n\",\n",
      "\"        # placer le nouvel élément\\n\",\n",
      "\"        L[i] = x\"\n",
      "]\n",
      "},\n",
      "{\n",
      "\"cell_type\": \"markdown\",\n",
      "\"metadata\": {},\n",
      "\"source\": [\n",
      "\"## Parcours de liste revisité : la boucle `for`\"\n",
      "]\n",
      "},\n",
      "{\n",
      "\"cell_type\": \"markdown\",\n",
      "\"metadata\": {},\n",
      "\"source\": [\n",
      "\"\\n\",\n",
      "\"Parcours de liste avec une boucle `while` :\\n\",\n",
      "\"\\n\",\n",
      "\"```python\\n\",\n",
      "\"ma_liste = ...\\n\",\n",
      "\"i = 0\\n\",\n",
      "\"while i < len(ma_liste):\\n\",\n",
      "\"    faire_un_truc_avec(i)\\n\",\n",
      "\"    i += 1\\n\",\n",
      "\"```\\n\",\n",
      "\"\\n\",\n",
      "\"*Inconvénients :*\\n\",\n",
      "\"\\n\",\n",
      "\"* Oubli fréquent de l'incrémentation de `i` *(surtout si le corps de la boucle\\n\",\n",
      "\"  est long)*\\n\",\n",
      "\"* Erreurs possibles dans l'initialisation et le test\"\n",
      "]\n",
      "},\n",
      "{\n",
      "\"cell_type\": \"markdown\",\n",
      "\"metadata\": {},\n",
      "\"source\": [\n",
      "\"Autre forme de parcours (**itération**):\\n\",\n",
      "\"\\n\",\n",
      "\"```python\\n\",\n",
      "\"ma_liste = ...\\n\",\n",
      "\"for elem in ma_liste:\\n\",\n",
      "\"    faire_un_truc_avec(elem)\\n\",\n",
      "\"```\\n\",\n",
      "\"\\n\",\n",
      "\"*Avantages :*\\n\",\n",
      "\"\\n\",\n",
      "\"- Absence des inconvénients du `while`...\\n\",\n",
      "\"- Code plus lisible (pas de `[i]`)\\n\",\n",
      "\"  \\n\",\n",
      "\"*Inconvénient :*\\n\",\n",
      "\"\\n\",\n",
      "\"Pas d'accès à l'indice courant \"\n",
      "]\n",
      "},\n",
      "{\n",
      "\"cell_type\": \"markdown\",\n",
      "\"metadata\": {},\n",
      "\"source\": [\n",
      "\"\\n\",\n",
      "\"**Exercice :** \\n\",\n",
      "\"\\n\",\n",
      "\"Reprendre les fonctions `compter`, `copier` et `chercher` en utilisant des boucles `for`\"\n",
      "]\n",
      "},\n",
      "{\n",
      "\"cell_type\": \"code\",\n",
      "\"execution_count\": 1,\n",
      "\"metadata\": {},\n",
      "\"outputs\": [],\n",
      "\"source\": [\n",
      "\"def compter(L, x):\\n\",\n",
      "\"    cpt = 0\\n\",\n",
      "\"    for elem in L:\\n\",\n",
      "\"        if elem == x:\\n\",\n",
      "\"            cpt += 1\\n\",\n",
      "\"    return cpt\"\n",
      "]\n",
      "},\n",
      "{\n",
      "\"cell_type\": \"code\",\n",
      "\"execution_count\": 2,\n",
      "\"metadata\": {},\n",
      "\"outputs\": [\n",
      "{\n",
      "\"data\": {\n",
      "\"text/plain\": [\n",
      "\"3\"\n",
      "]\n",
      "},\n",
      "\"execution_count\": 2,\n",
      "\"metadata\": {},\n",
      "\"output_type\": \"execute_result\"\n",
      "}\n",
      "],\n",
      "\"source\": [\n",
      "\"compter([0, 0, 1, 0, 1, 1, 0], 1)\"\n",
      "]\n",
      "},\n",
      "{\n",
      "\"cell_type\": \"code\",\n",
      "\"execution_count\": 3,\n",
      "\"metadata\": {},\n",
      "\"outputs\": [],\n",
      "\"source\": [\n",
      "\"def copier(L):\\n\",\n",
      "\"    copie = []\\n\",\n",
      "\"    for elem in L:\\n\",\n",
      "\"        copie.append(elem)\\n\",\n",
      "\"    return copie\"\n",
      "]\n",
      "},\n",
      "{\n",
      "\"cell_type\": \"code\",\n",
      "\"execution_count\": null,\n",
      "\"metadata\": {},\n",
      "\"outputs\": [],\n",
      "\"source\": [\n",
      "\"def chercher(L, x):\\n\",\n",
      "\"    for elem in L:\\n\",\n",
      "\"        if elem == x:\\n\",\n",
      "\"            return ... # ???\\n\",\n",
      "\"            # impossible de terminer, on a besoin d'un indice\\n\",\n",
      "\"    return None\"\n",
      "]\n",
      "},\n",
      "{\n",
      "\"cell_type\": \"markdown\",\n",
      "\"metadata\": {},\n",
      "\"source\": [\n",
      "\"**Problème :** pas d'accès à l'indice de `x` !\\n\",\n",
      "\"\\n\",\n",
      "\"**Solution :** itérer sur un intervalle d'indices -- fonction `range()`\"\n",
      "]\n",
      "},\n",
      "{\n",
      "\"cell_type\": \"markdown\",\n",
      "\"metadata\": {},\n",
      "\"source\": [\n",
      "\"## Intervalles d'entiers : `range`\\n\",\n",
      "\"\\n\",\n",
      "\"La fonction `range` fabrique des intervalles d'entiers\\n\",\n",
      "\"\\n\",\n",
      "\"* `range(i)` : entiers de 0 à `i-1`\\n\",\n",
      "\"* `range(i, j)` : entiers de `i` à `j-1`\\n\",\n",
      "\"* `range(i, j, k)` : entiers de `i` à `j-1` par\\n\",\n",
      "\"  pas de `k`\"\n",
      "]\n",
      "},\n",
      "{\n",
      "\"cell_type\": \"markdown\",\n",
      "\"metadata\": {},\n",
      "\"source\": [\n",
      "\"Opérations autorisées sur un `range` `r`:\\n\",\n",
      "\"\\n\",\n",
      "\"* `x in r, x not in r, r[i]`\\n\",\n",
      "\"* `len(r), min(r), max(r), r.index(x), r.count(x)`\\n\",\n",
      "\"* `list(r)` (conversion en liste)\"\n",
      "]\n",
      "},\n",
      "{\n",
      "\"cell_type\": \"code\",\n",
      "\"execution_count\": 4,\n",
      "\"metadata\": {},\n",
      "\"outputs\": [\n",
      "{\n",
      "\"name\": \"stdout\",\n",
      "\"output_type\": \"stream\",\n",
      "\"text\": [\n",
      "\"range(0, 10)\\n\"\n",
      "]\n",
      "}\n",
      "],\n",
      "\"source\": [\n",
      "\"r = range(10)\\n\",\n",
      "\"print(r)\"\n",
      "]\n",
      "},\n",
      "{\n",
      "\"cell_type\": \"code\",\n",
      "\"execution_count\": 5,\n",
      "\"metadata\": {},\n",
      "\"outputs\": [\n",
      "{\n",
      "\"data\": {\n",
      "\"text/plain\": [\n",
      "\"0\"\n",
      "]\n",
      "},\n",
      "\"execution_count\": 5,\n",
      "\"metadata\": {},\n",
      "\"output_type\": \"execute_result\"\n",
      "}\n",
      "],\n",
      "\"source\": [\n",
      "\"r[0]\"\n",
      "]\n",
      "},\n",
      "{\n",
      "\"cell_type\": \"code\",\n",
      "\"execution_count\": 7,\n",
      "\"metadata\": {},\n",
      "\"outputs\": [\n",
      "{\n",
      "\"data\": {\n",
      "\"text/plain\": [\n",
      "\"1\"\n",
      "]\n",
      "},\n",
      "\"execution_count\": 7,\n",
      "\"metadata\": {},\n",
      "\"output_type\": \"execute_result\"\n",
      "}\n",
      "],\n",
      "\"source\": [\n",
      "\"r[1]\"\n",
      "]\n",
      "},\n",
      "{\n",
      "\"cell_type\": \"code\",\n",
      "\"execution_count\": 8,\n",
      "\"metadata\": {},\n",
      "\"outputs\": [\n",
      "{\n",
      "\"data\": {\n",
      "\"text/plain\": [\n",
      "\"9\"\n",
      "]\n",
      "},\n",
      "\"execution_count\": 8,\n",
      "\"metadata\": {},\n",
      "\"output_type\": \"execute_result\"\n",
      "}\n",
      "],\n",
      "\"source\": [\n",
      "\"max(r)\"\n",
      "]\n",
      "},\n",
      "{\n",
      "\"cell_type\": \"code\",\n",
      "\"execution_count\": 9,\n",
      "\"metadata\": {},\n",
      "\"outputs\": [\n",
      "{\n",
      "\"data\": {\n",
      "\"text/plain\": [\n",
      "\"24\"\n",
      "]\n",
      "},\n",
      "\"execution_count\": 9,\n",
      "\"metadata\": {},\n",
      "\"output_type\": \"execute_result\"\n",
      "}\n",
      "],\n",
      "\"source\": [\n",
      "\"r = range(10, 30, 7)\\n\",\n",
      "\"max(r)\"\n",
      "]\n",
      "},\n",
      "{\n",
      "\"cell_type\": \"code\",\n",
      "\"execution_count\": 10,\n",
      "\"metadata\": {},\n",
      "\"outputs\": [\n",
      "{\n",
      "\"data\": {\n",
      "\"text/plain\": [\n",
      "\"3\"\n",
      "]\n",
      "},\n",
      "\"execution_count\": 10,\n",
      "\"metadata\": {},\n",
      "\"output_type\": \"execute_result\"\n",
      "}\n",
      "],\n",
      "\"source\": [\n",
      "\"len(r)\"\n",
      "]\n",
      "},\n",
      "{\n",
      "\"cell_type\": \"code\",\n",
      "\"execution_count\": 11,\n",
      "\"metadata\": {},\n",
      "\"outputs\": [\n",
      "{\n",
      "\"data\": {\n",
      "\"text/plain\": [\n",
      "\"[10, 17, 24]\"\n",
      "]\n",
      "},\n",
      "\"execution_count\": 11,\n",
      "\"metadata\": {},\n",
      "\"output_type\": \"execute_result\"\n",
      "}\n",
      "],\n",
      "\"source\": [\n",
      "\"list(r)\"\n",
      "]\n",
      "},\n",
      "{\n",
      "\"cell_type\": \"markdown\",\n",
      "\"metadata\": {},\n",
      "\"source\": [\n",
      "\"Opérations interdites sur un `range` : **tout le reste**\\n\",\n",
      "\"\\n\",\n",
      "\"* Concaténation, répétition, affectation d'élément\\n\",\n",
      "\"* Autres méthodes de listes (`append`, etc.)\\n\",\n",
      "\"\\n\",\n",
      "\"Objets de type `range` : \\n\",\n",
      "\"\\n\",\n",
      "\"* **séquences** (comme les listes)\\n\",\n",
      "\"* **itérables** (utilisables dans un `for`, comme les listes)\\n\",\n",
      "\"* **non mutables** (non modifiables, pas comme les listes)\"\n",
      "]\n",
      "},\n",
      "{\n",
      "\"cell_type\": \"code\",\n",
      "\"execution_count\": 12,\n",
      "\"metadata\": {},\n",
      "\"outputs\": [\n",
      "{\n",
      "\"name\": \"stdout\",\n",
      "\"output_type\": \"stream\",\n",
      "\"text\": [\n",
      "\"0\\n\",\n",
      "\"1\\n\",\n",
      "\"2\\n\",\n",
      "\"3\\n\"\n",
      "]\n",
      "}\n",
      "],\n",
      "\"source\": [\n",
      "\"for i in range(4):\\n\",\n",
      "\"    print(i)\"\n",
      "]\n",
      "},\n",
      "{\n",
      "\"cell_type\": \"markdown\",\n",
      "\"metadata\": {},\n",
      "\"source\": [\n",
      "\"Caractéristique importante :\\n\",\n",
      "\"\\n\",\n",
      "\"* Non construit entièrement en mémoire\\n\",\n",
      "\"* `range(10000)` ne prend pas plus de place et ne prend pas plus de temps à construire que\\n\",\n",
      "\"  `range(2)`\\n\",\n",
      "\"* Éléments fabriqués « à la demande »\\n\",\n",
      "\"\\n\",\n",
      "\"Utilisation fréquente : parcours des indices d'une liste\"\n",
      "]\n",
      "},\n",
      "{\n",
      "\"cell_type\": \"code\",\n",
      "\"execution_count\": 13,\n",
      "\"metadata\": {},\n",
      "\"outputs\": [\n",
      "{\n",
      "\"name\": \"stdout\",\n",
      "\"output_type\": \"stream\",\n",
      "\"text\": [\n",
      "\"0 -> a\\n\",\n",
      "\"1 -> b\\n\",\n",
      "\"2 -> c\\n\"\n",
      "]\n",
      "}\n",
      "],\n",
      "\"source\": [\n",
      "\"L = ['a', 'b', 'c']\\n\",\n",
      "\"for i in range(len(L)):\\n\",\n",
      "\"    print(i, '->', L[i])\"\n",
      "]\n",
      "},\n",
      "{\n",
      "\"cell_type\": \"markdown\",\n",
      "\"metadata\": {},\n",
      "\"source\": [\n",
      "\"**Exercice :** Écrire une fonction `chercher(L, x)` qui recherche la première position de `x` dans `L` en utilisant une boucle `for` et la fonction `range`.\"\n",
      "]\n",
      "},\n",
      "{\n",
      "\"cell_type\": \"code\",\n",
      "\"execution_count\": null,\n",
      "\"metadata\": {},\n",
      "\"outputs\": [],\n",
      "\"source\": [\n",
      "\"def chercher(L, x):\\n\",\n",
      "\"    for i in range(len(L)):\\n\",\n",
      "\"        if L[i] == x:\\n\",\n",
      "\"            return i\\n\",\n",
      "\"    return None\"\n",
      "]\n",
      "},\n",
      "{\n",
      "\"cell_type\": \"markdown\",\n",
      "\"metadata\": {},\n",
      "\"source\": [\n",
      "\"## <img src='img/non-exigible.png' width='35px' style='display:inline'> Un autre type de parcours de liste : `enumerate`\"\n",
      "]\n",
      "},\n",
      "{\n",
      "\"cell_type\": \"markdown\",\n",
      "\"metadata\": {},\n",
      "\"source\": [\n",
      "\"\\n\",\n",
      "\"*La connaissance de cette notion n'est pas exigible à l'examen.*\\n\",\n",
      "\"\\n\",\n",
      "\"La fonction `enumerate(iterable)` permet d'itérer sur les couples `(i, elem)` constitués d'un indice et de l'élément correspondant dans `iterable`.\"\n",
      "]\n",
      "},\n",
      "{\n",
      "\"cell_type\": \"code\",\n",
      "\"execution_count\": 14,\n",
      "\"metadata\": {},\n",
      "\"outputs\": [],\n",
      "\"source\": [\n",
      "\"def chercher(L, x):\\n\",\n",
      "\"    for i, elem in enumerate(L):\\n\",\n",
      "\"        if elem == x:\\n\",\n",
      "\"            return i\\n\",\n",
      "\"    return None\"\n",
      "]\n",
      "},\n",
      "{\n",
      "\"cell_type\": \"code\",\n",
      "\"execution_count\": null,\n",
      "\"metadata\": {},\n",
      "\"outputs\": [],\n",
      "\"source\": [\n",
      "\"def lister(lst):\\n\",\n",
      "\"    for i, elem in enumerate(lst):\\n\",\n",
      "\"        print(i, '->', elem)\\n\",\n",
      "\"        \\n\",\n",
      "\"lister([6, 3, 8])\"\n",
      "]\n",
      "},\n",
      "{\n",
      "\"cell_type\": \"markdown\",\n",
      "\"metadata\": {},\n",
      "\"source\": [\n",
      "\"## <img src='img/non-exigible.png' width='35px' style='display:inline'> Mutations de listes\"\n",
      "]\n",
      "},\n",
      "{\n",
      "\"cell_type\": \"markdown\",\n",
      "\"metadata\": {},\n",
      "\"source\": [\n",
      "\"\\n\",\n",
      "\"*La connaissance de cette notion n'est pas exigible à l'examen.*\\n\",\n",
      "\"\\n\",\n",
      "\"Il existe une syntaxe abrégée, inspirée de la notation ensembliste des mathématiques, qui permet de définir rapidement des listes. On parle de mutations de listes, ou *list comprehensions* en Anglais.\\n\",\n",
      "\"\\n\",\n",
      "\"La syntaxe est :\\n\",\n",
      "\"\\n\",\n",
      "\"```\\n\",\n",
      "\"lst = [<forme d'un élement> for <variable> in <iterable>]\\n\",\n",
      "\"```\\n\",\n",
      "\"\\n\",\n",
      "\"Cette écriture est équivalente à la syntaxe habituelle suivante :\\n\",\n",
      "\"\\n\",\n",
      "\"```\\n\",\n",
      "\"lst = []\\n\",\n",
      "\"for <variable> in <iterable>:\\n\",\n",
      "\"    lst.append(<forme d'un element>)\\n\",\n",
      "\"```\\n\",\n",
      "\"\\n\",\n",
      "\"On peu aussi rajouter une condition :\\n\",\n",
      "\"\\n\",\n",
      "\"```\\n\",\n",
      "\"lst = [<forme d'un élement> for <variable> in <iterable> if <condition>]\\n\",\n",
      "\"```\\n\",\n",
      "\"\\n\",\n",
      "\"Ce qui équivaut à :\\n\",\n",
      "\"\\n\",\n",
      "\"```\\n\",\n",
      "\"lst = []\\n\",\n",
      "\"for <variable> in <iterable>:\\n\",\n",
      "\"    if <condition>:\\n\",\n",
      "\"        lst.append(<forme d'un element>)\\n\",\n",
      "\"```\\n\",\n",
      "\"\\n\",\n",
      "\"Voici quelques exemples :\"\n",
      "]\n",
      "},\n",
      "{\n",
      "\"cell_type\": \"code\",\n",
      "\"execution_count\": 16,\n",
      "\"metadata\": {},\n",
      "\"outputs\": [\n",
      "{\n",
      "\"data\": {\n",
      "\"text/plain\": [\n",
      "\"[0, 1, 4, 9, 16, 25, 36, 49, 64, 81]\"\n",
      "]\n",
      "},\n",
      "\"execution_count\": 16,\n",
      "\"metadata\": {},\n",
      "\"output_type\": \"execute_result\"\n",
      "}\n",
      "],\n",
      "\"source\": [\n",
      "\"[i*i for i in range(10)]  # liste des 10 premiers carrés\"\n",
      "]\n",
      "},\n",
      "{\n",
      "\"cell_type\": \"code\",\n",
      "\"execution_count\": 17,\n",
      "\"metadata\": {},\n",
      "\"outputs\": [\n",
      "{\n",
      "\"data\": {\n",
      "\"text/plain\": [\n",
      "\"[0, 1, 4, 9, 16, 25, 36, 49, 64, 81]\"\n",
      "]\n",
      "},\n",
      "\"execution_count\": 17,\n",
      "\"metadata\": {},\n",
      "\"output_type\": \"execute_result\"\n",
      "}\n",
      "],\n",
      "\"source\": [\n",
      "\"lst = []\\n\",\n",
      "\"for i in range(10):\\n\",\n",
      "\"    lst.append(i*i)\\n\",\n",
      "\"lst\"\n",
      "]\n",
      "},\n",
      "{\n",
      "\"cell_type\": \"code\",\n",
      "\"execution_count\": null,\n",
      "\"metadata\": {},\n",
      "\"outputs\": [],\n",
      "\"source\": [\n",
      "\"[i*i for i in range(10) if i*i % 2 == 0]\"\n",
      "]\n",
      "},\n",
      "{\n",
      "\"cell_type\": \"code\",\n",
      "\"execution_count\": null,\n",
      "\"metadata\": {},\n",
      "\"outputs\": [],\n",
      "\"source\": [\n",
      "\"[c for c in 'anticonstitutionnellement' if c in 'aeiouy']  # liste des voyelles d'un mot\"\n",
      "]\n",
      "},\n",
      "{\n",
      "\"cell_type\": \"markdown\",\n",
      "\"metadata\": {},\n",
      "\"source\": [\n",
      "\"On peut aussi utiliser plusieurs boucles et conditions :\\n\",\n",
      "\"\\n\",\n",
      "\"```\\n\",\n",
      "\"lst = [<forme d'un élement> \\n\",\n",
      "\"       for <variable1> in <iterable1>\\n\",\n",
      "\"       for <variable2> in <iterable2>\\n\",\n",
      "\"       if <condition>]\\n\",\n",
      "\"```\\n\",\n",
      "\"\\n\",\n",
      "\"Ce qui équivaut à :\\n\",\n",
      "\"\\n\",\n",
      "\"```\\n\",\n",
      "\"lst = []\\n\",\n",
      "\"for <variable1> in <iterable1>:\\n\",\n",
      "\"    for <variable2> in <iterable2>:\\n\",\n",
      "\"        if <condition>:\\n\",\n",
      "\"            lst.append(<forme d'un element>)\\n\",\n",
      "\"```\\n\",\n",
      "\"\\n\",\n",
      "\"Exemple :\"\n",
      "]\n",
      "},\n",
      "{\n",
      "\"cell_type\": \"code\",\n",
      "\"execution_count\": null,\n",
      "\"metadata\": {},\n",
      "\"outputs\": [],\n",
      "\"source\": [\n",
      "\"[(x, y) for x in [1,2,3] for y in [3,1,4] if x != y]\"\n",
      "]\n",
      "},\n",
      "{\n",
      "\"cell_type\": \"markdown\",\n",
      "\"metadata\": {},\n",
      "\"source\": [\n",
      "\"On peut également imbriquer les expressions de ce type :\"\n",
      "]\n",
      "},\n",
      "{\n",
      "\"cell_type\": \"code\",\n",
      "\"execution_count\": null,\n",
      "\"metadata\": {},\n",
      "\"outputs\": [],\n",
      "\"source\": [\n",
      "\"[[i + j for j in range(5)] for i in range(5)]\"\n",
      "]\n",
      "},\n",
      "{\n",
      "\"cell_type\": \"markdown\",\n",
      "\"metadata\": {},\n",
      "\"source\": [\n",
      "\"## Retour sur les chaînes de caractères (type `str`)\"\n",
      "]\n",
      "},\n",
      "{\n",
      "\"cell_type\": \"markdown\",\n",
      "\"metadata\": {},\n",
      "\"source\": [\n",
      "\"Les chaînes de caractères (`str`) sont aussi des séquences (et des itérables) !\\n\",\n",
      "\"\\n\",\n",
      "\"Type `str` : **séquence** **non mutable** et **itérable** de caractères\\n\",\n",
      "\"\\n\",\n",
      "\"En tant que séquences, les chaînes autorisent :\\n\",\n",
      "\"  \\n\",\n",
      "\"- `s[i]` : accès à un caractère par son indice\\n\",\n",
      "\"- `len(s)` :  longueur\\n\",\n",
      "\"- `min(s)`, `max(s)` : minimum et maximum\\n\",\n",
      "\"- `s1 in s2`, `s1 not in s2` : recherche de sous-chaîne\\n\",\n",
      "\"- `s2.index(s1)` : position de sous-chaîne\\n\",\n",
      "\"- `s2.count(s1)` : comptage de sous-chaînes\\n\",\n",
      "\"- `s1 + s2`, `s * 3` : concaténation et répétition\\n\",\n",
      "\"         \\n\",\n",
      "\"En tant que séquences **immutables**, les chaînes interdisent :\\n\",\n",
      "\"  \\n\",\n",
      "\"`s.append('a')`, `s1.extend(s2)`, `s.insert(i, x)`, `s.pop()`, `s.pop(i)`, `s.remove(x)`, `s.clear()`, `s[i] = x`, `s.reverse()`, `s.sort()`...\\n\",\n",
      "\"\\n\",\n",
      "\"En tant qu'objets **itérables**, les chaînes peuvent être utilisées dans des\\n\",\n",
      "\"boucles `for` :\"\n",
      "]\n",
      "},\n",
      "{\n",
      "\"cell_type\": \"code\",\n",
      "\"execution_count\": 18,\n",
      "\"metadata\": {},\n",
      "\"outputs\": [\n",
      "{\n",
      "\"name\": \"stdout\",\n",
      "\"output_type\": \"stream\",\n",
      "\"text\": [\n",
      "\"H\\n\",\n",
      "\"i\\n\",\n",
      "\"l\\n\",\n",
      "\"d\\n\",\n",
      "\"e\\n\",\n",
      "\"g\\n\",\n",
      "\"a\\n\",\n",
      "\"r\\n\",\n",
      "\"d\\n\",\n",
      "\"e\\n\"\n",
      "]\n",
      "}\n",
      "],\n",
      "\"source\": [\n",
      "\"s = 'Hildegarde'\\n\",\n",
      "\"# afficher les caractères de s, un par ligne\\n\",\n",
      "\"for c in s:\\n\",\n",
      "\"    print(c)\"\n",
      "]\n",
      "},\n",
      "{\n",
      "\"cell_type\": \"markdown\",\n",
      "\"metadata\": {},\n",
      "\"source\": [\n",
      "\"... et acceptent la conversion en liste :\"\n",
      "]\n",
      "},\n",
      "{\n",
      "\"cell_type\": \"code\",\n",
      "\"execution_count\": 19,\n",
      "\"metadata\": {},\n",
      "\"outputs\": [\n",
      "{\n",
      "\"data\": {\n",
      "\"text/plain\": [\n",
      "\"['H', 'i', 'l', 'd', 'e', 'g', 'a', 'r', 'd', 'e']\"\n",
      "]\n",
      "},\n",
      "\"execution_count\": 19,\n",
      "\"metadata\": {},\n",
      "\"output_type\": \"execute_result\"\n",
      "}\n",
      "],\n",
      "\"source\": [\n",
      "\"s = 'Hildegarde'\\n\",\n",
      "\"list(s)\"\n",
      "]\n",
      "},\n",
      "{\n",
      "\"cell_type\": \"markdown\",\n",
      "\"metadata\": {},\n",
      "\"source\": [\n",
      "\"### Méthodes sur les chaînes\"\n",
      "]\n",
      "},\n",
      "{\n",
      "\"cell_type\": \"markdown\",\n",
      "\"metadata\": {},\n",
      "\"source\": [\n",
      "\"\\n\",\n",
      "\"De très nombreuses méthodes existent sur les chaînes :\"\n",
      "]\n",
      "},\n",
      "{\n",
      "\"cell_type\": \"code\",\n",
      "\"execution_count\": 20,\n",
      "\"metadata\": {\n",
      "\"scrolled\": true\n",
      "},\n",
      "\"outputs\": [\n",
      "{\n",
      "\"data\": {\n",
      "\"text/plain\": [\n",
      "\"['__add__',\\n\",\n",
      "\" '__class__',\\n\",\n",
      "\" '__contains__',\\n\",\n",
      "\" '__delattr__',\\n\",\n",
      "\" '__dir__',\\n\",\n",
      "\" '__doc__',\\n\",\n",
      "\" '__eq__',\\n\",\n",
      "\" '__format__',\\n\",\n",
      "\" '__ge__',\\n\",\n",
      "\" '__getattribute__',\\n\",\n",
      "\" '__getitem__',\\n\",\n",
      "\" '__getnewargs__',\\n\",\n",
      "\" '__gt__',\\n\",\n",
      "\" '__hash__',\\n\",\n",
      "\" '__init__',\\n\",\n",
      "\" '__init_subclass__',\\n\",\n",
      "\" '__iter__',\\n\",\n",
      "\" '__le__',\\n\",\n",
      "\" '__len__',\\n\",\n",
      "\" '__lt__',\\n\",\n",
      "\" '__mod__',\\n\",\n",
      "\" '__mul__',\\n\",\n",
      "\" '__ne__',\\n\",\n",
      "\" '__new__',\\n\",\n",
      "\" '__reduce__',\\n\",\n",
      "\" '__reduce_ex__',\\n\",\n",
      "\" '__repr__',\\n\",\n",
      "\" '__rmod__',\\n\",\n",
      "\" '__rmul__',\\n\",\n",
      "\" '__setattr__',\\n\",\n",
      "\" '__sizeof__',\\n\",\n",
      "\" '__str__',\\n\",\n",
      "\" '__subclasshook__',\\n\",\n",
      "\" 'capitalize',\\n\",\n",
      "\" 'casefold',\\n\",\n",
      "\" 'center',\\n\",\n",
      "\" 'count',\\n\",\n",
      "\" 'encode',\\n\",\n",
      "\" 'endswith',\\n\",\n",
      "\" 'expandtabs',\\n\",\n",
      "\" 'find',\\n\",\n",
      "\" 'format',\\n\",\n",
      "\" 'format_map',\\n\",\n",
      "\" 'index',\\n\",\n",
      "\" 'isalnum',\\n\",\n",
      "\" 'isalpha',\\n\",\n",
      "\" 'isascii',\\n\",\n",
      "\" 'isdecimal',\\n\",\n",
      "\" 'isdigit',\\n\",\n",
      "\" 'isidentifier',\\n\",\n",
      "\" 'islower',\\n\",\n",
      "\" 'isnumeric',\\n\",\n",
      "\" 'isprintable',\\n\",\n",
      "\" 'isspace',\\n\",\n",
      "\" 'istitle',\\n\",\n",
      "\" 'isupper',\\n\",\n",
      "\" 'join',\\n\",\n",
      "\" 'ljust',\\n\",\n",
      "\" 'lower',\\n\",\n",
      "\" 'lstrip',\\n\",\n",
      "\" 'maketrans',\\n\",\n",
      "\" 'partition',\\n\",\n",
      "\" 'removeprefix',\\n\",\n",
      "\" 'removesuffix',\\n\",\n",
      "\" 'replace',\\n\",\n",
      "\" 'rfind',\\n\",\n",
      "\" 'rindex',\\n\",\n",
      "\" 'rjust',\\n\",\n",
      "\" 'rpartition',\\n\",\n",
      "\" 'rsplit',\\n\",\n",
      "\" 'rstrip',\\n\",\n",
      "\" 'split',\\n\",\n",
      "\" 'splitlines',\\n\",\n",
      "\" 'startswith',\\n\",\n",
      "\" 'strip',\\n\",\n",
      "\" 'swapcase',\\n\",\n",
      "\" 'title',\\n\",\n",
      "\" 'translate',\\n\",\n",
      "\" 'upper',\\n\",\n",
      "\" 'zfill']\"\n",
      "]\n",
      "},\n",
      "\"execution_count\": 20,\n",
      "\"metadata\": {},\n",
      "\"output_type\": \"execute_result\"\n",
      "}\n",
      "],\n",
      "\"source\": [\n",
      "\"dir(\\\"\\\")\"\n",
      "]\n",
      "},\n",
      "{\n",
      "\"cell_type\": \"markdown\",\n",
      "\"metadata\": {},\n",
      "\"source\": [\n",
      "\"Nous les découvrirons au fur et à mesure (et pas toutes). *Si vous êtes curieux... pensez à la [doc](https://docs.python.org/3/) !* En voici quelques unes :\\n\",\n",
      "\"* `s.capitalize()` : renvoie une copie de la chaîne avec son premier caractère en majuscule et le reste en minuscule.\\n\",\n",
      "\"* `s.find(sub)` : donne la première la position dans la chaîne où *sub* est trouvé\\n\",\n",
      "\"* `s.join(iterable)` : donne une chaîne qui est la concaténation des chaînes contenues dans *iterable*\\n\",\n",
      "\"* `s.split(sep)` : renvoie une liste des mots de la chaîne, en utilisant *sep* comme séparateur de mots. Si *sep* n'est pas donné, le séparateur utilisé est l'espace\\n\",\n",
      "\"* `s.replace(old, new)` : renvoie une copie de la chaîne dont toutes les occurrences de la sous-chaîne *old* sont remplacés par *new*. \\n\",\n",
      "\"* *etc.*\\n\"\n",
      "]\n",
      "},\n",
      "{\n",
      "\"cell_type\": \"code\",\n",
      "\"execution_count\": 21,\n",
      "\"metadata\": {},\n",
      "\"outputs\": [\n",
      "{\n",
      "\"name\": \"stdout\",\n",
      "\"output_type\": \"stream\",\n",
      "\"text\": [\n",
      "\"Ceci est un titre\\n\",\n",
      "\"ceci est un titre\\n\"\n",
      "]\n",
      "}\n",
      "],\n",
      "\"source\": [\n",
      "\"s='ceci est un titre'\\n\",\n",
      "\"print(s.capitalize()) # renvoie une nouvelle chaine\\n\",\n",
      "\"print(s) # str est non mutable, s n'a donc pas été modifiée\"\n",
      "]\n",
      "},\n",
      "{\n",
      "\"cell_type\": \"code\",\n",
      "\"execution_count\": 24,\n",
      "\"metadata\": {},\n",
      "\"outputs\": [\n",
      "{\n",
      "\"name\": \"stdout\",\n",
      "\"output_type\": \"stream\",\n",
      "\"text\": [\n",
      "\"5\\n\"\n",
      "]\n",
      "}\n",
      "],\n",
      "\"source\": [\n",
      "\"print(s.find(\\\"est\\\"))\"\n",
      "]\n",
      "},\n",
      "{\n",
      "\"cell_type\": \"code\",\n",
      "\"execution_count\": 25,\n",
      "\"metadata\": {},\n",
      "\"outputs\": [\n",
      "{\n",
      "\"data\": {\n",
      "\"text/plain\": [\n",
      "\"'knights who say ni'\"\n",
      "]\n",
      "},\n",
      "\"execution_count\": 25,\n",
      "\"metadata\": {},\n",
      "\"output_type\": \"execute_result\"\n",
      "}\n",
      "],\n",
      "\"source\": [\n",
      "\"\\\" \\\".join([\\\"knights\\\", \\\"who\\\", \\\"say\\\", \\\"ni\\\"])\"\n",
      "]\n",
      "},\n",
      "{\n",
      "\"cell_type\": \"code\",\n",
      "\"execution_count\": 27,\n",
      "\"metadata\": {},\n",
      "\"outputs\": [\n",
      "{\n",
      "\"data\": {\n",
      "\"text/plain\": [\n",
      "\"'knights--who--say--ni'\"\n",
      "]\n",
      "},\n",
      "\"execution_count\": 27,\n",
      "\"metadata\": {},\n",
      "\"output_type\": \"execute_result\"\n",
      "}\n",
      "],\n",
      "\"source\": [\n",
      "\"\\\"--\\\".join([\\\"knights\\\", \\\"who\\\", \\\"say\\\", \\\"ni\\\"])\"\n",
      "]\n",
      "},\n",
      "{\n",
      "\"cell_type\": \"code\",\n",
      "\"execution_count\": 28,\n",
      "\"metadata\": {},\n",
      "\"outputs\": [\n",
      "{\n",
      "\"name\": \"stdout\",\n",
      "\"output_type\": \"stream\",\n",
      "\"text\": [\n",
      "\"['ceci', 'est', 'un', 'titre']\\n\"\n",
      "]\n",
      "}\n",
      "],\n",
      "\"source\": [\n",
      "\"print(s.split(' '))\"\n",
      "]\n",
      "},\n",
      "{\n",
      "\"cell_type\": \"code\",\n",
      "\"execution_count\": 29,\n",
      "\"metadata\": {},\n",
      "\"outputs\": [\n",
      "{\n",
      "\"name\": \"stdout\",\n",
      "\"output_type\": \"stream\",\n",
      "\"text\": [\n",
      "\"['c', 'ci ', 'st un titr', '']\\n\"\n",
      "]\n",
      "}\n",
      "],\n",
      "\"source\": [\n",
      "\"print(s.split('e'))\"\n",
      "]\n",
      "},\n",
      "{\n",
      "\"cell_type\": \"code\",\n",
      "\"execution_count\": 30,\n",
      "\"metadata\": {},\n",
      "\"outputs\": [\n",
      "{\n",
      "\"name\": \"stdout\",\n",
      "\"output_type\": \"stream\",\n",
      "\"text\": [\n",
      "\"['ceci', 'est', 'un', 'titre']\\n\"\n",
      "]\n",
      "}\n",
      "],\n",
      "\"source\": [\n",
      "\"print(s.split())\"\n",
      "]\n",
      "},\n",
      "{\n",
      "\"cell_type\": \"markdown\",\n",
      "\"metadata\": {},\n",
      "\"source\": [\n",
      "\"## Tuples (ou *$n$-uplets*)\"\n",
      "]\n",
      "},\n",
      "{\n",
      "\"cell_type\": \"markdown\",\n",
      "\"metadata\": {},\n",
      "\"source\": [\n",
      "\"Ils sont similaires aux listes mais il sont **non mutables**. \\n\",\n",
      "\"\\n\",\n",
      "\"Type `tuple` : **séquence** **non mutable** et **itérable**\\n\",\n",
      "\"\\n\",\n",
      "\"En tant que séquences, les tuples autorisent :\\n\",\n",
      "\"  \\n\",\n",
      "\"- `t[i]` : accès à un élément par son indice\\n\",\n",
      "\"- `len(t)` :  longueur\\n\",\n",
      "\"- `min(t)`, `max(t)` : minimum et maximum\\n\",\n",
      "\"- `elem in t` : recherche d'élément\\n\",\n",
      "\"- `t.index(elem)` : position d'élément\\n\",\n",
      "\"- `t.count(elem)` : comptage d'élément\\n\",\n",
      "\"- `t1 + t2`, `t * 3` : concaténation et répétition\"\n",
      "]\n",
      "},\n",
      "{\n",
      "\"cell_type\": \"markdown\",\n",
      "\"metadata\": {},\n",
      "\"source\": [\n",
      "\"En tant que séquences **immutables**, les tuples interdisent :\\n\",\n",
      "\"  \\n\",\n",
      "\"`t.append('a')`, `t1.extend(t2)`, `t.insert(i, elem)`, `t.pop()`, `t.pop(i)`, `t.remove(x)`, `t.clear()`, `t[i] = elem`, `t.reverse()`, `t.sort()`...\"\n",
      "]\n",
      "},\n",
      "{\n",
      "\"cell_type\": \"markdown\",\n",
      "\"metadata\": {},\n",
      "\"source\": [\n",
      "\"En tant qu'objets **itérables**, les tuples peuvent être utilisées dans des boucles `for` :\"\n",
      "]\n",
      "},\n",
      "{\n",
      "\"cell_type\": \"code\",\n",
      "\"execution_count\": 31,\n",
      "\"metadata\": {},\n",
      "\"outputs\": [\n",
      "{\n",
      "\"name\": \"stdout\",\n",
      "\"output_type\": \"stream\",\n",
      "\"text\": [\n",
      "\"machin\\n\",\n",
      "\"bidule\\n\",\n",
      "\"chose\\n\"\n",
      "]\n",
      "}\n",
      "],\n",
      "\"source\": [\n",
      "\"trucs = ('machin', 'bidule', 'chose')\\n\",\n",
      "\"for elem in trucs:\\n\",\n",
      "\"    print(elem)\"\n",
      "]\n",
      "},\n",
      "{\n",
      "\"cell_type\": \"markdown\",\n",
      "\"metadata\": {},\n",
      "\"source\": [\n",
      "\"\\n\",\n",
      "\"Ils s'utilisent par exemple pour mémoriser les coordonnées d'un point du plan, une fraction...\\n\",\n",
      "\"\\n\",\n",
      "\"On les note avec des parenthèses:\"\n",
      "]\n",
      "},\n",
      "{\n",
      "\"cell_type\": \"code\",\n",
      "\"execution_count\": 32,\n",
      "\"metadata\": {},\n",
      "\"outputs\": [\n",
      "{\n",
      "\"data\": {\n",
      "\"text/plain\": [\n",
      "\"tuple\"\n",
      "]\n",
      "},\n",
      "\"execution_count\": 32,\n",
      "\"metadata\": {},\n",
      "\"output_type\": \"execute_result\"\n",
      "}\n",
      "],\n",
      "\"source\": [\n",
      "\"couple = (2, 64)\\n\",\n",
      "\"type(couple)\"\n",
      "]\n",
      "},\n",
      "{\n",
      "\"cell_type\": \"code\",\n",
      "\"execution_count\": 33,\n",
      "\"metadata\": {},\n",
      "\"outputs\": [\n",
      "{\n",
      "\"data\": {\n",
      "\"text/plain\": [\n",
      "\"64\"\n",
      "]\n",
      "},\n",
      "\"execution_count\": 33,\n",
      "\"metadata\": {},\n",
      "\"output_type\": \"execute_result\"\n",
      "}\n",
      "],\n",
      "\"source\": [\n",
      "\"couple[1]\"\n",
      "]\n",
      "},\n",
      "{\n",
      "\"cell_type\": \"markdown\",\n",
      "\"metadata\": {},\n",
      "\"source\": [\n",
      "\"Il est souvent pratique d'affecter simultanément chacun des éléments d'un tuple à une variable. Par exemple :\"\n",
      "]\n",
      "},\n",
      "{\n",
      "\"cell_type\": \"code\",\n",
      "\"execution_count\": 34,\n",
      "\"metadata\": {},\n",
      "\"outputs\": [\n",
      "{\n",
      "\"name\": \"stdout\",\n",
      "\"output_type\": \"stream\",\n",
      "\"text\": [\n",
      "\"3\\n\",\n",
      "\"4\\n\"\n",
      "]\n",
      "}\n",
      "],\n",
      "\"source\": [\n",
      "\"fraction = (3, 4)\\n\",\n",
      "\"num, denom = fraction\\n\",\n",
      "\"print(num)\\n\",\n",
      "\"print(denom)\"\n",
      "]\n",
      "},\n",
      "{\n",
      "\"cell_type\": \"markdown\",\n",
      "\"metadata\": {},\n",
      "\"source\": [\n",
      "\"Les parenthèses sont parfois omises autour des éléments d'un `tuple` :\"\n",
      "]\n",
      "},\n",
      "{\n",
      "\"cell_type\": \"code\",\n",
      "\"execution_count\": 35,\n",
      "\"metadata\": {},\n",
      "\"outputs\": [\n",
      "{\n",
      "\"name\": \"stdout\",\n",
      "\"output_type\": \"stream\",\n",
      "\"text\": [\n",
      "\"3\\n\",\n",
      "\"4\\n\"\n",
      "]\n",
      "}\n",
      "],\n",
      "\"source\": [\n",
      "\"fraction = 3, 4  # pas de parenthèses !\\n\",\n",
      "\"num, denom = fraction\\n\",\n",
      "\"print(num)\\n\",\n",
      "\"print(denom)\"\n",
      "]\n",
      "},\n",
      "{\n",
      "\"cell_type\": \"markdown\",\n",
      "\"metadata\": {},\n",
      "\"source\": [\n",
      "\"On se sert généralement d'un `tuple` pour renvoyer un résultat composé de plusieurs valeurs dans une fonction :\"\n",
      "]\n",
      "},\n",
      "{\n",
      "\"cell_type\": \"code\",\n",
      "\"execution_count\": 36,\n",
      "\"metadata\": {},\n",
      "\"outputs\": [],\n",
      "\"source\": [\n",
      "\"def produit_fractions(f1, f2):\\n\",\n",
      "\"    num1, denom1 = f1\\n\",\n",
      "\"    num2, denom2 = f2\\n\",\n",
      "\"    return num1 * num2, denom1 * denom2  # c'est un tuple !\"\n",
      "]\n",
      "},\n",
      "{\n",
      "\"cell_type\": \"code\",\n",
      "\"execution_count\": 37,\n",
      "\"metadata\": {},\n",
      "\"outputs\": [\n",
      "{\n",
      "\"data\": {\n",
      "\"text/plain\": [\n",
      "\"(5, 6)\"\n",
      "]\n",
      "},\n",
      "\"execution_count\": 37,\n",
      "\"metadata\": {},\n",
      "\"output_type\": \"execute_result\"\n",
      "}\n",
      "],\n",
      "\"source\": [\n",
      "\"frac1 = (1, 3)\\n\",\n",
      "\"frac2 = (5, 2)\\n\",\n",
      "\"produit_fractions(frac1, frac2)\"\n",
      "]\n",
      "},\n",
      "{\n",
      "\"cell_type\": \"markdown\",\n",
      "\"metadata\": {},\n",
      "\"source\": [\n",
      "\"## Fichiers\"\n",
      "]\n",
      "},\n",
      "{\n",
      "\"cell_type\": \"markdown\",\n",
      "\"metadata\": {},\n",
      "\"source\": [\n",
      "\"Il est possible de consulter le contenu d'un fichier texte en Python, et de le modifier. On accède la plupart du temps aux lignes successives d'un fichier à l'aide d'une boucle `for`.\"\n",
      "]\n",
      "},\n",
      "{\n",
      "\"cell_type\": \"markdown\",\n",
      "\"metadata\": {},\n",
      "\"source\": [\n",
      "\"### Descripteurs de fichiers (type `file`)\"\n",
      "]\n",
      "},\n",
      "{\n",
      "\"cell_type\": \"markdown\",\n",
      "\"metadata\": {},\n",
      "\"source\": [\n",
      "\"Ouverture d'un fichier : `f = open(chemin, mode)`\\n\",\n",
      "\"\\n\",\n",
      "\"- Paramètre `chemin` (chaîne de caractère) : nom (absolu ou relatif) d'un fichier\\n\",\n",
      "\"- Paramètre `mode` (chaîne de caractère) :\\n\",\n",
      "\"  - lecture seule : `'r'` (par défaut)\\n\",\n",
      "\"  - écriture (crée / écrase le fichier) : `'w'`\\n\",\n",
      "\"  - ajout (écrit à la fin) : `'a'`\\n\",\n",
      "\"  - *autres modes possibles pour fichiers binaires*\\n\",\n",
      "\"\\n\",\n",
      "\"Fermeture : `f.close()`\"\n",
      "]\n",
      "},\n",
      "{\n",
      "\"cell_type\": \"markdown\",\n",
      "\"metadata\": {},\n",
      "\"source\": [\n",
      "\"### Lire et écrire dans un fichier\\n\",\n",
      "\"\\n\",\n",
      "\"Lecture (mode `'r'`) :\\n\",\n",
      "\"\\n\",\n",
      "\"-   Tout lire d'un coup (une seule chaîne) : `contenu = f.read()`  \\n\",\n",
      "\"    **Attention :** charge tout le fichier en mémoire !  \\n\",\n",
      "\"    **Attention :** inclut les retours à la ligne\\n\",\n",
      "\"\\n\",\n",
      "\"-   Liste des lignes (liste de chaînes) : `lst_lignes = f.readlines()`  \\n\",\n",
      "\"    **Attention :** charge tout le fichier en mémoire !  \\n\",\n",
      "\"    **Attention :** inclut les retours à la ligne\\n\",\n",
      "\"    \\n\",\n",
      "\"-   Prochaine ligne : `ligne = f.readline()`  \\n\",\n",
      "\"    **Attention :** renvoie une chaîne vide à la fin\\n\",\n",
      "\"\\n\",\n",
      "\"-   Parcours ligne par ligne : `for ligne in f: ...`\\n\",\n",
      "\"\\n\",\n",
      "\"Écriture (modes `'w'` et `'a'`) : `f.write(chaine)`\\n\",\n",
      "\"\\n\",\n",
      "\"**Attention :** n'inclut pas de retour à la ligne (`'\\\\n'`) automatique !\"\n",
      "]\n",
      "},\n",
      "{\n",
      "\"cell_type\": \"code\",\n",
      "\"execution_count\": 1,\n",
      "\"metadata\": {},\n",
      "\"outputs\": [],\n",
      "\"source\": [\n",
      "\"f = open('test.txt', 'w')\\n\",\n",
      "\"for chaine in ['au', 'revoir', 'tout', 'le', 'monde !']:\\n\",\n",
      "\"    f.write(chaine)\\n\",\n",
      "\"f.close()\"\n",
      "]\n",
      "},\n",
      "{\n",
      "\"cell_type\": \"code\",\n",
      "\"execution_count\": 2,\n",
      "\"metadata\": {},\n",
      "\"outputs\": [],\n",
      "\"source\": [\n",
      "\"f = open('test.txt', 'w')\\n\",\n",
      "\"f.write(\\\"\\\\n\\\".join(['au', 'revoir', 'tout', 'le', 'monde !']))\\n\",\n",
      "\"f.close()\"\n",
      "]\n",
      "},\n",
      "{\n",
      "\"cell_type\": \"code\",\n",
      "\"execution_count\": 3,\n",
      "\"metadata\": {},\n",
      "\"outputs\": [],\n",
      "\"source\": [\n",
      "\"f = open('test.txt', 'a')\\n\",\n",
      "\"f.write('(signé : Machin)\\\\n')\\n\",\n",
      "\"f.close()\"\n",
      "]\n",
      "},\n",
      "{\n",
      "\"cell_type\": \"code\",\n",
      "\"execution_count\": null,\n",
      "\"metadata\": {},\n",
      "\"outputs\": [],\n",
      "\"source\": [\n",
      "\"f = open('test.txt', 'r')\\n\",\n",
      "\"for ligne in f:\\n\",\n",
      "\"    # strip supprime les espaces avant et après la chaîne\\n\",\n",
      "\"    print(ligne.strip()) \\n\",\n",
      "\"f.close()\"\n",
      "]\n",
      "},\n",
      "{\n",
      "\"cell_type\": \"code\",\n",
      "\"execution_count\": null,\n",
      "\"metadata\": {},\n",
      "\"outputs\": [],\n",
      "\"source\": [\n",
      "\"f = open('6-iterables.ipynb')\\n\",\n",
      "\"for ligne in f:\\n\",\n",
      "\"    print(ligne.strip())\\n\",\n",
      "\"f.close()\"\n",
      "]\n",
      "},\n",
      "{\n",
      "\"cell_type\": \"code\",\n",
      "\"execution_count\": null,\n",
      "\"metadata\": {},\n",
      "\"outputs\": [],\n",
      "\"source\": []\n",
      "}\n",
      "],\n",
      "\"metadata\": {\n",
      "\"kernelspec\": {\n",
      "\"display_name\": \"Python 3 (ipykernel)\",\n",
      "\"language\": \"python\",\n",
      "\"name\": \"python3\"\n",
      "},\n",
      "\"language_info\": {\n",
      "\"codemirror_mode\": {\n",
      "\"name\": \"ipython\",\n",
      "\"version\": 3\n",
      "},\n",
      "\"file_extension\": \".py\",\n",
      "\"mimetype\": \"text/x-python\",\n",
      "\"name\": \"python\",\n",
      "\"nbconvert_exporter\": \"python\",\n",
      "\"pygments_lexer\": \"ipython3\",\n",
      "\"version\": \"3.10.8\"\n",
      "},\n",
      "\"vscode\": {\n",
      "\"interpreter\": {\n",
      "\"hash\": \"aee8b7b246df8f9039afb4144a1f6fd8d2ca17a180786b69acc140d282b71a49\"\n",
      "}\n",
      "}\n",
      "},\n",
      "\"nbformat\": 4,\n",
      "\"nbformat_minor\": 2\n",
      "}\n"
     ]
    }
   ],
   "source": [
    "f = open('6-iterables.ipynb')\n",
    "for ligne in f:\n",
    "    print(ligne.strip())\n",
    "f.close()"
   ]
  }
 ],
 "metadata": {
  "kernelspec": {
   "display_name": "Python 3 (ipykernel)",
   "language": "python",
   "name": "python3"
  },
  "language_info": {
   "codemirror_mode": {
    "name": "ipython",
    "version": 3
   },
   "file_extension": ".py",
   "mimetype": "text/x-python",
   "name": "python",
   "nbconvert_exporter": "python",
   "pygments_lexer": "ipython3",
   "version": "3.10.12"
  }
 },
 "nbformat": 4,
 "nbformat_minor": 5
}
