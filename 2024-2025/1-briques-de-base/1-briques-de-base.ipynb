{
 "cells": [
  {
   "cell_type": "markdown",
   "id": "a1345e73",
   "metadata": {},
   "source": [
    "# Algorithmique et programmation 1"
   ]
  },
  {
   "cell_type": "markdown",
   "id": "15ad78a9",
   "metadata": {
    "slideshow": {
     "slide_type": "slide"
    }
   },
   "source": [
    "\n",
    "<div style='float:center; font-size:large'>\n",
    "    <strong>Digital U</strong><br>\n",
    "    Introduction à la programmation avec Python.\n",
    "</div>"
   ]
  },
  {
   "cell_type": "markdown",
   "id": "4780c963",
   "metadata": {
    "slideshow": {
     "slide_type": "-"
    }
   },
   "source": [
    "## Préambule\n",
    "\n",
    "Bienvenue dans le cours **Algorithmique et Programmation 1** !"
   ]
  },
  {
   "cell_type": "markdown",
   "id": "c22eaf53",
   "metadata": {},
   "source": [
    "### Pour qui ? Pour quoi ?\n",
    "\n",
    "Ce cours est destiné en particulier aux étudiant.e.s ayant peu d'expérience en programmation.\n",
    "\n",
    "Il va couvrir les bases de la programmation *impérative*, à travers le langage de programmation *Python* (3), ainsi que constituer une introduction à la discipline de (la pensée) algorithmique.\n",
    "\n",
    "Ces notes sont pensées pour accompagner, enrichir et détailler les transparents présentés en *cours magistral* (CM). Les transparents sont aussi disponibles en consultation en ligne ou au téléchargement.\n",
    "\n",
    "Elles sont en grande partie basées sur les notebooks des années précédentes, rédigées principalement par Antoine Meyer. \n",
    "\n",
    "Bonne découverte et bon semestre !\n",
    "\n",
    "*Marie et Léo*"
   ]
  },
  {
   "cell_type": "markdown",
   "id": "794c5cbb",
   "metadata": {
    "slideshow": {
     "slide_type": "slide"
    }
   },
   "source": [
    "### Trouver des informations\n",
    "\n",
    "-   **Contacts** (à chercher dans [l'annuaire](https://pagespro.univ-gustave-eiffel.fr/)) :\n",
    "    - Responsable de formation : Antoine Meyer\n",
    "    - Secrétaire de formation : Ramatoulaye Barry ramatoulaye.barry@univ-eiffel.fr (absence, pb admin, ...)\n",
    "    - Responsables de l'UE : Marie van den Bogaard et Léo Exibard"
   ]
  },
  {
   "cell_type": "markdown",
   "id": "54cad686",
   "metadata": {
    "slideshow": {
     "slide_type": "subslide"
    }
   },
   "source": [
    "-   **Page web** :\n",
    "    -   https://elearning.univ-eiffel.fr/course/view.php?id=9175\n",
    "    -   Ressources diverses (ouvrages, liens, astuces...)\n",
    "    -   Sujets des TD, des TP, liens vers les supports de cours"
   ]
  },
  {
   "cell_type": "markdown",
   "id": "a74d45b4",
   "metadata": {
    "slideshow": {
     "slide_type": "subslide"
    }
   },
   "source": [
    "-   **Communication** : \n",
    "    - Discord : https://discord.gg/6jrfmUwcSp\n",
    "    - Mail : *exclusivement* sur votre adresse <<vous@edu.univ-eiffel.fr>>\n",
    "    - *Webmail* : http://partage.univ-eiffel.fr"
   ]
  },
  {
   "cell_type": "markdown",
   "id": "6b0d6253",
   "metadata": {
    "slideshow": {
     "slide_type": "slide"
    }
   },
   "source": [
    "### Objectif du module\n",
    "\n",
    "Découverte de l'informatique par la *programmation*\n",
    "+   Exercices et exemples tirés de plusieurs contextes\n",
    "+ On fabrique des trucs qui *marchent*"
   ]
  },
  {
   "cell_type": "markdown",
   "id": "5f19657c",
   "metadata": {
    "slideshow": {
     "slide_type": "subslide"
    }
   },
   "source": [
    "Initiation à l'*algorithmique*\n",
    "+   Problème algorithmique / solution algorithmique\n",
    "+   Structures de contrôle classiques\n",
    "+   Analyse d'algorithmes simples\n",
    "    \n",
    "(ne pas confondre algorithme et programme !)"
   ]
  },
  {
   "cell_type": "markdown",
   "id": "c6627287",
   "metadata": {
    "slideshow": {
     "slide_type": "slide"
    }
   },
   "source": [
    "### Motivation\n",
    "\n",
    "Pour ce cours :\n",
    "+   Très peu de pré-requis (tout le monde peut réussir)\n",
    "+   Servira quelles que soient vos études et votre métier\n",
    "+   Uniquement des notions essentielles"
   ]
  },
  {
   "cell_type": "markdown",
   "id": "d04399b7",
   "metadata": {
    "slideshow": {
     "slide_type": "subslide"
    }
   },
   "source": [
    "Pour l'informatique en général :\n",
    "+   Pas seulement pour les *geeks*\n",
    "+   Pas seulement pour les garçons\n",
    "+   Plein emploi après un M2\n",
    "+   Nombreuses qualités utiles\n",
    "+   Nombreux métiers possibles"
   ]
  },
  {
   "cell_type": "markdown",
   "id": "689f4bd6",
   "metadata": {
    "slideshow": {
     "slide_type": "slide"
    }
   },
   "source": [
    "### Quelques mots sur Python\n",
    "\n",
    "C'est un langage de programmation :\n",
    "\n",
    "-   Plutôt récent (première version en 1991)\n",
    "-   Libre (*free as in beer and as in speech*)\n",
    "-   Très utilisé (enseignement, entreprise, logiciel libre)\n",
    "-   Facile à apprendre (plus que le C et le Java...)\n",
    "-   Adopté au lycée !\n",
    "-   Permet de faire des choses partique rapidement"
   ]
  },
  {
   "cell_type": "markdown",
   "id": "4fbc63fb",
   "metadata": {
    "slideshow": {
     "slide_type": "subslide"
    }
   },
   "source": [
    "Caractéristiques techniques du langage :\n",
    "\n",
    "-   Interprété (exécuté \"ligne par ligne\")\n",
    "-   Typé dynamiquement (pendant l'exécution)\n",
    "-   Concis et expressif (types prédéfinis)\n",
    "-   \"Multi-paradigmes\" (impératif, fonctionnel, objet...)"
   ]
  },
  {
   "cell_type": "markdown",
   "id": "ca7aacfc",
   "metadata": {},
   "source": [
    "### Programme et références\n",
    "\n",
    "Ce cours recouvre très largement la partie *Langages et programmation* du programme de l'option de spécialité NSI de première générale proposée par les (des) lycées français. Certaines notions des parties *Algorithmique*, *Représentation des données* et *Histoire de l'informatique* seront aussi abordées. (cf. https://www.education.gouv.fr/media/23690/download)\n",
    "\n",
    "Beaucoup de ressources sont disponibles pour apprendre et approfondir les concepts présentés dans ce cours. Nous recommandons notamment le livre *Informatique :Inf*, collection *Fluoresciences*, éditions *Dunod*, partie 1 *Mathématiques pour l'Informatique* et partie 2 *Algorithmique et Programmation*, disponible à la bibliothèque universitaire Georges Pérec. \n",
    "Le livre pdf gratuit de G. Swinnen, *Apprendre à programmer avec Python 3*, dont le lien se trouve sur la page e-learning du cours, peut aussi s'avérer pertinent pour le lecteur curieux.\n",
    "\n",
    "En (très) résumé, voici les notions abordées dans la suite de ces notes et pendant les séances de CMs, TDs et TPs:\n",
    "\n",
    "   - Notion d'**algorithme** : définition, intérêt, exemples, mise en oeuvre \n",
    "   - Briques de base de la **programmation impérative** : variables, assignation, expressions, opérations, structure de contrôle, représentation des données (types simples, types construits, structures de données), fonctions\n",
    "   - Outils mathématiques et de raisonnement : bases de numération, arithmétique \"euclidienne\" (division entière, reste, modulo, ppcm, pgcd), booléens et valeurs de vérités\n",
    "   - Machinerie Python : syntaxe, fonctionnement de la mémoire, méthodes utiles, listes, dictionnaires \n",
    "   - Bonnes pratiques de programmation : Règles de style, Prototypage, Découpage en sous-tâches, Documentation, Tests\n",
    "   - (en bonus, si le temps le permet : une introduction au concept de *récursivité*)"
   ]
  },
  {
   "cell_type": "markdown",
   "id": "0cfb3021",
   "metadata": {},
   "source": [
    "\n",
    "    \n",
    "# Introduction\n",
    "\n",
    "## Une histoire de zéros et de uns...\n",
    "\n",
    "       ou *du binaire aux langages de programmation*\n",
    "  \n",
    "       ou *comment en est-on arrivé là ?*\n",
    "\n",
    "\n",
    "Dans cette section, nous allons essayer d'éclairer le gap entre le monde des *bits* et le monde des langages de programmation *haut niveau*, comme le Python.\n",
    "La majorité des gens ont en effet une vague idée du fait que l'*informatique*, ou même l'*ordinateur*, \"ça marche avec des *zéro*s et des *un*s\". \n",
    "Ce petit morceau de vulgarisation scientifique dans la culture générale, bien que raisonnable, est parcellaire et très éloigné de la réalité de nos interactions avec l'informatique. \n",
    "Réalité quotidienne d'une grande partie de l'humanité: utilisation d'applications sur nos ordinateurs, téléphones et montres pour réaliser tout un tas de tâches (communication, divertissement, administratif, apprentissage, graphisme...), mais aussi réalité quotidienne pour une partie beaucoup plus restreinte de l'humanité: les *informaticien.ne.s* !\n",
    "Concrètement, depuis très longtemps (à l'échelle de l'histoire de l'informatique), les informaticien.ne.s ne manipulent pas de 0 et de 1 (de *bits*) \"à la main\". (ou alors très rarement, on verra cela)\n",
    "En particulier, en programmation, on utilise en pratique des langages qu'on appelle de *haut niveau* : des langages qui sont relativement compréhensibles à la lecture par un être humain initié. \n",
    "On comprend donc mieux les programmes, et on les écrit aussi plus facilement.\n",
    "D'accord, mais on nous avait donc menti avec ces histoires de zéros et de uns? \n",
    "Non ! Ils sont toujours là, mais entre eux et ce que nous programmons, il y a plusieurs couches, ou strates, de traductions (et un peu d'électronique).\n",
    "Nous ne rentrerons pas dans les détails dans ce cours (ceux d'architecture et de compilation le feront en partie), mais voici une figure qui représente ces différentes strates.\n",
    "    \n",
    "\n",
    "\n",
    "<img src='img/strates.jpg' width='1000px' style='display:inline'>\n",
    "\n",
    "Nous allons donc nous intéresser à la couche supérieure de ce schéma, celle des langages de programmation de haut niveau. Mais vous savez déjà probablement qu'il en existe plusieurs, et en fait, une *multitude* (dont le Python). \n",
    "Disons-en un peu plus sur cette multitude avant de passer au contenu algorithmique et technique.\n",
    "\n",
    "### De l'universel au particulier\n",
    "\n",
    "On a vu superficiellement qu'à partir de la strate \"langage machine\", tout s'exprimait effectivement en binaire.\n",
    "C'est vrai pour les données, mais aussi pour les programmes ! Hors, il est impossible pour le cerveau humain de lire/comprendre/écrire une telle diversité de signifiants encodés avec un alphabet aussi petit (on le rappelle, seulement deux lettres, `0`et `1`).\n",
    "Surtout quand on sait qu'un des objectifs de l'informatique, c'est de traiter beaucoup d'information, ou effectuer beaucoup de calculs, de manière automatique et rapide. \n",
    "Très vite, les langages de programmation ont vu le jour : en 1954, le bal commence avec **Fortran**.\n",
    "C'est un an *avant* le choix du mot **ordinateur** pour parler de *computer* en français.\n",
    "\n",
    "<img src='img/invention-lettre-mot-ordinateur.jpg' width='1000px' style='display:inline'>\n",
    "\n",
    "Puis la création de nouveaux langages s'accelère, chacun ayant ses propres spécificités qui le rendent plus ou moins adapté à telle ou telle application.\n",
    "Par exemple, le *COBOL*, créé en 1959, est particulièrement robuste et fiable pour manipuler des grandes quantités de données structurées, aussi il est encore utilisé à ce jour dans les banques, les assurances et certaines administrations.\n",
    "\n",
    "Le langage *C*, quant à lui, permet de contrôler de manière assez fine l'utilisation de la mémoire, et ainsi d'être très performant et économe en ressources. Cette liberté d'usage de la mémoire le rend peut-être moins accessible aux débutants, et même un peu dangereux si l'on est pas prudent ! En revanche, il permet justement d'apprendre la rigueur et d'approfondir certains concepts fondamentaux de programmation : c'est pourquoi vous vous plongerez dedans dès la L2, si vous choisissez le cursus informatique à l'issue de la L1.\n",
    "\n",
    "Enfin, le **Python** : né en 1991, il est beaucoup utilisé pour mettre en place des programmes rapidement. Il est (relativement) simple et peu verbeux, ce qui le rend particulièrement adapté à l'apprentissage de la programmation et à l'écriture de *scripts* (programme simple souvent conçu pour automatiser des tâches). C'est lui qui est notre langage de référence dans ce cours, et que l'on va s'employer à maîtriser de plus en plus.   \n",
    "\n",
    "La figure ci-dessous montre un échantillon de la généalogie des langages de programmation :\n",
    "\n",
    "<img src='img/genealogie.png' width='1000px' style='display:inline'>\n",
    "\n",
    "\n",
    "\n",
    "\n",
    "##### Un mot sur les *paradigmes* de programmation\n",
    "\n",
    "↗️ À votre avis, pourquoi est-ce que le *Caml* est tout seul dans son coin ?\n",
    "\n",
    "La réponse vague : à cause des *paradigmes* de programmation. Cette expression un peu terrifiante veut simplement dire qu'il existe plusieurs *style* de programmation, différentes manières de concevoir les programmes.\n",
    "\n",
    "Ainsi, dans la programmation **impérative**, on va indiquer une série d'instructions à exécuter étape par étape.\n",
    "Intuitivement, on explique *quoi* faire et *comment* en donnant des instructrions précises. Les premiers langages de programmation sont dans ce style, mais pas seulement! Le **C** et le **Python** sont des exemples de langages qui peuvent mettre en oeuvre ce paradigme. En fait, la plupart des langages contiennent ce qu'il faut pour programmer de manière impérative, on peut voir ce paradigme comme l'ensemble des briques de bases de l'algorithmique et de la programmation. C'est d'ailleurs pour cette raison que nous allons explorer cette façon de programmer dans ce cours.\n",
    "\n",
    "On peut aussi citer la programmation **orientée objet**, dans laquelle on est centré sur le concept d'*objet* qui a des propriétés et des méthodes pour agir et interagir avec l'extérieur ou lui-même. Le **Java** et le **C++** sont des langages de ce type. On peut aussi programmer orienté objet avec Python, mais cela ne sera pas abordé dans ce cours. Enfin, la programmation **fonctionnelle** est elle centrée sur le concept de *fonction* : très proche des mathématiques, cette façon de penser peut être très pertinente pour écrire des programmes très élégants (et le Caml fait partie de cette famille de langages).\n",
    "\n",
    "## Briques de base d'algorithmique \n",
    "\n",
    "<img src='img/briques.png' width='600px' style='display:inline'>\n",
    "\n",
    "\n",
    "\n",
    "## Un peu plus sur Python\n",
    "\n",
    "C'est parti pour expliciter quelques unes de ces briques dans le langage Python. La suite est un catalogue présentant les outils et notions pratiques à connaître pour comprendre et écrire de premiers programmes en Python.\n",
    "\n",
    "\n",
    "### Types de valeurs\n",
    "\n",
    "Toutes les valeurs en Python possèdent un **type**. Le type d'une valeur définit les **opérations** possibles.\n",
    "Les types de base sont :\n",
    "\n",
    "* les nombres entiers (`int`) ou décimaux (`float`)\n",
    "* les booléens (`bool`)\n",
    "* les chaines de caractères (`str`)\n",
    "* un type de valeur indéfinie (`NoneType`)\n",
    "\n",
    "#### Nombres entiers (`int`)\n",
    "    "
   ]
  },
  {
   "cell_type": "code",
   "execution_count": 1,
   "id": "ec6e0c10",
   "metadata": {
    "scrolled": true,
    "slideshow": {
     "slide_type": "-"
    }
   },
   "outputs": [
    {
     "data": {
      "text/plain": [
       "6"
      ]
     },
     "execution_count": 1,
     "metadata": {},
     "output_type": "execute_result"
    }
   ],
   "source": [
    "6"
   ]
  },
  {
   "cell_type": "code",
   "execution_count": 2,
   "id": "313dc074",
   "metadata": {
    "slideshow": {
     "slide_type": "subslide"
    }
   },
   "outputs": [
    {
     "data": {
      "text/plain": [
       "12345"
      ]
     },
     "execution_count": 2,
     "metadata": {},
     "output_type": "execute_result"
    }
   ],
   "source": [
    "12345"
   ]
  },
  {
   "cell_type": "code",
   "execution_count": 3,
   "id": "e66f11e5",
   "metadata": {
    "slideshow": {
     "slide_type": "subslide"
    }
   },
   "outputs": [
    {
     "data": {
      "text/plain": [
       "-4"
      ]
     },
     "execution_count": 3,
     "metadata": {},
     "output_type": "execute_result"
    }
   ],
   "source": [
    "-4  # un entier négatif"
   ]
  },
  {
   "cell_type": "code",
   "execution_count": 4,
   "id": "423b5c00",
   "metadata": {
    "slideshow": {
     "slide_type": "subslide"
    }
   },
   "outputs": [
    {
     "data": {
      "text/plain": [
       "10715086071862673209484250490600018105614048117055336074437503883703510511249361224931983788156958581275946729175531468251871452856923140435984577574698574803934567774824230985421074605062371141877954182153046474983581941267398767559165543946077062914571196477686542167660429831652624386837205668069376"
      ]
     },
     "execution_count": 4,
     "metadata": {},
     "output_type": "execute_result"
    }
   ],
   "source": [
    "2 ** 1000  # un très très grand entier"
   ]
  },
  {
   "cell_type": "code",
   "execution_count": 5,
   "id": "f3d54528",
   "metadata": {
    "slideshow": {
     "slide_type": "subslide"
    }
   },
   "outputs": [
    {
     "data": {
      "text/plain": [
       "42"
      ]
     },
     "execution_count": 5,
     "metadata": {},
     "output_type": "execute_result"
    }
   ],
   "source": [
    "0b101010  # un entier en binaire"
   ]
  },
  {
   "cell_type": "code",
   "execution_count": 6,
   "id": "93dcb1e0",
   "metadata": {
    "slideshow": {
     "slide_type": "subslide"
    }
   },
   "outputs": [
    {
     "data": {
      "text/plain": [
       "42"
      ]
     },
     "execution_count": 6,
     "metadata": {},
     "output_type": "execute_result"
    }
   ],
   "source": [
    "0x2a  # un entier en hexadécimal"
   ]
  },
  {
   "cell_type": "markdown",
   "id": "571c83f3",
   "metadata": {
    "slideshow": {
     "slide_type": "slide"
    }
   },
   "source": [
    "#### Nombres décimaux (`float`)"
   ]
  },
  {
   "cell_type": "code",
   "execution_count": 7,
   "id": "0925b21d",
   "metadata": {
    "slideshow": {
     "slide_type": "-"
    }
   },
   "outputs": [
    {
     "data": {
      "text/plain": [
       "3.14"
      ]
     },
     "execution_count": 7,
     "metadata": {},
     "output_type": "execute_result"
    }
   ],
   "source": [
    "3.14"
   ]
  },
  {
   "cell_type": "code",
   "execution_count": 8,
   "id": "ffa1e384",
   "metadata": {
    "slideshow": {
     "slide_type": "subslide"
    }
   },
   "outputs": [
    {
     "data": {
      "text/plain": [
       "-1.5"
      ]
     },
     "execution_count": 8,
     "metadata": {},
     "output_type": "execute_result"
    }
   ],
   "source": [
    "-1.5"
   ]
  },
  {
   "cell_type": "code",
   "execution_count": 9,
   "id": "1e1de493",
   "metadata": {
    "slideshow": {
     "slide_type": "subslide"
    }
   },
   "outputs": [
    {
     "data": {
      "text/plain": [
       "0.30000000000000004"
      ]
     },
     "execution_count": 9,
     "metadata": {},
     "output_type": "execute_result"
    }
   ],
   "source": [
    "3 * .1  # un nombre décimal qui ne \"tombe pas juste\""
   ]
  },
  {
   "cell_type": "code",
   "execution_count": 10,
   "id": "2e5e2dcd",
   "metadata": {
    "slideshow": {
     "slide_type": "subslide"
    }
   },
   "outputs": [
    {
     "data": {
      "text/plain": [
       "12.0"
      ]
     },
     "execution_count": 10,
     "metadata": {},
     "output_type": "execute_result"
    }
   ],
   "source": [
    "12."
   ]
  },
  {
   "cell_type": "code",
   "execution_count": 11,
   "id": "1a025f74",
   "metadata": {
    "slideshow": {
     "slide_type": "subslide"
    }
   },
   "outputs": [
    {
     "data": {
      "text/plain": [
       "4560.0"
      ]
     },
     "execution_count": 11,
     "metadata": {},
     "output_type": "execute_result"
    }
   ],
   "source": [
    "4.56e3  # notation scientifique"
   ]
  },
  {
   "cell_type": "markdown",
   "id": "2ec0cb6d",
   "metadata": {
    "slideshow": {
     "slide_type": "slide"
    }
   },
   "source": [
    "#### Booléens (`bool`)\n",
    "\n",
    "Ce type permet de représenter les deux valeurs de vérité « vrai » et « faux ». "
   ]
  },
  {
   "cell_type": "code",
   "execution_count": 12,
   "id": "3bd03444",
   "metadata": {
    "slideshow": {
     "slide_type": "-"
    }
   },
   "outputs": [
    {
     "data": {
      "text/plain": [
       "True"
      ]
     },
     "execution_count": 12,
     "metadata": {},
     "output_type": "execute_result"
    }
   ],
   "source": [
    "True  # vrai"
   ]
  },
  {
   "cell_type": "code",
   "execution_count": 13,
   "id": "64ccfca6",
   "metadata": {
    "slideshow": {
     "slide_type": "-"
    }
   },
   "outputs": [
    {
     "data": {
      "text/plain": [
       "False"
      ]
     },
     "execution_count": 13,
     "metadata": {},
     "output_type": "execute_result"
    }
   ],
   "source": [
    "False  # faux"
   ]
  },
  {
   "cell_type": "markdown",
   "id": "c70fcdb3",
   "metadata": {
    "slideshow": {
     "slide_type": "subslide"
    }
   },
   "source": [
    "<img src='../img/warning.png' width='50px' style='display:inline'> **Attention :** Les majuscules/minuscules sont importantes :"
   ]
  },
  {
   "cell_type": "code",
   "execution_count": 14,
   "id": "10745e97",
   "metadata": {
    "slideshow": {
     "slide_type": "-"
    }
   },
   "outputs": [
    {
     "ename": "NameError",
     "evalue": "name 'true' is not defined",
     "output_type": "error",
     "traceback": [
      "\u001b[0;31m---------------------------------------------------------------------------\u001b[0m",
      "\u001b[0;31mNameError\u001b[0m                                 Traceback (most recent call last)",
      "Cell \u001b[0;32mIn[14], line 1\u001b[0m\n\u001b[0;32m----> 1\u001b[0m \u001b[43mtrue\u001b[49m  \u001b[38;5;66;03m# provoque une exception (une erreur)\u001b[39;00m\n",
      "\u001b[0;31mNameError\u001b[0m: name 'true' is not defined"
     ]
    }
   ],
   "source": [
    "true  # provoque une exception (une erreur)"
   ]
  },
  {
   "cell_type": "markdown",
   "id": "1399cb09",
   "metadata": {
    "slideshow": {
     "slide_type": "slide"
    }
   },
   "source": [
    "#### Chaînes de caractères (`str`)\n",
    "\n",
    "Une chaine de caractères est une succession de symboles (lettres, chiffres, ou autres) entre guillemet"
   ]
  },
  {
   "cell_type": "code",
   "execution_count": null,
   "id": "f6759605",
   "metadata": {
    "slideshow": {
     "slide_type": "subslide"
    }
   },
   "outputs": [],
   "source": [
    "'bonjour'  # guillemets simples"
   ]
  },
  {
   "cell_type": "code",
   "execution_count": null,
   "id": "c8ba7dc7",
   "metadata": {
    "slideshow": {
     "slide_type": "subslide"
    }
   },
   "outputs": [],
   "source": [
    "\"hello !\"  # guillemets doubles"
   ]
  },
  {
   "cell_type": "code",
   "execution_count": null,
   "id": "e759c74c",
   "metadata": {
    "slideshow": {
     "slide_type": "subslide"
    }
   },
   "outputs": [],
   "source": [
    "\"மனிதப் பிறவியினர் சகலரும் சுதந்திரமாகவே பிறக்கின்றனர்.\"  # caractères non-latins"
   ]
  },
  {
   "cell_type": "code",
   "execution_count": null,
   "id": "9e3b031e",
   "metadata": {
    "slideshow": {
     "slide_type": "subslide"
    }
   },
   "outputs": [],
   "source": [
    "# Chaînes longues\n",
    "\"\"\"Ce plat est supposé être dégusté au petit-déjeuner \n",
    "mais convient aussi comme dessert. Les pancakes sont \n",
    "traditionnellement accommodés avec du sirop d'érable \n",
    "et une noix de beurre mais rien n'empêche de les \n",
    "dévorer au sucre, au jus de citron ou avec de la pâte \n",
    "à tartiner.\"\"\""
   ]
  },
  {
   "cell_type": "markdown",
   "id": "1333d384",
   "metadata": {
    "slideshow": {
     "slide_type": "subslide"
    }
   },
   "source": [
    "Il faut faire un peu attention pour écrire une chaîne de caractères contenant des apostrophes ou des guillemets :"
   ]
  },
  {
   "cell_type": "code",
   "execution_count": null,
   "id": "86a739c4",
   "metadata": {
    "slideshow": {
     "slide_type": "-"
    }
   },
   "outputs": [],
   "source": [
    "\"King's Landing\""
   ]
  },
  {
   "cell_type": "code",
   "execution_count": null,
   "id": "1e7b2c1d",
   "metadata": {
    "slideshow": {
     "slide_type": "-"
    }
   },
   "outputs": [],
   "source": [
    "'Mon nom est \"Personne\".'"
   ]
  },
  {
   "cell_type": "markdown",
   "id": "968d3ffe",
   "metadata": {
    "slideshow": {
     "slide_type": "subslide"
    }
   },
   "source": [
    "Caractères spéciaux : `\\n, \\t, \\', \\\", \\\\`"
   ]
  },
  {
   "cell_type": "code",
   "execution_count": null,
   "id": "6bb8b0a3",
   "metadata": {
    "slideshow": {
     "slide_type": "-"
    }
   },
   "outputs": [],
   "source": [
    "\"sauts\\nde\\nligne\""
   ]
  },
  {
   "cell_type": "code",
   "execution_count": null,
   "id": "abb09ebb",
   "metadata": {
    "slideshow": {
     "slide_type": "-"
    }
   },
   "outputs": [],
   "source": [
    "print(\"sauts\\nde\\nligne\")"
   ]
  },
  {
   "cell_type": "code",
   "execution_count": null,
   "id": "659d3b76",
   "metadata": {
    "slideshow": {
     "slide_type": "subslide"
    }
   },
   "outputs": [],
   "source": [
    "# tabulation, touche ⇥\n",
    "print(\"Du\\tsur\\ntexte\\t2 colonnes\")"
   ]
  },
  {
   "cell_type": "code",
   "execution_count": null,
   "id": "41e84ee0",
   "metadata": {
    "slideshow": {
     "slide_type": "subslide"
    }
   },
   "outputs": [],
   "source": [
    "print(\"D'autres symboles spéciaux : \\' \\\" \\\\\")"
   ]
  },
  {
   "cell_type": "markdown",
   "id": "2dfcdc0e",
   "metadata": {
    "slideshow": {
     "slide_type": "slide"
    }
   },
   "source": [
    "#### Valeur indéfinie (`NoneType`)"
   ]
  },
  {
   "cell_type": "code",
   "execution_count": null,
   "id": "8b786be0",
   "metadata": {
    "slideshow": {
     "slide_type": "-"
    }
   },
   "outputs": [],
   "source": [
    "None  # ça a l'air inutile mais en fait c'est bien pratique"
   ]
  },
  {
   "cell_type": "markdown",
   "id": "1d33f553",
   "metadata": {
    "slideshow": {
     "slide_type": "slide"
    }
   },
   "source": [
    "### Opérations\n",
    "\n",
    "Le type d'un objet détermine les **opérations** qu'on peut lui appliquer. \n",
    "\n",
    "C'est un principe *très important* en Python.\n",
    "\n",
    "#### Opérations sur les nombres\n",
    "\n",
    "Addition (`a + b`), soustraction (`a - b`), multiplication (`a * b`), puissance (`a ** b`)\n",
    "- sur deux `int` et produisant un `int`\n",
    "- ou sur deux `float` et produisant un `float`\n",
    "- ou sur un `int` et un `float` et produisant un `float`"
   ]
  },
  {
   "cell_type": "code",
   "execution_count": null,
   "id": "1b06f599",
   "metadata": {
    "slideshow": {
     "slide_type": "subslide"
    }
   },
   "outputs": [],
   "source": [
    "4 + 5"
   ]
  },
  {
   "cell_type": "code",
   "execution_count": null,
   "id": "e5550360",
   "metadata": {
    "slideshow": {
     "slide_type": "subslide"
    }
   },
   "outputs": [],
   "source": [
    "4 - 5.5"
   ]
  },
  {
   "cell_type": "code",
   "execution_count": null,
   "id": "9e43c3e1",
   "metadata": {
    "slideshow": {
     "slide_type": "subslide"
    }
   },
   "outputs": [],
   "source": [
    "4. * 5."
   ]
  },
  {
   "cell_type": "code",
   "execution_count": null,
   "id": "1e45c289",
   "metadata": {
    "slideshow": {
     "slide_type": "subslide"
    }
   },
   "outputs": [],
   "source": [
    "4 ** 2"
   ]
  },
  {
   "cell_type": "code",
   "execution_count": null,
   "id": "ddbbe273",
   "metadata": {
    "slideshow": {
     "slide_type": "subslide"
    }
   },
   "outputs": [],
   "source": [
    "4 ** 0.5"
   ]
  },
  {
   "cell_type": "markdown",
   "id": "bad1f5a1",
   "metadata": {
    "slideshow": {
     "slide_type": "subslide"
    }
   },
   "source": [
    "Division \"réelle\" (`a / b`) : produit toujours un `float`"
   ]
  },
  {
   "cell_type": "code",
   "execution_count": null,
   "id": "fe048407",
   "metadata": {
    "slideshow": {
     "slide_type": "-"
    }
   },
   "outputs": [],
   "source": [
    "1 / 3  # valeur approchée !"
   ]
  },
  {
   "cell_type": "code",
   "execution_count": null,
   "id": "235557fc",
   "metadata": {
    "slideshow": {
     "slide_type": "-"
    }
   },
   "outputs": [],
   "source": [
    "4 / 2  # ne donne pas un entier !"
   ]
  },
  {
   "cell_type": "markdown",
   "id": "532cb663",
   "metadata": {
    "slideshow": {
     "slide_type": "subslide"
    }
   },
   "source": [
    "Division euclidienne :\n",
    "- **quotient** : `a // b`\n",
    "- **reste**, ou **modulo** : `a % b`\n",
    "- les deux en même temps : `divmod(a, b)`\n",
    "- si `a` et `b` de type `int`, produisent un `int`, sinon un `float`"
   ]
  },
  {
   "cell_type": "code",
   "execution_count": null,
   "id": "8092b2de",
   "metadata": {
    "slideshow": {
     "slide_type": "subslide"
    }
   },
   "outputs": [],
   "source": [
    "7 // 2"
   ]
  },
  {
   "cell_type": "code",
   "execution_count": null,
   "id": "507ae5f6",
   "metadata": {
    "slideshow": {
     "slide_type": "-"
    }
   },
   "outputs": [],
   "source": [
    "7 % 2"
   ]
  },
  {
   "cell_type": "code",
   "execution_count": null,
   "id": "328a8b0a",
   "metadata": {
    "slideshow": {
     "slide_type": "-"
    }
   },
   "outputs": [],
   "source": [
    "divmod(7, 2)"
   ]
  },
  {
   "cell_type": "code",
   "execution_count": null,
   "id": "11c6eb5a",
   "metadata": {
    "slideshow": {
     "slide_type": "subslide"
    }
   },
   "outputs": [],
   "source": [
    "4 // 2  # cette fois c'est un entier..."
   ]
  },
  {
   "cell_type": "code",
   "execution_count": null,
   "id": "714d12e5",
   "metadata": {
    "slideshow": {
     "slide_type": "-"
    }
   },
   "outputs": [],
   "source": [
    "4 % 2  # le reste est nul car 4 est pair (divisible par 2)"
   ]
  },
  {
   "cell_type": "code",
   "execution_count": null,
   "id": "98cfb95e",
   "metadata": {
    "slideshow": {
     "slide_type": "subslide"
    }
   },
   "outputs": [],
   "source": [
    "4.0 // 1.75  # donne un float !"
   ]
  },
  {
   "cell_type": "code",
   "execution_count": null,
   "id": "96a696dd",
   "metadata": {
    "slideshow": {
     "slide_type": "-"
    }
   },
   "outputs": [],
   "source": [
    "4.0 % 1.75"
   ]
  },
  {
   "cell_type": "markdown",
   "id": "189c1aa5",
   "metadata": {
    "slideshow": {
     "slide_type": "subslide"
    }
   },
   "source": [
    "Les opérations suivent les règles de priorité usuelles :"
   ]
  },
  {
   "cell_type": "code",
   "execution_count": null,
   "id": "36748c73",
   "metadata": {
    "slideshow": {
     "slide_type": "-"
    }
   },
   "outputs": [],
   "source": [
    "4 + 2 * 1.5"
   ]
  },
  {
   "cell_type": "markdown",
   "id": "e5abb829",
   "metadata": {
    "slideshow": {
     "slide_type": "subslide"
    }
   },
   "source": [
    "On peut aussi utiliser des parenthèses : "
   ]
  },
  {
   "cell_type": "code",
   "execution_count": null,
   "id": "08c737fd",
   "metadata": {
    "slideshow": {
     "slide_type": "-"
    }
   },
   "outputs": [],
   "source": [
    "(4 + 2) * 1.5"
   ]
  },
  {
   "cell_type": "markdown",
   "id": "85341ab0",
   "metadata": {
    "slideshow": {
     "slide_type": "subslide"
    }
   },
   "source": [
    "#### Opérations sur les chaînes de caractères\n",
    "\n",
    "Concaténation : `s + t`"
   ]
  },
  {
   "cell_type": "code",
   "execution_count": null,
   "id": "0a4c724a",
   "metadata": {
    "slideshow": {
     "slide_type": "-"
    }
   },
   "outputs": [],
   "source": [
    "'Gustave' + 'Eiffel'"
   ]
  },
  {
   "cell_type": "code",
   "execution_count": null,
   "id": "f16f7e1a",
   "metadata": {
    "slideshow": {
     "slide_type": "-"
    }
   },
   "outputs": [],
   "source": [
    "'Gustave' + ' ' + 'Eiffel'"
   ]
  },
  {
   "cell_type": "markdown",
   "id": "98d1e627",
   "metadata": {
    "slideshow": {
     "slide_type": "subslide"
    }
   },
   "source": [
    "Répétition : `s * a` "
   ]
  },
  {
   "cell_type": "code",
   "execution_count": null,
   "id": "a6775410",
   "metadata": {
    "slideshow": {
     "slide_type": "-"
    }
   },
   "outputs": [],
   "source": [
    "'Hip ' * 3 + 'Hourra !'"
   ]
  },
  {
   "cell_type": "code",
   "execution_count": null,
   "id": "0babe331",
   "metadata": {
    "slideshow": {
     "slide_type": "-"
    }
   },
   "outputs": [],
   "source": [
    "('Hip ' * 3 + 'Hourra ! ') * 2"
   ]
  },
  {
   "cell_type": "markdown",
   "id": "20f1d17d",
   "metadata": {
    "slideshow": {
     "slide_type": "subslide"
    }
   },
   "source": [
    "Beaucoup d'autres opérations (sur les chaînes, les nombres...) : *on verra ça plus tard*\n",
    "\n",
    "<img src='img/warning.png' width='50px' style='display:inline'> Le sens de `*` et `+` n'est pas le même sur les chaînes et sur les nombres !"
   ]
  },
  {
   "cell_type": "markdown",
   "id": "9c700d8a",
   "metadata": {
    "slideshow": {
     "slide_type": "slide"
    }
   },
   "source": [
    "### Conversions / transformations de type\n",
    "\n",
    "On a parfois besoin de convertir une valeur d'un type à l'autre"
   ]
  },
  {
   "cell_type": "markdown",
   "id": "081eceed",
   "metadata": {
    "slideshow": {
     "slide_type": "subslide"
    }
   },
   "source": [
    "- N'importe quel objet en chaîne avec la fonction `str`"
   ]
  },
  {
   "cell_type": "code",
   "execution_count": null,
   "id": "351906ab",
   "metadata": {
    "slideshow": {
     "slide_type": "-"
    }
   },
   "outputs": [],
   "source": [
    "\"J'ai \" + 10 + ' ans.'"
   ]
  },
  {
   "cell_type": "code",
   "execution_count": null,
   "id": "330a2999",
   "metadata": {
    "slideshow": {
     "slide_type": "-"
    }
   },
   "outputs": [],
   "source": [
    "\"J'ai \" + str(10) + ' ans.'"
   ]
  },
  {
   "cell_type": "markdown",
   "id": "e7032152",
   "metadata": {
    "slideshow": {
     "slide_type": "subslide"
    }
   },
   "source": [
    "-   Un `float`, ou *parfois* un `str` en `int`  "
   ]
  },
  {
   "cell_type": "code",
   "execution_count": null,
   "id": "7deecb24",
   "metadata": {
    "slideshow": {
     "slide_type": "-"
    }
   },
   "outputs": [],
   "source": [
    "int(3.5)  # float vers int"
   ]
  },
  {
   "cell_type": "code",
   "execution_count": null,
   "id": "cefcefaa",
   "metadata": {
    "slideshow": {
     "slide_type": "-"
    }
   },
   "outputs": [],
   "source": [
    "int('14')  # str vers int"
   ]
  },
  {
   "cell_type": "code",
   "execution_count": null,
   "id": "eb76737f",
   "metadata": {
    "slideshow": {
     "slide_type": "subslide"
    }
   },
   "outputs": [],
   "source": [
    "int('3.5')  # impossible : deux conversions (str -> float -> int)"
   ]
  },
  {
   "cell_type": "code",
   "execution_count": null,
   "id": "bffe997f",
   "metadata": {
    "slideshow": {
     "slide_type": "-"
    }
   },
   "outputs": [],
   "source": [
    "int('deux')  # impossible : ne représente pas un nombre"
   ]
  },
  {
   "cell_type": "markdown",
   "id": "5b11a37f",
   "metadata": {
    "slideshow": {
     "slide_type": "subslide"
    }
   },
   "source": [
    "-   Un `int`, ou *parfois* un `str` en `float`"
   ]
  },
  {
   "cell_type": "code",
   "execution_count": null,
   "id": "f284216f",
   "metadata": {
    "slideshow": {
     "slide_type": "-"
    }
   },
   "outputs": [],
   "source": [
    "float(3)  # int vers float"
   ]
  },
  {
   "cell_type": "code",
   "execution_count": null,
   "id": "f41223df",
   "metadata": {
    "slideshow": {
     "slide_type": "-"
    }
   },
   "outputs": [],
   "source": [
    "float('14.2')  # str vers float"
   ]
  },
  {
   "cell_type": "code",
   "execution_count": null,
   "id": "0faf63b0",
   "metadata": {
    "slideshow": {
     "slide_type": "subslide"
    }
   },
   "outputs": [],
   "source": [
    "float('3,5')  # impossible : virgule au lieu de point"
   ]
  },
  {
   "cell_type": "code",
   "execution_count": null,
   "id": "cf684f14",
   "metadata": {
    "slideshow": {
     "slide_type": "-"
    }
   },
   "outputs": [],
   "source": [
    "float('bonjour')  # impossible : ne représente pas un nombre"
   ]
  },
  {
   "cell_type": "markdown",
   "id": "9ed77cbd",
   "metadata": {
    "slideshow": {
     "slide_type": "slide"
    }
   },
   "source": [
    "### Déterminer le type d'une expression\n",
    "\n",
    "Grâce à la fonction prédéfinie `type`"
   ]
  },
  {
   "cell_type": "code",
   "execution_count": null,
   "id": "2fbc7b30",
   "metadata": {
    "slideshow": {
     "slide_type": "-"
    }
   },
   "outputs": [],
   "source": [
    "type(\"salut\")"
   ]
  },
  {
   "cell_type": "code",
   "execution_count": null,
   "id": "5f2dc419",
   "metadata": {
    "slideshow": {
     "slide_type": "-"
    }
   },
   "outputs": [],
   "source": [
    "type(4 / 2)"
   ]
  },
  {
   "cell_type": "code",
   "execution_count": null,
   "id": "c9318688",
   "metadata": {
    "slideshow": {
     "slide_type": "-"
    }
   },
   "outputs": [],
   "source": [
    "type(2 * 4.8)"
   ]
  },
  {
   "cell_type": "markdown",
   "id": "36aa23f1",
   "metadata": {
    "slideshow": {
     "slide_type": "slide"
    }
   },
   "source": [
    "#### Exercice : valeur et type d'une opération\n",
    "\n",
    "Pour chacune des instructions suivantes :\n",
    "1. donner le type et le résultat de l'expression donnée ;\n",
    "2. vérifier le résultat.\n",
    "\n",
    "On pourra utiliser la fonction `type` si nécessaire pour vérifier le type du résultat."
   ]
  },
  {
   "cell_type": "code",
   "execution_count": null,
   "id": "ab2e4c6c",
   "metadata": {
    "slideshow": {
     "slide_type": "subslide"
    }
   },
   "outputs": [],
   "source": [
    "2 * 5"
   ]
  },
  {
   "cell_type": "code",
   "execution_count": null,
   "id": "ad05c65c",
   "metadata": {
    "slideshow": {
     "slide_type": "subslide"
    }
   },
   "outputs": [],
   "source": [
    "2 + 1.5"
   ]
  },
  {
   "cell_type": "code",
   "execution_count": null,
   "id": "9a07a095",
   "metadata": {
    "slideshow": {
     "slide_type": "subslide"
    }
   },
   "outputs": [],
   "source": [
    "2.0 * 4"
   ]
  },
  {
   "cell_type": "code",
   "execution_count": null,
   "id": "05a43c1e",
   "metadata": {
    "slideshow": {
     "slide_type": "subslide"
    }
   },
   "outputs": [],
   "source": [
    "'2.0' * 4"
   ]
  },
  {
   "cell_type": "code",
   "execution_count": null,
   "id": "6a6ccaf2",
   "metadata": {
    "slideshow": {
     "slide_type": "subslide"
    }
   },
   "outputs": [],
   "source": [
    "'2.0' * 4.0"
   ]
  },
  {
   "cell_type": "code",
   "execution_count": null,
   "id": "807c820f",
   "metadata": {
    "slideshow": {
     "slide_type": "subslide"
    }
   },
   "outputs": [],
   "source": [
    "4 / 2"
   ]
  },
  {
   "cell_type": "code",
   "execution_count": null,
   "id": "d76bf860",
   "metadata": {
    "slideshow": {
     "slide_type": "subslide"
    }
   },
   "outputs": [],
   "source": [
    "4.0 / 2"
   ]
  },
  {
   "cell_type": "code",
   "execution_count": null,
   "id": "fa0dd8cd",
   "metadata": {
    "slideshow": {
     "slide_type": "subslide"
    }
   },
   "outputs": [],
   "source": [
    "5 / 2"
   ]
  },
  {
   "cell_type": "code",
   "execution_count": null,
   "id": "7ebf7cc3",
   "metadata": {
    "slideshow": {
     "slide_type": "subslide"
    }
   },
   "outputs": [],
   "source": [
    "5 % 2"
   ]
  },
  {
   "cell_type": "code",
   "execution_count": null,
   "id": "71e11124",
   "metadata": {
    "slideshow": {
     "slide_type": "subslide"
    }
   },
   "outputs": [],
   "source": [
    "5 // 2"
   ]
  },
  {
   "cell_type": "code",
   "execution_count": null,
   "id": "f8b9e8aa",
   "metadata": {
    "slideshow": {
     "slide_type": "subslide"
    }
   },
   "outputs": [],
   "source": [
    "int(4.0) / 2"
   ]
  },
  {
   "cell_type": "code",
   "execution_count": null,
   "id": "87c7fc5f",
   "metadata": {
    "slideshow": {
     "slide_type": "subslide"
    }
   },
   "outputs": [],
   "source": [
    "str(4) / 2"
   ]
  },
  {
   "cell_type": "code",
   "execution_count": null,
   "id": "1968e31d",
   "metadata": {
    "slideshow": {
     "slide_type": "subslide"
    }
   },
   "outputs": [],
   "source": [
    "'toto' + str(4)"
   ]
  },
  {
   "cell_type": "code",
   "execution_count": null,
   "id": "9f3c86f5",
   "metadata": {
    "slideshow": {
     "slide_type": "subslide"
    }
   },
   "outputs": [],
   "source": [
    "float(4) * 2"
   ]
  },
  {
   "cell_type": "code",
   "execution_count": null,
   "id": "14986fbf",
   "metadata": {
    "slideshow": {
     "slide_type": "subslide"
    }
   },
   "outputs": [],
   "source": [
    "int(str(4) * 2)"
   ]
  },
  {
   "cell_type": "code",
   "execution_count": null,
   "id": "d8542f20",
   "metadata": {
    "slideshow": {
     "slide_type": "subslide"
    }
   },
   "outputs": [],
   "source": [
    "'toto' + 'titi'"
   ]
  },
  {
   "cell_type": "code",
   "execution_count": null,
   "id": "d7c28a0b",
   "metadata": {
    "slideshow": {
     "slide_type": "subslide"
    }
   },
   "outputs": [],
   "source": [
    "int('toto') + 'titi'"
   ]
  },
  {
   "cell_type": "code",
   "execution_count": null,
   "id": "41d3938a",
   "metadata": {
    "slideshow": {
     "slide_type": "subslide"
    }
   },
   "outputs": [],
   "source": [
    "int(2.0) * 4"
   ]
  },
  {
   "cell_type": "code",
   "execution_count": null,
   "id": "a9564b59",
   "metadata": {
    "slideshow": {
     "slide_type": "subslide"
    }
   },
   "outputs": [],
   "source": [
    "'toto' * str(4)"
   ]
  },
  {
   "cell_type": "code",
   "execution_count": null,
   "id": "1c070029",
   "metadata": {
    "slideshow": {
     "slide_type": "subslide"
    }
   },
   "outputs": [],
   "source": [
    "int('1.25')"
   ]
  },
  {
   "cell_type": "markdown",
   "id": "679c9657",
   "metadata": {
    "slideshow": {
     "slide_type": "slide"
    }
   },
   "source": [
    "### Variables et affectations\n",
    "\n",
    "Une **variable** est un *nom* servant à désigner une valeur\n",
    "- Une variable est remplacée par sa valeur dans les calculs\n",
    "- Seules les opérations du type de la valeur sont permises"
   ]
  },
  {
   "cell_type": "markdown",
   "id": "9b83985c",
   "metadata": {
    "slideshow": {
     "slide_type": "subslide"
    }
   },
   "source": [
    "L'**affectation** est le fait de lier une *valeur* à une *variable*\n",
    "-   Syntaxe : `nom =` *une expression*  \n",
    "    <img src='../img/warning.png' width=50px style='display:inline'> **Attention :** Ce n'est pas *du tout* le = des mathématiques, il faut le lire comme \"prend la valeur\""
   ]
  },
  {
   "cell_type": "code",
   "execution_count": null,
   "id": "d78bcb2f",
   "metadata": {
    "slideshow": {
     "slide_type": "subslide"
    }
   },
   "outputs": [],
   "source": [
    "x = 3\n",
    "y ='UGE'\n",
    "z = x + 2\n",
    "x, y, z"
   ]
  },
  {
   "cell_type": "markdown",
   "id": "b3e88bf8",
   "metadata": {
    "slideshow": {
     "slide_type": "subslide"
    }
   },
   "source": [
    "-   On peut *réaffecter* une variable (même avec une valeur d'un type différent)  "
   ]
  },
  {
   "cell_type": "code",
   "execution_count": null,
   "id": "ba64bf7d",
   "metadata": {},
   "outputs": [],
   "source": [
    "x"
   ]
  },
  {
   "cell_type": "code",
   "execution_count": null,
   "id": "179dde14",
   "metadata": {},
   "outputs": [],
   "source": [
    "x = 'UGE'"
   ]
  },
  {
   "cell_type": "code",
   "execution_count": null,
   "id": "6c768497",
   "metadata": {},
   "outputs": [],
   "source": [
    "x"
   ]
  },
  {
   "cell_type": "markdown",
   "id": "c6138710",
   "metadata": {
    "slideshow": {
     "slide_type": "subslide"
    }
   },
   "source": [
    "-   On ne peut utiliser une variable que si elle a été préalablement définie !"
   ]
  },
  {
   "cell_type": "code",
   "execution_count": null,
   "id": "0effc4ce",
   "metadata": {},
   "outputs": [],
   "source": [
    "foo"
   ]
  },
  {
   "cell_type": "markdown",
   "id": "ce13976c",
   "metadata": {
    "slideshow": {
     "slide_type": "slide"
    }
   },
   "source": [
    "### Modèle de mémoire de Python\n",
    "\n",
    "*Modèle de mémoire : une image simplifiée de la manière dont fonctionne la mémoire de l'interpréteur Python*\n",
    "\n",
    "Deux zones principales :\n",
    "- la zone des données (le « tas », en anglais *heap*)\n",
    "- la zone des espaces de noms (la « pile », en anglais *stack*)\n",
    "\n",
    "Dans Python Tutor : pile à gauche, tas à droite"
   ]
  },
  {
   "cell_type": "markdown",
   "id": "a17b132b",
   "metadata": {
    "slideshow": {
     "slide_type": "subslide"
    }
   },
   "source": [
    "##### Le tas\n",
    "\n",
    "Le tas est comme un *très* gros cahier dans lequel sont décrits les objets manipulés par un programme\n",
    "- Chaque objet décrit dans le cahier commence à un certain numéro de page, qu'on appelle son *adresse*\n",
    "- Certaines pages sont blanches, d'autres sont remplies"
   ]
  },
  {
   "cell_type": "markdown",
   "id": "ce3b808d",
   "metadata": {
    "slideshow": {
     "slide_type": "subslide"
    }
   },
   "source": [
    "##### La pile\n",
    "\n",
    "La pile est comme l'index du cahier\n",
    "\n",
    "- À chaque variable est associé le numéro de page d'un objet\n",
    "- Un groupe de variables et les numéros de page correspondants est appelé **espace de noms**\n",
    "- La pile contient l'espace de noms **global**, contenant les noms définis par nos programmes  \n",
    "  *(en réalité la pile contient aussi d'autres espaces de noms, on en reparlera)*"
   ]
  },
  {
   "cell_type": "code",
   "execution_count": null,
   "id": "1ce14b7a",
   "metadata": {
    "slideshow": {
     "slide_type": "subslide"
    }
   },
   "outputs": [],
   "source": [
    "%%nbtutor -r -f\n",
    "x = 3\n",
    "y ='UGE'\n",
    "z = x + 2"
   ]
  },
  {
   "cell_type": "markdown",
   "id": "ad4a338e",
   "metadata": {
    "slideshow": {
     "slide_type": "slide"
    }
   },
   "source": [
    "#### La notion d'état\n",
    "\n",
    "L'**état** de l'interpréteur pendant l'exécution c'est\n",
    "\n",
    "- le numéro de la ligne suivante à exécuter dans le programme\n",
    "- le contenu de diverses variables internes de l'interpréteur\n",
    "- le contenu de la pile (donc tous les espaces de noms)\n",
    "- le contenu du tas (donc toutes les données du programme)\n",
    "\n",
    "à un moment donné. Les **instructions** modifient généralement l'état."
   ]
  },
  {
   "cell_type": "markdown",
   "id": "3853e9ad",
   "metadata": {
    "slideshow": {
     "slide_type": "slide"
    }
   },
   "source": [
    "#### Étapes d'une affectation \n",
    "\n",
    "##### Affectation simple"
   ]
  },
  {
   "cell_type": "code",
   "execution_count": null,
   "id": "bab457cf",
   "metadata": {
    "slideshow": {
     "slide_type": "-"
    }
   },
   "outputs": [],
   "source": [
    "x = 40 + 2"
   ]
  },
  {
   "cell_type": "markdown",
   "id": "d8b7c5be",
   "metadata": {
    "slideshow": {
     "slide_type": "subslide"
    }
   },
   "source": [
    "1.  Évaluation de l'expression à droite du `=` (ici `42`)\n",
    "\n",
    "    ![affectation1.png](img/affectation1.png)\n",
    "\n",
    "    La valeur `42` de type `int` est stockée dans le tas *(écrite sur une page du cahier)*"
   ]
  },
  {
   "cell_type": "markdown",
   "id": "d6796791",
   "metadata": {
    "slideshow": {
     "slide_type": "subslide"
    }
   },
   "source": [
    "2. Création du nom `x` dans l'espace de noms (sauf s'il existe déjà)\n",
    "   ![affectation2.png](img/affectation2.png)\n",
    "   On ajoute `x` à la pile *(on ajoute une ligne pour `x` à l'index du cahier)*"
   ]
  },
  {
   "cell_type": "markdown",
   "id": "0bf47bc4",
   "metadata": {
    "slideshow": {
     "slide_type": "subslide"
    }
   },
   "source": [
    "3. Création du lien entre *variable* et *valeur*\n",
    "   ![affectation3.png](img/affectation3.png)\n",
    "   L'adresse de l'objet `42` est associée à la variable `x` *(on écrit dans l'index le numéro de la page contenant l'objet `42` à `x`)*"
   ]
  },
  {
   "cell_type": "markdown",
   "id": "3932fb52",
   "metadata": {
    "slideshow": {
     "slide_type": "subslide"
    }
   },
   "source": [
    "##### Deuxième exemple"
   ]
  },
  {
   "cell_type": "code",
   "execution_count": null,
   "id": "baba8568",
   "metadata": {
    "slideshow": {
     "slide_type": "-"
    }
   },
   "outputs": [],
   "source": [
    "y = x"
   ]
  },
  {
   "cell_type": "markdown",
   "id": "ca059c02",
   "metadata": {
    "slideshow": {
     "slide_type": "-"
    }
   },
   "source": [
    "<img src='img/warning.png' width=50px style='display:inline'> Dans cet exemple le `x` en partie droite de l'affectation désigne la **valeur** actuellement associée à la variable `x` !"
   ]
  },
  {
   "cell_type": "markdown",
   "id": "6323910b",
   "metadata": {
    "slideshow": {
     "slide_type": "subslide"
    }
   },
   "source": [
    "1. Calcul du *membre droit* après remplacement de chaque variable par la valeur associée (ici `x` remplacé par `42`)\n",
    "    ![affectation4.png](img/affectation4.png)"
   ]
  },
  {
   "cell_type": "markdown",
   "id": "78d40c8f",
   "metadata": {
    "slideshow": {
     "slide_type": "subslide"
    }
   },
   "source": [
    "2. Création du nom `y` (sauf si déjà créé) \n",
    "    ![affectation5bis.png](img/affectation5_bis.png)"
   ]
  },
  {
   "cell_type": "markdown",
   "id": "b9b91d64",
   "metadata": {
    "slideshow": {
     "slide_type": "subslide"
    }
   },
   "source": [
    "3. Création du lien entre `y` et `42`\n",
    "    ![affectation5.png](img/affectation5.png)"
   ]
  },
  {
   "cell_type": "markdown",
   "id": "926cd4c6",
   "metadata": {
    "slideshow": {
     "slide_type": "subslide"
    }
   },
   "source": [
    "#### Troisième exemple"
   ]
  },
  {
   "cell_type": "code",
   "execution_count": null,
   "id": "a1951dbd",
   "metadata": {
    "slideshow": {
     "slide_type": "-"
    }
   },
   "outputs": [],
   "source": [
    "x = x + 1"
   ]
  },
  {
   "cell_type": "markdown",
   "id": "60246b9b",
   "metadata": {
    "slideshow": {
     "slide_type": "-"
    }
   },
   "source": [
    "<img src='img/warning.png' width=50px style='display:inline'> Dans cet exemple, le `x` de gauche désigne le nom `x` lui-même, mais celui de droite désigne la **valeur** actuellement associée à `x`"
   ]
  },
  {
   "cell_type": "markdown",
   "id": "b8dce47a",
   "metadata": {
    "slideshow": {
     "slide_type": "subslide"
    }
   },
   "source": [
    "1. Calcul du *membre droit* après remplacement de chaque variable par la valeur associée (ici `x` remplacé par `42`, résultat : `43`)\n",
    "    ![affectation6.png](img/affectation6.png)"
   ]
  },
  {
   "cell_type": "markdown",
   "id": "f0f7bb96",
   "metadata": {
    "slideshow": {
     "slide_type": "subslide"
    }
   },
   "source": [
    "2. Nom `x` déjà existant, création du lien entre `x` et 43\n",
    "    ![affectation7.png](img/affectation7.png)"
   ]
  },
  {
   "cell_type": "markdown",
   "id": "16c9ad39",
   "metadata": {
    "slideshow": {
     "slide_type": "subslide"
    }
   },
   "source": [
    "#### <img src='img/warning.png' width=50px style='display:inline'> Piège !\n",
    "\n",
    "Que vaut maintenant `y` ?"
   ]
  },
  {
   "cell_type": "code",
   "execution_count": null,
   "id": "4788ffac",
   "metadata": {
    "slideshow": {
     "slide_type": "fragment"
    }
   },
   "outputs": [],
   "source": [
    "y\n"
   ]
  },
  {
   "cell_type": "markdown",
   "id": "d965a7ad",
   "metadata": {
    "slideshow": {
     "slide_type": "-"
    }
   },
   "source": [
    "Même si `x` et `y` désignaient avant le même objet (la même adresse, le même *numéro de page*), changer la page que désigne `x` n'a aucun effet sur `y` ! On n'a pas *modifié* l'objet 42, qui est toujours là !"
   ]
  },
  {
   "cell_type": "code",
   "execution_count": null,
   "id": "12040c00",
   "metadata": {
    "slideshow": {
     "slide_type": "subslide"
    }
   },
   "outputs": [],
   "source": [
    "%%nbtutor -r -f\n",
    "x = 40 + 2\n",
    "y = x\n",
    "x = x + 1"
   ]
  },
  {
   "cell_type": "markdown",
   "id": "becd7a5b",
   "metadata": {
    "slideshow": {
     "slide_type": "subslide"
    }
   },
   "source": [
    "**Remarque :** L'instruction `x = x + 1` peut aussi s'écrire `x += 1`. On appelle cela une **incrémentation** de `x`."
   ]
  },
  {
   "cell_type": "code",
   "execution_count": null,
   "id": "caab50e6",
   "metadata": {
    "slideshow": {
     "slide_type": "-"
    }
   },
   "outputs": [],
   "source": [
    "x += 1"
   ]
  },
  {
   "cell_type": "markdown",
   "id": "521891e7",
   "metadata": {
    "slideshow": {
     "slide_type": "-"
    }
   },
   "source": [
    "De même, `x *= 2` est une version plus concise de `x = x * 2`."
   ]
  },
  {
   "cell_type": "markdown",
   "id": "09719b62",
   "metadata": {
    "slideshow": {
     "slide_type": "subslide"
    }
   },
   "source": [
    "##### Dernier exemple"
   ]
  },
  {
   "cell_type": "code",
   "execution_count": null,
   "id": "d0800da1",
   "metadata": {
    "slideshow": {
     "slide_type": "-"
    }
   },
   "outputs": [],
   "source": [
    "x = -6.5"
   ]
  },
  {
   "cell_type": "markdown",
   "id": "47e3ad20",
   "metadata": {
    "slideshow": {
     "slide_type": "-"
    }
   },
   "source": [
    "![affectation8.png](img/affectation8.png)"
   ]
  },
  {
   "cell_type": "markdown",
   "id": "fad3b1ea",
   "metadata": {
    "slideshow": {
     "slide_type": "subslide"
    }
   },
   "source": [
    "##### <img src='../img/warning.png' width=50px style='display:inline'> Quelques points de détail\n",
    "\n",
    "- On peut réaffecter une valeur de type différent à une variable (comme dans le dernier exemple)\n",
    "- En cas de réaffectation, le lien précédent est oublié\n",
    "- Quand aucun lien n'existe vers un objet, il est \"détruit\" par le ramasse-miettes ou *garbage collector* (la page est effacée !)"
   ]
  },
  {
   "cell_type": "markdown",
   "id": "7715951b",
   "metadata": {
    "slideshow": {
     "slide_type": "subslide"
    }
   },
   "source": [
    "##### Exercice : état de la mémoire après une suite d'affectations\n",
    "\n",
    "Dessiner l'état de la mémoire à l'issue des instructions suivantes :"
   ]
  },
  {
   "cell_type": "code",
   "execution_count": null,
   "id": "4bf6749b",
   "metadata": {},
   "outputs": [],
   "source": [
    "x = 2\n",
    "y = 3\n",
    "x += y\n",
    "y *= 2"
   ]
  },
  {
   "cell_type": "markdown",
   "id": "c5a3a0f0",
   "metadata": {
    "slideshow": {
     "slide_type": "slide"
    }
   },
   "source": [
    "#### Nommage des variables\n",
    "\n",
    "Règles de nommage des variables :\n",
    "\n",
    "- Commencent par une *lettre*, suivie de *lettres et de chiffres*\n",
    "- Le caractère *underscore* `'_'` est considéré comme une lettre\n",
    "- Éviter les caractères spéciaux (accents, cédille, etc.)\n",
    "- Les *mots réservés* (ou mots-clés) de Python sont interdits\n",
    "- Il y a aussi des **conventions** (*vues plus tard*)"
   ]
  },
  {
   "cell_type": "markdown",
   "id": "fc16dda5",
   "metadata": {
    "slideshow": {
     "slide_type": "subslide"
    }
   },
   "source": [
    "*Exemples :*  `_ex2   Ex2mpl1`\n",
    "\n",
    "*Contre-exemple :*  `2024eiffel`"
   ]
  },
  {
   "cell_type": "markdown",
   "id": "823159ca",
   "metadata": {
    "slideshow": {
     "slide_type": "subslide"
    }
   },
   "source": [
    "##### Mots-clés et autres mots réservés\n",
    "\n",
    "Les mots suivants sont **réservés** pour le langage :\n",
    "\n",
    "```python\n",
    "False      await      else       import     pass\n",
    "None       break      except     in         raise\n",
    "True       class      finally    is         return\n",
    "and        continue   for        lambda     try\n",
    "as         def        from       nonlocal   while\n",
    "assert     del        global     not        with\n",
    "async      elif       if         or         yield\n",
    "```\n",
    "\n",
    "https://docs.python.org/fr/3/reference/lexical_analysis.html#keywords"
   ]
  },
  {
   "cell_type": "markdown",
   "id": "3f3baec4",
   "metadata": {
    "slideshow": {
     "slide_type": "subslide"
    }
   },
   "source": [
    "##### Exercice : nommage de variables\n",
    "\n",
    "Indiquer parmi les mots suivants ceux qui ne sont pas des noms valides pour une variable :\n",
    "  \n",
    "```\n",
    "    bonjour                Hi!                  au revoir              oui\n",
    "    Ciao                   NON                  byeBye7                6hello6\n",
    "    abc                    def                  6hello6                _upem_\n",
    "    good_morning           __repr__             good-afternoon         f()\n",
    "```"
   ]
  },
  {
   "cell_type": "markdown",
   "id": "3f5c07be",
   "metadata": {
    "slideshow": {
     "slide_type": "slide"
    }
   },
   "source": [
    "### Saisie et affichage\n",
    "\n",
    "Fonction de saisie : `x = input(\"Veuillez rentrer ...\")`\n",
    "  \n",
    "- L'utilisateur tape une ligne au clavier\n",
    "- La ligne est stockée sous forme de chaîne de caractères (`str`)\n",
    "- Cette valeur peut ensuite être affectée à une variable (ici `x`)\n",
    "- Le message d'invite pour l'utilisateur est facultatif\n",
    "\n",
    "https://docs.python.org/fr/3/library/functions.html#input"
   ]
  },
  {
   "cell_type": "code",
   "execution_count": null,
   "id": "0b805902",
   "metadata": {
    "slideshow": {
     "slide_type": "subslide"
    }
   },
   "outputs": [],
   "source": [
    "nb_personnes_ref = 2\n",
    "nb_convives = input(\"Combien de personnes ? \")\n",
    "rapport = nb_convives / nb_personnes_ref"
   ]
  },
  {
   "cell_type": "code",
   "execution_count": null,
   "id": "74b98c85",
   "metadata": {
    "slideshow": {
     "slide_type": "subslide"
    }
   },
   "outputs": [],
   "source": [
    "nb_personnes_ref = 2\n",
    "# on convertit immédiatement le texte saisi en int :\n",
    "nb_convives = int(input(\"Combien de personnes ? \"))\n",
    "rapport = nb_convives / nb_personnes_ref"
   ]
  },
  {
   "cell_type": "markdown",
   "id": "3eb7dc80",
   "metadata": {
    "slideshow": {
     "slide_type": "subslide"
    }
   },
   "source": [
    "Fonction d'affichage : `print(x)`\n",
    "  \n",
    "- Affiche dans le terminal la chaîne de caractères associée à `x`\n",
    "- On peut afficher plusieurs valeurs à la suite : `print(x, y, z, ...)`\n",
    "- Appelle automatiquement la fonction `str` sur chacun de ses arguments\n",
    "- S'il y a plusieurs arguments, insère automatiquement des espaces\n",
    "- Passe automatiquement à la ligne\n",
    "\n",
    "https://docs.python.org/fr/3/library/functions.html#print"
   ]
  },
  {
   "cell_type": "code",
   "execution_count": null,
   "id": "7b3786e7",
   "metadata": {
    "slideshow": {
     "slide_type": "subslide"
    }
   },
   "outputs": [],
   "source": [
    "nb_personnes_ref = 2\n",
    "# on convertit immédiatement le texte saisi en int :\n",
    "nb_convives = int(input(\"Combien de personnes ? \"))\n",
    "rapport = nb_convives / nb_personnes_ref\n",
    "print(\"Je multiplie toutes les quantités par\", rapport)"
   ]
  },
  {
   "cell_type": "markdown",
   "id": "e16ec509",
   "metadata": {
    "slideshow": {
     "slide_type": "subslide"
    }
   },
   "source": [
    "**Remarque :** *Il existe de nombreuses possibilités pour l'affichage de texte, consulter la [documentation officielle](https://docs.python.org/fr/3/tutorial/inputoutput.html) pour plus de détails.*"
   ]
  }
 ],
 "metadata": {
  "kernelspec": {
   "display_name": "Python 3 (ipykernel)",
   "language": "python",
   "name": "python3"
  },
  "language_info": {
   "codemirror_mode": {
    "name": "ipython",
    "version": 3
   },
   "file_extension": ".py",
   "mimetype": "text/x-python",
   "name": "python",
   "nbconvert_exporter": "python",
   "pygments_lexer": "ipython3",
   "version": "3.10.12"
  }
 },
 "nbformat": 4,
 "nbformat_minor": 5
}
