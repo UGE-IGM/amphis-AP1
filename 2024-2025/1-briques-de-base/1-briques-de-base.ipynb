{
 "cells": [
  {
   "cell_type": "markdown",
   "id": "30891f2c",
   "metadata": {},
   "source": [
    "# Algorithmique et programmation 1"
   ]
  },
  {
   "cell_type": "markdown",
   "id": "4780c963",
   "metadata": {
    "slideshow": {
     "slide_type": "-"
    }
   },
   "source": [
    "## Préambule\n",
    "\n",
    "Bienvenue dans le cours **Algorithmique et Programmation 1** !"
   ]
  },
  {
   "cell_type": "markdown",
   "id": "2d8daf82",
   "metadata": {},
   "source": [
    "### Pour qui ? Pour quoi ?\n",
    "\n",
    "Ce cours est destiné en particulier aux étudiant.e.s ayant peu d'expérience en programmation.\n",
    "\n",
    "Il va couvrir les bases de la programmation *impérative*, à travers le langage de programmation *Python* (3), ainsi que constituer une introduction à la discipline (et à la pensée) algorithmique.\n",
    "\n",
    "Ces notes sont pensées pour accompagner, enrichir et détailler les transparents présentés en *cours magistral* (CM). Les transparents sont aussi disponibles en consultation en ligne ou au téléchargement.\n",
    "\n",
    "Elles sont en grande partie basées sur les notebooks des années précédentes, rédigées principalement par Antoine Meyer. \n",
    "\n",
    "Bonne découverte et bon semestre !\n",
    "\n",
    "*Marie et Léo*\n",
    "\n",
    "#### Trouver des informations\n",
    "\n",
    "-   **Contacts** (à chercher dans [l'annuaire](https://pagespro.univ-gustave-eiffel.fr/)) :\n",
    "    - Responsable de formation : Antoine Meyer\n",
    "    - Secrétaire de formation : Ramatoulaye Barry ramatoulaye.barry@univ-eiffel.fr (absence, pb admin, ...)\n",
    "    - Responsables de l'UE : Marie van den Bogaard et Léo Exibard\n",
    "    \n",
    "-   **Page web** :\n",
    "    -   https://elearning.univ-eiffel.fr/course/view.php?id=9175\n",
    "    -   Ressources diverses (ouvrages, liens, annonces)\n",
    "    -   Sujets des TD, des TP, liens vers les supports de cours\n",
    "    \n",
    "-   **Communication** : \n",
    "    - Discord : https://discord.gg/6jrfmUwcSp\n",
    "    - Mail : *exclusivement* sur votre adresse <<vous@edu.univ-eiffel.fr>>\n",
    "    - *Webmail* : http://partage.univ-eiffel.fr"
   ]
  },
  {
   "cell_type": "markdown",
   "id": "303d8f07",
   "metadata": {},
   "source": [
    "### Programme et références\n",
    "\n",
    "Ce cours recouvre très largement la partie *Langages et programmation* du programme de l'option de spécialité NSI de première générale proposée par les (des) lycées français. Certaines notions des parties *Algorithmique*, *Représentation des données* et *Histoire de l'informatique* seront aussi abordées. (cf. https://www.education.gouv.fr/media/23690/download)\n",
    "\n",
    "Beaucoup de ressources sont disponibles pour apprendre et approfondir les concepts présentés dans ce cours. Nous recommandons notamment le livre *Informatique :Inf*, collection *Fluoresciences*, éditions *Dunod*, partie 1 *Mathématiques pour l'Informatique* et partie 2 *Algorithmique et Programmation*, disponible à la bibliothèque universitaire Georges Pérec. \n",
    "Le livre pdf gratuit de G. Swinnen, *Apprendre à programmer avec Python 3*, dont le lien se trouve sur la page e-learning du cours, peut aussi s'avérer pertinent pour le lecteur curieux.\n",
    "\n",
    "En (très) résumé, voici les notions abordées dans la suite de ces notes et pendant les séances de CMs, TDs et TPs:\n",
    "\n",
    "   - Notion d'**algorithme** : définition, intérêt, exemples, mise en oeuvre \n",
    "   - Briques de base de la **programmation impérative** : variables, assignation, expressions, opérations, structure de contrôle, représentation des données (types simples, types construits, structures de données), fonctions\n",
    "   - Outils mathématiques et de raisonnement : bases de numération, arithmétique \"euclidienne\" (division entière, reste, modulo, ppcm, pgcd), booléens et valeurs de vérités\n",
    "   - Machinerie Python : syntaxe, fonctionnement de la mémoire, méthodes utiles, listes, dictionnaires \n",
    "   - Bonnes pratiques de programmation : Règles de style, Prototypage, Découpage en sous-tâches, Documentation, Tests\n",
    "   - (en bonus, si le temps le permet : une introduction au concept de *récursivité*)"
   ]
  },
  {
   "cell_type": "markdown",
   "id": "4c409a0e",
   "metadata": {},
   "source": [
    "## Navigation dans les notes  <a name=\"nav\"></a>\n",
    "\n",
    "Voici quelques liens internes pour vous aider à naviguer dans ces notes de cours (une sorte de table des matières).\n",
    "\n",
    "\n",
    "<a href=\"#intro\"> Introduction </a>\n",
    "\n",
    "<a href=\"#briques\"> Briques de base de l'algorithmique </a>\n",
    "\n",
    "A) Connaissances techniques de base sur Python :\n",
    "\n",
    "- <a href=\"#types\"> Types de valeurs </a> \n",
    "\n",
    "- <a href=\"#opérations\"> Opérations </a>\n",
    "\n",
    "- <a href=\"#variables\"> Variables et affectations </a>\n",
    "\n",
    "- <a href=\"#mémoire\"> Modèle de mémoire en Python </a>\n",
    "\n",
    "- <a href=\"#input\"> Saisie et affichage </a>\n",
    "\n",
    "B) Contrôle du flot d'exécution :\n",
    "\n",
    "- <a href=\"#structures\"> Structures de contrôle </a>\n",
    "\n",
    "- <a href=\"#bool\"> Expressions boolénnes </a> \n",
    "    \n",
    "- <a href = \"#operateurs_bool\">Opérateurs booléens et tables de vérité</a>\n",
    "\n",
    "- <a href = \"#conditionnelles\"> Instructions conditionnelles </a>\n",
    "\n",
    "    - <a href = \"#conditionnelles_enchainees\"> Conditionnelles enchaînées </a>\n",
    "\n",
    "- <a href = \"#boucles\"> Boucles *tant que* / *while* </a>\n",
    "\n",
    "    -  <a href = \"#boucles_imbriquees\"> Boucles imbriquées </a>\n",
    "\n",
    "C) Groupes de données et d'instructions : bases\n",
    "\n",
    "- <a href = \"#intro_listes\"> Introduction aux listes </a>\n",
    "\n",
    "- <a href = \"#intro_fonctions\"> Introduction aux fonctions </a>"
   ]
  },
  {
   "cell_type": "markdown",
   "id": "05a110c7",
   "metadata": {},
   "source": [
    "# Introduction <a name=\"intro\"></a>\n",
    "## Une histoire de zéros et de uns...\n",
    "\n",
    "ou *du binaire aux langages de programmation*\n",
    "\n",
    "ou *comment en est-on arrivé là ?*\n",
    "\n",
    "\n",
    "Dans cette section, nous allons essayer d'éclairer l'écart entre le monde des *bits* et le monde des langages de programmation *haut niveau*, comme le Python.\n",
    "La majorité des gens ont en effet une vague idée du fait que l'*informatique*, ou même l'*ordinateur*, \"ça marche avec des *zéro*s et des *un*s\". \n",
    "\n",
    "Ce petit morceau de vulgarisation scientifique dans la culture générale, bien que raisonnable, est parcellaire et très éloigné de la réalité de nos interactions avec l'informatique.\n",
    "Réalité quotidienne d'une grande partie de l'humanité : utilisation d'applications sur nos ordinateurs, téléphones et montres pour réaliser tout un tas de tâches (communication, divertissement, administratif, apprentissage, graphisme...), mais aussi réalité quotidienne pour une partie beaucoup plus restreinte de l'humanité: les *informaticien.ne.s* !\n",
    "\n",
    "Concrètement, depuis très longtemps (à l'échelle de l'histoire de l'informatique), les informaticien.ne.s ne manipulent pas de 0 et de 1 (de *bits*) \"à la main\" (ou alors très rarement, on verra cela).\n",
    "En particulier, en programmation, on utilise en pratique des langages qu'on appelle de *haut niveau* : des langages qui sont relativement compréhensibles à la lecture par un être humain initié. \n",
    "On comprend donc mieux les programmes, et on les écrit aussi plus facilement.\n",
    "\n",
    "D'accord, mais on nous avait donc menti avec ces histoires de zéros et de uns?\n",
    "\n",
    "Non ! Ils sont toujours là, mais entre eux et ce que nous programmons, il y a plusieurs couches, ou strates, de traductions (et un peu d'électronique).\n",
    "Nous ne rentrerons pas dans les détails dans ce cours (les UE d'architecture et de compilation le feront en partie), mais voici une figure qui représente ces différentes strates.\n",
    "    \n",
    "\n",
    "<img src='img/strates.jpg' width='1000px' style='display:inline'>\n",
    "\n",
    "Nous allons donc nous intéresser à la couche supérieure de ce schéma, celle des langages de programmation de haut niveau. Vous savez déjà probablement qu'il en existe plusieurs, et en fait, une *multitude* (dont le Python). \n",
    "Disons-en un peu plus sur cette multitude avant de passer au contenu algorithmique et technique."
   ]
  },
  {
   "cell_type": "markdown",
   "id": "889f4a6c",
   "metadata": {},
   "source": [
    "### De l'universel au particulier\n",
    "\n",
    "On a vu superficiellement qu'à partir de la strate \"langage machine\", tout s'exprimait effectivement en binaire.\n",
    "C'est vrai pour les données, mais aussi pour les programmes ! Or, il est impossible pour le cerveau humain de lire/comprendre/écrire une telle diversité de signifiants encodés avec un alphabet aussi petit (on le rappelle, seulement deux lettres, `0`et `1`).\n",
    "Surtout quand on sait qu'un des objectifs de l'informatique, c'est de traiter beaucoup d'information, ou effectuer beaucoup de calculs, de manière automatique et rapide. \n",
    "Très vite, les langages de programmation ont vu le jour : en 1954, le bal commence avec **Fortran**.\n",
    "C'est un an *avant* le choix du mot **ordinateur** pour parler de *computer* en français.\n",
    "\n",
    "<img src='img/invention-lettre-mot-ordinateur.jpg' width='500px' style='display:inline'>\n",
    "\n",
    "Puis la création de nouveaux langages s'accelère, chacun ayant ses propres spécificités qui le rendent plus ou moins adapté à telle ou telle application.\n",
    "Par exemple, le *COBOL*, créé en 1959, est particulièrement robuste et fiable pour manipuler des grandes quantités de données structurées, et il est donc encore utilisé à ce jour dans les banques, les assurances et certaines administrations.\n",
    "\n",
    "Le langage *C*, quant à lui, permet de contrôler de manière assez fine l'utilisation de la mémoire, et ainsi d'être très performant et économe en ressources. Cette liberté d'usage de la mémoire le rend peut-être moins accessible aux débutants, et même un peu dangereux si l'on est pas prudent ! En revanche, il permet justement d'apprendre la rigueur et d'approfondir certains concepts fondamentaux de programmation : c'est pourquoi vous vous plongerez dedans dès la L2, si vous choisissez le cursus informatique à l'issue de la L1.\n",
    "\n",
    "Enfin, le **Python** : né en 1991, il est beaucoup utilisé pour mettre en place des programmes rapidement. Il est (relativement) simple et peu verbeux, ce qui le rend particulièrement adapté à l'apprentissage de la programmation et à l'écriture de *scripts* (programme simple souvent conçu pour automatiser des tâches élémentaires). C'est lui qui est notre langage de référence dans ce cours, et que l'on va s'employer à maîtriser de plus en plus.\n",
    "\n",
    "La figure ci-dessous montre un échantillon de la généalogie des langages de programmation :\n",
    "\n",
    "<img src='img/genealogie.png' width='500px' style='display:inline'>"
   ]
  },
  {
   "cell_type": "markdown",
   "id": "94c9c888",
   "metadata": {},
   "source": [
    "##### Un mot sur les *paradigmes* de programmation\n",
    "\n",
    "↗️ À votre avis, pourquoi est-ce que le *Caml* est tout seul dans son coin ?\n",
    "\n",
    "La réponse vague : à cause des *paradigmes* de programmation. Cette expression un peu terrifiante veut simplement dire qu'il existe plusieurs *style* de programmation, différentes manières de concevoir les programmes.\n",
    "\n",
    "Ainsi, dans la programmation **impérative**, on va indiquer une série d'instructions à exécuter étape par étape.\n",
    "Intuitivement, on explique *quoi* faire et *comment* en donnant des instructions précises. Les premiers langages de programmation sont dans ce style, mais pas seulement! Le **C** et le **Python** sont des exemples de langages qui peuvent mettre en oeuvre ce paradigme. En fait, la plupart des langages contiennent ce qu'il faut pour programmer de manière impérative, et on peut voir ce paradigme comme l'ensemble des briques de bases de l'algorithmique et de la programmation. C'est d'ailleurs pour cette raison que nous allons explorer cette façon de programmer dans ce cours.\n",
    "\n",
    "On peut aussi citer la programmation **orientée objet**, dans laquelle on est centré sur le concept d'*objet* qui a des propriétés et des méthodes pour agir et interagir avec l'extérieur et avec lui-même. Le **Java** (que vous verrez en L3) et le **C++** (que vous pourrez voir en master) sont des langages de ce type. On peut aussi programmer en orienté objet avec Python, mais cela ne sera pas abordé dans ce cours.\n",
    "\n",
    "Enfin, la programmation **fonctionnelle** est elle centrée sur le concept de *fonction* : très proche des mathématiques, cette façon de penser peut être pertinente pour écrire des programmes très élégants. Le Caml fait partie de cette famille de langages, tout comme le Haskell que vous pourrez aborder en L3.\n",
    "\n",
    "\n",
    "(<a href=\"#nav\"> vers la navigation </a>)"
   ]
  },
  {
   "cell_type": "markdown",
   "id": "14cd9514",
   "metadata": {},
   "source": [
    "## Briques de base d'algorithmique  <a name=\"briques\"></a>\n",
    "\n",
    "Voici un aperçu des briques de base, qui vont nous occuper pour tout le semestre :\n",
    "\n",
    "<img src='img/briques.png' width='600px' style='display:inline'>\n",
    "\n",
    "Un programme informatique traite des **données** pour en extraire de l'information. Elles peuvent être déjà stockées quelque part, ou bien fournies par l'utilisateur auquel cas on parle d'**entrées** (avec le clavier, la souris, etc). Le programme peut également interagir avec l'utilisateur, par exemple en affichant quelque chose à l'écran ou en commandant l'impression d'un document (les **sorties**).\n",
    "\n",
    "Penchons-nous maintenant sur la manière dont le programme traite les données : essentiellement, un programme consiste en une suite d'**instructions**, qui peuvent être répétées ou encore exécutées en fonction de certaines conditions, conformément aux **structures de contrôle** du programme (instructions conditionnelles, boucles `for` et `while`). Enfin, certaines parties du programme peuvent être isolées dans des **fonctions** pour être réutilisées et améliorer la lisibilité du code.\n",
    "\n",
    "### À quoi ça correspond en Python ?\n",
    "Tout cela est peut-être un peu abstrait. Nous approfondirons chaque notion au fil de l'année, mais voici quelques indications pour vous donner une idée, à la lumière de ce que vous avez vu et verrez en TD et en TP (et éventuellement de ce que vous savez déjà de Python) :\n",
    "- Données : c'est l'entrée du programme, par exemple les variables globales et les informations stockées dans des fichiers\n",
    "- Entrées-sorties : vous pouvez demander une entrée à l'utilisateur via la fonction `input()`, et afficher des éléments à l'écran avec `print()`. Nous verrons des méthodes plus élaborées (par exemple via des interfaces graphiques) avec `fltk`.\n",
    "- Opérations : les opérations arithmétiques `+`, `-`, `*`, `/`, etc ; logiques `and`, `or`, `not` ; la concaténation `+` ; et tout un tas d'opérations plus compliquées que nous verrons au fil de l'année.\n",
    "- Fonctions : vous avez déjà pu manipuler `input` et `print` pour les entrées-sorties, ainsi que `int` et `str` pour convertir en entier et en chaîne de caractère, nous en verrons de nombreuses autres !\n",
    "- Structures de contrôle : il s'agit des instructions conditionnelles `if: ... else: ...`, des boucles `for ... in ...` et des boucles `while ...:`.\n",
    "\n",
    "Mais pas de panique, nous allons voir tout cela en détail en CM !\n",
    "\n",
    "(<a href=\"#nav\"> vers la navigation </a>)"
   ]
  },
  {
   "cell_type": "markdown",
   "id": "dae19af9",
   "metadata": {},
   "source": [
    "# Un peu plus sur Python\n",
    "\n",
    "C'est parti pour expliciter les premières briques dans le langage Python. La suite est un catalogue présentant les outils et notions pratiques à connaître pour comprendre et écrire de premiers programmes en Python."
   ]
  },
  {
   "cell_type": "markdown",
   "id": "2b87600a",
   "metadata": {},
   "source": [
    "### Types de valeurs <a name=types></a>\n",
    "\n",
    "Toutes les valeurs en Python possèdent un **type**. Le type d'une valeur définit les **opérations** possibles.\n",
    "Les types de base sont :\n",
    "\n",
    "* les nombres entiers (`int`) ou décimaux (`float`)\n",
    "* les booléens (`bool`)\n",
    "* les chaines de caractères (`str`)\n",
    "* un type de valeur indéfinie (`NoneType`)"
   ]
  },
  {
   "cell_type": "markdown",
   "id": "f581b582",
   "metadata": {},
   "source": [
    "#### Nombres entiers (`int`)"
   ]
  },
  {
   "cell_type": "code",
   "execution_count": 1,
   "id": "ec6e0c10",
   "metadata": {
    "scrolled": true,
    "slideshow": {
     "slide_type": "-"
    }
   },
   "outputs": [
    {
     "data": {
      "text/plain": [
       "6"
      ]
     },
     "execution_count": 1,
     "metadata": {},
     "output_type": "execute_result"
    }
   ],
   "source": [
    "6"
   ]
  },
  {
   "cell_type": "code",
   "execution_count": 2,
   "id": "313dc074",
   "metadata": {
    "slideshow": {
     "slide_type": "subslide"
    }
   },
   "outputs": [
    {
     "data": {
      "text/plain": [
       "12345"
      ]
     },
     "execution_count": 2,
     "metadata": {},
     "output_type": "execute_result"
    }
   ],
   "source": [
    "12345"
   ]
  },
  {
   "cell_type": "code",
   "execution_count": 3,
   "id": "e66f11e5",
   "metadata": {
    "slideshow": {
     "slide_type": "subslide"
    }
   },
   "outputs": [
    {
     "data": {
      "text/plain": [
       "-4"
      ]
     },
     "execution_count": 3,
     "metadata": {},
     "output_type": "execute_result"
    }
   ],
   "source": [
    "-4  # un entier négatif"
   ]
  },
  {
   "cell_type": "code",
   "execution_count": 4,
   "id": "423b5c00",
   "metadata": {
    "slideshow": {
     "slide_type": "subslide"
    }
   },
   "outputs": [
    {
     "data": {
      "text/plain": [
       "10715086071862673209484250490600018105614048117055336074437503883703510511249361224931983788156958581275946729175531468251871452856923140435984577574698574803934567774824230985421074605062371141877954182153046474983581941267398767559165543946077062914571196477686542167660429831652624386837205668069376"
      ]
     },
     "execution_count": 4,
     "metadata": {},
     "output_type": "execute_result"
    }
   ],
   "source": [
    "2 ** 1000  # un très très grand entier"
   ]
  },
  {
   "cell_type": "code",
   "execution_count": 5,
   "id": "f3d54528",
   "metadata": {
    "slideshow": {
     "slide_type": "subslide"
    }
   },
   "outputs": [
    {
     "data": {
      "text/plain": [
       "42"
      ]
     },
     "execution_count": 5,
     "metadata": {},
     "output_type": "execute_result"
    }
   ],
   "source": [
    "0b101010  # un entier en binaire"
   ]
  },
  {
   "cell_type": "code",
   "execution_count": 6,
   "id": "93dcb1e0",
   "metadata": {
    "slideshow": {
     "slide_type": "subslide"
    }
   },
   "outputs": [
    {
     "data": {
      "text/plain": [
       "42"
      ]
     },
     "execution_count": 6,
     "metadata": {},
     "output_type": "execute_result"
    }
   ],
   "source": [
    "0x2a  # un entier en hexadécimal"
   ]
  },
  {
   "cell_type": "markdown",
   "id": "571c83f3",
   "metadata": {
    "slideshow": {
     "slide_type": "slide"
    }
   },
   "source": [
    "#### Nombres décimaux (`float`)"
   ]
  },
  {
   "cell_type": "code",
   "execution_count": 7,
   "id": "0925b21d",
   "metadata": {
    "slideshow": {
     "slide_type": "-"
    }
   },
   "outputs": [
    {
     "data": {
      "text/plain": [
       "3.14"
      ]
     },
     "execution_count": 7,
     "metadata": {},
     "output_type": "execute_result"
    }
   ],
   "source": [
    "3.14"
   ]
  },
  {
   "cell_type": "code",
   "execution_count": 8,
   "id": "ffa1e384",
   "metadata": {
    "slideshow": {
     "slide_type": "subslide"
    }
   },
   "outputs": [
    {
     "data": {
      "text/plain": [
       "-1.5"
      ]
     },
     "execution_count": 8,
     "metadata": {},
     "output_type": "execute_result"
    }
   ],
   "source": [
    "-1.5"
   ]
  },
  {
   "cell_type": "code",
   "execution_count": 9,
   "id": "1e1de493",
   "metadata": {
    "slideshow": {
     "slide_type": "subslide"
    }
   },
   "outputs": [
    {
     "data": {
      "text/plain": [
       "0.30000000000000004"
      ]
     },
     "execution_count": 9,
     "metadata": {},
     "output_type": "execute_result"
    }
   ],
   "source": [
    "3 * .1  # un nombre décimal qui ne \"tombe pas juste\""
   ]
  },
  {
   "cell_type": "code",
   "execution_count": 10,
   "id": "2e5e2dcd",
   "metadata": {
    "slideshow": {
     "slide_type": "subslide"
    }
   },
   "outputs": [
    {
     "data": {
      "text/plain": [
       "12.0"
      ]
     },
     "execution_count": 10,
     "metadata": {},
     "output_type": "execute_result"
    }
   ],
   "source": [
    "12."
   ]
  },
  {
   "cell_type": "code",
   "execution_count": 11,
   "id": "1a025f74",
   "metadata": {
    "slideshow": {
     "slide_type": "subslide"
    }
   },
   "outputs": [
    {
     "data": {
      "text/plain": [
       "4560.0"
      ]
     },
     "execution_count": 11,
     "metadata": {},
     "output_type": "execute_result"
    }
   ],
   "source": [
    "4.56e3  # notation scientifique"
   ]
  },
  {
   "cell_type": "markdown",
   "id": "2ec0cb6d",
   "metadata": {
    "slideshow": {
     "slide_type": "slide"
    }
   },
   "source": [
    "#### Booléens (`bool`)\n",
    "\n",
    "Ce type permet de représenter les deux valeurs de vérité « vrai » et « faux ». "
   ]
  },
  {
   "cell_type": "code",
   "execution_count": 12,
   "id": "3bd03444",
   "metadata": {
    "slideshow": {
     "slide_type": "-"
    }
   },
   "outputs": [
    {
     "data": {
      "text/plain": [
       "True"
      ]
     },
     "execution_count": 12,
     "metadata": {},
     "output_type": "execute_result"
    }
   ],
   "source": [
    "True  # vrai"
   ]
  },
  {
   "cell_type": "code",
   "execution_count": 13,
   "id": "64ccfca6",
   "metadata": {
    "slideshow": {
     "slide_type": "-"
    }
   },
   "outputs": [
    {
     "data": {
      "text/plain": [
       "False"
      ]
     },
     "execution_count": 13,
     "metadata": {},
     "output_type": "execute_result"
    }
   ],
   "source": [
    "False  # faux"
   ]
  },
  {
   "cell_type": "markdown",
   "id": "c70fcdb3",
   "metadata": {
    "slideshow": {
     "slide_type": "subslide"
    }
   },
   "source": [
    "<img src='img/warning.png' width='50px' style='display:inline'> **Attention :** Les majuscules/minuscules sont importantes :"
   ]
  },
  {
   "cell_type": "code",
   "execution_count": 14,
   "id": "10745e97",
   "metadata": {
    "slideshow": {
     "slide_type": "-"
    }
   },
   "outputs": [
    {
     "ename": "NameError",
     "evalue": "name 'true' is not defined",
     "output_type": "error",
     "traceback": [
      "\u001b[0;31m---------------------------------------------------------------------------\u001b[0m",
      "\u001b[0;31mNameError\u001b[0m                                 Traceback (most recent call last)",
      "Cell \u001b[0;32mIn[14], line 1\u001b[0m\n\u001b[0;32m----> 1\u001b[0m \u001b[43mtrue\u001b[49m  \u001b[38;5;66;03m# provoque une exception (une erreur)\u001b[39;00m\n",
      "\u001b[0;31mNameError\u001b[0m: name 'true' is not defined"
     ]
    }
   ],
   "source": [
    "true  # provoque une exception (une erreur)"
   ]
  },
  {
   "cell_type": "markdown",
   "id": "1399cb09",
   "metadata": {
    "slideshow": {
     "slide_type": "slide"
    }
   },
   "source": [
    "#### Chaînes de caractères (`str`)\n",
    "\n",
    "Une chaine de caractères est une succession de symboles (lettres, chiffres, ou autres) entre guillemet"
   ]
  },
  {
   "cell_type": "code",
   "execution_count": null,
   "id": "f6759605",
   "metadata": {
    "slideshow": {
     "slide_type": "subslide"
    }
   },
   "outputs": [],
   "source": [
    "'bonjour'  # guillemets simples"
   ]
  },
  {
   "cell_type": "code",
   "execution_count": null,
   "id": "c8ba7dc7",
   "metadata": {
    "slideshow": {
     "slide_type": "subslide"
    }
   },
   "outputs": [],
   "source": [
    "\"hello !\"  # guillemets doubles"
   ]
  },
  {
   "cell_type": "code",
   "execution_count": null,
   "id": "e759c74c",
   "metadata": {
    "slideshow": {
     "slide_type": "subslide"
    }
   },
   "outputs": [],
   "source": [
    "\"மனிதப் பிறவியினர் சகலரும் சுதந்திரமாகவே பிறக்கின்றனர்.\"  # caractères non-latins"
   ]
  },
  {
   "cell_type": "code",
   "execution_count": null,
   "id": "9e3b031e",
   "metadata": {
    "slideshow": {
     "slide_type": "subslide"
    }
   },
   "outputs": [],
   "source": [
    "# Chaînes longues\n",
    "\"\"\"Ce plat est supposé être dégusté au petit-déjeuner \n",
    "mais convient aussi comme dessert. Les pancakes sont \n",
    "traditionnellement accommodés avec du sirop d'érable \n",
    "et une noix de beurre mais rien n'empêche de les \n",
    "dévorer au sucre, au jus de citron ou avec de la pâte \n",
    "à tartiner.\"\"\""
   ]
  },
  {
   "cell_type": "markdown",
   "id": "1333d384",
   "metadata": {
    "slideshow": {
     "slide_type": "subslide"
    }
   },
   "source": [
    "Il faut faire un peu attention pour écrire une chaîne de caractères contenant des apostrophes ou des guillemets :"
   ]
  },
  {
   "cell_type": "code",
   "execution_count": null,
   "id": "86a739c4",
   "metadata": {
    "slideshow": {
     "slide_type": "-"
    }
   },
   "outputs": [],
   "source": [
    "\"King's Landing\""
   ]
  },
  {
   "cell_type": "code",
   "execution_count": null,
   "id": "1e7b2c1d",
   "metadata": {
    "slideshow": {
     "slide_type": "-"
    }
   },
   "outputs": [],
   "source": [
    "'Mon nom est \"Personne\".'"
   ]
  },
  {
   "cell_type": "markdown",
   "id": "968d3ffe",
   "metadata": {
    "slideshow": {
     "slide_type": "subslide"
    }
   },
   "source": [
    "Caractères spéciaux : `\\n, \\t, \\', \\\", \\\\`"
   ]
  },
  {
   "cell_type": "code",
   "execution_count": null,
   "id": "6bb8b0a3",
   "metadata": {
    "slideshow": {
     "slide_type": "-"
    }
   },
   "outputs": [],
   "source": [
    "\"sauts\\nde\\nligne\""
   ]
  },
  {
   "cell_type": "code",
   "execution_count": null,
   "id": "abb09ebb",
   "metadata": {
    "slideshow": {
     "slide_type": "-"
    }
   },
   "outputs": [],
   "source": [
    "print(\"sauts\\nde\\nligne\")"
   ]
  },
  {
   "cell_type": "code",
   "execution_count": null,
   "id": "659d3b76",
   "metadata": {
    "slideshow": {
     "slide_type": "subslide"
    }
   },
   "outputs": [],
   "source": [
    "# tabulation, touche ⇥\n",
    "print(\"Du\\tsur\\ntexte\\t2 colonnes\")"
   ]
  },
  {
   "cell_type": "code",
   "execution_count": null,
   "id": "41e84ee0",
   "metadata": {
    "slideshow": {
     "slide_type": "subslide"
    }
   },
   "outputs": [],
   "source": [
    "print(\"D'autres symboles spéciaux : \\' \\\" \\\\\")"
   ]
  },
  {
   "cell_type": "markdown",
   "id": "2dfcdc0e",
   "metadata": {
    "slideshow": {
     "slide_type": "slide"
    }
   },
   "source": [
    "#### Valeur indéfinie (`NoneType`)"
   ]
  },
  {
   "cell_type": "code",
   "execution_count": null,
   "id": "8b786be0",
   "metadata": {
    "slideshow": {
     "slide_type": "-"
    }
   },
   "outputs": [],
   "source": [
    "None  # ça a l'air inutile mais en fait c'est bien pratique"
   ]
  },
  {
   "cell_type": "markdown",
   "id": "1d33f553",
   "metadata": {
    "slideshow": {
     "slide_type": "slide"
    }
   },
   "source": [
    "(<a href=\"#nav\"> vers la navigation </a>)\n",
    "\n",
    "### Opérations <a name=\"opératoins\"></a>\n",
    "\n",
    "Le type d'un objet détermine les **opérations** qu'on peut lui appliquer. \n",
    "\n",
    "C'est un principe *très important* en Python.\n",
    "\n",
    "#### Opérations sur les nombres\n",
    "\n",
    "Addition (`a + b`), soustraction (`a - b`), multiplication (`a * b`), puissance (`a ** b`)\n",
    "- sur deux `int` et produisant un `int`\n",
    "- ou sur deux `float` et produisant un `float`\n",
    "- ou sur un `int` et un `float` et produisant un `float`"
   ]
  },
  {
   "cell_type": "code",
   "execution_count": null,
   "id": "1b06f599",
   "metadata": {
    "slideshow": {
     "slide_type": "subslide"
    }
   },
   "outputs": [],
   "source": [
    "4 + 5"
   ]
  },
  {
   "cell_type": "code",
   "execution_count": null,
   "id": "e5550360",
   "metadata": {
    "slideshow": {
     "slide_type": "subslide"
    }
   },
   "outputs": [],
   "source": [
    "4 - 5.5"
   ]
  },
  {
   "cell_type": "code",
   "execution_count": null,
   "id": "9e43c3e1",
   "metadata": {
    "slideshow": {
     "slide_type": "subslide"
    }
   },
   "outputs": [],
   "source": [
    "4. * 5."
   ]
  },
  {
   "cell_type": "code",
   "execution_count": null,
   "id": "1e45c289",
   "metadata": {
    "slideshow": {
     "slide_type": "subslide"
    }
   },
   "outputs": [],
   "source": [
    "4 ** 2"
   ]
  },
  {
   "cell_type": "code",
   "execution_count": null,
   "id": "ddbbe273",
   "metadata": {
    "slideshow": {
     "slide_type": "subslide"
    }
   },
   "outputs": [],
   "source": [
    "4 ** 0.5"
   ]
  },
  {
   "cell_type": "markdown",
   "id": "bad1f5a1",
   "metadata": {
    "slideshow": {
     "slide_type": "subslide"
    }
   },
   "source": [
    "Division \"réelle\" (`a / b`) : produit toujours un `float`"
   ]
  },
  {
   "cell_type": "code",
   "execution_count": null,
   "id": "fe048407",
   "metadata": {
    "slideshow": {
     "slide_type": "-"
    }
   },
   "outputs": [],
   "source": [
    "1 / 3  # valeur approchée !"
   ]
  },
  {
   "cell_type": "code",
   "execution_count": null,
   "id": "235557fc",
   "metadata": {
    "slideshow": {
     "slide_type": "-"
    }
   },
   "outputs": [],
   "source": [
    "4 / 2  # ne donne pas un entier !"
   ]
  },
  {
   "cell_type": "markdown",
   "id": "532cb663",
   "metadata": {
    "slideshow": {
     "slide_type": "subslide"
    }
   },
   "source": [
    "Division euclidienne :\n",
    "- **quotient** : `a // b`\n",
    "- **reste**, ou **modulo** : `a % b`\n",
    "- les deux en même temps : `divmod(a, b)`\n",
    "- si `a` et `b` de type `int`, produisent un `int`, sinon un `float`"
   ]
  },
  {
   "cell_type": "code",
   "execution_count": null,
   "id": "8092b2de",
   "metadata": {
    "slideshow": {
     "slide_type": "subslide"
    }
   },
   "outputs": [],
   "source": [
    "7 // 2"
   ]
  },
  {
   "cell_type": "code",
   "execution_count": null,
   "id": "507ae5f6",
   "metadata": {
    "slideshow": {
     "slide_type": "-"
    }
   },
   "outputs": [],
   "source": [
    "7 % 2"
   ]
  },
  {
   "cell_type": "code",
   "execution_count": null,
   "id": "328a8b0a",
   "metadata": {
    "slideshow": {
     "slide_type": "-"
    }
   },
   "outputs": [],
   "source": [
    "divmod(7, 2)"
   ]
  },
  {
   "cell_type": "code",
   "execution_count": null,
   "id": "11c6eb5a",
   "metadata": {
    "slideshow": {
     "slide_type": "subslide"
    }
   },
   "outputs": [],
   "source": [
    "4 // 2  # cette fois c'est un entier..."
   ]
  },
  {
   "cell_type": "code",
   "execution_count": null,
   "id": "714d12e5",
   "metadata": {
    "slideshow": {
     "slide_type": "-"
    }
   },
   "outputs": [],
   "source": [
    "4 % 2  # le reste est nul car 4 est pair (divisible par 2)"
   ]
  },
  {
   "cell_type": "code",
   "execution_count": null,
   "id": "98cfb95e",
   "metadata": {
    "slideshow": {
     "slide_type": "subslide"
    }
   },
   "outputs": [],
   "source": [
    "4.0 // 1.75  # donne un float !"
   ]
  },
  {
   "cell_type": "code",
   "execution_count": null,
   "id": "96a696dd",
   "metadata": {
    "slideshow": {
     "slide_type": "-"
    }
   },
   "outputs": [],
   "source": [
    "4.0 % 1.75"
   ]
  },
  {
   "cell_type": "markdown",
   "id": "189c1aa5",
   "metadata": {
    "slideshow": {
     "slide_type": "subslide"
    }
   },
   "source": [
    "Les opérations suivent les règles de priorité usuelles :"
   ]
  },
  {
   "cell_type": "code",
   "execution_count": null,
   "id": "36748c73",
   "metadata": {
    "slideshow": {
     "slide_type": "-"
    }
   },
   "outputs": [],
   "source": [
    "4 + 2 * 1.5"
   ]
  },
  {
   "cell_type": "markdown",
   "id": "e5abb829",
   "metadata": {
    "slideshow": {
     "slide_type": "subslide"
    }
   },
   "source": [
    "On peut aussi utiliser des parenthèses : "
   ]
  },
  {
   "cell_type": "code",
   "execution_count": null,
   "id": "08c737fd",
   "metadata": {
    "slideshow": {
     "slide_type": "-"
    }
   },
   "outputs": [],
   "source": [
    "(4 + 2) * 1.5"
   ]
  },
  {
   "cell_type": "markdown",
   "id": "85341ab0",
   "metadata": {
    "slideshow": {
     "slide_type": "subslide"
    }
   },
   "source": [
    "#### Opérations sur les chaînes de caractères\n",
    "\n",
    "Concaténation : `s + t`"
   ]
  },
  {
   "cell_type": "code",
   "execution_count": null,
   "id": "0a4c724a",
   "metadata": {
    "slideshow": {
     "slide_type": "-"
    }
   },
   "outputs": [],
   "source": [
    "'Gustave' + 'Eiffel'"
   ]
  },
  {
   "cell_type": "code",
   "execution_count": null,
   "id": "f16f7e1a",
   "metadata": {
    "slideshow": {
     "slide_type": "-"
    }
   },
   "outputs": [],
   "source": [
    "'Gustave' + ' ' + 'Eiffel'"
   ]
  },
  {
   "cell_type": "markdown",
   "id": "98d1e627",
   "metadata": {
    "slideshow": {
     "slide_type": "subslide"
    }
   },
   "source": [
    "Répétition : `s * a` "
   ]
  },
  {
   "cell_type": "code",
   "execution_count": null,
   "id": "a6775410",
   "metadata": {
    "slideshow": {
     "slide_type": "-"
    }
   },
   "outputs": [],
   "source": [
    "'Hip ' * 3 + 'Hourra !'"
   ]
  },
  {
   "cell_type": "code",
   "execution_count": null,
   "id": "0babe331",
   "metadata": {
    "slideshow": {
     "slide_type": "-"
    }
   },
   "outputs": [],
   "source": [
    "('Hip ' * 3 + 'Hourra ! ') * 2"
   ]
  },
  {
   "cell_type": "markdown",
   "id": "20f1d17d",
   "metadata": {
    "slideshow": {
     "slide_type": "subslide"
    }
   },
   "source": [
    "Beaucoup d'autres opérations (sur les chaînes, les nombres...) : *on verra ça plus tard*\n",
    "\n",
    "<img src='img/warning.png' width='50px' style='display:inline'> Le sens de `*` et `+` n'est pas le même sur les chaînes et sur les nombres !"
   ]
  },
  {
   "cell_type": "markdown",
   "id": "9c700d8a",
   "metadata": {
    "slideshow": {
     "slide_type": "slide"
    }
   },
   "source": [
    "### Conversions / transformations de type\n",
    "\n",
    "On a parfois besoin de convertir une valeur d'un type à l'autre"
   ]
  },
  {
   "cell_type": "markdown",
   "id": "081eceed",
   "metadata": {
    "slideshow": {
     "slide_type": "subslide"
    }
   },
   "source": [
    "- N'importe quel objet en chaîne avec la fonction `str`"
   ]
  },
  {
   "cell_type": "code",
   "execution_count": null,
   "id": "351906ab",
   "metadata": {
    "slideshow": {
     "slide_type": "-"
    }
   },
   "outputs": [],
   "source": [
    "\"J'ai \" + 10 + ' ans.'"
   ]
  },
  {
   "cell_type": "code",
   "execution_count": null,
   "id": "330a2999",
   "metadata": {
    "slideshow": {
     "slide_type": "-"
    }
   },
   "outputs": [],
   "source": [
    "\"J'ai \" + str(10) + ' ans.'"
   ]
  },
  {
   "cell_type": "markdown",
   "id": "e7032152",
   "metadata": {
    "slideshow": {
     "slide_type": "subslide"
    }
   },
   "source": [
    "-   Un `float`, ou *parfois* un `str` en `int`  "
   ]
  },
  {
   "cell_type": "code",
   "execution_count": null,
   "id": "7deecb24",
   "metadata": {
    "slideshow": {
     "slide_type": "-"
    }
   },
   "outputs": [],
   "source": [
    "int(3.5)  # float vers int"
   ]
  },
  {
   "cell_type": "code",
   "execution_count": null,
   "id": "cefcefaa",
   "metadata": {
    "slideshow": {
     "slide_type": "-"
    }
   },
   "outputs": [],
   "source": [
    "int('14')  # str vers int"
   ]
  },
  {
   "cell_type": "code",
   "execution_count": null,
   "id": "eb76737f",
   "metadata": {
    "slideshow": {
     "slide_type": "subslide"
    }
   },
   "outputs": [],
   "source": [
    "int('3.5')  # impossible : deux conversions (str -> float -> int)"
   ]
  },
  {
   "cell_type": "code",
   "execution_count": null,
   "id": "bffe997f",
   "metadata": {
    "slideshow": {
     "slide_type": "-"
    }
   },
   "outputs": [],
   "source": [
    "int('deux')  # impossible : ne représente pas un nombre"
   ]
  },
  {
   "cell_type": "markdown",
   "id": "5b11a37f",
   "metadata": {
    "slideshow": {
     "slide_type": "subslide"
    }
   },
   "source": [
    "-   Un `int`, ou *parfois* un `str` en `float`"
   ]
  },
  {
   "cell_type": "code",
   "execution_count": null,
   "id": "f284216f",
   "metadata": {
    "slideshow": {
     "slide_type": "-"
    }
   },
   "outputs": [],
   "source": [
    "float(3)  # int vers float"
   ]
  },
  {
   "cell_type": "code",
   "execution_count": null,
   "id": "f41223df",
   "metadata": {
    "slideshow": {
     "slide_type": "-"
    }
   },
   "outputs": [],
   "source": [
    "float('14.2')  # str vers float"
   ]
  },
  {
   "cell_type": "code",
   "execution_count": null,
   "id": "0faf63b0",
   "metadata": {
    "slideshow": {
     "slide_type": "subslide"
    }
   },
   "outputs": [],
   "source": [
    "float('3,5')  # impossible : virgule au lieu de point"
   ]
  },
  {
   "cell_type": "code",
   "execution_count": null,
   "id": "cf684f14",
   "metadata": {
    "slideshow": {
     "slide_type": "-"
    }
   },
   "outputs": [],
   "source": [
    "float('bonjour')  # impossible : ne représente pas un nombre"
   ]
  },
  {
   "cell_type": "markdown",
   "id": "9ed77cbd",
   "metadata": {
    "slideshow": {
     "slide_type": "slide"
    }
   },
   "source": [
    "### Déterminer le type d'une expression\n",
    "\n",
    "Grâce à la fonction prédéfinie `type`"
   ]
  },
  {
   "cell_type": "code",
   "execution_count": null,
   "id": "2fbc7b30",
   "metadata": {
    "slideshow": {
     "slide_type": "-"
    }
   },
   "outputs": [],
   "source": [
    "type(\"salut\")"
   ]
  },
  {
   "cell_type": "code",
   "execution_count": null,
   "id": "5f2dc419",
   "metadata": {
    "slideshow": {
     "slide_type": "-"
    }
   },
   "outputs": [],
   "source": [
    "type(4 / 2)"
   ]
  },
  {
   "cell_type": "code",
   "execution_count": null,
   "id": "c9318688",
   "metadata": {
    "slideshow": {
     "slide_type": "-"
    }
   },
   "outputs": [],
   "source": [
    "type(2 * 4.8)"
   ]
  },
  {
   "cell_type": "markdown",
   "id": "36aa23f1",
   "metadata": {
    "slideshow": {
     "slide_type": "slide"
    }
   },
   "source": [
    "#### Exercice : valeur et type d'une opération\n",
    "\n",
    "Pour chacune des instructions suivantes :\n",
    "1. donner le type et le résultat de l'expression donnée ;\n",
    "2. vérifier le résultat.\n",
    "\n",
    "On pourra utiliser la fonction `type` si nécessaire pour vérifier le type du résultat."
   ]
  },
  {
   "cell_type": "code",
   "execution_count": null,
   "id": "ab2e4c6c",
   "metadata": {
    "slideshow": {
     "slide_type": "subslide"
    }
   },
   "outputs": [],
   "source": [
    "2 * 5"
   ]
  },
  {
   "cell_type": "code",
   "execution_count": null,
   "id": "ad05c65c",
   "metadata": {
    "slideshow": {
     "slide_type": "subslide"
    }
   },
   "outputs": [],
   "source": [
    "2 + 1.5"
   ]
  },
  {
   "cell_type": "code",
   "execution_count": null,
   "id": "9a07a095",
   "metadata": {
    "slideshow": {
     "slide_type": "subslide"
    }
   },
   "outputs": [],
   "source": [
    "2.0 * 4"
   ]
  },
  {
   "cell_type": "code",
   "execution_count": null,
   "id": "05a43c1e",
   "metadata": {
    "slideshow": {
     "slide_type": "subslide"
    }
   },
   "outputs": [],
   "source": [
    "'2.0' * 4"
   ]
  },
  {
   "cell_type": "code",
   "execution_count": null,
   "id": "6a6ccaf2",
   "metadata": {
    "slideshow": {
     "slide_type": "subslide"
    }
   },
   "outputs": [],
   "source": [
    "'2.0' * 4.0"
   ]
  },
  {
   "cell_type": "code",
   "execution_count": null,
   "id": "807c820f",
   "metadata": {
    "slideshow": {
     "slide_type": "subslide"
    }
   },
   "outputs": [],
   "source": [
    "4 / 2"
   ]
  },
  {
   "cell_type": "code",
   "execution_count": null,
   "id": "d76bf860",
   "metadata": {
    "slideshow": {
     "slide_type": "subslide"
    }
   },
   "outputs": [],
   "source": [
    "4.0 / 2"
   ]
  },
  {
   "cell_type": "code",
   "execution_count": null,
   "id": "fa0dd8cd",
   "metadata": {
    "slideshow": {
     "slide_type": "subslide"
    }
   },
   "outputs": [],
   "source": [
    "5 / 2"
   ]
  },
  {
   "cell_type": "code",
   "execution_count": null,
   "id": "7ebf7cc3",
   "metadata": {
    "slideshow": {
     "slide_type": "subslide"
    }
   },
   "outputs": [],
   "source": [
    "5 % 2"
   ]
  },
  {
   "cell_type": "code",
   "execution_count": null,
   "id": "71e11124",
   "metadata": {
    "slideshow": {
     "slide_type": "subslide"
    }
   },
   "outputs": [],
   "source": [
    "5 // 2"
   ]
  },
  {
   "cell_type": "code",
   "execution_count": null,
   "id": "f8b9e8aa",
   "metadata": {
    "slideshow": {
     "slide_type": "subslide"
    }
   },
   "outputs": [],
   "source": [
    "int(4.0) / 2"
   ]
  },
  {
   "cell_type": "code",
   "execution_count": null,
   "id": "87c7fc5f",
   "metadata": {
    "slideshow": {
     "slide_type": "subslide"
    }
   },
   "outputs": [],
   "source": [
    "str(4) / 2"
   ]
  },
  {
   "cell_type": "code",
   "execution_count": null,
   "id": "1968e31d",
   "metadata": {
    "slideshow": {
     "slide_type": "subslide"
    }
   },
   "outputs": [],
   "source": [
    "'toto' + str(4)"
   ]
  },
  {
   "cell_type": "code",
   "execution_count": null,
   "id": "9f3c86f5",
   "metadata": {
    "slideshow": {
     "slide_type": "subslide"
    }
   },
   "outputs": [],
   "source": [
    "float(4) * 2"
   ]
  },
  {
   "cell_type": "code",
   "execution_count": null,
   "id": "14986fbf",
   "metadata": {
    "slideshow": {
     "slide_type": "subslide"
    }
   },
   "outputs": [],
   "source": [
    "int(str(4) * 2)"
   ]
  },
  {
   "cell_type": "code",
   "execution_count": null,
   "id": "d8542f20",
   "metadata": {
    "slideshow": {
     "slide_type": "subslide"
    }
   },
   "outputs": [],
   "source": [
    "'toto' + 'titi'"
   ]
  },
  {
   "cell_type": "code",
   "execution_count": null,
   "id": "d7c28a0b",
   "metadata": {
    "slideshow": {
     "slide_type": "subslide"
    }
   },
   "outputs": [],
   "source": [
    "int('toto') + 'titi'"
   ]
  },
  {
   "cell_type": "code",
   "execution_count": null,
   "id": "41d3938a",
   "metadata": {
    "slideshow": {
     "slide_type": "subslide"
    }
   },
   "outputs": [],
   "source": [
    "int(2.0) * 4"
   ]
  },
  {
   "cell_type": "code",
   "execution_count": null,
   "id": "a9564b59",
   "metadata": {
    "slideshow": {
     "slide_type": "subslide"
    }
   },
   "outputs": [],
   "source": [
    "'toto' * str(4)"
   ]
  },
  {
   "cell_type": "code",
   "execution_count": null,
   "id": "1c070029",
   "metadata": {
    "slideshow": {
     "slide_type": "subslide"
    }
   },
   "outputs": [],
   "source": [
    "int('1.25')"
   ]
  },
  {
   "cell_type": "markdown",
   "id": "679c9657",
   "metadata": {
    "slideshow": {
     "slide_type": "slide"
    }
   },
   "source": [
    "(<a href=\"#nav\"> vers la navigation </a>)\n",
    "\n",
    "### Variables et affectations <a name=\"variables\"></a>\n",
    "\n",
    "Une **variable** est un *nom* servant à désigner une valeur\n",
    "- Une variable est remplacée par sa valeur dans les calculs\n",
    "- Seules les opérations du type de la valeur sont permises"
   ]
  },
  {
   "cell_type": "markdown",
   "id": "9b83985c",
   "metadata": {
    "slideshow": {
     "slide_type": "subslide"
    }
   },
   "source": [
    "L'**affectation** est le fait de lier une *valeur* à une *variable*\n",
    "-   Syntaxe : `nom =` *une expression*  \n",
    "    <img src='img/warning.png' width=50px style='display:inline'> **Attention :** Ce n'est pas *du tout* le = des mathématiques, il faut le lire comme \"prend la valeur\""
   ]
  },
  {
   "cell_type": "code",
   "execution_count": null,
   "id": "d78bcb2f",
   "metadata": {
    "slideshow": {
     "slide_type": "subslide"
    }
   },
   "outputs": [],
   "source": [
    "x = 3\n",
    "y ='UGE'\n",
    "z = x + 2\n",
    "x, y, z"
   ]
  },
  {
   "cell_type": "markdown",
   "id": "b3e88bf8",
   "metadata": {
    "slideshow": {
     "slide_type": "subslide"
    }
   },
   "source": [
    "-   On peut *réaffecter* une variable (même avec une valeur d'un type différent)  "
   ]
  },
  {
   "cell_type": "code",
   "execution_count": null,
   "id": "ba64bf7d",
   "metadata": {},
   "outputs": [],
   "source": [
    "x"
   ]
  },
  {
   "cell_type": "code",
   "execution_count": null,
   "id": "179dde14",
   "metadata": {},
   "outputs": [],
   "source": [
    "x = 'UGE'"
   ]
  },
  {
   "cell_type": "code",
   "execution_count": null,
   "id": "6c768497",
   "metadata": {},
   "outputs": [],
   "source": [
    "x"
   ]
  },
  {
   "cell_type": "markdown",
   "id": "c6138710",
   "metadata": {
    "slideshow": {
     "slide_type": "subslide"
    }
   },
   "source": [
    "-   On ne peut utiliser une variable que si elle a été préalablement définie !"
   ]
  },
  {
   "cell_type": "code",
   "execution_count": null,
   "id": "0effc4ce",
   "metadata": {},
   "outputs": [],
   "source": [
    "foo"
   ]
  },
  {
   "cell_type": "markdown",
   "id": "ce13976c",
   "metadata": {
    "slideshow": {
     "slide_type": "slide"
    }
   },
   "source": [
    "(<a href=\"#nav\"> vers la navigation </a>)\n",
    "\n",
    "### Modèle de mémoire de Python <a name=\"mémoire\"></a>\n",
    "\n",
    "*Modèle de mémoire : une image simplifiée de la manière dont fonctionne la mémoire de l'interpréteur Python*\n",
    "\n",
    "Deux zones principales :\n",
    "- la zone des données (le « tas », en anglais *heap*)\n",
    "- la zone des espaces de noms (la « pile », en anglais *stack*)\n",
    "\n",
    "Dans Python Tutor : pile à gauche, tas à droite\n",
    "\n",
    "##### Le tas\n",
    "\n",
    "Le tas est comme un *très* gros cahier dans lequel sont décrits les objets manipulés par un programme\n",
    "- Chaque objet décrit dans le cahier commence à un certain numéro de page, qu'on appelle son *adresse*\n",
    "- Certaines pages sont blanches, d'autres sont remplies\n",
    "\n",
    "##### La pile\n",
    "\n",
    "La pile est comme l'index du cahier\n",
    "\n",
    "- À chaque variable est associé le numéro de page d'un objet\n",
    "- Un groupe de variables et les numéros de page correspondants est appelé **espace de noms**\n",
    "- La pile contient l'espace de noms **global**, contenant les noms définis par nos programmes  \n",
    "  *(en réalité la pile contient aussi d'autres espaces de noms, on en reparlera)*"
   ]
  },
  {
   "cell_type": "code",
   "execution_count": null,
   "id": "1ce14b7a",
   "metadata": {
    "slideshow": {
     "slide_type": "subslide"
    }
   },
   "outputs": [],
   "source": [
    "%%nbtutor -r -f\n",
    "x = 3\n",
    "y ='UGE'\n",
    "z = x + 2"
   ]
  },
  {
   "cell_type": "markdown",
   "id": "ad4a338e",
   "metadata": {
    "slideshow": {
     "slide_type": "slide"
    }
   },
   "source": [
    "#### La notion d'état\n",
    "\n",
    "L'**état** de l'interpréteur pendant l'exécution c'est\n",
    "\n",
    "- le numéro de la ligne suivante à exécuter dans le programme\n",
    "- le contenu de diverses variables internes de l'interpréteur\n",
    "- le contenu de la pile (donc tous les espaces de noms)\n",
    "- le contenu du tas (donc toutes les données du programme)\n",
    "\n",
    "à un moment donné. Les **instructions** modifient généralement l'état."
   ]
  },
  {
   "cell_type": "markdown",
   "id": "3853e9ad",
   "metadata": {
    "slideshow": {
     "slide_type": "slide"
    }
   },
   "source": [
    "#### Étapes d'une affectation \n",
    "\n",
    "##### Affectation simple"
   ]
  },
  {
   "cell_type": "code",
   "execution_count": null,
   "id": "bab457cf",
   "metadata": {
    "slideshow": {
     "slide_type": "-"
    }
   },
   "outputs": [],
   "source": [
    "x = 40 + 2"
   ]
  },
  {
   "cell_type": "markdown",
   "id": "d8b7c5be",
   "metadata": {
    "slideshow": {
     "slide_type": "subslide"
    }
   },
   "source": [
    "1.  Évaluation de l'expression à droite du `=` (ici `42`)\n",
    "\n",
    "    ![affectation1.png](img/affectation1.png)\n",
    "\n",
    "    La valeur `42` de type `int` est stockée dans le tas *(écrite sur une page du cahier)*"
   ]
  },
  {
   "cell_type": "markdown",
   "id": "d6796791",
   "metadata": {
    "slideshow": {
     "slide_type": "subslide"
    }
   },
   "source": [
    "2. Création du nom `x` dans l'espace de noms (sauf s'il existe déjà)\n",
    "   ![affectation2.png](img/affectation2.png)\n",
    "   On ajoute `x` à la pile *(on ajoute une ligne pour `x` à l'index du cahier)*"
   ]
  },
  {
   "cell_type": "markdown",
   "id": "0bf47bc4",
   "metadata": {
    "slideshow": {
     "slide_type": "subslide"
    }
   },
   "source": [
    "3. Création du lien entre *variable* et *valeur*\n",
    "   ![affectation3.png](img/affectation3.png)\n",
    "   L'adresse de l'objet `42` est associée à la variable `x` *(on écrit dans l'index le numéro de la page contenant l'objet `42` à `x`)*"
   ]
  },
  {
   "cell_type": "markdown",
   "id": "3932fb52",
   "metadata": {
    "slideshow": {
     "slide_type": "subslide"
    }
   },
   "source": [
    "##### Deuxième exemple"
   ]
  },
  {
   "cell_type": "code",
   "execution_count": null,
   "id": "baba8568",
   "metadata": {
    "slideshow": {
     "slide_type": "-"
    }
   },
   "outputs": [],
   "source": [
    "y = x"
   ]
  },
  {
   "cell_type": "markdown",
   "id": "ca059c02",
   "metadata": {
    "slideshow": {
     "slide_type": "-"
    }
   },
   "source": [
    "<img src='img/warning.png' width=50px style='display:inline'> Dans cet exemple le `x` en partie droite de l'affectation désigne la **valeur** actuellement associée à la variable `x` !"
   ]
  },
  {
   "cell_type": "markdown",
   "id": "6323910b",
   "metadata": {
    "slideshow": {
     "slide_type": "subslide"
    }
   },
   "source": [
    "1. Calcul du *membre droit* après remplacement de chaque variable par la valeur associée (ici `x` remplacé par `42`)\n",
    "    ![affectation4.png](img/affectation4.png)"
   ]
  },
  {
   "cell_type": "markdown",
   "id": "78d40c8f",
   "metadata": {
    "slideshow": {
     "slide_type": "subslide"
    }
   },
   "source": [
    "2. Création du nom `y` (sauf si déjà créé) \n",
    "    ![affectation5bis.png](img/affectation5_bis.png)"
   ]
  },
  {
   "cell_type": "markdown",
   "id": "b9b91d64",
   "metadata": {
    "slideshow": {
     "slide_type": "subslide"
    }
   },
   "source": [
    "3. Création du lien entre `y` et `42`\n",
    "    ![affectation5.png](img/affectation5.png)"
   ]
  },
  {
   "cell_type": "markdown",
   "id": "926cd4c6",
   "metadata": {
    "slideshow": {
     "slide_type": "subslide"
    }
   },
   "source": [
    "#### Troisième exemple"
   ]
  },
  {
   "cell_type": "code",
   "execution_count": null,
   "id": "a1951dbd",
   "metadata": {
    "slideshow": {
     "slide_type": "-"
    }
   },
   "outputs": [],
   "source": [
    "x = x + 1"
   ]
  },
  {
   "cell_type": "markdown",
   "id": "60246b9b",
   "metadata": {
    "slideshow": {
     "slide_type": "-"
    }
   },
   "source": [
    "<img src='img/warning.png' width=50px style='display:inline'> Dans cet exemple, le `x` de gauche désigne le nom `x` lui-même, mais celui de droite désigne la **valeur** actuellement associée à `x`"
   ]
  },
  {
   "cell_type": "markdown",
   "id": "b8dce47a",
   "metadata": {
    "slideshow": {
     "slide_type": "subslide"
    }
   },
   "source": [
    "1. Calcul du *membre droit* après remplacement de chaque variable par la valeur associée (ici `x` remplacé par `42`, résultat : `43`)\n",
    "    ![affectation6.png](img/affectation6.png)"
   ]
  },
  {
   "cell_type": "markdown",
   "id": "f0f7bb96",
   "metadata": {
    "slideshow": {
     "slide_type": "subslide"
    }
   },
   "source": [
    "2. Nom `x` déjà existant, création du lien entre `x` et 43\n",
    "    ![affectation7.png](img/affectation7.png)"
   ]
  },
  {
   "cell_type": "markdown",
   "id": "16c9ad39",
   "metadata": {
    "slideshow": {
     "slide_type": "subslide"
    }
   },
   "source": [
    "#### <img src='img/warning.png' width=50px style='display:inline'> Piège !\n",
    "\n",
    "Que vaut maintenant `y` ?"
   ]
  },
  {
   "cell_type": "code",
   "execution_count": null,
   "id": "4788ffac",
   "metadata": {
    "slideshow": {
     "slide_type": "fragment"
    }
   },
   "outputs": [],
   "source": [
    "y\n"
   ]
  },
  {
   "cell_type": "markdown",
   "id": "d965a7ad",
   "metadata": {
    "slideshow": {
     "slide_type": "-"
    }
   },
   "source": [
    "Même si `x` et `y` désignaient avant le même objet (la même adresse, le même *numéro de page*), changer la page que désigne `x` n'a aucun effet sur `y` ! On n'a pas *modifié* l'objet 42, qui est toujours là !"
   ]
  },
  {
   "cell_type": "code",
   "execution_count": null,
   "id": "12040c00",
   "metadata": {
    "slideshow": {
     "slide_type": "subslide"
    }
   },
   "outputs": [],
   "source": [
    "%%nbtutor -r -f\n",
    "x = 40 + 2\n",
    "y = x\n",
    "x = x + 1"
   ]
  },
  {
   "cell_type": "markdown",
   "id": "becd7a5b",
   "metadata": {
    "slideshow": {
     "slide_type": "subslide"
    }
   },
   "source": [
    "**Remarque :** L'instruction `x = x + 1` peut aussi s'écrire `x += 1`. On appelle cela une **incrémentation** de `x`."
   ]
  },
  {
   "cell_type": "code",
   "execution_count": null,
   "id": "caab50e6",
   "metadata": {
    "slideshow": {
     "slide_type": "-"
    }
   },
   "outputs": [],
   "source": [
    "x += 1"
   ]
  },
  {
   "cell_type": "markdown",
   "id": "521891e7",
   "metadata": {
    "slideshow": {
     "slide_type": "-"
    }
   },
   "source": [
    "De même, `x *= 2` est une version plus concise de `x = x * 2`."
   ]
  },
  {
   "cell_type": "markdown",
   "id": "09719b62",
   "metadata": {
    "slideshow": {
     "slide_type": "subslide"
    }
   },
   "source": [
    "##### Dernier exemple"
   ]
  },
  {
   "cell_type": "code",
   "execution_count": null,
   "id": "d0800da1",
   "metadata": {
    "slideshow": {
     "slide_type": "-"
    }
   },
   "outputs": [],
   "source": [
    "x = -6.5"
   ]
  },
  {
   "cell_type": "markdown",
   "id": "47e3ad20",
   "metadata": {
    "slideshow": {
     "slide_type": "-"
    }
   },
   "source": [
    "![affectation8.png](img/affectation8.png)"
   ]
  },
  {
   "cell_type": "markdown",
   "id": "fad3b1ea",
   "metadata": {
    "slideshow": {
     "slide_type": "subslide"
    }
   },
   "source": [
    "##### <img src='img/warning.png' width=50px style='display:inline'> Quelques points de détail\n",
    "\n",
    "- On peut réaffecter une valeur de type différent à une variable (comme dans le dernier exemple)\n",
    "- En cas de réaffectation, le lien précédent est oublié\n",
    "- Quand aucun lien n'existe vers un objet, il est \"détruit\" par le ramasse-miettes ou *garbage collector* (la page est effacée !)"
   ]
  },
  {
   "cell_type": "markdown",
   "id": "7715951b",
   "metadata": {
    "slideshow": {
     "slide_type": "subslide"
    }
   },
   "source": [
    "##### Exercice : état de la mémoire après une suite d'affectations\n",
    "\n",
    "Dessiner l'état de la mémoire à l'issue des instructions suivantes :"
   ]
  },
  {
   "cell_type": "code",
   "execution_count": null,
   "id": "4bf6749b",
   "metadata": {},
   "outputs": [],
   "source": [
    "x = 2\n",
    "y = 3\n",
    "x += y\n",
    "y *= 2"
   ]
  },
  {
   "cell_type": "markdown",
   "id": "c5a3a0f0",
   "metadata": {
    "slideshow": {
     "slide_type": "slide"
    }
   },
   "source": [
    "#### Nommage des variables\n",
    "\n",
    "Règles de nommage des variables :\n",
    "\n",
    "- Commencent par une *lettre*, suivie de *lettres et de chiffres*\n",
    "- Le caractère *underscore* `'_'` est considéré comme une lettre\n",
    "- Éviter les caractères spéciaux (accents, cédille, etc.)\n",
    "- Les *mots réservés* (ou mots-clés) de Python sont interdits\n",
    "- Il y a aussi des **conventions** (*vues plus tard*)"
   ]
  },
  {
   "cell_type": "markdown",
   "id": "fc16dda5",
   "metadata": {
    "slideshow": {
     "slide_type": "subslide"
    }
   },
   "source": [
    "*Exemples :*  `_ex2   Ex2mpl1`\n",
    "\n",
    "*Contre-exemple :*  `2024eiffel`"
   ]
  },
  {
   "cell_type": "markdown",
   "id": "823159ca",
   "metadata": {
    "slideshow": {
     "slide_type": "subslide"
    }
   },
   "source": [
    "##### Mots-clés et autres mots réservés\n",
    "\n",
    "Les mots suivants sont **réservés** pour le langage :\n",
    "\n",
    "```python\n",
    "False      await      else       import     pass\n",
    "None       break      except     in         raise\n",
    "True       class      finally    is         return\n",
    "and        continue   for        lambda     try\n",
    "as         def        from       nonlocal   while\n",
    "assert     del        global     not        with\n",
    "async      elif       if         or         yield\n",
    "```\n",
    "\n",
    "https://docs.python.org/fr/3/reference/lexical_analysis.html#keywords"
   ]
  },
  {
   "cell_type": "markdown",
   "id": "3f3baec4",
   "metadata": {
    "slideshow": {
     "slide_type": "subslide"
    }
   },
   "source": [
    "##### Exercice : nommage de variables\n",
    "\n",
    "Indiquer parmi les mots suivants ceux qui ne sont pas des noms valides pour une variable :\n",
    "  \n",
    "```\n",
    "    bonjour                Hi!                  au revoir              oui\n",
    "    Ciao                   NON                  byeBye7                6hello6\n",
    "    abc                    def                  6hello6                _upem_\n",
    "    good_morning           __repr__             good-afternoon         f()\n",
    "```"
   ]
  },
  {
   "cell_type": "markdown",
   "id": "3f5c07be",
   "metadata": {
    "slideshow": {
     "slide_type": "slide"
    }
   },
   "source": [
    "(<a href=\"#nav\"> vers la navigation </a>)\n",
    "\n",
    "### Saisie et affichage <a name=\"input\"></a>\n",
    "\n",
    "Fonction de saisie : `x = input(\"Veuillez rentrer ...\")`\n",
    "  \n",
    "- L'utilisateur tape une ligne au clavier\n",
    "- La ligne est stockée sous forme de chaîne de caractères (`str`)\n",
    "- Cette valeur peut ensuite être affectée à une variable (ici `x`)\n",
    "- Le message d'invite pour l'utilisateur est facultatif\n",
    "\n",
    "https://docs.python.org/fr/3/library/functions.html#input"
   ]
  },
  {
   "cell_type": "code",
   "execution_count": null,
   "id": "0b805902",
   "metadata": {
    "slideshow": {
     "slide_type": "subslide"
    }
   },
   "outputs": [],
   "source": [
    "nb_personnes_ref = 2\n",
    "nb_convives = input(\"Combien de personnes ? \")\n",
    "rapport = nb_convives / nb_personnes_ref"
   ]
  },
  {
   "cell_type": "code",
   "execution_count": null,
   "id": "74b98c85",
   "metadata": {
    "slideshow": {
     "slide_type": "subslide"
    }
   },
   "outputs": [],
   "source": [
    "nb_personnes_ref = 2\n",
    "# on convertit immédiatement le texte saisi en int :\n",
    "nb_convives = int(input(\"Combien de personnes ? \"))\n",
    "rapport = nb_convives / nb_personnes_ref"
   ]
  },
  {
   "cell_type": "markdown",
   "id": "3eb7dc80",
   "metadata": {
    "slideshow": {
     "slide_type": "subslide"
    }
   },
   "source": [
    "Fonction d'affichage : `print(x)`\n",
    "  \n",
    "- Affiche dans le terminal la chaîne de caractères associée à `x`\n",
    "- On peut afficher plusieurs valeurs à la suite : `print(x, y, z, ...)`\n",
    "- Appelle automatiquement la fonction `str` sur chacun de ses arguments\n",
    "- S'il y a plusieurs arguments, insère automatiquement des espaces\n",
    "- Passe automatiquement à la ligne\n",
    "\n",
    "https://docs.python.org/fr/3/library/functions.html#print"
   ]
  },
  {
   "cell_type": "code",
   "execution_count": null,
   "id": "7b3786e7",
   "metadata": {
    "slideshow": {
     "slide_type": "subslide"
    }
   },
   "outputs": [],
   "source": [
    "nb_personnes_ref = 2\n",
    "# on convertit immédiatement le texte saisi en int :\n",
    "nb_convives = int(input(\"Combien de personnes ? \"))\n",
    "rapport = nb_convives / nb_personnes_ref\n",
    "print(\"Je multiplie toutes les quantités par\", rapport)"
   ]
  },
  {
   "cell_type": "markdown",
   "id": "e16ec509",
   "metadata": {
    "slideshow": {
     "slide_type": "subslide"
    }
   },
   "source": [
    "**Remarque :** *Il existe de nombreuses possibilités pour l'affichage de texte, consulter la [documentation officielle](https://docs.python.org/fr/3/tutorial/inputoutput.html) pour plus de détails.*\n",
    "\n",
    "(<a href=\"#nav\"> vers la navigation </a>)"
   ]
  },
  {
   "cell_type": "markdown",
   "id": "dde63f24",
   "metadata": {},
   "source": [
    "## Structures de contrôle <a name=\"structures\"></a>\n",
    "\n",
    "Les programmes et algorithmes les plus simples consistent à exécuter des instructions les unes après les autres, en **séquence**. C'est néanmoins très vite limité : il arrive fréquemment qu'on ait envie d'agir d'une certaine façon dans un cas et d'une autre dans un autre. Typiquement, on voudrait pouvoir continuer le programme de manière adaptée à une entrée de l'utilisateur. \n",
    "\n",
    "On va donc s'intéresser aux structures dites *conditionnelles*. Ces structures permettent de *\"brancher\"* dans le code en fonction de l'évaluation d'une condition, que l'on exprime sous forme d'**expression booléenne**.\n",
    "\n",
    "Faisons donc d'abord un point sur ce type très important d'expressions :\n",
    "\n",
    "### Expressions booléennes <a name=\"bool\"></a>\n",
    "\n",
    "Les instructions conditionnelles sont écrites à l'aide d'**expressions booléennes**, c'est à dire d'expressions qui s'évaluent en un valeur de type `bool` (`True` ou `False`).\n",
    "\n",
    "Elles peuvent contenir des opérateurs de comparaison, des opérateurs logiques, etc.\n",
    "\n",
    "### Opérateurs de comparaison\n",
    "\n",
    "```python\n",
    "a < b   # a strictement inférieur b\n",
    "a <= b  # a inférieur ou égal à b\n",
    "a >= b  # a supérieur ou égal à b\n",
    "a > b   # a strictement supérieur à b\n",
    "```\n",
    "\n",
    "- `a` et `b` sont des **expressions**\n",
    "- elles doivent s'évaluer en des valeurs **de même type** (sauf exceptions)\n",
    "\n",
    "\n",
    "Les opérateurs de comparaison fonctionnent sur de nombreux types de valeurs\n",
    "- Sur les `int` et `float` : ordre habituel sur les nombres\n",
    "- Sur les `str` : ordre *lexicographique* (dictionnaire)\n",
    "- Sur d'autres types qu'on verra plus tard"
   ]
  },
  {
   "cell_type": "markdown",
   "id": "0ea66527",
   "metadata": {},
   "source": [
    "<img src='img/warning.png' width='50px' style='display:inline'> **Rappel :** on ne peut pas ordonner des valeurs de types différents (sauf des nombres) ! "
   ]
  },
  {
   "cell_type": "markdown",
   "id": "83167950",
   "metadata": {},
   "source": [
    "### Égalité ou inégalité \n",
    "\n",
    "```python\n",
    "a == b  # a égal à b\n",
    "a != b  # a différent de b\n",
    "```\n",
    "\n",
    "- `a` et `b` sont des **expressions**\n",
    "- elles peuvent être de types différents\n",
    "\n",
    "\n",
    "Les opérateurs `==` et `!=` acceptent des opérandes de types différents\n",
    "- renvoie généralement `False` si les opérandes sont de types différents\n",
    "- sauf parfois entre nombres"
   ]
  },
  {
   "cell_type": "markdown",
   "id": "542add60",
   "metadata": {},
   "source": [
    "<img src='img/warning.png' width='50px' style='display:inline'> **Attention !** Ne pas confondre l'opérateur d'égalité (`==`) avec la syntaxe de l'affectation (`=`) !"
   ]
  },
  {
   "cell_type": "code",
   "execution_count": null,
   "id": "27366508",
   "metadata": {
    "slideshow": {
     "slide_type": "subslide"
    }
   },
   "outputs": [],
   "source": [
    "17 % 2 == 1"
   ]
  },
  {
   "cell_type": "code",
   "execution_count": null,
   "id": "20496fcd",
   "metadata": {
    "slideshow": {
     "slide_type": "-"
    }
   },
   "outputs": [],
   "source": [
    "a = -5\n",
    "a != abs(a)"
   ]
  },
  {
   "cell_type": "code",
   "execution_count": null,
   "id": "6a2171ae",
   "metadata": {
    "slideshow": {
     "slide_type": "-"
    }
   },
   "outputs": [],
   "source": [
    "1.0 == 3 - 2  # l'égalité fonctionne aussi avec les float..."
   ]
  },
  {
   "cell_type": "code",
   "execution_count": null,
   "id": "c52fce64",
   "metadata": {
    "slideshow": {
     "slide_type": "-"
    }
   },
   "outputs": [],
   "source": [
    "0.3 == 3 * 0.1  # mais réserve parfois des surprises"
   ]
  },
  {
   "cell_type": "markdown",
   "id": "a49479cf",
   "metadata": {
    "slideshow": {
     "slide_type": "skip"
    }
   },
   "source": [
    "Les opérateurs `==` et `!=` acceptent des opérandes de types différents\n",
    "- renvoie généralement `False` si les opérandes sont de types différents\n",
    "- sauf parfois entre nombres"
   ]
  },
  {
   "cell_type": "code",
   "execution_count": null,
   "id": "eb5c8181",
   "metadata": {
    "slideshow": {
     "slide_type": "skip"
    }
   },
   "outputs": [],
   "source": [
    "2 == '2'"
   ]
  },
  {
   "cell_type": "code",
   "execution_count": null,
   "id": "bbfa77aa",
   "metadata": {
    "slideshow": {
     "slide_type": "skip"
    }
   },
   "outputs": [],
   "source": [
    "'bonjour' != None"
   ]
  },
  {
   "cell_type": "code",
   "execution_count": null,
   "id": "f5bf0e5c",
   "metadata": {
    "slideshow": {
     "slide_type": "skip"
    }
   },
   "outputs": [],
   "source": [
    "2 == 2.0  # Cas particulier : vrai car float(2) == 2.0"
   ]
  },
  {
   "cell_type": "markdown",
   "id": "86ef1025",
   "metadata": {
    "slideshow": {
     "slide_type": "subslide"
    }
   },
   "source": [
    "<img src='img/warning.png' width='50px' style='display:inline'> **Attention !** Ne pas confondre l'opérateur d'égalité (`==`) avec la syntaxe de l'affectation (`=`) !\n",
    "\n",
    "(<a href=\"#nav\"> vers la navigation </a>)"
   ]
  },
  {
   "cell_type": "markdown",
   "id": "a39e8add",
   "metadata": {
    "slideshow": {
     "slide_type": "slide"
    }
   },
   "source": [
    "### Opérateurs logiques <a name = \"operateurs_bool\"></a>\n",
    "\n",
    "On peut combiner plusieurs expressions booléennes `a` et `b` à l'aide d'opérateurs logiques, inspirés de la logique mathématique.\n",
    "\n",
    "On peut résumer le comportement de ces opérateurs à l'aide de tableaux, appelés **tables de vérité**."
   ]
  },
  {
   "cell_type": "markdown",
   "id": "c53b85f3",
   "metadata": {
    "slideshow": {
     "slide_type": "subslide"
    }
   },
   "source": [
    "#### Négation\n",
    "\n",
    "L'expression `not a` vaut `True` si `a` s'évalue en `False`, et `False` sinon (correspond à $\\lnot a$).\n",
    "\n",
    "`a`     | `not a` \n",
    "--------|---------\n",
    "`True`  | `False`\n",
    "`False` | `True`   "
   ]
  },
  {
   "cell_type": "markdown",
   "id": "2c1b382a",
   "metadata": {
    "slideshow": {
     "slide_type": "subslide"
    }
   },
   "source": [
    "#### Conjonction\n",
    "\n",
    "L'expression `a and b` vaut `True` si `a` et `b` s'évaluent toutes les deux en `True`, et `False` sinon (correspond à $a \\land b$).\n",
    "\n",
    "`a`| `b` | `a and  b`\n",
    "---|---|---\n",
    "`True` | `True` | `True` \n",
    "`True` | `False` | `False` \n",
    "`False` | `True` | `False` \n",
    "`False` | `False` | `False`"
   ]
  },
  {
   "cell_type": "markdown",
   "id": "32d2341d",
   "metadata": {
    "slideshow": {
     "slide_type": "subslide"
    }
   },
   "source": [
    "#### Disjonction\n",
    "\n",
    "L'expression `a or b` vaut `True` si `a` s'évalue en `True` ou `b` s'évalue en `True`, et  `False` sinon (correspond à $a \\lor b$).\n",
    "\n",
    "`a` | `b` | `a or  b`\n",
    "---|---|---\n",
    "`True` | `True` | `True` \n",
    "`True` | `False` | `True` \n",
    "`False` | `True` | `True` \n",
    "`False` | `False` | `False`"
   ]
  },
  {
   "cell_type": "code",
   "execution_count": null,
   "id": "9d78ee49",
   "metadata": {
    "slideshow": {
     "slide_type": "subslide"
    }
   },
   "outputs": [],
   "source": [
    "not (3 + 4 != 7)"
   ]
  },
  {
   "cell_type": "code",
   "execution_count": null,
   "id": "bfaa396f",
   "metadata": {
    "slideshow": {
     "slide_type": "-"
    }
   },
   "outputs": [],
   "source": [
    "4 < 1 or 'Bonjour' >= 'Au revoir'"
   ]
  },
  {
   "cell_type": "markdown",
   "id": "03e8b540",
   "metadata": {
    "slideshow": {
     "slide_type": "notes"
    }
   },
   "source": [
    "<img src='img/non-exigible.png' width='50px' style='float:left'> En réalité les opérateurs `and` et `or` ont un comportement un peu spécial appelé **évaluation séquentielle** : on n'évalue le deuxième opérande que si c'est nécessaire pour déterminer le résultat.\n",
    "\n",
    "- `a and b` est à peu près équivalent à `b if a else a`\n",
    "- `a or b` est à peu près équivalent à `a if a else b`"
   ]
  },
  {
   "cell_type": "markdown",
   "id": "a07db654",
   "metadata": {
    "slideshow": {
     "slide_type": "notes"
    }
   },
   "source": [
    "Cela signifie qu'on n'évalue pas toujours `b` dans `a and b` et dans `a or b`. Par exemple :"
   ]
  },
  {
   "cell_type": "code",
   "execution_count": null,
   "id": "369b1b6c",
   "metadata": {
    "slideshow": {
     "slide_type": "skip"
    }
   },
   "outputs": [],
   "source": [
    "1/0  # erreur : division par 0"
   ]
  },
  {
   "cell_type": "code",
   "execution_count": null,
   "id": "dcf92534",
   "metadata": {
    "slideshow": {
     "slide_type": "-"
    }
   },
   "outputs": [],
   "source": [
    "True or 1/0 == 1    # ne provoque pas d'erreur !"
   ]
  },
  {
   "cell_type": "code",
   "execution_count": null,
   "id": "f83f3b45",
   "metadata": {
    "slideshow": {
     "slide_type": "skip"
    }
   },
   "outputs": [],
   "source": [
    "False and 1/0 == 1  # ne provoque pas d'erreur !"
   ]
  },
  {
   "cell_type": "markdown",
   "id": "ebabc865",
   "metadata": {
    "slideshow": {
     "slide_type": "notes"
    }
   },
   "source": [
    "<img src='img/non-exigible.png' width='50px' style='float:left'> En Python, presque tout objet possède une valeur de vérité et peut s'utiliser comme un booléen... mais les règles sont un peu complexes.\n",
    "\n",
    "Par exemple :\n",
    "\n",
    "- les nombres égaux à 0 sont interprétés comme \"faux\"\n",
    "- la chaîne vide est interprétée comme \"faux\"\n",
    "- la valeur `None` est interprétée comme \"faux\", etc.\n",
    "\n",
    "Tout le reste est interprété comme \"vrai\""
   ]
  },
  {
   "cell_type": "markdown",
   "id": "1ea1bc4f",
   "metadata": {
    "slideshow": {
     "slide_type": "skip"
    }
   },
   "source": [
    "Si on combine ces deux aspects du langage, ça peut donner des choses assez surprenantes..."
   ]
  },
  {
   "cell_type": "code",
   "execution_count": 1,
   "id": "ebecc9e2",
   "metadata": {
    "slideshow": {
     "slide_type": "skip"
    }
   },
   "outputs": [
    {
     "data": {
      "text/plain": [
       "'courgette'"
      ]
     },
     "execution_count": 1,
     "metadata": {},
     "output_type": "execute_result"
    }
   ],
   "source": [
    "'patate' and 'courgette'"
   ]
  },
  {
   "cell_type": "code",
   "execution_count": 2,
   "id": "bc2bca20",
   "metadata": {
    "slideshow": {
     "slide_type": "skip"
    }
   },
   "outputs": [
    {
     "data": {
      "text/plain": [
       "'patate'"
      ]
     },
     "execution_count": 2,
     "metadata": {},
     "output_type": "execute_result"
    }
   ],
   "source": [
    "'patate' or 'courgette'"
   ]
  },
  {
   "cell_type": "markdown",
   "id": "5ece00ea",
   "metadata": {
    "slideshow": {
     "slide_type": "skip"
    }
   },
   "source": [
    "Ce comportement est largement **hors programme** et non exigible !\n",
    "\n",
    "(<a href=\"#nav\"> vers la navigation </a>)"
   ]
  },
  {
   "cell_type": "markdown",
   "id": "341609cd",
   "metadata": {
    "slideshow": {
     "slide_type": "slide"
    }
   },
   "source": [
    "### Quelques règles utiles"
   ]
  },
  {
   "cell_type": "markdown",
   "id": "4538786c",
   "metadata": {
    "slideshow": {
     "slide_type": "-"
    }
   },
   "source": [
    "#### Lois de De Morgan\n",
    "\n",
    "- dire \"non (a ou b)\" revient à dire \"(non a) et (non b)\"\n",
    "- dire \"non (a et b)\" revient à dire \"(non a) ou (non b)\"\n",
    "\n",
    "En Python :\n",
    "\n",
    "```python\n",
    "not (a and b) == (not a) or (not b)  # vrai pour tous a et b\n",
    "not (a or b) == (not a) and (not b)  # vrai pour tous a et b\n",
    "```"
   ]
  },
  {
   "cell_type": "markdown",
   "id": "47c7f210",
   "metadata": {
    "slideshow": {
     "slide_type": "notes"
    }
   },
   "source": [
    "#### Distributivité\n",
    "\n",
    "- la conjonction est distributive sur la disjonction\n",
    "- la disjonction est distributive sur la conjonction\n",
    "\n",
    "En Python :\n",
    "\n",
    "```python\n",
    "a and (b or c) == (a and b) or (a and c)  # vrai pour tous a, b et c\n",
    "a or (b and c) == (a or b) and (a or c)   # vrai pour tous a, b et c\n",
    "```"
   ]
  },
  {
   "cell_type": "markdown",
   "id": "5b8da7bb",
   "metadata": {
    "slideshow": {
     "slide_type": "subslide"
    }
   },
   "source": [
    "#### Commutativité\n",
    "\n",
    "- `a and b` est (presque) équivalente à `b and a` (mais elle change l'ordre d'évaluation)\n",
    "- `a or b` est (presque) équivalente à `b or a` (idem)"
   ]
  },
  {
   "cell_type": "markdown",
   "id": "c2d96528",
   "metadata": {
    "slideshow": {
     "slide_type": "notes"
    }
   },
   "source": [
    "#### Absorption\n",
    "\n",
    "- `a or True` est (presque) équivalente à `True`\n",
    "- `True or a` est équivalente à `True`"
   ]
  },
  {
   "cell_type": "markdown",
   "id": "93dd9cc5",
   "metadata": {
    "slideshow": {
     "slide_type": "notes"
    }
   },
   "source": [
    "- `a and False` est (presque) équivalente à `False`\n",
    "- `False and a` est équivalente à `False`"
   ]
  },
  {
   "cell_type": "markdown",
   "id": "3a0c1e34",
   "metadata": {
    "slideshow": {
     "slide_type": "notes"
    }
   },
   "source": [
    "#### Invariance\n",
    "\n",
    "- `a and True` est (presque) équivalente à `a`\n",
    "- `True and a` est équivalente à `a`"
   ]
  },
  {
   "cell_type": "markdown",
   "id": "27c573ba",
   "metadata": {
    "slideshow": {
     "slide_type": "notes"
    }
   },
   "source": [
    "- `a or False` est (presque) équivalente à `a`\n",
    "- `False or a` est équivalente à `a`"
   ]
  },
  {
   "cell_type": "markdown",
   "id": "43d9b3fd",
   "metadata": {
    "slideshow": {
     "slide_type": "subslide"
    }
   },
   "source": [
    "#### Égalité et négation\n",
    "\n",
    "- `not a == b` est équivalent à `a != b`\n",
    "- `not a != b` est équivalent à `a == b`"
   ]
  },
  {
   "cell_type": "markdown",
   "id": "2a59afaa",
   "metadata": {
    "slideshow": {
     "slide_type": "notes"
    }
   },
   "source": [
    "#### Comparaisons et opérateurs logiques\n",
    "\n",
    "- `a < b` est équivalent à `a <= b and a != b`\n",
    "- `a <= b` est équivalent à `a < b or a == b`\n",
    "- `a > b` est équivalent à `a >= b and a != b`\n",
    "- `a >= b` est équivalent à `a > b or a == b`"
   ]
  },
  {
   "cell_type": "markdown",
   "id": "21e67113",
   "metadata": {
    "slideshow": {
     "slide_type": "notes"
    }
   },
   "source": [
    "#### Comparaisons et négation\n",
    "\n",
    "- `not a < b` est équivalent à `a >= b` ou encore `b <= a`\n",
    "- `not a <= b` est équivalent à `a > b` ou encore `b < a`\n",
    "- `not a > b` est équivalent à `a <= b` ou encore `b >= a`\n",
    "- `not a >= b` est équivalent à `a < b` ou encore `b > a`"
   ]
  },
  {
   "cell_type": "code",
   "execution_count": null,
   "id": "784ea10f",
   "metadata": {
    "slideshow": {
     "slide_type": "subslide"
    }
   },
   "outputs": [],
   "source": [
    "x = -1\n",
    "inf, sup = 0, 10\n",
    "x >= inf and x <= sup"
   ]
  },
  {
   "cell_type": "code",
   "execution_count": null,
   "id": "50e14ea2",
   "metadata": {
    "slideshow": {
     "slide_type": "fragment"
    }
   },
   "outputs": [],
   "source": [
    "x = -1\n",
    "inf, sup = 0, 10\n",
    "x < inf or x > sup"
   ]
  },
  {
   "cell_type": "code",
   "execution_count": null,
   "id": "ad4d3dfc",
   "metadata": {
    "slideshow": {
     "slide_type": "fragment"
    }
   },
   "outputs": [],
   "source": [
    "x = 1\n",
    "inf, sup = 0, 10\n",
    "not (x < inf or x > sup)"
   ]
  },
  {
   "cell_type": "code",
   "execution_count": null,
   "id": "9ec66409",
   "metadata": {
    "slideshow": {
     "slide_type": "fragment"
    }
   },
   "outputs": [],
   "source": [
    "x = 12\n",
    "inf, sup = 0, 10\n",
    "not (x >= inf and x <= sup)"
   ]
  },
  {
   "cell_type": "markdown",
   "id": "f056a16d",
   "metadata": {
    "slideshow": {
     "slide_type": "skip"
    }
   },
   "source": [
    "Si `£` et `¥` représentent des opérateurs de comparaison, \n",
    "```python\n",
    "exp1 £ exp2 ¥ exp3\n",
    "```\n",
    "est une abréviation de \n",
    "```python\n",
    "exp1 £ exp2 and exp2 ¥ exp3\n",
    "```"
   ]
  },
  {
   "cell_type": "markdown",
   "id": "a8585efd",
   "metadata": {
    "slideshow": {
     "slide_type": "notes"
    }
   },
   "source": [
    "(<a href=\"#nav\"> vers la navigation </a>)\n",
    "\n",
    "### Enchaînement de comparaisons\n",
    "\n",
    "<img src='img/non-exigible.png' width='50px' style='float:left'> En Python on peut rassembler plusieurs comparaisons successives en une seule expression (c'est impossible dans de nombreux autres langages)."
   ]
  },
  {
   "cell_type": "code",
   "execution_count": null,
   "id": "d87010e5",
   "metadata": {
    "slideshow": {
     "slide_type": "subslide"
    }
   },
   "outputs": [],
   "source": [
    "x, inf, sup = 1, 0, 10\n",
    "inf <= x <= sup"
   ]
  },
  {
   "cell_type": "code",
   "execution_count": null,
   "id": "d6235e6b",
   "metadata": {
    "slideshow": {
     "slide_type": "skip"
    }
   },
   "outputs": [],
   "source": [
    "a, b, c = 1, 1, 2\n",
    "a == b == c"
   ]
  },
  {
   "cell_type": "markdown",
   "id": "dd04f436",
   "metadata": {
    "slideshow": {
     "slide_type": "skip"
    }
   },
   "source": [
    "**Attention**, cela mène parfois à des écritures un peu bizarres..."
   ]
  },
  {
   "cell_type": "code",
   "execution_count": null,
   "id": "2dae7499",
   "metadata": {
    "slideshow": {
     "slide_type": "skip"
    }
   },
   "outputs": [],
   "source": [
    "x, inf, sup = 1, 4, 10\n",
    "inf < sup > x  # ???"
   ]
  },
  {
   "cell_type": "code",
   "execution_count": null,
   "id": "dc0e0081",
   "metadata": {
    "slideshow": {
     "slide_type": "skip"
    }
   },
   "outputs": [],
   "source": [
    "a = 1\n",
    "b = 2\n",
    "c = 1\n",
    "a != b != c"
   ]
  },
  {
   "cell_type": "markdown",
   "id": "873c6369",
   "metadata": {
    "slideshow": {
     "slide_type": "slide"
    }
   },
   "source": [
    "### Exercice : multiple de 3 ou 5\n",
    "\n",
    "Étant donnée une variable `x` désignant un nombre,\n",
    "1. écrire deux expressions booléennes différentes qui valent `True` si `x` est un multiple de 3 et de 5 et `False` sinon, \n",
    "2. écrire deux expressions booléennes différentes qui valent `True` si `x` n'est un multiple ni de 3 ni de 5 et `False` sinon."
   ]
  },
  {
   "cell_type": "code",
   "execution_count": null,
   "id": "a3025542",
   "metadata": {
    "slideshow": {
     "slide_type": "skip"
    }
   },
   "outputs": [],
   "source": [
    "x = 10\n",
    "x % 3 == 0 and x % 5 == 0"
   ]
  },
  {
   "cell_type": "code",
   "execution_count": null,
   "id": "d6d1475d",
   "metadata": {
    "slideshow": {
     "slide_type": "skip"
    }
   },
   "outputs": [],
   "source": [
    "x = 7\n",
    "not(x % 3 == 0) and not(x % 5 == 0)"
   ]
  },
  {
   "cell_type": "markdown",
   "id": "dc969b0a",
   "metadata": {
    "slideshow": {
     "slide_type": "slide"
    }
   },
   "source": [
    "### Exercice\n",
    "\n",
    "Donner le résultat des expressions logiques suivantes pour les valeurs indiquées de `a`, `b` et `c`"
   ]
  },
  {
   "cell_type": "code",
   "execution_count": null,
   "id": "2b5d6275",
   "metadata": {
    "slideshow": {
     "slide_type": "subslide"
    }
   },
   "outputs": [],
   "source": [
    "a, b, c = 10, 2, 6\n",
    "a < b or a > c"
   ]
  },
  {
   "cell_type": "code",
   "execution_count": null,
   "id": "83b3e461",
   "metadata": {
    "slideshow": {
     "slide_type": "subslide"
    }
   },
   "outputs": [],
   "source": [
    "a, b, c = 10, 2, 6\n",
    "a + b < 2 * c"
   ]
  },
  {
   "cell_type": "code",
   "execution_count": null,
   "id": "cebb0e74",
   "metadata": {
    "slideshow": {
     "slide_type": "subslide"
    }
   },
   "outputs": [],
   "source": [
    "a, b, c = 10, 2, 6\n",
    "a - b == b + c"
   ]
  },
  {
   "cell_type": "code",
   "execution_count": null,
   "id": "85061852",
   "metadata": {
    "slideshow": {
     "slide_type": "subslide"
    }
   },
   "outputs": [],
   "source": [
    "a, b, c = 10, 2, 6\n",
    "(a > b and a > c) or (b > a and b > c)"
   ]
  },
  {
   "cell_type": "code",
   "execution_count": null,
   "id": "29fca1cb",
   "metadata": {
    "slideshow": {
     "slide_type": "subslide"
    }
   },
   "outputs": [],
   "source": [
    "a, b, c = 10, 2, 6\n",
    "a < b < c"
   ]
  },
  {
   "cell_type": "code",
   "execution_count": null,
   "id": "38e45274",
   "metadata": {
    "slideshow": {
     "slide_type": "subslide"
    }
   },
   "outputs": [],
   "source": [
    "a, b, c = 10, 2, 6\n",
    "a == b == c"
   ]
  },
  {
   "cell_type": "code",
   "execution_count": null,
   "id": "7fc7865d",
   "metadata": {
    "slideshow": {
     "slide_type": "subslide"
    }
   },
   "outputs": [],
   "source": [
    "a, b, c = 10, 2, 6\n",
    "(a <= b and a <= c) or not (b < a)"
   ]
  },
  {
   "cell_type": "code",
   "execution_count": null,
   "id": "1016f115",
   "metadata": {
    "slideshow": {
     "slide_type": "subslide"
    }
   },
   "outputs": [],
   "source": [
    "a, b, c = 10, 2, 6\n",
    "not (a > b and a > c) or (b > a and b > c)"
   ]
  },
  {
   "cell_type": "markdown",
   "id": "80fefb7e",
   "metadata": {
    "slideshow": {
     "slide_type": "slide"
    }
   },
   "source": [
    "(<a href=\"#nav\"> vers la navigation </a>)\n",
    "\n",
    "## Instructions conditionnelles <a name=\"conditionnelles\"></a>"
   ]
  },
  {
   "cell_type": "markdown",
   "id": "a3b36992",
   "metadata": {
    "slideshow": {
     "slide_type": "subslide"
    }
   },
   "source": [
    "### Cas simple : Conditionnelle `Si` \n",
    "On peut maintenant modifier le flot d'instructions selon la valeur d'expressions booléennes, ou conditions :\n",
    "\n",
    "- **Si** une certaine condition est vraie, exécuter un certain groupe (ou bloc) d'instructions\n",
    "- **Sinon**, passer directement à la suite du programme\n",
    "<img src='img/conditionnelle1.png' width='300px'>"
   ]
  },
  {
   "cell_type": "markdown",
   "id": "ac8171ec",
   "metadata": {
    "slideshow": {
     "slide_type": "subslide"
    }
   },
   "source": [
    "La syntaxe d'une instruction conditionnelle est :\n",
    "\n",
    "```python\n",
    "# début\n",
    "if condition:\n",
    "    # bloc \n",
    "    # d'instructions\n",
    "    # indenté\n",
    "# suite (*)\n",
    "```\n",
    "\n",
    "- Ici `condition` est une expression booléenne\n",
    "- Les instructions du bloc **v** sont exécutées uniquement si `condition` est évaluée à `True`\n",
    "- Dans tous les cas, l'exécution reprend à l'instruction suivant le bloc indenté (ligne `suite (*)`)"
   ]
  },
  {
   "cell_type": "markdown",
   "id": "2b88e7a7",
   "metadata": {
    "slideshow": {
     "slide_type": "subslide"
    }
   },
   "source": [
    "#### Exemple : pile ou face ?\n",
    "Un programme qui :\n",
    "1. tire un nombre au hasard entre `0` et `1`\n",
    "2. affiche `pile` s'il a tiré `1`, `face` s'il a tiré `0`"
   ]
  },
  {
   "cell_type": "code",
   "execution_count": null,
   "id": "38ae3c7b",
   "metadata": {
    "slideshow": {
     "slide_type": "fragment"
    }
   },
   "outputs": [],
   "source": [
    "from random import randint # randint permet de tirer un nombre aléatoire\n",
    "\n",
    "tirage = randint(0,1)\n",
    "print(tirage)\n",
    "if tirage == 1:\n",
    "    print(\"pile\")\n",
    "    \n",
    "if tirage == 0:\n",
    "    print(\"face\")"
   ]
  },
  {
   "cell_type": "markdown",
   "id": "0314dc59",
   "metadata": {
    "slideshow": {
     "slide_type": "skip"
    }
   },
   "source": [
    "#### Exemple : mettre deux chaînes dans l'ordre\n",
    "\n",
    "Supposons qu'il existe deux variables `a` et `b` désignant des `str`. \n",
    "\n",
    "Écrire un bout de programme qui modifie ces variables pour que `a` désigne la plus petite chaîne et `b` la plus grande (dans l'ordre lexicographique)"
   ]
  },
  {
   "cell_type": "code",
   "execution_count": null,
   "id": "5433b64b",
   "metadata": {
    "slideshow": {
     "slide_type": "skip"
    }
   },
   "outputs": [],
   "source": [
    "a = input()\n",
    "b = input()\n",
    "if a > b:\n",
    "    # on intervertit les valeurs\n",
    "    temp = a  # variable temporaire\n",
    "    a = b\n",
    "    b = temp\n",
    "print(a, b)"
   ]
  },
  {
   "cell_type": "code",
   "execution_count": null,
   "id": "4c9db968",
   "metadata": {
    "slideshow": {
     "slide_type": "skip"
    }
   },
   "outputs": [],
   "source": [
    "a = input()\n",
    "b = input()\n",
    "if a > b:\n",
    "    # variante\n",
    "    a, b = b, a\n",
    "print(a, b)"
   ]
  },
  {
   "cell_type": "markdown",
   "id": "303162ba",
   "metadata": {
    "slideshow": {
     "slide_type": "slide"
    }
   },
   "source": [
    "### La notion de bloc\n",
    "\n",
    "Sur cet exemple, on a vu un groupe de lignes commençant par des espaces, appelé **bloc**. Un bloc est utilisé pour regrouper plusieurs instructions dépendant de la même condition.\n",
    "\n",
    "- Un tel groupe d'instructions est appelé un **bloc**\n",
    "- Le décalage du début de ligne est appelé **indentation**\n",
    "- Un bloc se termine quand une ligne **moins indentée** apparaît (sur l'exemple : `print(a, b)`)"
   ]
  },
  {
   "cell_type": "markdown",
   "id": "f7355385",
   "metadata": {
    "slideshow": {
     "slide_type": "subslide"
    }
   },
   "source": [
    "- Pour indenter la ligne courante : touche \"tabulation\" (⇥) \n",
    "- Pour désindenter une ligne : \"Shift + tabulation\" (⇧ + ⇥)\n",
    "- Changer l'indentation change le sens du programme (essayez !)"
   ]
  },
  {
   "cell_type": "code",
   "execution_count": null,
   "id": "0077a601",
   "metadata": {},
   "outputs": [],
   "source": [
    "from random import randint # randint permet de tirer un nombre aléatoire\n",
    "\n",
    "tirage = randint(0,1)\n",
    "print(tirage)\n",
    "if tirage == 1:\n",
    "    print(\"Le résultat est :\")\n",
    "    print(\"pile\")\n",
    "    \n",
    "if tirage == 0:\n",
    "    print(\"Le résultat est :\")\n",
    "    print(\"face\")"
   ]
  },
  {
   "cell_type": "markdown",
   "id": "ccc91f42",
   "metadata": {
    "slideshow": {
     "slide_type": "notes"
    }
   },
   "source": [
    "#### Erreurs fréquentes liées à l'indentation :"
   ]
  },
  {
   "cell_type": "code",
   "execution_count": null,
   "id": "4c0fcdb2",
   "metadata": {
    "slideshow": {
     "slide_type": "notes"
    }
   },
   "outputs": [],
   "source": [
    "if a > b  # oubli des deux points (:)\n",
    "    temp = a\n",
    "    a = b\n",
    "    b = temp"
   ]
  },
  {
   "cell_type": "code",
   "execution_count": null,
   "id": "2dfa73c0",
   "metadata": {
    "slideshow": {
     "slide_type": "notes"
    }
   },
   "outputs": [],
   "source": [
    "if a > b:\n",
    "    temp = a\n",
    "    a = b\n",
    "   b = temp  # ligne pas assez indentée "
   ]
  },
  {
   "cell_type": "code",
   "execution_count": null,
   "id": "517b69ec",
   "metadata": {
    "slideshow": {
     "slide_type": "notes"
    }
   },
   "outputs": [],
   "source": [
    "if a > b:\n",
    "    temp = a\n",
    "    a = b\n",
    "     b = temp  # ligne trop indentée "
   ]
  },
  {
   "cell_type": "code",
   "execution_count": null,
   "id": "e28e58b6",
   "metadata": {
    "slideshow": {
     "slide_type": "notes"
    }
   },
   "outputs": [],
   "source": [
    "if a > b:\n",
    "a, b = b, a  # oubli d'indentation"
   ]
  },
  {
   "cell_type": "markdown",
   "id": "3b90e07e",
   "metadata": {
    "slideshow": {
     "slide_type": "slide"
    }
   },
   "source": [
    "### Conditionnelles `Si ... Sinon ...`\n",
    "\n",
    "\n",
    "\n",
    "On peut ajouter un second bloc d'instructions\n",
    "- **Si** une certaine condition est vraie, exécuter le premier bloc\n",
    "- **Sinon**, exécuter le second\n",
    "- Enfin, continuer l'exécution normale du programme"
   ]
  },
  {
   "cell_type": "markdown",
   "id": "35374915",
   "metadata": {
    "slideshow": {
     "slide_type": "subslide"
    }
   },
   "source": [
    "Syntaxe :\n",
    "\n",
    "```python\n",
    "# début\n",
    "if condition:\n",
    "    # bloc v\n",
    "else:\n",
    "    # bloc f\n",
    "# suite\n",
    "```\n",
    "\n",
    "Ici `condition` est une expression booléenne"
   ]
  },
  {
   "cell_type": "markdown",
   "id": "b38296bd",
   "metadata": {
    "slideshow": {
     "slide_type": "subslide"
    }
   },
   "source": [
    "Seul *l'un des deux* blocs d'instructions, **v** *ou bien* **f**, est exécuté\n",
    "- Le bloc **v** uniquement si `condition` est évaluée à `True`\n",
    "- Le bloc **f** uniquement si `condition` est évaluée à `False`\n",
    "- Dans tous les cas, reprise à l'instruction suivant le bloc **f**\n",
    "\n",
    "<img src='img/conditionnelle2.png' width='30%'>"
   ]
  },
  {
   "cell_type": "markdown",
   "id": "1d6e9846",
   "metadata": {
    "slideshow": {
     "slide_type": "skip"
    }
   },
   "source": [
    "#### Exemple : division euclidienne"
   ]
  },
  {
   "cell_type": "code",
   "execution_count": null,
   "id": "1f5ab124",
   "metadata": {
    "slideshow": {
     "slide_type": "skip"
    }
   },
   "outputs": [],
   "source": [
    "dividende = int(input(\"Donnez moi un dividende : \"))\n",
    "diviseur = int(input(\"Donnez moi un diviseur : \"))\n",
    "if diviseur != 0:\n",
    "    quotient = dividende // diviseur\n",
    "    reste = dividende % diviseur\n",
    "    print(dividende, '=', quotient, '*', diviseur, '+', reste)\n",
    "else:\n",
    "    print('Erreur : division par zéro')"
   ]
  },
  {
   "cell_type": "markdown",
   "id": "04d7b72a",
   "metadata": {
    "slideshow": {
     "slide_type": "subslide"
    }
   },
   "source": [
    "### Exemple : pile ou face ?"
   ]
  },
  {
   "cell_type": "code",
   "execution_count": null,
   "id": "f1c6199a",
   "metadata": {
    "slideshow": {
     "slide_type": "-"
    }
   },
   "outputs": [],
   "source": [
    "from random import randint # randint permet de tirer un nombre aléatoire\n",
    "\n",
    "tirage = randint(0,1)\n",
    "print(tirage)\n",
    "if tirage == 1:\n",
    "    print(\"pile\")\n",
    "    \n",
    "if tirage == 0:\n",
    "    print(\"face\")"
   ]
  },
  {
   "cell_type": "code",
   "execution_count": null,
   "id": "29c0abc1",
   "metadata": {
    "slideshow": {
     "slide_type": "fragment"
    }
   },
   "outputs": [],
   "source": [
    "from random import randint # randint permet de tirer un nombre aléatoire\n",
    "\n",
    "tirage = randint(0,1)\n",
    "print(tirage)\n",
    "if tirage == 1:\n",
    "    print(\"pile\")\n",
    "else: # Dans ce cas, tirage vaut nécessairement 0\n",
    "    print(\"face\")"
   ]
  },
  {
   "cell_type": "markdown",
   "id": "0a2468d7",
   "metadata": {
    "slideshow": {
     "slide_type": "subslide"
    }
   },
   "source": [
    "### Exercice\n",
    "\n",
    "Écrire un programme qui permet de jouer à pile ou face :\n",
    "1. Demander à l'utilisateur de saisir `1` pour `pile` et `0` pour face\n",
    "2. Tirer un nombre au hasard, l'afficher et afficher `Gagné !` ou `Perdu !` en fonction du résultat\n",
    "\n",
    "On pourra améliorer le programme pour permettre de saisir directement `pile` ou `face` plutôt que `1` ou `0`."
   ]
  },
  {
   "cell_type": "code",
   "execution_count": null,
   "id": "f29ab82f",
   "metadata": {
    "slideshow": {
     "slide_type": "fragment"
    }
   },
   "outputs": [],
   "source": [
    "from random import randint\n",
    "nombre_choisi = int(input(\"Pile (1) ou face (0) ? \"))\n",
    "tirage = randint(0,1)\n",
    "if tirage == nombre_choisi:\n",
    "    print(\"Gagné !\")\n",
    "else:\n",
    "    print(\"Perdu !\")"
   ]
  },
  {
   "cell_type": "code",
   "execution_count": null,
   "id": "e39b30d0",
   "metadata": {
    "slideshow": {
     "slide_type": "subslide"
    }
   },
   "outputs": [],
   "source": [
    "from random import randint\n",
    "choix = input(\"pile ou face ? \")\n",
    "if choix == \"pile\":\n",
    "    nombre_choisi = 1\n",
    "else:\n",
    "    nombre_choisi = 0\n",
    "tirage = randint(0,1)\n",
    "if tirage == 1:\n",
    "    print(\"Le résultat est pile.\")\n",
    "else:\n",
    "    print(\"Le résultat est face.\")\n",
    "if tirage == nombre_choisi:\n",
    "    print(\"Gagné !\")\n",
    "else:\n",
    "    print(\"Perdu !\")"
   ]
  },
  {
   "cell_type": "markdown",
   "id": "20fe7950",
   "metadata": {
    "slideshow": {
     "slide_type": "subslide"
    }
   },
   "source": [
    "#### Exercices\n",
    "\n",
    "1. Écrire un programme qui saisit un nombre entier et affiche `positif` si l'entier est positif ou nul et `negatif` sinon.\n",
    "2. Écrire un programme qui saisit deux nombres entiers et affiche le plus grand des deux."
   ]
  },
  {
   "cell_type": "code",
   "execution_count": null,
   "id": "3bb6632a",
   "metadata": {
    "slideshow": {
     "slide_type": "skip"
    }
   },
   "outputs": [],
   "source": [
    "entier = int(input(\"Donnez moi un entier : \"))\n",
    "if entier >= 0:\n",
    "    print(\"positif\")\n",
    "else:\n",
    "    print(\"negatif\")"
   ]
  },
  {
   "cell_type": "code",
   "execution_count": null,
   "id": "4a0b2ddd",
   "metadata": {
    "slideshow": {
     "slide_type": "skip"
    }
   },
   "outputs": [],
   "source": [
    "entier1 = int(input(\"Donnez moi un premier entier : \"))\n",
    "entier2 = int(input(\"Donnez moi un deuxième entier : \"))\n",
    "print(\"L'entier le plus grand est\", end = \" \")\n",
    "if entier1 > entier2:\n",
    "    print(entier1)\n",
    "else:\n",
    "    print(entier2)    "
   ]
  },
  {
   "cell_type": "markdown",
   "id": "cd84d902",
   "metadata": {
    "slideshow": {
     "slide_type": "subslide"
    }
   },
   "source": [
    "### Conditionnelles composées\n",
    "\n",
    "Cette construction peut être imbriquée :\n",
    "\n",
    "```python\n",
    "# début\n",
    "if <condition 1>:\n",
    "    if <condition 2>:\n",
    "        # bloc v1v2\n",
    "    else:\n",
    "        # bloc v1f2\n",
    "    # suite 2\n",
    "else:\n",
    "    # bloc f1\n",
    "# suite 1\n",
    "```\n",
    "\n",
    "Toutes les variantes sont possibles — si chaque `else` correspond à un `if` de même indentation !"
   ]
  },
  {
   "cell_type": "markdown",
   "id": "4a937089",
   "metadata": {
    "slideshow": {
     "slide_type": "subslide"
    }
   },
   "source": [
    "<img src='img/conditionnelle3.png' width='60%' style='display:inline'>"
   ]
  },
  {
   "cell_type": "markdown",
   "id": "bbba9401",
   "metadata": {
    "slideshow": {
     "slide_type": "subslide"
    }
   },
   "source": [
    "#### Exemple : pile ou face, deux fois\n",
    "Écrire un programme qui tire deux fois à pile ou face et affiche `Gagné` si les deux tirages sont `pile`, `Perdu` sinon."
   ]
  },
  {
   "cell_type": "code",
   "execution_count": null,
   "id": "7df1ddc3",
   "metadata": {
    "slideshow": {
     "slide_type": "fragment"
    }
   },
   "outputs": [],
   "source": [
    "from random import randint\n",
    "tirage1 = randint(0,1)\n",
    "print(\"Premier tirage :\", tirage1)\n",
    "if tirage1 == 1:\n",
    "    tirage2 = randint(0,1)\n",
    "    print(\"Second tirage :\", tirage2)\n",
    "    if tirage2 == 1:\n",
    "        print(\"Gagné\")\n",
    "    else:\n",
    "        print(\"Perdu\")\n",
    "else:\n",
    "    print(\"Perdu\")"
   ]
  },
  {
   "cell_type": "markdown",
   "id": "55ca71fb",
   "metadata": {
    "slideshow": {
     "slide_type": "skip"
    }
   },
   "source": [
    "#### Exemple : discriminant\n",
    "\n",
    "On suppose qu'il existe trois variables `a`, `b` et `c` désignant des nombres. On veut déterminer le nombre de solutions réelles de l'équation `a`$x^2$ + `b`$x$ + `c` = 0. Les cas suivants sont à considérer :\n",
    "\n",
    "-   si `a` = `b` = `c` = 0, il y a une infinité de solutions\n",
    "-   si `a` = `b` = 0 et `c` $\\neq$ 0, il n'y a pas de solution\n",
    "-   si `a` = 0 et `b` $\\neq$ 0, il y a exactement une solution\n",
    "-   sinon, on calcule le discriminant\n",
    "    $\\Delta$ = `b`$^2$ - 4`ac` et,\n",
    "    -   si $\\Delta < 0$, il n'y a pas de solution ;\n",
    "    -   si $\\Delta = 0$, il y a exactement une solution ;\n",
    "    -   sinon $\\Delta > 0$ et il y a exactement deux solutions."
   ]
  },
  {
   "cell_type": "markdown",
   "id": "dc70d23c",
   "metadata": {
    "slideshow": {
     "slide_type": "skip"
    }
   },
   "source": [
    "Écrire un programme qui demande à l'utilisateur de saisir au clavier\n",
    "les trois valeurs `a`, `b` et `c` et qui calcule et affiche le\n",
    "nombre de solutions **réelles** de l'équation du second degré associée."
   ]
  },
  {
   "cell_type": "code",
   "execution_count": null,
   "id": "2972d0f3",
   "metadata": {
    "slideshow": {
     "slide_type": "skip"
    }
   },
   "outputs": [],
   "source": [
    "a, b, c = ...\n",
    "\n",
    "# Calcul et affichage du nombre de solutions\n",
    "if a == 0:\n",
    "    if b == 0:\n",
    "        if c == 0:\n",
    "            print(\"Une infinité de solutions\")\n",
    "        else:\n",
    "            print(\"Pas de solution\")\n",
    "    else :\n",
    "        print(\"Une solution\")\n",
    "else:\n",
    "    delta = b ** 2 - 4 * a * c\n",
    "    if delta < 0:\n",
    "        print(\"Pas de solution\")\n",
    "    else:\n",
    "        if delta == 0:\n",
    "            print(\"Une solution\")\n",
    "        else:\n",
    "            print(\"Deux solutions\")"
   ]
  },
  {
   "cell_type": "markdown",
   "id": "553e5ef7",
   "metadata": {
    "slideshow": {
     "slide_type": "slide"
    }
   },
   "source": [
    "### Conditionnelles enchaînées <a name=\"conditionnelles_enchainees\"></a>\n",
    "  \n",
    "Cas particulier où le bloc `else` contient seulement un autre `if` : le mot-clé `elif`\n",
    "\n",
    "Le code...\n",
    "```python\n",
    "# début\n",
    "if <condition 1>:\n",
    "    # bloc **v1**\n",
    "else:\n",
    "    if <condition 2>:\n",
    "        # bloc **f1v2**\n",
    "    else:\n",
    "        # bloc **f1f2**\n",
    "# suite\n",
    "```"
   ]
  },
  {
   "cell_type": "markdown",
   "id": "9c5909c1",
   "metadata": {
    "slideshow": {
     "slide_type": "subslide"
    }
   },
   "source": [
    "... s'écrit aussi :\n",
    "```python\n",
    "# début\n",
    "if <condition 1>:\n",
    "    # bloc **v1**\n",
    "elif <condition 2>:\n",
    "    # bloc **f1v2**\n",
    "else:\n",
    "    # bloc **f1f2**\n",
    "# suite\n",
    "```"
   ]
  },
  {
   "cell_type": "markdown",
   "id": "a0def88c",
   "metadata": {
    "slideshow": {
     "slide_type": "subslide"
    }
   },
   "source": [
    "On peut ainsi enchaîner autant de conditions qu'on le souhaite, lorsque les cas ne se recouvrent pas :\n",
    "\n",
    "```python\n",
    "# début\n",
    "if <condition 1>:\n",
    "    # bloc **v1**\n",
    "elif <condition 2>:\n",
    "    # bloc **f1v2**\n",
    "elif <condition 3>:\n",
    "    # bloc **f1f2v3**\n",
    "else:\n",
    "    # bloc **f1f2f3**\n",
    "# suite\n",
    "```"
   ]
  },
  {
   "cell_type": "markdown",
   "id": "1db1193b",
   "metadata": {
    "slideshow": {
     "slide_type": "subslide"
    }
   },
   "source": [
    "#### Exemple : pile ou face, deux fois (variante)\n",
    "Écrire un programme qui tire deux fois à pile ou face et affiche `Gagné` si les deux tirages sont différents (`pile` puis `face` ou bien `face` puis `pile`) et affiche `Perdu` sinon."
   ]
  },
  {
   "cell_type": "code",
   "execution_count": null,
   "id": "ce4d2cce",
   "metadata": {
    "slideshow": {
     "slide_type": "fragment"
    }
   },
   "outputs": [],
   "source": [
    "from random import randint\n",
    "tirage1 = randint(0,1)\n",
    "print(\"Premier tirage :\", tirage1)\n",
    "tirage2 = randint(0,1)\n",
    "print(\"Second tirage :\", tirage2)\n",
    "if tirage1 == 1 and tirage2 == 1:\n",
    "    print(\"Gagné\")\n",
    "elif tirage1 == 0 and tirage2 == 0:\n",
    "    print(\"Gagné\")\n",
    "else:\n",
    "    print(\"Perdu\")"
   ]
  },
  {
   "cell_type": "code",
   "execution_count": null,
   "id": "fdda58b6",
   "metadata": {
    "slideshow": {
     "slide_type": "skip"
    }
   },
   "outputs": [],
   "source": [
    "# Une variante\n",
    "from random import randint\n",
    "tirage1 = randint(0,1)\n",
    "print(\"Premier tirage :\", tirage1)\n",
    "tirage2 = randint(0,1)\n",
    "print(\"Second tirage :\", tirage2)\n",
    "if tirage1 == 1 and tirage2 == 1 or tirage1 == 0 and tirage2 == 0:\n",
    "    print(\"Gagné\")\n",
    "else:\n",
    "    print(\"Perdu\")"
   ]
  },
  {
   "cell_type": "code",
   "execution_count": null,
   "id": "2d80b295",
   "metadata": {
    "slideshow": {
     "slide_type": "skip"
    }
   },
   "outputs": [],
   "source": [
    "# Une autre variante\n",
    "from random import randint\n",
    "tirage1 = randint(0,1)\n",
    "print(\"Premier tirage :\", tirage1)\n",
    "tirage2 = randint(0,1)\n",
    "print(\"Second tirage :\", tirage2)\n",
    "if tirage1 == tirage2:\n",
    "    print(\"Gagné\")\n",
    "else:\n",
    "    print(\"Perdu\")"
   ]
  },
  {
   "cell_type": "markdown",
   "id": "13483f06",
   "metadata": {
    "slideshow": {
     "slide_type": "slide"
    }
   },
   "source": [
    "(<a href=\"#nav\"> vers la navigation </a>)\n",
    "\n",
    "## Boucles <a name=\"boucles\"></a>\n",
    "Comment faire si l'on veut répéter une instruction ?"
   ]
  },
  {
   "cell_type": "markdown",
   "id": "0fa64430",
   "metadata": {
    "slideshow": {
     "slide_type": "subslide"
    }
   },
   "source": [
    "### Exemple : pile ou face, rejouer tant qu'on perd\n",
    "Écrire un programme qui nous fait rejouer à pile ou face tant qu'on perd."
   ]
  },
  {
   "cell_type": "code",
   "execution_count": null,
   "id": "c350553c",
   "metadata": {
    "slideshow": {
     "slide_type": "fragment"
    }
   },
   "outputs": [],
   "source": [
    "# Un premier essai\n",
    "from random import randint\n",
    "tirage = randint(0,1)\n",
    "nombre_choisi = int(input(\"Pile (1) ou face (0) ? \"))\n",
    "if tirage == nombre_choisi:\n",
    "    print(\"Gagné\")\n",
    "else:\n",
    "    print(\"Perdu. Essaye encore.\")\n",
    "    tirage = randint(0,1)\n",
    "    nombre_choisi = int(input(\"Pile (1) ou face (0) ? \"))\n",
    "    if tirage == nombre_choisi:\n",
    "        print(\"Gagné\")\n",
    "    # ...\n",
    "    # Ça peut durer longtemps !"
   ]
  },
  {
   "cell_type": "code",
   "execution_count": null,
   "id": "202c8e53",
   "metadata": {
    "scrolled": false,
    "slideshow": {
     "slide_type": "fragment"
    }
   },
   "outputs": [],
   "source": [
    "# Un deuxième essai\n",
    "from random import randint\n",
    "gagne = False\n",
    "while not(gagne):\n",
    "    tirage = randint(0,1)\n",
    "    nombre_choisi = int(input(\"Pile (1) ou face (0) ? \"))\n",
    "    if tirage == nombre_choisi:\n",
    "        print(\"Gagné\")\n",
    "        gagne = True\n",
    "    else:\n",
    "        print(\"Perdu. Essaye encore.\")"
   ]
  },
  {
   "cell_type": "code",
   "execution_count": null,
   "id": "546c0044",
   "metadata": {
    "scrolled": false,
    "slideshow": {
     "slide_type": "skip"
    }
   },
   "outputs": [],
   "source": [
    "# Une variante\n",
    "from random import randint\n",
    "tirage = 0\n",
    "nombre_choisi = 1\n",
    "while tirage != nombre_choisi:\n",
    "    tirage = randint(0,1)\n",
    "    nombre_choisi = int(input(\"Pile (1) ou face (0) ? \"))\n",
    "    if tirage != nombre_choisi:\n",
    "        print(\"Perdu. Essaye encore.\")\n",
    "print(\"Gagné !\")"
   ]
  },
  {
   "cell_type": "markdown",
   "id": "719ef176",
   "metadata": {
    "slideshow": {
     "slide_type": "subslide"
    }
   },
   "source": [
    "### Exemple : pile ou face, rejouer\n",
    "Écrire un programme qui nous fait rejouer à pile ou face tant qu'on perd et qu'on veut rejouer."
   ]
  },
  {
   "cell_type": "code",
   "execution_count": null,
   "id": "33ac52cf",
   "metadata": {
    "scrolled": false,
    "slideshow": {
     "slide_type": "fragment"
    }
   },
   "outputs": [],
   "source": [
    "from random import randint\n",
    "rejouer = True\n",
    "perdu = True\n",
    "while rejouer and perdu:\n",
    "    tirage = randint(0,1)\n",
    "    nombre_choisi = int(input(\"Pile (1) ou face (0) ? \"))\n",
    "    if tirage == nombre_choisi:\n",
    "        perdu = False\n",
    "    else:\n",
    "        print(\"Perdu.\")\n",
    "        reponse = input(\"Voulez-vous rejouer ? [o/n]\")\n",
    "        if reponse == \"n\":\n",
    "            rejouer = False\n",
    "if not perdu:\n",
    "    print(\"Gagné\")"
   ]
  },
  {
   "cell_type": "markdown",
   "id": "af6a4ea3",
   "metadata": {
    "slideshow": {
     "slide_type": "slide"
    }
   },
   "source": [
    "### Exemple : Compter de 1 à 100"
   ]
  },
  {
   "cell_type": "code",
   "execution_count": null,
   "id": "8c7e4c82",
   "metadata": {
    "scrolled": true,
    "slideshow": {
     "slide_type": "-"
    }
   },
   "outputs": [],
   "source": [
    "# à corriger !\n",
    "i = 0\n",
    "while i < 100:\n",
    "    print(i+1, end=\" \")\n",
    "    i = i + 1  # ou bien : i += 1"
   ]
  },
  {
   "cell_type": "markdown",
   "id": "a27e9f2c",
   "metadata": {
    "slideshow": {
     "slide_type": "subslide"
    }
   },
   "source": [
    "#### Exercice\n",
    "\n",
    "1. Compter de 1 à 100 par pas de 2, de 3...\n",
    "1. Compter 100 à 1 par pas de -1, de -2...\n",
    "1. Compter de `a` à `b` par pas de `c` pour `a`, `b` et `c` trois entiers quelconques. Dans quels cas a-t-on des problèmes ?"
   ]
  },
  {
   "cell_type": "code",
   "execution_count": null,
   "id": "67bee1ad",
   "metadata": {
    "scrolled": true,
    "slideshow": {
     "slide_type": "-"
    }
   },
   "outputs": [],
   "source": [
    "i = 1\n",
    "pas = 4\n",
    "while i <= 100:\n",
    "    print(i, end=\" \")\n",
    "    i = i + pas  # ou bien : i += 1"
   ]
  },
  {
   "cell_type": "code",
   "execution_count": null,
   "id": "e3661a54",
   "metadata": {
    "scrolled": true,
    "slideshow": {
     "slide_type": "-"
    }
   },
   "outputs": [],
   "source": [
    "i = 100\n",
    "pas = -4\n",
    "while i > 0:\n",
    "    print(i, end=\" \")\n",
    "    i = i + pas  # ou bien : i += 1"
   ]
  },
  {
   "cell_type": "code",
   "execution_count": null,
   "id": "849d6b1a",
   "metadata": {
    "scrolled": true,
    "slideshow": {
     "slide_type": "-"
    }
   },
   "outputs": [],
   "source": [
    "a, b, c = 27, 42, 2\n",
    "i = a\n",
    "pas = c\n",
    "while i <= b:\n",
    "    print(i, end=\" \")\n",
    "    i = i + pas  # ou bien : i += 1"
   ]
  },
  {
   "cell_type": "markdown",
   "id": "43b20442",
   "metadata": {
    "slideshow": {
     "slide_type": "subslide"
    }
   },
   "source": [
    "#### Exercice\n",
    "\n",
    "1. Simuler le lancer de 10 000 pièces et calculer la proportion de \"pile\" obtenue\n",
    "1. Simuler le lancer d'une pièce jusqu'à la première \"face\" obtenue, et afficher le nombre de lancers effectués"
   ]
  },
  {
   "cell_type": "code",
   "execution_count": null,
   "id": "fc73b03d",
   "metadata": {},
   "outputs": [],
   "source": [
    "nb_lancers = 1e6\n",
    "\n",
    "i = 1\n",
    "pile = 0\n",
    "while i <= nb_lancers :\n",
    "    lancer = randint(0, 1)\n",
    "    if lancer == 0:\n",
    "        pile += 1\n",
    "    i += 1\n",
    "print(pile/nb_lancers)"
   ]
  },
  {
   "cell_type": "markdown",
   "id": "7fd088ed",
   "metadata": {
    "slideshow": {
     "slide_type": "slide"
    }
   },
   "source": [
    "### Exemple : Jouer à pierre-feuille-ciseau"
   ]
  },
  {
   "cell_type": "code",
   "execution_count": null,
   "id": "963b70f7",
   "metadata": {
    "slideshow": {
     "slide_type": "-"
    }
   },
   "outputs": [],
   "source": [
    "from random import randint\n",
    "\n",
    "coup_humain = int(input(\"Pierre (1), feuille (2) ou ciseaux (3) ? \"))\n",
    "\n",
    "coup_ordi = randint(1, 3)\n",
    "if coup_ordi == 1:\n",
    "    print(\"L'ordinateur a joué pierre.\")\n",
    "elif coup_ordi == 2:\n",
    "    print(\"L'ordinateur a joué feuille.\")\n",
    "else:\n",
    "    print(\"L'ordinateur a joué ciseaux.\")\n",
    "\n",
    "if coup_ordi == coup_humain:\n",
    "    print(\"Égalité.\")\n",
    "elif coup_humain == (coup_ordi + 1) % 3:\n",
    "    print(\"Vous avez gagné.\")\n",
    "else:\n",
    "    print(\"Vous avez perdu.\")"
   ]
  },
  {
   "cell_type": "markdown",
   "id": "11726cd1",
   "metadata": {
    "slideshow": {
     "slide_type": "subslide"
    }
   },
   "source": [
    "#### Exercice\n",
    "\n",
    "1. Expliquer la ligne 15\n",
    "1. Expliquer ce qu'il se passe si l'humain entre 4.\n",
    "1. Proposer de rejouer une partie\n",
    "1. Afficher le nombre de parties jouées et le score final"
   ]
  },
  {
   "cell_type": "markdown",
   "id": "75d41c8a",
   "metadata": {
    "slideshow": {
     "slide_type": "slide"
    }
   },
   "source": [
    "### Répétition simple\n",
    "\n",
    "On peut répéter un bloc d'instructions grâce à une boucle « tant que » ou boucle `while`.\n",
    "\n",
    "- **Si** une certaine condition est vraie,\n",
    "  on va exécuter un certain bloc d'instructions ;\n",
    "- **Sinon**, on va passer directement à la suite du programme ;\n",
    "- Après chaque exécution du bloc, on réévalue la condition."
   ]
  },
  {
   "cell_type": "markdown",
   "id": "7f3bc950",
   "metadata": {
    "slideshow": {
     "slide_type": "subslide"
    }
   },
   "source": [
    "**Vocabulaire :**\n",
    "\n",
    "- L'expression booléenne `condition` est appelée **condition de continuation**.\n",
    "- Sa négation (`not condition`) est appelée **condition d'arrêt**.\n",
    "- Le bloc d'instructions est appelé **corps de la boucle**.\n",
    "- Chaque exécution du corps de la boucle est appelée **itération**."
   ]
  },
  {
   "cell_type": "markdown",
   "id": "a2e50b3a",
   "metadata": {
    "slideshow": {
     "slide_type": "subslide"
    }
   },
   "source": [
    "<img src='img/while1.png' width='30%'>"
   ]
  },
  {
   "cell_type": "markdown",
   "id": "05c458c8",
   "metadata": {
    "slideshow": {
     "slide_type": "subslide"
    }
   },
   "source": [
    "**Syntaxe :**\n",
    "\n",
    "```python\n",
    "# début\n",
    "while condition:\n",
    "    # bloc d'instructions\n",
    "    # (corps de la boucle)\n",
    "# suite\n",
    "```"
   ]
  },
  {
   "cell_type": "markdown",
   "id": "6ffcccf4",
   "metadata": {
    "slideshow": {
     "slide_type": "subslide"
    }
   },
   "source": [
    "- `condition` est une **expression booléenne**\n",
    "- corps exécuté uniquement si `condition` s'évalue à `True`\n",
    "- après chaque exécution du corps, on réévalue `condition`\n",
    "    - si `condition` s'évalue à `False`, sortie de la boucle\n",
    "    - sinon, nouvelle **itération**\n",
    "\n",
    "Il peut n'y avoir aucune itération, ou un nombre infini !\n",
    "\n",
    "(<a href=\"#nav\"> vers la navigation </a>)"
   ]
  },
  {
   "cell_type": "markdown",
   "id": "b7459100",
   "metadata": {
    "slideshow": {
     "slide_type": "slide"
    }
   },
   "source": [
    "### Outil d'analyse : tableau de valeurs\n",
    "\n",
    "Utile pour exécuter manuellement une boucle\n",
    "\n",
    "- Une colonne pour indiquer le numéro de la dernière ligne du programme exécutée\n",
    "- Une colonne pour indiquer le nombre d'itérations exécutées\n",
    "- Une colonne par variable \"intéressante\"\n",
    "- Une colonne pour la condition de continuation\n",
    "- Éventuellement des colonnes explicatives supplémentaires\n",
    "\n",
    "On remplit le tableau au moins pour **la ligne précédant la boucle** et pour **la dernière ligne du corps**"
   ]
  },
  {
   "cell_type": "markdown",
   "id": "0cb02dc6",
   "metadata": {
    "slideshow": {
     "slide_type": "slide"
    }
   },
   "source": [
    "### Exemple : Calculer $a^p$\n",
    "\n",
    "On veut calculer $2^n$ (sans utiliser `**`).\n",
    "\n",
    "Algorithme naïf : on remarque que $2^n = 2^{n-1} \\times 2 = 1 \\times 2 \\times 2 \\times \\cdots \\times 2$\n",
    "\n",
    "1. on commence par fixer le résultat à 1\n",
    "2. on multiplie le résultat par 2 `n` fois"
   ]
  },
  {
   "cell_type": "code",
   "execution_count": 2,
   "id": "ba179e8c",
   "metadata": {
    "scrolled": true,
    "slideshow": {
     "slide_type": "fragment"
    }
   },
   "outputs": [
    {
     "name": "stdout",
     "output_type": "stream",
     "text": [
      "2 puissance 4 égale 16\n"
     ]
    }
   ],
   "source": [
    "a = 2\n",
    "p = 4\n",
    "res = 1  # pourquoi ?\n",
    "i = 0\n",
    "while i < p:\n",
    "    res = res * a\n",
    "    i = i + 1\n",
    "print(a, \"puissance\", p, \"égale\", res)"
   ]
  },
  {
   "cell_type": "markdown",
   "id": "97e4a4d0",
   "metadata": {
    "slideshow": {
     "slide_type": "subslide"
    }
   },
   "source": [
    "ligne  | itération | `a` | `p` | `res` |  `i` | `i < p` | commentaire\n",
    "-------|-----------|-----|-----|-------|------|---------|-----------------------------\n",
    "1      |           | 2   |     |       |      |         |\n",
    "2      |           | -   | 4   |       |      |         |\n",
    "3      |           | -   | -   | 1     |      |         |\n",
    "4      |           | -   | -   | -     | 0    | `True`  | \n",
    "5      |           | -   | -   | -     | -    | `True`  | condition vraie, on entre\n",
    "6      | 1         | -   | -   | 2     | -    | `True`  | \n",
    "7      | 1         | -   | -   | -     | 1    | `True`  | fin de la 1e itération\n",
    "5      |           | -   | -   | -     | -    | `True`  | condition vraie, on continue\n",
    "6      | 2         | -   | -   | 4     | -    | `True`  | \n",
    "7      | 2         | -   | -   | -     | 2    | `True`  | fin de la 2e itération\n",
    "5      |           | -   | -   | -     | -    | `True`  | condition vraie, on continue\n",
    "6      | 3         | -   | -   | 8     | -    | `True`  | \n",
    "7      | 3         | -   | -   | -     | 3    | `True`  | fin de la 3e itération\n",
    "5      |           | -   | -   | -     | -    | `True`  | condition vraie, on continue\n",
    "6      | 4         | -   | -   | 16    | -    | `True`  | \n",
    "7      | 4         | -   | -   | -     | 4    | `False` | fin de la 4e itération\n",
    "5      |           | -   | -   | -     | -    | `False` | condition fausse, on arrête\n",
    "8      |           | -   | -   | -     | -    | `False` | suite du programme"
   ]
  },
  {
   "cell_type": "markdown",
   "id": "de48d3c7",
   "metadata": {
    "slideshow": {
     "slide_type": "subslide"
    }
   },
   "source": [
    "**Remarques :**\n",
    "- après la ligne 4 et chaque exécution de la ligne 7 on a `res == a**i`\n",
    "- `i` se rapproche de `p` à chaque tour sans le dépasser"
   ]
  },
  {
   "cell_type": "markdown",
   "id": "0a92b6ae",
   "metadata": {
    "slideshow": {
     "slide_type": "subslide"
    }
   },
   "source": [
    "Version \"compacte\" sans regarder toutes les lignes ni les variables qui ne changent pas :\n",
    "\n",
    "ligne  | itération | `res` |  `i` | `i < p` | commentaire\n",
    "-------|-----------|-------|------|---------|-----------------------------\n",
    "4      |           | 1     | 0    | `True`  | juste avant la première itération\n",
    "7      | 1         | 2     | 1    | `True`  | à la fin de la 1e itération\n",
    "7      | 2         | 4     | 2    | `True`  | à la fin de la 2e itération\n",
    "7      | 3         | 8     | 3    | `True`  | à la fin de la 3e itération\n",
    "7      | 4         | 16    | 4    | `False` | à la fin de la 4e itération (sortie)"
   ]
  },
  {
   "cell_type": "markdown",
   "id": "ae3ca4e8",
   "metadata": {
    "slideshow": {
     "slide_type": "subslide"
    }
   },
   "source": [
    "**Remarques :**\n",
    "- pendant tout le programme `a` vaut `2` et `p` vaut `4`\n",
    "- après la ligne 4 et chaque exécution de la ligne 7 on a `res == a**i`\n",
    "- `i` se rapproche de `p` à chaque tour sans le dépasser\n",
    "- à la fin de la dernière itération `i == p` et donc `res == a**p`"
   ]
  },
  {
   "cell_type": "markdown",
   "id": "72cc5026",
   "metadata": {
    "slideshow": {
     "slide_type": "skip"
    }
   },
   "source": [
    "#### Variante"
   ]
  },
  {
   "cell_type": "code",
   "execution_count": null,
   "id": "d43289fd",
   "metadata": {
    "scrolled": true,
    "slideshow": {
     "slide_type": "skip"
    }
   },
   "outputs": [],
   "source": [
    "a = 2\n",
    "p = 4\n",
    "res = 1\n",
    "i = p  # changement !\n",
    "while i > 0:  # changement !\n",
    "    res *= a\n",
    "    i -= 1  # changement !\n",
    "print(a, \"puissance\", p, \"égale\", res)"
   ]
  },
  {
   "cell_type": "markdown",
   "id": "c41e8b2f",
   "metadata": {
    "slideshow": {
     "slide_type": "skip"
    }
   },
   "source": [
    "Tableau de valeurs compact :\n",
    "\n",
    "ligne  | itération | res  |  i   | i > 0   | commentaire\n",
    "-------|-----------|------|------|---------|-----------------------------\n",
    "4      |           | 1    | 4    | `True`  | avant la première itération\n",
    "7      | 1         | 2    | 3    | `True`  |\n",
    "7      | 2         | 4    | 2    | `True`  |\n",
    "7      | 3         | 8    | 1    | `True`  |\n",
    "7      | 4         | 16   | 0    | `False` | sortie de la boucle"
   ]
  },
  {
   "cell_type": "markdown",
   "id": "5f9e5797",
   "metadata": {
    "slideshow": {
     "slide_type": "skip"
    }
   },
   "source": [
    "**Remarques :**\n",
    "- pendant tout le programme `a` vaut `2` et `p` vaut `4`\n",
    "- après la ligne 4 et chaque exécution de la ligne 7 on a `res == a**(p-i)`\n",
    "- la valeur de `i` est positive au début et décroît strictement\n",
    "- à la fin de la dernière itération `i == 0` et donc `res == a**(p-0) == a**p`"
   ]
  },
  {
   "cell_type": "markdown",
   "id": "ea601dbb",
   "metadata": {
    "slideshow": {
     "slide_type": "slide"
    }
   },
   "source": [
    "(<a href=\"#nav\"> vers la navigation </a>)\n",
    "\n",
    "### Terminaison et correction d'une boucle\n",
    "\n",
    "En général rien ne garantit :\n",
    "\n",
    "- qu'une boucle `while` va se terminer un jour\n",
    "\n",
    "    ```python\n",
    "    while(True):\n",
    "        print(\"spam\")\n",
    "    ```\n",
    "    \n",
    "- ni qu'elle produit le bon effet\n",
    "\n",
    "Pour cela il faut en général faire des **preuves**\n",
    "\n",
    "Les deux sections suivantes présentent des méthodes classiques pour présenter ces preuves : elles ne sont pas exigibles au contrôle. Néanmoins intéressantes et importantes, elles seront d'ailleurs détaillées dans le cours *Algorithmique et structures de données* en L2."
   ]
  },
  {
   "cell_type": "markdown",
   "id": "91bddf3f",
   "metadata": {
    "slideshow": {
     "slide_type": "subslide"
    }
   },
   "source": [
    "#### <img src='img/non-exigible.png' width='50px' style='display:inline'> Preuve de terminaison : variant\n",
    "\n",
    "Méthode possible pour montrer qu'une boucle termine\n",
    "\n",
    "- montrer qu'une certaine quantité décroît strictement à chaque tour de boucle\n",
    "- montrer qu'elle ne peut pas décroître indéfiniment\n",
    "\n",
    "On appelle une telle quantité **variant de boucle**, son existence garantit la terminaison"
   ]
  },
  {
   "cell_type": "markdown",
   "id": "b1efdb8a",
   "metadata": {
    "slideshow": {
     "slide_type": "subslide"
    }
   },
   "source": [
    "#### Exemple : algorithme d'Euclide\n",
    "\n",
    "Algorithme de l'antiquité permettant de déterminer le PGCD de deux nombres entiers"
   ]
  },
  {
   "cell_type": "code",
   "execution_count": null,
   "id": "7ef3b465",
   "metadata": {
    "slideshow": {
     "slide_type": "-"
    }
   },
   "outputs": [],
   "source": [
    "a0, b0 = 129, 36  # entiers positifs quelconques\n",
    "\n",
    "a, b = a0, b0\n",
    "while b > 0:\n",
    "    r = a % b\n",
    "    a = b\n",
    "    b = r\n",
    "\n",
    "print(\"le pgcd de\", a0, \"et\", b0, \"est\", a)"
   ]
  },
  {
   "cell_type": "markdown",
   "id": "1f948f44",
   "metadata": {
    "slideshow": {
     "slide_type": "subslide"
    }
   },
   "source": [
    "Pourquoi l'algorithme termine-t-il ?\n",
    "\n",
    "- on peut choisir comme variant la **valeur de `b`**\n",
    "- initialement, `b > 0`\n",
    "- la boucle ne s'exécute pas si `b <= 0`\n",
    "- la valeur de `b` décroît strictement\n",
    "\n",
    "Comme il ne peut exister de suite infinie strictement décroissante d'entiers positifs, la boucle termine"
   ]
  },
  {
   "cell_type": "markdown",
   "id": "aa222ca2",
   "metadata": {
    "slideshow": {
     "slide_type": "subslide"
    }
   },
   "source": [
    "On peut repérer le variant dans le **tableau de valeurs**\n",
    "\n",
    "ligne  | itération | `a` | `b` | `a % b` | commentaire\n",
    "-------|-----------|-----|-----|---------|------------------------\n",
    "3      |           | 129 | 36  | 21      | avant la boucle\n",
    "7      | 1         | 36  | 21  | 15      | fin de 1e itération\n",
    "7      | 2         | 21  | 15  | 6       | ...\n",
    "7      | 3         | 16  | 6   | 3       |\n",
    "7      | 4         | 6   | 3   | 0       | \n",
    "7      | 5         | 3   | 0   | -       | on va sortir de la boucle"
   ]
  },
  {
   "cell_type": "markdown",
   "id": "99cd38b7",
   "metadata": {
    "slideshow": {
     "slide_type": "-"
    }
   },
   "source": [
    "**Variant :** la valeur de `b` est positive au début et décroît strictement"
   ]
  },
  {
   "cell_type": "markdown",
   "id": "870e828b",
   "metadata": {
    "slideshow": {
     "slide_type": "slide"
    }
   },
   "source": [
    "#### <img src='img/non-exigible.png' width='50px' style='display:inline'> Preuve de correction : invariant\n",
    "\n",
    "Méthode possible pour montrer qu'une boucle produit le bon effet :\n",
    "\n",
    "- montrer qu'une certaine propriété $I$ est vraie avant l'entrée dans la boucle\n",
    "- montrer que **si** $I$ est vraie au début du corps **alors** elle est encore vraie à la fin\n",
    "- en déduire que $I$ est vraie à la sortie de la boucle\n",
    "\n",
    "On appelle une telle propriété **invariant**, son existence peut permettre de garantir la correction"
   ]
  },
  {
   "cell_type": "markdown",
   "id": "79362405",
   "metadata": {
    "slideshow": {
     "slide_type": "slide"
    }
   },
   "source": [
    "#### Exemple : retour sur le calcul de puissance\n",
    "\n"
   ]
  },
  {
   "cell_type": "code",
   "execution_count": null,
   "id": "96868efa",
   "metadata": {
    "scrolled": true,
    "slideshow": {
     "slide_type": "subslide"
    }
   },
   "outputs": [],
   "source": [
    "a = 2\n",
    "p = 4\n",
    "res = 1\n",
    "i = 0\n",
    "while i < p:\n",
    "    res *= a\n",
    "    i += 1\n",
    "print(a, \"puissance\", p, \"égale\", res)"
   ]
  },
  {
   "cell_type": "markdown",
   "id": "ae967fe9",
   "metadata": {
    "slideshow": {
     "slide_type": "subslide"
    }
   },
   "source": [
    "ligne  | itération | `res` |  `i` | `i < p` | commentaire\n",
    "-------|-----------|-------|------|---------|-----------------------------\n",
    "4      |           | 1     | 0    | `True`  | juste avant la première itération\n",
    "7      | 1         | 2     | 1    | `True`  | à la fin de la 1e itération\n",
    "7      | 2         | 4     | 2    | `True`  | à la fin de la 2e itération\n",
    "7      | 3         | 8     | 3    | `True`  | à la fin de la 3e itération\n",
    "7      | 4         | 16    | 4    | `False` | à la fin de la 4e itération (sortie)"
   ]
  },
  {
   "cell_type": "markdown",
   "id": "39a1ba67",
   "metadata": {
    "slideshow": {
     "slide_type": "subslide"
    }
   },
   "source": [
    "**Remarques :**\n",
    "- **Variant :** `p - i` décroît de 1 à chaque tour et la boucle s'arrête quand il atteint `0`\n",
    "- **Invariant :** après la ligne 4 et chaque exécution de la ligne 7 on a `res == a**i`\n",
    "- **En sortie de boucle :** `i == p` et donc `res == a**p`"
   ]
  },
  {
   "cell_type": "markdown",
   "id": "f1354334",
   "metadata": {
    "slideshow": {
     "slide_type": "skip"
    }
   },
   "source": [
    "#### Variante"
   ]
  },
  {
   "cell_type": "code",
   "execution_count": null,
   "id": "47bf4bb4",
   "metadata": {
    "scrolled": true,
    "slideshow": {
     "slide_type": "skip"
    }
   },
   "outputs": [],
   "source": [
    "a = 2\n",
    "p = 4\n",
    "res = 1\n",
    "i = p\n",
    "while i > 0:\n",
    "    res *= a\n",
    "    i -= 1\n",
    "print(a, \"puissance\", p, \"égale\", res)"
   ]
  },
  {
   "cell_type": "markdown",
   "id": "93364478",
   "metadata": {
    "slideshow": {
     "slide_type": "skip"
    }
   },
   "source": [
    "ligne  | itération | `res` | `i`  | `i > 0` | commentaire\n",
    "-------|-----------|-------|------|---------|-----------------------------\n",
    "4      |           | 1     | 4    | `True`  | avant la première itération\n",
    "7      | 1         | 2     | 3    | `True`  |\n",
    "7      | 2         | 4     | 2    | `True`  |\n",
    "7      | 3         | 8     | 1    | `True`  |\n",
    "7      | 4         | 16    | 0    | `False` | sortie de la boucle"
   ]
  },
  {
   "cell_type": "markdown",
   "id": "2bb7736d",
   "metadata": {
    "slideshow": {
     "slide_type": "skip"
    }
   },
   "source": [
    "**Remarques :**\n",
    "- **Variant :** `i` décroît de 1 à chaque tour et la boucle s'arrête quand il atteint 0\n",
    "- **Invariant :** après la ligne 4 et chaque exécution de la ligne 7 on a `res == a**(p-i)`\n",
    "- **En sortie de boucle :** `i == 0` et donc `res == a**(p-0) == a**p`"
   ]
  },
  {
   "cell_type": "markdown",
   "id": "000b5421",
   "metadata": {
    "slideshow": {
     "slide_type": "skip"
    }
   },
   "source": [
    "#### Exemple : encadrer un nombre\n",
    "\n",
    "On veut encadrer un nombre positif $n$ entre deux puissances successives d'un nombre $b$. On cherche l'unique entier $k$ tel que :\n",
    "\n",
    "$$\n",
    "b^k \\leq n < b^{k+1}\n",
    "$$\n",
    "\n",
    "On appelle parfois $k$ le *logarithme entier* de $n$ en base $b$, parce que\n",
    "\n",
    "$$\n",
    "k \\leq \\log_b n < k+1\n",
    "$$"
   ]
  },
  {
   "cell_type": "markdown",
   "id": "471a438a",
   "metadata": {
    "slideshow": {
     "slide_type": "skip"
    }
   },
   "source": [
    "Par exemple :\n",
    "\n",
    "- pour $b = 10$ on a $10^3 \\leq 1024 < 10^4$, donc $k = 3$.\n",
    "- pour $b = 2$ on a $2^{10} \\leq 1024 < 2^{11}$, donc $k = 10$."
   ]
  },
  {
   "cell_type": "code",
   "execution_count": null,
   "id": "dc9fdf8c",
   "metadata": {
    "slideshow": {
     "slide_type": "skip"
    }
   },
   "outputs": [],
   "source": [
    "n = 1000  # le nombre à encadrer\n",
    "b = 10    # base de la puissance\n",
    "exp = 0   # exposant courant\n",
    "temp = 1  # valeurs successives de b**exp\n",
    "while temp <= n:\n",
    "    temp *= b\n",
    "    exp += 1\n",
    "print(\"le plus petit k tel que\", b, \"à la puissance k \" \n",
    "      \"est inférieur ou égal à\", n, \"est\", exp-1)  # compléter"
   ]
  },
  {
   "cell_type": "markdown",
   "id": "c5970d50",
   "metadata": {
    "slideshow": {
     "slide_type": "skip"
    }
   },
   "source": [
    "ligne  | temp  | exp  | temp < n | commentaire\n",
    "-------|-------|------|----------|-----------------------------\n",
    "4      | 1     | 0    | `True`   | avant la première itération\n",
    "7      | 10    | 1    | `True`   |\n",
    "7      | 100   | 2    | `True`   |\n",
    "7      | 1000  | 3    | `True`   |\n",
    "7      | 10000 | 4    | `False`  | on sort de la boucle\n",
    "\n",
    "- **Variant :** `n - temp` initialement $\\geq 0$, diminue à chaque tour\n",
    "- **Invariant** (simplifié) lignes 4 et 7 : `temp == 10**exp` et `10**(exp-1) <= n`\n",
    "- **À la fin:** `10**(exp-1) <= n` et `10**exp > n`, autrement dit `10**(exp-1) <= n < 10**exp`"
   ]
  },
  {
   "cell_type": "markdown",
   "id": "7ea694e0",
   "metadata": {
    "slideshow": {
     "slide_type": "skip"
    }
   },
   "source": [
    "#### Exemple : convertir un nombre en binaire\n",
    "\n",
    "Le nombre 42 s'écrit `101010` en binaire parce que\n",
    "\n",
    "$$\n",
    "\\begin{align*}\n",
    "42 & = 0 + 2 \\times 21\\\\\n",
    "   & = 0 + 2 \\times (1 + 2 \\times 10))\\\\\n",
    "   & = \\ldots\\\\\n",
    "   & = 0 + 2 \\times (1 + 2 \\times (0 + 2 \\times (1 + 2 \\times (0 + 2 \\times (1 + 2 \\times 0)))))\\\\\n",
    "   & = 0 \\times 2^0 + 1 \\times 2^1 + 0 \\times 2^2 + 1 \\times 2^3 + 0 \\times 2^4 + 1 \\times 2^5\n",
    "\\end{align*}\n",
    "$$"
   ]
  },
  {
   "cell_type": "code",
   "execution_count": null,
   "id": "4a707e0b",
   "metadata": {
    "slideshow": {
     "slide_type": "skip"
    }
   },
   "outputs": [],
   "source": [
    "bin(42)"
   ]
  },
  {
   "cell_type": "markdown",
   "id": "3f0ff609",
   "metadata": {
    "slideshow": {
     "slide_type": "skip"
    }
   },
   "source": [
    "Algorithme de conversion de $n>0$ en binaire :\n",
    "\n",
    "1. Calculer le quotient $q$ et le reste $r$ de $n$ par 2\n",
    "2. Ajouter $r$ comme nouveau chiffre à **gauche** du résultat\n",
    "3. Poser $n = q$ et recommencer en 1 si $n > 0$"
   ]
  },
  {
   "cell_type": "markdown",
   "id": "5c941c70",
   "metadata": {
    "slideshow": {
     "slide_type": "skip"
    }
   },
   "source": [
    "Suite de l'exemple :\n",
    "\n",
    "\\begin{align*}\n",
    "& 42 & & = 2 * 21 & & + 0 & & \\rightarrow \\text{chiffre } 0\\\\\n",
    "& 21 & & = 2 * 10 & & + 1 & & \\rightarrow \\text{chiffre } 1\\\\\n",
    "& 10 & & = 2 * 5 & & + 0 & & \\rightarrow \\text{chiffre } 0\\\\\n",
    "& 5 & & = 2 * 2 & & + 1 & & \\rightarrow \\text{chiffre } 1\\\\\n",
    "& 2 & & = 2 * 1 & & + 0 & & \\rightarrow \\text{chiffre } 0\\\\\n",
    "& 1 & & = 2 * 0 & & + 1 & & \\rightarrow \\text{chiffre } 1\\\\\n",
    "\\end{align*}"
   ]
  },
  {
   "cell_type": "code",
   "execution_count": null,
   "id": "edaba827",
   "metadata": {
    "slideshow": {
     "slide_type": "skip"
    }
   },
   "outputs": [],
   "source": [
    "n = 42\n",
    "k = n\n",
    "res = \"\"  # on utilise une chaîne\n",
    "while k > 0:\n",
    "    q = k // 2\n",
    "    r = k % 2\n",
    "    res = str(r) + res\n",
    "    k = q\n",
    "print(res)"
   ]
  },
  {
   "cell_type": "markdown",
   "id": "d77b3180",
   "metadata": {
    "slideshow": {
     "slide_type": "skip"
    }
   },
   "source": [
    "ligne  | itér  | `k`   | `r` | `res`      | $\\texttt{k}\\times2^{\\text{itér}}$ | val. `res` | `k > 0`  | commentaire\n",
    "-------|-------|-------|-----|------------|----------------------------|------------|----------|-----------------------------\n",
    "3      | 0     | 42    |     | `''`       | $42\\times2^0=42$ | 0          | `True`   | avant la première itération\n",
    "8      | 1     | 21    | 0   | `'0'`      | $21\\times2^1=42$        | 0          | `True`   | fin de la 1e itération\n",
    "8      | 2     | 10    | 1   | `'10'`     | $10\\times2^2=40$        | 2          | `True`   |\n",
    "8      | 3     | 5     | 0   | `'010'`    | $5\\times2^3=40$         | 2          | `True`   |\n",
    "8      | 4     | 2     | 1   | `'1010'`   | $2\\times2^4=32$         | 10         | `True`   |\n",
    "8      | 5     | 1     | 0   | `'01010'`  | $1\\times2^5=32$         | 10         | `True`   |\n",
    "8      | 6     | 0     | 1   | `'101010'` | $0\\times2^6=32$         | 42         | `False`  | sortie de la boucle\n",
    "\n",
    "- **Invariant** : `res` contient les (nombre d'itérations) derniers chiffres de la conversion de `n` en binaire  \n",
    "  <div style='color:gray'>$k \\times\\, 2^\\text{(itér)} +$ (valeur de res) $= n$</div>\n",
    "- **Variant :** `n - temp` initialement $\\geq 0$, diminue à chaque tour"
   ]
  },
  {
   "cell_type": "markdown",
   "id": "782935df",
   "metadata": {
    "slideshow": {
     "slide_type": "skip"
    }
   },
   "source": [
    "**Exercice :**\n",
    "- dresser le tableau de valeurs pour $n = 25$\n",
    "- adapter l'algorithme pour convertir $n$ en base 4, puis en base $b < 10$\n",
    "\n",
    "  ref : [Compter comme les Shadoks](https://www.youtube.com/watch?v=lP9PaDs2xgQ)"
   ]
  },
  {
   "cell_type": "markdown",
   "id": "fd10ddf0",
   "metadata": {
    "slideshow": {
     "slide_type": "skip"
    }
   },
   "source": [
    "**Exercice :** quel est l'invariant de boucle pour l'algorithme d'Euclide ?"
   ]
  },
  {
   "cell_type": "markdown",
   "id": "bdad7095",
   "metadata": {
    "slideshow": {
     "slide_type": "slide"
    }
   },
   "source": [
    "(<a href=\"#nav\"> vers la navigation </a>)\n",
    "\n",
    "### Boucles imbriquées <a name = \"boucles_imbriquees\"></a>"
   ]
  },
  {
   "cell_type": "markdown",
   "id": "f221f08d",
   "metadata": {
    "slideshow": {
     "slide_type": "-"
    }
   },
   "source": [
    "On peut écrire une boucle à l'intérieur d'une autre boucle"
   ]
  },
  {
   "cell_type": "markdown",
   "id": "a88f777c",
   "metadata": {
    "slideshow": {
     "slide_type": "subslide"
    }
   },
   "source": [
    "<img src='img/while2.png' width='40%'>"
   ]
  },
  {
   "cell_type": "markdown",
   "id": "82aee3a8",
   "metadata": {
    "slideshow": {
     "slide_type": "subslide"
    }
   },
   "source": [
    "La syntaxe d'une double boucle `while` :\n",
    "```python\n",
    "# début\n",
    "while condition1:\n",
    "    # début corps 1\n",
    "    while condition2:\n",
    "        # corps 2\n",
    "    # fin corps 1\n",
    "# suite\n",
    "```"
   ]
  },
  {
   "cell_type": "markdown",
   "id": "57da7882",
   "metadata": {
    "slideshow": {
     "slide_type": "subslide"
    }
   },
   "source": [
    "#### Exemple : table d'addition\n",
    "\n",
    "But : afficher toutes les additions de nombres inférieurs à `n`"
   ]
  },
  {
   "cell_type": "code",
   "execution_count": null,
   "id": "4c77621c",
   "metadata": {
    "slideshow": {
     "slide_type": "-"
    }
   },
   "outputs": [],
   "source": [
    "m = 3\n",
    "n = 11\n",
    "\n",
    "a = 0  # hors de la boucle externe !\n",
    "while a < m:\n",
    "    b = 0  # dans la boucle externe !\n",
    "    while b < n:\n",
    "        print(a, '+', b, '=', a+b)\n",
    "        b += 1  # dans la boucle interne !\n",
    "    a += 1  # dans la boucle externe !"
   ]
  },
  {
   "cell_type": "markdown",
   "id": "0c878c96",
   "metadata": {
    "slideshow": {
     "slide_type": "skip"
    }
   },
   "source": [
    "**Exercices :** \n",
    "1. afficher toutes les additions `a + b = c` pour `a` entre 0 et `n` et `b` entre 0 et `m`\n",
    "2. essayer d'écrire le programme en utilisant une seule boucle (*non recommandé en temps normal !*)"
   ]
  },
  {
   "cell_type": "markdown",
   "id": "705bd802",
   "metadata": {
    "slideshow": {
     "slide_type": "skip"
    }
   },
   "source": [
    "#### Exemple : compter jusqu'à 59, dix nombres par ligne "
   ]
  },
  {
   "cell_type": "code",
   "execution_count": null,
   "id": "8fb4a7ac",
   "metadata": {
    "slideshow": {
     "slide_type": "skip"
    }
   },
   "outputs": [],
   "source": [
    "# paramètres\n",
    "limite = 60\n",
    "nb_colonnes = 7\n",
    "\n",
    "courant = 0\n",
    "while courant < limite:\n",
    "    colonne = 0\n",
    "    while colonne < nb_colonnes and courant < limite:\n",
    "        print(courant, end = '\\t')\n",
    "        colonne += 1\n",
    "        courant += 1\n",
    "    print()  # affiche un retour à la ligne"
   ]
  },
  {
   "cell_type": "markdown",
   "id": "d607e8dc",
   "metadata": {
    "slideshow": {
     "slide_type": "skip"
    }
   },
   "source": [
    "**Exercice :** (pas si évident) faire en sorte que les nombres successifs apparaissent sur une même colonne"
   ]
  },
  {
   "cell_type": "code",
   "execution_count": null,
   "id": "eee58386",
   "metadata": {
    "slideshow": {
     "slide_type": "skip"
    }
   },
   "outputs": [],
   "source": [
    "# paramètres\n",
    "limite = 37\n",
    "nb_colonnes = 10\n",
    "\n",
    "nb_lignes = limite // nb_colonnes + 1\n",
    "ligne = 0\n",
    "while ligne < nb_lignes:\n",
    "    colonne = 0\n",
    "    courant = ligne\n",
    "    while courant < limite and colonne < nb_colonnes:\n",
    "        print(courant, end = '\\t')\n",
    "        courant += nb_lignes\n",
    "        colonne += 1\n",
    "    ligne += 1\n",
    "    print()  # affiche un retour à la ligne"
   ]
  },
  {
   "cell_type": "markdown",
   "id": "04b199d2",
   "metadata": {
    "slideshow": {
     "slide_type": "skip"
    }
   },
   "source": [
    "(<a href=\"#nav\"> vers la navigation </a>)\n",
    "\n",
    "### <img src='img/non-exigible.png' width='50px' style='display:inline'> Contrôle de boucle \n",
    "\n",
    "Tout ce qui suit est *non exigible en contrôle*.\n",
    "\n",
    "#### Instruction `break`"
   ]
  },
  {
   "cell_type": "markdown",
   "id": "df40aafb",
   "metadata": {
    "slideshow": {
     "slide_type": "skip"
    }
   },
   "source": [
    "On peut sortir prématurément d’une boucle `while`\n",
    "- Instruction `break` dans le corps (en général dans une conditionnelle)\n",
    "- Force une sortie de boucle et passe directement à la suite du programme\n",
    "- On ne réévalue pas la condition du `while`\n",
    "  "
   ]
  },
  {
   "cell_type": "markdown",
   "id": "41ba9daf",
   "metadata": {
    "slideshow": {
     "slide_type": "skip"
    }
   },
   "source": [
    "<img src='img/while3.png' width='30%'>"
   ]
  },
  {
   "cell_type": "markdown",
   "id": "7a537deb",
   "metadata": {
    "slideshow": {
     "slide_type": "skip"
    }
   },
   "source": [
    "**Exemple :** saisie contrôlée sans duplication de l'instruction `input` :"
   ]
  },
  {
   "cell_type": "code",
   "execution_count": null,
   "id": "b98f8b0a",
   "metadata": {
    "slideshow": {
     "slide_type": "skip"
    }
   },
   "outputs": [],
   "source": [
    "while True:\n",
    "    note_cc1 = float(input('Note du premier contrôle : '))\n",
    "    if 0 <= note_cc1 <= 20:\n",
    "        # saisie correcte, on termine la boucle\n",
    "        break\n",
    "    # saisie incorrecte, on recommence\n",
    "    print('Erreur de saisie.')"
   ]
  },
  {
   "cell_type": "markdown",
   "id": "18c48869",
   "metadata": {
    "slideshow": {
     "slide_type": "skip"
    }
   },
   "source": [
    "#### Instruction `continue`"
   ]
  },
  {
   "cell_type": "markdown",
   "id": "232cb06a",
   "metadata": {
    "slideshow": {
     "slide_type": "skip"
    }
   },
   "source": [
    "On peut passer prématurément à l’itération suivante\n",
    "- Instruction `continue` dans le corps de la boucle\n",
    "- On retourne directement à la condition, et on la réévalue"
   ]
  },
  {
   "cell_type": "code",
   "execution_count": null,
   "id": "ca756a83",
   "metadata": {
    "slideshow": {
     "slide_type": "skip"
    }
   },
   "outputs": [],
   "source": [
    "while True:\n",
    "    saisie = input(\"Dis-moi quelque chose : \")\n",
    "    if saisie == \"\":\n",
    "        print(\"Tu n'as rien dit !\")\n",
    "        continue\n",
    "    if saisie == \"je réfléchis\":  # elif inutile ici !\n",
    "        print(\"OK, j'attends...\")\n",
    "        continue\n",
    "    if saisie == \"stop\":  # elif inutile ici !\n",
    "        print(\"D'accord...\")\n",
    "        break\n",
    "    if saisie == \"arrête\":  # elif inutile ici !\n",
    "        print(\"C'est bon, j'ai compris !\")\n",
    "        break\n",
    "    # else inutile ici !\n",
    "    print(\"Ta phrase fait\", len(saisie), \"caractères.\")"
   ]
  },
  {
   "cell_type": "markdown",
   "id": "92145485",
   "metadata": {
    "slideshow": {
     "slide_type": "skip"
    }
   },
   "source": [
    "#### Remarques sur `break` et `continue`\n",
    "\n",
    "- Ces deux instructions ne sont à utiliser que par des programmeurs confirmés\n",
    "- Elles compliquent en général la compréhension et l'analyse du code\n",
    "- On peut toujours s'en sortir sans (en utilisant des `if`), même si ça peut rendre le code moins \"élégant\""
   ]
  },
  {
   "cell_type": "code",
   "execution_count": null,
   "id": "6c4221c5",
   "metadata": {
    "slideshow": {
     "slide_type": "skip"
    }
   },
   "outputs": [],
   "source": [
    "saisie = \"\"\n",
    "while saisie != \"stop\" and saisie != \"arrête\":\n",
    "    saisie = input(\"Dis-moi quelque chose : \")\n",
    "    if saisie == \"\":\n",
    "        print(\"Tu n'as rien dit !\")\n",
    "    elif saisie == \"je réfléchis\":\n",
    "        print(\"OK, j'attends...\")\n",
    "    else:\n",
    "        print(\"Ta phrase fait\", len(saisie), \"caractères.\")\n",
    "if saisie == \"stop\":\n",
    "    print(\"D'accord...\")\n",
    "elif saisie == \"arrête\":\n",
    "    print(\"C'est bon, j'ai compris !\")"
   ]
  },
  {
   "cell_type": "code",
   "execution_count": null,
   "id": "28d337a1",
   "metadata": {
    "slideshow": {
     "slide_type": "skip"
    }
   },
   "outputs": [],
   "source": [
    "a, b, c = ...\n",
    "\n",
    "# Calcul et affichage du nombre de solutions\n",
    "if a == b == c == 0:\n",
    "    print(\"Une infinité de solutions réelles (et complexes)\")\n",
    "elif a == b == 0:  # A ce stade, si a = b = 0, c est différent de 0 !!!\n",
    "    print(\"Aucune solution\")\n",
    "elif a == 0 :      # A ce stade, si a = 0, b est différent de 0 !!!\n",
    "    print(\"Une solution réelle\")\n",
    "else:\n",
    "    delta = b ** 2 - 4 * a * c\n",
    "    if delta < 0:\n",
    "        print(\"Pas de solution réelle\")\n",
    "    elif delta == 0:\n",
    "        print(\"Une solution réelle\")\n",
    "    else:\n",
    "        print(\"Deux solutions réelles\")"
   ]
  },
  {
   "cell_type": "markdown",
   "id": "ce81014b",
   "metadata": {},
   "source": [
    "(<a href=\"#nav\"> vers la navigation </a>)\n",
    "\n",
    "## Introduction aux listes <a name=\"intro_listes\"></a>\n",
    "\n",
    "Il arrive souvent que l'on veuille faire référence à plusieurs données en même temps (parce qu'ils sont de même type, ou parce qu'elles se rapportent au même objet, par exemple). Par ailleurs, on ne sait pas toujours quelle quantité de données on va devoir retenir pour le bon déroulé de notre programme ou algorithme. \n",
    "Difficile dans ces cas de savoir le nombre exact de variables à déclarer et initialiser !\n",
    "On a donc envie de pouvoir regrouper des données en les organisant en *collections ordonnées*, ayant en plus un caractère *dynamique* et *mutable* : on peut ajouter des éléments à notre collection à notre guise, en supprimer, en modifier...\n",
    "\n",
    "En algorithmique, on parle souvent de *tableaux*, en Python, le type correspondant est **list**, et on parlera sans arrêt de *listes*.\n",
    "\n",
    "Nous approfondirons tout cela dans la séquence de cours suivante (on verra en particulier en détail les notions de *mutabilité*, d'*itérabilité*, de boucle * for*), mais voici déjà quelques bases pour manipuler ces objets un peu spéciaux mais très utiles !\n",
    " \n",
    "Pour résumer :\n",
    "\n",
    "**Objectif :** désigner avec une seule variable une collection de valeurs\n",
    "\n",
    "**Liste :** suite **indexée** (numérotée) d'objets quelconques (type `list` en python)\n",
    "\n",
    "-   Élements \"rangés\" dans des \"cases\" numérotées de 0 à $n-1$\n",
    "\n",
    "-   En mémoire : tableau à $n$ cases, chacune contenant une référence\n",
    "    (*\"flèche\"*) vers un objet\n",
    "\n",
    "-   Peut contenir des objets de plusieurs types différents\n",
    "\n",
    "-   **Mutable** : peut être modifiée, agrandie, raccourcie..."
   ]
  },
  {
   "cell_type": "markdown",
   "id": "af9294c7",
   "metadata": {},
   "source": [
    "<div style='float:left; margin-right:40pt; width:10cm'><img src='img/commode_liste.png'> *Une métaphore* </div>\n",
    "\n",
    "<div style='float:left; margin-right:40pt; width:10cm'><img src='img/schema_list_py.png'> *Un peu plus proche de la réalité* </div>"
   ]
  },
  {
   "cell_type": "markdown",
   "id": "1e1efb67",
   "metadata": {},
   "source": [
    "### Création et affichage\n",
    "\n",
    "**Création :** suite entre `[` et `]` d'expressions séparées par `,`"
   ]
  },
  {
   "cell_type": "code",
   "execution_count": null,
   "id": "862db678",
   "metadata": {},
   "outputs": [],
   "source": [
    "lst = [3, 'toto', 4.5, False, None]\n",
    "print(lst)"
   ]
  },
  {
   "cell_type": "markdown",
   "id": "d71e13a0",
   "metadata": {},
   "source": [
    "Liste vide `[]` : liste ne contenant aucun objet"
   ]
  },
  {
   "cell_type": "code",
   "execution_count": null,
   "id": "c917e1f5",
   "metadata": {},
   "outputs": [],
   "source": [
    "lst = []\n",
    "print(lst)"
   ]
  },
  {
   "cell_type": "markdown",
   "id": "d589b824",
   "metadata": {},
   "source": [
    "Une liste peut contenir d'autres listes !"
   ]
  },
  {
   "cell_type": "code",
   "execution_count": null,
   "id": "d00f2128",
   "metadata": {},
   "outputs": [],
   "source": [
    "lst = ['test', [1, [2], 3]]\n",
    "print(lst)"
   ]
  },
  {
   "cell_type": "markdown",
   "id": "7210b89f",
   "metadata": {},
   "source": [
    "[Exemple (Python tutor)](http://pythontutor.com/visualize.html#code=%23Cr%C3%A9ation%20et%20affichage%0A%0Alst_ex1%20%3D%20%5B1,%204.5,%20'toto',%20False%5D%0A%0Alst_vide%20%3D%20%5B%5D%0A%0Alst_ex2%20%3D%20%5B1,%202,%20%5B3,'haha'%5D,%20'hoho'%5D%0A%0Aprint%28%22Le%20premier%20exemple%20%3A%20%22,lst_ex1%29%0Aprint%28%22La%20liste%20vide%20%3A%20%22,%20lst_vide%29%0Aprint%28%22Le%20deuxi%C3%A8me%20exemple%20%3A%20%22,%20lst_ex2%29%0A%0A%23Acc%C3%A8s%20%C3%A0%20un%20%C3%A9l%C3%A9ment%0Ai%20%3D%202%0Aval_ex1%20%3D%20lst_ex1%5Bi%5D%0Aval_ex2%20%3D%20lst_ex2%5Bi%5D%0Aprint%28%22Les%20%C3%A9l%C3%A9ments%20d'indice%22,%20i,%20%22sont%22,%20val_ex1,%20%22et%22,%20val_ex2%29%0A%0A%23Longueur%0Ataille_ex1%20%3D%20len%28lst_ex1%29%0Ataille_vide%20%3D%20len%28lst_vide%29%0A%0Aprint%28%22La%20longueur%20de%20lst_ex2%20est%22,%20len%28lst_ex2%29%29%0A%0A%23Modification%20d'un%20%C3%A9l%C3%A9ment%0Alst_ex1%5B0%5D%20%3D%20%22allo%3F%3F%22%0Aval_ex2%5B1%5D%20%3D%20%22blop%22%0A%0Aprint%28%22Est-ce%20que%20lst_ex2%20est%20modifi%C3%A9e%3F%5Cn%22,%20lst_ex2%29%0A%0Alst_ex2%5B2%5D%20%3D%2042%0A%0Aprint%28%22Est-ce%20que%20val_ex2%20est%20modifi%C3%A9e%3F%5Cn%22,%20val_ex2%29%0A%0A%23ajout%20d'un%20%C3%A9l%C3%A9ment%0Alst_ex1.append%28%22et%20hop%22%29%0A%23retirer%20un%20%C3%A9l%C3%A9ment%20%28case%20d'indice%202%29%0Alst_ex1.pop%282%29%0A%23%20retirer%20le%20dernier%20%C3%A9l%C3%A9ment%0Alst_ex1.pop%28%29%0A%23%20encore%20une%20fois%20sans%20perdre%20la%20valeur%20en%20route%0Ares%20%3D%20lst_ex1.pop%28%29&cumulative=false&heapPrimitives=false&mode=edit&origin=opt-frontend.js&py=3&rawInputLstJSON=%5B%5D&textReferences=false)  \n",
    "(exemple filé à exploiter tout au long du cours)"
   ]
  },
  {
   "cell_type": "markdown",
   "id": "815d159d",
   "metadata": {},
   "source": [
    "### Opérations et fonctions de base"
   ]
  },
  {
   "cell_type": "markdown",
   "id": "926aac1d",
   "metadata": {},
   "source": [
    "#### Longueur d'une liste\n",
    "\n",
    "La longueur d'une liste (le nombre d'éléments qu'elle contient) s'obtient par la fonction `len`."
   ]
  },
  {
   "cell_type": "code",
   "execution_count": null,
   "id": "31741644",
   "metadata": {},
   "outputs": [],
   "source": [
    "lst = [3, 'toto', 4.5, False, None]\n",
    "print(len(lst))"
   ]
  },
  {
   "cell_type": "code",
   "execution_count": null,
   "id": "034a815c",
   "metadata": {},
   "outputs": [],
   "source": [
    "print(len([]))"
   ]
  },
  {
   "cell_type": "markdown",
   "id": "9e8bc88f",
   "metadata": {},
   "source": [
    "#### Accès aux éléments\n",
    "\n",
    "Les éléments d'une liste à $n$ éléments sont numérotés de 0 à $n-1$.  \n",
    "Le numéro d'un élément est appelé son *indice*.  \n",
    "L'accès à un élément donné s'appelle l'**indexation**."
   ]
  },
  {
   "cell_type": "code",
   "execution_count": null,
   "id": "56263264",
   "metadata": {},
   "outputs": [],
   "source": [
    "lst = [3, 'toto', 4.5]\n",
    "print(lst[1])"
   ]
  },
  {
   "cell_type": "markdown",
   "id": "b76dfa73",
   "metadata": {},
   "source": [
    "<img src='img/warning.png' width='50px' style='display:inline'> **Attention !** \n",
    "\n",
    "- Le premier élément d'une liste est l'élément d'indice `0` !\n",
    "- Si la liste a `n` éléments, il n'existe pas d'élément d'indice `n` !\n",
    "- L'accès à un indice supérieur ou égal à la taille de la liste provoque une erreur !"
   ]
  },
  {
   "cell_type": "code",
   "execution_count": null,
   "id": "32a5fb1a",
   "metadata": {},
   "outputs": [],
   "source": [
    "lst = [3, 'toto', 4.5]\n",
    "print(lst[3])"
   ]
  },
  {
   "cell_type": "markdown",
   "id": "02ce6aa8",
   "metadata": {},
   "source": [
    "**Exercice :** Écrire une fonction qui affiche tous les éléments d'une liste (un par ligne)"
   ]
  },
  {
   "cell_type": "code",
   "execution_count": null,
   "id": "765bebeb",
   "metadata": {},
   "outputs": [],
   "source": [
    "def affiche_elements(lst):\n",
    "    ...\n",
    "\n",
    "lst = [3, 'toto', 4.5]\n",
    "affiche_elements(lst)"
   ]
  },
  {
   "cell_type": "code",
   "execution_count": null,
   "id": "4710d437",
   "metadata": {},
   "outputs": [],
   "source": [
    "def affiche_elements(lst):\n",
    "    i = 0\n",
    "    while i < len(lst):\n",
    "        print(lst[i])\n",
    "        i = i + 1\n",
    "\n",
    "\n",
    "lst = [3, 'toto', 4.5]\n",
    "affiche_elements(lst)"
   ]
  },
  {
   "cell_type": "markdown",
   "id": "aa47477d",
   "metadata": {},
   "source": [
    "#### Modification d'un élément\n",
    "\n",
    "On peut modifier le $i$-ème élément de `lst` à l'aide d'une affectation :"
   ]
  },
  {
   "cell_type": "code",
   "execution_count": null,
   "id": "335e1c3b",
   "metadata": {},
   "outputs": [],
   "source": [
    "lst = [3, 'toto', 4.5, False, None]\n",
    "print(lst[2])\n",
    "lst[2] = 'titi'\n",
    "print(lst)"
   ]
  },
  {
   "cell_type": "markdown",
   "id": "e352f4c6",
   "metadata": {},
   "source": [
    "**Attention**, ceci ne crée pas une nouvelle liste mais modifie la\n",
    "liste sur place !"
   ]
  },
  {
   "cell_type": "code",
   "execution_count": null,
   "id": "f187d66f",
   "metadata": {},
   "outputs": [],
   "source": [
    "lst = [3, 'toto', 4.5, False, None]\n",
    "lst_bis = lst\n",
    "lst[2] = 'titi'\n",
    "lst_bis"
   ]
  },
  {
   "cell_type": "markdown",
   "id": "a68941a1",
   "metadata": {},
   "source": [
    "#### Concaténation et répétition\n",
    "\n",
    "Comme pour les chaînes de caractères (`str`) on peut utiliser les opérateurs `+` pour fabriquer la concaténation de deux listes et `*` pour répéter une liste."
   ]
  },
  {
   "cell_type": "code",
   "execution_count": null,
   "id": "35ad26fe",
   "metadata": {},
   "outputs": [],
   "source": [
    "[3, 'toto', 4.5] + [False, None]"
   ]
  },
  {
   "cell_type": "code",
   "execution_count": null,
   "id": "b85d9829",
   "metadata": {},
   "outputs": [],
   "source": [
    "[] + [3, 'toto', 4.5] + []"
   ]
  },
  {
   "cell_type": "code",
   "execution_count": null,
   "id": "298def8e",
   "metadata": {},
   "outputs": [],
   "source": [
    "3 * ['a', 'b']"
   ]
  },
  {
   "cell_type": "code",
   "execution_count": null,
   "id": "a3dd695c",
   "metadata": {},
   "outputs": [],
   "source": [
    "[0] * 13"
   ]
  },
  {
   "cell_type": "markdown",
   "id": "86de1e11",
   "metadata": {},
   "source": [
    "On peut utiliser ces opérateurs pour recopier une liste. Comparer :"
   ]
  },
  {
   "cell_type": "code",
   "execution_count": null,
   "id": "00a5c529",
   "metadata": {},
   "outputs": [],
   "source": [
    "lst = [3, 'toto', 4.5]\n",
    "lst2 = lst\n",
    "lst3 = lst + []\n",
    "lst4 = lst * 1"
   ]
  },
  {
   "cell_type": "markdown",
   "id": "627c3e1b",
   "metadata": {},
   "source": [
    "#### Test d'appartenance\n",
    "\n",
    "**Exercice :** Écrire une fonction recevant une liste et une valeur, et\n",
    "renvoyant `True` si la valeur apparaît dans la liste (`False` sinon)"
   ]
  },
  {
   "cell_type": "code",
   "execution_count": null,
   "id": "7844a005",
   "metadata": {},
   "outputs": [],
   "source": [
    "def appartient(lst, val):\n",
    "    ..."
   ]
  },
  {
   "cell_type": "code",
   "execution_count": null,
   "id": "40aaa1e5",
   "metadata": {},
   "outputs": [],
   "source": [
    "def appartient(lst, val):\n",
    "    i = 0\n",
    "    while i < len(lst):\n",
    "        if lst[i] == val:\n",
    "            return True\n",
    "        i += 1\n",
    "    return False\n",
    "\n",
    "lst = ['Hildegarde', 'Cunégonde', 'Médor']\n",
    "\n",
    "print(appartient(lst, 'Cunégonde'))\n",
    "\n",
    "if appartient(lst, 'Médor'):\n",
    "    print('Bon chien !')"
   ]
  },
  {
   "cell_type": "markdown",
   "id": "9028f949",
   "metadata": {},
   "source": [
    "\n",
    "\n",
    "\n",
    "\n",
    "\n",
    "\n",
    "\n",
    "\n",
    "\n",
    "\n",
    "**Remarque :** Cette fonctionnalité existe déjà en Python :\n",
    "\n",
    "-   `val in lst` vaut `True` si `val` apparaît dans `lst`, `False` sinon\n",
    "-   Réciproquement, on peut écrire `val not in lst`"
   ]
  },
  {
   "cell_type": "code",
   "execution_count": null,
   "id": "e68f8e76",
   "metadata": {},
   "outputs": [],
   "source": [
    "lst = ['Hildegarde', 'Cunégonde', 'Médor']\n",
    "'Cunégonde' in lst"
   ]
  },
  {
   "cell_type": "code",
   "execution_count": null,
   "id": "83549fd8",
   "metadata": {},
   "outputs": [],
   "source": [
    "lst = ['Hildegarde', 'Cunégonde', 'Médor']\n",
    "'Rex' not in lst"
   ]
  },
  {
   "cell_type": "code",
   "execution_count": null,
   "id": "05d3f3bc",
   "metadata": {},
   "outputs": [],
   "source": [
    "lst = ['Hildegarde', 'Cunégonde', 'Médor']\n",
    "if 'Médor' in lst:\n",
    "    print('Bon chien !')"
   ]
  },
  {
   "cell_type": "markdown",
   "id": "688d8f7a",
   "metadata": {},
   "source": [
    "### Manipulations par méthodes\n",
    "\n",
    "On va maintenant énumérer un certain nombre de méthodes prédéfinies sur les listes, permettant des modifications plus complexes. Pour plus de détails, on pourra consulter la [documentation en ligne](https://docs.python.org/3/)."
   ]
  },
  {
   "cell_type": "markdown",
   "id": "7fddb168",
   "metadata": {},
   "source": [
    "#### Agrandir ou rétrécir une liste\n",
    "\n",
    "Plusieurs instructions ont un effet sur la taille de la liste :\n",
    "\n",
    "-   L'instruction `lst.append(elem)` ajoute l'élément `elem` à la fin de\n",
    "    la liste `lst`\n",
    "\n",
    "-   L'instruction `lst.pop()` supprime le dernier élément de `lst` et\n",
    "    renvoie sa valeur\n",
    "\n",
    "-   L'instruction `lst.pop(i)` supprime l'élément d'indice `i` de `lst` et\n",
    "    renvoie sa valeur\n",
    "\n",
    "*Les fonctions `append` et `pop` sont appelées **méthodes**, ou fonctions\n",
    "s'appliquant à un objet (nous en verrons d'autres dans les cours\n",
    "suivants)*\n",
    "\n",
    "**Attention**, ces instructions ne créent pas une nouvelle liste mais\n",
    "modifient la liste sur place !\n",
    "\n",
    "**Attention**, ne pas confondre `x = lst[2]` et `x = lst.pop(2)` !"
   ]
  },
  {
   "cell_type": "code",
   "execution_count": null,
   "id": "769cd999",
   "metadata": {},
   "outputs": [],
   "source": [
    "lst = [3, 'toto', 4.5, False, None]\n",
    "lst_bis = lst\n",
    "\n",
    "lst.append(1)\n",
    "print(lst_bis)\n",
    "\n",
    "elem = lst_bis.pop(2)\n",
    "print(elem)\n",
    "\n",
    "print(lst)"
   ]
  },
  {
   "cell_type": "markdown",
   "id": "575c9b15",
   "metadata": {},
   "source": [
    "(<a href=\"#nav\"> vers la navigation </a>)\n",
    "\n",
    "## Introduction aux fonctions <a name=\"intro_fonctions\"></a>\n",
    "\n"
   ]
  },
  {
   "cell_type": "markdown",
   "id": "5f281310",
   "metadata": {
    "slideshow": {
     "slide_type": "subslide"
    }
   },
   "source": [
    "En programmation, une fonction est :\n",
    "- un morceau de programme\n",
    "- portant en général un **nom**\n",
    "- acceptant zéro, un ou plusieurs **paramètres**\n",
    "- produisant le plus souvent un **résultat**. \n",
    "\n",
    "Des exceptions existent, mais la forme la plus courante d'une fonction est donc proche de celle d'une fonction mathématique."
   ]
  },
  {
   "cell_type": "markdown",
   "id": "ba432a47",
   "metadata": {
    "slideshow": {
     "slide_type": "subslide"
    }
   },
   "source": [
    "L'utilisation de fonctions améliore les aspects suivants du code :\n",
    "\n",
    "-  **Lisibilité :** \n",
    "    - isoler une partie du programme (par exemple un gros calcul compliqué)\n",
    "    - éviter une trop grande imbrication des `if`, des `while`\n",
    "-  **Modularité et robustesse:** \n",
    "    - réutiliser le même code plusieurs fois (évite de recopier le code)\n",
    "    - faciliter la correction des bugs, l'évolution et la maintenance\n",
    "-  **Généricité :**\n",
    "    - changer la valeur des paramètres (même calcul mais avec différentes valeurs de départ)"
   ]
  },
  {
   "cell_type": "markdown",
   "id": "ab9c2b4a",
   "metadata": {
    "slideshow": {
     "slide_type": "slide"
    }
   },
   "source": [
    "### Fonctions prédéfinies et bibliothèque standard\n",
    "\n",
    "En Python, il existe un grand nombre de fonctions prédéfinies, que nous avons déjà utilisées, par exemple :\n",
    "\n",
    "* `int(obj)` : 1 paramètre, 1 résultat. Reçoit en paramètre un objet (par exemple `str` ou `float`), essaie de le transformer en entier et renvoie l'entier obtenu."
   ]
  },
  {
   "cell_type": "code",
   "execution_count": null,
   "id": "87454b3b",
   "metadata": {
    "slideshow": {
     "slide_type": "-"
    }
   },
   "outputs": [],
   "source": [
    "int(\"34\")"
   ]
  },
  {
   "cell_type": "markdown",
   "id": "926b9097",
   "metadata": {
    "slideshow": {
     "slide_type": "subslide"
    }
   },
   "source": [
    "* `len(obj)` : 1 paramètre, 1 résultat. Reçoit un objet (par exemple `str`) et renvoie sa longueur."
   ]
  },
  {
   "cell_type": "code",
   "execution_count": null,
   "id": "bed2e409",
   "metadata": {
    "slideshow": {
     "slide_type": "-"
    }
   },
   "outputs": [],
   "source": [
    "len(\"bonjour\")"
   ]
  },
  {
   "cell_type": "markdown",
   "id": "8f1e4471",
   "metadata": {
    "slideshow": {
     "slide_type": "subslide"
    }
   },
   "source": [
    "* `randint(mini, maxi)` : 2 paramètres, 1 résultat. Reçoit deux nombres, et renvoie un entier aléatoire compris entre ces deux nombres (inclus)."
   ]
  },
  {
   "cell_type": "code",
   "execution_count": null,
   "id": "544bb7a8",
   "metadata": {
    "slideshow": {
     "slide_type": "-"
    }
   },
   "outputs": [],
   "source": [
    "from random import randint\n",
    "randint(1, 34)"
   ]
  },
  {
   "cell_type": "markdown",
   "id": "707c384b",
   "metadata": {
    "slideshow": {
     "slide_type": "subslide"
    }
   },
   "source": [
    "Il y en a beaucoup d'autres, comme `print, input, float, str...`.\n",
    "\n",
    "Ces fonctions sont appelées _prédéfinies_ (ou _built-in_)\n",
    "- il est inutile de les connaître toutes par cœur\n",
    "- liste des fonctions prédéfinies sur [cette page](https://docs.python.org/3/library/functions.html)"
   ]
  },
  {
   "cell_type": "markdown",
   "id": "f1ac84a9",
   "metadata": {
    "slideshow": {
     "slide_type": "subslide"
    }
   },
   "source": [
    "Il existe également de nombreux _modules_ officiels (par exemple le module `random`)\n",
    "- bibliothèques de fonctions, de types et d'objets\n",
    "- liste des modules prédéfinis documentée [ici](https://docs.python.org/3/library)."
   ]
  },
  {
   "cell_type": "markdown",
   "id": "c4273c66",
   "metadata": {
    "slideshow": {
     "slide_type": "slide"
    }
   },
   "source": [
    "### Définition de fonction\n",
    "\n",
    "Pour définir une nouvelle fonction on utilise la syntaxe suivante :\n",
    "\n",
    "```python\n",
    "# ligne suivante : en-tête de fonction\n",
    "def nom_fonction(param_1, ..., param_n):  \n",
    "    # corps de la fonction\n",
    "    # utilisant param_1 à param_n\n",
    "    ...\n",
    "    # peut renvoyer un résultat :\n",
    "    return resultat\n",
    "```\n",
    "\n",
    "Une fonction peut :\n",
    "\n",
    "* prendre un certain nombre de paramètres (ici, $n$, qui s'appellent `param_1` à `param_n`)\n",
    "* renvoyer une valeur (via l’instruction `return`)"
   ]
  },
  {
   "cell_type": "markdown",
   "id": "eb012469",
   "metadata": {
    "slideshow": {
     "slide_type": "slide"
    }
   },
   "source": [
    "### Appel de fonction\n",
    "\n",
    "Une fois définie, `nom_fonction` peut être utilisée dans le code (on parle d'un **appel**) en indiquant entre parenthèses ses paramètres séparés par des virgules :\n",
    "\n",
    "```python\n",
    "# définition de fonction\n",
    "def nom_fonction(param_1, ..., param_n): \n",
    "    ...\n",
    "\n",
    "# reste du programme \n",
    "...\n",
    "# appel de la fonction :\n",
    "une_var = nom_fonction(expr_1, ..., expr_n)\n",
    "```"
   ]
  },
  {
   "cell_type": "markdown",
   "id": "153b7050",
   "metadata": {
    "slideshow": {
     "slide_type": "slide"
    }
   },
   "source": [
    "### Exemples"
   ]
  },
  {
   "cell_type": "markdown",
   "id": "1ffef3c9",
   "metadata": {
    "slideshow": {
     "slide_type": "slide"
    }
   },
   "source": [
    "#### Fonction à paramètres et résultat"
   ]
  },
  {
   "cell_type": "code",
   "execution_count": null,
   "id": "00c71604",
   "metadata": {
    "slideshow": {
     "slide_type": "-"
    }
   },
   "outputs": [],
   "source": [
    "# fonction à deux paramètres produisant un résultat\n",
    "def maximum(a, b):\n",
    "    if a >= b:\n",
    "        return a\n",
    "    else:\n",
    "        return b"
   ]
  },
  {
   "cell_type": "code",
   "execution_count": null,
   "id": "ed7a4beb",
   "metadata": {
    "slideshow": {
     "slide_type": "subslide"
    }
   },
   "outputs": [],
   "source": [
    "nb1 = 14\n",
    "nb2 = 31\n",
    "\n",
    "maximum(nb1, nb2)  # ne sert à rien !!\n",
    "\n",
    "# On appelle la fonction et on garde le résultat dans c :\n",
    "c = maximum(nb1, nb2)\n",
    "print(\"le max de\", nb1, \"et\", nb2, \"est\", c)\n",
    "\n",
    "# On peut aussi utiliser directement le résultat :\n",
    "print(\"le max de\", nb1, \"et\", nb2, \"est\", maximum(nb1, nb2))"
   ]
  },
  {
   "cell_type": "markdown",
   "id": "a0d590ee",
   "metadata": {
    "slideshow": {
     "slide_type": "subslide"
    }
   },
   "source": [
    "**Entraînement :** \n",
    "\n",
    "- Décrire l'exécution pas à pas du programme (avec état de la mémoire). On peut aussi essayer avec [Python Tutor](http://www.pythontutor.com/visualize.html#code=%23%20fonction%20%C3%A0%20deux%20param%C3%A8tres,%20sans%20effet%20de%20bord%0Adef%20maximum%28a,%20b%29%3A%0A%20%20%20%20if%20a%20%3E%20b%3A%0A%20%20%20%20%20%20%20%20return%20a%0A%20%20%20%20else%3A%0A%20%20%20%20%20%20%20%20return%20b%0A%20%20%20%20%0Anb1%20%3D%20int%28input%28%29%29%0Anb2%20%3D%20int%28input%28%29%29%0A%0A%23%20On%20appelle%20la%20fonction%20et%20on%20garde%20le%20r%C3%A9sultat%20dans%20c%20%3A%0Ac%20%3D%20maximum%28nb1,%20nb2%29%0Aprint%28%22le%20max%20de%22,%20nb1,%20%22et%22,%20nb2,%20%22est%22,%20c%29%0A%0A%23%20On%20peut%20aussi%20utiliser%20directement%20le%20r%C3%A9sultat%20%3A%0Aprint%28%22le%20max%20de%22,%20nb1,%20%22et%22,%20nb2,%20%22est%22,%20maximum%28nb1,%20nb2%29%29&cumulative=false&curInstr=0&heapPrimitives=true&mode=display&origin=opt-frontend.js&py=3&rawInputLstJSON=%5B%5D&textReferences=false).\n",
    "- Dresser un tableau de valeurs de l'exécution du programme"
   ]
  },
  {
   "cell_type": "markdown",
   "id": "0f0d5293",
   "metadata": {
    "slideshow": {
     "slide_type": "slide"
    }
   },
   "source": [
    "#### Fonction sans paramètre\n",
    "\n",
    "- En principe, une fonction sans paramètre devrait avoir toujours le même comportement\n",
    "- Dans l'exemple suivant, on utilise un générateur pseudo-aléatoire, ce qui explique que la fonction ne renvoie pas toujours le même résultat\n",
    "- Une fonction pourrait aussi recevoir des données depuis l'extérieur (utilisateur, requête réseau...).\n",
    "\n",
    "Dans ces cas, on parle de **causes secondaires**"
   ]
  },
  {
   "cell_type": "code",
   "execution_count": null,
   "id": "c2bf67db",
   "metadata": {
    "slideshow": {
     "slide_type": "subslide"
    }
   },
   "outputs": [],
   "source": [
    "from random import randint\n",
    "\n",
    "def lance_de() :\n",
    "    return randint(1,6)\n",
    "\n",
    "compteur = 1\n",
    "while lance_de() != 6: \n",
    "    compteur = compteur + 1\n",
    "print('Obtenu un 6 en', compteur, 'jets de dé.')"
   ]
  },
  {
   "cell_type": "markdown",
   "id": "47bb83c2",
   "metadata": {
    "slideshow": {
     "slide_type": "slide"
    }
   },
   "source": [
    "#### Fonction sans valeur de retour\n",
    "\n",
    "- Si l'exécution arrive à la dernière instruction du corps de la fonction sans rencontrer d'instruction `return expr`, alors la valeur de retour par défaut est `None` (même comportement si `return` seul)\n",
    "- En général une telle fonction a quand même un effet sur l'environnement (affichages, dessin, écriture dans un fichier, envoi d'informations sur le réseau...)\n",
    "\n",
    "Pour tous les effets autres que le renvoi d'un résultat, on parle d'**effets secondaires**"
   ]
  },
  {
   "cell_type": "code",
   "execution_count": null,
   "id": "7e24154a",
   "metadata": {
    "slideshow": {
     "slide_type": "subslide"
    }
   },
   "outputs": [],
   "source": [
    "from turtle import *\n",
    "\n",
    "def trace_polygone(nb_cotes, taille_cote):\n",
    "    down()\n",
    "    i = 0\n",
    "    while i < nb_cotes:\n",
    "        forward(taille_cote)\n",
    "        left(360 / nb_cotes)\n",
    "        i = i + 1\n",
    "\n",
    "# faire une affectation ici ne servirait à rien (essayer !)\n",
    "trace_polygone(5, 100)\n",
    "exitonclick()"
   ]
  },
  {
   "cell_type": "markdown",
   "id": "640f518f",
   "metadata": {
    "slideshow": {
     "slide_type": "slide"
    }
   },
   "source": [
    "### Erreur fréquente : confusion (paramètre / saisie) et (retour / affichage)\n",
    "\n",
    "Les programmeurs débutants confondent très souvent la notion de paramètre et celle de saisie (au clavier par exemple) et la notion de valeur de retour avec celle de valeur affichée. "
   ]
  },
  {
   "cell_type": "code",
   "execution_count": null,
   "id": "42066705",
   "metadata": {
    "slideshow": {
     "slide_type": "-"
    }
   },
   "outputs": [],
   "source": [
    "# ATTENTION CECI EST INCORRECT, A NE PAS REPRODUIRE !!!\n",
    "def pgcd(a, b):\n",
    "    a = int(input())  # NON !\n",
    "    b = int(input())  # NON !\n",
    "    while a % b != 0:\n",
    "        r = a % b\n",
    "        a = b\n",
    "        b = r\n",
    "    print(\"le pgcd est\", b)  # NON !"
   ]
  },
  {
   "cell_type": "markdown",
   "id": "4fba2639",
   "metadata": {},
   "source": [
    "<div style='color:red'>NE SURTOUT PAS PROGRAMMER COMME ÇA !</div>\n",
    "\n",
    "- Comment écrire un programme vérifiant si trois entiers sont\n",
    "  premiers entre eux à l'aide de cette fonction ?\n",
    "- Combien ce programme ferait-il de saisies ?\n",
    "- Qu'afficherait ce programme ?\n",
    "\n",
    "(<a href=\"#nav\"> vers la navigation </a>)\n"
   ]
  }
 ],
 "metadata": {
  "kernelspec": {
   "display_name": "Python 3 (ipykernel)",
   "language": "python",
   "name": "python3"
  },
  "language_info": {
   "codemirror_mode": {
    "name": "ipython",
    "version": 3
   },
   "file_extension": ".py",
   "mimetype": "text/x-python",
   "name": "python",
   "nbconvert_exporter": "python",
   "pygments_lexer": "ipython3",
   "version": "3.10.12"
  }
 },
 "nbformat": 4,
 "nbformat_minor": 5
}
