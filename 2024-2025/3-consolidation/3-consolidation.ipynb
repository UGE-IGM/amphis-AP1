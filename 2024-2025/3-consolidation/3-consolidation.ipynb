{
 "cells": [
  {
   "cell_type": "markdown",
   "id": "78644568",
   "metadata": {},
   "source": [
    "# Note de cours AP1 - Séquence 3 : Consolidation"
   ]
  },
  {
   "cell_type": "markdown",
   "id": "d7a298f1",
   "metadata": {},
   "source": [
    "## Itérables - suite et fin"
   ]
  },
  {
   "cell_type": "markdown",
   "id": "910a4efe",
   "metadata": {},
   "source": [
    "### Les dictionnaires"
   ]
  },
  {
   "cell_type": "markdown",
   "id": "d3bd353f",
   "metadata": {},
   "source": [
    "# Chapitre 7 - Dictionnaires"
   ]
  },
  {
   "cell_type": "markdown",
   "id": "2dc64cd6",
   "metadata": {},
   "source": [
    "Comment résoudre efficacement les problèmes suivants ?\n",
    "\n",
    "- Compter le nombre d'occurences de chaque mot dans un texte\n",
    "- Rassembler plusieurs informations concernant une personne (nom, âge, numéro de sécurité sociale, profession, liste d’enfants...) et les passer en argument à une fonction\n",
    "- Représenter les coefficients d’une matrice ou d’un polynôme \"creux\"\n",
    "- Mémoriser les valeurs de retour d’une fonction pour différents arguments\n",
    "\n",
    "On verra des exemples dans la suite."
   ]
  },
  {
   "cell_type": "markdown",
   "id": "b4d80063",
   "metadata": {},
   "source": [
    "#### Le type `dict`\n",
    "\n",
    "Dictionnaire : objet associant une liste de clés (*keys*) à des valeurs (*values*). \n",
    "\n",
    "Un objet de type `dict` est :\n",
    "* **une collection**\n",
    "* **mutable** (modifiable)\n",
    "* **hétérogène** (peut contenir des types différents)\n",
    "* **itérable** (utilisable dans un `for`)\n",
    "\n",
    "Un objet de type `dict` n'est **pas** une **séquence** (éléments non numérotés et non ordonnés)"
   ]
  },
  {
   "cell_type": "markdown",
   "id": "5cda01ca",
   "metadata": {},
   "source": [
    "#### Création d'un dictionnaire"
   ]
  },
  {
   "cell_type": "markdown",
   "id": "5e804871",
   "metadata": {},
   "source": [
    "##### Création d'un dictionnaire vide"
   ]
  },
  {
   "cell_type": "markdown",
   "id": "ae2465f8",
   "metadata": {},
   "source": [
    "Avec la notation « accolades » :"
   ]
  },
  {
   "cell_type": "code",
   "execution_count": 1,
   "id": "a162dd11",
   "metadata": {
    "slideshow": {
     "slide_type": "-"
    }
   },
   "outputs": [
    {
     "data": {
      "text/plain": [
       "{}"
      ]
     },
     "execution_count": 1,
     "metadata": {},
     "output_type": "execute_result"
    }
   ],
   "source": [
    "vide = {}    # dictionnaire vide\n",
    "vide"
   ]
  },
  {
   "cell_type": "markdown",
   "id": "e02e9221",
   "metadata": {},
   "source": [
    "Avec la fonction « `dict` » :"
   ]
  },
  {
   "cell_type": "code",
   "execution_count": 2,
   "id": "d5c375f0",
   "metadata": {
    "slideshow": {
     "slide_type": "-"
    }
   },
   "outputs": [
    {
     "data": {
      "text/plain": [
       "{}"
      ]
     },
     "execution_count": 2,
     "metadata": {},
     "output_type": "execute_result"
    }
   ],
   "source": [
    "vide = dict()   # idem\n",
    "vide"
   ]
  },
  {
   "cell_type": "markdown",
   "id": "8665516d",
   "metadata": {
    "slideshow": {
     "slide_type": "subslide"
    }
   },
   "source": [
    "##### Création d'un dictionnaire contenant des éléments"
   ]
  },
  {
   "cell_type": "markdown",
   "id": "2b5c2bfc",
   "metadata": {},
   "source": [
    "Avec la notation « accolades » :"
   ]
  },
  {
   "cell_type": "code",
   "execution_count": 3,
   "id": "e30699c7",
   "metadata": {
    "slideshow": {
     "slide_type": "-"
    }
   },
   "outputs": [
    {
     "data": {
      "text/plain": [
       "{'a': 31, 'bidule': 28.5, 'c': 33, 9: 18, 'Prépa': 22}"
      ]
     },
     "execution_count": 3,
     "metadata": {},
     "output_type": "execute_result"
    }
   ],
   "source": [
    "effectif_groupes = {'a': 31, \n",
    "                    'bidule': 28.5, \n",
    "                    'c': 33, \n",
    "                    9: 18, \n",
    "                    'Prépa': 22}\n",
    "effectif_groupes"
   ]
  },
  {
   "cell_type": "markdown",
   "id": "3c755c7a",
   "metadata": {},
   "source": [
    "Avec la fonction `dict` à partir d'un itérable contenant des couples `(clé, valeur)` :"
   ]
  },
  {
   "cell_type": "code",
   "execution_count": 4,
   "id": "c61bd3bd",
   "metadata": {},
   "outputs": [
    {
     "data": {
      "text/plain": [
       "{'a': 31, 'bidule': 28.5, 'c': 33, 9: 18, 'Prépa': 22}"
      ]
     },
     "execution_count": 4,
     "metadata": {},
     "output_type": "execute_result"
    }
   ],
   "source": [
    "effectif_groupes = dict([('a', 31), ('bidule', 28.5), ('c', 33), (9, 18), ('Prépa', 22)])\n",
    "effectif_groupes"
   ]
  },
  {
   "cell_type": "markdown",
   "id": "b451ea35",
   "metadata": {},
   "source": [
    "##### Restrictions portant sur les clés"
   ]
  },
  {
   "cell_type": "markdown",
   "id": "fc581e1c",
   "metadata": {},
   "source": [
    "\n",
    "Il faut que les **clés** soient **hashables**. La définition de hashable est un peu compliquée. Il suffit de retenir pour le moment que tous les objets prédéfinis **immutables** (non modifiables) sont hashables.\n",
    "\n",
    "Les types qui peuvent être des clés :\n",
    "* Types primitifs : `int`, `float`, `str`, `bool`\n",
    "* `tuple` : `(0, 0)`\n",
    "\n",
    "Les types qui ne peuvent **pas** être des clés :\n",
    "* `list` : `[0, 0]`\n",
    "* `dict`, etc."
   ]
  },
  {
   "cell_type": "code",
   "execution_count": 5,
   "id": "442d85ec",
   "metadata": {},
   "outputs": [
    {
     "ename": "TypeError",
     "evalue": "unhashable type: 'list'",
     "output_type": "error",
     "traceback": [
      "\u001b[0;31m---------------------------------------------------------------------------\u001b[0m",
      "\u001b[0;31mTypeError\u001b[0m                                 Traceback (most recent call last)",
      "\u001b[0;32m/tmp/ipykernel_10012/3820411522.py\u001b[0m in \u001b[0;36m<module>\u001b[0;34m\u001b[0m\n\u001b[0;32m----> 1\u001b[0;31m contenu_cases = {\n\u001b[0m\u001b[1;32m      2\u001b[0m     \u001b[0;34m[\u001b[0m\u001b[0;36m0\u001b[0m\u001b[0;34m,\u001b[0m \u001b[0;36m0\u001b[0m\u001b[0;34m]\u001b[0m\u001b[0;34m:\u001b[0m \u001b[0;34m'personnage'\u001b[0m\u001b[0;34m,\u001b[0m\u001b[0;34m\u001b[0m\u001b[0;34m\u001b[0m\u001b[0m\n\u001b[1;32m      3\u001b[0m     \u001b[0;34m[\u001b[0m\u001b[0;36m3\u001b[0m\u001b[0;34m,\u001b[0m \u001b[0;36m5\u001b[0m\u001b[0;34m]\u001b[0m\u001b[0;34m:\u001b[0m \u001b[0;34m'pomme'\u001b[0m\u001b[0;34m,\u001b[0m\u001b[0;34m\u001b[0m\u001b[0;34m\u001b[0m\u001b[0m\n\u001b[1;32m      4\u001b[0m     \u001b[0;34m[\u001b[0m\u001b[0;36m2\u001b[0m\u001b[0;34m,\u001b[0m \u001b[0;36m1\u001b[0m\u001b[0;34m]\u001b[0m\u001b[0;34m:\u001b[0m \u001b[0;34m'trésor'\u001b[0m\u001b[0;34m\u001b[0m\u001b[0;34m\u001b[0m\u001b[0m\n\u001b[1;32m      5\u001b[0m }\n",
      "\u001b[0;31mTypeError\u001b[0m: unhashable type: 'list'"
     ]
    }
   ],
   "source": [
    "contenu_cases = {\n",
    "    [0, 0]: 'personnage',\n",
    "    [3, 5]: 'pomme',\n",
    "    [2, 1]: 'trésor'\n",
    "}"
   ]
  },
  {
   "cell_type": "code",
   "execution_count": null,
   "id": "db1dad4b",
   "metadata": {},
   "outputs": [],
   "source": [
    "contenu_cases = {\n",
    "    (0, 0): 'personnage',\n",
    "    (3, 5): 'pomme',\n",
    "    (2, 1): 'trésor'\n",
    "}"
   ]
  },
  {
   "cell_type": "markdown",
   "id": "01473d3b",
   "metadata": {},
   "source": [
    "##### Restrictions portant sur les valeurs"
   ]
  },
  {
   "cell_type": "markdown",
   "id": "288d6d99",
   "metadata": {},
   "source": [
    "Pour les **valeurs** d'un dictionnaire, il n'y a **pas de restriction**. On peut utiliser des listes ou des dictionnaires comme valeurs dans un dictionnaire."
   ]
  },
  {
   "cell_type": "code",
   "execution_count": null,
   "id": "a9f4ab69",
   "metadata": {},
   "outputs": [],
   "source": [
    "dresseurs = {\n",
    "    'Sacha': ['Pikachu', 'Bulbizarre', 'Dracaufeu'],\n",
    "    'Ondine': ['Togepi', 'Psykokwak'],\n",
    "    'Pierre': ['Onix', 'Racaillou']\n",
    "}\n",
    "\n",
    "dresseurs['Sacha']"
   ]
  },
  {
   "cell_type": "markdown",
   "id": "715a09a1",
   "metadata": {},
   "source": [
    "#### Manipulation d'un dictionnaire"
   ]
  },
  {
   "cell_type": "markdown",
   "id": "9dac33e9",
   "metadata": {},
   "source": [
    "##### Accès à une valeur via sa clé : `dico[clé]`"
   ]
  },
  {
   "cell_type": "code",
   "execution_count": null,
   "id": "6fa87141",
   "metadata": {},
   "outputs": [],
   "source": [
    "effectifs = {'a': 31, 'bidule': 28, 'c': 33, 9: 18, 'Prépa': 22}\n",
    "print(\"Valeur de la clé 'c' : \", effectifs['c'])"
   ]
  },
  {
   "cell_type": "code",
   "execution_count": null,
   "id": "1ce9cf0d",
   "metadata": {},
   "outputs": [],
   "source": [
    "effectifs['Prépa']"
   ]
  },
  {
   "cell_type": "code",
   "execution_count": null,
   "id": "d42e0859",
   "metadata": {},
   "outputs": [],
   "source": [
    "effectifs[9]"
   ]
  },
  {
   "cell_type": "code",
   "execution_count": null,
   "id": "52e7565d",
   "metadata": {},
   "outputs": [],
   "source": [
    "effectifs[0]"
   ]
  },
  {
   "cell_type": "markdown",
   "id": "8c825369",
   "metadata": {},
   "source": [
    "##### Nombre de clés (taille) : `len(dico)`"
   ]
  },
  {
   "cell_type": "code",
   "execution_count": null,
   "id": "223d6227",
   "metadata": {},
   "outputs": [],
   "source": [
    "effectifs = {'a': 31, 'bidule': 28, 'c': 33, 9: 18, 'Prépa': 22}\n",
    "len(effectifs)"
   ]
  },
  {
   "cell_type": "markdown",
   "id": "d985e54b",
   "metadata": {},
   "source": [
    "##### Test d'appartenance : `clé in dico`"
   ]
  },
  {
   "cell_type": "code",
   "execution_count": null,
   "id": "0aba8534",
   "metadata": {},
   "outputs": [],
   "source": [
    "effectifs = {'a': 31, 'bidule': 28, 'c': 33, 9: 18, 'Prépa': 22}"
   ]
  },
  {
   "cell_type": "code",
   "execution_count": null,
   "id": "bed8acd9",
   "metadata": {},
   "outputs": [],
   "source": [
    "'bidule' in effectifs"
   ]
  },
  {
   "cell_type": "code",
   "execution_count": null,
   "id": "766a9ff9",
   "metadata": {},
   "outputs": [],
   "source": [
    "31 in effectifs"
   ]
  },
  {
   "cell_type": "code",
   "execution_count": null,
   "id": "0cc38af4",
   "metadata": {},
   "outputs": [],
   "source": [
    "'bidule' not in effectifs"
   ]
  },
  {
   "cell_type": "markdown",
   "id": "8387db16",
   "metadata": {},
   "source": [
    "Cette construction est très utile pour faire des accès **contrôlés** au dictionnaire.\n",
    "\n",
    "Par exemple, le code suivant donne une erreur."
   ]
  },
  {
   "cell_type": "code",
   "execution_count": null,
   "id": "ee22438b",
   "metadata": {},
   "outputs": [],
   "source": [
    "groupe = input('Saisir un nom de groupe : ')\n",
    "if groupe in effectifs:\n",
    "    print('Le groupe', groupe, 'compte', effectifs[groupe], 'étudiants.')\n",
    "else:\n",
    "    print('Le groupe', groupe, \"n'existe pas.\")"
   ]
  },
  {
   "cell_type": "markdown",
   "id": "32f576c7",
   "metadata": {},
   "source": [
    "##### Modification d'une valeur associée à une clé : `dico[clé] = nouvelle_valeur`"
   ]
  },
  {
   "cell_type": "code",
   "execution_count": null,
   "id": "3f82dd94",
   "metadata": {},
   "outputs": [],
   "source": [
    "effectifs = {'a': 31, 'bidule': 28, 'c': 33, 9: 18, 'Prépa': 22}"
   ]
  },
  {
   "cell_type": "code",
   "execution_count": null,
   "id": "8453af3e",
   "metadata": {},
   "outputs": [],
   "source": [
    "effectifs['bidule'] = 'truc'"
   ]
  },
  {
   "cell_type": "code",
   "execution_count": null,
   "id": "98c6bc8c",
   "metadata": {},
   "outputs": [],
   "source": [
    "effectifs"
   ]
  },
  {
   "cell_type": "markdown",
   "id": "480088c4",
   "metadata": {},
   "source": [
    "Cette syntaxe permet aussi de créer une nouvelle clé associée à une nouvelle valeur :"
   ]
  },
  {
   "cell_type": "code",
   "execution_count": null,
   "id": "22572b1f",
   "metadata": {},
   "outputs": [],
   "source": [
    "effectifs[8] = 19\n",
    "effectifs"
   ]
  },
  {
   "cell_type": "markdown",
   "id": "8f7f43a9",
   "metadata": {},
   "source": [
    "##### Suppression d'un couple clé/valeur : `del dico[clé]`"
   ]
  },
  {
   "cell_type": "code",
   "execution_count": null,
   "id": "210b4c5d",
   "metadata": {},
   "outputs": [],
   "source": [
    "del effectifs['bidule']\n",
    "effectifs"
   ]
  },
  {
   "cell_type": "markdown",
   "id": "b782d7c4",
   "metadata": {},
   "source": [
    "##### Parcours d'un dictionnaire par boucle `for` :"
   ]
  },
  {
   "cell_type": "markdown",
   "id": "b555efc4",
   "metadata": {},
   "source": [
    "Forme générale :\n",
    "\n",
    "```python\n",
    "for cle in dictionnaire:\n",
    "    valeur = dictionnaire[cle]\n",
    "    ...  # traitement utilisant cle et valeur\n",
    "```"
   ]
  },
  {
   "cell_type": "code",
   "execution_count": null,
   "id": "fed015b8",
   "metadata": {},
   "outputs": [],
   "source": [
    "for groupe in effectifs:\n",
    "    print(groupe, \"->\", effectifs[groupe])"
   ]
  },
  {
   "cell_type": "markdown",
   "id": "5a3b0cfd",
   "metadata": {},
   "source": [
    "Remarque : cela n'a pas de sens de parcourir un dictionnaire avec `range` !"
   ]
  },
  {
   "cell_type": "markdown",
   "id": "b61495f1",
   "metadata": {},
   "source": [
    "##### Récupérer une valeur avec valeur par défaut : `dictionnaire.get(cle, defaut)`\n",
    "\n",
    "Si `cle` existe dans `dictionnaire` la méthode renvoie `dictionnaire[cle]`, sinon elle renvoie la valeur de `defaut`.\n",
    "\n",
    "Méthode équivalente à la fonction suivante :"
   ]
  },
  {
   "cell_type": "code",
   "execution_count": null,
   "id": "fec84a3e",
   "metadata": {},
   "outputs": [],
   "source": [
    "def acces_avec_defaut(dictionnaire, cle, defaut):\n",
    "    if cle in dictionnaire:\n",
    "        return dictionnaire[cle]\n",
    "    else:\n",
    "        return defaut\n",
    "\n",
    "acces_avec_defaut(effectifs, 'd', 0)"
   ]
  },
  {
   "cell_type": "markdown",
   "id": "fdcdca29",
   "metadata": {},
   "source": [
    "\n",
    "\n",
    "Pratique pour éviter le test `if cle in dictionnaire` :"
   ]
  },
  {
   "cell_type": "code",
   "execution_count": null,
   "id": "95cc9b73",
   "metadata": {},
   "outputs": [],
   "source": [
    "dico_exam = {'Adam': 19, 'Ben': 3, 'Cécile': 16.5, 'Dhara': 10.5, 'Ea': 8}"
   ]
  },
  {
   "cell_type": "code",
   "execution_count": null,
   "id": "ae506932",
   "metadata": {},
   "outputs": [],
   "source": [
    "\n",
    "dico_exam.get('Dhara', 0)\n"
   ]
  },
  {
   "cell_type": "code",
   "execution_count": null,
   "id": "d7b6991e",
   "metadata": {},
   "outputs": [],
   "source": [
    "dico_exam.get('Fanhui', 0)"
   ]
  },
  {
   "cell_type": "markdown",
   "id": "0a15127f",
   "metadata": {},
   "source": [
    "#### Exemples d'utilisation"
   ]
  },
  {
   "cell_type": "markdown",
   "id": "c50db848",
   "metadata": {},
   "source": [
    "##### Carte de visite"
   ]
  },
  {
   "cell_type": "code",
   "execution_count": null,
   "id": "b9e2f224",
   "metadata": {},
   "outputs": [],
   "source": [
    "def affiche_carte(carte):\n",
    "    print(\"Hello,\")\n",
    "    print(\"My name is\", carte['name'], \"the\", carte['quality'], end='.\\n')\n",
    "    print(\"I am a\", carte['profession'], 'in', carte['place'], end='.\\n')\n",
    "    print(\"My quest is\", carte['quest'], end='.\\n')\n",
    "    print(\"My favorite color is\", carte['color'], end='.\\n')\n",
    "\n",
    "carte = {'name': 'Sir Galahad',\n",
    "         'quality': 'pure',\n",
    "         'profession': 'knight',\n",
    "         'place': 'Camelot',\n",
    "         'quest': 'to seek the holy Grail',\n",
    "         'color': 'blue. No yel... auuuuuuuugh'}\n",
    "\n",
    "carte2 = {'name': 'Sir Robin',\n",
    "          'quality': 'not-quite-so-brave-as-Sir-Lancelot',\n",
    "          'profession': 'knight',\n",
    "          'place': 'Camelot',\n",
    "          'quest': 'to seek the holy Grail',\n",
    "          'color': 'red'}\n",
    "\n",
    "affiche_carte(carte)\n",
    "print()\n",
    "affiche_carte(carte2)"
   ]
  },
  {
   "cell_type": "markdown",
   "id": "7a477090",
   "metadata": {},
   "source": [
    "##### Comptage d'éléments"
   ]
  },
  {
   "cell_type": "code",
   "execution_count": null,
   "id": "1edf8df4",
   "metadata": {},
   "outputs": [],
   "source": [
    "def compter_elements(iterable):\n",
    "    res = {}\n",
    "    for element in iterable:\n",
    "        print(res)  # pour débugger\n",
    "        if element not in res:  # element jamais vu !\n",
    "            res[element] = 1\n",
    "        else:  # element déjà vu avant !\n",
    "            res[element] = res[element] + 1\n",
    "            # ou : res[element] += 1\n",
    "    return res"
   ]
  },
  {
   "cell_type": "code",
   "execution_count": null,
   "id": "f6ffec09",
   "metadata": {},
   "outputs": [],
   "source": [
    "compter_elements(['a', 'a', 9, 'a', 14, 9, 'coucou'])"
   ]
  },
  {
   "cell_type": "code",
   "execution_count": null,
   "id": "dfee67c1",
   "metadata": {},
   "outputs": [],
   "source": [
    "dico = compter_elements(['a', 'a', 9, 'a', 14, 9, 'coucou'])\n",
    "len(dico)"
   ]
  },
  {
   "cell_type": "code",
   "execution_count": null,
   "id": "4384d72b",
   "metadata": {},
   "outputs": [],
   "source": [
    "element = 'a'\n",
    "dico[element]"
   ]
  },
  {
   "cell_type": "code",
   "execution_count": null,
   "id": "4c385c9a",
   "metadata": {},
   "outputs": [],
   "source": [
    "compter_elements('abracadabra')"
   ]
  },
  {
   "cell_type": "markdown",
   "id": "01a74785",
   "metadata": {
    "slideshow": {
     "slide_type": "subslide"
    }
   },
   "source": [
    "#### Opérations (résumé)\n",
    "\n",
    "- Création   `d = {}` ou `d = dict()` ou `d = {’a’: 1, ...}`\n",
    "- Accès : `d[cle]`, `d[cle1][cle2]`, ...\n",
    "- Taille : `len(d)`\n",
    "- Test d'appartenance : `cle in d`, `cle not in d`      \n",
    "- Ajout ou modification : `d[cle] = valeur`\n",
    "- Suppression : `del d[cle]`\n",
    "- Itération : `for cle in d`"
   ]
  },
  {
   "cell_type": "markdown",
   "id": "2f234147",
   "metadata": {
    "slideshow": {
     "slide_type": "subslide"
    }
   },
   "source": [
    "#### Méthodes (non exhaustif, voir la [documentation](https://docs.python.org/fr/3/library/stdtypes.html#dict))\n",
    "\n",
    "- Accès aux clés : `d.keys()`\n",
    "- Accès aux valeurs : `d.values()`\n",
    "- Accès aux couples `(cle, valeur)` : `d.items()`            \n",
    "- Copie (superficielle) : `d.copy()`             \n",
    "- Vidange : `d.clear()`\n",
    "- Accès avec valeur par défaut : `d.get(cle, defaut)`\n",
    "- Retrait de valeur : `d.pop(cle)`           \n",
    "- Mise à jour / fusion : `d.update(d2)`"
   ]
  },
  {
   "cell_type": "code",
   "execution_count": null,
   "id": "3cb844e4",
   "metadata": {
    "slideshow": {
     "slide_type": "subslide"
    }
   },
   "outputs": [],
   "source": [
    "for cle in effectifs.keys():\n",
    "    print(cle)"
   ]
  },
  {
   "cell_type": "code",
   "execution_count": null,
   "id": "f98d9568",
   "metadata": {
    "slideshow": {
     "slide_type": "subslide"
    }
   },
   "outputs": [],
   "source": [
    "list(effectifs.keys())"
   ]
  },
  {
   "cell_type": "code",
   "execution_count": null,
   "id": "31f0921a",
   "metadata": {
    "slideshow": {
     "slide_type": "fragment"
    }
   },
   "outputs": [],
   "source": [
    "list(effectifs.values())"
   ]
  },
  {
   "cell_type": "code",
   "execution_count": null,
   "id": "fd078048",
   "metadata": {
    "slideshow": {
     "slide_type": "fragment"
    }
   },
   "outputs": [],
   "source": [
    "list(effectifs.items())"
   ]
  },
  {
   "cell_type": "code",
   "execution_count": null,
   "id": "5429b0a3",
   "metadata": {
    "slideshow": {
     "slide_type": "subslide"
    }
   },
   "outputs": [],
   "source": [
    "effectifs.get('machin', 0)"
   ]
  },
  {
   "cell_type": "code",
   "execution_count": null,
   "id": "39112dcc",
   "metadata": {
    "slideshow": {
     "slide_type": "subslide"
    }
   },
   "outputs": [],
   "source": [
    "effectifs.pop('c')"
   ]
  },
  {
   "cell_type": "code",
   "execution_count": null,
   "id": "c2ea8640",
   "metadata": {
    "slideshow": {
     "slide_type": "fragment"
    }
   },
   "outputs": [],
   "source": [
    "effectifs['c']  # la clé n'existe plus !"
   ]
  },
  {
   "cell_type": "markdown",
   "id": "a391e1ff",
   "metadata": {
    "slideshow": {
     "slide_type": "subslide"
    }
   },
   "source": [
    "**Attention :** la méthode `copy` produit une copie *superficielle* !!"
   ]
  },
  {
   "cell_type": "code",
   "execution_count": null,
   "id": "02eb6cc5",
   "metadata": {
    "slideshow": {
     "slide_type": "-"
    }
   },
   "outputs": [],
   "source": [
    "%%nbtutor -r -f\n",
    "d = {'lst': [1, 2]}\n",
    "e = d.copy()\n",
    "e['lst'].append(3) \n",
    "print(d)\n",
    "print(e)"
   ]
  },
  {
   "cell_type": "markdown",
   "id": "498b61ab",
   "metadata": {
    "slideshow": {
     "slide_type": "subslide"
    }
   },
   "source": [
    "#### Exercices"
   ]
  },
  {
   "cell_type": "markdown",
   "id": "2de595e0",
   "metadata": {},
   "source": [
    "\n",
    "- Écrire, sans utiliser la méthode `items()`, une fonction `dict_vers_list(dico)` recevant en paramètre un dictionnaire et renvoyant une liste de ses couples `(cle, valeur)`."
   ]
  },
  {
   "cell_type": "code",
   "execution_count": null,
   "id": "34f7f07a",
   "metadata": {},
   "outputs": [],
   "source": [
    "def dict_vers_list(dico):\n",
    "    res = []\n",
    "    for cle in dico:\n",
    "        valeur = dico[cle]\n",
    "        res.append((cle, valeur))\n",
    "    return res\n",
    "\n",
    "dict_vers_list({'a': 31, 'bidule': 28.5, 'c': 33, 9: 18, 'Prépa': 22})"
   ]
  },
  {
   "cell_type": "markdown",
   "id": "113a04f3",
   "metadata": {},
   "source": [
    "\n",
    "- Écrire, sans utiliser la fonction `dict()`, une fonction `list_vers_dict(lst)` recevant en paramètre une liste de couples `(cle, valeur)` et renvoyant le dictionnaire correspondant."
   ]
  },
  {
   "cell_type": "code",
   "execution_count": null,
   "id": "1b0ff7f9",
   "metadata": {},
   "outputs": [],
   "source": [
    "def list_vers_dict(lst):\n",
    "    res = {}\n",
    "    for element in lst:\n",
    "        cle, valeur = element\n",
    "        res[cle] = valeur  # ou : res[element[0]] = element[1]\n",
    "    return res\n",
    "\n",
    "list_vers_dict([('a', 31), ('bidule', 28), ('c', 33), (9, 18), ('Prépa', 22)])"
   ]
  },
  {
   "cell_type": "code",
   "execution_count": null,
   "id": "4dd700f3",
   "metadata": {},
   "outputs": [],
   "source": [
    "def list_vers_dict(lst):\n",
    "    res = {}\n",
    "    for cle, valeur in lst:\n",
    "        res[cle] = valeur  # ou : res[element[0]] = element[1]\n",
    "    return res\n",
    "\n",
    "list_vers_dict([('a', 31), ('bidule', 28), ('c', 33), (9, 18), ('Prépa', 22)])"
   ]
  },
  {
   "cell_type": "markdown",
   "id": "5f4951bc",
   "metadata": {},
   "source": [
    "- Écrire une fonction `indices(lst)` recevant une liste d'objets immutables et renvoyant un dictionnaire dont les clés sont les éléments de `lst` et dont la valeur associée à chaque clé est la liste des indices où apparaît cet élément dans `lst`."
   ]
  },
  {
   "cell_type": "code",
   "execution_count": null,
   "id": "dfb4878f",
   "metadata": {},
   "outputs": [],
   "source": [
    "def indices(lst):\n",
    "    ...\n",
    "\n",
    "indices([0, 0, 1, 0, 1, 1, 'coucou'])"
   ]
  },
  {
   "cell_type": "markdown",
   "id": "4d275374",
   "metadata": {
    "slideshow": {
     "slide_type": "subslide"
    }
   },
   "source": [
    "- $\\bigstar$ Écrire une fonction `inverse_dict(dico)` renvoyant un nouveau dictionnaire dont les clés sont les valeurs de `dico` et les valeurs sont les listes de clés correspondantes. On supposera que toutes les valeurs de `dico` sont immutables.  \n",
    "  Par exemple :\n",
    "\n",
    "  ```python\n",
    "  >>> inverse_dict({'a': 1, 'b': 2, 'c': 1})\n",
    "  {1: ['a', 'c'], 2: ['b']}\n",
    "  ```"
   ]
  },
  {
   "cell_type": "code",
   "execution_count": null,
   "id": "d2f8f345",
   "metadata": {
    "slideshow": {
     "slide_type": "skip"
    }
   },
   "outputs": [],
   "source": [
    "def inverse_dict(dico):\n",
    "    ...\n",
    "\n",
    "inverse_dict({'a': 1, 'b': 2, 'c': 1})"
   ]
  },
  {
   "cell_type": "code",
   "execution_count": null,
   "id": "787a8739",
   "metadata": {},
   "outputs": [],
   "source": []
  },
  {
   "cell_type": "markdown",
   "id": "508f0b5e",
   "metadata": {},
   "source": [
    "### Fichiers"
   ]
  },
  {
   "cell_type": "markdown",
   "id": "626f339a",
   "metadata": {},
   "source": [
    "Il est possible de consulter le contenu d'un fichier texte en Python, et de le modifier. On accède la plupart du temps aux lignes successives d'un fichier à l'aide d'une boucle `for`."
   ]
  },
  {
   "cell_type": "markdown",
   "id": "7c3ce2d7",
   "metadata": {},
   "source": [
    "#### Descripteurs de fichiers (type `file`)"
   ]
  },
  {
   "cell_type": "markdown",
   "id": "51d9f909",
   "metadata": {},
   "source": [
    "Ouverture d'un fichier : `f = open(chemin, mode)`\n",
    "\n",
    "- Paramètre `chemin` (chaîne de caractère) : nom (absolu ou relatif) d'un fichier\n",
    "- Paramètre `mode` (chaîne de caractère) :\n",
    "  - lecture seule : `'r'` (par défaut)\n",
    "  - écriture (crée / écrase le fichier) : `'w'`\n",
    "  - ajout (écrit à la fin) : `'a'`\n",
    "  - *autres modes possibles pour fichiers binaires*\n",
    "\n",
    "Fermeture : `f.close()`\n",
    "\n",
    "En principe, il faut penser à fermer le fichier lorsque l'on n'en a plus besoin."
   ]
  },
  {
   "cell_type": "markdown",
   "id": "b058c834",
   "metadata": {},
   "source": [
    "##### <img src='img/non-exigible.png' width='50px' style='display:inline'> Fermeture automatique\n",
    "\n",
    "Pour y penser plus facilement, Python a une syntaxe spécifique :"
   ]
  },
  {
   "cell_type": "code",
   "execution_count": null,
   "id": "e9e63ff7",
   "metadata": {},
   "outputs": [],
   "source": [
    "with open('test.txt', 'w') as f:\n",
    "    # Opérations sur le fichier\n",
    "    pass\n",
    "# Il est fermé automatiquement à la fin du `with`"
   ]
  },
  {
   "cell_type": "markdown",
   "id": "6c52185b",
   "metadata": {},
   "source": [
    "#### Lire et écrire dans un fichier\n",
    "\n",
    "Lecture (mode `'r'`) :\n",
    "\n",
    "-   Tout lire d'un coup (une seule chaîne) : `contenu = f.read()`  \n",
    "    **Attention :** charge tout le fichier en mémoire !  \n",
    "    **Attention :** inclut les retours à la ligne\n",
    "\n",
    "-   Liste des lignes (liste de chaînes) : `lst_lignes = f.readlines()`  \n",
    "    **Attention :** charge tout le fichier en mémoire !  \n",
    "    **Attention :** inclut les retours à la ligne\n",
    "    \n",
    "-   Prochaine ligne : `ligne = f.readline()`  \n",
    "    **Attention :** renvoie une chaîne vide à la fin\n",
    "\n",
    "-   Parcours ligne par ligne : `for ligne in f: ...`\n",
    "\n",
    "Écriture (modes `'w'` et `'a'`) : `f.write(chaine)`\n",
    "\n",
    "**Attention :** n'inclut pas de retour à la ligne (`'\\n'`) automatique !"
   ]
  },
  {
   "cell_type": "code",
   "execution_count": null,
   "id": "0d5da2ea",
   "metadata": {},
   "outputs": [],
   "source": [
    "f = open('test.txt', 'w')\n",
    "for chaine in ['au', 'revoir', 'tout', 'le', 'monde !']:\n",
    "    f.write(chaine)\n",
    "f.close()"
   ]
  },
  {
   "cell_type": "code",
   "execution_count": null,
   "id": "0984da19",
   "metadata": {},
   "outputs": [],
   "source": [
    "f = open('test.txt', 'w')\n",
    "f.write(\"\\n\".join(['au', 'revoir', 'tout', 'le', 'monde !']))\n",
    "f.close()"
   ]
  },
  {
   "cell_type": "code",
   "execution_count": null,
   "id": "18568dfd",
   "metadata": {},
   "outputs": [],
   "source": [
    "f = open('test.txt', 'a')\n",
    "f.write('(signé : Machin)\\n')\n",
    "f.close()"
   ]
  },
  {
   "cell_type": "code",
   "execution_count": null,
   "id": "154d9965",
   "metadata": {},
   "outputs": [],
   "source": [
    "f = open('test.txt', 'r')\n",
    "for ligne in f:\n",
    "    # strip supprime les espaces avant et après la chaîne\n",
    "    print(ligne.strip()) \n",
    "f.close()"
   ]
  },
  {
   "cell_type": "code",
   "execution_count": null,
   "id": "30b62bcb",
   "metadata": {},
   "outputs": [],
   "source": [
    "f = open('2-approfondissements.ipynb')\n",
    "# Décommentez pour voir :\n",
    "# for ligne in f:\n",
    "#    print(ligne.strip())\n",
    "f.close()"
   ]
  },
  {
   "cell_type": "markdown",
   "id": "04e28724",
   "metadata": {},
   "source": [
    "##### <img src='img/non-exigible.png' width='50px' style='display:inline'> Fermeture automatique\n",
    "\n",
    "Pour ne pas avoir à penser à fermer le fichier lorsqu'on n'en a plus besoin, Python a une syntaxe spécifique :"
   ]
  },
  {
   "cell_type": "code",
   "execution_count": null,
   "id": "e6db92bb",
   "metadata": {},
   "outputs": [],
   "source": [
    "with open('test.txt', 'w') as f:\n",
    "    # Opérations sur le fichier\n",
    "    pass\n",
    "# Il est fermé automatiquement à la fin du `with`"
   ]
  },
  {
   "cell_type": "markdown",
   "id": "05397ffc",
   "metadata": {},
   "source": [
    "## La récursivité\n",
    "\n",
    "Avant d'étudier cette section, nous vous recommandons de revoir la section \"Fonctions\" de la Séquence 2.\n",
    "\n",
    "### Définition\n",
    "\n",
    "Une fonction est *récursive* lorsqu'elle s'appelle elle-même.\n",
    "\n",
    "### Exemple\n",
    "\n",
    "La récursivité est une notion qui nous vient des mathématiques. Par exemple, on définit en général la *factorielle* d'un nombre comme ceci :\n",
    "- $\\mathrm{factorielle}(0) = 1$\n",
    "- $\\mathrm{factorielle}(n) = n \\times \\mathrm{factorielle}(n-1)$ pour $n \\geq 1$\n",
    "\n",
    "Souvent, on utilise plutôt la notation $0! = 1$ et $n! = n \\times (n-1)!$.\n",
    "\n",
    "On peut traduire cette définition directement en Python :"
   ]
  },
  {
   "cell_type": "code",
   "execution_count": null,
   "id": "21523224",
   "metadata": {},
   "outputs": [],
   "source": [
    "def factorielle(n):\n",
    "    if n == 0:  # 0! = 1\n",
    "        return 1\n",
    "    else:  # n! = n x (n-1)!\n",
    "        return n * factorielle(n-1)"
   ]
  },
  {
   "cell_type": "markdown",
   "id": "cdd2ed4a",
   "metadata": {},
   "source": [
    "Pour calculer la valeur de $\\mathrm{factorielle}(n)$, il suffit de dérouler la définition. Pour $n = 5$ :\n",
    "- $\\mathrm{factorielle}(5) = 5 \\times \\mathrm{factorielle}(4)$\n",
    "- $\\mathrm{factorielle}(4) = 4 \\times \\mathrm{factorielle}(3)$\n",
    "- $\\mathrm{factorielle}(3) = 3 \\times \\mathrm{factorielle}(2)$\n",
    "- $\\mathrm{factorielle}(2) = 2 \\times \\mathrm{factorielle}(1)$\n",
    "- $\\mathrm{factorielle}(1) = 1 \\times \\mathrm{factorielle}(0)$\n",
    "- Enfin, par définition, $\\mathrm{factorielle}(0) = 1$\n",
    "\n",
    "Donc :\n",
    "- $\\mathrm{factorielle}(1) = 1 \\times 1 = 1$\n",
    "- $\\mathrm{factorielle}(2) = 2 \\times 1 = 2$\n",
    "- $\\mathrm{factorielle}(3) = 3 \\times 2 = 6$\n",
    "- $\\mathrm{factorielle}(4) = 4 \\times 6 = 24$\n",
    "- $\\mathrm{factorielle}(5) = 5 \\times 24 = 120$\n",
    "\n",
    "En résumé, $\\mathrm{factorielle}(5) = 5 \\times 4 \\times 3 \\times 2 \\times 1 \\times 1 = 120$."
   ]
  },
  {
   "cell_type": "code",
   "execution_count": null,
   "id": "22255125",
   "metadata": {},
   "outputs": [],
   "source": [
    "# factorielle(5) = 5 x 4 x 3 x 2 x 1 = 120\n",
    "factorielle(5)"
   ]
  },
  {
   "cell_type": "markdown",
   "id": "6cdc8b2c",
   "metadata": {},
   "source": [
    "### Terminaison\n",
    "\n",
    "\"Une fonction qui s'appelle elle-même\", ça ressemble beaucoup à une définition qui se mord la queue : si elle s'appelle elle-même, quel résultat peut-elle bien produire ? Et en effet, il faut faire attention à deux éléments lorsqu'on définit une fonction récursive :\n",
    "\n",
    "#### Le(s) cas de base\n",
    "\n",
    "Pour que la fonction finisse pas renvoyer un résultat, il faut qu'il y ait des cas où elle ne s'appelle pas elle-même ; on parle de *cas de base*. Dans l'exemple ci-dessus, c'est le cas de 0 : on définit $\\mathrm{factorielle}(0) = 1$, ce qui permet de terminer le calcul.\n",
    "\n",
    "On peut observer que c'est nécessaire à la définition de la fonction. Si on ne définit pas $\\mathrm{factorielle}(0) = 1$, on ne peut pas terminer le calcul ci-dessus. On le voit aussi en Python :"
   ]
  },
  {
   "cell_type": "code",
   "execution_count": 6,
   "id": "6fe0af34",
   "metadata": {
    "scrolled": true
   },
   "outputs": [
    {
     "ename": "RecursionError",
     "evalue": "maximum recursion depth exceeded",
     "output_type": "error",
     "traceback": [
      "\u001b[0;31m---------------------------------------------------------------------------\u001b[0m",
      "\u001b[0;31mRecursionError\u001b[0m                            Traceback (most recent call last)",
      "\u001b[0;32m/tmp/ipykernel_10012/1411310836.py\u001b[0m in \u001b[0;36m<module>\u001b[0;34m\u001b[0m\n\u001b[1;32m      7\u001b[0m \u001b[0;34m\u001b[0m\u001b[0m\n\u001b[1;32m      8\u001b[0m \u001b[0;31m# Pas de résultat !\u001b[0m\u001b[0;34m\u001b[0m\u001b[0;34m\u001b[0m\u001b[0m\n\u001b[0;32m----> 9\u001b[0;31m \u001b[0mfactorielle\u001b[0m\u001b[0;34m(\u001b[0m\u001b[0;36m5\u001b[0m\u001b[0;34m)\u001b[0m\u001b[0;34m\u001b[0m\u001b[0;34m\u001b[0m\u001b[0m\n\u001b[0m",
      "\u001b[0;32m/tmp/ipykernel_10012/1411310836.py\u001b[0m in \u001b[0;36mfactorielle\u001b[0;34m(n)\u001b[0m\n\u001b[1;32m      3\u001b[0m \u001b[0;34m\u001b[0m\u001b[0m\n\u001b[1;32m      4\u001b[0m     \u001b[0;31m# n! = n x (n-1)!\u001b[0m\u001b[0;34m\u001b[0m\u001b[0;34m\u001b[0m\u001b[0m\n\u001b[0;32m----> 5\u001b[0;31m     \u001b[0;32mreturn\u001b[0m \u001b[0mn\u001b[0m \u001b[0;34m*\u001b[0m \u001b[0mfactorielle\u001b[0m\u001b[0;34m(\u001b[0m\u001b[0mn\u001b[0m\u001b[0;34m-\u001b[0m\u001b[0;36m1\u001b[0m\u001b[0;34m)\u001b[0m\u001b[0;34m\u001b[0m\u001b[0;34m\u001b[0m\u001b[0m\n\u001b[0m\u001b[1;32m      6\u001b[0m \u001b[0;34m\u001b[0m\u001b[0m\n\u001b[1;32m      7\u001b[0m \u001b[0;34m\u001b[0m\u001b[0m\n",
      "... last 1 frames repeated, from the frame below ...\n",
      "\u001b[0;32m/tmp/ipykernel_10012/1411310836.py\u001b[0m in \u001b[0;36mfactorielle\u001b[0;34m(n)\u001b[0m\n\u001b[1;32m      3\u001b[0m \u001b[0;34m\u001b[0m\u001b[0m\n\u001b[1;32m      4\u001b[0m     \u001b[0;31m# n! = n x (n-1)!\u001b[0m\u001b[0;34m\u001b[0m\u001b[0;34m\u001b[0m\u001b[0m\n\u001b[0;32m----> 5\u001b[0;31m     \u001b[0;32mreturn\u001b[0m \u001b[0mn\u001b[0m \u001b[0;34m*\u001b[0m \u001b[0mfactorielle\u001b[0m\u001b[0;34m(\u001b[0m\u001b[0mn\u001b[0m\u001b[0;34m-\u001b[0m\u001b[0;36m1\u001b[0m\u001b[0;34m)\u001b[0m\u001b[0;34m\u001b[0m\u001b[0;34m\u001b[0m\u001b[0m\n\u001b[0m\u001b[1;32m      6\u001b[0m \u001b[0;34m\u001b[0m\u001b[0m\n\u001b[1;32m      7\u001b[0m \u001b[0;34m\u001b[0m\u001b[0m\n",
      "\u001b[0;31mRecursionError\u001b[0m: maximum recursion depth exceeded"
     ]
    }
   ],
   "source": [
    "def factorielle(n):\n",
    "    # Il manque le cas de base !\n",
    "    \n",
    "    # n! = n x (n-1)!\n",
    "    return n * factorielle(n-1)\n",
    "\n",
    "\n",
    "# Pas de résultat !\n",
    "factorielle(5)"
   ]
  },
  {
   "cell_type": "markdown",
   "id": "d3ade8c1",
   "metadata": {},
   "source": [
    "Python ne renvoie pas de résultat, et finit par renvoyer une erreur, disant essentiellement qu'il n'arrive pas à terminer le calcul.\n",
    "\n",
    "#### Le ou les appels récursifs\n",
    "\n",
    "De même, pour que la fonction finisse par renvoyer un résultat, il faut qu'elle s'appelle elle-même, mais sur un arguemnt *différent*, sinon la définition est circulaire :"
   ]
  },
  {
   "cell_type": "code",
   "execution_count": null,
   "id": "a642a5c1",
   "metadata": {},
   "outputs": [],
   "source": [
    "def factorielle(n):\n",
    "    # On a mis factorielle(n) au lieu de factorielle(n-1)\n",
    "    return n * factorielle(n)\n",
    "\n",
    "\n",
    "# Pas de résultat !\n",
    "factorielle(5)"
   ]
  },
  {
   "cell_type": "markdown",
   "id": "4f54efc4",
   "metadata": {},
   "source": [
    "La fonction s'appelle elle-même à l'infini, et Python renvoie une erreur similaire.\n",
    "\n",
    "Nous reviendrons plus en détail sur la récursivité au second semestre."
   ]
  }
 ],
 "metadata": {
  "kernelspec": {
   "display_name": "Python 3 (ipykernel)",
   "language": "python",
   "name": "python3"
  },
  "language_info": {
   "codemirror_mode": {
    "name": "ipython",
    "version": 3
   },
   "file_extension": ".py",
   "mimetype": "text/x-python",
   "name": "python",
   "nbconvert_exporter": "python",
   "pygments_lexer": "ipython3",
   "version": "3.10.12"
  }
 },
 "nbformat": 4,
 "nbformat_minor": 5
}
