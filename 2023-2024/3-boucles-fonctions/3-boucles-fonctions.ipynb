{
 "cells": [
  {
   "cell_type": "code",
   "execution_count": 1,
   "metadata": {
    "slideshow": {
     "slide_type": "skip"
    }
   },
   "outputs": [],
   "source": [
    "%load_ext nbtutor"
   ]
  },
  {
   "cell_type": "markdown",
   "metadata": {
    "slideshow": {
     "slide_type": "slide"
    }
   },
   "source": [
    "<div style='float:center; margin-right:20pt; width:30em'><img src='../img/logo-igm.png'></div>\n",
    "<div style='float:center; font-size:large'>\n",
    "    <strong>Algorithmique et programmation 1</strong><br>\n",
    "    L1 Mathématiques - L1 Informatique<br>\n",
    "    Semestre 1\n",
    "</div>"
   ]
  },
  {
   "cell_type": "markdown",
   "metadata": {},
   "source": [
    "# Retour sur les boucles"
   ]
  },
  {
   "cell_type": "markdown",
   "metadata": {
    "slideshow": {
     "slide_type": "subslide"
    }
   },
   "source": [
    "### Exemple : pile ou face, rejouer tant qu'on perd"
   ]
  },
  {
   "cell_type": "code",
   "execution_count": 2,
   "metadata": {
    "slideshow": {
     "slide_type": "fragment"
    }
   },
   "outputs": [
    {
     "name": "stdout",
     "output_type": "stream",
     "text": [
      "Pile (1) ou face (0) ? 1\n",
      "Perdu. Essaye encore.\n",
      "Pile (1) ou face (0) ? 1\n"
     ]
    }
   ],
   "source": [
    "# Un premier essai\n",
    "from random import randint\n",
    "tirage = randint(0,1)\n",
    "nombre_choisi = int(input(\"Pile (1) ou face (0) ? \"))\n",
    "if tirage == nombre_choisi:\n",
    "    print(\"Gagné\")\n",
    "else:\n",
    "    print(\"Perdu. Essaye encore.\")\n",
    "    tirage = randint(0,1)\n",
    "    nombre_choisi = int(input(\"Pile (1) ou face (0) ? \"))\n",
    "    if tirage == nombre_choisi:\n",
    "        print(\"Gagné\")\n",
    "    # ... Ça peut durer longtemps !"
   ]
  },
  {
   "cell_type": "code",
   "execution_count": 3,
   "metadata": {
    "scrolled": false,
    "slideshow": {
     "slide_type": "fragment"
    }
   },
   "outputs": [
    {
     "name": "stdout",
     "output_type": "stream",
     "text": [
      "Pile (1) ou face (0) ? 1\n",
      "Gagné !\n"
     ]
    }
   ],
   "source": [
    "# Un deuxième essai\n",
    "from random import randint\n",
    "tirage = 0\n",
    "nombre_choisi = 1\n",
    "while tirage != nombre_choisi:\n",
    "    tirage = randint(0,1)\n",
    "    nombre_choisi = int(input(\"Pile (1) ou face (0) ? \"))\n",
    "    if tirage != nombre_choisi:\n",
    "        print(\"Perdu. Essaye encore.\")\n",
    "print(\"Gagné !\")"
   ]
  },
  {
   "cell_type": "markdown",
   "metadata": {
    "slideshow": {
     "slide_type": "skip"
    }
   },
   "source": [
    "### Exemple : pile ou face, rejouer\n",
    "Écrire un programme qui nous fait rejouer à pile ou face tant qu'on perd et qu'on veut rejouer."
   ]
  },
  {
   "cell_type": "code",
   "execution_count": 4,
   "metadata": {
    "scrolled": false,
    "slideshow": {
     "slide_type": "skip"
    }
   },
   "outputs": [
    {
     "name": "stdout",
     "output_type": "stream",
     "text": [
      "Pile (1) ou face (0) ? 1\n",
      "Gagné\n"
     ]
    }
   ],
   "source": [
    "from random import randint\n",
    "rejouer = True\n",
    "perdu = True\n",
    "while rejouer and perdu:\n",
    "    tirage = randint(0,1)\n",
    "    nombre_choisi = int(input(\"Pile (1) ou face (0) ? \"))\n",
    "    if tirage == nombre_choisi:\n",
    "        perdu = False\n",
    "    else:\n",
    "        print(\"Perdu.\")\n",
    "        reponse = input(\"Voulez-vous rejouer ? [o/n]\")\n",
    "        if reponse == \"n\":\n",
    "            rejouer = False\n",
    "if not perdu:\n",
    "    print(\"Gagné\")"
   ]
  },
  {
   "cell_type": "markdown",
   "metadata": {
    "slideshow": {
     "slide_type": "slide"
    }
   },
   "source": [
    "## Répétition simple\n",
    "\n",
    "On peut répéter un bloc d'instructions grâce à une boucle « tant que » ou boucle `while`.\n",
    "\n",
    "- **Si** une certaine condition est vraie,\n",
    "  on va exécuter un certain bloc d'instructions ;\n",
    "- **Sinon**, on va passer directement à la suite du programme ;\n",
    "- Après chaque exécution du bloc, on réévalue la condition."
   ]
  },
  {
   "cell_type": "markdown",
   "metadata": {
    "slideshow": {
     "slide_type": "subslide"
    }
   },
   "source": [
    "**Vocabulaire :**\n",
    "\n",
    "- L'expression booléenne `condition` est appelée **condition de continuation**.\n",
    "- Sa négation (`not condition`) est appelée **condition d'arrêt**.\n",
    "- Le bloc d'instructions est appelé **corps de la boucle**.\n",
    "- Chaque exécution du corps de la boucle est appelée **itération**."
   ]
  },
  {
   "cell_type": "markdown",
   "metadata": {
    "slideshow": {
     "slide_type": "subslide"
    }
   },
   "source": [
    "<img src='img/while1.png' width='30%'>"
   ]
  },
  {
   "cell_type": "markdown",
   "metadata": {
    "slideshow": {
     "slide_type": "subslide"
    }
   },
   "source": [
    "**Syntaxe :**\n",
    "\n",
    "```python\n",
    "# début\n",
    "while condition:\n",
    "    # bloc d'instructions\n",
    "    # (corps de la boucle)\n",
    "# suite\n",
    "```"
   ]
  },
  {
   "cell_type": "markdown",
   "metadata": {
    "slideshow": {
     "slide_type": "subslide"
    }
   },
   "source": [
    "- `condition` est une **expression booléenne**\n",
    "- corps exécuté uniquement si `condition` s'évalue à `True`\n",
    "- après chaque exécution du corps, on réévalue `condition`\n",
    "    - si `condition` s'évalue à `False`, sortie de la boucle\n",
    "    - sinon, nouvelle **itération**\n",
    "\n",
    "Il peut n'y avoir aucune itération, ou un nombre infini !"
   ]
  },
  {
   "cell_type": "markdown",
   "metadata": {
    "slideshow": {
     "slide_type": "slide"
    }
   },
   "source": [
    "## Outil d'analyse : tableau de valeurs\n",
    "\n",
    "Utile pour exécuter manuellement une boucle\n",
    "\n",
    "- Une colonne pour indiquer le numéro de la dernière ligne du programme exécutée\n",
    "- Une colonne pour indiquer le nombre d'itérations exécutées\n",
    "- Une colonne par variable \"intéressante\"\n",
    "- Une colonne pour la condition de continuation\n",
    "- Éventuellement des colonnes explicatives supplémentaires\n",
    "\n",
    "On remplit le tableau au moins pour **la ligne précédant la boucle** et pour **la dernière ligne du corps**"
   ]
  },
  {
   "cell_type": "markdown",
   "metadata": {
    "slideshow": {
     "slide_type": "slide"
    }
   },
   "source": [
    "### Exemple : Calculer $a^p$\n",
    "\n",
    "On veut calculer $2^n$ (sans utiliser `**`).\n",
    "\n",
    "Algorithme naïf : on remarque que $2^n = 2^{n-1} \\times 2 = 1 \\times 2 \\times 2 \\times \\cdots \\times 2$\n",
    "\n",
    "1. on commence par fixer le résultat à 1\n",
    "2. on multiplie le résultat par 2 `n` fois"
   ]
  },
  {
   "cell_type": "code",
   "execution_count": 5,
   "metadata": {
    "scrolled": true,
    "slideshow": {
     "slide_type": "fragment"
    }
   },
   "outputs": [
    {
     "name": "stdout",
     "output_type": "stream",
     "text": [
      "2 puissance 4 égale 16\n"
     ]
    }
   ],
   "source": [
    "a = 2\n",
    "p = 4\n",
    "res = 1  # pourquoi ?\n",
    "i = 0\n",
    "while i < p:\n",
    "    res = res * a\n",
    "    i = i + 1\n",
    "print(a, \"puissance\", p, \"égale\", res)"
   ]
  },
  {
   "cell_type": "markdown",
   "metadata": {
    "slideshow": {
     "slide_type": "subslide"
    }
   },
   "source": [
    "ligne  | itération | `a` | `p` | `res` |  `i` | `i < p` | commentaire\n",
    "-------|-----------|-----|-----|-------|------|---------|-----------------------------\n",
    "1      |           | 2   |     |       |      |         |\n",
    "2      |           | -   | 4   |       |      |         |\n",
    "3      |           | -   | -   | 1     |      |         |\n",
    "4      |           | -   | -   | -     | 0    | `True`  | \n",
    "5      |           | -   | -   | -     | -    | `True`  | condition vraie, on entre\n",
    "6      | 1         | -   | -   | 2     | -    | `True`  | \n",
    "7      | 1         | -   | -   | -     | 1    | `True`  | fin de la 1e itération\n",
    "5      |           | -   | -   | -     | -    | `True`  | condition vraie, on continue\n",
    "6      | 2         | -   | -   | 4     | -    | `True`  | \n",
    "7      | 2         | -   | -   | -     | 2    | `True`  | fin de la 2e itération\n",
    "5      |           | -   | -   | -     | -    | `True`  | condition vraie, on continue\n",
    "6      | 3         | -   | -   | 8     | -    | `True`  | \n",
    "7      | 3         | -   | -   | -     | 3    | `True`  | fin de la 3e itération\n",
    "5      |           | -   | -   | -     | -    | `True`  | condition vraie, on continue\n",
    "6      | 4         | -   | -   | 16    | -    | `True`  | \n",
    "7      | 4         | -   | -   | -     | 4    | `False` | fin de la 4e itération\n",
    "5      |           | -   | -   | -     | -    | `False` | condition fausse, on arrête\n",
    "8      |           | -   | -   | -     | -    | `False` | suite du programme"
   ]
  },
  {
   "cell_type": "markdown",
   "metadata": {
    "slideshow": {
     "slide_type": "subslide"
    }
   },
   "source": [
    "**Remarques :**\n",
    "- après la ligne 4 et chaque exécution de la ligne 7 on a `res == a**i`\n",
    "- `i` se rapproche de `p` à chaque tour sans le dépasser"
   ]
  },
  {
   "cell_type": "markdown",
   "metadata": {
    "slideshow": {
     "slide_type": "subslide"
    }
   },
   "source": [
    "Version \"compacte\" sans regarder toutes les lignes ni les variables qui ne changent pas :\n",
    "\n",
    "ligne  | itération | `res` |  `i` | `i < p` | commentaire\n",
    "-------|-----------|-------|------|---------|-----------------------------\n",
    "4      |           | 1     | 0    | `True`  | juste avant la première itération\n",
    "7      | 1         | 2     | 1    | `True`  | à la fin de la 1e itération\n",
    "7      | 2         | 4     | 2    | `True`  | à la fin de la 2e itération\n",
    "7      | 3         | 8     | 3    | `True`  | à la fin de la 3e itération\n",
    "7      | 4         | 16    | 4    | `False` | à la fin de la 4e itération (sortie)"
   ]
  },
  {
   "cell_type": "markdown",
   "metadata": {
    "slideshow": {
     "slide_type": "subslide"
    }
   },
   "source": [
    "**Remarques :**\n",
    "- pendant tout le programme `a` vaut `2` et `p` vaut `4`\n",
    "- après la ligne 4 et chaque exécution de la ligne 7 on a `res == a**i`\n",
    "- `i` se rapproche de `p` à chaque tour sans le dépasser\n",
    "- à la fin de la dernière itération `i == p` et donc `res == a**p`"
   ]
  },
  {
   "cell_type": "markdown",
   "metadata": {
    "slideshow": {
     "slide_type": "skip"
    }
   },
   "source": [
    "#### Variante"
   ]
  },
  {
   "cell_type": "code",
   "execution_count": 6,
   "metadata": {
    "scrolled": true,
    "slideshow": {
     "slide_type": "skip"
    }
   },
   "outputs": [
    {
     "name": "stdout",
     "output_type": "stream",
     "text": [
      "2 puissance 4 égale 16\n"
     ]
    }
   ],
   "source": [
    "a = 2\n",
    "p = 4\n",
    "res = 1\n",
    "i = p  # changement !\n",
    "while i > 0:  # changement !\n",
    "    res *= a\n",
    "    i -= 1  # changement !\n",
    "print(a, \"puissance\", p, \"égale\", res)"
   ]
  },
  {
   "cell_type": "markdown",
   "metadata": {
    "slideshow": {
     "slide_type": "skip"
    }
   },
   "source": [
    "Tableau de valeurs compact :\n",
    "\n",
    "ligne  | itération | res  |  i   | i > 0   | commentaire\n",
    "-------|-----------|------|------|---------|-----------------------------\n",
    "4      |           | 1    | 4    | `True`  | avant la première itération\n",
    "7      | 1         | 2    | 3    | `True`  |\n",
    "7      | 2         | 4    | 2    | `True`  |\n",
    "7      | 3         | 8    | 1    | `True`  |\n",
    "7      | 4         | 16   | 0    | `False` | sortie de la boucle"
   ]
  },
  {
   "cell_type": "markdown",
   "metadata": {
    "slideshow": {
     "slide_type": "skip"
    }
   },
   "source": [
    "**Remarques :**\n",
    "- pendant tout le programme `a` vaut `2` et `p` vaut `4`\n",
    "- après la ligne 4 et chaque exécution de la ligne 7 on a `res == a**(p-i)`\n",
    "- la valeur de `i` est positive au début et décroît strictement\n",
    "- à la fin de la dernière itération `i == 0` et donc `res == a**(p-0) == a**p`"
   ]
  },
  {
   "cell_type": "markdown",
   "metadata": {
    "slideshow": {
     "slide_type": "slide"
    }
   },
   "source": [
    "## Terminaison et correction d'une boucle\n",
    "\n",
    "En général rien ne garantit :\n",
    "\n",
    "- qu'une boucle `while` va se terminer un jour\n",
    "\n",
    "    ```python\n",
    "    while(True):\n",
    "        print(\"spam\")\n",
    "    ```\n",
    "    \n",
    "- ni qu'elle produit le bon effet\n",
    "\n",
    "Pour cela il faut en général faire des **preuves**"
   ]
  },
  {
   "cell_type": "markdown",
   "metadata": {
    "slideshow": {
     "slide_type": "subslide"
    }
   },
   "source": [
    "### Preuve de terminaison : variant\n",
    "\n",
    "Méthode possible pour montrer qu'une boucle termine\n",
    "\n",
    "- montrer qu'une certaine quantité décroît strictement à chaque tour de boucle\n",
    "- montrer qu'elle ne peut pas décroître indéfiniment\n",
    "\n",
    "On appelle une telle quantité **variant de boucle**, son existence garantit la terminaison"
   ]
  },
  {
   "cell_type": "markdown",
   "metadata": {
    "slideshow": {
     "slide_type": "subslide"
    }
   },
   "source": [
    "#### Exemple : algorithme d'Euclide\n",
    "\n",
    "Algorithme de l'antiquité permettant de déterminer le PGCD de deux nombres entiers"
   ]
  },
  {
   "cell_type": "code",
   "execution_count": 7,
   "metadata": {
    "slideshow": {
     "slide_type": "-"
    }
   },
   "outputs": [
    {
     "name": "stdout",
     "output_type": "stream",
     "text": [
      "le pgcd de 129 et 36 est 3\n"
     ]
    }
   ],
   "source": [
    "a0, b0 = 129, 36  # entiers positifs quelconques\n",
    "\n",
    "a, b = a0, b0\n",
    "while b > 0:\n",
    "    r = a % b\n",
    "    a = b\n",
    "    b = r\n",
    "\n",
    "print(\"le pgcd de\", a0, \"et\", b0, \"est\", a)"
   ]
  },
  {
   "cell_type": "markdown",
   "metadata": {
    "slideshow": {
     "slide_type": "subslide"
    }
   },
   "source": [
    "Pourquoi l'algorithme termine-t-il ?\n",
    "\n",
    "- on peut choisir comme variant la **valeur de `b`**\n",
    "- initialement, `b > 0`\n",
    "- la boucle ne s'exécute pas si `b <= 0`\n",
    "- la valeur de `b` décroît strictement\n",
    "\n",
    "&rarr; Au bout d'un moment, on `b` atteint `0`."
   ]
  },
  {
   "cell_type": "markdown",
   "metadata": {
    "slideshow": {
     "slide_type": "skip"
    }
   },
   "source": [
    "Plus formellement, comme il ne peut exister de suite infinie strictement décroissante d'entiers positifs, la boucle termine."
   ]
  },
  {
   "cell_type": "markdown",
   "metadata": {
    "slideshow": {
     "slide_type": "subslide"
    }
   },
   "source": [
    "On peut repérer le variant dans le **tableau de valeurs**\n",
    "\n",
    "ligne  | itération | `a` | `b` | `a % b` | commentaire\n",
    "-------|-----------|-----|-----|---------|------------------------\n",
    "3      |           | 129 | 36  | 21      | avant la boucle\n",
    "7      | 1         | 36  | 21  | 15      | fin de 1e itération\n",
    "7      | 2         | 21  | 15  | 6       | ...\n",
    "7      | 3         | 16  | 6   | 3       |\n",
    "7      | 4         | 6   | 3   | 0       | \n",
    "7      | 5         | 3   | 0   | -       | on va sortir de la boucle"
   ]
  },
  {
   "cell_type": "markdown",
   "metadata": {
    "slideshow": {
     "slide_type": "-"
    }
   },
   "source": [
    "**Variant :** la valeur de `b` est positive au début et décroît strictement"
   ]
  },
  {
   "cell_type": "markdown",
   "metadata": {
    "slideshow": {
     "slide_type": "slide"
    }
   },
   "source": [
    "### Preuve de correction : invariant\n",
    "\n",
    "Méthode possible pour montrer qu'une boucle produit le bon effet :\n",
    "\n",
    "- montrer qu'une certaine propriété $I$ est vraie avant l'entrée dans la boucle\n",
    "- montrer que **si** $I$ est vraie au début du corps **alors** elle est encore vraie à la fin\n",
    "- en déduire que $I$ est vraie à la sortie de la boucle\n",
    "\n",
    "On appelle une telle propriété **invariant**, son existence peut permettre de garantir la correction"
   ]
  },
  {
   "cell_type": "markdown",
   "metadata": {
    "slideshow": {
     "slide_type": "slide"
    }
   },
   "source": [
    "#### Exemple : retour sur le calcul de puissance\n",
    "\n"
   ]
  },
  {
   "cell_type": "code",
   "execution_count": 8,
   "metadata": {
    "scrolled": true,
    "slideshow": {
     "slide_type": "subslide"
    }
   },
   "outputs": [
    {
     "name": "stdout",
     "output_type": "stream",
     "text": [
      "2 puissance 4 égale 16\n"
     ]
    }
   ],
   "source": [
    "a = 2\n",
    "p = 4\n",
    "res = 1\n",
    "i = 0\n",
    "while i < p:\n",
    "    res *= a\n",
    "    i += 1\n",
    "print(a, \"puissance\", p, \"égale\", res)"
   ]
  },
  {
   "cell_type": "markdown",
   "metadata": {
    "slideshow": {
     "slide_type": "subslide"
    }
   },
   "source": [
    "ligne  | itération | `res` |  `i` | `i < p` | commentaire\n",
    "-------|-----------|-------|------|---------|-----------------------------\n",
    "4      |           | 1     | 0    | `True`  | juste avant la première itération\n",
    "7      | 1         | 2     | 1    | `True`  | à la fin de la 1e itération\n",
    "7      | 2         | 4     | 2    | `True`  | à la fin de la 2e itération\n",
    "7      | 3         | 8     | 3    | `True`  | à la fin de la 3e itération\n",
    "7      | 4         | 16    | 4    | `False` | à la fin de la 4e itération (sortie)"
   ]
  },
  {
   "cell_type": "markdown",
   "metadata": {
    "slideshow": {
     "slide_type": "subslide"
    }
   },
   "source": [
    "**Remarques :**\n",
    "- **Variant :** `p - i` décroît de 1 à chaque tour et la boucle s'arrête quand il atteint `0`\n",
    "- **Invariant :** après la ligne 4 et chaque exécution de la ligne 7 on a `res == a**i`\n",
    "- **En sortie de boucle :** `i == p` et donc `res == a**p`"
   ]
  },
  {
   "cell_type": "markdown",
   "metadata": {
    "slideshow": {
     "slide_type": "skip"
    }
   },
   "source": [
    "#### Variante"
   ]
  },
  {
   "cell_type": "code",
   "execution_count": 9,
   "metadata": {
    "scrolled": true,
    "slideshow": {
     "slide_type": "skip"
    }
   },
   "outputs": [
    {
     "name": "stdout",
     "output_type": "stream",
     "text": [
      "2 puissance 4 égale 16\n"
     ]
    }
   ],
   "source": [
    "a = 2\n",
    "p = 4\n",
    "res = 1\n",
    "i = p\n",
    "while i > 0:\n",
    "    res *= a\n",
    "    i -= 1\n",
    "print(a, \"puissance\", p, \"égale\", res)"
   ]
  },
  {
   "cell_type": "markdown",
   "metadata": {
    "slideshow": {
     "slide_type": "skip"
    }
   },
   "source": [
    "ligne  | itération | `res` | `i`  | `i > 0` | commentaire\n",
    "-------|-----------|-------|------|---------|-----------------------------\n",
    "4      |           | 1     | 4    | `True`  | avant la première itération\n",
    "7      | 1         | 2     | 3    | `True`  |\n",
    "7      | 2         | 4     | 2    | `True`  |\n",
    "7      | 3         | 8     | 1    | `True`  |\n",
    "7      | 4         | 16    | 0    | `False` | sortie de la boucle"
   ]
  },
  {
   "cell_type": "markdown",
   "metadata": {
    "slideshow": {
     "slide_type": "skip"
    }
   },
   "source": [
    "**Remarques :**\n",
    "- **Variant :** `i` décroît de 1 à chaque tour et la boucle s'arrête quand il atteint 0\n",
    "- **Invariant :** après la ligne 4 et chaque exécution de la ligne 7 on a `res == a**(p-i)`\n",
    "- **En sortie de boucle :** `i == 0` et donc `res == a**(p-0) == a**p`"
   ]
  },
  {
   "cell_type": "markdown",
   "metadata": {
    "slideshow": {
     "slide_type": "skip"
    }
   },
   "source": [
    "#### Exemple : encadrer un nombre\n",
    "\n",
    "On veut encadrer un nombre positif $n$ entre deux puissances successives d'un nombre $b$. On cherche l'unique entier $k$ tel que :\n",
    "\n",
    "$$\n",
    "b^k \\leq n < b^{k+1}\n",
    "$$\n",
    "\n",
    "On appelle parfois $k$ le *logarithme entier* de $n$ en base $b$, parce que\n",
    "\n",
    "$$\n",
    "k \\leq \\log_b n < k+1\n",
    "$$"
   ]
  },
  {
   "cell_type": "markdown",
   "metadata": {
    "slideshow": {
     "slide_type": "skip"
    }
   },
   "source": [
    "Par exemple :\n",
    "\n",
    "- pour $b = 10$ on a $10^3 \\leq 1024 < 10^4$, donc $k = 3$.\n",
    "- pour $b = 2$ on a $2^{10} \\leq 1024 < 2^{11}$, donc $k = 10$."
   ]
  },
  {
   "cell_type": "code",
   "execution_count": 10,
   "metadata": {
    "slideshow": {
     "slide_type": "skip"
    }
   },
   "outputs": [
    {
     "name": "stdout",
     "output_type": "stream",
     "text": [
      "le plus petit k tel que 10 à la puissance k est inférieur ou égal à 1000 est 3\n"
     ]
    }
   ],
   "source": [
    "n = 1000  # le nombre à encadrer\n",
    "b = 10    # base de la puissance\n",
    "exp = 0   # exposant courant\n",
    "temp = 1  # valeurs successives de b**exp\n",
    "while temp <= n:\n",
    "    temp *= b\n",
    "    exp += 1\n",
    "print(\"le plus petit k tel que\", b, \"à la puissance k \" \n",
    "      \"est inférieur ou égal à\", n, \"est\", exp-1)  # compléter"
   ]
  },
  {
   "cell_type": "markdown",
   "metadata": {
    "slideshow": {
     "slide_type": "skip"
    }
   },
   "source": [
    "ligne  | temp  | exp  | temp < n | commentaire\n",
    "-------|-------|------|----------|-----------------------------\n",
    "4      | 1     | 0    | `True`   | avant la première itération\n",
    "7      | 10    | 1    | `True`   |\n",
    "7      | 100   | 2    | `True`   |\n",
    "7      | 1000  | 3    | `True`   |\n",
    "7      | 10000 | 4    | `False`  | on sort de la boucle\n",
    "\n",
    "- **Variant :** `n - temp` initialement $\\geq 0$, diminue à chaque tour\n",
    "- **Invariant** (simplifié) lignes 4 et 7 : `temp == 10**exp` et `10**(exp-1) <= n`\n",
    "- **À la fin:** `10**(exp-1) <= n` et `10**exp > n`, autrement dit `10**(exp-1) <= n < 10**exp`"
   ]
  },
  {
   "cell_type": "markdown",
   "metadata": {
    "slideshow": {
     "slide_type": "skip"
    }
   },
   "source": [
    "#### Exemple : convertir un nombre en binaire\n",
    "\n",
    "Le nombre 42 s'écrit `101010` en binaire parce que\n",
    "\n",
    "$$\n",
    "\\begin{align*}\n",
    "42 & = 0 + 2 \\times 21\\\\\n",
    "   & = 0 + 2 \\times (1 + 2 \\times 10))\\\\\n",
    "   & = \\ldots\\\\\n",
    "   & = 0 + 2 \\times (1 + 2 \\times (0 + 2 \\times (1 + 2 \\times (0 + 2 \\times (1 + 2 \\times 0)))))\\\\\n",
    "   & = 0 \\times 2^0 + 1 \\times 2^1 + 0 \\times 2^2 + 1 \\times 2^3 + 0 \\times 2^4 + 1 \\times 2^5\n",
    "\\end{align*}\n",
    "$$"
   ]
  },
  {
   "cell_type": "code",
   "execution_count": 11,
   "metadata": {
    "slideshow": {
     "slide_type": "skip"
    }
   },
   "outputs": [
    {
     "data": {
      "text/plain": [
       "'0b101010'"
      ]
     },
     "execution_count": 11,
     "metadata": {},
     "output_type": "execute_result"
    }
   ],
   "source": [
    "bin(42)"
   ]
  },
  {
   "cell_type": "markdown",
   "metadata": {
    "slideshow": {
     "slide_type": "skip"
    }
   },
   "source": [
    "Algorithme de conversion de $n>0$ en binaire :\n",
    "\n",
    "1. Calculer le quotient $q$ et le reste $r$ de $n$ par 2\n",
    "2. Ajouter $r$ comme nouveau chiffre à **gauche** du résultat\n",
    "3. Poser $n = q$ et recommencer en 1 si $n > 0$"
   ]
  },
  {
   "cell_type": "markdown",
   "metadata": {
    "slideshow": {
     "slide_type": "skip"
    }
   },
   "source": [
    "Suite de l'exemple :\n",
    "\n",
    "\\begin{align*}\n",
    "& 42 & & = 2 * 21 & & + 0 & & \\rightarrow \\text{chiffre } 0\\\\\n",
    "& 21 & & = 2 * 10 & & + 1 & & \\rightarrow \\text{chiffre } 1\\\\\n",
    "& 10 & & = 2 * 5 & & + 0 & & \\rightarrow \\text{chiffre } 0\\\\\n",
    "& 5 & & = 2 * 2 & & + 1 & & \\rightarrow \\text{chiffre } 1\\\\\n",
    "& 2 & & = 2 * 1 & & + 0 & & \\rightarrow \\text{chiffre } 0\\\\\n",
    "& 1 & & = 2 * 0 & & + 1 & & \\rightarrow \\text{chiffre } 1\\\\\n",
    "\\end{align*}"
   ]
  },
  {
   "cell_type": "code",
   "execution_count": 12,
   "metadata": {
    "slideshow": {
     "slide_type": "skip"
    }
   },
   "outputs": [
    {
     "name": "stdout",
     "output_type": "stream",
     "text": [
      "101010\n"
     ]
    }
   ],
   "source": [
    "n = 42\n",
    "k = n\n",
    "res = \"\"  # on utilise une chaîne\n",
    "while k > 0:\n",
    "    q = k // 2\n",
    "    r = k % 2\n",
    "    res = str(r) + res\n",
    "    k = q\n",
    "print(res)"
   ]
  },
  {
   "cell_type": "markdown",
   "metadata": {
    "slideshow": {
     "slide_type": "skip"
    }
   },
   "source": [
    "ligne  | itér  | `k`   | `r` | `res`      | $\\texttt{k}\\times2^{\\text{itér}}$ | val. `res` | `k > 0`  | commentaire\n",
    "-------|-------|-------|-----|------------|----------------------------|------------|----------|-----------------------------\n",
    "3      | 0     | 42    |     | `''`       | $42\\times2^0=42$ | 0          | `True`   | avant la première itération\n",
    "8      | 1     | 21    | 0   | `'0'`      | $21\\times2^1=42$        | 0          | `True`   | fin de la 1e itération\n",
    "8      | 2     | 10    | 1   | `'10'`     | $10\\times2^2=40$        | 2          | `True`   |\n",
    "8      | 3     | 5     | 0   | `'010'`    | $5\\times2^3=40$         | 2          | `True`   |\n",
    "8      | 4     | 2     | 1   | `'1010'`   | $2\\times2^4=32$         | 10         | `True`   |\n",
    "8      | 5     | 1     | 0   | `'01010'`  | $1\\times2^5=32$         | 10         | `True`   |\n",
    "8      | 6     | 0     | 1   | `'101010'` | $0\\times2^6=32$         | 42         | `False`  | sortie de la boucle\n",
    "\n",
    "- **Invariant** : `res` contient les (nombre d'itérations) derniers chiffres de la conversion de `n` en binaire  \n",
    "  <div style='color:gray'>$k \\times\\, 2^\\text{(itér)} +$ (valeur de res) $= n$</div>\n",
    "- **Variant :** `n - temp` initialement $\\geq 0$, diminue à chaque tour"
   ]
  },
  {
   "cell_type": "markdown",
   "metadata": {
    "slideshow": {
     "slide_type": "skip"
    }
   },
   "source": [
    "**Exercice :**\n",
    "- dresser le tableau de valeurs pour $n = 25$\n",
    "- adapter l'algorithme pour convertir $n$ en base 4, puis en base $b < 10$\n",
    "\n",
    "  ref : [Compter comme les Shadoks](https://www.youtube.com/watch?v=lP9PaDs2xgQ)"
   ]
  },
  {
   "cell_type": "markdown",
   "metadata": {
    "slideshow": {
     "slide_type": "skip"
    }
   },
   "source": [
    "**Exercice :** quel est l'invariant de boucle pour l'algorithme d'Euclide ?"
   ]
  },
  {
   "cell_type": "markdown",
   "metadata": {
    "slideshow": {
     "slide_type": "slide"
    }
   },
   "source": [
    "## Boucles imbriquées"
   ]
  },
  {
   "cell_type": "markdown",
   "metadata": {
    "slideshow": {
     "slide_type": "-"
    }
   },
   "source": [
    "On peut écrire une boucle à l'intérieur d'une autre boucle"
   ]
  },
  {
   "cell_type": "markdown",
   "metadata": {
    "slideshow": {
     "slide_type": "subslide"
    }
   },
   "source": [
    "<img src='img/while2.png' width='40%'>"
   ]
  },
  {
   "cell_type": "markdown",
   "metadata": {
    "slideshow": {
     "slide_type": "subslide"
    }
   },
   "source": [
    "La syntaxe d'une double boucle `while` :\n",
    "```python\n",
    "# début\n",
    "while condition1:\n",
    "    # début corps 1\n",
    "    while condition2:\n",
    "        # corps 2\n",
    "    # fin corps 1\n",
    "# suite\n",
    "```"
   ]
  },
  {
   "cell_type": "markdown",
   "metadata": {
    "slideshow": {
     "slide_type": "subslide"
    }
   },
   "source": [
    "#### Exemple : que fait ce programme ?"
   ]
  },
  {
   "cell_type": "code",
   "execution_count": 13,
   "metadata": {
    "slideshow": {
     "slide_type": "fragment"
    }
   },
   "outputs": [],
   "source": [
    "n = 5\n",
    "i = 0\n",
    "resultat = \"\"\n",
    "while i < n:\n",
    "    j = 0\n",
    "    while j < n:\n",
    "        resultat += '* '\n",
    "        j += 1\n",
    "    resultat += '\\n'\n",
    "    i += 1\n",
    "# print(resultat)"
   ]
  },
  {
   "cell_type": "markdown",
   "metadata": {
    "slideshow": {
     "slide_type": "subslide"
    }
   },
   "source": [
    "#### Exemple : table d'addition\n",
    "\n",
    "But : afficher toutes les additions de nombres inférieurs à `n`"
   ]
  },
  {
   "cell_type": "code",
   "execution_count": 14,
   "metadata": {
    "slideshow": {
     "slide_type": "subslide"
    }
   },
   "outputs": [
    {
     "name": "stdout",
     "output_type": "stream",
     "text": [
      "0 + 0 = 0\n",
      "0 + 1 = 1\n",
      "0 + 2 = 2\n",
      "0 + 3 = 3\n",
      "0 + 4 = 4\n",
      "0 + 5 = 5\n",
      "0 + 6 = 6\n",
      "0 + 7 = 7\n",
      "0 + 8 = 8\n",
      "0 + 9 = 9\n",
      "0 + 10 = 10\n",
      "1 + 0 = 1\n",
      "1 + 1 = 2\n",
      "1 + 2 = 3\n",
      "1 + 3 = 4\n",
      "1 + 4 = 5\n",
      "1 + 5 = 6\n",
      "1 + 6 = 7\n",
      "1 + 7 = 8\n",
      "1 + 8 = 9\n",
      "1 + 9 = 10\n",
      "1 + 10 = 11\n",
      "2 + 0 = 2\n",
      "2 + 1 = 3\n",
      "2 + 2 = 4\n",
      "2 + 3 = 5\n",
      "2 + 4 = 6\n",
      "2 + 5 = 7\n",
      "2 + 6 = 8\n",
      "2 + 7 = 9\n",
      "2 + 8 = 10\n",
      "2 + 9 = 11\n",
      "2 + 10 = 12\n"
     ]
    }
   ],
   "source": [
    "m = 3\n",
    "n = 11\n",
    "\n",
    "a = 0  # hors de la boucle externe !\n",
    "while a < m:\n",
    "    b = 0  # dans la boucle externe !\n",
    "    while b < n:\n",
    "        print(a, '+', b, '=', a+b)\n",
    "        b += 1  # dans la boucle interne !\n",
    "    a += 1  # dans la boucle externe !"
   ]
  },
  {
   "cell_type": "markdown",
   "metadata": {
    "slideshow": {
     "slide_type": "skip"
    }
   },
   "source": [
    "#### Exemple : compter jusqu'à 59, dix nombres par ligne "
   ]
  },
  {
   "cell_type": "code",
   "execution_count": 15,
   "metadata": {
    "slideshow": {
     "slide_type": "skip"
    }
   },
   "outputs": [
    {
     "name": "stdout",
     "output_type": "stream",
     "text": [
      "0\t1\t2\t3\t4\t5\t6\t\n",
      "7\t8\t9\t10\t11\t12\t13\t\n",
      "14\t15\t16\t17\t18\t19\t20\t\n",
      "21\t22\t23\t24\t25\t26\t27\t\n",
      "28\t29\t30\t31\t32\t33\t34\t\n",
      "35\t36\t37\t38\t39\t40\t41\t\n",
      "42\t43\t44\t45\t46\t47\t48\t\n",
      "49\t50\t51\t52\t53\t54\t55\t\n",
      "56\t57\t58\t59\t\n"
     ]
    }
   ],
   "source": [
    "# paramètres\n",
    "limite = 60\n",
    "nb_colonnes = 7\n",
    "\n",
    "courant = 0\n",
    "while courant < limite:\n",
    "    colonne = 0\n",
    "    while colonne < nb_colonnes and courant < limite:\n",
    "        print(courant, end = '\\t')\n",
    "        colonne += 1\n",
    "        courant += 1\n",
    "    print()  # affiche un retour à la ligne"
   ]
  },
  {
   "cell_type": "markdown",
   "metadata": {
    "slideshow": {
     "slide_type": "skip"
    }
   },
   "source": [
    "**Exercice :** (pas si évident) faire en sorte que les nombres successifs apparaissent sur une même colonne"
   ]
  },
  {
   "cell_type": "code",
   "execution_count": 16,
   "metadata": {
    "slideshow": {
     "slide_type": "skip"
    }
   },
   "outputs": [
    {
     "name": "stdout",
     "output_type": "stream",
     "text": [
      "0\t4\t8\t12\t16\t20\t24\t28\t32\t36\t\n",
      "1\t5\t9\t13\t17\t21\t25\t29\t33\t\n",
      "2\t6\t10\t14\t18\t22\t26\t30\t34\t\n",
      "3\t7\t11\t15\t19\t23\t27\t31\t35\t\n"
     ]
    }
   ],
   "source": [
    "# paramètres\n",
    "limite = 37\n",
    "nb_colonnes = 10\n",
    "\n",
    "nb_lignes = limite // nb_colonnes + 1\n",
    "ligne = 0\n",
    "while ligne < nb_lignes:\n",
    "    colonne = 0\n",
    "    courant = ligne\n",
    "    while courant < limite and colonne < nb_colonnes:\n",
    "        print(courant, end = '\\t')\n",
    "        courant += nb_lignes\n",
    "        colonne += 1\n",
    "    ligne += 1\n",
    "    print()  # affiche un retour à la ligne"
   ]
  },
  {
   "cell_type": "markdown",
   "metadata": {
    "slideshow": {
     "slide_type": "skip"
    }
   },
   "source": [
    "## <img src='img/non-exigible.png' width='50px' style='display:inline'> Contrôle de boucle \n",
    "\n",
    "Tout ce qui suit est *non exigible en contrôle*.\n",
    "\n",
    "### Instruction `break`"
   ]
  },
  {
   "cell_type": "markdown",
   "metadata": {
    "slideshow": {
     "slide_type": "skip"
    }
   },
   "source": [
    "On peut sortir prématurément d’une boucle `while`\n",
    "- Instruction `break` dans le corps (en général dans une conditionnelle)\n",
    "- Force une sortie de boucle et passe directement à la suite du programme\n",
    "- On ne réévalue pas la condition du `while`\n",
    "  "
   ]
  },
  {
   "cell_type": "markdown",
   "metadata": {
    "slideshow": {
     "slide_type": "skip"
    }
   },
   "source": [
    "<img src='img/while3.png' width='30%'>"
   ]
  },
  {
   "cell_type": "markdown",
   "metadata": {
    "slideshow": {
     "slide_type": "skip"
    }
   },
   "source": [
    "**Exemple :** saisie contrôlée sans duplication de l'instruction `input` :"
   ]
  },
  {
   "cell_type": "code",
   "execution_count": 17,
   "metadata": {
    "slideshow": {
     "slide_type": "skip"
    }
   },
   "outputs": [
    {
     "name": "stdout",
     "output_type": "stream",
     "text": [
      "Note du premier contrôle : 5\n"
     ]
    }
   ],
   "source": [
    "while True:\n",
    "    note_cc1 = float(input('Note du premier contrôle : '))\n",
    "    if 0 <= note_cc1 <= 20:\n",
    "        # saisie correcte, on termine la boucle\n",
    "        break\n",
    "    # saisie incorrecte, on recommence\n",
    "    print('Erreur de saisie.')"
   ]
  },
  {
   "cell_type": "markdown",
   "metadata": {
    "slideshow": {
     "slide_type": "skip"
    }
   },
   "source": [
    "### Instruction `continue`"
   ]
  },
  {
   "cell_type": "markdown",
   "metadata": {
    "slideshow": {
     "slide_type": "skip"
    }
   },
   "source": [
    "On peut passer prématurément à l’itération suivante\n",
    "- Instruction `continue` dans le corps de la boucle\n",
    "- On retourne directement à la condition, et on la réévalue"
   ]
  },
  {
   "cell_type": "code",
   "execution_count": 18,
   "metadata": {
    "slideshow": {
     "slide_type": "skip"
    }
   },
   "outputs": [
    {
     "name": "stdout",
     "output_type": "stream",
     "text": [
      "Dis-moi quelque chose : 1\n",
      "Ta phrase fait 1 caractères.\n",
      "Dis-moi quelque chose : arrête\n",
      "C'est bon, j'ai compris !\n"
     ]
    }
   ],
   "source": [
    "while True:\n",
    "    saisie = input(\"Dis-moi quelque chose : \")\n",
    "    if saisie == \"\":\n",
    "        print(\"Tu n'as rien dit !\")\n",
    "        continue\n",
    "    if saisie == \"je réfléchis\":  # elif inutile ici !\n",
    "        print(\"OK, j'attends...\")\n",
    "        continue\n",
    "    if saisie == \"stop\":  # elif inutile ici !\n",
    "        print(\"D'accord...\")\n",
    "        break\n",
    "    if saisie == \"arrête\":  # elif inutile ici !\n",
    "        print(\"C'est bon, j'ai compris !\")\n",
    "        break\n",
    "    # else inutile ici !\n",
    "    print(\"Ta phrase fait\", len(saisie), \"caractères.\")"
   ]
  },
  {
   "cell_type": "markdown",
   "metadata": {
    "slideshow": {
     "slide_type": "skip"
    }
   },
   "source": [
    "### Remarques sur `break` et `continue`\n",
    "\n",
    "- Ces deux instructions ne sont à utiliser que par des programmeurs confirmés\n",
    "- Elles compliquent en général la compréhension et l'analyse du code\n",
    "- On peut toujours s'en sortir sans (en utilisant des `if`), même si ça peut rendre le code moins \"élégant\""
   ]
  },
  {
   "cell_type": "code",
   "execution_count": 19,
   "metadata": {
    "slideshow": {
     "slide_type": "skip"
    }
   },
   "outputs": [
    {
     "name": "stdout",
     "output_type": "stream",
     "text": [
      "Dis-moi quelque chose : arrête\n",
      "Ta phrase fait 6 caractères.\n",
      "C'est bon, j'ai compris !\n"
     ]
    }
   ],
   "source": [
    "saisie = \"\"\n",
    "while saisie != \"stop\" and saisie != \"arrête\":\n",
    "    saisie = input(\"Dis-moi quelque chose : \")\n",
    "    if saisie == \"\":\n",
    "        print(\"Tu n'as rien dit !\")\n",
    "    elif saisie == \"je réfléchis\":\n",
    "        print(\"OK, j'attends...\")\n",
    "    else:\n",
    "        print(\"Ta phrase fait\", len(saisie), \"caractères.\")\n",
    "if saisie == \"stop\":\n",
    "    print(\"D'accord...\")\n",
    "elif saisie == \"arrête\":\n",
    "    print(\"C'est bon, j'ai compris !\")"
   ]
  },
  {
   "cell_type": "code",
   "execution_count": 20,
   "metadata": {
    "slideshow": {
     "slide_type": "skip"
    }
   },
   "outputs": [
    {
     "ename": "TypeError",
     "evalue": "cannot unpack non-iterable ellipsis object",
     "output_type": "error",
     "traceback": [
      "\u001b[0;31m---------------------------------------------------------------------------\u001b[0m",
      "\u001b[0;31mTypeError\u001b[0m                                 Traceback (most recent call last)",
      "\u001b[0;32m/tmp/ipykernel_26983/1719249018.py\u001b[0m in \u001b[0;36m<module>\u001b[0;34m\u001b[0m\n\u001b[0;32m----> 1\u001b[0;31m \u001b[0ma\u001b[0m\u001b[0;34m,\u001b[0m \u001b[0mb\u001b[0m\u001b[0;34m,\u001b[0m \u001b[0mc\u001b[0m \u001b[0;34m=\u001b[0m \u001b[0;34m...\u001b[0m\u001b[0;34m\u001b[0m\u001b[0;34m\u001b[0m\u001b[0m\n\u001b[0m\u001b[1;32m      2\u001b[0m \u001b[0;34m\u001b[0m\u001b[0m\n\u001b[1;32m      3\u001b[0m \u001b[0;31m# Calcul et affichage du nombre de solutions\u001b[0m\u001b[0;34m\u001b[0m\u001b[0;34m\u001b[0m\u001b[0m\n\u001b[1;32m      4\u001b[0m \u001b[0;32mif\u001b[0m \u001b[0ma\u001b[0m \u001b[0;34m==\u001b[0m \u001b[0mb\u001b[0m \u001b[0;34m==\u001b[0m \u001b[0mc\u001b[0m \u001b[0;34m==\u001b[0m \u001b[0;36m0\u001b[0m\u001b[0;34m:\u001b[0m\u001b[0;34m\u001b[0m\u001b[0;34m\u001b[0m\u001b[0m\n\u001b[1;32m      5\u001b[0m     \u001b[0mprint\u001b[0m\u001b[0;34m(\u001b[0m\u001b[0;34m\"Une infinité de solutions réelles (et complexes)\"\u001b[0m\u001b[0;34m)\u001b[0m\u001b[0;34m\u001b[0m\u001b[0;34m\u001b[0m\u001b[0m\n",
      "\u001b[0;31mTypeError\u001b[0m: cannot unpack non-iterable ellipsis object"
     ]
    }
   ],
   "source": [
    "a, b, c = ...\n",
    "\n",
    "# Calcul et affichage du nombre de solutions\n",
    "if a == b == c == 0:\n",
    "    print(\"Une infinité de solutions réelles (et complexes)\")\n",
    "elif a == b == 0:  # A ce stade, si a = b = 0, c est différent de 0 !!!\n",
    "    print(\"Aucune solution\")\n",
    "elif a == 0 :      # A ce stade, si a = 0, b est différent de 0 !!!\n",
    "    print(\"Une solution réelle\")\n",
    "else:\n",
    "    delta = b ** 2 - 4 * a * c\n",
    "    if delta < 0:\n",
    "        print(\"Pas de solution réelle\")\n",
    "    elif delta == 0:\n",
    "        print(\"Une solution réelle\")\n",
    "    else:\n",
    "        print(\"Deux solutions réelles\")"
   ]
  },
  {
   "cell_type": "markdown",
   "metadata": {
    "slideshow": {
     "slide_type": "slide"
    }
   },
   "source": [
    "# Chapitre 4 - Fonctions"
   ]
  },
  {
   "cell_type": "markdown",
   "metadata": {
    "slideshow": {
     "slide_type": "slide"
    }
   },
   "source": [
    "# Exemple : dessiner des carrés (en vrai)"
   ]
  },
  {
   "cell_type": "markdown",
   "metadata": {
    "slideshow": {
     "slide_type": "subslide"
    }
   },
   "source": [
    "En programmation, une fonction est\n",
    "- un morceau de programme\n",
    "- portant en général un **nom**\n",
    "- acceptant zéro, un ou plusieurs **paramètres**\n",
    "- produisant le plus souvent un **résultat**. \n",
    "\n",
    "Des exceptions existent, mais la forme la plus courante d'une fonction est donc proche de celle d'une fonction mathématique."
   ]
  },
  {
   "cell_type": "markdown",
   "metadata": {
    "slideshow": {
     "slide_type": "subslide"
    }
   },
   "source": [
    "L'utilisation de fonctions améliore les aspects suivants du code :\n",
    "\n",
    "-  **Lisibilité :** \n",
    "    - isoler une partie du programme (par exemple un gros calcul compliqué)\n",
    "    - éviter une trop grande imbrication des `if`, des `while`\n",
    "-  **Modularité et robustesse:** \n",
    "    - réutiliser le même code plusieurs fois (évite de recopier le code)\n",
    "    - faciliter la correction des bugs, l'évolution et la maintenance\n",
    "-  **Généricité :**\n",
    "    - changer la valeur des paramètres (même calcul mais avec différentes valeurs de départ)"
   ]
  },
  {
   "cell_type": "markdown",
   "metadata": {
    "slideshow": {
     "slide_type": "slide"
    }
   },
   "source": [
    "## Fonctions prédéfinies et bibliothèque standard\n",
    "\n",
    "En Python, il existe un grand nombre de fonctions prédéfinies, que nous avons déjà utilisées, par exemple :\n",
    "\n",
    "* `int(obj)` : 1 paramètre, 1 résultat. Reçoit en paramètre un objet (par exemple `str` ou `float`), essaie de le transformer en entier et renvoie l'entier obtenu."
   ]
  },
  {
   "cell_type": "code",
   "execution_count": null,
   "metadata": {
    "slideshow": {
     "slide_type": "-"
    }
   },
   "outputs": [],
   "source": [
    "int(\"34\")"
   ]
  },
  {
   "cell_type": "markdown",
   "metadata": {
    "slideshow": {
     "slide_type": "subslide"
    }
   },
   "source": [
    "* `len(obj)` : 1 paramètre, 1 résultat. Reçoit un objet (par exemple `str`) et renvoie sa longueur."
   ]
  },
  {
   "cell_type": "code",
   "execution_count": null,
   "metadata": {
    "slideshow": {
     "slide_type": "-"
    }
   },
   "outputs": [],
   "source": [
    "len(\"bonjour\")"
   ]
  },
  {
   "cell_type": "markdown",
   "metadata": {
    "slideshow": {
     "slide_type": "subslide"
    }
   },
   "source": [
    "* `randint(mini, maxi)` : 2 paramètres, 1 résultat. Reçoit deux nombres, et renvoie un entier aléatoire compris entre ces deux nombres (inclus)."
   ]
  },
  {
   "cell_type": "code",
   "execution_count": null,
   "metadata": {
    "slideshow": {
     "slide_type": "-"
    }
   },
   "outputs": [],
   "source": [
    "from random import randint\n",
    "randint(1, 34)"
   ]
  },
  {
   "cell_type": "markdown",
   "metadata": {
    "slideshow": {
     "slide_type": "subslide"
    }
   },
   "source": [
    "Il y en a beaucoup d'autres, comme `print, input, float, str...`.\n",
    "\n",
    "Ces fonctions sont appelées _prédéfinies_ (ou _built-in_)\n",
    "- il est inutile de les connaître toutes par coeur\n",
    "- liste des fonctions prédéfinies sur [cette page](https://docs.python.org/3/library/functions.html)"
   ]
  },
  {
   "cell_type": "markdown",
   "metadata": {
    "slideshow": {
     "slide_type": "subslide"
    }
   },
   "source": [
    "Il existe également de nombreux _modules_ officiels (par exemple le module `random`)\n",
    "- bibliothèques de fonctions, de types et d'objets\n",
    "- liste des modules prédéfinis documentée [ici](https://docs.python.org/3/library)."
   ]
  },
  {
   "cell_type": "markdown",
   "metadata": {
    "slideshow": {
     "slide_type": "slide"
    }
   },
   "source": [
    "## Définition de fonction\n",
    "\n",
    "Pour définir une nouvelle fonction on utilise la syntaxe suivante :\n",
    "\n",
    "```python\n",
    "# ligne suivante : en-tête de fonction\n",
    "def nom_fonction(param_1, ..., param_n):  \n",
    "    # corps de la fonction\n",
    "    # utilisant param_1 à param_n\n",
    "    ...\n",
    "    # peut renvoyer un résultat :\n",
    "    return resultat\n",
    "```\n",
    "\n",
    "Une fonction peut :\n",
    "\n",
    "* prendre un certain nombre de paramètres (ici, $n$, qui s'appellent `param_1` à `param_n`)\n",
    "* renvoyer une valeur (via l’instruction `return`)"
   ]
  },
  {
   "cell_type": "markdown",
   "metadata": {
    "slideshow": {
     "slide_type": "slide"
    }
   },
   "source": [
    "## Appel de fonction\n",
    "\n",
    "Une fois définie, `nom_fonction` peut être utilisée dans le code (on parle d'un **appel**) en indiquant entre parenthèses ses paramètres séparés par des virgules :\n",
    "\n",
    "```python\n",
    "# définition de fonction\n",
    "def nom_fonction(param_1, ..., param_n): \n",
    "    ...\n",
    "\n",
    "# reste du programme \n",
    "...\n",
    "# appel de la fonction :\n",
    "une_var = nom_fonction(expr_1, ..., expr_n)\n",
    "```"
   ]
  },
  {
   "cell_type": "markdown",
   "metadata": {
    "slideshow": {
     "slide_type": "slide"
    }
   },
   "source": [
    "## Exemples"
   ]
  },
  {
   "cell_type": "markdown",
   "metadata": {
    "slideshow": {
     "slide_type": "slide"
    }
   },
   "source": [
    "### Fonction à paramètres et résultat"
   ]
  },
  {
   "cell_type": "code",
   "execution_count": null,
   "metadata": {
    "slideshow": {
     "slide_type": "-"
    }
   },
   "outputs": [],
   "source": [
    "# fonction à deux paramètres produisant un résultat\n",
    "def maximum(a, b):\n",
    "    if a >= b:\n",
    "        return a\n",
    "    else:\n",
    "        return b"
   ]
  },
  {
   "cell_type": "code",
   "execution_count": null,
   "metadata": {
    "slideshow": {
     "slide_type": "subslide"
    }
   },
   "outputs": [],
   "source": [
    "nb1 = 14\n",
    "nb2 = 31\n",
    "\n",
    "maximum(nb1, nb2)  # ne sert à rien !!\n",
    "\n",
    "# On appelle la fonction et on garde le résultat dans c :\n",
    "c = maximum(nb1, nb2)\n",
    "print(\"le max de\", nb1, \"et\", nb2, \"est\", c)\n",
    "\n",
    "# On peut aussi utiliser directement le résultat :\n",
    "print(\"le max de\", nb1, \"et\", nb2, \"est\", maximum(nb1, nb2))"
   ]
  },
  {
   "cell_type": "markdown",
   "metadata": {
    "slideshow": {
     "slide_type": "subslide"
    }
   },
   "source": [
    "**Entraînement :** \n",
    "\n",
    "- Décrire l'exécution pas à pas du programme (avec état de la mémoire). On peut aussi essayer avec [Python Tutor](http://www.pythontutor.com/visualize.html#code=%23%20fonction%20%C3%A0%20deux%20param%C3%A8tres,%20sans%20effet%20de%20bord%0Adef%20maximum%28a,%20b%29%3A%0A%20%20%20%20if%20a%20%3E%20b%3A%0A%20%20%20%20%20%20%20%20return%20a%0A%20%20%20%20else%3A%0A%20%20%20%20%20%20%20%20return%20b%0A%20%20%20%20%0Anb1%20%3D%20int%28input%28%29%29%0Anb2%20%3D%20int%28input%28%29%29%0A%0A%23%20On%20appelle%20la%20fonction%20et%20on%20garde%20le%20r%C3%A9sultat%20dans%20c%20%3A%0Ac%20%3D%20maximum%28nb1,%20nb2%29%0Aprint%28%22le%20max%20de%22,%20nb1,%20%22et%22,%20nb2,%20%22est%22,%20c%29%0A%0A%23%20On%20peut%20aussi%20utiliser%20directement%20le%20r%C3%A9sultat%20%3A%0Aprint%28%22le%20max%20de%22,%20nb1,%20%22et%22,%20nb2,%20%22est%22,%20maximum%28nb1,%20nb2%29%29&cumulative=false&curInstr=0&heapPrimitives=true&mode=display&origin=opt-frontend.js&py=3&rawInputLstJSON=%5B%5D&textReferences=false).\n",
    "- Dresser un tableau de valeurs de l'exécution du programme"
   ]
  },
  {
   "cell_type": "markdown",
   "metadata": {
    "slideshow": {
     "slide_type": "slide"
    }
   },
   "source": [
    "### Fonction sans paramètre\n",
    "\n",
    "- En principe, une fonction sans paramètre devrait avoir toujours le même comportement\n",
    "- Dans l'exemple suivant, on utilise un générateur pseudo-aléatoire, ce qui explique que la fonction ne renvoie pas toujours le même résultat\n",
    "- Une fonction pourrait aussi recevoir des données depuis l'extérieur (utilisateur, requête réseau...).\n",
    "\n",
    "Dans ces cas, on parle de **causes secondaires**"
   ]
  },
  {
   "cell_type": "code",
   "execution_count": null,
   "metadata": {
    "slideshow": {
     "slide_type": "subslide"
    }
   },
   "outputs": [],
   "source": [
    "from random import randint\n",
    "\n",
    "def lance_de() :\n",
    "    return randint(1,6)\n",
    "\n",
    "compteur = 1\n",
    "while lance_de() != 6: \n",
    "    compteur = compteur + 1\n",
    "print('Obtenu un 6 en', compteur, 'jets de dé.')"
   ]
  },
  {
   "cell_type": "markdown",
   "metadata": {
    "slideshow": {
     "slide_type": "slide"
    }
   },
   "source": [
    "### Fonction sans valeur de retour\n",
    "\n",
    "- Si l'exécution arrive à la dernière instruction du corps de la fonction sans rencontrer d'instruction `return expr`, alors la valeur de retour par défaut est `None` (même comportement si `return` seul)\n",
    "- En général une telle fonction a quand même un effet sur l'environnement (affichages, dessin, écriture dans un fichier, envoi d'informations sur le réseau...)\n",
    "\n",
    "Pour tous les effets autres que le renvoi d'un résultat, on parle d'**effets secondaires**"
   ]
  },
  {
   "cell_type": "code",
   "execution_count": null,
   "metadata": {
    "slideshow": {
     "slide_type": "subslide"
    }
   },
   "outputs": [],
   "source": [
    "from turtle import *\n",
    "\n",
    "def trace_polygone(nb_cotes, taille_cote):\n",
    "    down()\n",
    "    i = 0\n",
    "    while i < nb_cotes:\n",
    "        forward(taille_cote)\n",
    "        left(360 / nb_cotes)\n",
    "        i = i + 1\n",
    "\n",
    "# faire une affectation ici ne servirait à rien (essayer !)\n",
    "trace_polygone(5, 100)\n",
    "exitonclick()"
   ]
  },
  {
   "cell_type": "markdown",
   "metadata": {
    "slideshow": {
     "slide_type": "slide"
    }
   },
   "source": [
    "## Erreur fréquente : confusion (paramètre / saisie) et (retour / affichage)\n",
    "\n",
    "Les programmeurs débutants confondent très souvent la notion de paramètre et celle de saisie (au clavier par exemple) et la notion de valeur de retour avec celle de valeur affichée. "
   ]
  },
  {
   "cell_type": "code",
   "execution_count": null,
   "metadata": {
    "slideshow": {
     "slide_type": "-"
    }
   },
   "outputs": [],
   "source": [
    "# ATTENTION CECI EST INCORRECT, A NE PAS REPRODUIRE !!!\n",
    "def pgcd(a, b):\n",
    "    a = int(input())  # NON !\n",
    "    b = int(input())  # NON !\n",
    "    while a % b != 0:\n",
    "        r = a % b\n",
    "        a = b\n",
    "        b = r\n",
    "    print(\"le pgcd est\", b)  # NON !"
   ]
  },
  {
   "cell_type": "markdown",
   "metadata": {
    "slideshow": {
     "slide_type": "subslide"
    }
   },
   "source": [
    "<div style='color:red'>NE SURTOUT PAS PROGRAMMER COMME ÇA !</div>\n",
    "\n",
    "- Comment écrire un programme vérifiant si trois entiers sont\n",
    "  premiers entre eux à l'aide de cette fonction ?\n",
    "- Combien ce programme ferait-il de saisies ?\n",
    "- Qu'afficherait ce programme ?"
   ]
  },
  {
   "cell_type": "code",
   "execution_count": null,
   "metadata": {
    "slideshow": {
     "slide_type": "-"
    }
   },
   "outputs": [],
   "source": [
    "# essayons de calculer le pgcd de trois nombres\n",
    "pgcd()  # saisit deux nombres et calcule leur pgcd\n",
    "...     # je ne sais pas comment continuer ! "
   ]
  },
  {
   "cell_type": "markdown",
   "metadata": {
    "slideshow": {
     "slide_type": "slide"
    }
   },
   "source": [
    "## Composition de fonctions"
   ]
  },
  {
   "cell_type": "code",
   "execution_count": null,
   "metadata": {
    "slideshow": {
     "slide_type": "-"
    }
   },
   "outputs": [],
   "source": [
    "def pgcd(a, b):\n",
    "    while a % b != 0:\n",
    "        r = a % b\n",
    "        a = b\n",
    "        b = r\n",
    "    return b"
   ]
  },
  {
   "cell_type": "code",
   "execution_count": null,
   "metadata": {
    "slideshow": {
     "slide_type": "subslide"
    }
   },
   "outputs": [],
   "source": [
    "def simplifier(num, denom):\n",
    "    d = pgcd(num, denom)\n",
    "    return (num // d, denom // d)"
   ]
  },
  {
   "cell_type": "code",
   "execution_count": null,
   "metadata": {
    "slideshow": {
     "slide_type": "-"
    }
   },
   "outputs": [],
   "source": [
    "simplifier(8, 6)"
   ]
  },
  {
   "cell_type": "code",
   "execution_count": null,
   "metadata": {
    "slideshow": {
     "slide_type": "-"
    }
   },
   "outputs": [],
   "source": [
    "simplifier(21, 39)"
   ]
  },
  {
   "cell_type": "code",
   "execution_count": null,
   "metadata": {
    "slideshow": {
     "slide_type": "subslide"
    }
   },
   "outputs": [],
   "source": [
    "def pgcd3(a, b, c):\n",
    "    d = pgcd(a, b)\n",
    "    return pgcd(c, d)"
   ]
  },
  {
   "cell_type": "code",
   "execution_count": null,
   "metadata": {
    "slideshow": {
     "slide_type": "-"
    }
   },
   "outputs": [],
   "source": [
    "pgcd3(18, 27, 12)"
   ]
  },
  {
   "cell_type": "code",
   "execution_count": null,
   "metadata": {
    "slideshow": {
     "slide_type": "-"
    }
   },
   "outputs": [],
   "source": [
    "pgcd3(12, 10, 15)"
   ]
  },
  {
   "cell_type": "markdown",
   "metadata": {
    "slideshow": {
     "slide_type": "slide"
    }
   },
   "source": [
    "## Fonctions et espaces de noms\n",
    "\n",
    "Point de vigilance :\n",
    "- les paramètres et variables définies dans le corps d'une fonction sont indépendantes des autres variables du programme \n",
    "- elles n'existent plus une fois l'exécution de la fonction terminée\n",
    "- on les appelle des variables *locales*"
   ]
  },
  {
   "cell_type": "markdown",
   "metadata": {
    "slideshow": {
     "slide_type": "subslide"
    }
   },
   "source": [
    "Reprenons un exemple précédent en changeant le nom des variables :"
   ]
  },
  {
   "cell_type": "code",
   "execution_count": null,
   "metadata": {
    "slideshow": {
     "slide_type": "-"
    }
   },
   "outputs": [],
   "source": [
    "%%nbtutor -r -f\n",
    "\n",
    "def maximum(a, b):\n",
    "    if a > b:\n",
    "        b = a\n",
    "    return b\n",
    "\n",
    "nb1 = 13\n",
    "nb2 = 3\n",
    "c = maximum(nb1, nb2)\n",
    "print(\"le max de\", nb1, \"et\", nb2, \"est\", c)"
   ]
  },
  {
   "cell_type": "markdown",
   "metadata": {
    "slideshow": {
     "slide_type": "-"
    }
   },
   "source": [
    "**Entraînement :** Décrire l'exécution pas à pas du programme (avec état de la mémoire).\n",
    "\n",
    "**À retenir :** Changer les valeurs de `a` et `b` dans la fonction n'a pas d'effet sur `nb1` et `nb2` !"
   ]
  },
  {
   "cell_type": "markdown",
   "metadata": {
    "slideshow": {
     "slide_type": "subslide"
    }
   },
   "source": [
    "On renomme cette fois les variables globales du programme :"
   ]
  },
  {
   "cell_type": "code",
   "execution_count": null,
   "metadata": {
    "slideshow": {
     "slide_type": "-"
    }
   },
   "outputs": [],
   "source": [
    "%%nbtutor -r -f\n",
    "\n",
    "def maximum(a, b):\n",
    "    if a > b:\n",
    "        b = a\n",
    "    return b\n",
    "\n",
    "a = 13\n",
    "b = 3\n",
    "c = maximum(a, b)\n",
    "print(\"le max de\", a, \"et\", b, \"est\", c)"
   ]
  },
  {
   "cell_type": "markdown",
   "metadata": {
    "slideshow": {
     "slide_type": "-"
    }
   },
   "source": [
    "**Entraînement :** Décrire l'exécution pas à pas du programme (avec état de la mémoire).\n",
    "\n",
    "**À retenir :** Changer les valeurs de `a` et `b` dans la fonction n'a pas d'effet sur `a` et `b` dans le programme principal !"
   ]
  },
  {
   "cell_type": "markdown",
   "metadata": {
    "slideshow": {
     "slide_type": "subslide"
    }
   },
   "source": [
    "#### Autre exemple important\n",
    "\n",
    "Essayons d'écrire une fonction permettant d'intervertir les valeurs de deux variables :"
   ]
  },
  {
   "cell_type": "code",
   "execution_count": null,
   "metadata": {
    "slideshow": {
     "slide_type": "-"
    }
   },
   "outputs": [],
   "source": [
    "# %%nbtutor -r -f  # commenter si nb_tutor non installé\n",
    "\n",
    "def echange(a, b):\n",
    "    temp = a\n",
    "    a = b\n",
    "    b = temp\n",
    "\n",
    "x = 1\n",
    "y = 2\n",
    "echange(x, y)\n",
    "print(x, y)\n",
    "print(temp)"
   ]
  },
  {
   "cell_type": "markdown",
   "metadata": {
    "slideshow": {
     "slide_type": "-"
    }
   },
   "source": [
    "**Entraînement :** Décrire l'exécution pas à pas du programme (avec état de la mémoire).\n",
    "\n",
    "**À retenir :** \n",
    "- changer les valeurs de `a` et `b` dans la fonction n'a pas d'effet sur `x` et `y` dans le programme principal !\n",
    "- la variable `temp` n'existe plus après l'exécution de la fonction"
   ]
  },
  {
   "cell_type": "markdown",
   "metadata": {
    "slideshow": {
     "slide_type": "slide"
    }
   },
   "source": [
    "## Sémantique d'un appel\n",
    "\n",
    "Au moment d'un appel de fonction, un espace de noms local est créé. Il associe à chacun des paramètres la valeur de l'expression correspondante dans l'appel. Les variables locales sont également créées dans ces espace de noms."
   ]
  },
  {
   "cell_type": "markdown",
   "metadata": {
    "slideshow": {
     "slide_type": "slide"
    }
   },
   "source": [
    "### Espace de noms\n",
    "\n",
    "Un **espace de noms** est un ensemble de noms (de variables, de fonctions...) défini à un certain point d'un programme"
   ]
  },
  {
   "cell_type": "markdown",
   "metadata": {
    "slideshow": {
     "slide_type": "subslide"
    }
   },
   "source": [
    "L'ensemble de tous les noms connus à un point du programme est généralement constitué de plusieurs espaces de noms superposés (du plus ancien au plus récent) :\n",
    "\n",
    "- espace de noms prédéfini (*built-in*)\n",
    "- espace de noms global\n",
    "    - noms définis dans le programme principal\n",
    "- empilement des espaces de noms locaux des appels de fonction en cours\n",
    "    - dans l'ordre chronologique\n",
    "    - contenant chacun les paramètres de l'appel correspondant\n",
    "    - contenant chacun les variables locales à cette fonction"
   ]
  },
  {
   "cell_type": "markdown",
   "metadata": {
    "slideshow": {
     "slide_type": "slide"
    }
   },
   "source": [
    "### Pile d'appels\n",
    "\n",
    "L'empilement des espaces de noms obéit à une politique de **pile**\n",
    "\n",
    "- sommet : appel en cours\n",
    "- en-dessous : appels précédents\n",
    "- *(presque)* tout en bas : espace de nom global\n",
    "\n",
    "Dans Python Tutor : le plus récent est en bas..."
   ]
  },
  {
   "cell_type": "markdown",
   "metadata": {
    "slideshow": {
     "slide_type": "subslide"
    }
   },
   "source": [
    "Quand l'appel en cours se termine\n",
    "\n",
    "- son espace de nom est supprimé de la pile\n",
    "- l'exécution de l'appel précédent reprend"
   ]
  },
  {
   "cell_type": "markdown",
   "metadata": {
    "slideshow": {
     "slide_type": "subslide"
    }
   },
   "source": [
    "Quand un nouvel appel commence :\n",
    "\n",
    "- l'exécution de la fonction en cours s'interrompt\n",
    "- un nouvel espace de noms local est créé \n",
    "- l'exécution de la fonction appelée commence"
   ]
  },
  {
   "cell_type": "markdown",
   "metadata": {
    "slideshow": {
     "slide_type": "subslide"
    }
   },
   "source": [
    "Quand une erreur se produit pendant l'exécution d'un appel :\n",
    "\n",
    "- la ligne en cours de chaque appel est affiché (du plus ancien au plus récent)\n",
    "- nom technique : « traceback »"
   ]
  },
  {
   "cell_type": "code",
   "execution_count": null,
   "metadata": {
    "slideshow": {
     "slide_type": "subslide"
    }
   },
   "outputs": [],
   "source": [
    "simplifier(4, 0)"
   ]
  },
  {
   "cell_type": "markdown",
   "metadata": {
    "slideshow": {
     "slide_type": "slide"
    }
   },
   "source": [
    "### Portée des variables\n",
    "\n",
    "Accès à la valeur d'une variable : \n",
    "\n",
    "- possible pour n'importe quel nom défini dans un des espaces de noms antérieurs\n",
    "- si plusieurs espaces contiennent le même nom, c'est le plus récent qui est sélectionné"
   ]
  },
  {
   "cell_type": "markdown",
   "metadata": {
    "slideshow": {
     "slide_type": "subslide"
    }
   },
   "source": [
    "Affectation :\n",
    "\n",
    "- par défaut, uniquement aux variables locales\n",
    "- pour une variable dans un espace de nom plus ancien, mots-clés `global` ou `nonlocal` (à utiliser avec précaution)"
   ]
  },
  {
   "cell_type": "markdown",
   "metadata": {
    "slideshow": {
     "slide_type": "slide"
    }
   },
   "source": [
    "### Déroulement détaillé d'un appel\n",
    "\n",
    "Considérons l'appel suivant :\n",
    "\n",
    "```python\n",
    "def ma_fonction(p_1, ..., p_n):\n",
    "    ...\n",
    "    return expr\n",
    "\n",
    "# Appel de fonction (à l'intérieur d'une expression)\n",
    "... ma_fonction(e_1, ..., e_n) ...\n",
    "```"
   ]
  },
  {
   "cell_type": "markdown",
   "metadata": {
    "slideshow": {
     "slide_type": "subslide"
    }
   },
   "source": [
    "Succession des étapes de l'appel :\n",
    "\n",
    "- création d'un espace de noms local contenant `p_1` à `p_n` au sommet de la pile d'appels\n",
    "- chaque expression `e_i` est évaluée en une valeur `v_i` et affectée à la variable `p_i`\n",
    "- exécution du corps de la fonction dans l'espace de noms local\n",
    "- si la fonction exécute l'instruction `return expr` ou atteint la fin de son bloc d'instructions\n",
    "    - l'espace de noms local est détruit \n",
    "    - l'expression appelante `ma_fonction(e_1, ..., e_n)` prend la valeur de `expr` (respectivement `None`)\n",
    "- reprise du programme principal dans l'espace global"
   ]
  },
  {
   "cell_type": "markdown",
   "metadata": {
    "slideshow": {
     "slide_type": "subslide"
    }
   },
   "source": [
    "Vocabulaire :\n",
    "\n",
    "- les noms `p_1` à `p_n` sont appelés _paramètres formels_ (ou _paramètres_ tout court)\n",
    "- les valeurs `v_1` à `v_n` sont appelées _paramètres effectifs_ (ou _arguments_)"
   ]
  },
  {
   "cell_type": "markdown",
   "metadata": {
    "slideshow": {
     "slide_type": "slide"
    }
   },
   "source": [
    "## Documentation et test de fonctions\n",
    "\n",
    "### Chaînes de documentation (*docstring*)\n",
    "\n",
    "Bonne pratique : indiquer par un commentaire\n",
    "- à quoi sert une fonction\n",
    "- ce que représentent ses paramètres et leur type\n",
    "- ce que représente sa valeur de retour\n",
    "- d'éventuels effets ou causes secondaires"
   ]
  },
  {
   "cell_type": "code",
   "execution_count": null,
   "metadata": {
    "slideshow": {
     "slide_type": "subslide"
    }
   },
   "outputs": [],
   "source": [
    "def triple(n):\n",
    "    \"\"\"\n",
    "    Fonction calculant le triple du nombre n (int ou float) \n",
    "    ou la répétition trois fois de la chaîne n.\n",
    "    \"\"\"\n",
    "    return n * 3"
   ]
  },
  {
   "cell_type": "markdown",
   "metadata": {
    "slideshow": {
     "slide_type": "subslide"
    }
   },
   "source": [
    "On peut accéder à la chaîne de documentation d'une fonction en tapant `help(nom de la fonction)` dans l'interpréteur :"
   ]
  },
  {
   "cell_type": "code",
   "execution_count": null,
   "metadata": {
    "slideshow": {
     "slide_type": "-"
    }
   },
   "outputs": [],
   "source": [
    "help(triple)"
   ]
  },
  {
   "cell_type": "markdown",
   "metadata": {
    "slideshow": {
     "slide_type": "subslide"
    }
   },
   "source": [
    "Cela fonctionne aussi pour les fonctions prédéfinies ou issues de modules :"
   ]
  },
  {
   "cell_type": "code",
   "execution_count": null,
   "metadata": {
    "slideshow": {
     "slide_type": "-"
    }
   },
   "outputs": [],
   "source": [
    "from random import randint\n",
    "help(randint)"
   ]
  },
  {
   "cell_type": "markdown",
   "metadata": {
    "slideshow": {
     "slide_type": "slide"
    }
   },
   "source": [
    "### Tests intégrés à la documentation (*doctest*)\n",
    "\n",
    "Comme tout morceau de programme, chaque fonction doit être *testée* immédiatement pour s'assurer qu'elle fonctionne."
   ]
  },
  {
   "cell_type": "code",
   "execution_count": null,
   "metadata": {
    "slideshow": {
     "slide_type": "-"
    }
   },
   "outputs": [],
   "source": [
    "triple(3)"
   ]
  },
  {
   "cell_type": "code",
   "execution_count": null,
   "metadata": {
    "slideshow": {
     "slide_type": "-"
    }
   },
   "outputs": [],
   "source": [
    "triple(9.0)"
   ]
  },
  {
   "cell_type": "markdown",
   "metadata": {
    "slideshow": {
     "slide_type": "subslide"
    }
   },
   "source": [
    "Plutôt que de perdre ces tests, il est utile de les intégrer à la documentation de la fonction, pour pouvoir s'y référer plus tard. Si l'on change le code de la fonction, cela permet aussi de vérifier que son comportement reste correct."
   ]
  },
  {
   "cell_type": "code",
   "execution_count": null,
   "metadata": {
    "slideshow": {
     "slide_type": "-"
    }
   },
   "outputs": [],
   "source": [
    "def triple(n):\n",
    "    \"\"\"\n",
    "    Fonction calculant le triple du nombre n (int ou float) \n",
    "    ou la répétition trois fois de la chaîne n.\n",
    "    \n",
    "    >>> triple(3)\n",
    "    9\n",
    "    >>> triple(9.0)\n",
    "    27.0\n",
    "    \"\"\"\n",
    "    return n * 3"
   ]
  },
  {
   "cell_type": "markdown",
   "metadata": {
    "slideshow": {
     "slide_type": "subslide"
    }
   },
   "source": [
    "Il existe des outils qui permettent de lancer automatiquement tous les tests présents dans la documentation, et de vérifier qu'ils produisent les résultats annoncés."
   ]
  },
  {
   "cell_type": "markdown",
   "metadata": {
    "slideshow": {
     "slide_type": "-"
    }
   },
   "source": [
    "Par exemple, à la fin d'un programme, on peut écrire le code suivant pour lancer systématiquement tous les tests présents dans le fichier :\n",
    "\n",
    "```python\n",
    "import doctest\n",
    "doctest.testmod()\n",
    "```\n",
    "\n",
    "Exemple :"
   ]
  },
  {
   "cell_type": "code",
   "execution_count": null,
   "metadata": {
    "slideshow": {
     "slide_type": "subslide"
    }
   },
   "outputs": [],
   "source": [
    "def triple(n):\n",
    "    \"\"\"\n",
    "    Fonction calculant le triple du nombre n (int ou float) \n",
    "    ou la répétition trois fois de la chaîne n.\n",
    "    \n",
    "    >>> triple(3)\n",
    "    9\n",
    "    >>> triple(9.0)\n",
    "    27.0\n",
    "    >>> triple('pom')\n",
    "    'pompompom'\n",
    "    \"\"\"\n",
    "    return n * 3"
   ]
  },
  {
   "cell_type": "code",
   "execution_count": null,
   "metadata": {
    "slideshow": {
     "slide_type": "subslide"
    }
   },
   "outputs": [],
   "source": [
    "def racine(n):\n",
    "    \"\"\"\n",
    "    Fonction calculant la racine carrée du nombre n.\n",
    "    \n",
    "    >>> racine(0)\n",
    "    0.0\n",
    "    >>> racine(1)\n",
    "    1.0\n",
    "    >>> racine(4)\n",
    "    2.0\n",
    "    \"\"\"\n",
    "    return n ** (1/2)"
   ]
  },
  {
   "cell_type": "code",
   "execution_count": null,
   "metadata": {
    "slideshow": {
     "slide_type": "subslide"
    }
   },
   "outputs": [],
   "source": [
    "import doctest\n",
    "doctest.testmod()"
   ]
  },
  {
   "cell_type": "markdown",
   "metadata": {
    "slideshow": {
     "slide_type": "slide"
    }
   },
   "source": [
    "### <img src='img/non-exigible.png' width='20px' style='display:inline'> Annotations de type\n",
    "\n",
    "Tout ce qui suit est *non exigible en contrôle*.\n",
    "\n",
    "On peut également préciser le type des paramètres et du résultat d'une fonction à l'aide d'annotations de type\n",
    "- Ces annotations ne sont pas vérifiées directement par Python\n",
    "- Elles sont utilisées par certains environnements de développement (IDE) comme PyCharm, VSCode, etc. pour fournir de l'information à l'utilisateur.ice\n",
    "- Voir la documentation [ici par exemple](https://docs.python.org/fr/3/library/typing.html)"
   ]
  },
  {
   "cell_type": "code",
   "execution_count": null,
   "metadata": {
    "slideshow": {
     "slide_type": "subslide"
    }
   },
   "outputs": [],
   "source": [
    "def pgcd(a: int, b: int) -> int:\n",
    "    while a % b != 0:\n",
    "        r = a % b\n",
    "        a = b\n",
    "        b = r\n",
    "    return b"
   ]
  },
  {
   "cell_type": "code",
   "execution_count": null,
   "metadata": {
    "slideshow": {
     "slide_type": "subslide"
    }
   },
   "outputs": [],
   "source": [
    "def salutation(nom: str) -> str:\n",
    "    return 'Bonjour ' + nom"
   ]
  }
 ],
 "metadata": {
  "celltoolbar": "Slideshow",
  "kernelspec": {
   "display_name": "Python 3 (ipykernel)",
   "language": "python",
   "name": "python3"
  },
  "language_info": {
   "codemirror_mode": {
    "name": "ipython",
    "version": 3
   },
   "file_extension": ".py",
   "mimetype": "text/x-python",
   "name": "python",
   "nbconvert_exporter": "python",
   "pygments_lexer": "ipython3",
   "version": "3.10.12"
  },
  "vscode": {
   "interpreter": {
    "hash": "aee8b7b246df8f9039afb4144a1f6fd8d2ca17a180786b69acc140d282b71a49"
   }
  }
 },
 "nbformat": 4,
 "nbformat_minor": 2
}
