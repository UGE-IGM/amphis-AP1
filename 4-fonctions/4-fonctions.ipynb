{
 "cells": [
  {
   "cell_type": "markdown",
   "metadata": {},
   "source": [
    "<div>\n",
    "<div style='float:left; margin-right:40pt; width:6cm'><img src='img/UPEM-IGM-V1_300dpi.png'></div>\n",
    "<div style='float:right; font-size:large; text-align:right'><strong>Algorithmique et programmation 1</strong><br>\n",
    "L1 Mathématiques - L1 Informatique<br>\n",
    "Semestre 1\n",
    "</div>\n",
    "</div>"
   ]
  },
  {
   "cell_type": "markdown",
   "metadata": {},
   "source": [
    "# Chapitre 4 - Fonctions"
   ]
  },
  {
   "cell_type": "markdown",
   "metadata": {},
   "source": [
    "Dans ce chapitre vous allez :\n",
    "1. prendre conscience de toutes les fonctions prédéfinies du langage Python que nous avons déjà utilisées ;\n",
    "2. apprendre ce qu'est une fonction ;\n",
    "3. apprendre à effectuer un appel de fonction en Python ;\n",
    "4. apprendre à écrire correctement une fonction en Python réalisant une tache unique prédéfinie ;\n",
    "5. apprendre à transformer un bout de programme en une fonction ;\n",
    "6. apprendre à comprendre la différence entre la saisie d'un utilisateur et le passage d'un paramètre à une fonction ;\n",
    "7. apprendre à comprendre la différence entre une valeur de retour d'une fonction et un affichage ;\n",
    "8. apprendre à décrire l'espace de nom global d'un programme ;\n",
    "9. apprendre à décrire les espaces de nom locaux lors de l'exécution d'une fonction ;\n",
    "10. comprendre de manière détaillée comment fonctionne un appel de fonction ;\n",
    "11. comprendre l'intérêt d'écrire de la documentation ;\n",
    "12. apprendre à écrire des doctests pour tester vos fonctions ;\n",
    "13. apprendre à lancer une série de doctests automatiquement."
   ]
  },
  {
   "cell_type": "markdown",
   "metadata": {},
   "source": [
    "## I Introduction\n",
    "\n",
    "Dans le cours sur les boucles, nous avons écrit le code suivant permettant d'effectuer une saisie par l'utilisateur d'un entier positif :"
   ]
  },
  {
   "cell_type": "code",
   "execution_count": null,
   "metadata": {},
   "outputs": [],
   "source": [
    "nb = int(input('Donnez moi en entier positif ou nul : '))\n",
    "while nb < 0:\n",
    "    print('Erreur de saisie.')\n",
    "    nb = int(input('Donnez moi en entier positif ou nul : '))"
   ]
  },
  {
   "cell_type": "markdown",
   "metadata": {},
   "source": [
    "Nous avons depuis réécrit ce code de nombreuses fois, et aimerions ne pas avoir à l'écrire à chaque fois...\n",
    "\n",
    "En programmation, l'objectif des fonctions est justement de pouvoir :\n",
    "* créer de nouvelles fonctionnalités ;\n",
    "* réutiliser à souhait ces fonctionnalités.\n",
    "Plus précisemment, en programmation, une fonction est un morceau de programme, portant en général un **nom**, acceptant zéro, un ou plusieurs **paramètres** et produisant un **résultat** (un calcul, un affichage, etc.). Des exceptions existent, mais la forme la plus courante d'une fonction est donc proche de celle d'une fonction mathématique.\n",
    "\n",
    "On notera immédiatement que l'utilisation des fonctions améliore les aspects suivants du code :\n",
    "\n",
    "-  Lisibilité : séparer une partie du programme (par exemple un gros calcul compliqué)\n",
    "-  Modularité : réutiliser le même code plusieurs fois (évite de recopier le code)\n",
    "-  Généricité : changer la valeur des paramètres (même calcul mais avec différentes valeurs de départ)"
   ]
  },
  {
   "cell_type": "markdown",
   "metadata": {},
   "source": [
    "## II Fonctions prédéfinies et bibliothèque standard\n",
    "\n",
    "En Python, il existe un grand nombre de fonctions prédéfinies, que nous avons déjà utilisées, par exemple :\n",
    "\n",
    "* `int(obj)` : 1 paramètre, 1 résultat. Reçoit en paramètre un objet (par exemple `str` ou `float`), essaie de le transformer en entier et renvoie l'entier obtenu."
   ]
  },
  {
   "cell_type": "code",
   "execution_count": 1,
   "metadata": {},
   "outputs": [
    {
     "data": {
      "text/plain": [
       "34"
      ]
     },
     "execution_count": 1,
     "metadata": {},
     "output_type": "execute_result"
    }
   ],
   "source": [
    "int(\"34\")"
   ]
  },
  {
   "cell_type": "markdown",
   "metadata": {},
   "source": [
    "Ici, l'interpréteur a directement affiché la valeur de l'expression `int(\"34\")`. On peut aussi l'affecter à une variable qu'on réutilise ensuite :"
   ]
  },
  {
   "cell_type": "code",
   "execution_count": 2,
   "metadata": {},
   "outputs": [
    {
     "data": {
      "text/plain": [
       "39"
      ]
     },
     "execution_count": 2,
     "metadata": {},
     "output_type": "execute_result"
    }
   ],
   "source": [
    "n = int(\"34\")\n",
    "n + 5"
   ]
  },
  {
   "cell_type": "markdown",
   "metadata": {},
   "source": [
    "* `len(obj)` : 1 paramètre, 1 résultat. Reçoit un objet (par exemple de type `str`) et renvoie sa longueur."
   ]
  },
  {
   "cell_type": "code",
   "execution_count": 3,
   "metadata": {},
   "outputs": [
    {
     "data": {
      "text/plain": [
       "2"
      ]
     },
     "execution_count": 3,
     "metadata": {},
     "output_type": "execute_result"
    }
   ],
   "source": [
    "len(\"34\")"
   ]
  },
  {
   "cell_type": "markdown",
   "metadata": {},
   "source": [
    "Il y en a beaucoup d'autres, comme `print, input, float, str...`.\n",
    "\n",
    "Ces fonctions sont appelées _prédéfinies_ (ou _built-in_). Il n'est bien sûr pas question de les connaître toutes par coeur. La totalité des fonctions prédéfinies de Python est [documentée](https://docs.python.org/3/), en particulier sur [cette page](https://docs.python.org/3/library/functions.html).\n",
    "\n",
    "Il existe également de nombreux _modules_ officiels (par exemple le module `random`), c'est-à-dire des bibliothèques de fonctions, de types et d'objets, dont on trouvera la description [ici](https://docs.python.org/3/library). Voici un exemple de fonction du module `random` :"
   ]
  },
  {
   "cell_type": "markdown",
   "metadata": {},
   "source": [
    "* `randint(mini, maxi)` : 2 paramètres, 1 résultat. Reçoit deux nombres, et renvoie un entier aléatoire compris entre ces deux nombres (inclus)."
   ]
  },
  {
   "cell_type": "code",
   "execution_count": 6,
   "metadata": {},
   "outputs": [
    {
     "data": {
      "text/plain": [
       "1"
      ]
     },
     "execution_count": 6,
     "metadata": {},
     "output_type": "execute_result"
    }
   ],
   "source": [
    "from random import randint\n",
    "\n",
    "randint(1, 34)"
   ]
  },
  {
   "cell_type": "markdown",
   "metadata": {},
   "source": [
    "### Vérifier vos connaissances\n",
    "\n",
    "A ce stade, vous devez être capable :\n",
    "* de citer une dizaine de fonctions prédéfinies (ou *built-in*) du langage Python ;\n",
    "* de citer toutes les fonctions prédéfinies utilisées dans un programme."
   ]
  },
  {
   "cell_type": "markdown",
   "metadata": {},
   "source": [
    "#### Exercice 1 :\n",
    "\n",
    "Dans le code suivant, citer toutes les fonctions utilisées."
   ]
  },
  {
   "cell_type": "code",
   "execution_count": null,
   "metadata": {},
   "outputs": [],
   "source": [
    "somme = \"\"\n",
    "saisie = None #variable en fait pas réellement initialisée\n",
    "while saisie != \"stop\":\n",
    "    saisie = input(\"Donnez moi un entier : \")\n",
    "    if saisie != \"stop\":\n",
    "        somme += saisie\n",
    "print(\"Vous avez tapez \" + str(len(somme)) + \" caractères\")"
   ]
  },
  {
   "cell_type": "markdown",
   "metadata": {},
   "source": [
    "## III Fonctions définies par l'utilisateur\n",
    "\n",
    "### 1) Définition d'une fonction\n",
    "\n",
    "En informatique, une fonction est une portion de code représentant un sous-programme qui effectue une tâche ou un calcul relativement indépendant du reste du programme.\n",
    "\n",
    "Une fonction a une entrée, les **paramètres** qu'on lui donne ; elle exécute un traitement sur ces arguments ; enfin, elle retourne généralement une valeur, **la valeur de retour**.\n",
    "\n",
    "Le principal intérêt des fonctions est de définir une portion de code réutilisable à différents endroits dans le programme. En ce sens, l'utilisation de fonctions permet de :\n",
    "* condenser le code du programme, sans avoir à recopier des parties simillaires (Cf. le problème sur les dates...)\n",
    "* rendre plus lisible un programme, en identifier des briques élémentaires\n",
    "\n",
    "### 2) Syntaxe Python pour définir une fonction\n",
    "\n",
    "Pour définir une nouvelle fonction ayant `n` paramètres, on utilise la syntaxe suivante :\n",
    "\n",
    "```python\n",
    "# ligne suivante : en-tête de fonction\n",
    "def nom_fonction(param_1, ..., param_n):  \n",
    "    \"\"\" Partie concernant la documentation de la fonction \"\"\"\n",
    "    # corps de la fonction\n",
    "    # utilisant param_1 à param_n\n",
    "    ...\n",
    "    # peut renvoyer un résultat :\n",
    "    return resultat\n",
    "```\n",
    "\n",
    "Ici, les paramètres de la fonction sont `param_1`, `param_2`, ..., `param_n`. La valeur de retour est `resultat`."
   ]
  },
  {
   "cell_type": "markdown",
   "metadata": {},
   "source": [
    "**Exemple 1 :**"
   ]
  },
  {
   "cell_type": "code",
   "execution_count": 7,
   "metadata": {},
   "outputs": [],
   "source": [
    "def affiche(msg):\n",
    "    \"\"\"Affiche le msg passé en paramètre encadré par des étoiles\"\"\"\n",
    "    print(\"*\" * (4 + len(msg)))\n",
    "    print(\"* \" + msg + \" *\")\n",
    "    print(\"*\" * (4 + len(msg)))"
   ]
  },
  {
   "cell_type": "code",
   "execution_count": 9,
   "metadata": {},
   "outputs": [
    {
     "name": "stdout",
     "output_type": "stream",
     "text": [
      "*****************\n",
      "* Bonjour maman *\n",
      "*****************\n"
     ]
    }
   ],
   "source": [
    "affiche(\"Bonjour maman\")"
   ]
  },
  {
   "cell_type": "markdown",
   "metadata": {},
   "source": [
    "#### Exemple 2 :\n",
    "\n",
    "Nous avons écrit dans le cours sur les boucles le code suivant, utilisant le module `turtle`, pour dessiner un polygone :"
   ]
  },
  {
   "cell_type": "code",
   "execution_count": 10,
   "metadata": {},
   "outputs": [
    {
     "name": "stdout",
     "output_type": "stream",
     "text": [
      "Saisissez un nombre : 5\n",
      "Saisissez un nombre : 100\n"
     ]
    }
   ],
   "source": [
    "\"\"\"\n",
    "Tracé de polygones réguliers.\n",
    "\"\"\"\n",
    "# On importe les fonctions du module turtle\n",
    "from turtle import *\n",
    "\n",
    "# Initialisation des paramètres\n",
    "nb_cotes = int(input(\"Saisissez un nombre : \"))\n",
    "taille_cote = int(input(\"Saisissez un nombre : \"))\n",
    "angle = 360 / nb_cotes\n",
    "\n",
    "# Tracé\n",
    "for compteur in range(nb_cotes):\n",
    "    forward(taille_cote) # Tracer un côté\n",
    "    left(angle) # Tourner à gauche\n",
    "exitonclick() # Sortie par click de souris "
   ]
  },
  {
   "cell_type": "markdown",
   "metadata": {},
   "source": [
    "Il n'est pas difficile de le transformer en une fonction `trace_polygone`. Pour cela, il faut se demander :\n",
    "* quelles sont les variables nécessaires au tracé du polygone. Elles correspondent à la partie `#Initialisation des paramètres`. Il y en a donc deux : `nbCotes`, `lgCote` (car `angle` dépends de `nb_cotes`).\n",
    "* quelles lignes de code sont exécutées lorsque l'on réalise le dessin du polygone. Par exemple, la ligne `from turtle import *` doit être exécutée bien avant le début du dessin : elle ne fera donc pas partie du code de la fonction.\n",
    "\n",
    "Ainsi, le programme suivant définit une fonction à deux paramètres, `nb_cotes` et `nb_cotes`. Son objectif est de tracer un polygone régulier à `nb_cotes` de longueur `taille_cote`."
   ]
  },
  {
   "cell_type": "code",
   "execution_count": 11,
   "metadata": {},
   "outputs": [],
   "source": [
    "def trace_polygone(nb_cotes, taille_cote):\n",
    "    \"\"\" Trace un polygone régulier à nb_cotes de longueur taille_cote.\n",
    "    \n",
    "    :param nb_cotes: int\n",
    "    :param taille_cote: int\n",
    "    \"\"\"\n",
    "    angle = 360 / nb_cotes\n",
    "    for compteur in range(nb_cotes):\n",
    "        forward(taille_cote) # Tracer un côté\n",
    "        left(angle) # Tourner à gauche"
   ]
  },
  {
   "cell_type": "code",
   "execution_count": 14,
   "metadata": {},
   "outputs": [],
   "source": [
    "exitonclick()"
   ]
  },
  {
   "cell_type": "code",
   "execution_count": 16,
   "metadata": {},
   "outputs": [],
   "source": [
    "trace_polygone(5, 100)\n",
    "forward(150)\n",
    "trace_polygone(7, 80)"
   ]
  },
  {
   "cell_type": "markdown",
   "metadata": {},
   "source": [
    "### 3) Appel de fonctions\n",
    "\n",
    "Une fois définie, la fonction `nom_fonction` peut être utilisée dans le code (on parle d'un **appel**) en indiquant entre parenthèses ses paramètres séparés par des virgules :\n",
    "\n",
    "```python\n",
    "# définition de fonction\n",
    "def nom_fonction(param_1, ..., param_n): \n",
    "    \"\"\"Documentation de la fonction\"\"\" # cf plus loin dans le cours\n",
    "    Code\n",
    "    ...\n",
    "    \n",
    "# reste du programme \n",
    "...\n",
    "\n",
    "# appel de la fonction :\n",
    "une_var = nom_fonction(param_1, ..., param_n) #si la fonction a une valeur de retour (cf plus bas)\n",
    "    #ou\n",
    "nom_fonction(param_1, ..., param_n) #si la fonction n'a pas de valeur de retour\n",
    "```"
   ]
  },
  {
   "cell_type": "markdown",
   "metadata": {},
   "source": [
    "**Exemple 1 :**\n",
    "\n",
    "Nous venons de définir la fonction *affiche(msg)* permettant d'afficher un message entouré par des étoiles. Voyons comment l'utiliser :"
   ]
  },
  {
   "cell_type": "code",
   "execution_count": null,
   "metadata": {},
   "outputs": [],
   "source": [
    "def affiche(msg):\n",
    "    \"\"\"Affiche le msg passé en paramètre encadré par des étoiles\"\"\"\n",
    "    print(\"*\" * (4 + len(msg)))\n",
    "    print(\"* \" + msg + \" *\")\n",
    "    print(\"*\" * (4 + len(msg)))\n",
    "\n",
    "affiche(\"Bonjour à tous\")"
   ]
  },
  {
   "cell_type": "markdown",
   "metadata": {},
   "source": [
    "**Exemple 2 :**\n",
    "\n",
    "Nous venons de définir la fonction *trace_polygone(nb_cote, taille_cote)* permettant de tracer un polygone régulier à `nb_cotes`. Voyons comment l'utiliser :"
   ]
  },
  {
   "cell_type": "code",
   "execution_count": null,
   "metadata": {},
   "outputs": [],
   "source": [
    "from turtle import *\n",
    "\n",
    "trace_polygone(5, 100)\n",
    "exitonclick()"
   ]
  },
  {
   "cell_type": "markdown",
   "metadata": {},
   "source": [
    "**Remarque :** *Notez qu'il n'est pas possible d'appeller une fonction qui n'est pas encore définie au moment de l'appel.*\n",
    "\n",
    "Par exemple, si nous voulons appeler une fonction `cube` mais que celle-ci n'a pas encore été définie, une erreur sera générée :"
   ]
  },
  {
   "cell_type": "code",
   "execution_count": null,
   "metadata": {},
   "outputs": [],
   "source": [
    "cube(10)"
   ]
  },
  {
   "cell_type": "markdown",
   "metadata": {},
   "source": [
    "### Vérifier vos connaissances\n",
    "\n",
    "A ce stade, vous devez être capable :\n",
    "* d'expliquer à quelqu'un ce qu'est une fonction en informatique ;\n",
    "* de définir une fonction dans un programme que vous écrivez ;\n",
    "* de commencer à transformer un bout de programme en une fonction ;\n",
    "* de faire un appel de fonction simple."
   ]
  },
  {
   "cell_type": "markdown",
   "metadata": {},
   "source": [
    "**Exercice 2 :**\n",
    "\n",
    "Dans le cours sur les boucles, nous avons dessiné des rosaces grâce au code suivant :"
   ]
  },
  {
   "cell_type": "code",
   "execution_count": null,
   "metadata": {},
   "outputs": [],
   "source": [
    "\"\"\"\n",
    "Tracé de rosaces par rotation de polygones.\n",
    "\"\"\"\n",
    "from turtle import *\n",
    "\n",
    "# Paramètres\n",
    "nb_cotes = 4\n",
    "lg_cote = 100\n",
    "angle_poly = 360 / nb_cotes\n",
    "nb_petales = 9\n",
    "angle_rosace = 360 / nb_petales\n",
    "\n",
    "# Tracé de la rosace\n",
    "for cmpt_petales in range(nb_petales):\n",
    "    for cmpt_cote in range(nb_cotes):\n",
    "        forward(lg_cote)\n",
    "        left(angle_poly)\n",
    "    left(angle_rosace)\n",
    "\n",
    "exitonclick()"
   ]
  },
  {
   "cell_type": "markdown",
   "metadata": {},
   "source": [
    "1. Dans ce programme quelles sont les variables nécessaires pour écrire une fonction `rosace` ?\n",
    "2. Quelles lignes de ce programme réalisent le dessin de la rosace, une fois le contexte posé ?\n",
    "3. Ecrire une fonction `rosace` permettant de rendre ce programme réutilisable."
   ]
  },
  {
   "cell_type": "markdown",
   "metadata": {},
   "source": [
    "### 4) Valeur de retour d'une fonction\n",
    "\n",
    "On a vu que la fonction `len` permet de renvoyer la longueur d'une chaine de caractères.\n",
    "\n",
    "De manière générale, une fonction renvoye un résultat. Cela se fait en utilisant le mot clé `return`. L'exécution d'un `return`provoque la sortie de la fonction : on ne peux exécuter qu'un seul `return` par bloc."
   ]
  },
  {
   "cell_type": "code",
   "execution_count": null,
   "metadata": {},
   "outputs": [],
   "source": [
    "def carre(x):\n",
    "    \"\"\"Fonction élévant au carré son paramètre\n",
    "\n",
    "    :param x: int\n",
    "    :return value: int\n",
    "    \"\"\"\n",
    "    return x * x"
   ]
  },
  {
   "cell_type": "code",
   "execution_count": null,
   "metadata": {},
   "outputs": [],
   "source": [
    "x = 2\n",
    "x_2 = carre(x)\n",
    "print(\"x^2 = \", x_2)"
   ]
  },
  {
   "cell_type": "markdown",
   "metadata": {},
   "source": [
    "Néanmoins, il n'est pas nécessaire d'avoir un `return` dans une fonction. \n",
    "Si l'exécution arrive à la dernière instruction du corps de la fonction sans rencontrer d'instruction `return expr`, alors la valeur de retour par défaut est `None`. On a le même comportement si on écrit un `return` seul. On parlera alors de **fonction sans valeur de retour**. Par exemple :"
   ]
  },
  {
   "cell_type": "code",
   "execution_count": null,
   "metadata": {},
   "outputs": [],
   "source": [
    "def affiche(msg):\n",
    "    \"\"\"Affiche le msg passé en paramètre encadré par des étoiles\"\"\"\n",
    "    print(\"*\" * (4 + len(msg)))\n",
    "    print(\"* \" + msg + \" *\")\n",
    "    print(\"*\" * (4 + len(msg)))\n",
    "    \n",
    "a = affiche(\"Bonjour à tous\")\n",
    "print(\"\\nValeur de retour de la fonction affiche : \", a)"
   ]
  },
  {
   "cell_type": "markdown",
   "metadata": {},
   "source": [
    "**Exemple 1 : Traduction d'un programme en fonction**\n",
    "\n",
    "Dans le cours sur les boucles, nous avons écris le programme suivant permettant de calculer le plus grand entier inférieur à la racine carrée de l'entier `N = 142` :\n",
    "```Python\n",
    "N = 142\n",
    "n = 0\n",
    "while n*n <= N:\n",
    "    n += 1\n",
    "print(n - 1)\n",
    "```\n",
    "Pour modifier le comportement du programme, il suffit de modifier la variable `N`. On peut donc écrire une fonction `racine_carre_entiere` prenant un paramètre `N` comme suit :"
   ]
  },
  {
   "cell_type": "code",
   "execution_count": null,
   "metadata": {},
   "outputs": [],
   "source": [
    "def racine_carre_entiere(N):\n",
    "    n = 0\n",
    "    while n*n <= N:\n",
    "        n += 1\n",
    "    return n - 1"
   ]
  },
  {
   "cell_type": "markdown",
   "metadata": {},
   "source": [
    "**Exemple 2 : une fonction sans paramètre simulant du hasard**\n",
    "\n",
    "Bien sur, une fonction peut ne pas avoir de paramètre. En général, une telle fonction a toujours le même comportement.\n",
    "\n",
    "Dans l'exemple suivant, on crée une fonction qui simule un lancer de dé. Elle n'aura donc a priori pas le même comportement pour deux exécutions distinctes."
   ]
  },
  {
   "cell_type": "code",
   "execution_count": null,
   "metadata": {},
   "outputs": [],
   "source": [
    "from random import randint\n",
    "\n",
    "def lance_de() :\n",
    "    \"\"\"Simule un lancé de dé à 6 faces\"\"\"\n",
    "    return randint(1,6)\n",
    "\n",
    "compteur = 1\n",
    "while lance_de() != 6:\n",
    "    compteur = compteur + 1\n",
    "print('Obtenu un 6 en', compteur, 'jets de dé.')"
   ]
  },
  {
   "cell_type": "markdown",
   "metadata": {},
   "source": [
    "**Remarque :** \n",
    "\n",
    "Les nombres générés aléatoirement par Python ne sont pas réellement aléatoire : ils proviennent d'un **générateur pseudo-aléatoire**. Cela signifie que le hasard est simulé à partir d'une unique valeur, appelée la **graine** (**seed** en anglais).\n",
    "\n",
    "Si cette graine n'est pas précisé explicitement, elle est calculé à partir de l'heure actuelle pour le système. C'est notre cas ici : cela explique que la fonction `lance_de()` ne produit pas toujours la même série de valeur de retour.\n",
    "\n",
    "Par opposition, en initialisant la graine au moment de l'`import`, la série de valeur de `lance_de` sera identique."
   ]
  },
  {
   "cell_type": "code",
   "execution_count": null,
   "metadata": {},
   "outputs": [],
   "source": [
    "from random import randint\n",
    "from random import seed\n",
    "\n",
    "#Première génération aléatoire de trois nombres\n",
    "graine = 30\n",
    "print (\"Trois nombres aléatoires crée à partir de la graine\", graine)\n",
    "seed(graine)\n",
    "print (\"Premier nombre :\", randint(1, 6))\n",
    "print (\"Second nombre :\", randint(1, 6))\n",
    "print (\"Troisième nombre :\", randint(1, 6))\n",
    "\n",
    "print() #pour sauter une ligne\n",
    "\n",
    "#Seconde génération aléatoire de trois nombres\n",
    "graine = 30\n",
    "print (\"Trois nombres aléatoires crée à partir de la graine\", graine)\n",
    "seed(graine)\n",
    "print (\"Premier nombre :\", randint(1, 6))\n",
    "print (\"Second nombre :\", randint(1, 6))\n",
    "print (\"Troisième nombre :\", randint(1, 6))"
   ]
  },
  {
   "cell_type": "markdown",
   "metadata": {},
   "source": [
    "**Exemple 3 : une fonction ayant des paramètres et une valeur de retour**\n",
    "\n",
    "On souhaite re-écrire une fonction déterminant le maximum entre deux valeurs (souvent de type `int`, mais pouvant aussi être de type `string` par exemple).\n",
    "\n",
    "Raisonnablement, celle-ci doit avoir deux paramètres. Elle devra aussi renvoyer une valeur (l'un des paramètres)"
   ]
  },
  {
   "cell_type": "code",
   "execution_count": null,
   "metadata": {},
   "outputs": [],
   "source": [
    "# fonction ayant deux paramètres\n",
    "def maximum(a, b):\n",
    "    \"\"\"Renvoie le maximum des deux paramètres\"\"\"\n",
    "    if a > b:\n",
    "        return a\n",
    "    else:\n",
    "        return b\n",
    "    \n",
    "nb1 = int(input(\"Saisissez un nombre : \"))\n",
    "nb2 = int(input(\"Saisissez un nombre : \"))\n",
    "\n",
    "# On appelle la fonction et on garde le résultat dans c :\n",
    "m = maximum(nb1, nb2)\n",
    "print(\"Le max de\", nb1, \"et\", nb2, \"est\", m)\n",
    "\n",
    "# On peut aussi utiliser directement le résultat :\n",
    "print(\"Le max de\", nb1, \"et\", nb2, \"est\", maximum(nb1, nb2))"
   ]
  },
  {
   "cell_type": "markdown",
   "metadata": {},
   "source": [
    "### Vérifier vos connaissances\n",
    "\n",
    "A ce stade, vous devez être capable :\n",
    "* de transformer un bout de programme déjà écrit en une fonction ;\n",
    "* d'écrire correctement une fonction en Python réalisant une tache prédéfinie."
   ]
  },
  {
   "cell_type": "markdown",
   "metadata": {},
   "source": [
    "#### Exercice 3 :\n",
    "\n",
    "Au chapitre précédent, nous avons écrit le code suivant pour réaliser la saisie controllée par l'utilisateur d'un entier positif.\n",
    "\n",
    "```Python\n",
    "saisie = -1 #variable en fait pas réellement initialisée\n",
    "while saisie < 0:\n",
    "    saisie = int(input(\"Donnez moi un entier positif : \"))\n",
    "```\n",
    "\n",
    "Utiliser ce code pour écrire une fonction `saisie_nb_positif()` demandant à l'utilisateur un entier positif, recommençant tant que le nombre saisie n'est pas positif et retournant finalement l'entier saisi."
   ]
  },
  {
   "cell_type": "markdown",
   "metadata": {},
   "source": [
    "#### Exercice 4 :\n",
    "\n",
    "* Écrire une fonction `min(a, b)` renvoyant le plus petit des deux objets `a` et `b`.\n",
    "* Écrire une fonction `max(a, b)` renvoyant le plus grand des deux objets `a` et `b`.\n",
    "* Affecter successivement les valeurs `3` et `2`, puis `\"toto\"` et `\"titi\"` aux variables `a` et `b`.\n",
    "Que vaut alors `min(a, b)` et `max(a, b)` ?"
   ]
  },
  {
   "cell_type": "markdown",
   "metadata": {},
   "source": [
    "#### Exercice 5 :\n",
    "\n",
    "Écrire une fonction `factorielle(n)` renvoyant l'entier `n! = 1 * 2 * ... * n`."
   ]
  },
  {
   "cell_type": "markdown",
   "metadata": {},
   "source": [
    "#### Exercice 6 :\n",
    "\n",
    "Ecrire une fonction `pgcd(a, b)` renvoyant le plus grand commun diviseur des entiers `a` et `b`.\n",
    "*On rapelle que l'algorithme pour calculer un p.g.c.d. a été vu au cours du TD 3 sur les boucles*"
   ]
  },
  {
   "cell_type": "markdown",
   "metadata": {},
   "source": [
    "### 5) Composition de fonctions\n",
    "\n",
    "Bien sur, lorsque l'on écrit une fonction, il est possible d'utiliser une autre fonction. Nous l'avons déjà fait dans la fonction `affiche` en utilisant la print prédéfinie `print`, ou encore dans la `trace_polygone` avec les fonctions `forward` et `left` du module `turtle`. On peut aussi utiliser nos propres fonctions, comme le montre l'exemple suivant :"
   ]
  },
  {
   "cell_type": "code",
   "execution_count": null,
   "metadata": {},
   "outputs": [],
   "source": [
    "def pgcd(a, b):\n",
    "    \"\"\"Fonction calculant le pgcd de deux entiers\n",
    "    \n",
    "    :param a: int\n",
    "    :param b: int\n",
    "    :return value: int\n",
    "    \"\"\"\n",
    "    while a % b != 0:\n",
    "        r = a % b\n",
    "        a = b\n",
    "        b = r\n",
    "    return b\n",
    "\n",
    "def premiers_entre_eux(a, b):\n",
    "    \"\"\"Fonction testant si deux entiers sont premiers entre eux\n",
    "    \n",
    "    :param a: int\n",
    "    :param b: int\n",
    "    :return value: bool\n",
    "    \"\"\"\n",
    "    return pgcd(a, b) == 1\n",
    "\n",
    "# programme principal :\n",
    "m = int(input(\"Saisissez un nombre : \"))\n",
    "n = int(input(\"Saisissez un nombre : \"))\n",
    "o = int(input(\"Saisissez un nombre : \"))\n",
    "\n",
    "if (premiers_entre_eux(m, n)\n",
    "    and premiers_entre_eux(n, o)\n",
    "    and premiers_entre_eux(o, m)):\n",
    "    print(\"tous premiers entre eux\")"
   ]
  },
  {
   "cell_type": "markdown",
   "metadata": {},
   "source": [
    "## III Erreurs fréquentes\n",
    "\n",
    "### 1) Confusion entre paramètre et saisie \n",
    "\n",
    "Les programmeurs débutants confondent très souvent la *notion de paramètre* avec la *notion de saisie* (au clavier par exemple).\n",
    "\n",
    "Lorsque nous avons transformé le programme tracant un polygone régulier en une fonction, nous avons laissé de coté les\n",
    "lignes avec des `input` permettant d'initialiser les variables `nb_cote` et `taille_cote`. En effet, *celles-ci ne font pas parti de la section de code réalisant le dessin du polygone*.\n",
    "\n",
    "Cependant, on trouve beaucoup d'étudiants qui écrivent un code comme suit :"
   ]
  },
  {
   "cell_type": "code",
   "execution_count": null,
   "metadata": {},
   "outputs": [],
   "source": [
    "# ATTENTION CECI EST INCORRECT, A NE PAS REPRODUIRE !!!\n",
    "def trace_polygone(nb_cotes, taille_cote):\n",
    "    nb_cote = int(input(\"Saisissez un nombre : \"))      # NON !\n",
    "    taille_cote = int(input(\"Saisissez un nombre : \"))  # NON !\n",
    "    angle = 360 / nb_cotes\n",
    "    down()\n",
    "    for compteur in range(nb_cotes):\n",
    "        forward(taille_cote) # Tracer un côté\n",
    "        left(angle) # Tourner à gauche"
   ]
  },
  {
   "cell_type": "markdown",
   "metadata": {},
   "source": [
    "<div style='color:red'>**NE SURTOUT PAS PROGRAMMER COMME ÇA :**</div>\n",
    "* pour avoir des programmes facilement lisibles et maintenable dans le temps, une fonction se devrait d'effectuer une seule tache ; or ici, `trace_polygone` réalise deux taches : la saisie de `nb_cote` et `taille_cote`, puis le tracé du polygone.\n",
    "* les paramètres de la fonction, `nb_cote` et `taille_cote`, sont écrasés par une saisie de l'utilisateur : ils sont donc totalement inutiles.\n",
    "* aucun commentaire n'a été écrit par le programmeur.\n",
    "\n",
    "Nous insistons donc sur la bonne manière d'écrire un programme utilisant une fonction `trace_polygone` :"
   ]
  },
  {
   "cell_type": "code",
   "execution_count": null,
   "metadata": {},
   "outputs": [],
   "source": [
    "\"\"\"\n",
    "Tracé de polygones réguliers.\n",
    "\"\"\"\n",
    "# On importe les fonctions du module turtle\n",
    "from turtle import *\n",
    "\n",
    "# Définition de la fonction trace_polygone\n",
    "def trace_polygone(nb_cotes, taille_cote):\n",
    "    \"\"\" Trace un polygone régulier à nb_cotes de longueur taille_cote.\n",
    "    \n",
    "    :param nb_cotes: int\n",
    "    :param taille_cote: int\n",
    "    \"\"\"\n",
    "    angle = 360 / nb_cotes\n",
    "    down()\n",
    "    for compteur in range(nb_cotes):\n",
    "        forward(taille_cote) # Tracer un côté\n",
    "        left(angle) # Tourner à gauche\n",
    "\n",
    "# Initialisation des paramètres par l'utilisateur\n",
    "nb_cote = int(input(\"Saisissez un nombre : \"))\n",
    "taille_cote = int(input(\"Saisissez un nombre : \"))\n",
    "\n",
    "# Tracé du polygone\n",
    "trace_polygone(nb_cote, taille_cote)\n",
    "\n",
    "# Sortie par click de souris\n",
    "exitonclick()"
   ]
  },
  {
   "cell_type": "markdown",
   "metadata": {},
   "source": [
    "### Vérifier vos connaissances\n",
    "\n",
    "A ce stade, vous devez être capable :\n",
    "* de comprendre la différence entre la saisie d'un utilisateur et le passage d'un paramètre à une fonction ;\n",
    "* d'isoler dans une fonction les saisies utilisateurs réalisées dans un programme ;\n",
    "* d'écrire des fonctions réalisant une seule tache.\n"
   ]
  },
  {
   "cell_type": "markdown",
   "metadata": {},
   "source": [
    "### 2) Confusion entre retour et affichage\n",
    "\n",
    "Les programmeurs débutants confondent aussi très souvent la notion de **valeur de retour** avec la notion de **valeur affichée**. \n",
    "\n",
    "Imaginons que nous sommes en train de travailler sur un projet d'exploration de Neptune pour savoir si cette planète serait habitable par l'homme. Il nous faudrait donc d'écrire un programme utilisé par un robot explorateur analysant la composition de l'atmosphère sur place. En particulier, il faudrait une fonction prenant comme argument l'analyse de l'atmosphère et renvoyant \"Viable pour les Hommes\" ou \"Pas viable pour les Hommes\".\n",
    "\n",
    "Que se passerait-il si cela avait été programmé comme cela ?"
   ]
  },
  {
   "cell_type": "code",
   "execution_count": null,
   "metadata": {},
   "outputs": [],
   "source": [
    "# ATTENTION CECI EST INCORRECT, A NE PAS REPRODUIRE !!!\n",
    "\n",
    "def analyse(atmosphere) :\n",
    "    if atmosphere == \"CO2\":\n",
    "        print(\"Viable pour les Hommes\")\n",
    "    else:\n",
    "        print(\"Pas viable pour les Hommes\")"
   ]
  },
  {
   "cell_type": "markdown",
   "metadata": {},
   "source": [
    "<div style='color:red'>**NE SURTOUT PAS PROGRAMMER COMME ÇA :**</div>\n",
    "* la valeur calculée n'est pas réutilisable : elle est uniquement affichée à l'écran.\n",
    "* aucun commentaire n'a été écrit par le programmeur."
   ]
  },
  {
   "cell_type": "markdown",
   "metadata": {},
   "source": [
    "Evidemment, le programmeur sur Terre voit son écran. Il obtient donc d'une certaine manière la réponse à sa question.\n",
    "Mais, en réalité, un tel programme ne serait pas d'une grande aide pour les hommes restés sur Terre... Car l'affichage ne se fera pas face au programmeur, mais à plus de 1300 millions de kilomètres... \n",
    "\n",
    "Autrement dit, le robot serait très fier d'afficher sur son torse contenant un petit écran le résultat demandé. *Mais, comment ferait-on sur Terre pour pouvoir expoloiter cette donnée ?*\n",
    "\n",
    "Voici évidemment la bonne manière d'écrire ce programme :"
   ]
  },
  {
   "cell_type": "code",
   "execution_count": null,
   "metadata": {},
   "outputs": [],
   "source": [
    "def analyse(atmosphere) :\n",
    "    \"\"\"Détermine les résultats finaux de l'analyse de l'atmosphère\n",
    "    \n",
    "    :return value: String\n",
    "    \"\"\"\n",
    "    if atmosphere == \"CO2\":\n",
    "        return \"Viable\"\n",
    "    else:\n",
    "        return \"Pas viable\""
   ]
  },
  {
   "cell_type": "markdown",
   "metadata": {},
   "source": [
    "Cette fois, il est possible de récupérer sur Terre le résultat via une fonction de transmission de donnée entre le robot et notre centre d'étude spatiale !"
   ]
  },
  {
   "cell_type": "markdown",
   "metadata": {},
   "source": [
    "**Moralité :** Une fonction peut néanmoins contenir un appel à `print` s'il s'agit d'une fonction d'affichage *(et uniquement dans ce cas !)*\n",
    "\n",
    "**Convention :** Une fonction d'affichage aura un nom commencant par `affiche`, par exemple `affiche_triangle`\n"
   ]
  },
  {
   "cell_type": "code",
   "execution_count": null,
   "metadata": {},
   "outputs": [],
   "source": [
    "def affiche_triangle(n):\n",
    "    \"\"\"Affiche un triangle d'étoile de hauteur n\n",
    "    :param n: int\n",
    "    \"\"\"\n",
    "    for i in range(n):\n",
    "        print(\"*\" * (i + 1))"
   ]
  },
  {
   "cell_type": "code",
   "execution_count": null,
   "metadata": {},
   "outputs": [],
   "source": [
    "affiche_triangle(6)"
   ]
  },
  {
   "cell_type": "markdown",
   "metadata": {},
   "source": [
    "### Vérifier vos connaissances\n",
    "\n",
    "A ce stade, vous devez être capable :\n",
    "* de comprendre la différence entre `return` et un affichage dans une fonction."
   ]
  },
  {
   "cell_type": "markdown",
   "metadata": {},
   "source": [
    "### 3) Un dernier exemple"
   ]
  },
  {
   "cell_type": "markdown",
   "metadata": {},
   "source": [
    "Corrigeons maintenant le programme qu'un étudiant a écrit l'an dernier :"
   ]
  },
  {
   "cell_type": "code",
   "execution_count": null,
   "metadata": {},
   "outputs": [],
   "source": [
    "# ATTENTION CECI EST INCORRECT, A NE PAS REPRODUIRE !!!\n",
    "def pgcd(a, b):\n",
    "    a = int(input())  # NON !\n",
    "    b = int(input())  # NON !\n",
    "    while a % b != 0:\n",
    "        r = a % b\n",
    "        a = b\n",
    "        b = r\n",
    "    print(\"le pgcd est\", b)  # NON !"
   ]
  },
  {
   "cell_type": "markdown",
   "metadata": {},
   "source": [
    "<div style='color:red'>**NE SURTOUT PAS PROGRAMMER COMME ÇA :**</div>\n",
    "* pour avoir des programmes facilement lisibles et maintenable dans le temps, une fonction se devrait d'effectuer une seule tache ; or ici, `pgcd` réalise trois taches : la saisie de `a` et `b`, le calcul du pgcd, puis l'affichage de la valeur du pgcd.\n",
    "* les paramètres de la fonction, `a` et `b`, sont écrasés par une saisie de l'utilisateur : ils sont donc totalement inutiles.\n",
    "* aucun commentaire n'a été écrit par le programmeur.\n",
    "\n",
    "Voici la manière correcte d'écrire un programme calculant un pgcd en utilisant une fonction réalisant le calcul :"
   ]
  },
  {
   "cell_type": "code",
   "execution_count": null,
   "metadata": {},
   "outputs": [],
   "source": [
    "# VERSION CORRECTE !!!\n",
    "\n",
    "# Fonction(s) préliminaire(s)\n",
    "def pgcd(a, b):\n",
    "    \"\"\"Fonction calculant le pgcd de deux entiers\n",
    "    \n",
    "    :param a: int\n",
    "    :param b: int\n",
    "    :return value: int\n",
    "    \"\"\"\n",
    "    while a % b != 0:\n",
    "        r = a % b\n",
    "        a = b\n",
    "        b = r\n",
    "    return b\n",
    "\n",
    "#Début du programme principal\n",
    "a = int(input(\"Saisissez un nombre : \"))\n",
    "b = int(input(\"Saisissez un nombre : \"))\n",
    "\n",
    "print(pgcd(a, b))"
   ]
  },
  {
   "cell_type": "markdown",
   "metadata": {},
   "source": [
    "Le véritable objectif de la fonction `pgcd` est de **calculer** le pgcd. On a donc retiré du corps de la fonction tout ce qui n'était pas lié au calcul (saisie des nombres + affichage du résultat). On a aussi rajouté un peu de documentation de la fonction."
   ]
  },
  {
   "cell_type": "markdown",
   "metadata": {},
   "source": [
    "**Exercice 7 :**\n",
    "\n",
    "- Comment écrire un programme vérifiant si trois entiers sont\n",
    "  premiers entre eux à l'aide de cette fonction ?\n",
    "- Combien ce programme ferait-il de saisies ?\n",
    "- Qu'afficherait ce programme ?\n",
    "\n"
   ]
  },
  {
   "cell_type": "markdown",
   "metadata": {},
   "source": [
    "## IV Sémantique d'un appel de fonctions et espaces de noms"
   ]
  },
  {
   "cell_type": "markdown",
   "metadata": {},
   "source": [
    "Au moment d'un appel de fonction, un espace de noms local est créé. Il associe à chacun des paramètres la valeur de l'expression correspondante dans l'appel. Les variables locales sont également créées dans ces espace de noms.\n",
    "\n",
    "### 1) Notion d'espace de noms\n",
    "\n",
    "Un espace de noms est un ensemble de noms (de variables, de fonctions, ...) définies à un certain point d'un programme. L'ensemble de tous les noms connus à un point du programme peut être constitué de plusieurs espaces de noms superposés (du plus bas au plus haut) :\n",
    "- espace de nom global contenant les variables (fonctions, classes...) définies directement dans le programme principal ;\n",
    "- empilement des espaces de noms locaux des appels de fonction en cours, dans l'ordre chronologique, contenant chacun les paramètres de l'appel correspondant ainsi que les variables définies dans le corps de cette fonction (variables locales).\n",
    "\n",
    "L'empilement des espaces de noms locaux obéit à une politique de **pile** : le sommet correspond au dernier appel en date. Quand cet appel se termine, son espace de nom est supprimé de la pile et l'exécution de l'appel précédent reprend. Quand un nouvel appel est effectué, l'exécution de la fonction en cours s'interrompt, un nouvel espace de noms local est créé et l'exécution de la fonction appelée commence.\n",
    "\n",
    "En Python, il est possible d'accéder en lecture à n'importe quel nom défini dans un des espaces de noms empilés. Si plusieurs espaces contiennent le même nom, c'est l'espace de nom le plus récent qui est sélectionné. Pour accéder en écriture à une variable qui n'est pas dans l'espace de nom le plus récent, il faut utiliser les mots-clés `global` ou `non-local` (à utiliser avec précaution).\n",
    "\n",
    "### 2) Déroulement détaillé d'un appel\n",
    "\n",
    "Considérons l'appel suivant :\n",
    "\n",
    "```python\n",
    "def ma_fonction(p_1, ..., p_n):\n",
    "    ...\n",
    "    return expr\n",
    "\n",
    "# Appel de fonction (à l'intérieur d'une expression)\n",
    "... ma_fonction(e_1, ..., e_n) ...\n",
    "```\n",
    "\n",
    "Voici la succession des étapes de l'appel :\n",
    "\n",
    "- Création d'un espace de noms local contenant `p_1` à `p_n` au sommet de la pile d'appels\n",
    "- Chaque expression `e_i` est évaluée en une valeur `v_i` et affectée à la variable `p_i`\n",
    "- Exécution du corps de la fonction dans l'espace de noms local\n",
    "- Si la fonction exécute l'instruction `return expr` ou atteint la fin de son bloc d'instructions, l'espace de noms local est détruit et l'expression appelante `ma_fonction(e_1, ..., e_n)` prend la valeur de `expr` (respectivement `None`)\n",
    "- Reprise du programme principal dans l'espace global\n",
    "\n",
    "Les noms `p_1` à `p_n` sont parfois appelés **paramètres formels**, les valeurs `v_1` à `v_n` **paramètres effectifs**. On appelle parfois aussi **paramètres** (tout court) les paramètres formels et **arguments** les paramètres effectifs.\n",
    "\n",
    "### 3) Exemple détaillé\n",
    "\n",
    "Essayons d'écrire une fonction permettant d'intervertir les valeurs de deux variables :"
   ]
  },
  {
   "cell_type": "code",
   "execution_count": null,
   "metadata": {},
   "outputs": [],
   "source": [
    "def echange(a, b):\n",
    "    \"\"\" Fonction censé intervertir les valeurs de deux variables\"\"\"\n",
    "    temp = a\n",
    "    a = b\n",
    "    b = temp\n",
    "    \n",
    "x = 1\n",
    "y = 2\n",
    "echange(x, y)\n",
    "print(x, y)\n",
    "print(temp)"
   ]
  },
  {
   "cell_type": "markdown",
   "metadata": {},
   "source": [
    "A la ligne 1, on place dans l'espace de nom global une variable `echange`.\n",
    "Aux lignes 7 et 8, on y place deux variables `x` et `y`.\n",
    "\n",
    "A ce stade, on a donc :\n",
    "<img src=\"img/espace_noms_global.png\" width=400px>\n",
    "\n",
    "Ensuite, on arrive à l'appel de fonctions `echange(x, y)`. A ce niveau la, un nouvel espace de nom est crée. On y évalue `x` et stocke le résultat dans la variable `a` ; de même, `y` est évaluée et le résultat est stocké dans la variable `b`.\n",
    "\n",
    "<img src=\"img/espace_nom_local_1.png\" width=200px>\n",
    "\n",
    "Désormais, la variable `temp` est crée, puis la variable `a` est mise à jour et enfin la variable `b` est mise à jour.\n",
    "\n",
    "<table>\n",
    "    <tbody>\n",
    "        <tr>\n",
    "            <td><img src=\"img/espace_nom_local_2.png\" width=200px></td>\n",
    "            <td><img src=\"img/espace_nom_local_3.png\" width=200px></td>\n",
    "            <td><img src=\"img/espace_nom_local_4.png\" width=200px></td>\n",
    "        </tr>\n",
    "        <tr>\n",
    "            <td><center>Création de `temp`</center></td>\n",
    "            <td><center>Mise à jour de `a`</center></td>\n",
    "            <td><center>Mise à jour de `b`</center></td>\n",
    "        </tr>\n",
    "    </tbody>\n",
    "</table>\n",
    "\n",
    "Au cours de l'exécution de la fonction `echange`, avons-nous modifié les données dans l'espace de noms global ?\n",
    "**Non, bien sur !** Nous avons interverti le contenu des variables locales `a` et `b` présente dans l'espace de nom local.\n",
    "\n",
    "A la fin de l'éxécution du programme, l'espace de nom global vaut donc :\n",
    "<img src=\"img/espace_noms_global.png\" width=400px>\n",
    "\n",
    "En particulier, l'appel `print(tmp)` provoquera une erreur, car la variable `tmp` n'est pas dans l'espace de nom global !"
   ]
  },
  {
   "cell_type": "markdown",
   "metadata": {},
   "source": [
    "### Vérifier vos connaissances\n",
    "\n",
    "A ce stade, vous devez être capable :\n",
    "* de décrire l'espace de nom global d'un programme ;\n",
    "* de décrire les espaces de nom locaux lors de l'exécution d'une fonction ;\n",
    "* de comprendre de manière détaillée comment fonctionne un appel de fonction ;\n",
    "* de décrire l'exécution pas à pas d'une fonction."
   ]
  },
  {
   "cell_type": "markdown",
   "metadata": {},
   "source": [
    "**Exercice 8 :** Décrire l'exécution pas à pas du programme suivant (avec état de la mémoire)."
   ]
  },
  {
   "cell_type": "code",
   "execution_count": null,
   "metadata": {},
   "outputs": [],
   "source": [
    "def maximum(a, b):\n",
    "    \"\"\"Renvoie le maximum des deux paramètres\"\"\"\n",
    "    if a > b:\n",
    "        return a\n",
    "    else:\n",
    "        return b\n",
    "    \n",
    "nb1 = int(input(\"Saisissez un nombre : \"))\n",
    "nb2 = int(input(\"Saisissez un nombre : \"))\n",
    "print(\"Le max de\", nb1, \"et\", nb2, \"est\", maximum(nb1, nb2))"
   ]
  },
  {
   "cell_type": "markdown",
   "metadata": {},
   "source": [
    "**Remarque : ** *On pourra s'auto-corriger grâce à [Python Tutor](http://www.pythontutor.com/visualize.html#code=%23%20fonction%20%C3%A0%20deux%20param%C3%A8tres,%20sans%20effet%20de%20bord%0Adef%20maximum%28a,%20b%29%3A%0A%20%20%20%20if%20a%20%3E%20b%3A%0A%20%20%20%20%20%20%20%20return%20a%0A%20%20%20%20else%3A%0A%20%20%20%20%20%20%20%20return%20b%0A%20%20%20%20%0Anb1%20%3D%20int%28input%28%22Saisissez%20un%20nombre%20:%20%22%29%29%0Anb2%20%3D%20int%28input%28%22Saisissez%20un%20nombre%20:%20%22%29%29%0A%0A%23%20On%20appelle%20la%20fonction%20et%20on%20garde%20le%20r%C3%A9sultat%20dans%20c%20%3A%0Ac%20%3D%20maximum%28nb1,%20nb2%29%0Aprint%28%22le%20max%20de%22,%20nb1,%20%22et%22,%20nb2,%20%22est%22,%20c%29%0A%0A%23%20On%20peut%20aussi%20utiliser%20directement%20le%20r%C3%A9sultat%20%3A%0Aprint%28%22le%20max%20de%22,%20nb1,%20%22et%22,%20nb2,%20%22est%22,%20maximum%28nb1,%20nb2%29%29&cumulative=false&curInstr=0&heapPrimitives=true&mode=display&origin=opt-frontend.js&py=3&rawInputLstJSON=%5B%5D&textReferences=false)*."
   ]
  },
  {
   "cell_type": "markdown",
   "metadata": {},
   "source": [
    "## V Documentation et test de fonctions\n",
    "\n",
    "### 1) Chaînes de documentation (*docstring*)\n",
    "\n",
    "Il est important d'indiquer par un commentaire à quoi sert une fonction que l'on a programmé. Cela permet de :\n",
    "* transmettre simplement à ces collègues comment fonctionne une fonction, quels sont ses paramètres, sa valeur de retour, etc ;\n",
    "* se souvenir simplement ce que l'on a déjà programmé et de comment cela fonctionne."
   ]
  },
  {
   "cell_type": "code",
   "execution_count": null,
   "metadata": {},
   "outputs": [],
   "source": [
    "def triple(nombre):\n",
    "    '''\n",
    "    Fonction calculant le triple d'un nombre.\n",
    "    \n",
    "    :param nombre: int ou float\n",
    "    :return value: int ou float (même type que celui d'entrée)\n",
    "    '''\n",
    "    return nombre * 3"
   ]
  },
  {
   "cell_type": "markdown",
   "metadata": {},
   "source": [
    "On peut accéder à la chaîne de documentation d'une fonction en tapant `help(nom de la fonction)` dans l'interpréteur :"
   ]
  },
  {
   "cell_type": "code",
   "execution_count": null,
   "metadata": {},
   "outputs": [],
   "source": [
    "help(triple)"
   ]
  },
  {
   "cell_type": "markdown",
   "metadata": {},
   "source": [
    "Cela fonctionne aussi pour les fonctions prédéfinies ou issues de modules :"
   ]
  },
  {
   "cell_type": "code",
   "execution_count": null,
   "metadata": {},
   "outputs": [],
   "source": [
    "from random import randint\n",
    "help(randint)"
   ]
  },
  {
   "cell_type": "markdown",
   "metadata": {},
   "source": [
    "### Vérifier vos connaissances\n",
    "\n",
    "A ce stade, vous devez être capable :\n",
    "* de comprendre l'intérêt d'écrire de la documentation ;\n",
    "* d'écrire des docstrings pour décrire vos fonctions."
   ]
  },
  {
   "cell_type": "markdown",
   "metadata": {},
   "source": [
    "**Exercice 9**\n",
    "\n",
    "Ecrire des docstrings pour les fonctions que vous avez écrites aux exercices 3 à 6."
   ]
  },
  {
   "cell_type": "markdown",
   "metadata": {},
   "source": [
    "### 2) Tests intégrés à la documentation (*doctest*)\n",
    "\n",
    "#### Pourquoi faire des tests ?\n",
    "\n",
    "Comme tout morceau de programme, chaque fonction doit être *testée* immédiatement pour s'assurer qu'elle fonctionne correctement."
   ]
  },
  {
   "cell_type": "code",
   "execution_count": null,
   "metadata": {},
   "outputs": [],
   "source": [
    "triple(3)"
   ]
  },
  {
   "cell_type": "code",
   "execution_count": null,
   "metadata": {},
   "outputs": [],
   "source": [
    "triple(9.0)"
   ]
  },
  {
   "cell_type": "markdown",
   "metadata": {},
   "source": [
    "Plutôt que de perdre ces tests, ou de devoir les réaliser à chaque fois que l'on modifie le programme, il est utile de les intégrer à la documentation de la fonction pour pouvoir s'y référer plus tard :\n",
    "* Cela donne des exemples d'utilisation de la fonction ;\n",
    "* Si l'on change le code de la fonction, cela permet aussi de vérifier que son comportement reste correct.\n",
    "\n",
    "#### La syntaxe pour écrire des doctests"
   ]
  },
  {
   "cell_type": "code",
   "execution_count": null,
   "metadata": {},
   "outputs": [],
   "source": [
    "def triple(nombre):\n",
    "    '''\n",
    "    Fonction calculant le triple d'un nombre.\n",
    "    \n",
    "    :param nombre: int ou float\n",
    "    :return value: int ou float (même type que celui d'entrée)\n",
    "    \n",
    "    >>> triple(3)\n",
    "    9\n",
    "    >>> triple(9.0)\n",
    "    27.0\n",
    "    '''\n",
    "    return 3 * nombre"
   ]
  },
  {
   "cell_type": "code",
   "execution_count": null,
   "metadata": {},
   "outputs": [],
   "source": [
    "def racine(nombre):\n",
    "    '''\n",
    "    Fonction calculant la racine carrée d'un nombre.\n",
    "    \n",
    "    :param nombre: int ou float\n",
    "    :return value: float\n",
    "    \n",
    "    >>> racine(0)\n",
    "    0.0\n",
    "    >>> racine(1)\n",
    "    1.0\n",
    "    >>> racine(4)\n",
    "    2.0\n",
    "    '''\n",
    "    return nombre ** (1/2)"
   ]
  },
  {
   "cell_type": "markdown",
   "metadata": {},
   "source": [
    "#### Comment vérifier que les doctests sont validés ?\n",
    "\n",
    "Il existe des outils qui permettent de lancer automatiquement tous les tests présents dans la documentation, et de vérifier qu'ils produisent exactement les résultats annoncés.\n",
    "\n",
    "Par exemple, à la fin d'un programme, on peut écrire le code suivant pour lancer systématiquement tous les tests présents dans le fichier :\n",
    "\n",
    "```python\n",
    "import doctest\n",
    "doctest.testmod()\n",
    "```"
   ]
  },
  {
   "cell_type": "code",
   "execution_count": null,
   "metadata": {},
   "outputs": [],
   "source": [
    "def triple(nombre):\n",
    "    '''\n",
    "    Fonction calculant le triple d'un nombre.\n",
    "    \n",
    "    :param nombre: int ou float\n",
    "    :return value: int ou float (même type que celui d'entrée)\n",
    "    \n",
    "    >>> triple(3)\n",
    "    9\n",
    "    >>> triple(9.0)\n",
    "    27.0\n",
    "    '''\n",
    "    return 3 * nombre\n",
    "\n",
    "def racine(nombre):\n",
    "    '''\n",
    "    Fonction calculant la racine carrée d'un nombre.\n",
    "    \n",
    "    :param nombre: int ou float\n",
    "    :return value: float\n",
    "    \n",
    "    >>> racine(0)\n",
    "    0.0\n",
    "    >>> racine(1)\n",
    "    1.0\n",
    "    >>> racine(4)\n",
    "    2.0\n",
    "    '''\n",
    "    return nombre ** (1/2)\n",
    "\n",
    "import doctest\n",
    "doctest.testmod()"
   ]
  },
  {
   "cell_type": "markdown",
   "metadata": {},
   "source": [
    "Voici le retour de Python lorsqu'un test échoue :"
   ]
  },
  {
   "cell_type": "code",
   "execution_count": null,
   "metadata": {},
   "outputs": [],
   "source": [
    "def racine(nombre):\n",
    "    '''\n",
    "    Fonction calculant la racine carrée d'un nombre.\n",
    "    \n",
    "    :param nombre: int ou float\n",
    "    :return value: float\n",
    "    \n",
    "    >>> racine(0)\n",
    "    0.0\n",
    "    >>> racine(1)\n",
    "    1.0\n",
    "    >>> racine(2)\n",
    "    1.414\n",
    "    >>> racine(4)\n",
    "    2.0\n",
    "    '''\n",
    "    return nombre ** (1/2)\n",
    "\n",
    "import doctest\n",
    "doctest.testmod()"
   ]
  },
  {
   "cell_type": "markdown",
   "metadata": {},
   "source": [
    "Ici, le test de la valeur de retour de `racine(2)` échoue. La valeur n'est pas `1.414` : il semble qu'elle soit plutôt `1.4142135623730951`."
   ]
  },
  {
   "cell_type": "markdown",
   "metadata": {},
   "source": [
    "#### Des doctests évolués 1 : tester l'égalité de floattant"
   ]
  },
  {
   "cell_type": "markdown",
   "metadata": {},
   "source": [
    "De temps en temps, on a besoin de tester que la valeur de retour d'une fonction renvoyant un floatant est correcte.\n",
    "Mais, tester l'égalité de deux floattants est difficile.\n",
    "\n",
    "Par exemple, on a :"
   ]
  },
  {
   "cell_type": "code",
   "execution_count": null,
   "metadata": {},
   "outputs": [],
   "source": [
    "0.1 + 0.2 == 0.3"
   ]
  },
  {
   "cell_type": "markdown",
   "metadata": {},
   "source": [
    "Ce test, évalué à `False` par Python, devrait bien évidemment être évalué à `True`. Ceci est du à la représentation des nombres en binaires.\n",
    "\n",
    "En raison de cet exemple, modifier le doctest de l'exemple précédent en \n",
    "```Python\n",
    ">>> racine(2)\n",
    "1.4142135623730951\n",
    "```\n",
    "ne serait pas plus satisfaisant que de laisser le doctest précédent.\n",
    "\n",
    "Voici comment faire un tel test :\n",
    "\n",
    "Pour tester l'égalité de deux floattants `x`et `y`, on se donne alors une précision `epsilon` proche de `0`. Si nos deux floattants sont égaux à `epsilon` près, c'est-à-dire lorsque `abs(x - y) <= epsilon` vaut `True`, on considèrera que les floattants `x` et `y` sont égaux."
   ]
  },
  {
   "cell_type": "code",
   "execution_count": null,
   "metadata": {},
   "outputs": [],
   "source": [
    "epsilon = 10**-10\n",
    "x = 0.1 + 0.2\n",
    "y = 0.3\n",
    "abs(x - y) <= epsilon"
   ]
  },
  {
   "cell_type": "markdown",
   "metadata": {},
   "source": [
    "On peut alors transformer ces lignes de codes en doctest :"
   ]
  },
  {
   "cell_type": "code",
   "execution_count": null,
   "metadata": {},
   "outputs": [],
   "source": [
    "def racine(nombre):\n",
    "    '''\n",
    "    Fonction calculant la racine carrée d'un nombre.\n",
    "    \n",
    "    :param nombre: int ou float\n",
    "    :return value: float\n",
    "    \n",
    "    >>> racine(0)\n",
    "    0.0\n",
    "    >>> racine(1)\n",
    "    1.0\n",
    "    >>> epsilon = 10**-10\n",
    "    >>> abs(racine(2) - 1.4142135623730951) < epsilon\n",
    "    True\n",
    "    >>> racine(4)\n",
    "    2.0\n",
    "    '''\n",
    "    return nombre ** (1/2)\n",
    "\n",
    "import doctest\n",
    "doctest.testmod()"
   ]
  },
  {
   "cell_type": "markdown",
   "metadata": {},
   "source": [
    "#### Des doctests évolués 2 : tester une fonction avec de l'aléatoire\n",
    "\n",
    "Rappelons que pour reproduire le comportement d'une fonction simulant de l'aléatoire, il nous faut fixer la graine à l'aide d'une _graine_."
   ]
  },
  {
   "cell_type": "code",
   "execution_count": null,
   "metadata": {},
   "outputs": [],
   "source": [
    "from random import randint\n",
    "from random import seed\n",
    "\n",
    "def lance_de() :\n",
    "    \"\"\"Simule un lancé de dé à 6 faces\n",
    "    \n",
    "    >>> seed(104438493)\n",
    "    >>> lance_de()\n",
    "    6\n",
    "    >>> lance_de()\n",
    "    5\n",
    "    >>> lance_de()\n",
    "    3\n",
    "    >>> lance_de()\n",
    "    1\n",
    "    >>> lance_de()\n",
    "    4\n",
    "    >>> lance_de()\n",
    "    6\n",
    "    \"\"\"\n",
    "    return randint(1,6)\n",
    "\n",
    "def jusqu_a_un_6():\n",
    "    \"\"\"Simule des lancés de dés à 6 faces jusqu'à obtenir un 6\n",
    "    \n",
    "    :return value: le nombre de lancés réaliser pour obtenir un 6\n",
    "\n",
    "    >>> seed(104438493)\n",
    "    >>> jusqu_a_un_6()\n",
    "    1\n",
    "    >>> jusqu_a_un_6()\n",
    "    5\n",
    "    \"\"\"\n",
    "    compteur = 1\n",
    "    while lance_de() != 6:\n",
    "        compteur = compteur + 1\n",
    "    return compteur\n",
    "\n",
    "#print('Obtenu un 6 en', jusqu_a_un_6(), 'jets de dés.')\n",
    "\n",
    "import doctest\n",
    "doctest.testmod()"
   ]
  },
  {
   "cell_type": "markdown",
   "metadata": {},
   "source": [
    "### Vérifier vos connaissances\n",
    "\n",
    "A ce stade, vous devez être capable :\n",
    "* de comprendre l'intérêt d'écrire des doctests ;\n",
    "* de savoir écrire un doctest simple ;\n",
    "* de savoir écrire un doctest évolué ;\n",
    "* de savoir lancer une série de doctests automatiquement."
   ]
  },
  {
   "cell_type": "markdown",
   "metadata": {},
   "source": [
    "**Exercice 10 : **\n",
    "\n",
    "Ecrire des doctests pour les fonctions que vous avez écrites aux exercices 3 à 6."
   ]
  }
 ],
 "metadata": {
  "celltoolbar": "Aucun(e)",
  "kernelspec": {
   "display_name": "Python 3",
   "language": "python",
   "name": "python3"
  },
  "language_info": {
   "codemirror_mode": {
    "name": "ipython",
    "version": 3
   },
   "file_extension": ".py",
   "mimetype": "text/x-python",
   "name": "python",
   "nbconvert_exporter": "python",
   "pygments_lexer": "ipython3",
   "version": "3.6.5"
  }
 },
 "nbformat": 4,
 "nbformat_minor": 2
}
