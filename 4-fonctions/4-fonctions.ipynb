{
 "cells": [
  {
   "cell_type": "code",
   "execution_count": null,
   "metadata": {
    "slideshow": {
     "slide_type": "skip"
    }
   },
   "outputs": [],
   "source": [
    "%load_ext nbtutor"
   ]
  },
  {
   "cell_type": "markdown",
   "metadata": {
    "slideshow": {
     "slide_type": "slide"
    }
   },
   "source": [
    "<div style='float:center; margin-right:20pt; width:30em'><img src='../img/logo-igm.png'></div>\n",
    "<div style='float:center; font-size:large'>\n",
    "    <strong>Algorithmique et programmation 1</strong><br>\n",
    "    L1 Mathématiques - L1 Informatique<br>\n",
    "    Semestre 1\n",
    "</div>"
   ]
  },
  {
   "cell_type": "markdown",
   "metadata": {
    "slideshow": {
     "slide_type": "slide"
    }
   },
   "source": [
    "# Chapitre 4 - Fonctions"
   ]
  },
  {
   "cell_type": "markdown",
   "metadata": {
    "slideshow": {
     "slide_type": "subslide"
    }
   },
   "source": [
    "En programmation, une fonction est\n",
    "- un morceau de programme\n",
    "- portant en général un **nom**\n",
    "- acceptant zéro, un ou plusieurs **paramètres**\n",
    "- produisant le plus souvent un **résultat**. \n",
    "\n",
    "Des exceptions existent, mais la forme la plus courante d'une fonction est donc proche de celle d'une fonction mathématique."
   ]
  },
  {
   "cell_type": "markdown",
   "metadata": {
    "slideshow": {
     "slide_type": "subslide"
    }
   },
   "source": [
    "L'utilisation de fonctions améliore les aspects suivants du code :\n",
    "\n",
    "-  **Lisibilité :** \n",
    "    - isoler une partie du programme (par exemple un gros calcul compliqué)\n",
    "    - éviter une trop grande imbrication des `if`, des `while` (ex : jeu des 5000)\n",
    "-  **Modularité et robustesse:** \n",
    "    - réutiliser le même code plusieurs fois (évite de recopier le code)\n",
    "    - faciliter la correction des bugs, l'évolution et la maintenance\n",
    "-  **Généricité :**\n",
    "    - changer la valeur des paramètres (même calcul mais avec différentes valeurs de départ)"
   ]
  },
  {
   "cell_type": "markdown",
   "metadata": {
    "slideshow": {
     "slide_type": "slide"
    }
   },
   "source": [
    "## Fonctions prédéfinies et bibliothèque standard\n",
    "\n",
    "En Python, il existe un grand nombre de fonctions prédéfinies, que nous avons déjà utilisées, par exemple :\n",
    "\n",
    "* `int(obj)` : 1 paramètre, 1 résultat. Reçoit en paramètre un objet (par exemple `str` ou `float`), essaie de le transformer en entier et renvoie l'entier obtenu."
   ]
  },
  {
   "cell_type": "code",
   "execution_count": null,
   "metadata": {
    "slideshow": {
     "slide_type": "-"
    }
   },
   "outputs": [],
   "source": [
    "int(\"34\")"
   ]
  },
  {
   "cell_type": "markdown",
   "metadata": {
    "slideshow": {
     "slide_type": "subslide"
    }
   },
   "source": [
    "* `len(obj)` : 1 paramètre, 1 résultat. Reçoit un objet (par exemple `str`) et renvoie sa longueur."
   ]
  },
  {
   "cell_type": "code",
   "execution_count": null,
   "metadata": {
    "slideshow": {
     "slide_type": "-"
    }
   },
   "outputs": [],
   "source": [
    "len(\"bonjour\")"
   ]
  },
  {
   "cell_type": "markdown",
   "metadata": {
    "slideshow": {
     "slide_type": "subslide"
    }
   },
   "source": [
    "* `randint(mini, maxi)` : 2 paramètres, 1 résultat. Reçoit deux nombres, et renvoie un entier aléatoire compris entre ces deux nombres (inclus)."
   ]
  },
  {
   "cell_type": "code",
   "execution_count": null,
   "metadata": {
    "slideshow": {
     "slide_type": "-"
    }
   },
   "outputs": [],
   "source": [
    "from random import randint\n",
    "randint(1, 34)"
   ]
  },
  {
   "cell_type": "markdown",
   "metadata": {
    "slideshow": {
     "slide_type": "subslide"
    }
   },
   "source": [
    "Il y en a beaucoup d'autres, comme `print, input, float, str...`.\n",
    "\n",
    "Ces fonctions sont appelées _prédéfinies_ (ou _built-in_)\n",
    "- il est inutile de les connaître toutes par coeur\n",
    "- liste des fonctions prédéfinies sur [cette page](https://docs.python.org/3/library/functions.html)"
   ]
  },
  {
   "cell_type": "markdown",
   "metadata": {
    "slideshow": {
     "slide_type": "subslide"
    }
   },
   "source": [
    "Il existe également de nombreux _modules_ officiels (par exemple le module `random`)\n",
    "- bibliothèques de fonctions, de types et d'objets\n",
    "- liste des modules prédéfinis documentée [ici](https://docs.python.org/3/library)."
   ]
  },
  {
   "cell_type": "markdown",
   "metadata": {
    "slideshow": {
     "slide_type": "slide"
    }
   },
   "source": [
    "## Définition de fonction\n",
    "\n",
    "Pour définir une nouvelle fonction on utilise la syntaxe suivante :\n",
    "\n",
    "```python\n",
    "# ligne suivante : en-tête de fonction\n",
    "def nom_fonction(param_1, ..., param_n):  \n",
    "    # corps de la fonction\n",
    "    # utilisant param_1 à param_n\n",
    "    ...\n",
    "    # peut renvoyer un résultat :\n",
    "    return resultat\n",
    "```\n",
    "\n",
    "Une fonction peut :\n",
    "\n",
    "* prendre un certain nombre de paramètres (ici, $n$, qui s'appellent `param_1` à `param_n`)\n",
    "* renvoyer une valeur (via l’instruction `return`)"
   ]
  },
  {
   "cell_type": "markdown",
   "metadata": {
    "slideshow": {
     "slide_type": "slide"
    }
   },
   "source": [
    "## Appel de fonction\n",
    "\n",
    "Une fois définie, `nom_fonction` peut être utilisée dans le code (on parle d'un **appel**) en indiquant entre parenthèses ses paramètres séparés par des virgules :\n",
    "\n",
    "```python\n",
    "# définition de fonction\n",
    "def nom_fonction(param_1, ..., param_n): \n",
    "    ...\n",
    "\n",
    "# reste du programme \n",
    "...\n",
    "# appel de la fonction :\n",
    "une_var = nom_fonction(expr_1, ..., expr_n)\n",
    "```"
   ]
  },
  {
   "cell_type": "markdown",
   "metadata": {
    "slideshow": {
     "slide_type": "slide"
    }
   },
   "source": [
    "## Exemples"
   ]
  },
  {
   "cell_type": "markdown",
   "metadata": {
    "slideshow": {
     "slide_type": "slide"
    }
   },
   "source": [
    "### Fonction à paramètres et résultat"
   ]
  },
  {
   "cell_type": "code",
   "execution_count": null,
   "metadata": {
    "slideshow": {
     "slide_type": "-"
    }
   },
   "outputs": [],
   "source": [
    "# fonction à deux paramètres produisant un résultat\n",
    "def maximum(a, b):\n",
    "    if a >= b:\n",
    "        return a\n",
    "    else:\n",
    "        return b"
   ]
  },
  {
   "cell_type": "code",
   "execution_count": null,
   "metadata": {
    "slideshow": {
     "slide_type": "subslide"
    }
   },
   "outputs": [],
   "source": [
    "nb1 = 14\n",
    "nb2 = -3\n",
    "\n",
    "# On appelle la fonction et on garde le résultat dans c :\n",
    "c = maximum(nb1, nb2)\n",
    "print(\"le max de\", nb1, \"et\", nb2, \"est\", c)\n",
    "\n",
    "# On peut aussi utiliser directement le résultat :\n",
    "print(\"le max de\", nb1, \"et\", nb2, \"est\", maximum(nb1, nb2))"
   ]
  },
  {
   "cell_type": "markdown",
   "metadata": {
    "slideshow": {
     "slide_type": "subslide"
    }
   },
   "source": [
    "**Entraînement :** \n",
    "\n",
    "- Décrire l'exécution pas à pas du programme (avec état de la mémoire). On peut aussi essayer avec [Python Tutor](http://www.pythontutor.com/visualize.html#code=%23%20fonction%20%C3%A0%20deux%20param%C3%A8tres,%20sans%20effet%20de%20bord%0Adef%20maximum%28a,%20b%29%3A%0A%20%20%20%20if%20a%20%3E%20b%3A%0A%20%20%20%20%20%20%20%20return%20a%0A%20%20%20%20else%3A%0A%20%20%20%20%20%20%20%20return%20b%0A%20%20%20%20%0Anb1%20%3D%20int%28input%28%29%29%0Anb2%20%3D%20int%28input%28%29%29%0A%0A%23%20On%20appelle%20la%20fonction%20et%20on%20garde%20le%20r%C3%A9sultat%20dans%20c%20%3A%0Ac%20%3D%20maximum%28nb1,%20nb2%29%0Aprint%28%22le%20max%20de%22,%20nb1,%20%22et%22,%20nb2,%20%22est%22,%20c%29%0A%0A%23%20On%20peut%20aussi%20utiliser%20directement%20le%20r%C3%A9sultat%20%3A%0Aprint%28%22le%20max%20de%22,%20nb1,%20%22et%22,%20nb2,%20%22est%22,%20maximum%28nb1,%20nb2%29%29&cumulative=false&curInstr=0&heapPrimitives=true&mode=display&origin=opt-frontend.js&py=3&rawInputLstJSON=%5B%5D&textReferences=false).\n",
    "- Dresser un tableau de valeurs de l'exécution du programme"
   ]
  },
  {
   "cell_type": "markdown",
   "metadata": {
    "slideshow": {
     "slide_type": "slide"
    }
   },
   "source": [
    "### Fonction sans paramètre\n",
    "\n",
    "- En principe, une fonction sans paramètre devrait avoir toujours le même comportement\n",
    "- Dans l'exemple suivant, on utilise un générateur pseudo-aléatoire, ce qui explique que la fonction ne renvoie pas toujours le même résultat\n",
    "- Une fonction pourrait aussi recevoir des données depuis l'extérieur (utilisateur, requête réseau...).\n",
    "\n",
    "Dans ces cas, on parle de **causes secondaires**"
   ]
  },
  {
   "cell_type": "code",
   "execution_count": null,
   "metadata": {
    "slideshow": {
     "slide_type": "subslide"
    }
   },
   "outputs": [],
   "source": [
    "from random import randint\n",
    "\n",
    "def lance_de() :\n",
    "    return randint(1,6)\n",
    "\n",
    "compteur = 1\n",
    "while lance_de() != 6:\n",
    "    compteur = compteur + 1\n",
    "print('Obtenu un 6 en', compteur, 'jets de dé.')"
   ]
  },
  {
   "cell_type": "markdown",
   "metadata": {
    "slideshow": {
     "slide_type": "slide"
    }
   },
   "source": [
    "### Fonction sans valeur de retour\n",
    "\n",
    "- Si l'exécution arrive à la dernière instruction du corps de la fonction sans rencontrer d'instruction `return expr`, alors la valeur de retour par défaut est `None` (même comportement si `return` seul)\n",
    "- En général une telle fonction a quand même un effet sur l'environnement (affichages, dessin, écriture dans un fichier, envoi d'informations sur le réseau...)\n",
    "\n",
    "Pour tous les effets autres que le renvoi d'un résultat, on parle d'**effets secondaires**"
   ]
  },
  {
   "cell_type": "code",
   "execution_count": null,
   "metadata": {
    "slideshow": {
     "slide_type": "subslide"
    }
   },
   "outputs": [],
   "source": [
    "from turtle import *\n",
    "\n",
    "def trace_polygone(nb_cotes, taille_cote):\n",
    "    down()\n",
    "    i = 0\n",
    "    while i < nb_cotes:\n",
    "        forward(taille_cote)\n",
    "        left(360 / nb_cotes)\n",
    "        i = i + 1\n",
    "\n",
    "# faire une affectation ici ne servirait à rien (essayer !)\n",
    "trace_polygone(5, 100)\n",
    "exitonclick()"
   ]
  },
  {
   "cell_type": "markdown",
   "metadata": {
    "slideshow": {
     "slide_type": "slide"
    }
   },
   "source": [
    "## Erreur fréquente : confusion (paramètre / saisie) et (retour / affichage)\n",
    "\n",
    "Les programmeurs débutants confondent très souvent la notion de paramètre et celle de saisie (au clavier par exemple) et la notion de valeur de retour avec celle de valeur affichée. "
   ]
  },
  {
   "cell_type": "code",
   "execution_count": null,
   "metadata": {
    "slideshow": {
     "slide_type": "-"
    }
   },
   "outputs": [],
   "source": [
    "# ATTENTION CECI EST INCORRECT, A NE PAS REPRODUIRE !!!\n",
    "def pgcd(a, b):\n",
    "    a = int(input())  # NON !\n",
    "    b = int(input())  # NON !\n",
    "    while a % b != 0:\n",
    "        r = a % b\n",
    "        a = b\n",
    "        b = r\n",
    "    print(\"le pgcd est\", b)  # NON !"
   ]
  },
  {
   "cell_type": "markdown",
   "metadata": {
    "slideshow": {
     "slide_type": "subslide"
    }
   },
   "source": [
    "<div style='color:red'>NE SURTOUT PAS PROGRAMMER COMME ÇA !</div>\n",
    "\n",
    "- Comment écrire un programme vérifiant si trois entiers sont\n",
    "  premiers entre eux à l'aide de cette fonction ?\n",
    "- Combien ce programme ferait-il de saisies ?\n",
    "- Qu'afficherait ce programme ?"
   ]
  },
  {
   "cell_type": "code",
   "execution_count": null,
   "metadata": {
    "slideshow": {
     "slide_type": "-"
    }
   },
   "outputs": [],
   "source": [
    "# essayons de calculer le pgcd de trois nombres\n",
    "pgcd()  # saisit deux nombres et calcule leur pgcd\n",
    "...     # je ne sais pas comment continuer !"
   ]
  },
  {
   "cell_type": "markdown",
   "metadata": {
    "slideshow": {
     "slide_type": "slide"
    }
   },
   "source": [
    "## Composition de fonctions"
   ]
  },
  {
   "cell_type": "code",
   "execution_count": null,
   "metadata": {
    "slideshow": {
     "slide_type": "-"
    }
   },
   "outputs": [],
   "source": [
    "def pgcd(a, b):\n",
    "    while a % b != 0:\n",
    "        r = a % b\n",
    "        a = b\n",
    "        b = r\n",
    "    return b"
   ]
  },
  {
   "cell_type": "code",
   "execution_count": null,
   "metadata": {
    "slideshow": {
     "slide_type": "subslide"
    }
   },
   "outputs": [],
   "source": [
    "def simplifier(num, denom):\n",
    "    d = pgcd(num, denom)\n",
    "    return (num // d, denom // d)"
   ]
  },
  {
   "cell_type": "code",
   "execution_count": null,
   "metadata": {
    "slideshow": {
     "slide_type": "-"
    }
   },
   "outputs": [],
   "source": [
    "simplifier(8, 6)"
   ]
  },
  {
   "cell_type": "code",
   "execution_count": null,
   "metadata": {
    "slideshow": {
     "slide_type": "-"
    }
   },
   "outputs": [],
   "source": [
    "simplifier(21, 39)"
   ]
  },
  {
   "cell_type": "code",
   "execution_count": null,
   "metadata": {
    "slideshow": {
     "slide_type": "subslide"
    }
   },
   "outputs": [],
   "source": [
    "def pgcd3(a, b, c):\n",
    "    d = pgcd(a, b)\n",
    "    return pgcd(c, d)"
   ]
  },
  {
   "cell_type": "code",
   "execution_count": null,
   "metadata": {
    "slideshow": {
     "slide_type": "-"
    }
   },
   "outputs": [],
   "source": [
    "pgcd3(18, 27, 12)"
   ]
  },
  {
   "cell_type": "code",
   "execution_count": null,
   "metadata": {
    "slideshow": {
     "slide_type": "-"
    }
   },
   "outputs": [],
   "source": [
    "pgcd3(12, 10, 15)"
   ]
  },
  {
   "cell_type": "markdown",
   "metadata": {
    "slideshow": {
     "slide_type": "slide"
    }
   },
   "source": [
    "## Fonctions et espaces de noms\n",
    "\n",
    "Point de vigilance :\n",
    "- les paramètres et variables définies dans le corps d'une fonction sont indépendantes des autres variables du programme \n",
    "- elles n'existent plus une fois l'exécution de la fonction terminée\n",
    "- on les appelle des variables *locales*"
   ]
  },
  {
   "cell_type": "markdown",
   "metadata": {
    "slideshow": {
     "slide_type": "subslide"
    }
   },
   "source": [
    "Reprenons un exemple précédent en changeant le nom des variables :"
   ]
  },
  {
   "cell_type": "code",
   "execution_count": null,
   "metadata": {
    "slideshow": {
     "slide_type": "-"
    }
   },
   "outputs": [],
   "source": [
    "%%nbtutor -r -f  # commenter si nb_tutor non installé\n",
    "\n",
    "def maximum(a, b):\n",
    "    if a > b:\n",
    "        b = a\n",
    "    return b\n",
    "\n",
    "nb1 = int(input())\n",
    "nb2 = int(input())\n",
    "c = maximum(nb1, nb2)\n",
    "print(\"le max de\", nb1, \"et\", nb2, \"est\", c)"
   ]
  },
  {
   "cell_type": "markdown",
   "metadata": {
    "slideshow": {
     "slide_type": "-"
    }
   },
   "source": [
    "**Entraînement :** Décrire l'exécution pas à pas du programme (avec état de la mémoire).\n",
    "\n",
    "**À retenir :** Changer les valeurs de `a` et `b` dans la fonction n'a pas d'effet sur `nb1` et `nb2` !"
   ]
  },
  {
   "cell_type": "markdown",
   "metadata": {
    "slideshow": {
     "slide_type": "subslide"
    }
   },
   "source": [
    "On renomme cette fois les variables globales du programme :"
   ]
  },
  {
   "cell_type": "code",
   "execution_count": null,
   "metadata": {
    "slideshow": {
     "slide_type": "-"
    }
   },
   "outputs": [],
   "source": [
    "%%nbtutor -r -f  # commenter si nb_tutor non installé\n",
    "\n",
    "def maximum(a, b):\n",
    "    if a > b:\n",
    "        b = a\n",
    "    return b\n",
    "\n",
    "a = int(input())\n",
    "b = int(input())\n",
    "c = maximum(a, b)\n",
    "print(\"le max de\", a, \"et\", b, \"est\", c)"
   ]
  },
  {
   "cell_type": "markdown",
   "metadata": {
    "slideshow": {
     "slide_type": "-"
    }
   },
   "source": [
    "**Entraînement :** Décrire l'exécution pas à pas du programme (avec état de la mémoire).\n",
    "\n",
    "**À retenir :** Changer les valeurs de `a` et `b` dans la fonction n'a pas d'effet sur `a` et `b` dans le programme principal !"
   ]
  },
  {
   "cell_type": "markdown",
   "metadata": {
    "slideshow": {
     "slide_type": "subslide"
    }
   },
   "source": [
    "#### Autre exemple important\n",
    "\n",
    "Essayons d'écrire une fonction permettant d'intervertir les valeurs de deux variables :"
   ]
  },
  {
   "cell_type": "code",
   "execution_count": null,
   "metadata": {
    "slideshow": {
     "slide_type": "-"
    }
   },
   "outputs": [],
   "source": [
    "%%nbtutor -r -f  # commenter si nb_tutor non installé\n",
    "\n",
    "def echange(a, b):\n",
    "    temp = a\n",
    "    a = b\n",
    "    b = temp\n",
    "    \n",
    "\n",
    "x = 1\n",
    "y = 2\n",
    "echange(x, y)\n",
    "print(x, y)\n",
    "#print(temp)"
   ]
  },
  {
   "cell_type": "markdown",
   "metadata": {
    "slideshow": {
     "slide_type": "-"
    }
   },
   "source": [
    "**Entraînement :** Décrire l'exécution pas à pas du programme (avec état de la mémoire).\n",
    "\n",
    "**À retenir :** \n",
    "- changer les valeurs de `a` et `b` dans la fonction n'a pas d'effet sur `x` et `y` dans le programme principal !\n",
    "- la variable `temp` n'existe plus après l'exécution de la fonction"
   ]
  },
  {
   "cell_type": "markdown",
   "metadata": {
    "slideshow": {
     "slide_type": "slide"
    }
   },
   "source": [
    "## Sémantique d'un appel\n",
    "\n",
    "Au moment d'un appel de fonction, un espace de noms local est créé. Il associe à chacun des paramètres la valeur de l'expression correspondante dans l'appel. Les variables locales sont également créées dans ces espace de noms."
   ]
  },
  {
   "cell_type": "markdown",
   "metadata": {
    "slideshow": {
     "slide_type": "slide"
    }
   },
   "source": [
    "### Espace de noms\n",
    "\n",
    "Un **espace de noms** est un ensemble de noms (de variables, de fonctions...) défini à un certain point d'un programme"
   ]
  },
  {
   "cell_type": "markdown",
   "metadata": {
    "slideshow": {
     "slide_type": "subslide"
    }
   },
   "source": [
    "L'ensemble de tous les noms connus à un point du programme est généralement constitué de plusieurs espaces de noms superposés (du plus ancien au plus récent) :\n",
    "\n",
    "- espace de noms prédéfini (*built-in*)\n",
    "- espace de noms global\n",
    "    - noms définis dans le programme principal\n",
    "- empilement des espaces de noms locaux des appels de fonction en cours\n",
    "    - dans l'ordre chronologique\n",
    "    - contenant chacun les paramètres de l'appel correspondant\n",
    "    - contenant chacun les variables locales à cette fonction"
   ]
  },
  {
   "cell_type": "markdown",
   "metadata": {
    "slideshow": {
     "slide_type": "slide"
    }
   },
   "source": [
    "### Pile d'appels\n",
    "\n",
    "L'empilement des espaces de noms obéit à une politique de **pile**\n",
    "\n",
    "- sommet : appel en cours\n",
    "- en-dessous : appels précédents\n",
    "- *(presque)* tout en bas : espace de nom global\n",
    "\n",
    "Dans Python Tutor : le plus récent est en bas..."
   ]
  },
  {
   "cell_type": "markdown",
   "metadata": {
    "slideshow": {
     "slide_type": "subslide"
    }
   },
   "source": [
    "Quand l'appel en cours se termine\n",
    "\n",
    "- son espace de nom est supprimé de la pile\n",
    "- l'exécution de l'appel précédent reprend"
   ]
  },
  {
   "cell_type": "markdown",
   "metadata": {
    "slideshow": {
     "slide_type": "subslide"
    }
   },
   "source": [
    "Quand un nouvel appel commence :\n",
    "\n",
    "- l'exécution de la fonction en cours s'interrompt\n",
    "- un nouvel espace de noms local est créé \n",
    "- l'exécution de la fonction appelée commence"
   ]
  },
  {
   "cell_type": "markdown",
   "metadata": {
    "slideshow": {
     "slide_type": "subslide"
    }
   },
   "source": [
    "Quand une erreur se produit pendant l'exécution d'un appel :\n",
    "\n",
    "- la ligne en cours de chaque appel est affiché (du plus ancien au plus récent)\n",
    "- nom technique : « traceback »"
   ]
  },
  {
   "cell_type": "code",
   "execution_count": null,
   "metadata": {
    "slideshow": {
     "slide_type": "subslide"
    }
   },
   "outputs": [],
   "source": [
    "simplifier(4, 0)"
   ]
  },
  {
   "cell_type": "markdown",
   "metadata": {
    "slideshow": {
     "slide_type": "slide"
    }
   },
   "source": [
    "### Portée des variables\n",
    "\n",
    "Accès à la valeur d'une variable : \n",
    "\n",
    "- possible pour n'importe quel nom défini dans un des espaces de noms antérieurs\n",
    "- si plusieurs espaces contiennent le même nom, c'est le plus récent qui est sélectionné"
   ]
  },
  {
   "cell_type": "markdown",
   "metadata": {
    "slideshow": {
     "slide_type": "subslide"
    }
   },
   "source": [
    "Affectation :\n",
    "\n",
    "- par défaut, uniquement aux variables locales\n",
    "- pour une variable dans un espace de nom plus ancien, mots-clés `global` ou `nonlocal` (à utiliser avec précaution)"
   ]
  },
  {
   "cell_type": "markdown",
   "metadata": {
    "slideshow": {
     "slide_type": "slide"
    }
   },
   "source": [
    "### Déroulement détaillé d'un appel\n",
    "\n",
    "Considérons l'appel suivant :\n",
    "\n",
    "```python\n",
    "def ma_fonction(p_1, ..., p_n):\n",
    "    ...\n",
    "    return expr\n",
    "\n",
    "# Appel de fonction (à l'intérieur d'une expression)\n",
    "... ma_fonction(e_1, ..., e_n) ...\n",
    "```"
   ]
  },
  {
   "cell_type": "markdown",
   "metadata": {
    "slideshow": {
     "slide_type": "subslide"
    }
   },
   "source": [
    "Succession des étapes de l'appel :\n",
    "\n",
    "- création d'un espace de noms local contenant `p_1` à `p_n` au sommet de la pile d'appels\n",
    "- chaque expression `e_i` est évaluée en une valeur `v_i` et affectée à la variable `p_i`\n",
    "- exécution du corps de la fonction dans l'espace de noms local\n",
    "- si la fonction exécute l'instruction `return expr` ou atteint la fin de son bloc d'instructions\n",
    "    - l'espace de noms local est détruit \n",
    "    - l'expression appelante `ma_fonction(e_1, ..., e_n)` prend la valeur de `expr` (respectivement `None`)\n",
    "- reprise du programme principal dans l'espace global"
   ]
  },
  {
   "cell_type": "markdown",
   "metadata": {
    "slideshow": {
     "slide_type": "subslide"
    }
   },
   "source": [
    "Vocabulaire :\n",
    "\n",
    "- les noms `p_1` à `p_n` sont appelés _paramètres formels_ (ou _paramètres_ tout court)\n",
    "- les valeurs `v_1` à `v_n` sont appelées _paramètres effectifs_ (ou _arguments_)"
   ]
  },
  {
   "cell_type": "markdown",
   "metadata": {
    "slideshow": {
     "slide_type": "slide"
    }
   },
   "source": [
    "## Documentation et test de fonctions\n",
    "\n",
    "### Chaînes de documentation (*docstring*)\n",
    "\n",
    "Bonne pratique : indiquer par un commentaire\n",
    "- à quoi sert une fonction\n",
    "- ce que représentent ses paramètres et leur type\n",
    "- ce que représente sa valeur de retour\n",
    "- d'éventuels effets ou causes secondaires"
   ]
  },
  {
   "cell_type": "code",
   "execution_count": null,
   "metadata": {
    "slideshow": {
     "slide_type": "subslide"
    }
   },
   "outputs": [],
   "source": [
    "def triple(n):\n",
    "    \"\"\"\n",
    "    Fonction calculant le triple du nombre n (int ou float) \n",
    "    ou la répétition trois fois de la chaîne n.\n",
    "    \"\"\"\n",
    "    return n * 3"
   ]
  },
  {
   "cell_type": "markdown",
   "metadata": {
    "slideshow": {
     "slide_type": "subslide"
    }
   },
   "source": [
    "On peut accéder à la chaîne de documentation d'une fonction en tapant `help(nom de la fonction)` dans l'interpréteur :"
   ]
  },
  {
   "cell_type": "code",
   "execution_count": null,
   "metadata": {
    "slideshow": {
     "slide_type": "-"
    }
   },
   "outputs": [],
   "source": [
    "help(triple)"
   ]
  },
  {
   "cell_type": "markdown",
   "metadata": {
    "slideshow": {
     "slide_type": "subslide"
    }
   },
   "source": [
    "Cela fonctionne aussi pour les fonctions prédéfinies ou issues de modules :"
   ]
  },
  {
   "cell_type": "code",
   "execution_count": null,
   "metadata": {
    "slideshow": {
     "slide_type": "-"
    }
   },
   "outputs": [],
   "source": [
    "from random import randint\n",
    "help(randint)"
   ]
  },
  {
   "cell_type": "markdown",
   "metadata": {
    "slideshow": {
     "slide_type": "slide"
    }
   },
   "source": [
    "### Tests intégrés à la documentation (*doctest*)\n",
    "\n",
    "Comme tout morceau de programme, chaque fonction doit être *testée* immédiatement pour s'assurer qu'elle fonctionne."
   ]
  },
  {
   "cell_type": "code",
   "execution_count": null,
   "metadata": {
    "slideshow": {
     "slide_type": "-"
    }
   },
   "outputs": [],
   "source": [
    "triple(3)"
   ]
  },
  {
   "cell_type": "code",
   "execution_count": null,
   "metadata": {
    "slideshow": {
     "slide_type": "-"
    }
   },
   "outputs": [],
   "source": [
    "triple(9.0)"
   ]
  },
  {
   "cell_type": "markdown",
   "metadata": {
    "slideshow": {
     "slide_type": "subslide"
    }
   },
   "source": [
    "Plutôt que de perdre ces tests, il est utile de les intégrer à la documentation de la fonction, pour pouvoir s'y référer plus tard. Si l'on change le code de la fonction, cela permet aussi de vérifier que son comportement reste correct."
   ]
  },
  {
   "cell_type": "code",
   "execution_count": null,
   "metadata": {
    "slideshow": {
     "slide_type": "-"
    }
   },
   "outputs": [],
   "source": [
    "def triple(n):\n",
    "    \"\"\"\n",
    "    Fonction calculant le triple du nombre n (int ou float) \n",
    "    ou la répétition trois fois de la chaîne n.\n",
    "    \n",
    "    >>> triple(3)\n",
    "    9\n",
    "    >>> triple(9.0)\n",
    "    27.0\n",
    "    \"\"\"\n",
    "    return n * 3"
   ]
  },
  {
   "cell_type": "markdown",
   "metadata": {
    "slideshow": {
     "slide_type": "subslide"
    }
   },
   "source": [
    "Il existe des outils qui permettent de lancer automatiquement tous les tests présents dans la documentation, et de vérifier qu'ils produisent les résultats annoncés."
   ]
  },
  {
   "cell_type": "markdown",
   "metadata": {
    "slideshow": {
     "slide_type": "-"
    }
   },
   "source": [
    "Par exemple, à la fin d'un programme, on peut écrire le code suivant pour lancer systématiquement tous les tests présents dans le fichier :\n",
    "\n",
    "```python\n",
    "import doctest\n",
    "doctest.testmod()\n",
    "```\n",
    "\n",
    "Exemple :"
   ]
  },
  {
   "cell_type": "code",
   "execution_count": null,
   "metadata": {
    "slideshow": {
     "slide_type": "subslide"
    }
   },
   "outputs": [],
   "source": [
    "def triple(n):\n",
    "    \"\"\"\n",
    "    Fonction calculant le triple du nombre n (int ou float) \n",
    "    ou la répétition trois fois de la chaîne n.\n",
    "    \n",
    "    >>> triple(3)\n",
    "    9\n",
    "    >>> triple(9.0)\n",
    "    27.0\n",
    "    >>> triple('pom')\n",
    "    'pompompom'\n",
    "    \"\"\"\n",
    "    return n * 3"
   ]
  },
  {
   "cell_type": "code",
   "execution_count": null,
   "metadata": {
    "slideshow": {
     "slide_type": "subslide"
    }
   },
   "outputs": [],
   "source": [
    "def racine(n):\n",
    "    \"\"\"\n",
    "    Fonction calculant la racine carrée du nombre n.\n",
    "    \n",
    "    >>> racine(0)\n",
    "    0.0\n",
    "    >>> racine(1)\n",
    "    1.0\n",
    "    >>> racine(4)\n",
    "    2.0\n",
    "    \"\"\"\n",
    "    return n ** (1/2)"
   ]
  },
  {
   "cell_type": "code",
   "execution_count": null,
   "metadata": {
    "slideshow": {
     "slide_type": "subslide"
    }
   },
   "outputs": [],
   "source": [
    "import doctest\n",
    "doctest.testmod()"
   ]
  },
  {
   "cell_type": "markdown",
   "metadata": {
    "slideshow": {
     "slide_type": "slide"
    }
   },
   "source": [
    "### <img src='img/non-exigible.png' width='20px' style='display:inline'> Annotations de type\n",
    "\n",
    "Tout ce qui suit est *non exigible en contrôle*.\n",
    "\n",
    "On peut également préciser le type des paramètres et du résultat d'une fonction à l'aide d'annotations de type\n",
    "- Ces annotations ne sont pas vérifiées directement par Python\n",
    "- Elles sont utilisées par certains environnements de développement (IDE) comme PyCharm, VSCode, etc. pour fournir de l'information à l'utilisateur.ice\n",
    "- Voir la documentation [ici par exemple](https://docs.python.org/fr/3/library/typing.html)"
   ]
  },
  {
   "cell_type": "code",
   "execution_count": null,
   "metadata": {
    "slideshow": {
     "slide_type": "subslide"
    }
   },
   "outputs": [],
   "source": [
    "def pgcd(a: int, b: int) -> int:\n",
    "    while a % b != 0:\n",
    "        r = a % b\n",
    "        a = b\n",
    "        b = r\n",
    "    return b"
   ]
  },
  {
   "cell_type": "code",
   "execution_count": null,
   "metadata": {
    "slideshow": {
     "slide_type": "subslide"
    }
   },
   "outputs": [],
   "source": [
    "def salutation(nom: str) -> str:\n",
    "    return 'Bonjour ' + nom"
   ]
  }
 ],
 "metadata": {
  "celltoolbar": "Diaporama",
  "kernelspec": {
   "display_name": "Python 3 (ipykernel)",
   "language": "python",
   "name": "python3"
  },
  "language_info": {
   "codemirror_mode": {
    "name": "ipython",
    "version": 3
   },
   "file_extension": ".py",
   "mimetype": "text/x-python",
   "name": "python",
   "nbconvert_exporter": "python",
   "pygments_lexer": "ipython3",
   "version": "3.10.6"
  }
 },
 "nbformat": 4,
 "nbformat_minor": 2
}
