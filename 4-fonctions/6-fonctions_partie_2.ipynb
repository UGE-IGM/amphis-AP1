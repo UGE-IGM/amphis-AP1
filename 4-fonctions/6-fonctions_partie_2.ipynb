{
 "cells": [
  {
   "cell_type": "markdown",
   "metadata": {},
   "source": [
    "<div>\n",
    "<div style='float:left; margin-right:40pt; width:6cm'><img src='img/UPEM-IGM-V1_300dpi.png'></div>\n",
    "<div style='float:right; font-size:large; text-align:right'><strong>Algorithmique et programmation 1</strong><br>\n",
    "L1 Mathématiques - L1 Informatique<br>\n",
    "Semestre 1\n",
    "</div>\n",
    "</div>"
   ]
  },
  {
   "cell_type": "markdown",
   "metadata": {},
   "source": [
    "# Chapitre 4 - Fonctions, partie II"
   ]
  },
  {
   "cell_type": "markdown",
   "metadata": {},
   "source": [
    "Dans ce chapitre vous allez :\n",
    "1. approfondir les conventions usuelles en Python de bonne tenue de code ;\n",
    "2. apprendre à utiliser `pylava` pour améliorer la qualité d'un code ;\n",
    "3. comprendre l'intérêt d'écrire de la documentation ;\n",
    "4. apprendre à écrire des doctests pour tester vos fonctions ;\n",
    "5. apprendre à lancer une série de doctests automatiquement."
   ]
  },
  {
   "cell_type": "markdown",
   "metadata": {},
   "source": [
    "# I Conventions de bonne tenue de code\n",
    "\n",
    "Tout un tas de conventions de code sont disponibles dans un document fondateur pour `Python` : le PEP 008. Il n'est pas question de le connaitre par coeur, mais plutôt d'utiiser un outil pour vérifier que ces conventions sont respectées : **après avoir écris un code, utiliser l'outil `pylava`**.\n",
    "\n",
    "**Attention :** `pylava` est un outil à installer sur votre ordinateur !\n",
    "\n",
    "    pip install pylava\n",
    "\n",
    "Il vous donnera des retours sur \n",
    "* les conventions de codage qui sont à respecter en Python\n",
    "* des variables, ou autre objet non utilisé\n",
    "* la compléxité de votre code\n",
    "\n",
    "Voici un exemple de programme écrit par un étudiant pour résoudre un exercice :"
   ]
  },
  {
   "cell_type": "code",
   "execution_count": null,
   "metadata": {},
   "outputs": [],
   "source": [
    "import randint\n",
    "\n",
    "def nombre_chiffres(n):\n",
    "    \"\"\" Fonctions comptant le nombre chiffre que le paramètre n contient. Pour le trouver, on fait une division entière\"\"\"\n",
    "    cmpt1,cmpt2=0,0 #je sais pas si c'est utile\n",
    "    compteur_nombre_de_chiffres=0 #accumulateur pour compter les chiffres \n",
    "    while n>0: \n",
    "        n=n//10\n",
    "        compteur_nombre_de_chiffres=compteur_nombre_de_chiffres+1\n",
    "    return compteur_nombre_de_chiffres\n",
    "\n",
    "n=34872\n",
    "print(nombre_chiffres(n))"
   ]
  },
  {
   "cell_type": "markdown",
   "metadata": {},
   "source": [
    "Voici le retour de `pylava` sur son programme :\n",
    "\n",
    "```essai.py:1:1: W0611 'randint' imported but unused [pyflakes]\n",
    "essai.py:3:1: E302 expected 2 blank lines, found 1 [pycodestyle]\n",
    "essai.py:4:80: E501 line too long (122 > 79 characters) [pycodestyle]\n",
    "essai.py:5:10: E231 missing whitespace after ',' [pycodestyle]\n",
    "essai.py:5:20: E231 missing whitespace after ',' [pycodestyle]\n",
    "essai.py:5:22: E261 at least two spaces before inline comment [pycodestyle]\n",
    "essai.py:5:23: E262 inline comment should start with '# ' [pycodestyle]\n",
    "essai.py:5:1: W0612 local variable 'cmpt1' is assigned to but never used [pyflakes]\n",
    "essai.py:6:32: E225 missing whitespace around operator [pycodestyle]\n",
    "essai.py:6:34: E261 at least two spaces before inline comment [pycodestyle]\n",
    "essai.py:6:35: E262 inline comment should start with '# ' [pycodestyle]\n",
    "essai.py:7:12: E225 missing whitespace around operator [pycodestyle]\n",
    "essai.py:8:10: E225 missing whitespace around operator [pycodestyle]\n",
    "essai.py:9:36: E225 missing whitespace around operator [pycodestyle]\n",
    "essai.py:12:1: E305 expected 2 blank lines after class or function definition, found 1 [pycodestyle]\n",
    "essai.py:12:2: E225 missing whitespace around operator [pycodestyle]\n",
    "essai.py:13:26: W292 no newline at end of file [pycodestyle]\n",
    "```"
   ]
  },
  {
   "cell_type": "markdown",
   "metadata": {},
   "source": [
    "***Comment lire ces warnings ?***\n",
    "\n",
    "Ils commencent tous par le noms du fichier explorés, suivi d'un `:` et le numéro de la ligne de code correspondante, suivi d'un `:` et de la position du caractère mis en jeu.\n",
    "\n",
    "Par exemple, ici, le troisème warning provient du 80ème caractère de la quatrième ligne du fichier `exercice_AP1.py`.\n",
    "\n",
    "Ils finissent tous par un texte entre crochets (`[pycodestyle]`, `[pyflakes]`, `[mccabe]`, ...) qui indique la nature du warning :\n",
    "* `pycodestyle` --> convention de codage non respectée : c'est très facile à supprimer\n",
    "* `pyflakes` --> donne des informations sur le code lui-même : c'est très facile à supprimer\n",
    "* `mccabe` --> donne une indication sur la complexité des fonctions ou partie de code\n",
    "\n",
    "**NB :** Si vous voyez un warning avec `mccabe`, c'est que vous avez codé une partie de code (une fonction typiquement) avec vos pieds, et encore avec un seul !!! Il doit y avoir une possibilité de découper cette fonction en sous-fonction (resp. cette partie de code en fonctions)"
   ]
  },
  {
   "cell_type": "markdown",
   "metadata": {},
   "source": [
    "## 1) Des espaces autour des opérateurs\n",
    "\n",
    "L'erreur `E225 missing whitespace around operator [pycodestyle]` indique \n",
    "qu'**il doit y avoir des espaces autour des opérateurs** !!\n",
    "\n",
    "**Exemples d'opérateurs :** `=`, `<`, `<=`, `>`, `>=`, `+`, `-`, `*`, `/`, `//`, `%`"
   ]
  },
  {
   "cell_type": "code",
   "execution_count": null,
   "metadata": {},
   "outputs": [],
   "source": [
    "import randint\n",
    "\n",
    "def nombre_chiffres(n):\n",
    "    \"\"\" Fonctions comptant le nombre chiffre que le paramètre n contient. Pour le trouver, on fait une division entière\"\"\"\n",
    "    cmpt1,cmpt2 = 0,0 #je sais pas si ces variables sont utiles\n",
    "    cmpt = 0 #accumulateur pour compter les chiffres \n",
    "    while n > 0: \n",
    "        n = n // 10\n",
    "        cmpt = cmpt + 1\n",
    "    return cmpt\n",
    "\n",
    "n = 34872\n",
    "print(nombre_chiffres(n))"
   ]
  },
  {
   "cell_type": "markdown",
   "metadata": {},
   "source": [
    "## 2) Un espace après une virgule\n",
    "\n",
    "L'erreur `E231 missing whitespace after ',' [pycodestyle]` indique la nécessité de **mettre un espace après une virgule**."
   ]
  },
  {
   "cell_type": "code",
   "execution_count": null,
   "metadata": {},
   "outputs": [],
   "source": [
    "import randint\n",
    "\n",
    "def nombre_chiffres(n):\n",
    "    \"\"\" Fonctions comptant le nombre chiffre que le paramètre n contient. Pour le trouver, on fait une division entière\"\"\"\n",
    "    cmpt1, cmpt2 = 0, 0 #je sais pas si c'est utile\n",
    "    cmpt = 0 #accumulateur pour compter les chiffres \n",
    "    while n > 0: \n",
    "        n = n // 10\n",
    "        cmpt = cmpt + 1\n",
    "    return cmpt\n",
    "\n",
    "n = 34872\n",
    "print(nombre_chiffres(n))"
   ]
  },
  {
   "cell_type": "markdown",
   "metadata": {},
   "source": [
    "### 3) Convention autour des commentaires\n",
    "\n",
    "L'erreur `E261 at least two spaces before inline comment [pycodestyle]` indique qu'**un commentaire en fin de ligne doit être séparé du code par au moins deux espaces**.\n",
    "\n",
    "L'erreur `E262 inline comment should start with '# ' [pycodestyle]` indique qu'**un commentaire doit être séparé du signe `#`par un espace**."
   ]
  },
  {
   "cell_type": "code",
   "execution_count": null,
   "metadata": {},
   "outputs": [],
   "source": [
    "import randint\n",
    "\n",
    "def nombre_chiffres(n):\n",
    "    \"\"\" Fonctions comptant le nombre chiffre que le paramètre n contient. Pour le trouver, on fait une division entière\"\"\"\n",
    "    cmpt1, cmpt2 = 0, 0  # je sais pas si c'est utile\n",
    "    cmpt = 0  # accumulateur pour compter les chiffres \n",
    "    while n > 0: \n",
    "        n = n // 10\n",
    "        cmpt = cmpt + 1\n",
    "    return cmpt\n",
    "\n",
    "n = 34872\n",
    "print(nombre_chiffres(n))"
   ]
  },
  {
   "cell_type": "markdown",
   "metadata": {},
   "source": [
    "## 4) Aération du code\n",
    "\n",
    "\n",
    "essai.py:1:1: W0611 'randint' imported but unused [pyflakes]\n",
    "essai.py:3:1: E302 expected 2 blank lines, found 1 [pycodestyle]\n",
    "essai.py:4:80: E501 line too long (122 > 79 characters) [pycodestyle]\n",
    "essai.py:5:1: W0612 local variable 'cmpt1' is assigned to but never used [pyflakes]\n",
    "essai.py:12:1: E305 expected 2 blank lines after class or function definition, found 1 [pycodestyle]\n",
    "essai.py:13:26: W292 no newline at end of file [pycodestyle]\n",
    "\n",
    "L'erreur `E305 expected 2 blank lines after class or function definition, found 1 [pycodestyle]` indique qu'il faut **laisser deux lignes vides entre vos fonctions, entre chaque partie de votre programme**.\n",
    "\n",
    "L'erreur `W292 no newline at end of file [pycodestyle]` indique qu'il faut ajouter une ligne vide en fin de fichier."
   ]
  },
  {
   "cell_type": "code",
   "execution_count": null,
   "metadata": {},
   "outputs": [],
   "source": [
    "import randint\n",
    "\n",
    "\n",
    "def nombre_chiffres(n):\n",
    "    \"\"\" Fonctions comptant le nombre chiffre que le paramètre n contient. Pour le trouver, on fait une division entière\"\"\"\n",
    "    cmpt1, cmpt2 = 0, 0  # je sais pas si c'est utile\n",
    "    cmpt = 0  # accumulateur pour compter les chiffres \n",
    "    while n > 0: \n",
    "        n = n // 10\n",
    "        cmpt = cmpt + 1\n",
    "    return cmpt\n",
    "\n",
    "\n",
    "n = 34872\n",
    "print(nombre_chiffres(n))\n"
   ]
  },
  {
   "cell_type": "markdown",
   "metadata": {},
   "source": [
    "## 5) Pas plus de 80 caractères par ligne\n",
    "\n",
    "Originellement, les premiers programmes ont été réalisés sur des cartes perforées. Celles-ci avaient 80 caractères de larges. Les écrans plus larges apparu ensuite n'ont pas modifié le fait que, plus il devient large, plus le code devient plus difficile à lire.\n",
    "\n",
    "C'est exactement le propos du warning `E501 line too long (122 > 79 characters) [pycodestyle]`.\n",
    "\n",
    "Pour résoudre ces warnings, vous pouvez coupez votre ligne en plusieurs lignes.\n",
    "\n",
    "Par exemple, la liste des arguments d'une fonction peut être mise sur plusieurs lignes. Différentes expressions peuvent aussi étre découpées sur plusieurs lignes. Enfin, n'oubliez pas que `\"\"\" ... \"\"\"`permet d'écrire une chaine de caractère sur plusieurs lignes !"
   ]
  },
  {
   "cell_type": "code",
   "execution_count": null,
   "metadata": {},
   "outputs": [],
   "source": [
    "import randint\n",
    "\n",
    "\n",
    "def nombre_chiffres(n):\n",
    "    \"\"\" Fonctions comptant le nombre chiffre que le paramètre n contient.\n",
    "    Pour le trouver, on fait une division entière\n",
    "    \"\"\"\n",
    "    cmpt1, cmpt2 = 0, 0  # je sais pas si c'est utile\n",
    "    cmpt = 0  # accumulateur pour compter les chiffres \n",
    "    while n > 0: \n",
    "        n = n // 10\n",
    "        cmpt = cmpt + 1\n",
    "    return cmpt\n",
    "\n",
    "\n",
    "n = 34872\n",
    "print(nombre_chiffres(n))\n"
   ]
  },
  {
   "cell_type": "markdown",
   "metadata": {},
   "source": [
    "## 6) import inutiles, variables non utilisées, ...\n",
    "\n",
    "Il ne reste que deux warning que nous n'avons pas encore résolu :\n",
    "\n",
    "```essai.py:1:1: W0611 'randint' imported but unused [pyflakes]\n",
    "essai.py:5:1: W0612 local variable 'cmpt1' is assigned to but never used [pyflakes]```\n",
    "\n",
    "Ceux-ci indique respectivement un module et une variable inutile. Supprimons donc les !\n",
    "Cela améliorera grandement la qualité, la lisibilité du code."
   ]
  },
  {
   "cell_type": "code",
   "execution_count": null,
   "metadata": {},
   "outputs": [],
   "source": [
    "def nombre_chiffres(n):\n",
    "    \"\"\" Fonctions comptant le nombre chiffre que le paramètre n contient.\n",
    "    Pour le trouver, on fait une division entière\n",
    "    \"\"\"\n",
    "    cmpt = 0  # accumulateur pour compter les chiffres \n",
    "    while n > 0: \n",
    "        n = n // 10\n",
    "        cmpt = cmpt + 1\n",
    "    return cmpt\n",
    "\n",
    "\n",
    "n = 34872\n",
    "print(nombre_chiffres(n))\n"
   ]
  },
  {
   "cell_type": "markdown",
   "metadata": {},
   "source": [
    "Voila, nous avons fini avec `pylava`: plus aucun warning ne sont produit sur ce code.\n",
    "\n",
    "Vous découvrirez certainement d'autres warnings en utilisant cet outil ;-)"
   ]
  },
  {
   "cell_type": "markdown",
   "metadata": {},
   "source": [
    "### Vérifier vos connaissances\n",
    "\n",
    "A ce stade, vous devez être capable :\n",
    "* de comprendre l'intérêt de l'outil `pylava` ;\n",
    "* de savoir lire le rendu de `pylava`sur un code ;\n",
    "* de corriger rapidement les principaux warnings que vous rencontrez."
   ]
  },
  {
   "cell_type": "markdown",
   "metadata": {},
   "source": [
    "**Exercice 1 :**\n",
    "\n",
    "Au cours du TP 3, vous avez écris un programme permettant de réaliser des statistiques sur des lancers de dés (*Exercice 3, Paris*).\n",
    "Reprenez votre code et faites en sorte qu'il n'y ait plus de warning lorsque vous lancez `pylava` dessus.\n",
    "\n",
    "**Exercice 2 :**\n",
    "\n",
    "Au cours du TP 4, vous avez écris un programme permettant de manipuler des fractions (*Exercice 1, Fractions*).\n",
    "Reprenez votre code et faites en sorte qu'il n'y ait plus de warning lorsque vous lancez `pylava` dessus."
   ]
  },
  {
   "cell_type": "markdown",
   "metadata": {},
   "source": [
    "## II Documentation et test de fonctions\n",
    "\n",
    "### 1) Chaînes de documentation (*docstring*)\n",
    "\n",
    "Il est important d'indiquer par un commentaire à quoi sert une fonction que l'on a programmé. Cela permet de :\n",
    "* transmettre simplement à ces collègues comment fonctionne une fonction, quels sont ses paramètres, sa valeur de retour, etc ;\n",
    "* se souvenir simplement ce que l'on a déjà programmé et de comment cela fonctionne."
   ]
  },
  {
   "cell_type": "code",
   "execution_count": null,
   "metadata": {},
   "outputs": [],
   "source": [
    "def triple(nombre):\n",
    "    '''\n",
    "    Fonction calculant le triple d'un nombre.\n",
    "    \n",
    "    :param nombre: int ou float\n",
    "    :return value: int ou float (même type que celui d'entrée)\n",
    "    '''\n",
    "    return nombre * 3"
   ]
  },
  {
   "cell_type": "markdown",
   "metadata": {},
   "source": [
    "On peut accéder à la chaîne de documentation d'une fonction en tapant `help(nom de la fonction)` dans l'interpréteur :"
   ]
  },
  {
   "cell_type": "code",
   "execution_count": null,
   "metadata": {},
   "outputs": [],
   "source": [
    "help(triple)"
   ]
  },
  {
   "cell_type": "markdown",
   "metadata": {},
   "source": [
    "Cela fonctionne aussi pour les fonctions prédéfinies ou issues de modules :"
   ]
  },
  {
   "cell_type": "code",
   "execution_count": null,
   "metadata": {},
   "outputs": [],
   "source": [
    "from random import randint\n",
    "help(randint)"
   ]
  },
  {
   "cell_type": "markdown",
   "metadata": {},
   "source": [
    "### Vérifier vos connaissances\n",
    "\n",
    "A ce stade, vous devez être capable :\n",
    "* de comprendre l'intérêt d'écrire de la documentation ;\n",
    "* d'écrire des docstrings pour décrire vos fonctions."
   ]
  },
  {
   "cell_type": "markdown",
   "metadata": {},
   "source": [
    "**Exercice 3**\n",
    "\n",
    "Ecrire une docstring pour la fonction\n",
    "```python\n",
    "def saisie_nb_positif():\n",
    "    saisie = -1 #variable en fait pas réellement initialisée\n",
    "    while saisie < 0:\n",
    "        saisie = int(input(\"Donnez moi un entier positif : \"))\n",
    "    return saisie\n",
    "```"
   ]
  },
  {
   "cell_type": "markdown",
   "metadata": {},
   "source": [
    "**Exercice 4**\n",
    "\n",
    "Ecrire une docstring pour la fonction\n",
    "```python\n",
    "def pgcd(a, b):\n",
    "    while a % b != 0:\n",
    "        r = a % b\n",
    "        a = b\n",
    "        b = r\n",
    "    return b\n",
    "```"
   ]
  },
  {
   "cell_type": "markdown",
   "metadata": {},
   "source": [
    "### 2) Tests intégrés à la documentation (*doctest*)\n",
    "\n",
    "#### Pourquoi faire des tests ?\n",
    "\n",
    "Comme tout morceau de programme, chaque fonction doit être *testée* immédiatement pour s'assurer qu'elle fonctionne correctement."
   ]
  },
  {
   "cell_type": "code",
   "execution_count": null,
   "metadata": {},
   "outputs": [],
   "source": [
    "triple(3)"
   ]
  },
  {
   "cell_type": "code",
   "execution_count": null,
   "metadata": {},
   "outputs": [],
   "source": [
    "triple(9.0)"
   ]
  },
  {
   "cell_type": "markdown",
   "metadata": {},
   "source": [
    "Plutôt que de perdre ces tests, ou de devoir les réaliser à chaque fois que l'on modifie le programme, il est utile de les intégrer à la documentation de la fonction pour pouvoir s'y référer plus tard :\n",
    "* Cela donne des exemples d'utilisation de la fonction ;\n",
    "* Si l'on change le code de la fonction, cela permet aussi de vérifier que son comportement reste correct.\n",
    "\n",
    "#### La syntaxe pour écrire des doctests"
   ]
  },
  {
   "cell_type": "code",
   "execution_count": null,
   "metadata": {},
   "outputs": [],
   "source": [
    "def triple(nombre):\n",
    "    '''\n",
    "    Fonction calculant le triple d'un nombre.\n",
    "    \n",
    "    :param nombre: int ou float\n",
    "    :return value: int ou float (même type que celui d'entrée)\n",
    "    \n",
    "    >>> triple(3)\n",
    "    9\n",
    "    >>> triple(9.0)\n",
    "    27.0\n",
    "    '''\n",
    "    return 3 * nombre"
   ]
  },
  {
   "cell_type": "code",
   "execution_count": null,
   "metadata": {},
   "outputs": [],
   "source": [
    "def racine(nombre):\n",
    "    '''\n",
    "    Fonction calculant la racine carrée d'un nombre.\n",
    "    \n",
    "    :param nombre: int ou float\n",
    "    :return value: float\n",
    "    \n",
    "    >>> racine(0)\n",
    "    0.0\n",
    "    >>> racine(1)\n",
    "    1.0\n",
    "    >>> racine(4)\n",
    "    2.0\n",
    "    '''\n",
    "    return nombre ** (1/2)"
   ]
  },
  {
   "cell_type": "markdown",
   "metadata": {},
   "source": [
    "#### Comment vérifier que les doctests sont validés ?\n",
    "\n",
    "Il existe des outils qui permettent de lancer automatiquement tous les tests présents dans la documentation, et de vérifier qu'ils produisent exactement les résultats annoncés.\n",
    "\n",
    "Par exemple, à la fin d'un programme, on peut écrire le code suivant pour lancer systématiquement tous les tests présents dans le fichier :\n",
    "\n",
    "```python\n",
    "import doctest\n",
    "doctest.testmod()\n",
    "```"
   ]
  },
  {
   "cell_type": "code",
   "execution_count": null,
   "metadata": {},
   "outputs": [],
   "source": [
    "def triple(nombre):\n",
    "    '''\n",
    "    Fonction calculant le triple d'un nombre.\n",
    "    \n",
    "    :param nombre: int ou float\n",
    "    :return value: int ou float (même type que celui d'entrée)\n",
    "    \n",
    "    >>> triple(3)\n",
    "    9\n",
    "    >>> triple(9.0)\n",
    "    27.0\n",
    "    '''\n",
    "    return 3 * nombre\n",
    "\n",
    "def racine(nombre):\n",
    "    '''\n",
    "    Fonction calculant la racine carrée d'un nombre.\n",
    "    \n",
    "    :param nombre: int ou float\n",
    "    :return value: float\n",
    "    \n",
    "    >>> racine(0)\n",
    "    0.0\n",
    "    >>> racine(1)\n",
    "    1.0\n",
    "    >>> racine(4)\n",
    "    2.0\n",
    "    '''\n",
    "    return nombre ** (1/2)\n",
    "\n",
    "import doctest\n",
    "doctest.testmod()"
   ]
  },
  {
   "cell_type": "markdown",
   "metadata": {},
   "source": [
    "Voici le retour de Python lorsqu'un test échoue :"
   ]
  },
  {
   "cell_type": "code",
   "execution_count": null,
   "metadata": {},
   "outputs": [],
   "source": [
    "def racine(nombre):\n",
    "    '''\n",
    "    Fonction calculant la racine carrée d'un nombre.\n",
    "    \n",
    "    :param nombre: int ou float\n",
    "    :return value: float\n",
    "    \n",
    "    >>> racine(0)\n",
    "    0.0\n",
    "    >>> racine(1)\n",
    "    1.0\n",
    "    >>> racine(2)\n",
    "    1.414\n",
    "    >>> racine(4)\n",
    "    2.0\n",
    "    '''\n",
    "    return nombre ** (1/2)\n",
    "\n",
    "import doctest\n",
    "doctest.testmod()"
   ]
  },
  {
   "cell_type": "markdown",
   "metadata": {},
   "source": [
    "Ici, le test de la valeur de retour de `racine(2)` échoue. La valeur n'est pas `1.414` : il semble qu'elle soit plutôt `1.4142135623730951`."
   ]
  },
  {
   "cell_type": "markdown",
   "metadata": {},
   "source": [
    "#### Des doctests évolués 1 : tester l'égalité de floattant"
   ]
  },
  {
   "cell_type": "markdown",
   "metadata": {},
   "source": [
    "De temps en temps, on a besoin de tester que la valeur de retour d'une fonction renvoyant un floatant est correcte.\n",
    "Mais, tester l'égalité de deux floattants est difficile.\n",
    "\n",
    "Par exemple, on a :"
   ]
  },
  {
   "cell_type": "code",
   "execution_count": null,
   "metadata": {},
   "outputs": [],
   "source": [
    "0.1 + 0.2 == 0.3"
   ]
  },
  {
   "cell_type": "markdown",
   "metadata": {},
   "source": [
    "Ce test, évalué à `False` par Python, devrait bien évidemment être évalué à `True`. Ceci est du à la représentation des nombres en binaires.\n",
    "\n",
    "En raison de cet exemple, modifier le doctest de l'exemple précédent en \n",
    "```Python\n",
    ">>> racine(2)\n",
    "1.4142135623730951\n",
    "```\n",
    "ne serait pas plus satisfaisant que de laisser le doctest précédent.\n",
    "\n",
    "Voici comment faire un tel test :\n",
    "\n",
    "Pour tester l'égalité de deux floattants `x`et `y`, on se donne alors une précision `epsilon` proche de `0`. Si nos deux floattants sont égaux à `epsilon` près, c'est-à-dire lorsque `abs(x - y) <= epsilon` vaut `True`, on considèrera que les floattants `x` et `y` sont égaux."
   ]
  },
  {
   "cell_type": "code",
   "execution_count": null,
   "metadata": {},
   "outputs": [],
   "source": [
    "epsilon = 10**-10\n",
    "x = 0.1 + 0.2\n",
    "y = 0.3\n",
    "abs(x - y) <= epsilon"
   ]
  },
  {
   "cell_type": "markdown",
   "metadata": {},
   "source": [
    "On peut alors transformer ces lignes de codes en doctest :"
   ]
  },
  {
   "cell_type": "code",
   "execution_count": null,
   "metadata": {},
   "outputs": [],
   "source": [
    "def racine(nombre):\n",
    "    '''\n",
    "    Fonction calculant la racine carrée d'un nombre.\n",
    "    \n",
    "    :param nombre: int ou float\n",
    "    :return value: float\n",
    "    \n",
    "    >>> racine(0)\n",
    "    0.0\n",
    "    >>> racine(1)\n",
    "    1.0\n",
    "    >>> epsilon = 10**-10\n",
    "    >>> abs(racine(2) - 1.4142135623730951) < epsilon\n",
    "    True\n",
    "    >>> racine(4)\n",
    "    2.0\n",
    "    '''\n",
    "    return nombre ** (1/2)\n",
    "\n",
    "import doctest\n",
    "doctest.testmod()"
   ]
  },
  {
   "cell_type": "markdown",
   "metadata": {},
   "source": [
    "#### Des doctests évolués 2 : tester une fonction avec de l'aléatoire\n",
    "\n",
    "Rappelons que pour reproduire le comportement d'une fonction simulant de l'aléatoire, il nous faut fixer la graine à l'aide d'une _graine_."
   ]
  },
  {
   "cell_type": "code",
   "execution_count": null,
   "metadata": {},
   "outputs": [],
   "source": [
    "from random import randint\n",
    "from random import seed\n",
    "\n",
    "def lance_de() :\n",
    "    \"\"\"Simule un lancé de dé à 6 faces\n",
    "    \n",
    "    >>> seed(104438493)\n",
    "    >>> lance_de()\n",
    "    6\n",
    "    >>> lance_de()\n",
    "    5\n",
    "    >>> lance_de()\n",
    "    3\n",
    "    >>> lance_de()\n",
    "    1\n",
    "    >>> lance_de()\n",
    "    4\n",
    "    >>> lance_de()\n",
    "    6\n",
    "    \"\"\"\n",
    "    return randint(1,6)\n",
    "\n",
    "def jusqu_a_un_6():\n",
    "    \"\"\"Simule des lancés de dés à 6 faces jusqu'à obtenir un 6\n",
    "    \n",
    "    :return value: le nombre de lancés réaliser pour obtenir un 6\n",
    "\n",
    "    >>> seed(104438493)\n",
    "    >>> jusqu_a_un_6()\n",
    "    1\n",
    "    >>> jusqu_a_un_6()\n",
    "    5\n",
    "    \"\"\"\n",
    "    compteur = 1\n",
    "    while lance_de() != 6:\n",
    "        compteur = compteur + 1\n",
    "    return compteur\n",
    "\n",
    "#print('Obtenu un 6 en', jusqu_a_un_6(), 'jets de dés.')\n",
    "\n",
    "import doctest\n",
    "doctest.testmod()"
   ]
  },
  {
   "cell_type": "markdown",
   "metadata": {},
   "source": [
    "### Lancement des tests en ligne de commande\n",
    "\n",
    "    python3 -m doctest monfichier.py\n",
    "    \n",
    "Sous geany associez à F9 la commande: python3 -m doctest %f "
   ]
  },
  {
   "cell_type": "markdown",
   "metadata": {},
   "source": [
    "### Vérifier vos connaissances\n",
    "\n",
    "A ce stade, vous devez être capable :\n",
    "* de comprendre l'intérêt d'écrire des doctests ;\n",
    "* de savoir écrire un doctest simple ;\n",
    "* de savoir écrire un doctest évolué ;\n",
    "* de savoir lancer une série de doctests automatiquement."
   ]
  },
  {
   "cell_type": "markdown",
   "metadata": {},
   "source": [
    "**Exercice 10 : **\n",
    "\n",
    "Ecrire des doctests pour les fonctions que vous avez écrites aux exercices 3 à 6."
   ]
  },
  {
   "cell_type": "markdown",
   "metadata": {},
   "source": [
    "### Comment écrire un test \n",
    "\n",
    "Les tests ont deux fonctions : \n",
    "- trouver des erreurs de comportement de la fonctionalité (bugs)\n",
    "- assurer que si l'on fait des modifications dans le futur de la fonction ou de sous-fonction qu'elle utilise rien est casé : test de non régression.\n",
    "\n",
    "Pour trouver des erreurs :  \n",
    "Vérifier les conditions aux extrémités (liste vide, dernier élément, valeur max, valeur min, ...)\n",
    "Vérifier la bonne gestion des valeurs d'erreurs si il y en a. \n",
    "Identifier des valeurs simple a calculer à la main et qui permet de vérifier facilement la bonne exécution.\n",
    "Assurer vous soit a la main soit en utilisant un outil de \"coverage\" que vous avez tester tout les cas de figure.\n",
    "Par exemple: dans le cas d'une fonction résolvant une equation du second dégré vous avez tester avec des équations avec zéro une deux ou une infinité de solution !\n",
    "\n",
    "### Quand écrire le test ? le TDD\n",
    "\n",
    "Oui il faut toujour avoir un test !\n",
    "\n",
    "Les professionnel du développement fond la promotion du TDD c'est \"Test Driven Developpement\" c'est à dire que l'on écrit les tests avant le code !\n",
    "\n",
    "Ceci a beaucoup d'avantages !\n",
    "\n",
    "Premièrement cela produit de code beaucoup plus propre car l'on s'intéresse à comment la fonction vas être utilisé avant de savoir comment l'écrire :\n",
    "- on réfléchie d'abord a comment appeller la fonction (le nom, le nombre et le type des paramêtres),\n",
    "- on réflechie comment la fonction fournis le service (type et valeur de retour, effet de bords)\n",
    "- on réflechie a quels cas d'erreurs sont possible et si l'on doit les traiter dans la fonction ou à l'extérieur \n",
    "- on écrit la doc \n",
    "\n",
    "Grace a ces éléments on :\n",
    "- code un test :\n",
    "- le test échoue !\n",
    "- code ce qui permet de passer le test \n",
    "- le test passe !!  Sérotonine, dopamine, yes yes !!\n",
    "On boucle jusqu'a ce que l'on n'ai plus de test a écrire et que la fonctionalité soit calculé par la fonction.\n",
    "\n",
    "\n",
    "### Pour verifier votre compétence \n",
    "\n",
    "Un bon exercice est de produire un ensemble de tests permettant de vérifier vos projet APP1 et APP2.\n",
    "\n",
    "Une autre bonne idée est de vous lancer en TDD sur des fonctions dont vous avez besoin dans votre projet. "
   ]
  },
  {
   "cell_type": "code",
   "execution_count": null,
   "metadata": {},
   "outputs": [],
   "source": []
  },
  {
   "cell_type": "markdown",
   "metadata": {},
   "source": [
    "**Exercice 11 :**\n",
    "\n",
    "Ecrire une fonction `nb_occurence(lst, x)`, avec docstring et doctests, prenant en argument une liste `lst` et une valeur appelé `x`et renvoyant le nombre de fois que l'élément `x` apparait dans la liste `lst`."
   ]
  },
  {
   "cell_type": "code",
   "execution_count": 3,
   "metadata": {},
   "outputs": [],
   "source": [
    "def nb_occurence_V1(lst, x):\n",
    "    \"\"\" Détermine le nombre d'occurence d'une valeur x dans une liste lst\n",
    "    \n",
    "    :param lst: Liste\n",
    "    :param x: whatever\n",
    "    \n",
    "    >>> nb_occurence_V1([1, 2, 1, 2, 1, 2], 1) == 3\n",
    "    True\n",
    "    >>> nb_occurence_V1([1, 2, 1, 2, 1, 2], 3) == 0\n",
    "    True\n",
    "    >>> nb_occurence_V1([], 1) == 0\n",
    "    True\n",
    "    \"\"\"\n",
    "    occ = 0\n",
    "    for i in range(len(lst)):\n",
    "        if lst[i] == x:\n",
    "            occ += 1\n",
    "    return occ"
   ]
  },
  {
   "cell_type": "code",
   "execution_count": 4,
   "metadata": {},
   "outputs": [],
   "source": [
    "def nb_occurence_V2(lst, x):\n",
    "    \"\"\" Détermine le nombre d'occurence d'une valeur x dans une liste lst\n",
    "    \n",
    "    :param lst: Liste\n",
    "    :param x: whatever\n",
    "    \n",
    "    >>> nb_occurence_V2([1, 2, 1, 2, 1, 2], 1) == 3\n",
    "    True\n",
    "    >>> nb_occurence_V2([1, 2, 1, 2, 1, 2], 3) == 0\n",
    "    True\n",
    "    >>> nb_occurence_V2([], 1) == 0\n",
    "    True\n",
    "    \"\"\"\n",
    "    occ = 0\n",
    "    for elem in lst:\n",
    "        if elem == x:\n",
    "            occ += 1\n",
    "    return occ"
   ]
  },
  {
   "cell_type": "code",
   "execution_count": 5,
   "metadata": {},
   "outputs": [
    {
     "data": {
      "text/plain": [
       "TestResults(failed=0, attempted=6)"
      ]
     },
     "execution_count": 5,
     "metadata": {},
     "output_type": "execute_result"
    }
   ],
   "source": [
    "import doctest\n",
    "doctest.testmod()"
   ]
  },
  {
   "cell_type": "markdown",
   "metadata": {},
   "source": [
    "**Exercice 12 :**\n",
    "\n",
    "Ecrire une fonction `histogramme(lst)`, avec docstring et doctests, prenant en argument une liste d'entiers **positifs** `lst` et renvoie la liste qui à l'indice `i` contient le nombre de fois que l'entier `i` est présent dans `lst`.\n",
    "\n",
    "**N.B. 1 :** On pourra utiliser la fonction prédéfinie de Python `max`. Par contre, on n'utilisera pas la fonction `nb_occurence` que l'on viens d'écrire.\n",
    "\n",
    "**N.B. 2 :** La fonction produira une exception sur la liste vide !"
   ]
  },
  {
   "cell_type": "code",
   "execution_count": 33,
   "metadata": {},
   "outputs": [],
   "source": [
    "def histogramme(lst):\n",
    "    \"\"\" Construit l'histogramme des valeurs entières présente dans la liste lst\n",
    "    \n",
    "    :param lst: Liste\n",
    "    :return value: Liste\n",
    "    \n",
    "    >>> histogramme([])\n",
    "    Traceback (most recent call last):\n",
    "    ...\n",
    "    ValueError: max() arg is an empty sequence\n",
    "    >>> histogramme([1, 2, 1, 4, 1, 3, 1, 2])\n",
    "    [0, 4, 2, 1, 1]\n",
    "    >>> histogramme([1, 2, 3, 4, 5, 6])\n",
    "    [0, 1, 1, 1, 1, 1, 1]\n",
    "    >>> histogramme([1000]) == [0] * 1000 + [1]\n",
    "    True\n",
    "    >>> histogramme([1000])  # doctest: +ELLIPSIS\n",
    "    [0, ..., 0, 1]\n",
    "    \"\"\"\n",
    "    H = [0] * (max(lst) + 1)  # + 1, car on commence à compter à partir de 0\n",
    "    for n in lst:\n",
    "        H[n] += 1\n",
    "    return H"
   ]
  },
  {
   "cell_type": "code",
   "execution_count": 34,
   "metadata": {},
   "outputs": [
    {
     "data": {
      "text/plain": [
       "TestResults(failed=0, attempted=13)"
      ]
     },
     "execution_count": 34,
     "metadata": {},
     "output_type": "execute_result"
    }
   ],
   "source": [
    "import doctest\n",
    "doctest.testmod()"
   ]
  },
  {
   "cell_type": "markdown",
   "metadata": {},
   "source": [
    "**Exercice 13 :**\n",
    "\n",
    "Ecrire une fonction `affiche_liste(lst)`, avec docstring et doctests, qui affiche tous les éléments d'une liste, un par ligne."
   ]
  },
  {
   "cell_type": "code",
   "execution_count": 43,
   "metadata": {},
   "outputs": [],
   "source": [
    "def affiche_liste(lst):\n",
    "    \"\"\" Fonction qui affiche tous les éléments d'une liste, un par ligne.\n",
    "    \n",
    "    :param lst: Liste\n",
    "    :return value: Liste\n",
    "    \n",
    "    >>> affiche_liste([])\n",
    "    >>> affiche_liste([0, '...', 0])\n",
    "    0\n",
    "    ...\n",
    "    0\n",
    "    >>> affiche_liste([0] * 100)  # doctest: +ELLIPSIS \n",
    "    0\n",
    "    ...\n",
    "    0\n",
    "    \"\"\"\n",
    "    for elt in lst:\n",
    "        print(elt)"
   ]
  },
  {
   "cell_type": "code",
   "execution_count": 44,
   "metadata": {
    "scrolled": false
   },
   "outputs": [
    {
     "data": {
      "text/plain": [
       "TestResults(failed=0, attempted=14)"
      ]
     },
     "execution_count": 44,
     "metadata": {},
     "output_type": "execute_result"
    }
   ],
   "source": [
    "import doctest\n",
    "doctest.testmod()"
   ]
  },
  {
   "cell_type": "markdown",
   "metadata": {},
   "source": [
    "**Exercice 14**\n",
    "\n",
    "Ecrire une fonction `carre(longueur)` qui trace à l'aide du module turtle un carré dont la taille des côtés est donnée en pixel par le paramètre `longueur`. Celle-ci renverra le périmètre du carré."
   ]
  },
  {
   "cell_type": "code",
   "execution_count": 51,
   "metadata": {},
   "outputs": [],
   "source": [
    "from turtle import *\n",
    "\n",
    "def carre(longueur):\n",
    "    \"\"\" Dessine un carre de longueur donnée en paramètre\n",
    "    \n",
    "    :param longueur: int\n",
    "    :return value: int (ou float)\n",
    "    \n",
    "    >>> carre(100)\n",
    "    400\n",
    "    \"\"\"\n",
    "    perimetre = 0\n",
    "    for i in range(4):\n",
    "        forward(longueur)\n",
    "        perimetre += longueur\n",
    "        left(90)\n",
    "    return perimetre\n",
    "    # Ne pas faire : return 4 * longueur !!!\n",
    "\n",
    "exitonclick()"
   ]
  },
  {
   "cell_type": "code",
   "execution_count": 53,
   "metadata": {},
   "outputs": [
    {
     "name": "stdout",
     "output_type": "stream",
     "text": [
      "**********************************************************************\n",
      "File \"__main__\", line 9, in __main__.carre\n",
      "Failed example:\n",
      "    carre(100)\n",
      "Expected:\n",
      "    400\n",
      "Got:\n",
      "    500\n",
      "**********************************************************************\n",
      "1 items had failures:\n",
      "   1 of   1 in __main__.carre\n",
      "***Test Failed*** 1 failures.\n"
     ]
    },
    {
     "data": {
      "text/plain": [
       "TestResults(failed=1, attempted=15)"
      ]
     },
     "execution_count": 53,
     "metadata": {},
     "output_type": "execute_result"
    }
   ],
   "source": [
    "import doctest\n",
    "doctest.testmod()"
   ]
  },
  {
   "cell_type": "code",
   "execution_count": 47,
   "metadata": {},
   "outputs": [
    {
     "data": {
      "text/plain": [
       "2"
      ]
     },
     "execution_count": 47,
     "metadata": {},
     "output_type": "execute_result"
    }
   ],
   "source": []
  },
  {
   "cell_type": "code",
   "execution_count": null,
   "metadata": {},
   "outputs": [],
   "source": []
  }
 ],
 "metadata": {
  "celltoolbar": "Aucun(e)",
  "kernelspec": {
   "display_name": "Python 3",
   "language": "python",
   "name": "python3"
  },
  "language_info": {
   "codemirror_mode": {
    "name": "ipython",
    "version": 3
   },
   "file_extension": ".py",
   "mimetype": "text/x-python",
   "name": "python",
   "nbconvert_exporter": "python",
   "pygments_lexer": "ipython3",
   "version": "3.7.4"
  }
 },
 "nbformat": 4,
 "nbformat_minor": 2
}
