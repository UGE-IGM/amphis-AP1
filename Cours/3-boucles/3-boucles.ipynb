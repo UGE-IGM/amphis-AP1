{
 "cells": [
  {
   "cell_type": "markdown",
   "metadata": {},
   "source": [
    "<div>\n",
    "<div style='float:left; margin-right:40pt; width:6cm'><img src='img/UPEM-IGM-V1_300dpi.png'></div>\n",
    "<div style='float:right; font-size:large; text-align:right'><strong>Algorithmique et programmation 1</strong><br>\n",
    "L1 Mathématiques - L1 Informatique<br>\n",
    "Semestre 1\n",
    "</div>\n",
    "</div>"
   ]
  },
  {
   "cell_type": "markdown",
   "metadata": {},
   "source": [
    "# Chapitre 3 : Instructions Répétitives"
   ]
  },
  {
   "cell_type": "markdown",
   "metadata": {},
   "source": [
    "Dans ce chapitre vous allez apprendre à :\n",
    "* répéter une tache un nombre fini de fois ou tant qu'une condition reste vraie ;\n",
    "* expliquer les différents types de boucle en python ;\n",
    "* reconnaître la nécessité de créer une ou plusieurs itérations dans un programme ;\n",
    "* choisir le type de boucle le plus adapté à la situation ;\n",
    "* décrire l'exécution d'un programme simple contenant une ou plusieurs boucle(s) ;\n",
    "* être capable d'écrire un code comprenant une ou des itérations."
   ]
  },
  {
   "cell_type": "markdown",
   "metadata": {},
   "source": [
    "## I Introduction"
   ]
  },
  {
   "cell_type": "markdown",
   "metadata": {},
   "source": [
    "En programmation, on est souvent amené à répéter plusieurs fois une instruction. \n",
    "Incontournables à tout langage de programmation, les **boucles** vont nous aider à réaliser cette tâche de manière\n",
    "compacte et efficace.\n",
    "\n",
    "Imaginez par exemple que vous souhaitiez afficher :\n",
    "```\n",
    "   1 kilomètre(s) à pied ça use, ça use ...\n",
    "   2 kilomètre(s) à pied ça use, ça use ...\n",
    "   3 kilomètre(s) à pied ça use, ça use ...\n",
    "   etc.\n",
    "```   \n",
    "Dans l'état actuel de vos connaissances, il faudrait taper quelque chose du style :"
   ]
  },
  {
   "cell_type": "code",
   "execution_count": 1,
   "metadata": {},
   "outputs": [
    {
     "name": "stdout",
     "output_type": "stream",
     "text": [
      "1 kilomètre(s) à pied ça use, ça use ...\n",
      "2 kilomètre(s) à pied ça use, ça use ...\n",
      "3 kilomètre(s) à pied ça use, ça use ...\n",
      "4 kilomètre(s) à pied ça use, ça use ...\n",
      "5 kilomètre(s) à pied ça use, ça use ...\n",
      "6 kilomètre(s) à pied ça use, ça use ...\n"
     ]
    }
   ],
   "source": [
    "print(1, 'kilomètre(s) à pied ça use, ça use ...')\n",
    "print(2, 'kilomètre(s) à pied ça use, ça use ...')\n",
    "print(3, 'kilomètre(s) à pied ça use, ça use ...')\n",
    "print(4, 'kilomètre(s) à pied ça use, ça use ...')\n",
    "print(5, 'kilomètre(s) à pied ça use, ça use ...')\n",
    "print(6, 'kilomètre(s) à pied ça use, ça use ...')"
   ]
  },
  {
   "cell_type": "markdown",
   "metadata": {},
   "source": [
    "Mais si on voulait compter jusqu'à 100 ? 1000 ? et plus encore... ?\n",
    "\n",
    "Nous allons voir comment réaliser simplement cette tache grâce aux boucles. \n",
    "Python propose pour cela deux instructions particulières pour construire des boucles :\n",
    "- l'instruction **for ... in ...**, très puissante, qui sera abordée dans ce chapitre et beaucoup plus en détail au chapitre concernant les itérables ;\n",
    "- l'instruction **while** abordée en deuxième partie du chapitre."
   ]
  },
  {
   "cell_type": "markdown",
   "metadata": {},
   "source": [
    "## II Répétition d'une tâche un certain nombre de fois : `for ... in range(...):`\n",
    "\n",
    "La syntaxe `for ... in range(...)` est faite pour répéter une tâche un nombre de fois, fini et connu à l'avance. \n",
    "\n",
    "**Syntaxe :**\n",
    "\n",
    "```python\n",
    "# début\n",
    "N = ...\n",
    "for <var> in range(N):\n",
    "    # bloc d'instructions\n",
    "    # (corps de la boucle)\n",
    "# suite\n",
    "```\n",
    "\n",
    "où :\n",
    "- `N` est une variable de type `int`, qui doit être initialisée avant le début de la boucle ;\n",
    "- `var` est le nom d'une variable que vous choisissez : elle est initialisée toute seule à `0`;\n",
    "- `range(N)` est une fonction primitive du langage Python permettant de simuler l'intervalle du type `[0;N - 1]` : cela signifie que `var` prendra successivement toutes les valeurs entières de `0` à `N - 1`;\n",
    "\n",
    "**Vocabulaire :**\n",
    "\n",
    "* Le bloc d'instructions est appelé **corps de la boucle**.\n",
    "* Chaque exécution du corps de la boucle est appelée **itération**.\n",
    "* La variable nommée `var` est appelée **variable d'itération**.\n",
    "\n",
    "**Remarque :**\n",
    "À chaque nouvelle répétition du corps de la boucle, la variable `var` est incrémentée (c'est-à-dire que sa valeur est augmentée de `1`). Cela permet de répeter une tâche légèrement modifiée une fois sur l'autre (voir exemple 2). \n",
    "\n",
    "<img src='img/warning.png' width='50px' style='display:inline'> Il n'est pas possible de modifier `var` dans le corps de la boucle."
   ]
  },
  {
   "cell_type": "markdown",
   "metadata": {},
   "source": [
    "Dans la suite, nous allons voir deux exemples d'utilisation de la syntaxe `for ... in range(...)` correspondant à deux cas d'usage :\n",
    "* le corps de la boucle n'utilise pas la variable d'itération.\n",
    "* le corps de la boucle utilise la variable d'itération."
   ]
  },
  {
   "cell_type": "markdown",
   "metadata": {},
   "source": [
    "### Exemple 1 : Boucle dont le corps est indépendant de la variable d'itérations\n",
    "\n",
    "Si le corps de la boucle ne dépend pas de la variable d'itération, il s'agit d'une répétition stricte du corps de la boucle !\n",
    "\n",
    "Par exemple, le code suivant imprimera 5 fois Bonjour."
   ]
  },
  {
   "cell_type": "code",
   "execution_count": 6,
   "metadata": {
    "scrolled": true
   },
   "outputs": [
    {
     "name": "stdout",
     "output_type": "stream",
     "text": [
      "Bonjour les AP1 !\n",
      "Bonjour les AP1 !\n",
      "Bonjour les AP1 !\n",
      "Bonjour les AP1 !\n",
      "Bonjour les AP1 !\n",
      "4\n"
     ]
    }
   ],
   "source": [
    "N = 5\n",
    "for nb in range(N):\n",
    "    print(\"Bonjour les AP1 !\")"
   ]
  },
  {
   "cell_type": "markdown",
   "metadata": {},
   "source": [
    "#### Exercice 1 :\n",
    "\n",
    "Dans le programme suivant, quelle est la variable d'itération ? Qu'elle est sa valeur à la fin de la boucle ?\n",
    "``` python\n",
    "fin = 10\n",
    "for cmpt in range(fin):\n",
    "    print(\"Vive Python 3 !\")\n",
    "```"
   ]
  },
  {
   "cell_type": "markdown",
   "metadata": {},
   "source": [
    "### Exemple 2 : Boucle dont le corps dépend de la variable d'itérations\n",
    "\n",
    "Si le corps de la boucle dépend de la variable d'itération, la répétition porte sur le nombre de fois où le corps est exécuté. Il faut donc bien réfléchir pour identifier ce qui est répété et comment.\n",
    "\n",
    "Voici tout d'abord comment la variable d'itération évolue au cours de la boucle :"
   ]
  },
  {
   "cell_type": "code",
   "execution_count": 7,
   "metadata": {},
   "outputs": [
    {
     "name": "stdout",
     "output_type": "stream",
     "text": [
      "nb =  0\n",
      "nb =  1\n",
      "nb =  2\n",
      "nb =  3\n",
      "nb =  4\n",
      "nb =  5\n",
      "nb =  6\n",
      "nb =  7\n",
      "nb =  8\n",
      "nb =  9\n",
      "A la fin, nb =  9\n"
     ]
    }
   ],
   "source": [
    "fin = 10\n",
    "for nb in range(fin):\n",
    "    print(\"nb = \", nb)\n",
    "print(\"A la fin, nb = \", nb)"
   ]
  },
  {
   "cell_type": "markdown",
   "metadata": {},
   "source": [
    "On peut alors facilement écrire un programme qui affiche :\n",
    "```\n",
    "   1 kilomètre(s) à pied ça use, ça use ...\n",
    "   2 kilomètre(s) à pied ça use, ça use ...\n",
    "   3 kilomètre(s) à pied ça use, ça use ...\n",
    "   etc.\n",
    "```   \n",
    "\n",
    "Pour cela, on a besoin de savoir identifier où se trouve la répétition : il s'agit ici de l'affichage d'une ligne `... kilomètre(s) à pied ça use, ça use ...`.\n",
    "\n",
    "Plus précisement, la `k`-ième ligne commencera toujours par `k kilomètre(s) ...`.\n",
    "\n",
    "Nous pouvons donc écrire le programme suivant :"
   ]
  },
  {
   "cell_type": "code",
   "execution_count": 8,
   "metadata": {},
   "outputs": [
    {
     "name": "stdout",
     "output_type": "stream",
     "text": [
      "1 kilomètre(s) à pied ça use, ça use ...\n",
      "2 kilomètre(s) à pied ça use, ça use ...\n",
      "3 kilomètre(s) à pied ça use, ça use ...\n",
      "4 kilomètre(s) à pied ça use, ça use ...\n",
      "5 kilomètre(s) à pied ça use, ça use ...\n",
      "6 kilomètre(s) à pied ça use, ça use ...\n"
     ]
    }
   ],
   "source": [
    "N = 6\n",
    "for nb in range(N):\n",
    "    print(nb + 1, 'kilomètre(s) à pied ça use, ça use ...')"
   ]
  },
  {
   "cell_type": "code",
   "execution_count": 12,
   "metadata": {},
   "outputs": [
    {
     "name": "stdout",
     "output_type": "stream",
     "text": [
      "1 kilomètre(s) à pied ça use, ça use ...\n",
      "2 kilomètre(s) à pied ça use, ça use ...\n",
      "3 kilomètre(s) à pied ça use, ça use ...\n",
      "4 kilomètre(s) à pied ça use, ça use ...\n",
      "5 kilomètre(s) à pied ça use, ça use ...\n",
      "6 kilomètre(s) à pied ça use, ça use ...\n"
     ]
    }
   ],
   "source": [
    "N = 6\n",
    "for nb in range(N):\n",
    "    print(f'{nb + 1} kilomètre(s) à pied ça use, ça use ...')"
   ]
  },
  {
   "cell_type": "markdown",
   "metadata": {},
   "source": [
    "On peut même améliorer le programme en gérant le pluriel avec une conditionnelle dans la boucle :"
   ]
  },
  {
   "cell_type": "code",
   "execution_count": 14,
   "metadata": {},
   "outputs": [
    {
     "name": "stdout",
     "output_type": "stream",
     "text": [
      "1 kilomètre à pied ça use, ça use ...\n",
      "2 kilomètres à pied ça use, ça use ...\n",
      "3 kilomètres à pied ça use, ça use ...\n",
      "4 kilomètres à pied ça use, ça use ...\n",
      "5 kilomètres à pied ça use, ça use ...\n",
      "6 kilomètres à pied ça use, ça use ...\n",
      "7 kilomètres à pied ça use, ça use ...\n",
      "8 kilomètres à pied ça use, ça use ...\n",
      "9 kilomètres à pied ça use, ça use ...\n",
      "10 kilomètres à pied ça use, ça use ...\n",
      "11 kilomètres à pied ça use, ça use ...\n",
      "12 kilomètres à pied ça use, ça use ...\n",
      "13 kilomètres à pied ça use, ça use ...\n",
      "14 kilomètres à pied ça use, ça use ...\n",
      "15 kilomètres à pied ça use, ça use ...\n",
      "16 kilomètres à pied ça use, ça use ...\n",
      "17 kilomètres à pied ça use, ça use ...\n",
      "18 kilomètres à pied ça use, ça use ...\n",
      "19 kilomètres à pied ça use, ça use ...\n",
      "20 kilomètres à pied ça use, ça use ...\n",
      "21 kilomètres à pied ça use, ça use ...\n",
      "22 kilomètres à pied ça use, ça use ...\n",
      "23 kilomètres à pied ça use, ça use ...\n",
      "24 kilomètres à pied ça use, ça use ...\n",
      "25 kilomètres à pied ça use, ça use ...\n",
      "26 kilomètres à pied ça use, ça use ...\n",
      "27 kilomètres à pied ça use, ça use ...\n",
      "28 kilomètres à pied ça use, ça use ...\n",
      "29 kilomètres à pied ça use, ça use ...\n",
      "30 kilomètres à pied ça use, ça use ...\n",
      "31 kilomètres à pied ça use, ça use ...\n",
      "32 kilomètres à pied ça use, ça use ...\n",
      "33 kilomètres à pied ça use, ça use ...\n",
      "34 kilomètres à pied ça use, ça use ...\n",
      "35 kilomètres à pied ça use, ça use ...\n",
      "36 kilomètres à pied ça use, ça use ...\n",
      "37 kilomètres à pied ça use, ça use ...\n",
      "38 kilomètres à pied ça use, ça use ...\n",
      "39 kilomètres à pied ça use, ça use ...\n",
      "40 kilomètres à pied ça use, ça use ...\n",
      "41 kilomètres à pied ça use, ça use ...\n",
      "42 kilomètres à pied ça use, ça use ...\n",
      "43 kilomètres à pied ça use, ça use ...\n",
      "44 kilomètres à pied ça use, ça use ...\n",
      "45 kilomètres à pied ça use, ça use ...\n",
      "46 kilomètres à pied ça use, ça use ...\n",
      "47 kilomètres à pied ça use, ça use ...\n",
      "48 kilomètres à pied ça use, ça use ...\n",
      "49 kilomètres à pied ça use, ça use ...\n",
      "50 kilomètres à pied ça use, ça use ...\n",
      "51 kilomètres à pied ça use, ça use ...\n",
      "52 kilomètres à pied ça use, ça use ...\n",
      "53 kilomètres à pied ça use, ça use ...\n",
      "54 kilomètres à pied ça use, ça use ...\n",
      "55 kilomètres à pied ça use, ça use ...\n",
      "56 kilomètres à pied ça use, ça use ...\n",
      "57 kilomètres à pied ça use, ça use ...\n",
      "58 kilomètres à pied ça use, ça use ...\n",
      "59 kilomètres à pied ça use, ça use ...\n",
      "60 kilomètres à pied ça use, ça use ...\n",
      "61 kilomètres à pied ça use, ça use ...\n",
      "62 kilomètres à pied ça use, ça use ...\n",
      "63 kilomètres à pied ça use, ça use ...\n",
      "64 kilomètres à pied ça use, ça use ...\n",
      "65 kilomètres à pied ça use, ça use ...\n",
      "66 kilomètres à pied ça use, ça use ...\n",
      "67 kilomètres à pied ça use, ça use ...\n",
      "68 kilomètres à pied ça use, ça use ...\n",
      "69 kilomètres à pied ça use, ça use ...\n",
      "70 kilomètres à pied ça use, ça use ...\n",
      "71 kilomètres à pied ça use, ça use ...\n",
      "72 kilomètres à pied ça use, ça use ...\n",
      "73 kilomètres à pied ça use, ça use ...\n",
      "74 kilomètres à pied ça use, ça use ...\n",
      "75 kilomètres à pied ça use, ça use ...\n",
      "76 kilomètres à pied ça use, ça use ...\n",
      "77 kilomètres à pied ça use, ça use ...\n",
      "78 kilomètres à pied ça use, ça use ...\n",
      "79 kilomètres à pied ça use, ça use ...\n",
      "80 kilomètres à pied ça use, ça use ...\n",
      "81 kilomètres à pied ça use, ça use ...\n",
      "82 kilomètres à pied ça use, ça use ...\n",
      "83 kilomètres à pied ça use, ça use ...\n",
      "84 kilomètres à pied ça use, ça use ...\n",
      "85 kilomètres à pied ça use, ça use ...\n",
      "86 kilomètres à pied ça use, ça use ...\n",
      "87 kilomètres à pied ça use, ça use ...\n",
      "88 kilomètres à pied ça use, ça use ...\n",
      "89 kilomètres à pied ça use, ça use ...\n",
      "90 kilomètres à pied ça use, ça use ...\n",
      "91 kilomètres à pied ça use, ça use ...\n",
      "92 kilomètres à pied ça use, ça use ...\n",
      "93 kilomètres à pied ça use, ça use ...\n",
      "94 kilomètres à pied ça use, ça use ...\n",
      "95 kilomètres à pied ça use, ça use ...\n",
      "96 kilomètres à pied ça use, ça use ...\n",
      "97 kilomètres à pied ça use, ça use ...\n",
      "98 kilomètres à pied ça use, ça use ...\n",
      "99 kilomètres à pied ça use, ça use ...\n",
      "100 kilomètres à pied ça use, ça use ...\n",
      "101 kilomètres à pied ça use, ça use ...\n",
      "102 kilomètres à pied ça use, ça use ...\n",
      "103 kilomètres à pied ça use, ça use ...\n",
      "104 kilomètres à pied ça use, ça use ...\n",
      "105 kilomètres à pied ça use, ça use ...\n",
      "106 kilomètres à pied ça use, ça use ...\n",
      "107 kilomètres à pied ça use, ça use ...\n",
      "108 kilomètres à pied ça use, ça use ...\n",
      "109 kilomètres à pied ça use, ça use ...\n",
      "110 kilomètres à pied ça use, ça use ...\n",
      "111 kilomètres à pied ça use, ça use ...\n",
      "112 kilomètres à pied ça use, ça use ...\n",
      "113 kilomètres à pied ça use, ça use ...\n",
      "114 kilomètres à pied ça use, ça use ...\n",
      "115 kilomètres à pied ça use, ça use ...\n",
      "116 kilomètres à pied ça use, ça use ...\n",
      "117 kilomètres à pied ça use, ça use ...\n",
      "118 kilomètres à pied ça use, ça use ...\n",
      "119 kilomètres à pied ça use, ça use ...\n",
      "120 kilomètres à pied ça use, ça use ...\n",
      "121 kilomètres à pied ça use, ça use ...\n",
      "122 kilomètres à pied ça use, ça use ...\n",
      "123 kilomètres à pied ça use, ça use ...\n",
      "124 kilomètres à pied ça use, ça use ...\n",
      "125 kilomètres à pied ça use, ça use ...\n",
      "126 kilomètres à pied ça use, ça use ...\n",
      "127 kilomètres à pied ça use, ça use ...\n",
      "128 kilomètres à pied ça use, ça use ...\n",
      "129 kilomètres à pied ça use, ça use ...\n",
      "130 kilomètres à pied ça use, ça use ...\n",
      "131 kilomètres à pied ça use, ça use ...\n",
      "132 kilomètres à pied ça use, ça use ...\n",
      "133 kilomètres à pied ça use, ça use ...\n",
      "134 kilomètres à pied ça use, ça use ...\n",
      "135 kilomètres à pied ça use, ça use ...\n",
      "136 kilomètres à pied ça use, ça use ...\n",
      "137 kilomètres à pied ça use, ça use ...\n",
      "138 kilomètres à pied ça use, ça use ...\n",
      "139 kilomètres à pied ça use, ça use ...\n",
      "140 kilomètres à pied ça use, ça use ...\n",
      "141 kilomètres à pied ça use, ça use ...\n",
      "142 kilomètres à pied ça use, ça use ...\n",
      "143 kilomètres à pied ça use, ça use ...\n",
      "144 kilomètres à pied ça use, ça use ...\n",
      "145 kilomètres à pied ça use, ça use ...\n",
      "146 kilomètres à pied ça use, ça use ...\n",
      "147 kilomètres à pied ça use, ça use ...\n",
      "148 kilomètres à pied ça use, ça use ...\n",
      "149 kilomètres à pied ça use, ça use ...\n",
      "150 kilomètres à pied ça use, ça use ...\n",
      "151 kilomètres à pied ça use, ça use ...\n",
      "152 kilomètres à pied ça use, ça use ...\n",
      "153 kilomètres à pied ça use, ça use ...\n",
      "154 kilomètres à pied ça use, ça use ...\n",
      "155 kilomètres à pied ça use, ça use ...\n",
      "156 kilomètres à pied ça use, ça use ...\n",
      "157 kilomètres à pied ça use, ça use ...\n",
      "158 kilomètres à pied ça use, ça use ...\n",
      "159 kilomètres à pied ça use, ça use ...\n",
      "160 kilomètres à pied ça use, ça use ...\n",
      "161 kilomètres à pied ça use, ça use ...\n",
      "162 kilomètres à pied ça use, ça use ...\n",
      "163 kilomètres à pied ça use, ça use ...\n",
      "164 kilomètres à pied ça use, ça use ...\n",
      "165 kilomètres à pied ça use, ça use ...\n",
      "166 kilomètres à pied ça use, ça use ...\n",
      "167 kilomètres à pied ça use, ça use ...\n",
      "168 kilomètres à pied ça use, ça use ...\n",
      "169 kilomètres à pied ça use, ça use ...\n",
      "170 kilomètres à pied ça use, ça use ...\n",
      "171 kilomètres à pied ça use, ça use ...\n",
      "172 kilomètres à pied ça use, ça use ...\n",
      "173 kilomètres à pied ça use, ça use ...\n",
      "174 kilomètres à pied ça use, ça use ...\n",
      "175 kilomètres à pied ça use, ça use ...\n",
      "176 kilomètres à pied ça use, ça use ...\n",
      "177 kilomètres à pied ça use, ça use ...\n",
      "178 kilomètres à pied ça use, ça use ...\n",
      "179 kilomètres à pied ça use, ça use ...\n",
      "180 kilomètres à pied ça use, ça use ...\n",
      "181 kilomètres à pied ça use, ça use ...\n",
      "182 kilomètres à pied ça use, ça use ...\n",
      "183 kilomètres à pied ça use, ça use ...\n",
      "184 kilomètres à pied ça use, ça use ...\n",
      "185 kilomètres à pied ça use, ça use ...\n",
      "186 kilomètres à pied ça use, ça use ...\n",
      "187 kilomètres à pied ça use, ça use ...\n",
      "188 kilomètres à pied ça use, ça use ...\n",
      "189 kilomètres à pied ça use, ça use ...\n",
      "190 kilomètres à pied ça use, ça use ...\n",
      "191 kilomètres à pied ça use, ça use ...\n",
      "192 kilomètres à pied ça use, ça use ...\n",
      "193 kilomètres à pied ça use, ça use ...\n",
      "194 kilomètres à pied ça use, ça use ...\n",
      "195 kilomètres à pied ça use, ça use ...\n",
      "196 kilomètres à pied ça use, ça use ...\n",
      "197 kilomètres à pied ça use, ça use ...\n",
      "198 kilomètres à pied ça use, ça use ...\n",
      "199 kilomètres à pied ça use, ça use ...\n",
      "200 kilomètres à pied ça use, ça use ...\n",
      "201 kilomètres à pied ça use, ça use ...\n",
      "202 kilomètres à pied ça use, ça use ...\n",
      "203 kilomètres à pied ça use, ça use ...\n",
      "204 kilomètres à pied ça use, ça use ...\n",
      "205 kilomètres à pied ça use, ça use ...\n",
      "206 kilomètres à pied ça use, ça use ...\n",
      "207 kilomètres à pied ça use, ça use ...\n",
      "208 kilomètres à pied ça use, ça use ...\n",
      "209 kilomètres à pied ça use, ça use ...\n",
      "210 kilomètres à pied ça use, ça use ...\n",
      "211 kilomètres à pied ça use, ça use ...\n",
      "212 kilomètres à pied ça use, ça use ...\n",
      "213 kilomètres à pied ça use, ça use ...\n",
      "214 kilomètres à pied ça use, ça use ...\n",
      "215 kilomètres à pied ça use, ça use ...\n",
      "216 kilomètres à pied ça use, ça use ...\n",
      "217 kilomètres à pied ça use, ça use ...\n",
      "218 kilomètres à pied ça use, ça use ...\n",
      "219 kilomètres à pied ça use, ça use ...\n",
      "220 kilomètres à pied ça use, ça use ...\n",
      "221 kilomètres à pied ça use, ça use ...\n",
      "222 kilomètres à pied ça use, ça use ...\n",
      "223 kilomètres à pied ça use, ça use ...\n",
      "224 kilomètres à pied ça use, ça use ...\n",
      "225 kilomètres à pied ça use, ça use ...\n",
      "226 kilomètres à pied ça use, ça use ...\n",
      "227 kilomètres à pied ça use, ça use ...\n",
      "228 kilomètres à pied ça use, ça use ...\n",
      "229 kilomètres à pied ça use, ça use ...\n",
      "230 kilomètres à pied ça use, ça use ...\n",
      "231 kilomètres à pied ça use, ça use ...\n",
      "232 kilomètres à pied ça use, ça use ...\n",
      "233 kilomètres à pied ça use, ça use ...\n",
      "234 kilomètres à pied ça use, ça use ...\n",
      "235 kilomètres à pied ça use, ça use ...\n",
      "236 kilomètres à pied ça use, ça use ...\n",
      "237 kilomètres à pied ça use, ça use ...\n",
      "238 kilomètres à pied ça use, ça use ...\n",
      "239 kilomètres à pied ça use, ça use ...\n",
      "240 kilomètres à pied ça use, ça use ...\n",
      "241 kilomètres à pied ça use, ça use ...\n",
      "242 kilomètres à pied ça use, ça use ...\n",
      "243 kilomètres à pied ça use, ça use ...\n",
      "244 kilomètres à pied ça use, ça use ...\n",
      "245 kilomètres à pied ça use, ça use ...\n",
      "246 kilomètres à pied ça use, ça use ...\n",
      "247 kilomètres à pied ça use, ça use ...\n",
      "248 kilomètres à pied ça use, ça use ...\n",
      "249 kilomètres à pied ça use, ça use ...\n",
      "250 kilomètres à pied ça use, ça use ...\n",
      "251 kilomètres à pied ça use, ça use ...\n",
      "252 kilomètres à pied ça use, ça use ...\n",
      "253 kilomètres à pied ça use, ça use ...\n",
      "254 kilomètres à pied ça use, ça use ...\n",
      "255 kilomètres à pied ça use, ça use ...\n",
      "256 kilomètres à pied ça use, ça use ...\n",
      "257 kilomètres à pied ça use, ça use ...\n",
      "258 kilomètres à pied ça use, ça use ...\n",
      "259 kilomètres à pied ça use, ça use ...\n",
      "260 kilomètres à pied ça use, ça use ...\n",
      "261 kilomètres à pied ça use, ça use ...\n",
      "262 kilomètres à pied ça use, ça use ...\n",
      "263 kilomètres à pied ça use, ça use ...\n",
      "264 kilomètres à pied ça use, ça use ...\n",
      "265 kilomètres à pied ça use, ça use ...\n",
      "266 kilomètres à pied ça use, ça use ...\n",
      "267 kilomètres à pied ça use, ça use ...\n",
      "268 kilomètres à pied ça use, ça use ...\n",
      "269 kilomètres à pied ça use, ça use ...\n",
      "270 kilomètres à pied ça use, ça use ...\n",
      "271 kilomètres à pied ça use, ça use ...\n",
      "272 kilomètres à pied ça use, ça use ...\n",
      "273 kilomètres à pied ça use, ça use ...\n",
      "274 kilomètres à pied ça use, ça use ...\n",
      "275 kilomètres à pied ça use, ça use ...\n",
      "276 kilomètres à pied ça use, ça use ...\n",
      "277 kilomètres à pied ça use, ça use ...\n",
      "278 kilomètres à pied ça use, ça use ...\n",
      "279 kilomètres à pied ça use, ça use ...\n",
      "280 kilomètres à pied ça use, ça use ...\n",
      "281 kilomètres à pied ça use, ça use ...\n",
      "282 kilomètres à pied ça use, ça use ...\n",
      "283 kilomètres à pied ça use, ça use ...\n",
      "284 kilomètres à pied ça use, ça use ...\n",
      "285 kilomètres à pied ça use, ça use ...\n",
      "286 kilomètres à pied ça use, ça use ...\n",
      "287 kilomètres à pied ça use, ça use ...\n",
      "288 kilomètres à pied ça use, ça use ...\n",
      "289 kilomètres à pied ça use, ça use ...\n",
      "290 kilomètres à pied ça use, ça use ...\n",
      "291 kilomètres à pied ça use, ça use ...\n",
      "292 kilomètres à pied ça use, ça use ...\n",
      "293 kilomètres à pied ça use, ça use ...\n",
      "294 kilomètres à pied ça use, ça use ...\n",
      "295 kilomètres à pied ça use, ça use ...\n",
      "296 kilomètres à pied ça use, ça use ...\n",
      "297 kilomètres à pied ça use, ça use ...\n",
      "298 kilomètres à pied ça use, ça use ...\n",
      "299 kilomètres à pied ça use, ça use ...\n",
      "300 kilomètres à pied ça use, ça use ...\n",
      "301 kilomètres à pied ça use, ça use ...\n",
      "302 kilomètres à pied ça use, ça use ...\n",
      "303 kilomètres à pied ça use, ça use ...\n",
      "304 kilomètres à pied ça use, ça use ...\n",
      "305 kilomètres à pied ça use, ça use ...\n",
      "306 kilomètres à pied ça use, ça use ...\n",
      "307 kilomètres à pied ça use, ça use ...\n",
      "308 kilomètres à pied ça use, ça use ...\n",
      "309 kilomètres à pied ça use, ça use ...\n",
      "310 kilomètres à pied ça use, ça use ...\n",
      "311 kilomètres à pied ça use, ça use ...\n",
      "312 kilomètres à pied ça use, ça use ...\n",
      "313 kilomètres à pied ça use, ça use ...\n",
      "314 kilomètres à pied ça use, ça use ...\n",
      "315 kilomètres à pied ça use, ça use ...\n",
      "316 kilomètres à pied ça use, ça use ...\n",
      "317 kilomètres à pied ça use, ça use ...\n",
      "318 kilomètres à pied ça use, ça use ...\n",
      "319 kilomètres à pied ça use, ça use ...\n",
      "320 kilomètres à pied ça use, ça use ...\n",
      "321 kilomètres à pied ça use, ça use ...\n",
      "322 kilomètres à pied ça use, ça use ...\n",
      "323 kilomètres à pied ça use, ça use ...\n",
      "324 kilomètres à pied ça use, ça use ...\n",
      "325 kilomètres à pied ça use, ça use ...\n",
      "326 kilomètres à pied ça use, ça use ...\n",
      "327 kilomètres à pied ça use, ça use ...\n",
      "328 kilomètres à pied ça use, ça use ...\n",
      "329 kilomètres à pied ça use, ça use ...\n",
      "330 kilomètres à pied ça use, ça use ...\n",
      "331 kilomètres à pied ça use, ça use ...\n",
      "332 kilomètres à pied ça use, ça use ...\n",
      "333 kilomètres à pied ça use, ça use ...\n",
      "334 kilomètres à pied ça use, ça use ...\n",
      "335 kilomètres à pied ça use, ça use ...\n",
      "336 kilomètres à pied ça use, ça use ...\n",
      "337 kilomètres à pied ça use, ça use ...\n",
      "338 kilomètres à pied ça use, ça use ...\n",
      "339 kilomètres à pied ça use, ça use ...\n",
      "340 kilomètres à pied ça use, ça use ...\n",
      "341 kilomètres à pied ça use, ça use ...\n",
      "342 kilomètres à pied ça use, ça use ...\n",
      "343 kilomètres à pied ça use, ça use ...\n",
      "344 kilomètres à pied ça use, ça use ...\n",
      "345 kilomètres à pied ça use, ça use ...\n",
      "346 kilomètres à pied ça use, ça use ...\n",
      "347 kilomètres à pied ça use, ça use ...\n",
      "348 kilomètres à pied ça use, ça use ...\n",
      "349 kilomètres à pied ça use, ça use ...\n",
      "350 kilomètres à pied ça use, ça use ...\n",
      "351 kilomètres à pied ça use, ça use ...\n",
      "352 kilomètres à pied ça use, ça use ...\n",
      "353 kilomètres à pied ça use, ça use ...\n",
      "354 kilomètres à pied ça use, ça use ...\n",
      "355 kilomètres à pied ça use, ça use ...\n",
      "356 kilomètres à pied ça use, ça use ...\n",
      "357 kilomètres à pied ça use, ça use ...\n",
      "358 kilomètres à pied ça use, ça use ...\n",
      "359 kilomètres à pied ça use, ça use ...\n",
      "360 kilomètres à pied ça use, ça use ...\n",
      "361 kilomètres à pied ça use, ça use ...\n",
      "362 kilomètres à pied ça use, ça use ...\n",
      "363 kilomètres à pied ça use, ça use ...\n",
      "364 kilomètres à pied ça use, ça use ...\n",
      "365 kilomètres à pied ça use, ça use ...\n",
      "366 kilomètres à pied ça use, ça use ...\n",
      "367 kilomètres à pied ça use, ça use ...\n",
      "368 kilomètres à pied ça use, ça use ...\n",
      "369 kilomètres à pied ça use, ça use ...\n",
      "370 kilomètres à pied ça use, ça use ...\n",
      "371 kilomètres à pied ça use, ça use ...\n",
      "372 kilomètres à pied ça use, ça use ...\n",
      "373 kilomètres à pied ça use, ça use ...\n",
      "374 kilomètres à pied ça use, ça use ...\n",
      "375 kilomètres à pied ça use, ça use ...\n",
      "376 kilomètres à pied ça use, ça use ...\n",
      "377 kilomètres à pied ça use, ça use ...\n",
      "378 kilomètres à pied ça use, ça use ...\n",
      "379 kilomètres à pied ça use, ça use ...\n",
      "380 kilomètres à pied ça use, ça use ...\n",
      "381 kilomètres à pied ça use, ça use ...\n",
      "382 kilomètres à pied ça use, ça use ...\n",
      "383 kilomètres à pied ça use, ça use ...\n",
      "384 kilomètres à pied ça use, ça use ...\n",
      "385 kilomètres à pied ça use, ça use ...\n",
      "386 kilomètres à pied ça use, ça use ...\n",
      "387 kilomètres à pied ça use, ça use ...\n",
      "388 kilomètres à pied ça use, ça use ...\n",
      "389 kilomètres à pied ça use, ça use ...\n",
      "390 kilomètres à pied ça use, ça use ...\n",
      "391 kilomètres à pied ça use, ça use ...\n",
      "392 kilomètres à pied ça use, ça use ...\n",
      "393 kilomètres à pied ça use, ça use ...\n",
      "394 kilomètres à pied ça use, ça use ...\n",
      "395 kilomètres à pied ça use, ça use ...\n",
      "396 kilomètres à pied ça use, ça use ...\n",
      "397 kilomètres à pied ça use, ça use ...\n",
      "398 kilomètres à pied ça use, ça use ...\n",
      "399 kilomètres à pied ça use, ça use ...\n",
      "400 kilomètres à pied ça use, ça use ...\n",
      "401 kilomètres à pied ça use, ça use ...\n",
      "402 kilomètres à pied ça use, ça use ...\n",
      "403 kilomètres à pied ça use, ça use ...\n",
      "404 kilomètres à pied ça use, ça use ...\n",
      "405 kilomètres à pied ça use, ça use ...\n",
      "406 kilomètres à pied ça use, ça use ...\n",
      "407 kilomètres à pied ça use, ça use ...\n",
      "408 kilomètres à pied ça use, ça use ...\n",
      "409 kilomètres à pied ça use, ça use ...\n",
      "410 kilomètres à pied ça use, ça use ...\n",
      "411 kilomètres à pied ça use, ça use ...\n",
      "412 kilomètres à pied ça use, ça use ...\n",
      "413 kilomètres à pied ça use, ça use ...\n",
      "414 kilomètres à pied ça use, ça use ...\n",
      "415 kilomètres à pied ça use, ça use ...\n",
      "416 kilomètres à pied ça use, ça use ...\n",
      "417 kilomètres à pied ça use, ça use ...\n",
      "418 kilomètres à pied ça use, ça use ...\n",
      "419 kilomètres à pied ça use, ça use ...\n",
      "420 kilomètres à pied ça use, ça use ...\n",
      "421 kilomètres à pied ça use, ça use ...\n",
      "422 kilomètres à pied ça use, ça use ...\n",
      "423 kilomètres à pied ça use, ça use ...\n",
      "424 kilomètres à pied ça use, ça use ...\n",
      "425 kilomètres à pied ça use, ça use ...\n",
      "426 kilomètres à pied ça use, ça use ...\n",
      "427 kilomètres à pied ça use, ça use ...\n",
      "428 kilomètres à pied ça use, ça use ...\n",
      "429 kilomètres à pied ça use, ça use ...\n",
      "430 kilomètres à pied ça use, ça use ...\n",
      "431 kilomètres à pied ça use, ça use ...\n",
      "432 kilomètres à pied ça use, ça use ...\n",
      "433 kilomètres à pied ça use, ça use ...\n",
      "434 kilomètres à pied ça use, ça use ...\n",
      "435 kilomètres à pied ça use, ça use ...\n",
      "436 kilomètres à pied ça use, ça use ...\n",
      "437 kilomètres à pied ça use, ça use ...\n",
      "438 kilomètres à pied ça use, ça use ...\n",
      "439 kilomètres à pied ça use, ça use ...\n",
      "440 kilomètres à pied ça use, ça use ...\n",
      "441 kilomètres à pied ça use, ça use ...\n",
      "442 kilomètres à pied ça use, ça use ...\n",
      "443 kilomètres à pied ça use, ça use ...\n",
      "444 kilomètres à pied ça use, ça use ...\n",
      "445 kilomètres à pied ça use, ça use ...\n",
      "446 kilomètres à pied ça use, ça use ...\n",
      "447 kilomètres à pied ça use, ça use ...\n",
      "448 kilomètres à pied ça use, ça use ...\n",
      "449 kilomètres à pied ça use, ça use ...\n",
      "450 kilomètres à pied ça use, ça use ...\n",
      "451 kilomètres à pied ça use, ça use ...\n",
      "452 kilomètres à pied ça use, ça use ...\n",
      "453 kilomètres à pied ça use, ça use ...\n",
      "454 kilomètres à pied ça use, ça use ...\n",
      "455 kilomètres à pied ça use, ça use ...\n",
      "456 kilomètres à pied ça use, ça use ...\n",
      "457 kilomètres à pied ça use, ça use ...\n",
      "458 kilomètres à pied ça use, ça use ...\n",
      "459 kilomètres à pied ça use, ça use ...\n",
      "460 kilomètres à pied ça use, ça use ...\n",
      "461 kilomètres à pied ça use, ça use ...\n",
      "462 kilomètres à pied ça use, ça use ...\n",
      "463 kilomètres à pied ça use, ça use ...\n",
      "464 kilomètres à pied ça use, ça use ...\n",
      "465 kilomètres à pied ça use, ça use ...\n",
      "466 kilomètres à pied ça use, ça use ...\n",
      "467 kilomètres à pied ça use, ça use ...\n",
      "468 kilomètres à pied ça use, ça use ...\n",
      "469 kilomètres à pied ça use, ça use ...\n",
      "470 kilomètres à pied ça use, ça use ...\n",
      "471 kilomètres à pied ça use, ça use ...\n",
      "472 kilomètres à pied ça use, ça use ...\n",
      "473 kilomètres à pied ça use, ça use ...\n",
      "474 kilomètres à pied ça use, ça use ...\n",
      "475 kilomètres à pied ça use, ça use ...\n",
      "476 kilomètres à pied ça use, ça use ...\n",
      "477 kilomètres à pied ça use, ça use ...\n",
      "478 kilomètres à pied ça use, ça use ...\n",
      "479 kilomètres à pied ça use, ça use ...\n",
      "480 kilomètres à pied ça use, ça use ...\n",
      "481 kilomètres à pied ça use, ça use ...\n",
      "482 kilomètres à pied ça use, ça use ...\n",
      "483 kilomètres à pied ça use, ça use ...\n",
      "484 kilomètres à pied ça use, ça use ...\n",
      "485 kilomètres à pied ça use, ça use ...\n",
      "486 kilomètres à pied ça use, ça use ...\n",
      "487 kilomètres à pied ça use, ça use ...\n",
      "488 kilomètres à pied ça use, ça use ...\n",
      "489 kilomètres à pied ça use, ça use ...\n",
      "490 kilomètres à pied ça use, ça use ...\n",
      "491 kilomètres à pied ça use, ça use ...\n",
      "492 kilomètres à pied ça use, ça use ...\n",
      "493 kilomètres à pied ça use, ça use ...\n",
      "494 kilomètres à pied ça use, ça use ...\n",
      "495 kilomètres à pied ça use, ça use ...\n",
      "496 kilomètres à pied ça use, ça use ...\n",
      "497 kilomètres à pied ça use, ça use ...\n",
      "498 kilomètres à pied ça use, ça use ...\n",
      "499 kilomètres à pied ça use, ça use ...\n",
      "500 kilomètres à pied ça use, ça use ...\n",
      "501 kilomètres à pied ça use, ça use ...\n",
      "502 kilomètres à pied ça use, ça use ...\n",
      "503 kilomètres à pied ça use, ça use ...\n",
      "504 kilomètres à pied ça use, ça use ...\n",
      "505 kilomètres à pied ça use, ça use ...\n",
      "506 kilomètres à pied ça use, ça use ...\n",
      "507 kilomètres à pied ça use, ça use ...\n",
      "508 kilomètres à pied ça use, ça use ...\n",
      "509 kilomètres à pied ça use, ça use ...\n",
      "510 kilomètres à pied ça use, ça use ...\n",
      "511 kilomètres à pied ça use, ça use ...\n",
      "512 kilomètres à pied ça use, ça use ...\n",
      "513 kilomètres à pied ça use, ça use ...\n",
      "514 kilomètres à pied ça use, ça use ...\n",
      "515 kilomètres à pied ça use, ça use ...\n",
      "516 kilomètres à pied ça use, ça use ...\n",
      "517 kilomètres à pied ça use, ça use ...\n",
      "518 kilomètres à pied ça use, ça use ...\n",
      "519 kilomètres à pied ça use, ça use ...\n",
      "520 kilomètres à pied ça use, ça use ...\n",
      "521 kilomètres à pied ça use, ça use ...\n",
      "522 kilomètres à pied ça use, ça use ...\n",
      "523 kilomètres à pied ça use, ça use ...\n",
      "524 kilomètres à pied ça use, ça use ...\n",
      "525 kilomètres à pied ça use, ça use ...\n",
      "526 kilomètres à pied ça use, ça use ...\n",
      "527 kilomètres à pied ça use, ça use ...\n",
      "528 kilomètres à pied ça use, ça use ...\n",
      "529 kilomètres à pied ça use, ça use ...\n",
      "530 kilomètres à pied ça use, ça use ...\n",
      "531 kilomètres à pied ça use, ça use ...\n",
      "532 kilomètres à pied ça use, ça use ...\n",
      "533 kilomètres à pied ça use, ça use ...\n",
      "534 kilomètres à pied ça use, ça use ...\n",
      "535 kilomètres à pied ça use, ça use ...\n",
      "536 kilomètres à pied ça use, ça use ...\n",
      "537 kilomètres à pied ça use, ça use ...\n",
      "538 kilomètres à pied ça use, ça use ...\n",
      "539 kilomètres à pied ça use, ça use ...\n",
      "540 kilomètres à pied ça use, ça use ...\n",
      "541 kilomètres à pied ça use, ça use ...\n",
      "542 kilomètres à pied ça use, ça use ...\n",
      "543 kilomètres à pied ça use, ça use ...\n",
      "544 kilomètres à pied ça use, ça use ...\n",
      "545 kilomètres à pied ça use, ça use ...\n",
      "546 kilomètres à pied ça use, ça use ...\n",
      "547 kilomètres à pied ça use, ça use ...\n",
      "548 kilomètres à pied ça use, ça use ...\n",
      "549 kilomètres à pied ça use, ça use ...\n",
      "550 kilomètres à pied ça use, ça use ...\n",
      "551 kilomètres à pied ça use, ça use ...\n",
      "552 kilomètres à pied ça use, ça use ...\n",
      "553 kilomètres à pied ça use, ça use ...\n",
      "554 kilomètres à pied ça use, ça use ...\n",
      "555 kilomètres à pied ça use, ça use ...\n",
      "556 kilomètres à pied ça use, ça use ...\n",
      "557 kilomètres à pied ça use, ça use ...\n",
      "558 kilomètres à pied ça use, ça use ...\n",
      "559 kilomètres à pied ça use, ça use ...\n",
      "560 kilomètres à pied ça use, ça use ...\n",
      "561 kilomètres à pied ça use, ça use ...\n",
      "562 kilomètres à pied ça use, ça use ...\n",
      "563 kilomètres à pied ça use, ça use ...\n",
      "564 kilomètres à pied ça use, ça use ...\n",
      "565 kilomètres à pied ça use, ça use ...\n",
      "566 kilomètres à pied ça use, ça use ...\n",
      "567 kilomètres à pied ça use, ça use ...\n",
      "568 kilomètres à pied ça use, ça use ...\n",
      "569 kilomètres à pied ça use, ça use ...\n",
      "570 kilomètres à pied ça use, ça use ...\n",
      "571 kilomètres à pied ça use, ça use ...\n",
      "572 kilomètres à pied ça use, ça use ...\n",
      "573 kilomètres à pied ça use, ça use ...\n",
      "574 kilomètres à pied ça use, ça use ...\n",
      "575 kilomètres à pied ça use, ça use ...\n",
      "576 kilomètres à pied ça use, ça use ...\n",
      "577 kilomètres à pied ça use, ça use ...\n",
      "578 kilomètres à pied ça use, ça use ...\n",
      "579 kilomètres à pied ça use, ça use ...\n",
      "580 kilomètres à pied ça use, ça use ...\n",
      "581 kilomètres à pied ça use, ça use ...\n",
      "582 kilomètres à pied ça use, ça use ...\n",
      "583 kilomètres à pied ça use, ça use ...\n",
      "584 kilomètres à pied ça use, ça use ...\n",
      "585 kilomètres à pied ça use, ça use ...\n",
      "586 kilomètres à pied ça use, ça use ...\n",
      "587 kilomètres à pied ça use, ça use ...\n",
      "588 kilomètres à pied ça use, ça use ...\n",
      "589 kilomètres à pied ça use, ça use ...\n",
      "590 kilomètres à pied ça use, ça use ...\n",
      "591 kilomètres à pied ça use, ça use ...\n",
      "592 kilomètres à pied ça use, ça use ...\n",
      "593 kilomètres à pied ça use, ça use ...\n",
      "594 kilomètres à pied ça use, ça use ...\n",
      "595 kilomètres à pied ça use, ça use ...\n",
      "596 kilomètres à pied ça use, ça use ...\n",
      "597 kilomètres à pied ça use, ça use ...\n",
      "598 kilomètres à pied ça use, ça use ...\n",
      "599 kilomètres à pied ça use, ça use ...\n",
      "600 kilomètres à pied ça use, ça use ...\n"
     ]
    }
   ],
   "source": [
    "N = 600\n",
    "for nb in range(N):\n",
    "    if nb == 0:\n",
    "        print(f'{nb + 1} kilomètre à pied ça use, ça use ...')\n",
    "    else:\n",
    "        print(f'{nb + 1} kilomètres à pied ça use, ça use ...')"
   ]
  },
  {
   "cell_type": "markdown",
   "metadata": {},
   "source": [
    "Il est désormais facile de compter jusqu'à `100`, `1000` ou plus."
   ]
  },
  {
   "cell_type": "markdown",
   "metadata": {},
   "source": [
    "#### Exercice 2 : \n",
    "\n",
    "Dans le programme suivant, quelle est la variable d'itération ? Qu'elle est sa valeur à la fin de la boucle ?\n",
    "\n",
    "Qu'affiche t-il ? En particulier, que se passe t-il sur la première ligne ?\n",
    "``` python\n",
    "N = 7\n",
    "for nb_etoile in range(N):\n",
    "    print(\"*\" * nb_etoile)\n",
    "```"
   ]
  },
  {
   "cell_type": "markdown",
   "metadata": {},
   "source": [
    "### Exemple 3 : Découvrons le module `Turtle`\n",
    "\n",
    "Le module Turtle est un module Python inspiré de la *\"programmation Logo\"*.\n",
    "Des fonctions définies dans ce module permettent de déplacer une tortue sur l’écran et d'afficher ou non sa trace à l'écran.\n",
    "\n",
    "Par exemple, on trouve les fonctions : \n",
    "* `forward(dist)` : Avance la tortue d’une distance de `dist` pixels\n",
    "* `backward(dist)` : Recule d’une distance donnée\n",
    "* `left(alpha)` : Pivote la tortue vers la gauche d'un angle de `alpha` degrés\n",
    "* `right(alpha)` : Pivote la tortue vers la droite d'un angle de `alpha` degrés\n",
    "* `up()` : Relève le crayon ; cela permet d'avancer sans dessiner\n",
    "* `down()` : Abaisse le crayon, pour recommencer à dessiner\n",
    "* `goto(x, y)` : Envoie la tortue au point de coordonnées `(x, y)` en ligne droite\n",
    "\n",
    "Ce module permet de faire de très jolis dessins. Par exemple, on peut tracer des polygones réguliers facilement."
   ]
  },
  {
   "cell_type": "code",
   "execution_count": 34,
   "metadata": {},
   "outputs": [],
   "source": [
    "\"\"\"\n",
    "Tracé de polygones réguliers.\n",
    "\"\"\"\n",
    "# On importe les fonctions du module turtle\n",
    "import turtle\n",
    "\n",
    "# Initialisation des paramètres\n",
    "nbCotes = 4\n",
    "lgCote = 250\n",
    "angle = 360 / nbCotes\n",
    "\n",
    "# Tracé\n",
    "for compteur in range(nbCotes):\n",
    "    turtle.forward(lgCote)  # Tracer un côté\n",
    "    turtle.left(angle)  # Tourner à gauche\n",
    "\n",
    "turtle.exitonclick()  # Sortie par click de souris "
   ]
  },
  {
   "cell_type": "markdown",
   "metadata": {},
   "source": [
    "### Vérifier vos connaissances\n",
    "\n",
    "A ce stade, vous devriez être capable :\n",
    "* de comprendre la notion de boucle ;\n",
    "* d'expliquer le fonctionnement d'une boucle `for ... in range(...)` ;\n",
    "* d'identifier la variable d'itération et de comprendre comment elle évolue au cours d'une boucle `for ... in range(...)` ;\n",
    "* de détecter la nécessité d'introduire une boucle `for ... in range(...)` dans un programme ;\n",
    "* d'écrire correctement une boucle `for ... in range(...)`."
   ]
  },
  {
   "cell_type": "markdown",
   "metadata": {},
   "source": [
    "#### Exercice 3 : les tables de multiplications\n",
    "\n",
    "Écrire un programme de trois lignes qui affiche la table de multiplication par `7` :\n",
    "```Python\n",
    "1 * 7 = 7\n",
    "2 * 7 = 14\n",
    "...\n",
    "10 * 7 = 70\n",
    "```\n",
    "**Attention :** La ligne `0 * 7 = 0` ne doit apparaitre, et vous ne devez utilisez de `if`!"
   ]
  },
  {
   "cell_type": "code",
   "execution_count": null,
   "metadata": {},
   "outputs": [],
   "source": []
  },
  {
   "cell_type": "markdown",
   "metadata": {},
   "source": [
    "#### Exercice 4\n",
    "\n",
    "Écrivez un programme qui lit un entier positif `n` donné par l'utilisateur, puis `n`\n",
    "nombres entiers (toujours entrés par l'utilisateur) et compte et affiche en fin de programme combien parmi ces valeurs sont strictement positives, strictement négatives, nulles."
   ]
  },
  {
   "cell_type": "code",
   "execution_count": null,
   "metadata": {},
   "outputs": [],
   "source": []
  },
  {
   "cell_type": "markdown",
   "metadata": {},
   "source": [
    "#### Exercice 5\n",
    "\n",
    "1. Écrivez un programme qui demande à l'utilisateur un entier et\n",
    "   affiche la factorielle de ce nombre.\n",
    "2. Modifiez votre programme pour afficher toutes les factorielles\n",
    "   des nombres inférieurs au nombre saisi.\n",
    "\n",
    "*Remarque : Pour la question 2, il suffit de rajouter une ligne de code.*"
   ]
  },
  {
   "cell_type": "code",
   "execution_count": null,
   "metadata": {},
   "outputs": [],
   "source": []
  },
  {
   "cell_type": "markdown",
   "metadata": {},
   "source": [
    "## III Répétition d'une tâche tant qu'une condition est vérifiée : `while ...:`\n",
    "\n",
    "On peut répéter un bloc d'instructions un nombre de fois inconnu avant le début de la répétition grâce à une\n",
    "boucle ``tant que``.\n",
    "\n",
    "**Principe de base :**\n",
    "\n",
    "- **Si** une certaine condition est vraie,\n",
    "  on va exécuter un certain bloc d'instructions ;\n",
    "- **Sinon**, on va passer directement à la suite du programme ;\n",
    "- Après chaque exécution du bloc, on réévalue la condition.\n",
    "\n",
    "<img src='img/while1.png' width='30%'>\n",
    "\n",
    "**Syntaxe :**\n",
    "\n",
    "```python\n",
    "# début\n",
    "while <condition>:\n",
    "    # bloc d'instructions\n",
    "    # (corps de la boucle)\n",
    "# suite\n",
    "```\n",
    "\n",
    "où `condition` est une **expression booléenne**.\n",
    "\n",
    "**Vocabulaire :**\n",
    "\n",
    "- Le bloc d'instructions est appelé **corps de la boucle**.\n",
    "- Chaque exécution du corps de la boucle est appelée **itération**.\n",
    "\n",
    "**Fonctionnement détaillé :**\n",
    "\n",
    "La `condition` est une expression booléenne dépendant de variables définies dans la partie `début`.\n",
    "Le corps de la boucle est alors exécuté une première fois uniquement si `condition` est évaluée à `True`.\n",
    "Au cours de chaque exécution du corps de la boucle, les variables dont dépend `condition` peuvent (doivent !) avoir évoluées. Après chaque exécution du corps, on réévalue donc `condition` :\n",
    "- Si `condition` vaut `False`, le corps de la boucle n'est pas exécuté ; à la place, on exécute la suite du code.\n",
    "- Si `condition`vaut `True`, le corps de la boucle est (de nouveau) exécuté.\n",
    "\n",
    "**Remarque :** Il peut n'y avoir aucune itération, ou un nombre infini en fonction de la condition !"
   ]
  },
  {
   "cell_type": "markdown",
   "metadata": {},
   "source": [
    "La boucle `while` est très générale. Elle permet notamment de reproduire le comportement d'une boucle `for ... in range(...)`. Néanmoins\n",
    "* la boucle `for ... in range(...)` se trouve être plus simple à manipuler lorsque l'on peut l'utiliser (voir Exemple 1)\n",
    "* la boucle `while` ne permet pas de réaliser toutes les boucles que l'on pourrait vouloir faire (voir Exemple 2). Notamment, une boucle `while` est nécessaire si l'on ne connait pas à l'avance le nombre d'itérations à effectuer."
   ]
  },
  {
   "cell_type": "markdown",
   "metadata": {},
   "source": [
    "### Exemple 1 : une boucle `while` permet de simuler une boucle `for ... in range(...)`"
   ]
  },
  {
   "cell_type": "code",
   "execution_count": 64,
   "metadata": {},
   "outputs": [
    {
     "name": "stdout",
     "output_type": "stream",
     "text": [
      "Entrez un nombre : 10\n",
      "1 kilomètre(s) à pied ça use, ça use ...\n",
      "2 kilomètre(s) à pied ça use, ça use ...\n",
      "3 kilomètre(s) à pied ça use, ça use ...\n",
      "4 kilomètre(s) à pied ça use, ça use ...\n",
      "5 kilomètre(s) à pied ça use, ça use ...\n",
      "6 kilomètre(s) à pied ça use, ça use ...\n",
      "7 kilomètre(s) à pied ça use, ça use ...\n",
      "8 kilomètre(s) à pied ça use, ça use ...\n",
      "9 kilomètre(s) à pied ça use, ça use ...\n",
      "10 kilomètre(s) à pied ça use, ça use ...\n"
     ]
    }
   ],
   "source": [
    "# Simulation par une boucle `while` de la boucle `for <var> in range(...)`\n",
    "\n",
    "nombre = int(input(\"Entrez un nombre : \"))\n",
    "\n",
    "var = 0  # Initialiser le compteur\n",
    "while var < nombre:\n",
    "    print(f'{var + 1} kilomètre(s) à pied ça use, ça use ...')\n",
    "    var = var + 1  # Ne pas oublier !!!"
   ]
  },
  {
   "cell_type": "markdown",
   "metadata": {},
   "source": [
    "**Que vaut la variable d'itération à l'issue de la boucle ?**"
   ]
  },
  {
   "cell_type": "markdown",
   "metadata": {},
   "source": [
    "Dans cet exemple, la variable d'itération serait `var`. Le corps de la boucle contient deux instructions : le `print` et l'incrémentation de `var`.\n",
    "\n",
    "<img src='img/warning.png' width='50px' style='display:inline'>\n",
    "La difficulté de ce type de boucle est de ne pas oublier l'incrémentation de la variable d'itération. C'est une erreur commune faite par beaucoup d'étudiant qui ne se retrouve pas si l'on utilise la syntaxe `for ... in range(...)` qui reste plus simple dans ce genre de cas ! "
   ]
  },
  {
   "cell_type": "code",
   "execution_count": 42,
   "metadata": {},
   "outputs": [
    {
     "data": {
      "text/plain": [
       "10"
      ]
     },
     "execution_count": 42,
     "metadata": {},
     "output_type": "execute_result"
    }
   ],
   "source": [
    "var"
   ]
  },
  {
   "cell_type": "markdown",
   "metadata": {},
   "source": [
    "Ah... Elle aurait valoir $9$... On a donc **presque** simulé la boucle `for ... in range(...)`"
   ]
  },
  {
   "cell_type": "markdown",
   "metadata": {},
   "source": [
    "### Exemple 2 : Saisie controllée\n",
    "\n",
    "Lorsque l'on demande à l'utilisateur une donnée, on se doit de vérifier qu'il saisit une donnée valide avant même d'effectuer le moindre traitement sur cette donnée.\n",
    "\n",
    "Une saisie sera dite **saisie controllée** lorsque le programmeur demande à l'utilisateur de resaisir sa donnée tant que celle-ci n'est pas valide. Il s'agit donc d'une boucle `while`, dont la condition traduit *\"la donnée n'est pas valide\"*.\n",
    "\n",
    "Dans le cas où l'on veut, par exemple, un entier `nb` positif, la condition de la boucle est : `nb < 0`.\n",
    "D'où le programme suivant :"
   ]
  },
  {
   "cell_type": "code",
   "execution_count": 50,
   "metadata": {},
   "outputs": [
    {
     "name": "stdout",
     "output_type": "stream",
     "text": [
      "Donnez moi en entier positif (en chiffres) : -3\n"
     ]
    }
   ],
   "source": [
    "# On veut saisir faire saisir à l'utilisateur en entier positif (ou nul)\n",
    "nb = int(input('Donnez moi en entier positif (en chiffres) : '))\n",
    "while nb < 0:\n",
    "    print('Erreur de saisie.')\n",
    "    nb = int(input('Donnez moi en entier positif (en chiffres) : '))"
   ]
  },
  {
   "cell_type": "code",
   "execution_count": 51,
   "metadata": {},
   "outputs": [
    {
     "data": {
      "text/plain": [
       "-3"
      ]
     },
     "execution_count": 51,
     "metadata": {},
     "output_type": "execute_result"
    }
   ],
   "source": [
    "nb"
   ]
  },
  {
   "cell_type": "markdown",
   "metadata": {},
   "source": [
    "**Remarque :** Si l'utilisateur ne rentre pas un entier, la conversion en entier va provoquer une erreur. Notre saisie controllée n'est donc pas parfaite... Elle suppose que l'utilisateur donnera tout de même un entier..."
   ]
  },
  {
   "cell_type": "markdown",
   "metadata": {},
   "source": [
    "On peut aussi faire des saisies controllées dont l'objet est un peu plus complexe.\n",
    "Par exemple, saisir un nombre entier entre $0$ et $20$ :"
   ]
  },
  {
   "cell_type": "code",
   "execution_count": 50,
   "metadata": {},
   "outputs": [
    {
     "name": "stdout",
     "output_type": "stream",
     "text": [
      "Donnez moi en entier positif (en chiffres) : -3\n"
     ]
    }
   ],
   "source": [
    "nb = int(input('Donnez moi un entier entre 0 et 20 (en chiffres) : '))\n",
    "while nb < 0 or nb > 20:  # Négation de 0 <= nb ET nb <= 20\n",
    "    print('Erreur de saisie.')\n",
    "    nb = int(input('Donnez moi un entier entre 0 et 20 (en chiffres) : '))"
   ]
  },
  {
   "cell_type": "markdown",
   "metadata": {},
   "source": [
    "**Remarque :**\n",
    "\n",
    "Non(0 <= nb <= 20) = Non(O <= nb ET nb <= 20)\n",
    "\n",
    "               = Non(0 <= nb) OU Non(nb <= 20)\n",
    "                   \n",
    "               = nb < 0 OU nb > 20\n"
   ]
  },
  {
   "cell_type": "markdown",
   "metadata": {},
   "source": [
    "#### Exercice 6 : \n",
    "\n",
    "Au cours précédent, nous avons écrit un programme permettant de calculer la moyenne d'un cours contenant deux controles continus et un examen.\n",
    "\n",
    "Ajoutez des saisies controllées lors de la saisie des trois notes pour rendre le programme un peu plus robuste."
   ]
  },
  {
   "cell_type": "code",
   "execution_count": null,
   "metadata": {},
   "outputs": [],
   "source": [
    "# La note finale est le maximum de la note d'examen\n",
    "# et de la moyenne entre examen et moyenne de contrôle\n",
    "# continu\n",
    "\n",
    "note_cc1 = float(input('Note du premier contrôle : '))\n",
    "note_cc2 = float(input('Note du second contrôle : '))\n",
    "note_exam = float(input(\"Note de l'examen : \"))\n",
    "\n",
    "if note_cc1 < 0 or note_cc2 < 0 or note_exam < 0:\n",
    "    print('Erreur de saisie (note négative).')\n",
    "else:\n",
    "    moyenne_cc = (note_cc1 + note_cc2) / 2\n",
    "\n",
    "    if moyenne_cc < note_exam:\n",
    "        note_finale = note_exam\n",
    "        print('Note de contrôle non prise en compte.')\n",
    "    else:\n",
    "        note_finale = (moyenne_cc + note_exam) / 2\n",
    "        print('Note de contrôle prise en compte.')\n",
    "    print('Note finale :', note_finale)\n",
    "\n",
    "    if note_finale < 10:\n",
    "        print('Encore un petit effort !')\n",
    "    elif note_finale < 12:\n",
    "        print('Ça passe !')\n",
    "    elif note_finale < 14:\n",
    "        print('Pas mal !')\n",
    "    else:  # Quelles valeurs possibles ?\n",
    "        print('Bravo !')"
   ]
  },
  {
   "cell_type": "markdown",
   "metadata": {},
   "source": [
    "### Exemple 3 : la racine carrée entière\n",
    "\n",
    "Soit `N` un entier.\n",
    "On souhaite trouver le plus grand entier `racine` tel que `racine * racine <= N`, en incrémentant progressivement la valeur de `n`. "
   ]
  },
  {
   "cell_type": "code",
   "execution_count": 58,
   "metadata": {
    "scrolled": true
   },
   "outputs": [
    {
     "data": {
      "text/plain": [
       "11"
      ]
     },
     "execution_count": 58,
     "metadata": {},
     "output_type": "execute_result"
    }
   ],
   "source": [
    "N = 142\n",
    "racine = 0\n",
    "while racine * racine <= N:\n",
    "    racine += 1  # même chose que racine = racine + 1\n",
    "# Ici, racine ** 2 > N\n",
    "racine -= 1   # même chose racine = racine - 1\n",
    "racine"
   ]
  },
  {
   "cell_type": "markdown",
   "metadata": {},
   "source": [
    "<img src='img/Ampoule.png' width='50px' style='display:inline'>\n",
    "*A quel moment moment la condition n'est-elle plus vérifiée ? Cela explique pourquoi il faut afficher `n - 1`et non `n`.*"
   ]
  },
  {
   "cell_type": "code",
   "execution_count": 59,
   "metadata": {},
   "outputs": [
    {
     "data": {
      "text/plain": [
       "11"
      ]
     },
     "execution_count": 59,
     "metadata": {},
     "output_type": "execute_result"
    }
   ],
   "source": [
    "# Vérification du calcul précédent :\n",
    "N = 142\n",
    "int(N ** (1/2))"
   ]
  },
  {
   "cell_type": "markdown",
   "metadata": {},
   "source": [
    "### Vérifier vos connaissances :\n",
    "\n",
    "A ce stade, vous devriez être capable :\n",
    "* de comprendre la notion de boucle `while` ;\n",
    "* décrire le fonctionnement d'une boucle `while` ;\n",
    "* d'identifier la variable d'itération et de comprendre comment elle évolue au cours d'une boucle `while` ;\n",
    "* détecter la nécessité d'introduire une boucle `while` dans un programme ;\n",
    "* d'écrire correctement une boucle `while`."
   ]
  },
  {
   "cell_type": "markdown",
   "metadata": {},
   "source": [
    "#### Exercice 7 : De plus en plus grand\n",
    "\n",
    "Écrivez un programme qui laisse l'utilisateur saisir autant de nombres positifs\n",
    "qu'il veut, tant que chaque nombre est strictement supérieur à celui d'avant.\n",
    "Si un nombre saisi ne vérifie pas la règle, le programme s'arrête et indique\n",
    "combien de nombres comporte la suite strictement croissante saisie par\n",
    "l'utilisateur."
   ]
  },
  {
   "cell_type": "markdown",
   "metadata": {},
   "source": [
    "#### Exercice 8 : Moyenne de notes\n",
    "\n",
    "1. Écrivez un programme qui permet à l'utilisateur de saisir autant de nombres\n",
    "   entiers qu'il veut et calcule et affiche la moyenne de ces nombres. Quand il a terminé\n",
    "   l'utilisateur écrit `stop` au lieu d'un nombre.\n",
    "   \n",
    "   **Remarque :** Exceptionnellement, on ne fera pas de saisie controllé dans cet exercice.\n",
    "\n",
    "1. Modifiez le programme pour qu'il redemande chaque nombre saisi s'il n'est\n",
    "   pas compris entre 0 et 20."
   ]
  },
  {
   "cell_type": "markdown",
   "metadata": {},
   "source": [
    "## IV Comparaison entre les boucles `for ... in range(...)` et boucles `while`"
   ]
  },
  {
   "cell_type": "markdown",
   "metadata": {},
   "source": [
    "Comme on vient de le voir, il existe deux façons de procéder pour écrire des boucles : `for ... in range(...)` et `while`. Il est important de choisir judicieusement quel type de boucle utiliser en fonction du problème à résoudre.\n",
    "\n",
    "La boucle `for ... in range(...)` se trouve être plus simple à manipuler que la boucle `while`, mais elle ne permet pas de réaliser toutes les boucles que l'on pourrait vouloir faire. Toujours manipuler une boucle `while` pourrait suffire, mais cela donnerait des programmes très lourd à lire pour l'humain.\n",
    "\n",
    "En conséquence, la boucle `for ... in range(...)` est le meilleur choix quand on connait à l'avance le nombre de fois que l'on veut effectuer l'itération. A l'opposé, la boucle `while` doit être utilisé lorsque l'on ne connait pas le nombre d'itérations à effectuer à l'avance."
   ]
  },
  {
   "cell_type": "markdown",
   "metadata": {},
   "source": [
    "<p align=\"center\">\n",
    "       <img src='img/Comparaison_Syntaxe.png' width='700px'>\n",
    "</p>"
   ]
  },
  {
   "cell_type": "markdown",
   "metadata": {},
   "source": [
    "### Vérifier vos connaissances :\n",
    "\n",
    "A ce stade, vous devriez être capable :\n",
    "* de citer les deux types de boucles en Python ;\n",
    "* de citer les avantages d'une boucle `for ... in range(...)` sur une boucle `while` ;\n",
    "* de décider si vous aller implémenter une boucle `for ... in range(...)` ou une boucle `while` ;\n",
    "* d'argumenter vos choix de boucles dans vos programmes."
   ]
  },
  {
   "cell_type": "markdown",
   "metadata": {},
   "source": [
    "#### Exercice 9 :\n",
    "\n",
    "On considère le programme suivant :\n",
    "```Python\n",
    "actuel = 1\n",
    "avant = 1\n",
    "while actuel < 1000:\n",
    "    print(actuel)\n",
    "    actuel, avant = actuel + avant, actuel\n",
    "```\n",
    "1. Que réalise le programme suivant ?\n",
    "2. Ce programme contient une boucle `while`. Est-ce un choix judicieux ? Si non, traduisez-le en un programme contenant une boucle for."
   ]
  },
  {
   "cell_type": "code",
   "execution_count": 66,
   "metadata": {},
   "outputs": [
    {
     "name": "stdout",
     "output_type": "stream",
     "text": [
      "1\n",
      "2\n",
      "3\n",
      "5\n",
      "8\n",
      "13\n",
      "21\n",
      "34\n",
      "55\n",
      "89\n",
      "144\n",
      "233\n",
      "377\n",
      "610\n",
      "987\n"
     ]
    }
   ],
   "source": [
    "actuel = 1\n",
    "avant = 1\n",
    "while actuel < 1000:\n",
    "    print(actuel)\n",
    "    actuel, avant = actuel + avant, actuel"
   ]
  },
  {
   "cell_type": "markdown",
   "metadata": {},
   "source": [
    "#### Exercice 10 :\n",
    "\n",
    "Pour chacune des situations suivantes, indiquer s'il vous utiliseriez plutôt une boucle `while`ou plutôt une boucle `for ... in range(...)` pour :\n",
    "1. écrire un programme calculant les `100`premiers termes de la suite définie par $U_0 = 1$ et $U_{n + 1} = \\dfrac{U_n}{3 U_n + 2}$.\n",
    "2. écrire un programme demandant à l'utilisateur un mot de `5` lettres.\n",
    "3. écrire un programme dessinant la forme suivante :\n",
    "```\n",
    "    *      *\n",
    "     *    *\n",
    "      *  *\n",
    "       **\n",
    "```\n",
    "4. écrire un programme demandant à l'utilisateur un entier et déterminant combien de fois de suite cet entier est divisible par 2."
   ]
  },
  {
   "cell_type": "code",
   "execution_count": null,
   "metadata": {},
   "outputs": [],
   "source": []
  },
  {
   "cell_type": "markdown",
   "metadata": {},
   "source": [
    "## V Boucles imbriquées\n",
    "\n",
    "Améliorons l'exercice 6. Nous avons des saisies de l'utilisateur qui ne sont pas controllées. **Ce n'est pas bien !!!** Nous avons donc besoin de faire une boucle à l'intérieur d'une autre boucle, ce qui est heureusement possible."
   ]
  },
  {
   "cell_type": "markdown",
   "metadata": {},
   "source": [
    "<p align=\"center\">\n",
    "       <img src='img/while2.png' width='40%'>\n",
    "</p>\n",
    "<center> Double boucle `while` imbriquée</center>"
   ]
  },
  {
   "cell_type": "markdown",
   "metadata": {},
   "source": [
    "**Syntaxe d'une double boucle `while` :**\n",
    "```python\n",
    "# début\n",
    "while <condition 1>:\n",
    "    # début corps 1\n",
    "    while <condition 2>:\n",
    "        # corps 2\n",
    "    # fin corps 1\n",
    "# suite\n",
    "```\n",
    "\n",
    "**Syntaxe d'une boucle `while` contenant une boucle `for ... in range(...):`**\n",
    "```python\n",
    "# début\n",
    "while <condition 1>:\n",
    "    # début corps 1\n",
    "    N = ...\n",
    "    for <variable> in range(N):\n",
    "        # corps 2\n",
    "    # fin corps 1\n",
    "# suite\n",
    "```\n",
    "\n",
    "**Syntaxe d'une boucle `for ... in range(...):` contenant une boucle `while`**\n",
    "\n",
    "```python\n",
    "# début\n",
    "N = \n",
    "for <variable> in range(N):\n",
    "    # début corps 1\n",
    "    while <condition 2>:\n",
    "        # corps 2\n",
    "    # fin corps 1\n",
    "# suite\n",
    "```\n",
    "\n",
    "**Syntaxe d'une double boucle `for ... in range(...)` :**\n",
    "```python\n",
    "# début\n",
    "M = \n",
    "for <variable> in range(M):\n",
    "    # début corps 1\n",
    "    N = \n",
    "    for <variable> in range(N):\n",
    "        # corps 2\n",
    "    # fin corps 1\n",
    "# suite\n",
    "```"
   ]
  },
  {
   "cell_type": "markdown",
   "metadata": {},
   "source": [
    "### Exemple 1 : Ajout d'une saisie controllée dans le programme de l'exercice 8"
   ]
  },
  {
   "cell_type": "code",
   "execution_count": null,
   "metadata": {},
   "outputs": [],
   "source": [
    "nb_nombre_saisi = 0\n",
    "somme = 0\n",
    "saisie = None  # variable en fait pas réellement initialisée\n",
    "while saisie != \"stop\":\n",
    "    saisie = input(\"Donnez moi un entier : \")\n",
    "    if saisie != \"stop\":\n",
    "        nb = int(saisie)\n",
    "        while nb < 0 or nb > 20:\n",
    "            nb = int(input(\"Donnez moi un entier : \"))\n",
    "        nb_nombre_saisi += 1\n",
    "        somme += nb\n",
    "print(\"moyenne = \", somme / nb_nombre_saisi)"
   ]
  },
  {
   "cell_type": "markdown",
   "metadata": {},
   "source": [
    "### Exemple 2 : Dessin d'une rosace, avec le module Turtle :"
   ]
  },
  {
   "cell_type": "code",
   "execution_count": 38,
   "metadata": {},
   "outputs": [
    {
     "name": "stdout",
     "output_type": "stream",
     "text": [
      "compteur =  5 cmpt =  0\n",
      "compteur =  5 cmpt =  1\n",
      "compteur =  5 cmpt =  2\n",
      "compteur =  5 cmpt =  3\n",
      "compteur =  5 cmpt =  4\n",
      "compteur =  5 cmpt =  5\n",
      "compteur =  5 cmpt =  6\n",
      "compteur =  5 cmpt =  7\n",
      "compteur =  5 cmpt =  8\n",
      "compteur =  5 cmpt =  9\n"
     ]
    }
   ],
   "source": [
    "\"\"\"\n",
    "Tracé de rosaces régulières.\n",
    "\"\"\"\n",
    "# On importe les fonctions du module turtle\n",
    "import turtle\n",
    "\n",
    "# Paramètres\n",
    "speed(0)\n",
    "\n",
    "# Initialisation des paramètres\n",
    "nb_cotes = 6\n",
    "lg_cote = 50\n",
    "nb_petales = 12\n",
    "angle_rosace = 360 / nb_petales\n",
    "\n",
    "# Tracé\n",
    "for cmpt in range(nb_petales):\n",
    "    # Dessin d'un polygone\n",
    "    for compteur in range(nb_cotes):\n",
    "        turtle.forward(lg_cote) # Tracer un côté\n",
    "        turtle.left(angle_rosace) # Tourner à gauche\n",
    "    print(\"compteur = \", compteur, \"cmpt = \", cmpt)\n",
    "    # Rotation de la tortue pour modifier l'angle de départ\n",
    "    left(360 / nb_petales)\n",
    "\n",
    "turtle.exitonclick() # Sortie par click de souris "
   ]
  },
  {
   "cell_type": "markdown",
   "metadata": {},
   "source": [
    "### Vérifier vos connaissances\n",
    "\n",
    "A ce stade, vous devriez être capable :\n",
    "* d'identifier les situations où l'on a besoin de boucles imbriquées ;\n",
    "* d'écrire correctement des boucles imbriquées."
   ]
  },
  {
   "cell_type": "markdown",
   "metadata": {},
   "source": [
    "#### Exercice 11 :\n",
    "\n",
    "Écrire un programme qui affiche toutes les tables de multiplications de `1` à `10`."
   ]
  }
 ],
 "metadata": {
  "kernelspec": {
   "display_name": "Python 3",
   "language": "python",
   "name": "python3"
  },
  "language_info": {
   "codemirror_mode": {
    "name": "ipython",
    "version": 3
   },
   "file_extension": ".py",
   "mimetype": "text/x-python",
   "name": "python",
   "nbconvert_exporter": "python",
   "pygments_lexer": "ipython3",
   "version": "3.7.4"
  }
 },
 "nbformat": 4,
 "nbformat_minor": 2
}
