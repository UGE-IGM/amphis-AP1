{
 "cells": [
  {
   "cell_type": "markdown",
   "metadata": {},
   "source": [
    "<div>\n",
    "<div style='float:left; margin-right:40pt; width:6cm'><img src='img/UPEM-IGM-V1_300dpi.png'></div>\n",
    "<div style='float:right; font-size:large; text-align:right'><strong>Algorithmique et programmation 1</strong><br>\n",
    "L1 Mathématiques - L1 Informatique<br>\n",
    "Semestre 1\n",
    "</div>\n",
    "</div>"
   ]
  },
  {
   "cell_type": "markdown",
   "metadata": {},
   "source": [
    "# Chapitre 3 : Instructions Répétitives - Compléments"
   ]
  },
  {
   "cell_type": "markdown",
   "metadata": {},
   "source": [
    "Dans ce chapitre vous allez apprendre à :\n",
    "* quitter une boucle sans que la condition d'arrêt implicite soit atteinte ;\n",
    "* éviter que certaines itérations ne soient réalisées.\n",
    "\n",
    "**Remarque :** Ces compléments sur les boucles sont destinés à des **programmeurs avertis** !!!"
   ]
  },
  {
   "cell_type": "markdown",
   "metadata": {},
   "source": [
    "## Sortie impérative de boucles : `break` et `continue`\n",
    "\n",
    "Nous allons voir dans cette partie deux instructions `break` et `continue`. Cependant, ces instructions sont reservées aux programmeurs confirmés, qui ont bien compris la notion de boucle. Autrement dit :\n",
    "\n",
    "<center>**vous devez utiliser break et continue avec prudence.**</center>\n",
    "\n",
    "En effet, trop de clauses `break` et `continue` produiront une boucle avec de nombreux points de sortie et rendront le programme difficile à lire."
   ]
  },
  {
   "cell_type": "markdown",
   "metadata": {},
   "source": [
    "### 1) Instruction `break`\n",
    "\n",
    "On peut sortir prématurément d’une boucle `while`\n",
    "- Instruction `break` dans le corps (en général dans une conditionnelle)\n",
    "- Force une sortie de boucle et passe directement à la suite du programme\n",
    "- On ne réévalue pas la condition du `while`\n",
    "  \n",
    "<img src='img/while3.png' width='30%'>"
   ]
  },
  {
   "cell_type": "markdown",
   "metadata": {},
   "source": [
    "**Exemple 1 :** Une saisie contrôlée en évitant la duplication de l'instruction `input`"
   ]
  },
  {
   "cell_type": "code",
   "execution_count": 1,
   "metadata": {},
   "outputs": [
    {
     "name": "stdout",
     "output_type": "stream",
     "text": [
      "Note du premier contrôle : -2\n",
      "Erreur de saisie.\n",
      "Note du premier contrôle : 12\n"
     ]
    }
   ],
   "source": [
    "while True:\n",
    "    note_cc1 = float(input('Note du premier contrôle : '))\n",
    "    \n",
    "    # Si la saisie est correcte, on termine la boucle\n",
    "    if 0 <= note_cc1 <= 20:\n",
    "        break\n",
    "    \n",
    "    print('Erreur de saisie.')"
   ]
  },
  {
   "cell_type": "markdown",
   "metadata": {},
   "source": [
    "**Exemple 2 : ** Une première méthode pour savoir si un nombre est premier\n",
    "\n",
    "Un nombre `N` est dit **premier** lorsqu'il possède exactement deux diviseurs, `1` et `N`.\n",
    "\n",
    "Par exemple, `2`, `3`, `5`, `7`, `11`, `13`, `17`, `19` sont des nombres premiers. Par contre, `1` n'est pas premier car il n'admet qu'un seul diviseur : `1`..."
   ]
  },
  {
   "cell_type": "markdown",
   "metadata": {},
   "source": [
    "Pour tester si un nombre est premier, a priori, il faut chercher ses diviseurs pamis *tous les nombres compris entre *`2` *et* `n - 1`. Mais, on peut faire mieux : \n",
    "\n",
    "\n",
    "<p style=\"text-align:center\";>*ne chercher les diviseurs que parmi les nombre `2` et `rce(n)` où `rce(n)`désigne la racine carrée entière de `n`.\n",
    "\n",
    "\n",
    "\n",
    "<img src='img/Ampoule.png' width='50px' style='display:inline'>\n",
    "En effet, si `n = pq`, avec `p` et `q` différent de `1`, alors nécessairement `p * p < n` ou `q * q < n`.\n",
    "Sinon, on aurait `p * p > n` et `q * q > n`, d'où `n * n = p * q * p * q = p * p * q * q > n * n`..."
   ]
  },
  {
   "cell_type": "code",
   "execution_count": 2,
   "metadata": {},
   "outputs": [
    {
     "name": "stdout",
     "output_type": "stream",
     "text": [
      "Donnez moi un nombre : 197\n",
      "197 est un nombre premier\n"
     ]
    }
   ],
   "source": [
    "n = int(input(\"Donnez moi un nombre : \"))\n",
    "\n",
    "#Calcul de la racine entière\n",
    "rce_plus_1 = 1\n",
    "while rce_plus_1 * rce_plus_1 <= n:\n",
    "    rce_plus_1 += 1\n",
    "#Recherche des diviseurs\n",
    "premier = False\n",
    "for div in range(rce_plus_1):\n",
    "    if div != 0 and div != 1 and n % div == 0: #Teste si div >= 2 est bien un diviseur de n\n",
    "        print(n, \"est divisible par\", div)\n",
    "        premier = True\n",
    "        break #On a trouvé un diviseur, donc n n'est pas premier : on s'arrete, car on a la reponse.\n",
    "if not premier:\n",
    "    print(n, \"est un nombre premier\")"
   ]
  },
  {
   "cell_type": "markdown",
   "metadata": {},
   "source": [
    "### 2) Instruction `continue`"
   ]
  },
  {
   "cell_type": "markdown",
   "metadata": {},
   "source": [
    "Au cours d'une boucle, on peut passer prématurément à l’itération suivante grâce à l'instruction `continue`. En tête du corps de la boucle :\n",
    "- on teste si l'on est dans certains cas problèmatiques pour le traitement désiré ; dans ce cas, l'instruction `continue` permet de passer à l'itération suivante.\n",
    "- si l'on n'est pas dans un cas problèmatique, on évalue le reste du corps de la boucle."
   ]
  },
  {
   "cell_type": "code",
   "execution_count": 3,
   "metadata": {},
   "outputs": [
    {
     "name": "stdout",
     "output_type": "stream",
     "text": [
      "1\n",
      "2\n",
      "3\n",
      "4\n",
      "6\n",
      "7\n",
      "8\n",
      "9\n",
      "11\n"
     ]
    }
   ],
   "source": [
    "for i in range(12):\n",
    "    if i % 5 == 0:\n",
    "        continue\n",
    "    print(i)"
   ]
  },
  {
   "cell_type": "markdown",
   "metadata": {},
   "source": [
    "**Remarques :** On peut **toujours** se passer de l'instruction `continue`, en utilisant des conditionnelles. Simplement, dans des programmes de grandes envergures, cela peut coûter cher en temps d'exécution ou créer beaucoup d'indentation (ce qui rends le programme moins lisible)"
   ]
  },
  {
   "cell_type": "code",
   "execution_count": 4,
   "metadata": {},
   "outputs": [
    {
     "name": "stdout",
     "output_type": "stream",
     "text": [
      "1\n",
      "2\n",
      "3\n",
      "4\n",
      "6\n",
      "7\n",
      "8\n",
      "9\n",
      "11\n"
     ]
    }
   ],
   "source": [
    "for i in range(12):\n",
    "    if i % 5 != 0:\n",
    "        print(i)"
   ]
  }
 ],
 "metadata": {
  "kernelspec": {
   "display_name": "Python 3",
   "language": "python",
   "name": "python3"
  },
  "language_info": {
   "codemirror_mode": {
    "name": "ipython",
    "version": 3
   },
   "file_extension": ".py",
   "mimetype": "text/x-python",
   "name": "python",
   "nbconvert_exporter": "python",
   "pygments_lexer": "ipython3",
   "version": "3.6.5"
  }
 },
 "nbformat": 4,
 "nbformat_minor": 2
}
