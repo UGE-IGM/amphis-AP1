{
 "cells": [
  {
   "cell_type": "markdown",
   "metadata": {
    "slideshow": {
     "slide_type": "slide"
    }
   },
   "source": [
    "<div style='float:center; margin-right:20pt; width:30em'><img src='../img/logo-igm.png'></div>\n",
    "<div style='float:center; font-size:large'>\n",
    "    <strong>Algorithmique et programmation 1</strong><br>\n",
    "    L1 Mathématiques - L1 Informatique<br>\n",
    "    Semestre 1\n",
    "</div>"
   ]
  },
  {
   "cell_type": "markdown",
   "metadata": {
    "slideshow": {
     "slide_type": "-"
    }
   },
   "source": [
    "# Chapitre 3 : Répétition avec `while`"
   ]
  },
  {
   "cell_type": "markdown",
   "metadata": {
    "slideshow": {
     "slide_type": "slide"
    }
   },
   "source": [
    "## Introduction : quelques exemples"
   ]
  },
  {
   "cell_type": "markdown",
   "metadata": {
    "slideshow": {
     "slide_type": "slide"
    }
   },
   "source": [
    "### Exemple : Compter de 1 à 100"
   ]
  },
  {
   "cell_type": "code",
   "execution_count": null,
   "metadata": {
    "scrolled": true,
    "slideshow": {
     "slide_type": "-"
    }
   },
   "outputs": [],
   "source": [
    "# à corriger !\n",
    "i = 0\n",
    "while i < 100:\n",
    "    print(i+1, end=\" \")\n",
    "    i = i + 1  # ou bien : i += 1"
   ]
  },
  {
   "cell_type": "markdown",
   "metadata": {
    "slideshow": {
     "slide_type": "subslide"
    }
   },
   "source": [
    "#### Exercice\n",
    "\n",
    "1. Compter de 1 à 100 par pas de 2, de 3...\n",
    "1. Compter 100 à 1 par pas de -1, de -2...\n",
    "1. Compter de `a` à `b` par pas de `c` pour `a`, `b` et `c` trois entiers quelconques. Dans quels cas a-t-on des problèmes ?"
   ]
  },
  {
   "cell_type": "code",
   "execution_count": null,
   "metadata": {
    "scrolled": true,
    "slideshow": {
     "slide_type": "-"
    }
   },
   "outputs": [],
   "source": [
    "i = 1\n",
    "pas = 4\n",
    "while i <= 100:\n",
    "    print(i, end=\" \")\n",
    "    i = i + pas  # ou bien : i += 1"
   ]
  },
  {
   "cell_type": "code",
   "execution_count": null,
   "metadata": {
    "scrolled": true,
    "slideshow": {
     "slide_type": "-"
    }
   },
   "outputs": [],
   "source": [
    "i = 100\n",
    "pas = -4\n",
    "while i > 0:\n",
    "    print(i, end=\" \")\n",
    "    i = i + pas  # ou bien : i += 1"
   ]
  },
  {
   "cell_type": "code",
   "execution_count": null,
   "metadata": {
    "scrolled": true,
    "slideshow": {
     "slide_type": "-"
    }
   },
   "outputs": [],
   "source": [
    "a, b, c = 27, 42, 2\n",
    "i = a\n",
    "pas = c\n",
    "while i <= b:\n",
    "    print(i, end=\" \")\n",
    "    i = i + pas  # ou bien : i += 1"
   ]
  },
  {
   "cell_type": "markdown",
   "metadata": {
    "slideshow": {
     "slide_type": "slide"
    }
   },
   "source": [
    "### Exemple : Dessiner un polygone\n",
    "\n",
    "*Démo avec Thonny*"
   ]
  },
  {
   "cell_type": "markdown",
   "metadata": {
    "slideshow": {
     "slide_type": "slide"
    }
   },
   "source": [
    "### Exemple : Tirer à pile ou face"
   ]
  },
  {
   "cell_type": "code",
   "execution_count": null,
   "metadata": {
    "slideshow": {
     "slide_type": "-"
    }
   },
   "outputs": [],
   "source": [
    "from random import randint\n",
    "\n",
    "lancer = randint(0, 1)\n",
    "if lancer == 0:\n",
    "    print(\"résultat obtenu : pile\")\n",
    "else:\n",
    "    print(\"résultat obtenu : face\")"
   ]
  },
  {
   "cell_type": "markdown",
   "metadata": {
    "slideshow": {
     "slide_type": "subslide"
    }
   },
   "source": [
    "#### Exercice\n",
    "\n",
    "1. Simuler le lancer de 10 000 pièces et calculer la proportion de \"pile\" obtenue\n",
    "1. Simuler le lancer d'une pièce jusqu'à la première \"face\" obtenue, et afficher le nombre de lancers effectués"
   ]
  },
  {
   "cell_type": "code",
   "execution_count": null,
   "metadata": {},
   "outputs": [],
   "source": [
    "nb_lancers = 1e6\n",
    "\n",
    "i = 1\n",
    "pile = 0\n",
    "while i <= nb_lancers :\n",
    "    lancer = randint(0, 1)\n",
    "    if lancer == 0:\n",
    "        pile += 1\n",
    "    i += 1\n",
    "print(pile/nb_lancers)"
   ]
  },
  {
   "cell_type": "markdown",
   "metadata": {
    "slideshow": {
     "slide_type": "slide"
    }
   },
   "source": [
    "### Exemple : Jouer à pierre-feuille-ciseau"
   ]
  },
  {
   "cell_type": "code",
   "execution_count": null,
   "metadata": {
    "slideshow": {
     "slide_type": "-"
    }
   },
   "outputs": [],
   "source": [
    "from random import randint\n",
    "\n",
    "coup_humain = int(input(\"Pierre (1), feuille (2) ou ciseaux (3) ? \"))\n",
    "\n",
    "coup_ordi = randint(1, 3)\n",
    "if coup_ordi == 1:\n",
    "    print(\"L'ordinateur a joué pierre.\")\n",
    "elif coup_ordi == 2:\n",
    "    print(\"L'ordinateur a joué feuille.\")\n",
    "else:\n",
    "    print(\"L'ordinateur a joué ciseaux.\")\n",
    "\n",
    "if coup_ordi == coup_humain:\n",
    "    print(\"Égalité.\")\n",
    "elif coup_humain == (coup_ordi + 1) % 3:\n",
    "    print(\"Vous avez gagné.\")\n",
    "else:\n",
    "    print(\"Vous avez perdu.\")"
   ]
  },
  {
   "cell_type": "markdown",
   "metadata": {
    "slideshow": {
     "slide_type": "subslide"
    }
   },
   "source": [
    "#### Exercice\n",
    "\n",
    "1. Expliquer la ligne 15\n",
    "1. Expliquer ce qu'il se passe si l'humain entre 4.\n",
    "1. Proposer de rejouer une partie\n",
    "1. Afficher le nombre de parties jouées et le score final"
   ]
  },
  {
   "cell_type": "markdown",
   "metadata": {
    "slideshow": {
     "slide_type": "slide"
    }
   },
   "source": [
    "### Exemple : Dessiner une rosace avec des polygones\n",
    "\n",
    "*Démo avec Thonny*"
   ]
  },
  {
   "cell_type": "markdown",
   "metadata": {
    "slideshow": {
     "slide_type": "slide"
    }
   },
   "source": [
    "## Répétition simple\n",
    "\n",
    "On peut répéter un bloc d'instructions grâce à une boucle « tant que » ou boucle `while`.\n",
    "\n",
    "- **Si** une certaine condition est vraie,\n",
    "  on va exécuter un certain bloc d'instructions ;\n",
    "- **Sinon**, on va passer directement à la suite du programme ;\n",
    "- Après chaque exécution du bloc, on réévalue la condition."
   ]
  },
  {
   "cell_type": "markdown",
   "metadata": {
    "slideshow": {
     "slide_type": "subslide"
    }
   },
   "source": [
    "**Vocabulaire :**\n",
    "\n",
    "- L'expression booléenne `condition` est appelée **condition de continuation**.\n",
    "- Sa négation (`not condition`) est appelée **condition d'arrêt**.\n",
    "- Le bloc d'instructions est appelé **corps de la boucle**.\n",
    "- Chaque exécution du corps de la boucle est appelée **itération**."
   ]
  },
  {
   "cell_type": "markdown",
   "metadata": {
    "slideshow": {
     "slide_type": "subslide"
    }
   },
   "source": [
    "<img src='img/while1.png' width='30%'>"
   ]
  },
  {
   "cell_type": "markdown",
   "metadata": {
    "slideshow": {
     "slide_type": "subslide"
    }
   },
   "source": [
    "**Syntaxe :**\n",
    "\n",
    "```python\n",
    "# début\n",
    "while condition:\n",
    "    # bloc d'instructions\n",
    "    # (corps de la boucle)\n",
    "# suite\n",
    "```"
   ]
  },
  {
   "cell_type": "markdown",
   "metadata": {
    "slideshow": {
     "slide_type": "subslide"
    }
   },
   "source": [
    "- `condition` est une **expression booléenne**\n",
    "- corps exécuté uniquement si `condition` s'évalue à `True`\n",
    "- après chaque exécution du corps, on réévalue `condition`\n",
    "    - si `condition` s'évalue à `False`, sortie de la boucle\n",
    "    - sinon, nouvelle **itération**\n",
    "\n",
    "Il peut n'y avoir aucune itération, ou un nombre infini !"
   ]
  },
  {
   "cell_type": "markdown",
   "metadata": {
    "slideshow": {
     "slide_type": "slide"
    }
   },
   "source": [
    "## Outil d'analyse : tableau de valeurs\n",
    "\n",
    "Utile pour exécuter manuellement une boucle\n",
    "\n",
    "- Une colonne pour indiquer le numéro de la dernière ligne du programme exécutée\n",
    "- Une colonne pour indiquer le nombre d'itérations exécutées\n",
    "- Une colonne par variable \"intéressante\"\n",
    "- Une colonne pour la condition de continuation\n",
    "- Éventuellement des colonnes explicatives supplémentaires\n",
    "\n",
    "On remplit le tableau au moins pour **la ligne précédant la boucle** et pour **la dernière ligne du corps**"
   ]
  },
  {
   "cell_type": "markdown",
   "metadata": {
    "slideshow": {
     "slide_type": "slide"
    }
   },
   "source": [
    "### Exemple : Calculer $a^p$\n",
    "\n",
    "On veut calculer $2^n$ (sans utiliser `**`).\n",
    "\n",
    "Algorithme naïf : on remarque que $2^n = 2^{n-1} \\times 2 = 1 \\times 2 \\times 2 \\times \\cdots \\times 2$\n",
    "\n",
    "1. on commence par fixer le résultat à 1\n",
    "2. on multiplie le résultat par 2 `n` fois"
   ]
  },
  {
   "cell_type": "code",
   "execution_count": null,
   "metadata": {
    "scrolled": true,
    "slideshow": {
     "slide_type": "subslide"
    }
   },
   "outputs": [],
   "source": [
    "a = 2\n",
    "p = 4\n",
    "res = 1  # pourquoi ?\n",
    "i = 0\n",
    "while i < p:\n",
    "    res *= a\n",
    "    i += 1\n",
    "print(a, \"puissance\", p, \"égale\", res)"
   ]
  },
  {
   "cell_type": "markdown",
   "metadata": {
    "slideshow": {
     "slide_type": "subslide"
    }
   },
   "source": [
    "ligne  | itération | `a` | `p` | `res` |  `i` | `i < p` | commentaire\n",
    "-------|-----------|-----|-----|-------|------|---------|-----------------------------\n",
    "1      |           | 2   |     |       |      |         |\n",
    "2      |           | -   | 4   |       |      |         |\n",
    "3      |           | -   | -   | 1     |      |         |\n",
    "4      |           | -   | -   | -     | 0    | `True`  | \n",
    "5      |           | -   | -   | -     | -    | `True`  | condition vraie, on entre\n",
    "6      | 1         | -   | -   | 2     | -    | `True`  | \n",
    "7      | 1         | -   | -   | -     | 1    | `True`  | fin de la 1e itération\n",
    "5      |           | -   | -   | -     | -    | `True`  | condition vraie, on continue\n",
    "6      | 2         | -   | -   | 4     | -    | `True`  | \n",
    "7      | 2         | -   | -   | -     | 2    | `True`  | fin de la 2e itération\n",
    "5      |           | -   | -   | -     | -    | `True`  | condition vraie, on continue\n",
    "6      | 3         | -   | -   | 8     | -    | `True`  | \n",
    "7      | 3         | -   | -   | -     | 3    | `True`  | fin de la 3e itération\n",
    "5      |           | -   | -   | -     | -    | `True`  | condition vraie, on continue\n",
    "6      | 4         | -   | -   | 16    | -    | `True`  | \n",
    "7      | 4         | -   | -   | -     | 4    | `False` | fin de la 4e itération\n",
    "5      |           | -   | -   | -     | -    | `False` | condition fausse, on arrête\n",
    "8      |           | -   | -   | -     | -    | `False` | suite du programme"
   ]
  },
  {
   "cell_type": "markdown",
   "metadata": {
    "slideshow": {
     "slide_type": "subslide"
    }
   },
   "source": [
    "**Remarques :**\n",
    "- après la ligne 4 et chaque exécution de la ligne 7 on a `res == a**i`\n",
    "- `i` se rapproche de `p` à chaque tour sans le dépasser"
   ]
  },
  {
   "cell_type": "markdown",
   "metadata": {
    "slideshow": {
     "slide_type": "subslide"
    }
   },
   "source": [
    "Version \"compacte\" sans regarder toutes les lignes ni les variables qui ne changent pas :\n",
    "\n",
    "ligne  | itération | `res` |  `i` | `i < p` | commentaire\n",
    "-------|-----------|-------|------|---------|-----------------------------\n",
    "4      |           | 1     | 0    | `True`  | juste avant la première itération\n",
    "7      | 1         | 2     | 1    | `True`  | à la fin de la 1e itération\n",
    "7      | 2         | 4     | 2    | `True`  | à la fin de la 2e itération\n",
    "7      | 3         | 8     | 3    | `True`  | à la fin de la 3e itération\n",
    "7      | 4         | 16    | 4    | `False` | à la fin de la 4e itération (sortie)"
   ]
  },
  {
   "cell_type": "markdown",
   "metadata": {
    "slideshow": {
     "slide_type": "subslide"
    }
   },
   "source": [
    "**Remarques :**\n",
    "- pendant tout le programme `a` vaut `2` et `p` vaut `4`\n",
    "- après la ligne 4 et chaque exécution de la ligne 7 on a `res == a**i`\n",
    "- `i` se rapproche de `p` à chaque tour sans le dépasser\n",
    "- à la fin de la dernière itération `i == p` et donc `res == a**p`"
   ]
  },
  {
   "cell_type": "markdown",
   "metadata": {
    "slideshow": {
     "slide_type": "subslide"
    }
   },
   "source": [
    "#### Variante"
   ]
  },
  {
   "cell_type": "code",
   "execution_count": null,
   "metadata": {
    "scrolled": true,
    "slideshow": {
     "slide_type": "-"
    }
   },
   "outputs": [],
   "source": [
    "a = 2\n",
    "p = 4\n",
    "res = 1\n",
    "i = p  # changement !\n",
    "while i > 0:  # changement !\n",
    "    res *= a\n",
    "    i -= 1  # changement !\n",
    "print(a, \"puissance\", p, \"égale\", res)"
   ]
  },
  {
   "cell_type": "markdown",
   "metadata": {
    "slideshow": {
     "slide_type": "subslide"
    }
   },
   "source": [
    "Tableau de valeurs compact :\n",
    "\n",
    "ligne  | itération | res  |  i   | i > 0   | commentaire\n",
    "-------|-----------|------|------|---------|-----------------------------\n",
    "4      |           | 1    | 4    | `True`  | avant la première itération\n",
    "7      | 1         | 2    | 3    | `True`  |\n",
    "7      | 2         | 4    | 2    | `True`  |\n",
    "7      | 3         | 8    | 1    | `True`  |\n",
    "7      | 4         | 16   | 0    | `False` | sortie de la boucle"
   ]
  },
  {
   "cell_type": "markdown",
   "metadata": {
    "slideshow": {
     "slide_type": "subslide"
    }
   },
   "source": [
    "**Remarques :**\n",
    "- pendant tout le programme `a` vaut `2` et `p` vaut `4`\n",
    "- après la ligne 4 et chaque exécution de la ligne 7 on a `res == a**(p-i)`\n",
    "- la valeur de `i` est positive au début et décroît strictement\n",
    "- à la fin de la dernière itération `i == 0` et donc `res == a**(p-0) == a**p`"
   ]
  },
  {
   "cell_type": "markdown",
   "metadata": {
    "slideshow": {
     "slide_type": "slide"
    }
   },
   "source": [
    "## Terminaison et correction d'une boucle\n",
    "\n",
    "En général rien ne garantit :\n",
    "\n",
    "- qu'une boucle `while` va se terminer un jour\n",
    "\n",
    "    ```python\n",
    "    while(True):\n",
    "        print(\"spam\")\n",
    "    ```\n",
    "    \n",
    "- ni qu'elle produit le bon effet\n",
    "\n",
    "Pour cela il faut en général faire des **preuves**"
   ]
  },
  {
   "cell_type": "markdown",
   "metadata": {
    "slideshow": {
     "slide_type": "subslide"
    }
   },
   "source": [
    "### Preuve de terminaison : variant\n",
    "\n",
    "Méthode possible pour montrer qu'une boucle termine\n",
    "\n",
    "- montrer qu'une certaine quantité décroît strictement à chaque tour de boucle\n",
    "- montrer qu'elle ne peut pas décroître indéfiniment\n",
    "\n",
    "On appelle une telle quantité **variant de boucle**, son existence garantit la terminaison"
   ]
  },
  {
   "cell_type": "markdown",
   "metadata": {
    "slideshow": {
     "slide_type": "subslide"
    }
   },
   "source": [
    "#### Exemple : algorithme d'Euclide\n",
    "\n",
    "Algorithme de l'antiquité permettant de déterminer le PGCD de deux nombres entiers"
   ]
  },
  {
   "cell_type": "code",
   "execution_count": null,
   "metadata": {
    "slideshow": {
     "slide_type": "-"
    }
   },
   "outputs": [],
   "source": [
    "a0, b0 = 129, 36  # entiers positifs quelconques\n",
    "\n",
    "a, b = a0, b0\n",
    "while b > 0:\n",
    "    r = a % b\n",
    "    a = b\n",
    "    b = r\n",
    "\n",
    "print(\"le pgcd de\", a0, \"et\", b0, \"est\", a)"
   ]
  },
  {
   "cell_type": "markdown",
   "metadata": {
    "slideshow": {
     "slide_type": "subslide"
    }
   },
   "source": [
    "Pourquoi l'algorithme termine-t-il ?\n",
    "\n",
    "- on peut choisir comme variant la **valeur de `b`**\n",
    "- initialement, `b > 0`\n",
    "- la boucle ne s'exécute pas si `b <= 0`\n",
    "- la valeur de `b` décroît strictement\n",
    "\n",
    "Comme il ne peut exister de suite infinie strictement décroissante d'entiers positifs, la boucle termine"
   ]
  },
  {
   "cell_type": "markdown",
   "metadata": {
    "slideshow": {
     "slide_type": "subslide"
    }
   },
   "source": [
    "On peut repérer le variant dans le **tableau de valeurs**\n",
    "\n",
    "ligne  | itération | `a` | `b` | `a % b` | commentaire\n",
    "-------|-----------|-----|-----|---------|------------------------\n",
    "3      |           | 129 | 36  | 21      | avant la boucle\n",
    "7      | 1         | 36  | 21  | 15      | fin de 1e itération\n",
    "7      | 2         | 21  | 15  | 6       | ...\n",
    "7      | 3         | 16  | 6   | 3       |\n",
    "7      | 4         | 6   | 3   | 0       | \n",
    "7      | 5         | 3   | 0   | -       | on va sortir de la boucle"
   ]
  },
  {
   "cell_type": "markdown",
   "metadata": {
    "slideshow": {
     "slide_type": "-"
    }
   },
   "source": [
    "**Variant :** la valeur de `b` est positive au début et décroît strictement"
   ]
  },
  {
   "cell_type": "markdown",
   "metadata": {
    "slideshow": {
     "slide_type": "slide"
    }
   },
   "source": [
    "### Preuve de correction : invariant\n",
    "\n",
    "Méthode possible pour montrer qu'une boucle produit le bon effet :\n",
    "\n",
    "- montrer qu'une certaine propriété $I$ est vraie avant l'entrée dans la boucle\n",
    "- montrer que **si** $I$ est vraie au début du corps **alors** elle est encore vraie à la fin\n",
    "- en déduire que $I$ est vraie à la sortie de la boucle\n",
    "\n",
    "On appelle une telle propriété **invariant**, son existence peut permettre de garantir la correction"
   ]
  },
  {
   "cell_type": "markdown",
   "metadata": {
    "slideshow": {
     "slide_type": "slide"
    }
   },
   "source": [
    "#### Exemple : retour sur le calcul de puissance\n",
    "\n"
   ]
  },
  {
   "cell_type": "code",
   "execution_count": null,
   "metadata": {
    "scrolled": true,
    "slideshow": {
     "slide_type": "subslide"
    }
   },
   "outputs": [],
   "source": [
    "a = 2\n",
    "p = 4\n",
    "res = 1\n",
    "i = 0\n",
    "while i < p:\n",
    "    res *= a\n",
    "    i += 1\n",
    "print(a, \"puissance\", p, \"égale\", res)"
   ]
  },
  {
   "cell_type": "markdown",
   "metadata": {
    "slideshow": {
     "slide_type": "subslide"
    }
   },
   "source": [
    "ligne  | itération | `res` |  `i` | `i < p` | commentaire\n",
    "-------|-----------|-------|------|---------|-----------------------------\n",
    "4      |           | 1     | 0    | `True`  | juste avant la première itération\n",
    "7      | 1         | 2     | 1    | `True`  | à la fin de la 1e itération\n",
    "7      | 2         | 4     | 2    | `True`  | à la fin de la 2e itération\n",
    "7      | 3         | 8     | 3    | `True`  | à la fin de la 3e itération\n",
    "7      | 4         | 16    | 4    | `False` | à la fin de la 4e itération (sortie)"
   ]
  },
  {
   "cell_type": "markdown",
   "metadata": {
    "slideshow": {
     "slide_type": "subslide"
    }
   },
   "source": [
    "**Remarques :**\n",
    "- **Variant :** `n - i` décroît de 1 à chaque tour et la boucle s'arrête quand il atteint `0`\n",
    "- **Invariant :** après la ligne 4 et chaque exécution de la ligne 7 on a `res == a**i`\n",
    "- **En sortie de boucle :** `i == p` et donc `res == a**p`"
   ]
  },
  {
   "cell_type": "markdown",
   "metadata": {
    "slideshow": {
     "slide_type": "subslide"
    }
   },
   "source": [
    "#### Variante"
   ]
  },
  {
   "cell_type": "code",
   "execution_count": null,
   "metadata": {
    "scrolled": true,
    "slideshow": {
     "slide_type": "-"
    }
   },
   "outputs": [],
   "source": [
    "a = 2\n",
    "p = 4\n",
    "res = 1\n",
    "i = p\n",
    "while i > 0:\n",
    "    res *= a\n",
    "    i -= 1\n",
    "print(a, \"puissance\", p, \"égale\", res)"
   ]
  },
  {
   "cell_type": "markdown",
   "metadata": {
    "slideshow": {
     "slide_type": "subslide"
    }
   },
   "source": [
    "ligne  | itération | `res` | `i`  | `i > 0` | commentaire\n",
    "-------|-----------|-------|------|---------|-----------------------------\n",
    "4      |           | 1     | 4    | `True`  | avant la première itération\n",
    "7      | 1         | 2     | 3    | `True`  |\n",
    "7      | 2         | 4     | 2    | `True`  |\n",
    "7      | 3         | 8     | 1    | `True`  |\n",
    "7      | 4         | 16    | 0    | `False` | sortie de la boucle"
   ]
  },
  {
   "cell_type": "markdown",
   "metadata": {
    "slideshow": {
     "slide_type": "subslide"
    }
   },
   "source": [
    "**Remarques :**\n",
    "- **Variant :** `i` décroît de 1 à chaque tour et la boucle s'arrête quand il atteint 0\n",
    "- **Invariant :** après la ligne 4 et chaque exécution de la ligne 7 on a `res == a**(p-i)`\n",
    "- **En sortie de boucle :** `i == 0` et donc `res == a**(p-0) == a**p`"
   ]
  },
  {
   "cell_type": "markdown",
   "metadata": {
    "slideshow": {
     "slide_type": "slide"
    }
   },
   "source": [
    "#### Exemple : encadrer un nombre\n",
    "\n",
    "On veut encadrer un nombre positif $n$ entre deux puissances successives d'un nombre $b$. On cherche l'unique entier $k$ tel que :\n",
    "\n",
    "$$\n",
    "b^k \\leq n < b^{k+1}\n",
    "$$\n",
    "\n",
    "On appelle parfois $k$ le *logarithme entier* de $n$ en base $b$, parce que\n",
    "\n",
    "$$\n",
    "k \\leq \\log_b n < k+1\n",
    "$$"
   ]
  },
  {
   "cell_type": "markdown",
   "metadata": {
    "slideshow": {
     "slide_type": "subslide"
    }
   },
   "source": [
    "Par exemple :\n",
    "\n",
    "- pour $b = 10$ on a $10^3 \\leq 1024 < 10^4$, donc $k = 3$.\n",
    "- pour $b = 2$ on a $2^{10} \\leq 1024 < 2^{11}$, donc $k = 10$."
   ]
  },
  {
   "cell_type": "code",
   "execution_count": null,
   "metadata": {
    "slideshow": {
     "slide_type": "subslide"
    }
   },
   "outputs": [],
   "source": [
    "n = 1000  # le nombre à encadrer\n",
    "b = 10    # base de la puissance\n",
    "exp = 0   # exposant courant\n",
    "temp = 1  # valeurs successives de b**exp\n",
    "while temp <= n:\n",
    "    temp *= b\n",
    "    exp += 1\n",
    "print(\"le plus petit k tel que\", b, \"à la puissance k \" \n",
    "      \"est inférieur ou égal à\", n, \"est\", exp-1)  # compléter"
   ]
  },
  {
   "cell_type": "markdown",
   "metadata": {
    "slideshow": {
     "slide_type": "subslide"
    }
   },
   "source": [
    "ligne  | temp  | exp  | temp < n | commentaire\n",
    "-------|-------|------|----------|-----------------------------\n",
    "4      | 1     | 0    | `True`   | avant la première itération\n",
    "7      | 10    | 1    | `True`   |\n",
    "7      | 100   | 2    | `True`   |\n",
    "7      | 1000  | 3    | `True`   |\n",
    "7      | 10000 | 4    | `False`  | on sort de la boucle\n",
    "\n",
    "- **Variant :** `n - temp` initialement $\\geq 0$, diminue à chaque tour\n",
    "- **Invariant** (simplifié) lignes 4 et 7 : `temp == 10**exp` et `10**(exp-1) <= n`\n",
    "- **À la fin:** `10**(exp-1) <= n` et `10**exp > n`, autrement dit `10**(exp-1) <= n < 10**exp`"
   ]
  },
  {
   "cell_type": "markdown",
   "metadata": {
    "slideshow": {
     "slide_type": "slide"
    }
   },
   "source": [
    "#### Exemple : convertir un nombre en binaire\n",
    "\n",
    "Le nombre 42 s'écrit `101010` en binaire parce que\n",
    "\n",
    "$$\n",
    "\\begin{align*}\n",
    "42 & = 0 + 2 \\times 21\\\\\n",
    "   & = 0 + 2 \\times (1 + 2 \\times 10))\\\\\n",
    "   & = \\ldots\\\\\n",
    "   & = 0 + 2 \\times (1 + 2 \\times (0 + 2 \\times (1 + 2 \\times (0 + 2 \\times (1 + 2 \\times 0)))))\\\\\n",
    "   & = 0 \\times 2^0 + 1 \\times 2^1 + 0 \\times 2^2 + 1 \\times 2^3 + 0 \\times 2^4 + 1 \\times 2^5\n",
    "\\end{align*}\n",
    "$$"
   ]
  },
  {
   "cell_type": "code",
   "execution_count": null,
   "metadata": {
    "slideshow": {
     "slide_type": "-"
    }
   },
   "outputs": [],
   "source": [
    "bin(42)"
   ]
  },
  {
   "cell_type": "markdown",
   "metadata": {
    "slideshow": {
     "slide_type": "subslide"
    }
   },
   "source": [
    "Algorithme de conversion de $n>0$ en binaire :\n",
    "\n",
    "1. Calculer le quotient $q$ et le reste $r$ de $n$ par 2\n",
    "2. Ajouter $r$ comme nouveau chiffre à **gauche** du résultat\n",
    "3. Poser $n = q$ et recommencer en 1 si $n > 0$"
   ]
  },
  {
   "cell_type": "markdown",
   "metadata": {
    "slideshow": {
     "slide_type": "subslide"
    }
   },
   "source": [
    "Suite de l'exemple :\n",
    "\n",
    "\\begin{align*}\n",
    "& 42 & & = 2 * 21 & & + 0 & & \\rightarrow \\text{chiffre } 0\\\\\n",
    "& 21 & & = 2 * 10 & & + 1 & & \\rightarrow \\text{chiffre } 1\\\\\n",
    "& 10 & & = 2 * 5 & & + 0 & & \\rightarrow \\text{chiffre } 0\\\\\n",
    "& 5 & & = 2 * 2 & & + 1 & & \\rightarrow \\text{chiffre } 1\\\\\n",
    "& 2 & & = 2 * 1 & & + 0 & & \\rightarrow \\text{chiffre } 0\\\\\n",
    "& 1 & & = 2 * 0 & & + 1 & & \\rightarrow \\text{chiffre } 1\\\\\n",
    "\\end{align*}"
   ]
  },
  {
   "cell_type": "code",
   "execution_count": null,
   "metadata": {
    "slideshow": {
     "slide_type": "subslide"
    }
   },
   "outputs": [],
   "source": [
    "n = 42\n",
    "k = n\n",
    "res = \"\"  # on utilise une chaîne\n",
    "while k > 0:\n",
    "    q = k // 2\n",
    "    r = k % 2\n",
    "    res = str(r) + res\n",
    "    k = q\n",
    "print(res)"
   ]
  },
  {
   "cell_type": "markdown",
   "metadata": {
    "slideshow": {
     "slide_type": "subslide"
    }
   },
   "source": [
    "ligne  | itér  | `k`   | `r` | `res`      | $\\texttt{k}\\times2^{\\text{itér}}$ | val. `res` | `k > 0`  | commentaire\n",
    "-------|-------|-------|-----|------------|----------------------------|------------|----------|-----------------------------\n",
    "3      | 0     | 42    |     | `''`       | $42\\times2^0=42$ | 0          | `True`   | avant la première itération\n",
    "8      | 1     | 21    | 0   | `'0'`      | $21\\times2^1=42$        | 0          | `True`   | fin de la 1e itération\n",
    "8      | 2     | 10    | 1   | `'10'`     | $10\\times2^2=40$        | 2          | `True`   |\n",
    "8      | 3     | 5     | 0   | `'010'`    | $5\\times2^3=40$         | 2          | `True`   |\n",
    "8      | 4     | 2     | 1   | `'1010'`   | $2\\times2^4=32$         | 10         | `True`   |\n",
    "8      | 5     | 1     | 0   | `'01010'`  | $1\\times2^5=32$         | 10         | `True`   |\n",
    "8      | 6     | 0     | 1   | `'101010'` | $0\\times2^6=32$         | 42         | `False`  | sortie de la boucle\n",
    "\n",
    "- **Invariant** : `res` contient les (nombre d'itérations) derniers chiffres de la conversion de `n` en binaire  \n",
    "  <div style='color:gray'>$k \\times\\, 2^\\text{(itér)} +$ (valeur de res) $= n$</div>\n",
    "- **Variant :** `n - temp` initialement $\\geq 0$, diminue à chaque tour"
   ]
  },
  {
   "cell_type": "markdown",
   "metadata": {
    "slideshow": {
     "slide_type": "subslide"
    }
   },
   "source": [
    "**Exercice :**\n",
    "- dresser le tableau de valeurs pour $n = 25$\n",
    "- adapter l'algorithme pour convertir $n$ en base 4, puis en base $b < 10$\n",
    "\n",
    "  ref : [Compter comme les Shadoks](https://www.youtube.com/watch?v=lP9PaDs2xgQ)"
   ]
  },
  {
   "cell_type": "markdown",
   "metadata": {
    "slideshow": {
     "slide_type": "subslide"
    }
   },
   "source": [
    "**Exercice :** quel est l'invariant de boucle pour l'algorithme d'Euclide ?"
   ]
  },
  {
   "cell_type": "markdown",
   "metadata": {
    "slideshow": {
     "slide_type": "slide"
    }
   },
   "source": [
    "## Boucles imbriquées"
   ]
  },
  {
   "cell_type": "markdown",
   "metadata": {
    "slideshow": {
     "slide_type": "-"
    }
   },
   "source": [
    "On peut écrire une boucle à l'intérieur d'une autre boucle"
   ]
  },
  {
   "cell_type": "markdown",
   "metadata": {
    "slideshow": {
     "slide_type": "subslide"
    }
   },
   "source": [
    "<img src='img/while2.png' width='40%'>"
   ]
  },
  {
   "cell_type": "markdown",
   "metadata": {
    "slideshow": {
     "slide_type": "subslide"
    }
   },
   "source": [
    "La syntaxe d'une double boucle `while` :\n",
    "```python\n",
    "# début\n",
    "while condition1:\n",
    "    # début corps 1\n",
    "    while condition2:\n",
    "        # corps 2\n",
    "    # fin corps 1\n",
    "# suite\n",
    "```"
   ]
  },
  {
   "cell_type": "markdown",
   "metadata": {},
   "source": [
    "#### Exemple : table d'addition\n",
    "\n",
    "But : afficher toutes les additions de nombres inférieurs à `n`"
   ]
  },
  {
   "cell_type": "code",
   "execution_count": null,
   "metadata": {},
   "outputs": [],
   "source": [
    "n = 3\n",
    "\n",
    "a = 0  # hors de la boucle externe !\n",
    "while a < n:\n",
    "    b = 0  # dans la boucle externe !\n",
    "    while b < n:\n",
    "        print(a, '+', b, '=', a+b)\n",
    "        b += 1  # dans la boucle interne !\n",
    "    a += 1  # dans la boucle externe !"
   ]
  },
  {
   "cell_type": "markdown",
   "metadata": {},
   "source": [
    "**Exercices :** \n",
    "1. afficher toutes les additions `a + b = c` pour `a` entre 0 et `n` et `b` entre 0 et `m`\n",
    "2. essayer d'écrire le programme en utilisant une seule boucle (*non recommandé en temps normal !*)"
   ]
  },
  {
   "cell_type": "markdown",
   "metadata": {
    "slideshow": {
     "slide_type": "slide"
    }
   },
   "source": [
    "#### Exemple : compter jusqu'à 59, dix nombres par ligne "
   ]
  },
  {
   "cell_type": "code",
   "execution_count": null,
   "metadata": {
    "slideshow": {
     "slide_type": "-"
    }
   },
   "outputs": [],
   "source": [
    "# paramètres\n",
    "limite = 60\n",
    "nb_colonnes = 10\n",
    "\n",
    "courant = 0\n",
    "while courant < limite:\n",
    "    colonne = 0\n",
    "    while colonne < nb_colonnes:\n",
    "        print(courant, end = '\\t')\n",
    "        colonne += 1\n",
    "        courant += 1\n",
    "    print()  # affiche un retour à la ligne"
   ]
  },
  {
   "cell_type": "markdown",
   "metadata": {
    "slideshow": {
     "slide_type": "subslide"
    }
   },
   "source": [
    "**Exercice :** (pas si évident) faire en sorte que les nombres successifs apparaissent sur une même colonne"
   ]
  },
  {
   "cell_type": "code",
   "execution_count": null,
   "metadata": {
    "slideshow": {
     "slide_type": "-"
    }
   },
   "outputs": [],
   "source": [
    "# paramètres\n",
    "limite = 37\n",
    "nb_colonnes = 10\n",
    "\n",
    "nb_lignes = limite // nb_colonnes + 1\n",
    "ligne = 0\n",
    "while ligne < nb_lignes:\n",
    "    colonne = 0\n",
    "    courant = ligne\n",
    "    while courant < limite and colonne < nb_colonnes:\n",
    "        print(courant, end = '\\t')\n",
    "        courant += nb_lignes\n",
    "        colonne += 1\n",
    "    ligne += 1\n",
    "    print()  # affiche un retour à la ligne"
   ]
  },
  {
   "cell_type": "markdown",
   "metadata": {
    "slideshow": {
     "slide_type": "slide"
    }
   },
   "source": [
    "## <img src='img/non-exigible.png' width='50px' style='display:inline'> Contrôle de boucle \n",
    "\n",
    "Tout ce qui suit est *non exigible en contrôle*.\n",
    "\n",
    "### Instruction `break`"
   ]
  },
  {
   "cell_type": "markdown",
   "metadata": {
    "slideshow": {
     "slide_type": "-"
    }
   },
   "source": [
    "On peut sortir prématurément d’une boucle `while`\n",
    "- Instruction `break` dans le corps (en général dans une conditionnelle)\n",
    "- Force une sortie de boucle et passe directement à la suite du programme\n",
    "- On ne réévalue pas la condition du `while`\n",
    "  "
   ]
  },
  {
   "cell_type": "markdown",
   "metadata": {
    "slideshow": {
     "slide_type": "subslide"
    }
   },
   "source": [
    "<img src='img/while3.png' width='30%'>"
   ]
  },
  {
   "cell_type": "markdown",
   "metadata": {
    "slideshow": {
     "slide_type": "subslide"
    }
   },
   "source": [
    "**Exemple :** saisie contrôlée sans duplication de l'instruction `input` :"
   ]
  },
  {
   "cell_type": "code",
   "execution_count": null,
   "metadata": {
    "slideshow": {
     "slide_type": "-"
    }
   },
   "outputs": [],
   "source": [
    "while True:\n",
    "    note_cc1 = float(input('Note du premier contrôle : '))\n",
    "    if 0 <= note_cc1 <= 20:\n",
    "        # saisie correcte, on termine la boucle\n",
    "        break\n",
    "    # saisie incorrecte, on recommence\n",
    "    print('Erreur de saisie.')"
   ]
  },
  {
   "cell_type": "markdown",
   "metadata": {
    "slideshow": {
     "slide_type": "slide"
    }
   },
   "source": [
    "### Instruction `continue`"
   ]
  },
  {
   "cell_type": "markdown",
   "metadata": {
    "slideshow": {
     "slide_type": "-"
    }
   },
   "source": [
    "On peut passer prématurément à l’itération suivante\n",
    "- Instruction `continue` dans le corps de la boucle\n",
    "- On retourne directement à la condition, et on la réévalue"
   ]
  },
  {
   "cell_type": "code",
   "execution_count": null,
   "metadata": {
    "slideshow": {
     "slide_type": "subslide"
    }
   },
   "outputs": [],
   "source": [
    "while True:\n",
    "    saisie = input(\"Dis-moi quelque chose : \")\n",
    "    if saisie == \"\":\n",
    "        print(\"Tu n'as rien dit !\")\n",
    "        continue\n",
    "    if saisie == \"je réfléchis\":  # elif inutile ici !\n",
    "        print(\"OK, j'attends...\")\n",
    "        continue\n",
    "    if saisie == \"stop\":  # elif inutile ici !\n",
    "        print(\"D'accord...\")\n",
    "        break\n",
    "    if saisie == \"arrête\":  # elif inutile ici !\n",
    "        print(\"C'est bon, j'ai compris !\")\n",
    "        break\n",
    "    # else inutile ici !\n",
    "    print(\"Ta phrase fait\", len(saisie), \"caractères.\")"
   ]
  },
  {
   "cell_type": "markdown",
   "metadata": {
    "slideshow": {
     "slide_type": "slide"
    }
   },
   "source": [
    "### Remarques sur `break` et `continue`\n",
    "\n",
    "- Ces deux instructions ne sont à utiliser que par des programmeurs confirmés\n",
    "- Elles compliquent en général la compréhension et l'analyse du code\n",
    "- On peut toujours s'en sortir sans (en utilisant des `if`), même si ça peut rendre le code moins \"élégant\""
   ]
  },
  {
   "cell_type": "code",
   "execution_count": null,
   "metadata": {
    "slideshow": {
     "slide_type": "subslide"
    }
   },
   "outputs": [],
   "source": [
    "saisie = \"\"\n",
    "while saisie != \"stop\" and saisie != \"arrête\":\n",
    "    saisie = input(\"Dis-moi quelque chose : \")\n",
    "    if saisie == \"\":\n",
    "        print(\"Tu n'as rien dit !\")\n",
    "    elif saisie == \"je réfléchis\":\n",
    "        print(\"OK, j'attends...\")\n",
    "    else:\n",
    "        print(\"Ta phrase fait\", len(saisie), \"caractères.\")\n",
    "if saisie == \"stop\":\n",
    "    print(\"D'accord...\")\n",
    "elif saisie == \"arrête\":\n",
    "    print(\"C'est bon, j'ai compris !\")"
   ]
  }
 ],
 "metadata": {
  "celltoolbar": "Diaporama",
  "kernelspec": {
   "display_name": "Python 3 (ipykernel)",
   "language": "python",
   "name": "python3"
  },
  "language_info": {
   "codemirror_mode": {
    "name": "ipython",
    "version": 3
   },
   "file_extension": ".py",
   "mimetype": "text/x-python",
   "name": "python",
   "nbconvert_exporter": "python",
   "pygments_lexer": "ipython3",
   "version": "3.10.6"
  }
 },
 "nbformat": 4,
 "nbformat_minor": 2
}
