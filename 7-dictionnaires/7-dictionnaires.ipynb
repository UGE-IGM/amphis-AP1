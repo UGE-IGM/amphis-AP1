{
 "cells": [
  {
   "cell_type": "markdown",
   "metadata": {
    "slideshow": {
     "slide_type": "slide"
    }
   },
   "source": [
    "<div style='float:center; margin-right:20pt; width:30em'><img src='../img/logo-igm.png'></div>\n",
    "<div style='float:center; font-size:large'>\n",
    "    <strong>Algorithmique et programmation 1</strong><br>\n",
    "    L1 Mathématiques - L1 Informatique<br>\n",
    "    Semestre 1\n",
    "</div>"
   ]
  },
  {
   "cell_type": "markdown",
   "metadata": {},
   "source": [
    "# Chapitre 7 - Dictionnaires"
   ]
  },
  {
   "cell_type": "markdown",
   "metadata": {},
   "source": [
    "Comment résoudre efficacement les problèmes suivants ?\n",
    "\n",
    "- Compter le nombre d'occurences de chaque mot dans un texte\n",
    "- Rassembler plusieurs informations concernant une personne (nom, âge, numéro de sécurité sociale, profession, liste d’enfants...) et les passer en argument à une fonction\n",
    "- Représenter les coefficients d’une matrice ou d’un polynôme \"creux\"\n",
    "- Mémoriser les valeurs de retour d’une fonction pour différents arguments\n",
    "\n",
    "On verra des exemples dans la suite."
   ]
  },
  {
   "cell_type": "markdown",
   "metadata": {},
   "source": [
    "## Le type `dict`\n",
    "\n",
    "Dictionnaire : objet associant une liste de clés (*keys*) à des valeurs (*values*). \n",
    "\n",
    "Un objet de type `dict` est :\n",
    "* **une collection**\n",
    "* **mutable** (modifiable)\n",
    "* **hétérogène** (peut contenir des types différents)\n",
    "* **itérable** (utilisable dans un `for`)\n",
    "\n",
    "Un objet de type `dict` n'est **pas** une **séquence** (éléments non numérotés et non ordonnés)"
   ]
  },
  {
   "cell_type": "markdown",
   "metadata": {},
   "source": [
    "## Création d'un dictionnaire"
   ]
  },
  {
   "cell_type": "markdown",
   "metadata": {},
   "source": [
    "### Création d'un dictionnaire vide"
   ]
  },
  {
   "cell_type": "markdown",
   "metadata": {},
   "source": [
    "Avec la notation « accolades » :"
   ]
  },
  {
   "cell_type": "code",
   "execution_count": null,
   "metadata": {
    "slideshow": {
     "slide_type": "-"
    }
   },
   "outputs": [],
   "source": [
    "vide = {}    # dictionnaire vide\n",
    "vide"
   ]
  },
  {
   "cell_type": "markdown",
   "metadata": {},
   "source": [
    "Avec la fonction « `dict` » :"
   ]
  },
  {
   "cell_type": "code",
   "execution_count": null,
   "metadata": {
    "slideshow": {
     "slide_type": "-"
    }
   },
   "outputs": [],
   "source": [
    "vide = dict()   # idem\n",
    "vide"
   ]
  },
  {
   "cell_type": "markdown",
   "metadata": {
    "slideshow": {
     "slide_type": "subslide"
    }
   },
   "source": [
    "### Création d'un dictionnaire contenant des éléments"
   ]
  },
  {
   "cell_type": "markdown",
   "metadata": {},
   "source": [
    "Avec la notation « accolades » :"
   ]
  },
  {
   "cell_type": "code",
   "execution_count": null,
   "metadata": {
    "slideshow": {
     "slide_type": "-"
    }
   },
   "outputs": [],
   "source": [
    "effectif_groupes = {'a': 31, \n",
    "                    'bidule': 28.5, \n",
    "                    'c': 33, \n",
    "                    9: 18, \n",
    "                    'Prépa': 22}\n",
    "effectif_groupes"
   ]
  },
  {
   "cell_type": "markdown",
   "metadata": {},
   "source": [
    "Avec la fonction `dict` à partir d'un itérable contenant des couples `(clé, valeur)` :"
   ]
  },
  {
   "cell_type": "code",
   "execution_count": null,
   "metadata": {},
   "outputs": [],
   "source": [
    "effectif_groupes = dict([('a', 31), ('bidule', 28), ('c', 33), (9, 18), ('Prépa', 22)])\n",
    "effectif_groupes"
   ]
  },
  {
   "cell_type": "markdown",
   "metadata": {},
   "source": [
    "### Restrictions portant sur les clés"
   ]
  },
  {
   "cell_type": "markdown",
   "metadata": {},
   "source": [
    "\n",
    "Il faut que les **clés** soient **hashables**. La définition de hashable est un peu compliquée. Il suffit de retenir pour le moment que tous les objets prédéfinis **immutables** (non modifiables) sont hashables.\n",
    "\n",
    "Les types qui peuvent être des clés :\n",
    "* Types primitifs : `int`, `float`, `string`, `bool`\n",
    "* `tuple` : `(3, \"n'est pas\", 5.7, 'est', True)`\n",
    "\n",
    "Les types qui ne peuvent **pas** être des clés :\n",
    "* `list` : `[5.7, \"n'est pas\", 5.7, 'est', False]`\n",
    "* `dict`, etc."
   ]
  },
  {
   "cell_type": "code",
   "execution_count": null,
   "metadata": {},
   "outputs": [],
   "source": [
    "contenu_cases = {\n",
    "    [0, 0]: 'personnage',\n",
    "    [3, 5]: 'pomme',\n",
    "    [2, 1]: 'trésor'\n",
    "}"
   ]
  },
  {
   "cell_type": "code",
   "execution_count": null,
   "metadata": {},
   "outputs": [],
   "source": [
    "contenu_cases = {\n",
    "    (0, 0): 'personnage',\n",
    "    (3, 5): 'pomme',\n",
    "    (2, 1): 'trésor'\n",
    "}"
   ]
  },
  {
   "cell_type": "markdown",
   "metadata": {},
   "source": [
    "### Restrictions portant sur les valeurs"
   ]
  },
  {
   "cell_type": "markdown",
   "metadata": {},
   "source": [
    "Pour les **valeurs** d'un dictionnaire, il n'y a **pas de restriction**. On peut utiliser des listes ou des dictionnaires comme valeurs dans un dictionnaire."
   ]
  },
  {
   "cell_type": "code",
   "execution_count": null,
   "metadata": {},
   "outputs": [],
   "source": [
    "dresseurs = {\n",
    "    'Sacha': ['Pikachu', 'Bulbizarre', 'Dracaufeu'],\n",
    "    'Ondine': ['Togepi', 'Psykokwak'],\n",
    "    'Pierre': ['Onix', 'Racaillou']\n",
    "}"
   ]
  },
  {
   "cell_type": "markdown",
   "metadata": {},
   "source": [
    "## Manipulation d'un dictionnaire"
   ]
  },
  {
   "cell_type": "markdown",
   "metadata": {},
   "source": [
    "### Accès à une valeur via sa clé : `dico[clé]`"
   ]
  },
  {
   "cell_type": "code",
   "execution_count": null,
   "metadata": {},
   "outputs": [],
   "source": [
    "dico = {'a': 31, 'bidule': 28, 'c': 33, 9: 18, 'Prépa': 22}\n",
    "print(\"Valeur de la clé 'c' : \", dico['c'])"
   ]
  },
  {
   "cell_type": "code",
   "execution_count": null,
   "metadata": {},
   "outputs": [],
   "source": [
    "dico['Prépa']"
   ]
  },
  {
   "cell_type": "code",
   "execution_count": null,
   "metadata": {},
   "outputs": [],
   "source": [
    "dico[9]"
   ]
  },
  {
   "cell_type": "markdown",
   "metadata": {},
   "source": [
    "### Nombre de clés (taille) : `len(dico)`"
   ]
  },
  {
   "cell_type": "code",
   "execution_count": null,
   "metadata": {},
   "outputs": [],
   "source": [
    "dico = {'a': 31, 'bidule': 28, 'c': 33, 9: 18, 'Prépa': 22}\n",
    "print(len(dico))"
   ]
  },
  {
   "cell_type": "markdown",
   "metadata": {},
   "source": [
    "### Test d'appartenance : `clé in dico`"
   ]
  },
  {
   "cell_type": "code",
   "execution_count": null,
   "metadata": {},
   "outputs": [],
   "source": [
    "effectifs = {'a': 31, 'bidule': 28, 'c': 33, 9: 18, 'Prépa': 22}"
   ]
  },
  {
   "cell_type": "code",
   "execution_count": null,
   "metadata": {},
   "outputs": [],
   "source": [
    "'bidule' in effectifs"
   ]
  },
  {
   "cell_type": "code",
   "execution_count": null,
   "metadata": {},
   "outputs": [],
   "source": [
    "'bidule' not in effectifs"
   ]
  },
  {
   "cell_type": "markdown",
   "metadata": {},
   "source": [
    "Cette construction est très utile pour faire des accès **contrôlés** au dictionnaire.\n",
    "\n",
    "Par exemple, le code suivant donne une erreur."
   ]
  },
  {
   "cell_type": "code",
   "execution_count": null,
   "metadata": {},
   "outputs": [],
   "source": [
    "groupe = input('Saisir un nom de groupe : ')\n",
    "if groupe in effectifs:\n",
    "    print('Le groupe', groupe, 'compte', effectifs[groupe], 'étudiants.')\n",
    "else:\n",
    "    print('Le groupe', groupe, \"n'existe pas.\")"
   ]
  },
  {
   "cell_type": "markdown",
   "metadata": {},
   "source": [
    "### Modification d'une valeur associée à une clé : `dico[clé] = nouvelle_valeur`"
   ]
  },
  {
   "cell_type": "code",
   "execution_count": null,
   "metadata": {},
   "outputs": [],
   "source": [
    "effectifs = {'a': 31, 'bidule': 28, 'c': 33, 9: 18, 'Prépa': 22}\n",
    "effectifs['bidule'] = 'truc'"
   ]
  },
  {
   "cell_type": "code",
   "execution_count": null,
   "metadata": {},
   "outputs": [],
   "source": [
    "effectifs"
   ]
  },
  {
   "cell_type": "markdown",
   "metadata": {},
   "source": [
    "Cette syntaxe permet aussi de créer une nouvelle clé associée à une nouvelle valeur :"
   ]
  },
  {
   "cell_type": "code",
   "execution_count": null,
   "metadata": {},
   "outputs": [],
   "source": [
    "effectifs[8] = 19\n",
    "effectifs"
   ]
  },
  {
   "cell_type": "markdown",
   "metadata": {},
   "source": [
    "### Suppression d'un couple clé/valeur : `del dico[clé]`"
   ]
  },
  {
   "cell_type": "code",
   "execution_count": null,
   "metadata": {},
   "outputs": [],
   "source": [
    "del effectifs['bidule']\n",
    "effectifs"
   ]
  },
  {
   "cell_type": "markdown",
   "metadata": {},
   "source": [
    "### Parcours d'un dictionnaire par boucle `for` :"
   ]
  },
  {
   "cell_type": "markdown",
   "metadata": {},
   "source": [
    "Forme générale :\n",
    "\n",
    "```python\n",
    "for cle in dictionnaire:\n",
    "    valeur = dictionnaire[cle]\n",
    "    ...  # traitement utilisant cle et valeur\n",
    "```"
   ]
  },
  {
   "cell_type": "code",
   "execution_count": null,
   "metadata": {},
   "outputs": [],
   "source": [
    "effectifs = {'a': 31, 'bidule': 28, 'c': 33, 9: 18, 'Prépa': 22}\n",
    "\n",
    "for groupe in effectifs:\n",
    "    print(groupe, \"->\", effectifs[groupe])"
   ]
  },
  {
   "cell_type": "markdown",
   "metadata": {},
   "source": [
    "Remarque : cela n'a pas de sens de parcourir un dictionnaire avec `range` !"
   ]
  },
  {
   "cell_type": "markdown",
   "metadata": {},
   "source": [
    "### Récupérer une valeur avec valeur par défaut : `dictionnaire.get(cle, defaut)`\n",
    "\n",
    "Si `cle` existe dans `dictionnaire` la méthode renvoie `dictionnaire[cle]`, sinon elle renvoie la valeur de `defaut`.\n",
    "\n",
    "Méthode équivalente à la fonction suivante :"
   ]
  },
  {
   "cell_type": "code",
   "execution_count": null,
   "metadata": {},
   "outputs": [],
   "source": [
    "def acces_avec_defaut(dictionnaire, cle, defaut):\n",
    "    if cle in dictionnaire:\n",
    "        return dictionnaire[cle]\n",
    "    else:\n",
    "        return defaut\n",
    "\n",
    "acces_avec_defaut(effectifs, 'd', 0)"
   ]
  },
  {
   "cell_type": "markdown",
   "metadata": {},
   "source": [
    "\n",
    "\n",
    "Pratique pour éviter le test `if cle in dictionnaire` :"
   ]
  },
  {
   "cell_type": "code",
   "execution_count": null,
   "metadata": {},
   "outputs": [],
   "source": [
    "dico_exam = {'Adam': 19, 'Ben': 3, 'Cécile': 16.5, 'Dhara': 10.5, 'Ea': 8}"
   ]
  },
  {
   "cell_type": "code",
   "execution_count": null,
   "metadata": {},
   "outputs": [],
   "source": [
    "\n",
    "dico_exam.get('Dhara', 0)\n"
   ]
  },
  {
   "cell_type": "code",
   "execution_count": null,
   "metadata": {},
   "outputs": [],
   "source": [
    "dico_exam.get('Fanhui', 0)"
   ]
  },
  {
   "cell_type": "markdown",
   "metadata": {},
   "source": [
    "## Exemples d'utilisation"
   ]
  },
  {
   "cell_type": "markdown",
   "metadata": {},
   "source": [
    "### Carte de visite"
   ]
  },
  {
   "cell_type": "code",
   "execution_count": null,
   "metadata": {},
   "outputs": [],
   "source": [
    "def affiche_carte(carte):\n",
    "    print(\"Hello,\")\n",
    "    print(\"My name is\", carte['name'], \"the\", carte['quality'], end='.\\n')\n",
    "    print(\"I am a\", carte['profession'], 'in', carte['place'], end='.\\n')\n",
    "    print(\"My quest is\", carte['quest'], end='.\\n')\n",
    "    print(\"My favorite color is\", carte['color'], end='.\\n')\n",
    "\n",
    "carte = {'name': 'Sir Galahad',\n",
    "         'quality': 'pure',\n",
    "         'profession': 'knight',\n",
    "         'place': 'Camelot',\n",
    "         'quest': 'to seek the holy Grail',\n",
    "         'color': 'blue. No yel... auuuuuuuugh'}\n",
    "\n",
    "carte2 = {'name': 'Sir Robin',\n",
    "          'quality': 'not-quite-so-brave-as-Sir-Lancelot',\n",
    "          'profession': 'knight',\n",
    "          'place': 'Camelot',\n",
    "          'quest': 'to seek the holy Grail',\n",
    "          'color': 'red'}\n",
    "\n",
    "affiche_carte(carte)\n",
    "print()\n",
    "affiche_carte(carte2)"
   ]
  },
  {
   "cell_type": "markdown",
   "metadata": {},
   "source": [
    "### Comptage d'éléments"
   ]
  },
  {
   "cell_type": "code",
   "execution_count": null,
   "metadata": {},
   "outputs": [],
   "source": [
    "def compter_elements(iterable):\n",
    "    ..."
   ]
  },
  {
   "cell_type": "code",
   "execution_count": null,
   "metadata": {},
   "outputs": [],
   "source": [
    "compter_elements([0, 0, 1, 0, 1, 1, 'coucou'])"
   ]
  },
  {
   "cell_type": "markdown",
   "metadata": {
    "slideshow": {
     "slide_type": "subslide"
    }
   },
   "source": [
    "## Opérations (résumé)\n",
    "\n",
    "- Création   `d = {}` ou `d = dict()` ou `d = {’a’: 1, ...}`\n",
    "- Accès : `d[cle]`, `d[cle1][cle2]`, ...\n",
    "- Taille : `len(d)`\n",
    "- Test d'appartenance : `cle in d`, `cle not in d`      \n",
    "- Ajout ou modification : `d[cle] = valeur`\n",
    "- Suppression : `del d[cle]`\n",
    "- Itération : `for cle in d`"
   ]
  },
  {
   "cell_type": "markdown",
   "metadata": {
    "slideshow": {
     "slide_type": "subslide"
    }
   },
   "source": [
    "## Méthodes (non exhaustif, voir la [documentation](https://docs.python.org/fr/3/library/stdtypes.html#dict))\n",
    "\n",
    "- Accès aux clés : `d.keys()`\n",
    "- Accès aux valeurs : `d.values()`\n",
    "- Accès aux couples `(cle, valeur)` : `d.items()`            \n",
    "- Copie (superficielle) : `d.copy()`             \n",
    "- Vidange : `d.clear()`\n",
    "- Accès avec valeur par défaut : `d.get(cle, defaut)`\n",
    "- Retrait de valeur : `d.pop(cle)`           \n",
    "- Mise à jour / fusion : `d.update(d2)`"
   ]
  },
  {
   "cell_type": "code",
   "execution_count": null,
   "metadata": {
    "slideshow": {
     "slide_type": "subslide"
    }
   },
   "outputs": [],
   "source": [
    "for cle in d.keys():\n",
    "    print(cle)"
   ]
  },
  {
   "cell_type": "code",
   "execution_count": null,
   "metadata": {
    "slideshow": {
     "slide_type": "subslide"
    }
   },
   "outputs": [],
   "source": [
    "list(d.keys())"
   ]
  },
  {
   "cell_type": "code",
   "execution_count": null,
   "metadata": {
    "slideshow": {
     "slide_type": "fragment"
    }
   },
   "outputs": [],
   "source": [
    "list(d.values())"
   ]
  },
  {
   "cell_type": "code",
   "execution_count": null,
   "metadata": {
    "slideshow": {
     "slide_type": "fragment"
    }
   },
   "outputs": [],
   "source": [
    "list(d.items())"
   ]
  },
  {
   "cell_type": "code",
   "execution_count": null,
   "metadata": {
    "slideshow": {
     "slide_type": "subslide"
    }
   },
   "outputs": [],
   "source": [
    "d.get('machin', 0)"
   ]
  },
  {
   "cell_type": "code",
   "execution_count": null,
   "metadata": {
    "slideshow": {
     "slide_type": "subslide"
    }
   },
   "outputs": [],
   "source": [
    "d.pop(3.14)"
   ]
  },
  {
   "cell_type": "code",
   "execution_count": null,
   "metadata": {
    "slideshow": {
     "slide_type": "fragment"
    }
   },
   "outputs": [],
   "source": [
    "d[3.14]"
   ]
  },
  {
   "cell_type": "markdown",
   "metadata": {
    "slideshow": {
     "slide_type": "subslide"
    }
   },
   "source": [
    "**Attention :** la méthode `copy` produit une copie *superficielle* !!"
   ]
  },
  {
   "cell_type": "code",
   "execution_count": null,
   "metadata": {
    "slideshow": {
     "slide_type": "-"
    }
   },
   "outputs": [],
   "source": [
    "%%nbtutor -r -f\n",
    "d = {'lst': [1, 2]}\n",
    "e = d.copy()\n",
    "e['lst'].append(3) \n",
    "print(d)\n",
    "print(e)"
   ]
  },
  {
   "cell_type": "markdown",
   "metadata": {
    "slideshow": {
     "slide_type": "subslide"
    }
   },
   "source": [
    "## Exercices"
   ]
  },
  {
   "cell_type": "markdown",
   "metadata": {},
   "source": [
    "\n",
    "- Écrire, sans utiliser la méthode `items()`, une fonction `dict_vers_list(dico)` recevant en paramètre un dictionnaire et renvoyant une liste de ses couples `(cle, valeur)`."
   ]
  },
  {
   "cell_type": "code",
   "execution_count": null,
   "metadata": {},
   "outputs": [],
   "source": [
    "def dict_vers_list(dico):\n",
    "    ...\n",
    "\n",
    "dict_vers_list({'a': 31, 'bidule': 28.5, 'c': 33, 9: 18, 'Prépa': 22})"
   ]
  },
  {
   "cell_type": "markdown",
   "metadata": {},
   "source": [
    "\n",
    "- Écrire, sans utiliser la fonction `dict()`, une fonction `list_vers_dict(lst)` recevant en paramètre une liste de couples `(cle, valeur)` et renvoyant le dictionnaire correspondant."
   ]
  },
  {
   "cell_type": "code",
   "execution_count": null,
   "metadata": {},
   "outputs": [],
   "source": [
    "def list_vers_dict(lst):\n",
    "    ...\n",
    "\n",
    "list_vers_dict([('a', 31), ('bidule', 28), ('c', 33), (9, 18), ('Prépa', 22)])"
   ]
  },
  {
   "cell_type": "markdown",
   "metadata": {},
   "source": [
    "- Écrire une fonction `indices(lst)` recevant une liste d'objets immutables et renvoyant un dictionnaire dont les clés sont les éléments de `lst` et dont la valeur associée à chaque clé est la liste des indices où apparaît cet élément dans `lst`."
   ]
  },
  {
   "cell_type": "code",
   "execution_count": null,
   "metadata": {},
   "outputs": [],
   "source": [
    "def indices(lst):\n",
    "    ...\n",
    "\n",
    "indices([0, 0, 1, 0, 1, 1, 'coucou'])"
   ]
  },
  {
   "cell_type": "markdown",
   "metadata": {
    "slideshow": {
     "slide_type": "subslide"
    }
   },
   "source": [
    "- $\\bigstar$ Écrire une fonction `inverse_dict(dico)` renvoyant un nouveau dictionnaire dont les clés sont les valeurs de `dico` et les valeurs sont les listes de clés correspondantes. On supposera que toutes les valeurs de `dico` sont immutables.  \n",
    "  Par exemple :\n",
    "\n",
    "  ```python\n",
    "  >>> inverse_dict({'a': 1, 'b': 2, 'c': 1})\n",
    "  {1: ['a', 'c'], 2: ['b']}\n",
    "  ```"
   ]
  },
  {
   "cell_type": "code",
   "execution_count": null,
   "metadata": {
    "slideshow": {
     "slide_type": "skip"
    }
   },
   "outputs": [],
   "source": [
    "def inverse_dict(dico):\n",
    "    ...\n",
    "\n",
    "inverse_dict({'a': 1, 'b': 2, 'c': 1})"
   ]
  }
 ],
 "metadata": {
  "kernelspec": {
   "display_name": "Python 3",
   "language": "python",
   "name": "python3"
  },
  "language_info": {
   "codemirror_mode": {
    "name": "ipython",
    "version": 3
   },
   "file_extension": ".py",
   "mimetype": "text/x-python",
   "name": "python",
   "nbconvert_exporter": "python",
   "pygments_lexer": "ipython3",
   "version": "3.10.8"
  },
  "vscode": {
   "interpreter": {
    "hash": "aee8b7b246df8f9039afb4144a1f6fd8d2ca17a180786b69acc140d282b71a49"
   }
  }
 },
 "nbformat": 4,
 "nbformat_minor": 2
}
