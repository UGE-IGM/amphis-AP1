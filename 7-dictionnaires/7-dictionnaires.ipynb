{
 "cells": [
  {
   "cell_type": "markdown",
   "metadata": {},
   "source": [
    "<div>\n",
    "<div style='float:left; margin-right:40pt; width:6cm'><img src='img/UPEM-IGM-V1_300dpi.png'></div>\n",
    "<div style='float:right; font-size:large; text-align:right'><strong>Algorithmique et programmation 1</strong><br>\n",
    "L1 Mathématiques - L1 Informatique<br>\n",
    "Semestre 1\n",
    "</div>\n",
    "</div>"
   ]
  },
  {
   "cell_type": "markdown",
   "metadata": {},
   "source": [
    "# Chapitre 7 - Dictionnaires\n",
    "\n",
    "On aborde dans ce chapitre un nouveau type d'objets itérables, les *dictionnaires*.\n",
    "\n",
    "Dans ce chapitre, vous allez apprendre comment :\n",
    "\n",
    "1. Comprendre la notion de dictionnaire, qui est une association entre clés et valeurs ;\n",
    "2. Créer un dictionnaire et le manipuler (ajouter, supprimer et modifier les données) ;\n",
    "3. Parcourir les données dans un dictionnaire de plusieurs façons ;\n",
    "4. Modéliser certaines données sous forme de dictionnaires."
   ]
  },
  {
   "cell_type": "markdown",
   "metadata": {},
   "source": [
    "Comment résoudre efficacement les problèmes suivants ?\n",
    "\n",
    "- Compter le nombre d'occurences de chaque mot dans un texte\n",
    "- Rassembler plusieurs informations concernant une personne (nom, âge, numéro de sécurité sociale, profession, liste d’enfants...) et les passer en argument à une fonction\n",
    "- Représenter les coefficients d’une matrice ou d’un polynôme \"creux\"\n",
    "- Mémoriser les valeurs de retour d’une fonction pour différents arguments\n",
    "\n",
    "On verra des exemples dans la suite."
   ]
  },
  {
   "cell_type": "markdown",
   "metadata": {},
   "source": [
    "### 1. Les dictionnaires (type `dict`)\n",
    "\n",
    "Dictionnaire : objet associant une liste de clés (*keys*) à des valeurs (*values*). \n",
    "\n",
    "Un objet de type `dict` est :\n",
    "* **une collection**\n",
    "* **mutable** (modifiable)\n",
    "* **hétérogène** (peut contenir des types différents)\n",
    "* **itérable** (utilisable dans un `for`)\n",
    "* **non ordonnée** (pas de restriction d'ordre sur l'ensemble des clés)\n",
    "\n",
    "Cependant, il faut que les **clés** soient **hashables**. La définition de hashable est un peu compliquée. Il suffit de retenir pour le moment que tous les objets prédéfinis **immutables** (non modifiables) sont hashables.\n",
    "\n",
    "Les types qui peuvent être des clés :\n",
    "* Types primitifs : `int`, `float`, `string`, `bool`\n",
    "* `tuple` : `(3, \"n'est pas\", 5.7, 'est', True)`\n",
    "\n",
    "Les types qui ne peuvent **pas** être des clés :\n",
    "* `list` : `[5.7, \"n'est pas\", 5.7, 'est', False]`\n",
    "* `dict`\n",
    "* `set`\n",
    "\n",
    "Cependant, pour les types des **valeurs**, il n'y a **pas de restriction**. On peut même mettre des dictionnaires dans les dictionnaires ! Il s'agit d'un **dictionnaire imbriqué**."
   ]
  },
  {
   "cell_type": "markdown",
   "metadata": {},
   "source": [
    "### 2. Création d'un dictionnaire\n",
    "\n",
    "Pour créer un dictionnaire, il y a deux syntaxes possibles : soit avec `{}`, soit avec la fonction `dict()`\n",
    "\n",
    "**Création d'un dictionnaire** avec la syntaxe `{}`, où la clé et sa valeur sont séparées par `:`, et les paires de clé-valeur sont séparées par `,`"
   ]
  },
  {
   "cell_type": "code",
   "execution_count": 1,
   "metadata": {},
   "outputs": [
    {
     "name": "stdout",
     "output_type": "stream",
     "text": [
      "{'a': 31, 'bidule': 28, 'c': 33, 9: 18, 'Prépa': 22}\n"
     ]
    }
   ],
   "source": [
    "dico = {'a': 31, 'bidule': 28, 'c': 33, 9: 18, 'Prépa': 22}\n",
    "print(dico)"
   ]
  },
  {
   "cell_type": "markdown",
   "metadata": {},
   "source": [
    "**Création d'un dictionnaire** avec la fonction de construction `dict()`, qui prendre une liste (ou un itérable) de couples `(clé, valeur)` et qui renvoie un dictionnaire correspondant"
   ]
  },
  {
   "cell_type": "code",
   "execution_count": 2,
   "metadata": {},
   "outputs": [
    {
     "name": "stdout",
     "output_type": "stream",
     "text": [
      "{'a': 31, 'bidule': 28, 'c': 33, 9: 18, 'Prépa': 22}\n"
     ]
    }
   ],
   "source": [
    "dico = dict([('a', 31), ('bidule', 28), ('c', 33), (9, 18), ('Prépa', 22)])\n",
    "print(dico)"
   ]
  },
  {
   "cell_type": "markdown",
   "metadata": {},
   "source": [
    "Pour créer un dictionnaire **vide**, il suffit de ne rien mettre dans ces constructions.\n",
    "\n",
    "Avec la syntaxe `{}` :"
   ]
  },
  {
   "cell_type": "code",
   "execution_count": 3,
   "metadata": {},
   "outputs": [
    {
     "name": "stdout",
     "output_type": "stream",
     "text": [
      "{}\n"
     ]
    }
   ],
   "source": [
    "dico_vide = {}\n",
    "print(dico_vide)"
   ]
  },
  {
   "cell_type": "markdown",
   "metadata": {},
   "source": [
    "Avec la syntaxe `dict()`:"
   ]
  },
  {
   "cell_type": "code",
   "execution_count": 4,
   "metadata": {},
   "outputs": [
    {
     "name": "stdout",
     "output_type": "stream",
     "text": [
      "{}\n"
     ]
    }
   ],
   "source": [
    "dico_vide = dict()\n",
    "print(dico_vide)"
   ]
  },
  {
   "cell_type": "markdown",
   "metadata": {},
   "source": [
    "#### Type de clé et de valeur\n",
    "\n",
    "Les listes, dictionnaires, et sets (qui sont des types **mutables**) ne peuvent pas être des clés :"
   ]
  },
  {
   "cell_type": "code",
   "execution_count": 5,
   "metadata": {},
   "outputs": [
    {
     "ename": "TypeError",
     "evalue": "unhashable type: 'list'",
     "output_type": "error",
     "traceback": [
      "\u001b[0;31m---------------------------------------------------------------------------\u001b[0m",
      "\u001b[0;31mTypeError\u001b[0m                                 Traceback (most recent call last)",
      "\u001b[0;32m<ipython-input-5-d66021ce1782>\u001b[0m in \u001b[0;36m<module>\u001b[0;34m()\u001b[0m\n\u001b[0;32m----> 1\u001b[0;31m \u001b[0mdico\u001b[0m \u001b[0;34m=\u001b[0m \u001b[0;34m{\u001b[0m\u001b[0;34m[\u001b[0m\u001b[0;34m]\u001b[0m\u001b[0;34m:\u001b[0m \u001b[0;36m0\u001b[0m\u001b[0;34m}\u001b[0m\u001b[0;34m\u001b[0m\u001b[0;34m\u001b[0m\u001b[0m\n\u001b[0m",
      "\u001b[0;31mTypeError\u001b[0m: unhashable type: 'list'"
     ]
    }
   ],
   "source": [
    "dico = {[]: 0}"
   ]
  },
  {
   "cell_type": "markdown",
   "metadata": {},
   "source": [
    "Les valeurs peuvent être de type quelconque (même *mutable*) :"
   ]
  },
  {
   "cell_type": "code",
   "execution_count": 6,
   "metadata": {},
   "outputs": [
    {
     "name": "stdout",
     "output_type": "stream",
     "text": [
      "{'L': [1, 'liste']}\n"
     ]
    }
   ],
   "source": [
    "dico = {'L': [1, 'liste']}\n",
    "print(dico)"
   ]
  },
  {
   "cell_type": "code",
   "execution_count": 7,
   "metadata": {},
   "outputs": [
    {
     "name": "stdout",
     "output_type": "stream",
     "text": [
      "{'a': 1, 'bidule': True, 'c': 'salut'}\n",
      "{'a': 1, 'bidule': 3.1415, 'c': 'salut'}\n"
     ]
    }
   ],
   "source": [
    "d = {'a': 1, 'bidule': True, 'c': 'salut'}\n",
    "print(d)\n",
    "d['bidule'] = 3.1415\n",
    "print(d)"
   ]
  },
  {
   "cell_type": "markdown",
   "metadata": {},
   "source": [
    "#### Vérifier vos connaissances\n",
    "\n",
    "A ce stade, vous devriez être capable de :\n",
    "* Identifier les clés acceptables\n",
    "* Créer un dictionnaire avec des clés et des valeurs associées"
   ]
  },
  {
   "cell_type": "markdown",
   "metadata": {},
   "source": [
    "**Exercice 1** : Lesquelles des définitions suivantes sont valides pour un dictionnaire ?"
   ]
  },
  {
   "cell_type": "code",
   "execution_count": null,
   "metadata": {},
   "outputs": [],
   "source": [
    "dico1 = {1: \"un\", \"deux\": 2, 3.0: \"trois\", \"trois\": 3, (4, 8): [4, 5, 6, 7]}\n",
    "print(dico1)"
   ]
  },
  {
   "cell_type": "code",
   "execution_count": null,
   "metadata": {},
   "outputs": [],
   "source": [
    "cinq = 6\n",
    "dico2 = {cinq: \"6\", \"sept\": [8], [9]: 10.0}\n",
    "print(dico2)"
   ]
  },
  {
   "cell_type": "code",
   "execution_count": null,
   "metadata": {},
   "outputs": [],
   "source": [
    "dico3 = dict([(1,(2,3)), ((4,5), 6), (\"sept\", \"huit\"), (9.0, \"dix\" + str(11) + str(12))])\n",
    "print(dico3)"
   ]
  },
  {
   "cell_type": "code",
   "execution_count": null,
   "metadata": {},
   "outputs": [],
   "source": [
    "dico4 = dict([(\"un\", 2.0), (3, dico1), (\"dico2\", dico2), (dico3, \"dico3\")])\n",
    "print(dico4)"
   ]
  },
  {
   "cell_type": "code",
   "execution_count": null,
   "metadata": {},
   "outputs": [],
   "source": [
    "dico5 = dict([(\"un\", 2.0), (3, dico1), (\"dico2\", dico3), (\"Jean-Paul Sartre\")])\n",
    "print(dico5)"
   ]
  },
  {
   "cell_type": "markdown",
   "metadata": {},
   "source": [
    "### 3. Manipulation d'un dictionnaire\n",
    "\n",
    "**Accès à une valeur via la clé** : `dico[clé]`"
   ]
  },
  {
   "cell_type": "code",
   "execution_count": 8,
   "metadata": {},
   "outputs": [
    {
     "name": "stdout",
     "output_type": "stream",
     "text": [
      "Valeur de la clé 'c' :  33\n"
     ]
    }
   ],
   "source": [
    "dico = {'a': 31, 'bidule': 28, 'c': 33, 9: 18, 'Prépa': 22}\n",
    "print(\"Valeur de la clé 'c' : \", dico['c'])"
   ]
  },
  {
   "cell_type": "code",
   "execution_count": 9,
   "metadata": {},
   "outputs": [
    {
     "data": {
      "text/plain": [
       "22"
      ]
     },
     "execution_count": 9,
     "metadata": {},
     "output_type": "execute_result"
    }
   ],
   "source": [
    "dico['Prépa']"
   ]
  },
  {
   "cell_type": "code",
   "execution_count": 10,
   "metadata": {},
   "outputs": [
    {
     "data": {
      "text/plain": [
       "18"
      ]
     },
     "execution_count": 10,
     "metadata": {},
     "output_type": "execute_result"
    }
   ],
   "source": [
    "dico[9]"
   ]
  },
  {
   "cell_type": "markdown",
   "metadata": {},
   "source": [
    "**Récupérer le nombre d'entrées (la taille)** : `len(dico)`"
   ]
  },
  {
   "cell_type": "code",
   "execution_count": 11,
   "metadata": {},
   "outputs": [
    {
     "name": "stdout",
     "output_type": "stream",
     "text": [
      "5\n"
     ]
    }
   ],
   "source": [
    "dico = {'a': 31, 'bidule': 28, 'c': 33, 9: 18, 'Prépa': 22}\n",
    "print(len(dico))"
   ]
  },
  {
   "cell_type": "markdown",
   "metadata": {},
   "source": [
    "**Test d'appartenance** : `clé in dico`, qui est un **booléen**"
   ]
  },
  {
   "cell_type": "code",
   "execution_count": 12,
   "metadata": {},
   "outputs": [
    {
     "name": "stdout",
     "output_type": "stream",
     "text": [
      "True\n",
      "False\n"
     ]
    }
   ],
   "source": [
    "dico = {'a': 31, 'bidule': 28, 'c': 33, 9: 18, 'Prépa': 22}\n",
    "print('bidule' in dico)\n",
    "print('bidule' not in dico)"
   ]
  },
  {
   "cell_type": "markdown",
   "metadata": {},
   "source": [
    "Cette construction est très utile pour faire des accès **contrôlés** au dictionnaire.\n",
    "\n",
    "Par exemple, le code suivant donne une erreur."
   ]
  },
  {
   "cell_type": "code",
   "execution_count": 13,
   "metadata": {},
   "outputs": [
    {
     "ename": "KeyError",
     "evalue": "'b'",
     "output_type": "error",
     "traceback": [
      "\u001b[0;31m---------------------------------------------------------------------------\u001b[0m",
      "\u001b[0;31mKeyError\u001b[0m                                  Traceback (most recent call last)",
      "\u001b[0;32m<ipython-input-13-8ff6865132a0>\u001b[0m in \u001b[0;36m<module>\u001b[0;34m()\u001b[0m\n\u001b[0;32m----> 1\u001b[0;31m \u001b[0mprint\u001b[0m\u001b[0;34m(\u001b[0m\u001b[0mdico\u001b[0m\u001b[0;34m[\u001b[0m\u001b[0;34m'a'\u001b[0m\u001b[0;34m]\u001b[0m\u001b[0;34m,\u001b[0m \u001b[0mdico\u001b[0m\u001b[0;34m[\u001b[0m\u001b[0;34m'b'\u001b[0m\u001b[0;34m]\u001b[0m\u001b[0;34m)\u001b[0m\u001b[0;34m\u001b[0m\u001b[0;34m\u001b[0m\u001b[0m\n\u001b[0m",
      "\u001b[0;31mKeyError\u001b[0m: 'b'"
     ]
    }
   ],
   "source": [
    "print(dico['a'], dico['b'])"
   ]
  },
  {
   "cell_type": "markdown",
   "metadata": {},
   "source": [
    "Cependant, le code suivant marche sans erreur."
   ]
  },
  {
   "cell_type": "code",
   "execution_count": 14,
   "metadata": {},
   "outputs": [
    {
     "name": "stdout",
     "output_type": "stream",
     "text": [
      "31\n"
     ]
    }
   ],
   "source": [
    "if 'a' in dico:\n",
    "    print(dico['a'])\n",
    "if 'b' in dico:\n",
    "    print(dico['b'])"
   ]
  },
  {
   "cell_type": "markdown",
   "metadata": {},
   "source": [
    "**Modification d'une valeur associée à une clé** : `dico[clé] = nouvelle_valeur`\n",
    "\n",
    "On peut traiter `dico[clé]` comme une variable."
   ]
  },
  {
   "cell_type": "code",
   "execution_count": 15,
   "metadata": {},
   "outputs": [
    {
     "name": "stdout",
     "output_type": "stream",
     "text": [
      "{'a': 31, 'bidule': 28, 'c': 33, 9: 18, 'Prépa': 22}\n",
      "{'a': 31, 'bidule': 'truc', 'c': 33, 9: 18, 'Prépa': 22}\n"
     ]
    }
   ],
   "source": [
    "dico = {'a': 31, 'bidule': 28, 'c': 33, 9: 18, 'Prépa': 22}\n",
    "print(dico)\n",
    "dico['bidule'] = 'truc'\n",
    "print(dico)"
   ]
  },
  {
   "cell_type": "markdown",
   "metadata": {},
   "source": [
    "**Ajout d'un couple clé/valeur** : c'est comme initialiser une nouvelle variable `dico[clé]`"
   ]
  },
  {
   "cell_type": "code",
   "execution_count": 16,
   "metadata": {},
   "outputs": [
    {
     "name": "stdout",
     "output_type": "stream",
     "text": [
      "{'a': 31, 'bidule': 28, 'c': 33, 9: 18, 'Prépa': 22}\n",
      "{'a': 31, 'bidule': 28, 'c': 33, 9: 18, 'Prépa': 22, 8: True}\n"
     ]
    }
   ],
   "source": [
    "dico = {'a': 31, 'bidule': 28, 'c': 33, 9: 18, 'Prépa': 22}\n",
    "print(dico)\n",
    "dico[8] = True\n",
    "print(dico)"
   ]
  },
  {
   "cell_type": "markdown",
   "metadata": {},
   "source": [
    "**Suppression d'un couple clé/valeur** : avec `del dico[clé]`"
   ]
  },
  {
   "cell_type": "code",
   "execution_count": 17,
   "metadata": {},
   "outputs": [
    {
     "name": "stdout",
     "output_type": "stream",
     "text": [
      "{'a': 31, 'bidule': 28, 'c': 33, 9: 18, 'Prépa': 22}\n",
      "{'a': 31, 'c': 33, 9: 18, 'Prépa': 22}\n"
     ]
    }
   ],
   "source": [
    "dico = {'a': 31, 'bidule': 28, 'c': 33, 9: 18, 'Prépa': 22}\n",
    "print(dico)\n",
    "del dico['bidule']\n",
    "print(dico)"
   ]
  },
  {
   "cell_type": "markdown",
   "metadata": {},
   "source": [
    "**Parcours** d'un dictionnaire via `for` :"
   ]
  },
  {
   "cell_type": "code",
   "execution_count": 18,
   "metadata": {},
   "outputs": [
    {
     "name": "stdout",
     "output_type": "stream",
     "text": [
      "a -> 31\n",
      "bidule -> 28\n",
      "c -> 33\n",
      "9 -> 18\n",
      "Prépa -> 22\n"
     ]
    }
   ],
   "source": [
    "dico = {'a': 31, 'bidule': 28, 'c': 33, 9: 18, 'Prépa': 22}\n",
    "\n",
    "for cle in dico:\n",
    "    print(cle, \"->\", dico[cle])"
   ]
  },
  {
   "cell_type": "markdown",
   "metadata": {},
   "source": [
    "**Récupérer une valeur avec valeur par défaut** : `mydico.get(cle, defaut)`\n",
    "\n",
    "C'est une méthode des dictionnaires, **à appliquer avec un point \".\" !**\n",
    "\n",
    "Si `cle` existe dans `mydico`, alors la méthode renvoie `mydico[cle]`; sinon, elle renvoie la valeur de `defaut`.\n",
    "\n",
    "Elle est équivalente à la fonction suivante :\n",
    "\n",
    "```Python\n",
    "def get_with_default(dict, key, default):\n",
    "    if key in dict:\n",
    "        return dict[key]\n",
    "    else:\n",
    "        return default\n",
    "```\n",
    "\n",
    "Cette méthode pourrait être pratique pour éviter les `if` pour tester existence d'une clé dans le dictionnaire."
   ]
  },
  {
   "cell_type": "code",
   "execution_count": 21,
   "metadata": {},
   "outputs": [
    {
     "name": "stdout",
     "output_type": "stream",
     "text": [
      "10.5\n",
      "0\n"
     ]
    }
   ],
   "source": [
    "dico_exam = {'Adam': 19, 'Ben': 3, 'Cécile': 16.5, 'Dhara': 10.5, 'Ea': 8}\n",
    "\n",
    "print(dico_exam.get('Dhara', 0))\n",
    "print(dico_exam.get('Fanhui', 0))"
   ]
  },
  {
   "cell_type": "markdown",
   "metadata": {},
   "source": [
    "#### Vérifier vos connaissances\n",
    "\n",
    "A ce stade, vous devriez être capable de :\n",
    "- Ajouter un couple clé/valeur à un dictionnaire\n",
    "- Supprimer un couple clé/valeur d'un dictionnaire\n",
    "- Modifier la valeur associée à une clé dans un dictionnaire\n",
    "- Parcourir un dictionnaire avec une boucle `for`"
   ]
  },
  {
   "cell_type": "markdown",
   "metadata": {},
   "source": [
    "**Exercice 2** :\n",
    "\n",
    "Voici un bout de code travaillant sur un dictionnaire :"
   ]
  },
  {
   "cell_type": "code",
   "execution_count": null,
   "metadata": {},
   "outputs": [],
   "source": [
    "d = {}\n",
    "d['Cours'] = \"AP1\"\n",
    "d['Bâtiment'] = \"Sophie Germain\"\n",
    "d['Contenu'] = ['Valeurs et affectation',\n",
    "                'Boucles',\n",
    "                'Fonctions', \n",
    "                'Itérables et mutabilité',\n",
    "                'Dictionnaires et Ensembles]\n",
    "d['Langage'] = 'C'\n",
    "d['Groupes TD'] = 8\n",
    "d['Groupes TP'] = 13\n",
    "d['Langage'] = 'Python'\n",
    "del d['Bâtiment']"
   ]
  },
  {
   "cell_type": "markdown",
   "metadata": {},
   "source": [
    "- Combien d'entrées y a-t-il dans `d` ? Vérifier avec un bout de code.\n",
    "- Ecrire un bout de code qui affiche le contenu du cours, un point par ligne."
   ]
  },
  {
   "cell_type": "code",
   "execution_count": null,
   "metadata": {},
   "outputs": [],
   "source": []
  },
  {
   "cell_type": "markdown",
   "metadata": {},
   "source": [
    "**Exercice 3** :\n",
    "\n",
    "Voici une fonction qui prend en paramètre un dictionnaire qui associe des entiers à une liste d'entiers."
   ]
  },
  {
   "cell_type": "code",
   "execution_count": 1,
   "metadata": {},
   "outputs": [],
   "source": [
    "def fonction_secrete(d):\n",
    "    cpt = 0\n",
    "    for n in d:\n",
    "        flag = False\n",
    "        for x in d[n]:\n",
    "            flag = flag or (x % 2 == 0)\n",
    "        if flag:\n",
    "            cpt += n\n",
    "    return cpt"
   ]
  },
  {
   "cell_type": "markdown",
   "metadata": {},
   "source": [
    "- Que renvoie cette fonction?\n",
    "- Ecrire une fonction qui prend en entrée un dictionnaire (exactement comme la fonction précédente) et qui compte le nombre total des nombres pairs dans les valeurs du dictionnaire.\n",
    "- Modifier la fonction pour que, en prenant un autre paramètre `k`, elle renvoie le nombre total des nombres divisibles par `k`."
   ]
  },
  {
   "cell_type": "markdown",
   "metadata": {},
   "source": [
    "Vous pouvez utiliser les deux cases ci-dessous et tester avec le dictionnaire `dico_secret` donné."
   ]
  },
  {
   "cell_type": "code",
   "execution_count": null,
   "metadata": {},
   "outputs": [],
   "source": [
    "dico_secret = {1: [1, 2, 3, 4, 5],\n",
    "               2: [2, 4, 6, 8, 10],\n",
    "               3: [3, 6, 9, 12, 15],\n",
    "               42: [1, 2, 3, 6, 7, 14, 21, 42],\n",
    "               -5: [4, 4, 4, 4, 5, 5, 5, 5]}"
   ]
  },
  {
   "cell_type": "code",
   "execution_count": null,
   "metadata": {},
   "outputs": [],
   "source": []
  },
  {
   "cell_type": "markdown",
   "metadata": {},
   "source": [
    "**Exercice 4** : Compteur pour les triples\n",
    "\n",
    "On vous donne une liste d'entiers. Composer une fonction qui renvoie un dictionnaire qui associe chaque nombre avec son nombre d'occurrences, mais **seulement pour les nombres divisibles par 3**.\n",
    "\n",
    "Vous pouvez tester votre fonction sur la liste suivante."
   ]
  },
  {
   "cell_type": "code",
   "execution_count": null,
   "metadata": {},
   "outputs": [],
   "source": [
    "liste_de_triples = [1, 2, 3, 4, 5, 6, 7, 8, 9, 42, 42, 42, 42]"
   ]
  },
  {
   "cell_type": "code",
   "execution_count": null,
   "metadata": {},
   "outputs": [],
   "source": []
  },
  {
   "cell_type": "markdown",
   "metadata": {},
   "source": [
    "### Exemples d'utilisation :\n",
    "\n",
    "**Carte de visite**"
   ]
  },
  {
   "cell_type": "code",
   "execution_count": 22,
   "metadata": {},
   "outputs": [
    {
     "name": "stdout",
     "output_type": "stream",
     "text": [
      "Bonjour,\n",
      "Je m'appelle Antoine Meyer.\n",
      "Je suis Enseignant-Chercheur à UPEM.\n",
      "Mon adresse email est <antoine.meyer@u-pem.fr>.\n",
      "\n",
      "Bonjour,\n",
      "Je m'appelle Cédric Villani.\n",
      "Je suis Député à Parlement français.\n",
      "Mon adresse email est un secret.\n"
     ]
    }
   ],
   "source": [
    "def affiche_carte(carte):\n",
    "    print(\"Bonjour,\")\n",
    "    print(\"Je m'appelle\", carte['prenom'], carte['nom'], end='.\\n')\n",
    "    print(\"Je suis\", carte['profession'], 'à', carte['employeur'], end='.\\n')\n",
    "    print(\"Mon adresse email est\", carte['email'], end='.\\n')\n",
    "\n",
    "carte = {'prenom': 'Antoine',\n",
    "         'profession': \"Enseignant-Chercheur\",\n",
    "         'employeur': 'UPEM',\n",
    "         'nom': 'Meyer',\n",
    "         'email': '<antoine.meyer@u-pem.fr>'}\n",
    "\n",
    "carte2 = {'email': 'un secret',\n",
    "          'nom': 'Villani',\n",
    "          'prenom': 'Cédric',\n",
    "          'profession': \"Député\",\n",
    "          'employeur': 'Parlement français'}\n",
    "\n",
    "affiche_carte(carte)\n",
    "print()\n",
    "affiche_carte(carte2)"
   ]
  },
  {
   "cell_type": "markdown",
   "metadata": {},
   "source": [
    "Quelques exemples sous forme d'exercices:\n",
    "\n",
    "**Exercice 4** : Compter le nombre d'occurrences de chaque mot dans un texte, et renvoyer un dictionnaire avec les mots comme les clés et le nombre d'occurrence comme valeur. La fonction doit être appelée `compte_mots`. Supposons qu'on l'exécute sur le code suivant.\n",
    "\n",
    "```Python\n",
    "texte = '''Le terme Python est un nom vernaculaire ambigu désignant en \n",
    "français plusieurs espèces de serpents appartenant à différents genres des \n",
    "familles des Pythonidae et des Loxocemidae. Python est aussi un langage de\n",
    "programmation maîtrisé par tous les étudiants d'AP1 de l'UPEM.'''\n",
    "\n",
    "dico = compte_mots(texte)\n",
    "print(\"Le mot Python est présent\", dico['python'], \"fois\")\n",
    "print(\"Le mot AP1 est présent\", dico['AP1'], \"fois\")\n",
    "```\n",
    "\n",
    "Le suivant doit être affiché :\n",
    "\n",
    "```\n",
    "Le mot Python est présent 2 fois\n",
    "Le mot AP1 est présent 1 fois\n",
    "```\n",
    "\n",
    "**Indication : Vous pouvez utiliser la constante `string.punctuation` et les functions `replace` et `split` pour manipuler les chaînes de caractères**"
   ]
  },
  {
   "cell_type": "code",
   "execution_count": null,
   "metadata": {},
   "outputs": [],
   "source": []
  },
  {
   "cell_type": "markdown",
   "metadata": {},
   "source": [
    "**Exercice 5** : Le secrétariat a une liste des enseignants, avec l'information géographique, i.e., dans quel bâtiment se trouve chaque chercheur. Suite aux travaux de rénovation, tous les enseignants dans un certain bâtiment doivent être déplacés vers un autre, et le secrétariat doit renouveler les informations. Composer une fonction `demenage` pour mettre à jour ces informations. Votre fonction prendra trois argument : un dictionnaires qui enregistre les anciennes informations, le nom du bâtiment évacué, et le nom du bâtiment recevant les enseignants évacués. La fonction doit renvoyer un nouveau dictionnaire comme liste mise à jours. Vous pouvez tester votre fonction sur les données suivantes :\n",
    "\n",
    "```Python\n",
    "locaux = {'Olivier BOUILLOT': 'Copernic', 'Fabian REITER': 'Copernic', 'Chaohui WANG': 'Coriolis', 'Cédric VILLANI': 'IHP'}\n",
    "```"
   ]
  },
  {
   "cell_type": "code",
   "execution_count": null,
   "metadata": {},
   "outputs": [],
   "source": []
  },
  {
   "cell_type": "markdown",
   "metadata": {},
   "source": [
    "**Exercice 6** : Faire un dictionnaire avec un dictionnaire !\n",
    "\n",
    "On vous fournit un dictionnaire (par exemple, le grand Larousse) sous forme de `dict` en Python, et vous allez écrire un programme qui fait la recherche d'un mot dans ce dictionnaire. Pour cela, vous allez écrire des fonctions qui reçoivent en paramètre le dictionnaire fourni et la requête de l'utilisateur (un mot exprimé sous forme de chaîne de caractères) et renvoient la définition du mot recherché.\n",
    "\n",
    "- Écrire une fonction `recherche_mot_complet(dico, m)` qui prend un dictionnaire `dico` et un mot complet `m` et qui renvoie l'entrée du dictionnaire concernant le mot recherché. Si le mot n'existe pas dans `dico`, alors on renvoie une chaîne vide.\n",
    "- Écrire une fonction `recherche_mot_partiel(dico, m)` qui prend le dictionnaire `dico` et un mot partiel `m` et qui renvoie un petit dictionnaire contenant tous les mots commençant par `m` accompagnés de leur définition. Quand rien n'est trouvé, la fonction doit renvoyer un dictionnaire vide. Vous pourrez vous servir de la méthode `find` des chaînes de caractères.\n",
    "\n",
    "Voici un exemple d'utilisation de ces fonctions :\n",
    "\n",
    "```Python\n",
    "d = {'chercheur': \"une personne dont personne ne sait ce qu'elle fait\",\n",
    "     'étudiant': \"une personne qui ne sait pas ce qu'elle fait\",\n",
    "     'ingénieur': \"une personne qui pense qu'elle sait ce qu'elle fait\",\n",
    "     'enseignant': \"une personne qui sait que l'ingénieur ne sait pas ce qu'il fait\",\n",
    "     'enseignement': \"une procédure pour convertir un étudiant en un non-étudiant\",\n",
    "     'étudier': \"une forme d'enrichissement, principalement en cafféine\"}\n",
    "\n",
    "print('étudiant -->', recherche_mot_complet(d, 'étudiant'))\n",
    "print('secrétariat -->', recherche_mot_complet(d, 'secrétariat'))\n",
    "print('ensei -->', recherche_mot_partiel(d, 'ensei'))\n",
    "print('cher -->', recherche_mot_partiel(d, 'cher'))\n",
    "print('mat -->', recherche_mot_partiel(d, 'mat'))\n",
    "```\n",
    "\n",
    "Voici le résultat attendu :\n",
    "\n",
    "```\n",
    "étudiant --> une personne qui ne sait pas ce qu'elle fait\n",
    "secrétariat -->\n",
    "ensei --> {'enseignant': \"une personne qui sait que l'ingénieur ne sait pas ce qu'il fait\", 'enseignement': 'une procédure pour convertir un étudiant en un non-étudiant'}\n",
    "cher --> {'chercheur': \"une personne dont personne ne sait ce qu'elle fait\"}\n",
    "mat --> {}\n",
    "```"
   ]
  },
  {
   "cell_type": "code",
   "execution_count": null,
   "metadata": {},
   "outputs": [],
   "source": []
  },
  {
   "cell_type": "markdown",
   "metadata": {},
   "source": [
    "### Méthodes sur les dictionnaires\n",
    "\n",
    "* `dico.keys()` : accès aux clés\n",
    "* `dico.values()` : accès aux valeurs \n",
    "* `dico.items()` : accès aux paires (clé, valeur)\n",
    "* `dico.copy()` : copie\n",
    "* `dico.clear()` : vidange\n",
    "* `dico.pop(cle)` : retrait de valeur\n",
    "* `dico.update(dico2)` : mise à jour / fusion\n",
    "* *etc.*\n",
    "\n",
    "Il en existe d'autres, *consultez la [doc](https://docs.python.org/fr/3/) !*"
   ]
  }
 ],
 "metadata": {
  "kernelspec": {
   "display_name": "Python 3",
   "language": "python",
   "name": "python3"
  },
  "language_info": {
   "codemirror_mode": {
    "name": "ipython",
    "version": 3
   },
   "file_extension": ".py",
   "mimetype": "text/x-python",
   "name": "python",
   "nbconvert_exporter": "python",
   "pygments_lexer": "ipython3",
   "version": "3.7.3"
  }
 },
 "nbformat": 4,
 "nbformat_minor": 2
}
