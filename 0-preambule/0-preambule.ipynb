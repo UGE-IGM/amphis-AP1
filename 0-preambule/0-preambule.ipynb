{
 "cells": [
  {
   "cell_type": "markdown",
   "id": "15ad78a9",
   "metadata": {
    "slideshow": {
     "slide_type": "slide"
    }
   },
   "source": [
    "<div style='float:center; margin-right:20pt; width:30em'><img src='../img/logo-igm.png'></div>\n",
    "<div style='float:center; font-size:large'>\n",
    "    <strong>Algorithmique et programmation 1</strong><br>\n",
    "    L1 Mathématiques - L1 Informatique<br>\n",
    "    Semestre 1\n",
    "</div>"
   ]
  },
  {
   "cell_type": "markdown",
   "id": "4780c963",
   "metadata": {
    "slideshow": {
     "slide_type": "-"
    }
   },
   "source": [
    "# Préambule"
   ]
  },
  {
   "cell_type": "markdown",
   "id": "794c5cbb",
   "metadata": {
    "slideshow": {
     "slide_type": "slide"
    }
   },
   "source": [
    "## Trouver des informations\n",
    "\n",
    "-   **Contacts** (à chercher dans [l'annuaire](https://annuaire.u-pem.fr/index.php)) :\n",
    "    - Responsable de formation : Francis Ribaud\n",
    "    - Secrétaire de formation : Ramatoulaye Barry  \n",
    "      (absence, pb admin, ...)\n",
    "    - Responsables de l'UE : Marie van den Bogaard, Léo Exibard, Antoine Meyer"
   ]
  },
  {
   "cell_type": "markdown",
   "id": "54cad686",
   "metadata": {
    "slideshow": {
     "slide_type": "subslide"
    }
   },
   "source": [
    "-   **Page web** :\n",
    "    -   https://elearning.univ-eiffel.fr/course/view.php?id=3222\n",
    "    -   Ressources diverses (ouvrages, liens, astuces...)\n",
    "    -   Sujets des TD, des TP, liens vers les supports de cours"
   ]
  },
  {
   "cell_type": "markdown",
   "id": "a74d45b4",
   "metadata": {
    "slideshow": {
     "slide_type": "subslide"
    }
   },
   "source": [
    "-   **Communication** : \n",
    "    - Discord : https://discord.gg/KE2ywyVx\n",
    "    -   *Exclusivement* sur votre adresse <<vous@edu.univ-eiffel.fr>>\n",
    "    -   *Webmail* : http://partage.u-pem.fr"
   ]
  },
  {
   "cell_type": "markdown",
   "id": "6b0d6253",
   "metadata": {
    "slideshow": {
     "slide_type": "slide"
    }
   },
   "source": [
    "## Objectif du module\n",
    "\n",
    "Découverte de l'informatique par la *programmation*\n",
    "+   Exercices et exemples tirés de plusieurs contextes\n",
    "+ On fabrique des trucs qui *marchent*"
   ]
  },
  {
   "cell_type": "markdown",
   "id": "5f19657c",
   "metadata": {
    "slideshow": {
     "slide_type": "subslide"
    }
   },
   "source": [
    "Initiation à l'*algorithmique*\n",
    "+   Problème algorithmique / solution algorithmique\n",
    "+   Structures de contrôle classiques\n",
    "+   Analyse d'algorithmes simples\n",
    "    \n",
    "(ne pas confondre algorithme et programme !)"
   ]
  },
  {
   "cell_type": "markdown",
   "id": "c6627287",
   "metadata": {
    "slideshow": {
     "slide_type": "slide"
    }
   },
   "source": [
    "## Motivation\n",
    "\n",
    "Pour ce cours :\n",
    "+   Très peu de pré-requis (tout le monde peut réussir)\n",
    "+   Servira quelles que soient vos études et votre métier\n",
    "+   Uniquement des notions essentielles"
   ]
  },
  {
   "cell_type": "markdown",
   "id": "d04399b7",
   "metadata": {
    "slideshow": {
     "slide_type": "subslide"
    }
   },
   "source": [
    "Pour l'informatique en général :\n",
    "+   Pas seulement pour les *geeks*\n",
    "+   Pas seulement pour les garçons\n",
    "+   Plein emploi après un M2\n",
    "+   Nombreuses qualités utiles\n",
    "+   Nombreux métiers possibles"
   ]
  },
  {
   "cell_type": "markdown",
   "id": "689f4bd6",
   "metadata": {
    "slideshow": {
     "slide_type": "slide"
    }
   },
   "source": [
    "## Quelques mots sur Python\n",
    "\n",
    "C'est un langage de programmation :\n",
    "\n",
    "-   Plutôt récent (première version en 1990)\n",
    "-   Libre (*free as in beer and as in speech*)\n",
    "-   Très utilisé (enseignement, entreprise, logiciel libre)\n",
    "-   Facile à apprendre (plus que le C en L2 et le Java en L3...)\n",
    "-   Récemment adopté au lycée !"
   ]
  },
  {
   "cell_type": "markdown",
   "id": "4fbc63fb",
   "metadata": {
    "slideshow": {
     "slide_type": "subslide"
    }
   },
   "source": [
    "Caractéristiques techniques du langage :\n",
    "\n",
    "-   Interprété (exécuté \"ligne par ligne\")\n",
    "-   Typé dynamiquement (pendant l'exécution)\n",
    "-   Concis et expressif (types prédéfinis)\n",
    "-   \"Multi-paradigmes\" (impératif, fonctionnel, objet...)"
   ]
  }
 ],
 "metadata": {
  "celltoolbar": "Diaporama",
  "kernelspec": {
   "display_name": "Python 3 (ipykernel)",
   "language": "python",
   "name": "python3"
  },
  "language_info": {
   "codemirror_mode": {
    "name": "ipython",
    "version": 3
   },
   "file_extension": ".py",
   "mimetype": "text/x-python",
   "name": "python",
   "nbconvert_exporter": "python",
   "pygments_lexer": "ipython3",
   "version": "3.10.6"
  }
 },
 "nbformat": 4,
 "nbformat_minor": 5
}
