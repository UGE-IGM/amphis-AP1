{
 "cells": [
  {
   "cell_type": "markdown",
   "metadata": {
    "slideshow": {
     "slide_type": "slide"
    }
   },
   "source": [
    "<div style='float:center; margin-right:20pt; width:25em'><img src='../img/logo-igm.png'></div>\n",
    "<div style='float:center; font-size:large'>\n",
    "    <strong>Algorithmique et programmation 1</strong><br>\n",
    "    L1 Mathématiques - L1 Informatique<br>\n",
    "    Semestre 1\n",
    "</div>"
   ]
  },
  {
   "cell_type": "markdown",
   "metadata": {
    "slideshow": {
     "slide_type": "-"
    }
   },
   "source": [
    "# Chapitre 2 : Conditionnelles, boucles et expressions booléennes"
   ]
  },
  {
   "cell_type": "markdown",
   "metadata": {
    "slideshow": {
     "slide_type": "slide"
    }
   },
   "source": [
    "## Introduction\n",
    "\n",
    "Voilà le genre de choses qu'on a appris à faire au chapitre précédent :"
   ]
  },
  {
   "cell_type": "code",
   "execution_count": 1,
   "metadata": {
    "slideshow": {
     "slide_type": "-"
    }
   },
   "outputs": [],
   "source": [
    "# Ingrédients pour une recette simple\n",
    "nom_recette = \"une omelette\"\n",
    "nb_personnes_ref = 2\n",
    "q_oeuf_ref = 4"
   ]
  },
  {
   "cell_type": "markdown",
   "metadata": {
    "slideshow": {
     "slide_type": "slide"
    }
   },
   "source": [
    "# Intermède : retour sur le modèle de mémoire\n",
    "\n",
    "<figure text-align=\"center\">\n",
    "  <img src=\"img/commode.png\" alt=\"Commode\" class=\"center\" style=\"width: 500px;\"/>\n",
    "  <figcaption>Une histoire de commode...</figcaption>\n",
    "</figure>"
   ]
  },
  {
   "cell_type": "markdown",
   "metadata": {
    "slideshow": {
     "slide_type": "slide"
    }
   },
   "source": [
    "### Modèle de mémoire de Python\n",
    "\n",
    "*Modèle de mémoire : une image simplifiée de la manière dont fonctionne la mémoire de l'interpréteur Python*\n",
    "\n",
    "Deux zones principales :\n",
    "- la zone des données (le « tas », en anglais *heap*)\n",
    "- la zone des espaces de noms (la « pile », en anglais *stack*)\n",
    "\n",
    "Dans [Python Tutor](https://pythontutor.com/render.html#mode=display) : pile à gauche, tas à droite"
   ]
  },
  {
   "cell_type": "markdown",
   "metadata": {
    "slideshow": {
     "slide_type": "subslide"
    }
   },
   "source": [
    "#### Le tas\n",
    "\n",
    "Le tas est comme une *très* grosse commode dans laquelle sont décrits les objets manipulés par un programme\n",
    "- Chaque objet décrit dans la commode est stocké dans un tiroir, qui a une *adresse*\n",
    "- Certains tiroirs sont vides, d'autres sont remplis"
   ]
  },
  {
   "cell_type": "markdown",
   "metadata": {
    "slideshow": {
     "slide_type": "fragment"
    }
   },
   "source": [
    "#### La pile\n",
    "\n",
    "La pile stocke les étiquettes des tiroirs\n",
    "\n",
    "- À chaque variable est associé l'adresse d'un tiroir"
   ]
  },
  {
   "cell_type": "markdown",
   "metadata": {
    "slideshow": {
     "slide_type": "skip"
    }
   },
   "source": [
    "- Un groupe de variables et les numéros de page correspondants est appelé **espace de noms**\n",
    "- La pile contient l'espace de noms **global**, contenant les noms définis par nos programmes  \n",
    "  *(en réalité la pile contient aussi d'autres espaces de noms, on en reparlera)*"
   ]
  },
  {
   "cell_type": "markdown",
   "metadata": {
    "slideshow": {
     "slide_type": "subslide"
    }
   },
   "source": [
    "<figure>\n",
    "  <img src=\"img/commode2.png\" alt=\"Commode\" class=\"center\" style=\"width: 500px;\"/>\n",
    "  <figcaption>... De gigantesque commode</figcaption>\n",
    "</figure>"
   ]
  },
  {
   "cell_type": "markdown",
   "metadata": {
    "slideshow": {
     "slide_type": "slide"
    }
   },
   "source": [
    "### Étapes d'une affectation \n",
    "\n",
    "#### Affectation simple"
   ]
  },
  {
   "cell_type": "code",
   "execution_count": 2,
   "metadata": {
    "slideshow": {
     "slide_type": "-"
    }
   },
   "outputs": [],
   "source": [
    "x = 40 + 2"
   ]
  },
  {
   "cell_type": "markdown",
   "metadata": {
    "slideshow": {
     "slide_type": "subslide"
    }
   },
   "source": [
    "1.  Évaluation de l'expression à droite du `=` (ici `42`)\n",
    "\n",
    "    ![affectation1.png](img/affectation1.png)\n",
    "\n",
    "    La valeur `42` de type `int` est stockée dans le tas *(mise dans un tiroir)*"
   ]
  },
  {
   "cell_type": "markdown",
   "metadata": {
    "slideshow": {
     "slide_type": "subslide"
    }
   },
   "source": [
    "2. Création du nom `x`\n",
    "   ![affectation2.png](img/affectation2.png)\n",
    "   On ajoute `x` à la pile *(on crée une étiquette `x`)*"
   ]
  },
  {
   "cell_type": "markdown",
   "metadata": {
    "slideshow": {
     "slide_type": "subslide"
    }
   },
   "source": [
    "3. Création du lien entre *variable* et *valeur*\n",
    "   ![affectation3.png](img/affectation3.png)\n",
    "   L'adresse de l'objet `42` est associée à la variable `x` *(on colle l'étiquette `x` sur le tiroir contenant l'objet `42`)*"
   ]
  },
  {
   "cell_type": "markdown",
   "metadata": {
    "slideshow": {
     "slide_type": "subslide"
    }
   },
   "source": [
    "#### Deuxième exemple"
   ]
  },
  {
   "cell_type": "code",
   "execution_count": 3,
   "metadata": {
    "slideshow": {
     "slide_type": "-"
    }
   },
   "outputs": [],
   "source": [
    "y = x"
   ]
  },
  {
   "cell_type": "markdown",
   "metadata": {
    "slideshow": {
     "slide_type": "-"
    }
   },
   "source": [
    "<img src='../img/warning.png' width=50px style='display:inline'> Dans cet exemple le `x` en partie droite de l'affectation désigne la **valeur** actuellement associée à la variable `x` !"
   ]
  },
  {
   "cell_type": "markdown",
   "metadata": {
    "slideshow": {
     "slide_type": "subslide"
    }
   },
   "source": [
    "1. Calcul du *membre droit* après remplacement de chaque variable par la valeur associée (ici `x` remplacé par `42`)\n",
    "    ![affectation4.png](img/affectation4.png)"
   ]
  },
  {
   "cell_type": "markdown",
   "metadata": {
    "slideshow": {
     "slide_type": "subslide"
    }
   },
   "source": [
    "2. Création du nom `y` (sauf si déjà créé) \n",
    "    ![affectation5bis.png](img/affectation5_bis.png)"
   ]
  },
  {
   "cell_type": "markdown",
   "metadata": {
    "slideshow": {
     "slide_type": "subslide"
    }
   },
   "source": [
    "3. Création du lien entre `y` et `42`\n",
    "    ![affectation5.png](img/affectation5.png)"
   ]
  },
  {
   "cell_type": "markdown",
   "metadata": {
    "slideshow": {
     "slide_type": "subslide"
    }
   },
   "source": [
    "#### Troisième exemple"
   ]
  },
  {
   "cell_type": "code",
   "execution_count": 4,
   "metadata": {
    "slideshow": {
     "slide_type": "-"
    }
   },
   "outputs": [],
   "source": [
    "x = x + 1"
   ]
  },
  {
   "cell_type": "markdown",
   "metadata": {
    "slideshow": {
     "slide_type": "-"
    }
   },
   "source": [
    "<img src='../img/warning.png' width=50px style='display:inline'> Dans cet exemple, le `x` de gauche désigne le nom `x` lui-même, mais celui de droite désigne la **valeur** actuellement associée à `x`"
   ]
  },
  {
   "cell_type": "markdown",
   "metadata": {
    "slideshow": {
     "slide_type": "subslide"
    }
   },
   "source": [
    "1. Calcul du *membre droit* après remplacement de chaque variable par la valeur associée (ici `x` remplacé par `42`, résultat : `43`)\n",
    "    ![affectation6.png](img/affectation6.png)"
   ]
  },
  {
   "cell_type": "markdown",
   "metadata": {
    "slideshow": {
     "slide_type": "subslide"
    }
   },
   "source": [
    "2. Nom `x` déjà existant, création du lien entre `x` et 43\n",
    "    ![affectation7.png](img/affectation7.png)"
   ]
  },
  {
   "cell_type": "markdown",
   "metadata": {
    "slideshow": {
     "slide_type": "subslide"
    }
   },
   "source": [
    "#### <img src='../img/warning.png' width=50px style='display:inline'> Piège !\n",
    "\n",
    "Que vaut maintenant `y` ?"
   ]
  },
  {
   "cell_type": "code",
   "execution_count": 5,
   "metadata": {
    "slideshow": {
     "slide_type": "fragment"
    }
   },
   "outputs": [
    {
     "data": {
      "text/plain": [
       "42"
      ]
     },
     "execution_count": 5,
     "metadata": {},
     "output_type": "execute_result"
    }
   ],
   "source": [
    "y"
   ]
  },
  {
   "cell_type": "markdown",
   "metadata": {
    "slideshow": {
     "slide_type": "-"
    }
   },
   "source": [
    "Même si `x` et `y` désignaient avant le même objet (la même adresse, le même *tiroir*), changer le tiroir que désigne `x` n'a aucun effet sur `y` ! On n'a pas *modifié* l'objet 42, qui est toujours là !"
   ]
  },
  {
   "cell_type": "markdown",
   "metadata": {
    "slideshow": {
     "slide_type": "skip"
    }
   },
   "source": [
    "**Remarque :** L'instruction `x = x + 1` peut aussi s'écrire `x += 1`. On appelle cela une **incrémentation** de `x`."
   ]
  },
  {
   "cell_type": "code",
   "execution_count": 6,
   "metadata": {
    "slideshow": {
     "slide_type": "skip"
    }
   },
   "outputs": [],
   "source": [
    "x += 1"
   ]
  },
  {
   "cell_type": "markdown",
   "metadata": {
    "slideshow": {
     "slide_type": "skip"
    }
   },
   "source": [
    "De même, `x *= 2` est une version plus concise de `x = x * 2`."
   ]
  },
  {
   "cell_type": "markdown",
   "metadata": {
    "slideshow": {
     "slide_type": "subslide"
    }
   },
   "source": [
    "#### Dernier exemple"
   ]
  },
  {
   "cell_type": "code",
   "execution_count": 7,
   "metadata": {
    "slideshow": {
     "slide_type": "-"
    }
   },
   "outputs": [],
   "source": [
    "x = -6.5"
   ]
  },
  {
   "cell_type": "markdown",
   "metadata": {
    "slideshow": {
     "slide_type": "-"
    }
   },
   "source": [
    "![affectation8.png](img/affectation8.png)"
   ]
  },
  {
   "cell_type": "markdown",
   "metadata": {
    "slideshow": {
     "slide_type": "subslide"
    }
   },
   "source": [
    "#### <img src='../img/warning.png' width=50px style='display:inline'> Quelques points de détail\n",
    "\n",
    "- On peut réaffecter une valeur de type différent à une variable (comme dans le dernier exemple)\n",
    "- En cas de réaffectation, le lien précédent est oublié\n",
    "- Quand aucun lien n'existe vers un objet, il est \"détruit\" par le ramasse-miettes ou *garbage collector* (le tiroir est vidé !)"
   ]
  },
  {
   "cell_type": "markdown",
   "metadata": {
    "slideshow": {
     "slide_type": "slide"
    }
   },
   "source": [
    "## Fin de l'intermède : retour à l'omelette\n",
    "\n",
    "Le genre de choses qu'on a appris à faire au chapitre précédent (suite) :"
   ]
  },
  {
   "cell_type": "code",
   "execution_count": 8,
   "metadata": {
    "slideshow": {
     "slide_type": "-"
    }
   },
   "outputs": [
    {
     "name": "stdout",
     "output_type": "stream",
     "text": [
      "Combien de convives ? 10\n"
     ]
    }
   ],
   "source": [
    "# Calcul du coefficient de proportionnalité\n",
    "nb_convives = int(input(\"Combien de convives ? \"))\n",
    "rapport = nb_convives / nb_personnes_ref"
   ]
  },
  {
   "cell_type": "code",
   "execution_count": 9,
   "metadata": {
    "slideshow": {
     "slide_type": "subslide"
    }
   },
   "outputs": [],
   "source": [
    "# Calcul de la quantité requise\n",
    "q_oeuf = round(q_oeuf_ref * rapport)"
   ]
  },
  {
   "cell_type": "code",
   "execution_count": 10,
   "metadata": {
    "slideshow": {
     "slide_type": "subslide"
    }
   },
   "outputs": [
    {
     "name": "stdout",
     "output_type": "stream",
     "text": [
      "Pour faire une omelette pour 10 personne(s)\n",
      "il vous faut 20 oeuf(s).\n"
     ]
    }
   ],
   "source": [
    "# Affichage\n",
    "print(\"Pour faire\", nom_recette, \"pour\", nb_convives, \"personne(s)\")\n",
    "print(\"il vous faut\", q_oeuf, \"oeuf(s).\")"
   ]
  },
  {
   "cell_type": "markdown",
   "metadata": {
    "slideshow": {
     "slide_type": "subslide"
    }
   },
   "source": [
    "Ici les **instructions** du programme sont exécutées toujours dans le même ordre."
   ]
  },
  {
   "cell_type": "markdown",
   "metadata": {
    "slideshow": {
     "slide_type": "slide"
    }
   },
   "source": [
    "On va maintenant ajouter la possibilité de faire des **choix** dans le programme, pour exécuter des instructions différentes selon les cas."
   ]
  },
  {
   "cell_type": "markdown",
   "metadata": {
    "slideshow": {
     "slide_type": "slide"
    }
   },
   "source": [
    "### Exemple\n",
    "Et si on veut vérifier que l'utilisateur n'entre pas n'importe quoi ?\n",
    "\n",
    "Et accorder correctement ?"
   ]
  },
  {
   "cell_type": "code",
   "execution_count": 11,
   "metadata": {
    "slideshow": {
     "slide_type": "-"
    }
   },
   "outputs": [
    {
     "name": "stdout",
     "output_type": "stream",
     "text": [
      "Pour faire une omelette pour 10 personnes il vous faut 20 oeufs.\n"
     ]
    }
   ],
   "source": [
    "if nb_convives <= 0:\n",
    "    print(\"Le nombre de convives saisi est incorrect.\")\n",
    "else :\n",
    "    print(\"Pour faire\", nom_recette, \"pour\", nb_convives, end=\" \")\n",
    "    if nb_convives == 1:\n",
    "        print(\"personne\", end=\" \")\n",
    "    else:\n",
    "        print(\"personnes\", end=\" \")\n",
    "    if q_oeuf == 1:\n",
    "        print(\"il vous faut\", q_oeuf, \"oeuf.\")\n",
    "    else:\n",
    "        print(\"il vous faut\", q_oeuf, \"oeufs.\")"
   ]
  },
  {
   "cell_type": "code",
   "execution_count": 12,
   "metadata": {
    "slideshow": {
     "slide_type": "subslide"
    }
   },
   "outputs": [
    {
     "name": "stdout",
     "output_type": "stream",
     "text": [
      "Combien de convives ? 1\n",
      "Pour faire une omelette pour 1 personne il vous faut 20 oeufs.\n"
     ]
    }
   ],
   "source": [
    "nb_convives = int(input(\"Combien de convives ? \"))\n",
    "if nb_convives <= 0:\n",
    "    print(\"Le nombre de convives saisi est incorrect.\")\n",
    "else :\n",
    "    print(\"Pour faire\", nom_recette, \"pour\", nb_convives, end=\" \")\n",
    "    if nb_convives == 1:\n",
    "        print(\"personne\", end=\" \")\n",
    "    else:\n",
    "        print(\"personnes\", end=\" \")\n",
    "    if q_oeuf == 1:\n",
    "        print(\"il vous faut\", q_oeuf, \"oeuf.\")\n",
    "    else:\n",
    "        print(\"il vous faut\", q_oeuf, \"oeufs.\")"
   ]
  },
  {
   "cell_type": "markdown",
   "metadata": {
    "slideshow": {
     "slide_type": "skip"
    }
   },
   "source": [
    "Autre version :"
   ]
  },
  {
   "cell_type": "code",
   "execution_count": 13,
   "metadata": {
    "slideshow": {
     "slide_type": "skip"
    }
   },
   "outputs": [
    {
     "name": "stdout",
     "output_type": "stream",
     "text": [
      "Pour faire une omelette pour 1 personne\n",
      "il vous faut 20 oeufs.\n"
     ]
    }
   ],
   "source": [
    "nb_convives = 1\n",
    "if nb_convives < 0:\n",
    "    print(\"Le nombre de convives saisi est incorrect.\")\n",
    "else :\n",
    "    accord_convives = \"\"\n",
    "    accord_oeufs = \"\"\n",
    "    if nb_convives > 1:\n",
    "        accord_convives = \"s\"\n",
    "    print(\"Pour faire\", nom_recette, \"pour\", nb_convives, \n",
    "          \"personne\" + accord_convives)\n",
    "    if q_oeuf > 1:\n",
    "        accord_oeuf = \"s\"\n",
    "    print(\"il vous faut\", q_oeuf, \"oeuf\" + accord_oeuf + \".\")"
   ]
  },
  {
   "cell_type": "markdown",
   "metadata": {
    "slideshow": {
     "slide_type": "slide"
    }
   },
   "source": [
    "### Exercice (https://question.direct/eiffel)"
   ]
  },
  {
   "cell_type": "code",
   "execution_count": 14,
   "metadata": {
    "slideshow": {
     "slide_type": "-"
    }
   },
   "outputs": [],
   "source": [
    "note_cc0 = 8.75\n",
    "note_cc1 = 12\n",
    "note_cc2 = 13\n",
    "\n",
    "coef_cc0 = 1\n",
    "coef_cc1 = 2\n",
    "coef_cc2 = 2\n",
    "\n",
    "somme_coefs = coef_cc0 + coef_cc1 + coef_cc2\n",
    "somme_notes = (coef_cc0 * note_cc0\n",
    "               + coef_cc1 * note_cc1\n",
    "               + coef_cc2 * note_cc2)\n",
    "moyenne = somme_notes / somme_coefs"
   ]
  },
  {
   "cell_type": "markdown",
   "metadata": {
    "slideshow": {
     "slide_type": "-"
    }
   },
   "source": [
    "  <img src=\"img/QR_questions.direct.png\" alt=\"QR_questions.direct\" class=\"center\" style=\"width: 400px;\"/>"
   ]
  },
  {
   "cell_type": "markdown",
   "metadata": {
    "slideshow": {
     "slide_type": "subslide"
    }
   },
   "source": [
    "1. Lire le programme et prévoir la valeur de la variable `moyenne`.\n",
    "2. Modifier le programme pour que la note de CC0 ne soit **pas** prise en compte si elle fait baisser la moyenne."
   ]
  },
  {
   "cell_type": "code",
   "execution_count": 15,
   "metadata": {
    "slideshow": {
     "slide_type": "fragment"
    }
   },
   "outputs": [
    {
     "data": {
      "text/plain": [
       "11.75"
      ]
     },
     "execution_count": 15,
     "metadata": {},
     "output_type": "execute_result"
    }
   ],
   "source": [
    "moyenne"
   ]
  },
  {
   "cell_type": "code",
   "execution_count": 16,
   "metadata": {
    "slideshow": {
     "slide_type": "subslide"
    }
   },
   "outputs": [],
   "source": [
    "note_cc0 = 8.75\n",
    "note_cc1 = 12\n",
    "note_cc2 = 13\n",
    "\n",
    "coef_cc0 = 1\n",
    "coef_cc1 = 2\n",
    "coef_cc2 = 2\n",
    "\n",
    "# Sans prendre en compte le CC0\n",
    "somme_coefs_sans = coef_cc1 + coef_cc2\n",
    "somme_notes_sans = (coef_cc1 * note_cc1\n",
    "               + coef_cc2 * note_cc2)\n",
    "moyenne_sans = somme_notes_sans / somme_coefs_sans\n",
    "\n",
    "# En prenant en compte le CC0\n",
    "somme_coefs_avec = coef_cc0 + coef_cc1 + coef_cc2\n",
    "somme_notes_avec = (coef_cc0 * note_cc0\n",
    "               + coef_cc1 * note_cc1\n",
    "               + coef_cc2 * note_cc2)\n",
    "moyenne_avec = somme_notes_avec / somme_coefs_avec\n",
    "\n",
    "# Comparaison entre les deux\n",
    "if moyenne_sans < moyenne_avec:\n",
    "    moyenne = moyenne_avec\n",
    "else:\n",
    "    moyenne = moyenne_sans"
   ]
  },
  {
   "cell_type": "code",
   "execution_count": 17,
   "metadata": {
    "scrolled": true,
    "slideshow": {
     "slide_type": "subslide"
    }
   },
   "outputs": [
    {
     "data": {
      "text/plain": [
       "12.5"
      ]
     },
     "execution_count": 17,
     "metadata": {},
     "output_type": "execute_result"
    }
   ],
   "source": [
    "moyenne_sans"
   ]
  },
  {
   "cell_type": "code",
   "execution_count": 18,
   "metadata": {
    "scrolled": true,
    "slideshow": {
     "slide_type": "-"
    }
   },
   "outputs": [
    {
     "data": {
      "text/plain": [
       "11.75"
      ]
     },
     "execution_count": 18,
     "metadata": {},
     "output_type": "execute_result"
    }
   ],
   "source": [
    "moyenne_avec"
   ]
  },
  {
   "cell_type": "code",
   "execution_count": 19,
   "metadata": {
    "scrolled": true,
    "slideshow": {
     "slide_type": "-"
    }
   },
   "outputs": [
    {
     "data": {
      "text/plain": [
       "12.5"
      ]
     },
     "execution_count": 19,
     "metadata": {},
     "output_type": "execute_result"
    }
   ],
   "source": [
    "moyenne"
   ]
  },
  {
   "cell_type": "code",
   "execution_count": 20,
   "metadata": {
    "slideshow": {
     "slide_type": "subslide"
    }
   },
   "outputs": [],
   "source": [
    "note_cc0 = 18.75\n",
    "note_cc1 = 12\n",
    "note_cc2 = 13\n",
    "\n",
    "coef_cc0 = 1\n",
    "coef_cc1 = 2\n",
    "coef_cc2 = 2\n",
    "\n",
    "# Sans prendre en compte le CC0\n",
    "somme_coefs_sans = coef_cc1 + coef_cc2\n",
    "somme_notes_sans = (coef_cc1 * note_cc1\n",
    "               + coef_cc2 * note_cc2)\n",
    "moyenne_sans = somme_notes_sans / somme_coefs_sans\n",
    "\n",
    "# En prenant en compte le CC0\n",
    "somme_coefs_avec = coef_cc0 + coef_cc1 + coef_cc2\n",
    "somme_notes_avec = (coef_cc0 * note_cc0\n",
    "               + coef_cc1 * note_cc1\n",
    "               + coef_cc2 * note_cc2)\n",
    "moyenne_avec = somme_notes_avec / somme_coefs_avec\n",
    "\n",
    "# Comparaison entre les deux\n",
    "if moyenne_sans < moyenne_avec:\n",
    "    moyenne = moyenne_avec\n",
    "else:\n",
    "    moyenne = moyenne_sans"
   ]
  },
  {
   "cell_type": "code",
   "execution_count": 21,
   "metadata": {
    "scrolled": true,
    "slideshow": {
     "slide_type": "subslide"
    }
   },
   "outputs": [
    {
     "data": {
      "text/plain": [
       "12.5"
      ]
     },
     "execution_count": 21,
     "metadata": {},
     "output_type": "execute_result"
    }
   ],
   "source": [
    "moyenne_sans"
   ]
  },
  {
   "cell_type": "code",
   "execution_count": 22,
   "metadata": {
    "scrolled": true,
    "slideshow": {
     "slide_type": "-"
    }
   },
   "outputs": [
    {
     "data": {
      "text/plain": [
       "13.75"
      ]
     },
     "execution_count": 22,
     "metadata": {},
     "output_type": "execute_result"
    }
   ],
   "source": [
    "moyenne_avec"
   ]
  },
  {
   "cell_type": "code",
   "execution_count": 23,
   "metadata": {
    "scrolled": true,
    "slideshow": {
     "slide_type": "-"
    }
   },
   "outputs": [
    {
     "data": {
      "text/plain": [
       "13.75"
      ]
     },
     "execution_count": 23,
     "metadata": {},
     "output_type": "execute_result"
    }
   ],
   "source": [
    "moyenne"
   ]
  },
  {
   "cell_type": "markdown",
   "metadata": {
    "slideshow": {
     "slide_type": "skip"
    }
   },
   "source": [
    "### Une autre version"
   ]
  },
  {
   "cell_type": "code",
   "execution_count": 24,
   "metadata": {
    "slideshow": {
     "slide_type": "skip"
    }
   },
   "outputs": [],
   "source": [
    "note_cc0 = 18.75\n",
    "note_cc1 = 12\n",
    "note_cc2 = 13\n",
    "\n",
    "coef_cc0 = 1\n",
    "coef_cc1 = 2\n",
    "coef_cc2 = 2\n",
    "\n",
    "somme_coefs = coef_cc1 + coef_cc2\n",
    "somme_notes = (coef_cc1 * note_cc1\n",
    "               + coef_cc2 * note_cc2)\n",
    "\n",
    "moyenne = somme_notes / somme_coefs\n",
    "\n",
    "if note_cc0 > moyenne:\n",
    "    moyenne = (coef_cc0*note_cc0 + somme_notes) / (coef_cc0 + somme_coefs)"
   ]
  },
  {
   "cell_type": "code",
   "execution_count": 25,
   "metadata": {
    "slideshow": {
     "slide_type": "skip"
    }
   },
   "outputs": [
    {
     "data": {
      "text/plain": [
       "13.75"
      ]
     },
     "execution_count": 25,
     "metadata": {},
     "output_type": "execute_result"
    }
   ],
   "source": [
    "moyenne"
   ]
  },
  {
   "cell_type": "markdown",
   "metadata": {
    "slideshow": {
     "slide_type": "slide"
    }
   },
   "source": [
    "## Expressions booléennes\n",
    "\n",
    "Les instructions conditionnelles sont écrites à l'aide d'**expressions booléennes**, c'est à dire d'expressions qui s'évaluent en un valeur de type `bool` (`True` ou `False`).\n",
    "\n",
    "Elles peuvent contenir des opérateurs de comparaison, des opérateurs logiques, etc."
   ]
  },
  {
   "cell_type": "markdown",
   "metadata": {
    "slideshow": {
     "slide_type": "slide"
    }
   },
   "source": [
    "### Opérateurs de comparaison\n",
    "\n",
    "```python\n",
    "a < b   # a strictement inférieur b\n",
    "a <= b  # a inférieur ou égal à b\n",
    "a >= b  # a supérieur ou égal à b\n",
    "a > b   # a strictement supérieur à b\n",
    "```\n",
    "\n",
    "- `a` et `b` sont des **expressions**\n",
    "- elles doivent s'évaluer en des valeurs **de même type** (sauf exceptions)"
   ]
  },
  {
   "cell_type": "markdown",
   "metadata": {
    "slideshow": {
     "slide_type": "subslide"
    }
   },
   "source": [
    "Les opérateurs de comparaison fonctionnent sur de nombreux types de valeurs\n",
    "- Sur les `int` et `float` : ordre habituel sur les nombres\n",
    "- Sur les `str` : ordre *lexicographique* (dictionnaire)\n",
    "- Sur d'autres types qu'on verra plus tard"
   ]
  },
  {
   "cell_type": "code",
   "execution_count": 26,
   "metadata": {
    "slideshow": {
     "slide_type": "subslide"
    }
   },
   "outputs": [
    {
     "data": {
      "text/plain": [
       "True"
      ]
     },
     "execution_count": 26,
     "metadata": {},
     "output_type": "execute_result"
    }
   ],
   "source": [
    "12 < 13"
   ]
  },
  {
   "cell_type": "code",
   "execution_count": 27,
   "metadata": {
    "slideshow": {
     "slide_type": "-"
    }
   },
   "outputs": [
    {
     "data": {
      "text/plain": [
       "True"
      ]
     },
     "execution_count": 27,
     "metadata": {},
     "output_type": "execute_result"
    }
   ],
   "source": [
    "12 <= 12.0"
   ]
  },
  {
   "cell_type": "code",
   "execution_count": 28,
   "metadata": {
    "slideshow": {
     "slide_type": "skip"
    }
   },
   "outputs": [
    {
     "data": {
      "text/plain": [
       "False"
      ]
     },
     "execution_count": 28,
     "metadata": {},
     "output_type": "execute_result"
    }
   ],
   "source": [
    "3*0.1 <= 0.3"
   ]
  },
  {
   "cell_type": "code",
   "execution_count": 29,
   "metadata": {
    "slideshow": {
     "slide_type": "-"
    }
   },
   "outputs": [
    {
     "data": {
      "text/plain": [
       "False"
      ]
     },
     "execution_count": 29,
     "metadata": {},
     "output_type": "execute_result"
    }
   ],
   "source": [
    "\"informatique\" > \"math\""
   ]
  },
  {
   "cell_type": "markdown",
   "metadata": {
    "slideshow": {
     "slide_type": "subslide"
    }
   },
   "source": [
    "<img src='../img/warning.png' width='50px' style='display:inline'> **Rappel :** on ne peut pas ordonner des valeurs de types différents (sauf des nombres) ! "
   ]
  },
  {
   "cell_type": "code",
   "execution_count": 30,
   "metadata": {
    "slideshow": {
     "slide_type": "-"
    }
   },
   "outputs": [
    {
     "data": {
      "text/plain": [
       "True"
      ]
     },
     "execution_count": 30,
     "metadata": {},
     "output_type": "execute_result"
    }
   ],
   "source": [
    "1.0 < 2"
   ]
  },
  {
   "cell_type": "code",
   "execution_count": 31,
   "metadata": {
    "slideshow": {
     "slide_type": "-"
    }
   },
   "outputs": [
    {
     "ename": "TypeError",
     "evalue": "'<' not supported between instances of 'str' and 'int'",
     "output_type": "error",
     "traceback": [
      "\u001b[0;31m---------------------------------------------------------------------------\u001b[0m",
      "\u001b[0;31mTypeError\u001b[0m                                 Traceback (most recent call last)",
      "\u001b[0;32m/tmp/ipykernel_43560/925759114.py\u001b[0m in \u001b[0;36m<module>\u001b[0;34m\u001b[0m\n\u001b[0;32m----> 1\u001b[0;31m \u001b[0;34m'1'\u001b[0m \u001b[0;34m<\u001b[0m \u001b[0;36m2\u001b[0m\u001b[0;34m\u001b[0m\u001b[0;34m\u001b[0m\u001b[0m\n\u001b[0m",
      "\u001b[0;31mTypeError\u001b[0m: '<' not supported between instances of 'str' and 'int'"
     ]
    }
   ],
   "source": [
    "'1' < 2"
   ]
  },
  {
   "cell_type": "markdown",
   "metadata": {
    "slideshow": {
     "slide_type": "slide"
    }
   },
   "source": [
    "### Égalité ou inégalité \n",
    "\n",
    "```python\n",
    "a == b  # a égal à b\n",
    "a != b  # a différent de b\n",
    "```\n",
    "\n",
    "- `a` et `b` sont des **expressions**\n",
    "- elles peuvent être de types différents"
   ]
  },
  {
   "cell_type": "code",
   "execution_count": null,
   "metadata": {
    "slideshow": {
     "slide_type": "subslide"
    }
   },
   "outputs": [],
   "source": [
    "17 % 2 == 1"
   ]
  },
  {
   "cell_type": "code",
   "execution_count": null,
   "metadata": {
    "slideshow": {
     "slide_type": "-"
    }
   },
   "outputs": [],
   "source": [
    "a = -5\n",
    "a != abs(a)"
   ]
  },
  {
   "cell_type": "code",
   "execution_count": null,
   "metadata": {
    "slideshow": {
     "slide_type": "-"
    }
   },
   "outputs": [],
   "source": [
    "1.0 == 3 - 2  # l'égalité fonctionne aussi avec les float..."
   ]
  },
  {
   "cell_type": "code",
   "execution_count": null,
   "metadata": {
    "slideshow": {
     "slide_type": "-"
    }
   },
   "outputs": [],
   "source": [
    "0.3 == 3 * 0.1  # mais réserve parfois des surprises"
   ]
  },
  {
   "cell_type": "markdown",
   "metadata": {
    "slideshow": {
     "slide_type": "skip"
    }
   },
   "source": [
    "Les opérateurs `==` et `!=` acceptent des opérandes de types différents\n",
    "- renvoie généralement `False` si les opérandes sont de types différents\n",
    "- sauf parfois entre nombres"
   ]
  },
  {
   "cell_type": "code",
   "execution_count": null,
   "metadata": {
    "slideshow": {
     "slide_type": "skip"
    }
   },
   "outputs": [],
   "source": [
    "2 == '2'"
   ]
  },
  {
   "cell_type": "code",
   "execution_count": null,
   "metadata": {
    "slideshow": {
     "slide_type": "skip"
    }
   },
   "outputs": [],
   "source": [
    "'bonjour' != None"
   ]
  },
  {
   "cell_type": "code",
   "execution_count": null,
   "metadata": {
    "slideshow": {
     "slide_type": "skip"
    }
   },
   "outputs": [],
   "source": [
    "2 == 2.0  # Cas particulier : vrai car float(2) == 2.0"
   ]
  },
  {
   "cell_type": "markdown",
   "metadata": {
    "slideshow": {
     "slide_type": "subslide"
    }
   },
   "source": [
    "<img src='img/warning.png' width='50px' style='display:inline'> **Attention !** Ne pas confondre l'opérateur d'égalité (`==`) avec la syntaxe de l'affectation (`=`) !"
   ]
  },
  {
   "cell_type": "markdown",
   "metadata": {
    "slideshow": {
     "slide_type": "slide"
    }
   },
   "source": [
    "### Opérateurs logiques\n",
    "\n",
    "On peut combiner plusieurs expressions booléennes `a` et `b` à l'aide d'opérateurs logiques, inspirés de la logique mathématique.\n",
    "\n",
    "On peut résumer le comportement de ces opérateurs à l'aide de tableaux, appelés **tables de vérité**."
   ]
  },
  {
   "cell_type": "markdown",
   "metadata": {
    "slideshow": {
     "slide_type": "subslide"
    }
   },
   "source": [
    "#### Négation\n",
    "\n",
    "L'expression `not a` vaut `True` si `a` s'évalue en `False`, et `False` sinon (correspond à $\\lnot a$).\n",
    "\n",
    "`a`     | `not a` \n",
    "--------|---------\n",
    "`True`  | `False`\n",
    "`False` | `True`   "
   ]
  },
  {
   "cell_type": "markdown",
   "metadata": {
    "slideshow": {
     "slide_type": "subslide"
    }
   },
   "source": [
    "#### Conjonction\n",
    "\n",
    "L'expression `a and b` vaut `True` si `a` et `b` s'évaluent toutes les deux en `True`, et `False` sinon (correspond à $a \\land b$).\n",
    "\n",
    "`a`| `b` | `a and  b`\n",
    "---|---|---\n",
    "`True` | `True` | `True` \n",
    "`True` | `False` | `False` \n",
    "`False` | `True` | `False` \n",
    "`False` | `False` | `False`"
   ]
  },
  {
   "cell_type": "markdown",
   "metadata": {
    "slideshow": {
     "slide_type": "subslide"
    }
   },
   "source": [
    "#### Disjonction\n",
    "\n",
    "L'expression `a or b` vaut `True` si `a` s'évalue en `True` ou `b` s'évalue en `True`, et  `False` sinon (correspond à $a \\lor b$).\n",
    "\n",
    "`a` | `b` | `a or  b`\n",
    "---|---|---\n",
    "`True` | `True` | `True` \n",
    "`True` | `False` | `True` \n",
    "`False` | `True` | `True` \n",
    "`False` | `False` | `False`"
   ]
  },
  {
   "cell_type": "code",
   "execution_count": null,
   "metadata": {
    "slideshow": {
     "slide_type": "subslide"
    }
   },
   "outputs": [],
   "source": [
    "not (3 + 4 != 7)"
   ]
  },
  {
   "cell_type": "code",
   "execution_count": null,
   "metadata": {
    "slideshow": {
     "slide_type": "-"
    }
   },
   "outputs": [],
   "source": [
    "4 < 1 or 'Bonjour' >= 'Au revoir'"
   ]
  },
  {
   "cell_type": "markdown",
   "metadata": {
    "slideshow": {
     "slide_type": "notes"
    }
   },
   "source": [
    "<img src='img/non-exigible.png' width='50px' style='float:left'> En réalité les opérateurs `and` et `or` ont un comportement un peu spécial appelé **évaluation séquentielle** : on n'évalue le deuxième opérande que si c'est nécessaire pour déterminer le résultat.\n",
    "\n",
    "- `a and b` est à peu près équivalent à `b if a else a`\n",
    "- `a or b` est à peu près équivalent à `a if a else b`"
   ]
  },
  {
   "cell_type": "markdown",
   "metadata": {
    "slideshow": {
     "slide_type": "notes"
    }
   },
   "source": [
    "Cela signifie qu'on n'évalue pas toujours `b` dans `a and b` et dans `a or b`. Par exemple :"
   ]
  },
  {
   "cell_type": "code",
   "execution_count": null,
   "metadata": {
    "slideshow": {
     "slide_type": "skip"
    }
   },
   "outputs": [],
   "source": [
    "1/0  # erreur : division par 0"
   ]
  },
  {
   "cell_type": "code",
   "execution_count": null,
   "metadata": {
    "slideshow": {
     "slide_type": "-"
    }
   },
   "outputs": [],
   "source": [
    "True or 1/0 == 1    # ne provoque pas d'erreur !"
   ]
  },
  {
   "cell_type": "code",
   "execution_count": null,
   "metadata": {
    "slideshow": {
     "slide_type": "skip"
    }
   },
   "outputs": [],
   "source": [
    "False and 1/0 == 1  # ne provoque pas d'erreur !"
   ]
  },
  {
   "cell_type": "markdown",
   "metadata": {
    "slideshow": {
     "slide_type": "notes"
    }
   },
   "source": [
    "<img src='img/non-exigible.png' width='50px' style='float:left'> En Python, presque tout objet possède une valeur de vérité et peut s'utiliser comme un booléen... mais les règles sont un peu complexes.\n",
    "\n",
    "Par exemple :\n",
    "\n",
    "- les nombres égaux à 0 sont interprétés comme \"faux\"\n",
    "- la chaîne vide est interprétée comme \"faux\"\n",
    "- la valeur `None` est interprétée comme \"faux\", etc.\n",
    "\n",
    "Tout le reste est interprété comme \"vrai\""
   ]
  },
  {
   "cell_type": "markdown",
   "metadata": {
    "slideshow": {
     "slide_type": "skip"
    }
   },
   "source": [
    "Si on combine ces deux aspects du langage, ça peut donner des choses assez surprenantes..."
   ]
  },
  {
   "cell_type": "code",
   "execution_count": null,
   "metadata": {
    "slideshow": {
     "slide_type": "skip"
    }
   },
   "outputs": [],
   "source": [
    "'patate' and 'courgette'"
   ]
  },
  {
   "cell_type": "code",
   "execution_count": null,
   "metadata": {
    "slideshow": {
     "slide_type": "skip"
    }
   },
   "outputs": [],
   "source": [
    "'patate' or 'courgette'"
   ]
  },
  {
   "cell_type": "markdown",
   "metadata": {
    "slideshow": {
     "slide_type": "skip"
    }
   },
   "source": [
    "Ce comportement est largement **hors programme** et non exigible !"
   ]
  },
  {
   "cell_type": "markdown",
   "metadata": {
    "slideshow": {
     "slide_type": "slide"
    }
   },
   "source": [
    "### Quelques règles utiles"
   ]
  },
  {
   "cell_type": "markdown",
   "metadata": {
    "slideshow": {
     "slide_type": "-"
    }
   },
   "source": [
    "#### Lois de De Morgan\n",
    "\n",
    "- dire \"non (a ou b)\" revient à dire \"(non a) et (non b)\"\n",
    "- dire \"non (a et b)\" revient à dire \"(non a) ou (non b)\"\n",
    "\n",
    "En Python :\n",
    "\n",
    "```python\n",
    "not (a and b) == (not a) or (not b)  # vrai pour tous a et b\n",
    "not (a or b) == (not a) and (not b)  # vrai pour tous a et b\n",
    "```"
   ]
  },
  {
   "cell_type": "markdown",
   "metadata": {
    "slideshow": {
     "slide_type": "notes"
    }
   },
   "source": [
    "#### Distributivité\n",
    "\n",
    "- la conjonction est distributive sur la disjonction\n",
    "- la disjonction est distributive sur la conjonction\n",
    "\n",
    "En Python :\n",
    "\n",
    "```python\n",
    "a and (b or c) == (a and b) or (a and c)  # vrai pour tous a, b et c\n",
    "a or (b and c) == (a or b) and (a or c)   # vrai pour tous a, b et c\n",
    "```"
   ]
  },
  {
   "cell_type": "markdown",
   "metadata": {
    "slideshow": {
     "slide_type": "subslide"
    }
   },
   "source": [
    "#### Commutativité\n",
    "\n",
    "- `a and b` est (presque) équivalente à `b and a` (mais elle change l'ordre d'évaluation)\n",
    "- `a or b` est (presque) équivalente à `b or a` (idem)"
   ]
  },
  {
   "cell_type": "markdown",
   "metadata": {
    "slideshow": {
     "slide_type": "notes"
    }
   },
   "source": [
    "#### Absorption\n",
    "\n",
    "- `a or True` est (presque) équivalente à `True`\n",
    "- `True or a` est équivalente à `True`"
   ]
  },
  {
   "cell_type": "markdown",
   "metadata": {
    "slideshow": {
     "slide_type": "notes"
    }
   },
   "source": [
    "- `a and False` est (presque) équivalente à `False`\n",
    "- `False and a` est équivalente à `False`"
   ]
  },
  {
   "cell_type": "markdown",
   "metadata": {
    "slideshow": {
     "slide_type": "notes"
    }
   },
   "source": [
    "#### Invariance\n",
    "\n",
    "- `a and True` est (presque) équivalente à `a`\n",
    "- `True and a` est équivalente à `a`"
   ]
  },
  {
   "cell_type": "markdown",
   "metadata": {
    "slideshow": {
     "slide_type": "notes"
    }
   },
   "source": [
    "- `a or False` est (presque) équivalente à `a`\n",
    "- `False or a` est équivalente à `a`"
   ]
  },
  {
   "cell_type": "markdown",
   "metadata": {
    "slideshow": {
     "slide_type": "subslide"
    }
   },
   "source": [
    "#### Égalité et négation\n",
    "\n",
    "- `not a == b` est équivalent à `a != b`\n",
    "- `not a != b` est équivalent à `a == b`"
   ]
  },
  {
   "cell_type": "markdown",
   "metadata": {
    "slideshow": {
     "slide_type": "notes"
    }
   },
   "source": [
    "#### Comparaisons et opérateurs logiques\n",
    "\n",
    "- `a < b` est équivalent à `a <= b and a != b`\n",
    "- `a <= b` est équivalent à `a < b or a == b`\n",
    "- `a > b` est équivalent à `a >= b and a != b`\n",
    "- `a >= b` est équivalent à `a > b or a == b`"
   ]
  },
  {
   "cell_type": "markdown",
   "metadata": {
    "slideshow": {
     "slide_type": "notes"
    }
   },
   "source": [
    "#### Comparaisons et négation\n",
    "\n",
    "- `not a < b` est équivalent à `a >= b` ou encore `b <= a`\n",
    "- `not a <= b` est équivalent à `a > b` ou encore `b < a`\n",
    "- `not a > b` est équivalent à `a <= b` ou encore `b >= a`\n",
    "- `not a >= b` est équivalent à `a < b` ou encore `b > a`"
   ]
  },
  {
   "cell_type": "markdown",
   "metadata": {
    "slideshow": {
     "slide_type": "subslide"
    }
   },
   "source": [
    "### Exercice : intervalle fermé (https://question.direct/eiffel)\n",
    "\n",
    "Les variables `x`, `inf` et `sup` désignent des nombres. Écrire une expression booléenne :\n",
    "1. qui vaut `True` si `x` est compris entre `inf` et `sup` et `False` sinon\n",
    "2. qui vaut `True` si `x` n'est **pas** compris entre `inf` et `sup` et `False` sinon\n",
    "3. même question que 1., mais sans utiliser `and`\n",
    "4. même question que 2., mais sans utiliser `or`\n",
    "\n",
    "  <img src=\"img/QR_questions.direct.png\" alt=\"QR_questions.direct\" class=\"center\" style=\"width: 400px;\"/>"
   ]
  },
  {
   "cell_type": "code",
   "execution_count": null,
   "metadata": {
    "slideshow": {
     "slide_type": "subslide"
    }
   },
   "outputs": [],
   "source": [
    "x = -1\n",
    "inf, sup = 0, 10\n",
    "x >= inf and x <= sup"
   ]
  },
  {
   "cell_type": "code",
   "execution_count": null,
   "metadata": {
    "slideshow": {
     "slide_type": "fragment"
    }
   },
   "outputs": [],
   "source": [
    "x = -1\n",
    "inf, sup = 0, 10\n",
    "x < inf or x > sup"
   ]
  },
  {
   "cell_type": "code",
   "execution_count": null,
   "metadata": {
    "slideshow": {
     "slide_type": "fragment"
    }
   },
   "outputs": [],
   "source": [
    "x = 1\n",
    "inf, sup = 0, 10\n",
    "not (x < inf or x > sup)"
   ]
  },
  {
   "cell_type": "code",
   "execution_count": null,
   "metadata": {
    "slideshow": {
     "slide_type": "fragment"
    }
   },
   "outputs": [],
   "source": [
    "x = 12\n",
    "inf, sup = 0, 10\n",
    "not (x >= inf and x <= sup)"
   ]
  },
  {
   "cell_type": "markdown",
   "metadata": {
    "slideshow": {
     "slide_type": "skip"
    }
   },
   "source": [
    "Si `£` et `¥` représentent des opérateurs de comparaison, \n",
    "```python\n",
    "exp1 £ exp2 ¥ exp3\n",
    "```\n",
    "est une abréviation de \n",
    "```python\n",
    "exp1 £ exp2 and exp2 ¥ exp3\n",
    "```"
   ]
  },
  {
   "cell_type": "markdown",
   "metadata": {
    "slideshow": {
     "slide_type": "notes"
    }
   },
   "source": [
    "### Enchaînement de comparaisons\n",
    "\n",
    "<img src='img/non-exigible.png' width='50px' style='float:left'> En Python on peut rassembler plusieurs comparaisons successives en une seule expression (c'est impossible dans de nombreux autres langages)."
   ]
  },
  {
   "cell_type": "code",
   "execution_count": null,
   "metadata": {
    "slideshow": {
     "slide_type": "subslide"
    }
   },
   "outputs": [],
   "source": [
    "x, inf, sup = 1, 0, 10\n",
    "inf <= x <= sup"
   ]
  },
  {
   "cell_type": "code",
   "execution_count": null,
   "metadata": {
    "slideshow": {
     "slide_type": "skip"
    }
   },
   "outputs": [],
   "source": [
    "a, b, c = 1, 1, 2\n",
    "a == b == c"
   ]
  },
  {
   "cell_type": "markdown",
   "metadata": {
    "slideshow": {
     "slide_type": "skip"
    }
   },
   "source": [
    "**Attention**, cela mène parfois à des écritures un peu bizarres..."
   ]
  },
  {
   "cell_type": "code",
   "execution_count": null,
   "metadata": {
    "slideshow": {
     "slide_type": "skip"
    }
   },
   "outputs": [],
   "source": [
    "x, inf, sup = 1, 4, 10\n",
    "inf < sup > x  # ???"
   ]
  },
  {
   "cell_type": "code",
   "execution_count": null,
   "metadata": {
    "slideshow": {
     "slide_type": "skip"
    }
   },
   "outputs": [],
   "source": [
    "a = 1\n",
    "b = 2\n",
    "c = 1\n",
    "a != b != c"
   ]
  },
  {
   "cell_type": "markdown",
   "metadata": {
    "slideshow": {
     "slide_type": "slide"
    }
   },
   "source": [
    "### Exercice : multiple de 3 ou 5\n",
    "\n",
    "Étant donnée une variable `x` désignant un nombre,\n",
    "1. écrire deux expressions booléennes différentes qui valent `True` si `x` est un multiple de 3 et de 5 et `False` sinon, \n",
    "2. écrire deux expressions booléennes différentes qui valent `True` si `x` n'est un multiple ni de 3 ni de 5 et `False` sinon."
   ]
  },
  {
   "cell_type": "code",
   "execution_count": null,
   "metadata": {
    "slideshow": {
     "slide_type": "skip"
    }
   },
   "outputs": [],
   "source": [
    "x = 10\n",
    "x % 3 == 0 and x % 5 == 0"
   ]
  },
  {
   "cell_type": "code",
   "execution_count": null,
   "metadata": {
    "slideshow": {
     "slide_type": "skip"
    }
   },
   "outputs": [],
   "source": [
    "x = 7\n",
    "not(x % 3 == 0) and not(x % 5 == 0)"
   ]
  },
  {
   "cell_type": "markdown",
   "metadata": {
    "slideshow": {
     "slide_type": "slide"
    }
   },
   "source": [
    "### Exercice\n",
    "\n",
    "Donner le résultat des expressions logiques suivantes pour les valeurs indiquées de `a`, `b` et `c`"
   ]
  },
  {
   "cell_type": "code",
   "execution_count": null,
   "metadata": {
    "slideshow": {
     "slide_type": "subslide"
    }
   },
   "outputs": [],
   "source": [
    "a, b, c = 10, 2, 6\n",
    "a < b or a > c"
   ]
  },
  {
   "cell_type": "code",
   "execution_count": null,
   "metadata": {
    "slideshow": {
     "slide_type": "subslide"
    }
   },
   "outputs": [],
   "source": [
    "a, b, c = 10, 2, 6\n",
    "a + b < 2 * c"
   ]
  },
  {
   "cell_type": "code",
   "execution_count": null,
   "metadata": {
    "slideshow": {
     "slide_type": "subslide"
    }
   },
   "outputs": [],
   "source": [
    "a, b, c = 10, 2, 6\n",
    "a - b == b + c"
   ]
  },
  {
   "cell_type": "code",
   "execution_count": null,
   "metadata": {
    "slideshow": {
     "slide_type": "subslide"
    }
   },
   "outputs": [],
   "source": [
    "a, b, c = 10, 2, 6\n",
    "(a > b and a > c) or (b > a and b > c)"
   ]
  },
  {
   "cell_type": "code",
   "execution_count": null,
   "metadata": {
    "slideshow": {
     "slide_type": "subslide"
    }
   },
   "outputs": [],
   "source": [
    "a, b, c = 10, 2, 6\n",
    "a < b < c"
   ]
  },
  {
   "cell_type": "code",
   "execution_count": null,
   "metadata": {
    "slideshow": {
     "slide_type": "subslide"
    }
   },
   "outputs": [],
   "source": [
    "a, b, c = 10, 2, 6\n",
    "a == b == c"
   ]
  },
  {
   "cell_type": "code",
   "execution_count": null,
   "metadata": {
    "slideshow": {
     "slide_type": "subslide"
    }
   },
   "outputs": [],
   "source": [
    "a, b, c = 10, 2, 6\n",
    "(a <= b and a <= c) or not (b < a)"
   ]
  },
  {
   "cell_type": "code",
   "execution_count": null,
   "metadata": {
    "slideshow": {
     "slide_type": "subslide"
    }
   },
   "outputs": [],
   "source": [
    "a, b, c = 10, 2, 6\n",
    "not (a > b and a > c) or (b > a and b > c)"
   ]
  },
  {
   "cell_type": "markdown",
   "metadata": {
    "slideshow": {
     "slide_type": "slide"
    }
   },
   "source": [
    "## Instructions conditionnelles"
   ]
  },
  {
   "cell_type": "markdown",
   "metadata": {
    "slideshow": {
     "slide_type": "subslide"
    }
   },
   "source": [
    "### Cas simple : Conditionnelle `Si`\n",
    "\n",
    "On peut maintenant modifier le flot d'instructions selon la valeur d'expressions booléennes, ou conditions :\n",
    "\n",
    "- **Si** une certaine condition est vraie, exécuter un certain groupe (ou bloc) d'instructions\n",
    "- **Sinon**, passer directement à la suite du programme"
   ]
  },
  {
   "cell_type": "markdown",
   "metadata": {
    "slideshow": {
     "slide_type": "subslide"
    }
   },
   "source": [
    "<img src='img/conditionnelle1.png' width='300px'>"
   ]
  },
  {
   "cell_type": "markdown",
   "metadata": {
    "slideshow": {
     "slide_type": "subslide"
    }
   },
   "source": [
    "La syntaxe d'une instruction conditionnelle est :\n",
    "\n",
    "```python\n",
    "# début\n",
    "if condition:\n",
    "    # bloc \n",
    "    # d'instructions\n",
    "    # indenté\n",
    "# suite (*)\n",
    "```\n",
    "\n",
    "- Ici `condition` est une expression booléenne\n",
    "- Les instructions du bloc **v** sont exécutées uniquement si `condition` est évaluée à `True`\n",
    "- Dans tous les cas, l'exécution reprend à l'instruction suivant le bloc indenté (ligne `suite (*)`)"
   ]
  },
  {
   "cell_type": "markdown",
   "metadata": {
    "slideshow": {
     "slide_type": "subslide"
    }
   },
   "source": [
    "#### Exemple : pile ou face ?\n",
    "Un programme qui :\n",
    "1. tire un nombre au hasard entre `0` et `1`\n",
    "2. affiche `pile` s'il a tiré `1`, `face` s'il a tiré `0`"
   ]
  },
  {
   "cell_type": "code",
   "execution_count": null,
   "metadata": {
    "slideshow": {
     "slide_type": "fragment"
    }
   },
   "outputs": [],
   "source": [
    "from random import randint # randint permet de tirer un nombre aléatoire\n",
    "\n",
    "tirage = randint(0,1)\n",
    "print(tirage)\n",
    "if tirage == 1:\n",
    "    print(\"pile\")\n",
    "    \n",
    "if tirage == 0:\n",
    "    print(\"face\")"
   ]
  },
  {
   "cell_type": "markdown",
   "metadata": {
    "slideshow": {
     "slide_type": "skip"
    }
   },
   "source": [
    "#### Exemple : mettre deux chaînes dans l'ordre\n",
    "\n",
    "Supposons qu'il existe deux variables `a` et `b` désignant des `str`. \n",
    "\n",
    "Écrire un bout de programme qui modifie ces variables pour que `a` désigne la plus petite chaîne et `b` la plus grande (dans l'ordre lexicographique)"
   ]
  },
  {
   "cell_type": "code",
   "execution_count": null,
   "metadata": {
    "slideshow": {
     "slide_type": "skip"
    }
   },
   "outputs": [],
   "source": [
    "a = input()\n",
    "b = input()\n",
    "if a > b:\n",
    "    # on intervertit les valeurs\n",
    "    temp = a  # variable temporaire\n",
    "    a = b\n",
    "    b = temp\n",
    "print(a, b)"
   ]
  },
  {
   "cell_type": "code",
   "execution_count": null,
   "metadata": {
    "slideshow": {
     "slide_type": "skip"
    }
   },
   "outputs": [],
   "source": [
    "a = input()\n",
    "b = input()\n",
    "if a > b:\n",
    "    # variante\n",
    "    a, b = b, a\n",
    "print(a, b)"
   ]
  },
  {
   "cell_type": "markdown",
   "metadata": {
    "slideshow": {
     "slide_type": "slide"
    }
   },
   "source": [
    "### La notion de bloc\n",
    "\n",
    "Sur cet exemple, on a vu un groupe de lignes commençant par des espaces, appelé **bloc**. Un bloc est utilisé pour regrouper plusieurs instructions dépendant de la même condition.\n",
    "\n",
    "- Un tel groupe d'instructions est appelé un **bloc**\n",
    "- Le décalage du début de ligne est appelé **indentation**\n",
    "- Un bloc se termine quand une ligne **moins indentée** apparaît (sur l'exemple : `print(a, b)`)"
   ]
  },
  {
   "cell_type": "markdown",
   "metadata": {
    "slideshow": {
     "slide_type": "subslide"
    }
   },
   "source": [
    "- Pour indenter la ligne courante : touche \"tabulation\" (⇥) \n",
    "- Pour désindenter une ligne : \"Shift + tabulation\" (⇧ + ⇥)\n",
    "- Changer l'indentation change le sens du programme (essayez !)"
   ]
  },
  {
   "cell_type": "code",
   "execution_count": null,
   "metadata": {},
   "outputs": [],
   "source": [
    "from random import randint # randint permet de tirer un nombre aléatoire\n",
    "\n",
    "tirage = randint(0,1)\n",
    "print(tirage)\n",
    "if tirage == 1:\n",
    "    print(\"Le résultat est :\")\n",
    "    print(\"pile\")\n",
    "    \n",
    "if tirage == 0:\n",
    "    print(\"Le résultat est :\")\n",
    "    print(\"face\")"
   ]
  },
  {
   "cell_type": "markdown",
   "metadata": {
    "slideshow": {
     "slide_type": "notes"
    }
   },
   "source": [
    "#### Erreurs fréquentes liées à l'indentation :"
   ]
  },
  {
   "cell_type": "code",
   "execution_count": null,
   "metadata": {
    "slideshow": {
     "slide_type": "notes"
    }
   },
   "outputs": [],
   "source": [
    "if a > b  # oubli des deux points (:)\n",
    "    temp = a\n",
    "    a = b\n",
    "    b = temp"
   ]
  },
  {
   "cell_type": "code",
   "execution_count": null,
   "metadata": {
    "slideshow": {
     "slide_type": "notes"
    }
   },
   "outputs": [],
   "source": [
    "if a > b:\n",
    "    temp = a\n",
    "    a = b\n",
    "   b = temp  # ligne pas assez indentée "
   ]
  },
  {
   "cell_type": "code",
   "execution_count": null,
   "metadata": {
    "slideshow": {
     "slide_type": "notes"
    }
   },
   "outputs": [],
   "source": [
    "if a > b:\n",
    "    temp = a\n",
    "    a = b\n",
    "     b = temp  # ligne trop indentée "
   ]
  },
  {
   "cell_type": "code",
   "execution_count": null,
   "metadata": {
    "slideshow": {
     "slide_type": "notes"
    }
   },
   "outputs": [],
   "source": [
    "if a > b:\n",
    "a, b = b, a  # oubli d'indentation"
   ]
  },
  {
   "cell_type": "markdown",
   "metadata": {
    "slideshow": {
     "slide_type": "slide"
    }
   },
   "source": [
    "### Conditionnelles `Si ... Sinon ...`\n",
    "\n",
    "\n",
    "\n",
    "On peut ajouter un second bloc d'instructions\n",
    "- **Si** une certaine condition est vraie, exécuter le premier bloc\n",
    "- **Sinon**, exécuter le second\n",
    "- Enfin, continuer l'exécution normale du programme"
   ]
  },
  {
   "cell_type": "markdown",
   "metadata": {
    "slideshow": {
     "slide_type": "subslide"
    }
   },
   "source": [
    "Syntaxe :\n",
    "\n",
    "```python\n",
    "# début\n",
    "if condition:\n",
    "    # bloc v\n",
    "else:\n",
    "    # bloc f\n",
    "# suite\n",
    "```\n",
    "\n",
    "Ici `condition` est une expression booléenne"
   ]
  },
  {
   "cell_type": "markdown",
   "metadata": {
    "slideshow": {
     "slide_type": "subslide"
    }
   },
   "source": [
    "Seul *l'un des deux* blocs d'instructions, **v** *ou bien* **f**, est exécuté\n",
    "- Le bloc **v** uniquement si `condition` est évaluée à `True`\n",
    "- Le bloc **f** uniquement si `condition` est évaluée à `False`\n",
    "- Dans tous les cas, reprise à l'instruction suivant le bloc **f**"
   ]
  },
  {
   "cell_type": "markdown",
   "metadata": {
    "slideshow": {
     "slide_type": "subslide"
    }
   },
   "source": [
    "<img src='img/conditionnelle2.png' width='30%'>"
   ]
  },
  {
   "cell_type": "markdown",
   "metadata": {
    "slideshow": {
     "slide_type": "skip"
    }
   },
   "source": [
    "#### Exemple : division euclidienne"
   ]
  },
  {
   "cell_type": "code",
   "execution_count": null,
   "metadata": {
    "slideshow": {
     "slide_type": "skip"
    }
   },
   "outputs": [],
   "source": [
    "dividende = int(input(\"Donnez moi un dividende : \"))\n",
    "diviseur = int(input(\"Donnez moi un diviseur : \"))\n",
    "if diviseur != 0:\n",
    "    quotient = dividende // diviseur\n",
    "    reste = dividende % diviseur\n",
    "    print(dividende, '=', quotient, '*', diviseur, '+', reste)\n",
    "else:\n",
    "    print('Erreur : division par zéro')"
   ]
  },
  {
   "cell_type": "markdown",
   "metadata": {
    "slideshow": {
     "slide_type": "subslide"
    }
   },
   "source": [
    "### Exemple : pile ou face ?"
   ]
  },
  {
   "cell_type": "code",
   "execution_count": null,
   "metadata": {
    "slideshow": {
     "slide_type": "-"
    }
   },
   "outputs": [],
   "source": [
    "from random import randint # randint permet de tirer un nombre aléatoire\n",
    "\n",
    "tirage = randint(0,1)\n",
    "print(tirage)\n",
    "if tirage == 1:\n",
    "    print(\"pile\")\n",
    "    \n",
    "if tirage == 0:\n",
    "    print(\"face\")"
   ]
  },
  {
   "cell_type": "code",
   "execution_count": null,
   "metadata": {
    "slideshow": {
     "slide_type": "fragment"
    }
   },
   "outputs": [],
   "source": [
    "from random import randint # randint permet de tirer un nombre aléatoire\n",
    "\n",
    "tirage = randint(0,1)\n",
    "print(tirage)\n",
    "if tirage == 1:\n",
    "    print(\"pile\")\n",
    "else: # Dans ce cas, tirage vaut nécessairement 0\n",
    "    print(\"face\")"
   ]
  },
  {
   "cell_type": "markdown",
   "metadata": {
    "slideshow": {
     "slide_type": "subslide"
    }
   },
   "source": [
    "### Exercice\n",
    "\n",
    "Écrire un programme qui permet de jouer à pile ou face :\n",
    "1. Demander à l'utilisateur de saisir `1` pour `pile` et `0` pour face\n",
    "2. Tirer un nombre au hasard, l'afficher et afficher `Gagné !` ou `Perdu !` en fonction du résultat\n",
    "\n",
    "On pourra améliorer le programme pour permettre de saisir directement `pile` ou `face` plutôt que `1` ou `0`."
   ]
  },
  {
   "cell_type": "code",
   "execution_count": null,
   "metadata": {
    "slideshow": {
     "slide_type": "fragment"
    }
   },
   "outputs": [],
   "source": [
    "from random import randint\n",
    "nombre_choisi = int(input(\"Pile (1) ou face (0) ? \"))\n",
    "tirage = randint(0,1)\n",
    "if tirage == nombre_choisi:\n",
    "    print(\"Gagné !\")\n",
    "else:\n",
    "    print(\"Perdu !\")"
   ]
  },
  {
   "cell_type": "code",
   "execution_count": null,
   "metadata": {
    "slideshow": {
     "slide_type": "subslide"
    }
   },
   "outputs": [],
   "source": [
    "from random import randint\n",
    "choix = input(\"pile ou face ? \")\n",
    "if choix == \"pile\":\n",
    "    nombre_choisi = 1\n",
    "else:\n",
    "    nombre_choisi = 0\n",
    "tirage = randint(0,1)\n",
    "if tirage == 1:\n",
    "    print(\"Le résultat est pile.\")\n",
    "else:\n",
    "    print(\"Le résultat est face.\")\n",
    "if tirage == nombre_choisi:\n",
    "    print(\"Gagné !\")\n",
    "else:\n",
    "    print(\"Perdu !\")"
   ]
  },
  {
   "cell_type": "markdown",
   "metadata": {
    "slideshow": {
     "slide_type": "subslide"
    }
   },
   "source": [
    "#### Exercices\n",
    "\n",
    "1. Écrire un programme qui saisit un nombre entier et affiche `positif` si l'entier est positif ou nul et `negatif` sinon.\n",
    "2. Écrire un programme qui saisit deux nombres entiers et affiche le plus grand des deux."
   ]
  },
  {
   "cell_type": "code",
   "execution_count": null,
   "metadata": {
    "slideshow": {
     "slide_type": "skip"
    }
   },
   "outputs": [],
   "source": [
    "entier = int(input(\"Donnez moi un entier : \"))\n",
    "if entier >= 0:\n",
    "    print(\"positif\")\n",
    "else:\n",
    "    print(\"negatif\")"
   ]
  },
  {
   "cell_type": "code",
   "execution_count": null,
   "metadata": {
    "slideshow": {
     "slide_type": "skip"
    }
   },
   "outputs": [],
   "source": [
    "entier1 = int(input(\"Donnez moi un premier entier : \"))\n",
    "entier2 = int(input(\"Donnez moi un deuxième entier : \"))\n",
    "print(\"L'entier le plus grand est\", end = \" \")\n",
    "if entier1 > entier2:\n",
    "    print(entier1)\n",
    "else:\n",
    "    print(entier2)    "
   ]
  },
  {
   "cell_type": "markdown",
   "metadata": {
    "slideshow": {
     "slide_type": "subslide"
    }
   },
   "source": [
    "### Conditionnelles composées\n",
    "\n",
    "Cette construction peut être imbriquée :\n",
    "\n",
    "```python\n",
    "# début\n",
    "if <condition 1>:\n",
    "    if <condition 2>:\n",
    "        # bloc v1v2\n",
    "    else:\n",
    "        # bloc v1f2\n",
    "    # suite 2\n",
    "else:\n",
    "    # bloc f1\n",
    "# suite 1\n",
    "```\n",
    "\n",
    "Toutes les variantes sont possibles — si chaque `else` correspond à un `if` de même indentation !"
   ]
  },
  {
   "cell_type": "markdown",
   "metadata": {
    "slideshow": {
     "slide_type": "subslide"
    }
   },
   "source": [
    "<img src='img/conditionnelle3.png' width='60%'>"
   ]
  },
  {
   "cell_type": "markdown",
   "metadata": {
    "slideshow": {
     "slide_type": "subslide"
    }
   },
   "source": [
    "#### Exemple : pile ou face, deux fois\n",
    "Écrire un programme qui tire deux fois à pile ou face et affiche `Gagné` si les deux tirages sont `pile`, `Perdu` sinon."
   ]
  },
  {
   "cell_type": "code",
   "execution_count": null,
   "metadata": {
    "slideshow": {
     "slide_type": "fragment"
    }
   },
   "outputs": [],
   "source": [
    "from random import randint\n",
    "tirage1 = randint(0,1)\n",
    "print(\"Premier tirage :\", tirage1)\n",
    "if tirage1 == 1:\n",
    "    tirage2 = randint(0,1)\n",
    "    print(\"Second tirage :\", tirage2)\n",
    "    if tirage2 == 1:\n",
    "        print(\"Gagné\")\n",
    "    else:\n",
    "        print(\"Perdu\")\n",
    "else:\n",
    "    print(\"Perdu\")"
   ]
  },
  {
   "cell_type": "markdown",
   "metadata": {
    "slideshow": {
     "slide_type": "skip"
    }
   },
   "source": [
    "#### Exemple : discriminant\n",
    "\n",
    "On suppose qu'il existe trois variables `a`, `b` et `c` désignant des nombres. On veut déterminer le nombre de solutions réelles de l'équation `a`$x^2$ + `b`$x$ + `c` = 0. Les cas suivants sont à considérer :\n",
    "\n",
    "-   si `a` = `b` = `c` = 0, il y a une infinité de solutions\n",
    "-   si `a` = `b` = 0 et `c` $\\neq$ 0, il n'y a pas de solution\n",
    "-   si `a` = 0 et `b` $\\neq$ 0, il y a exactement une solution\n",
    "-   sinon, on calcule le discriminant\n",
    "    $\\Delta$ = `b`$^2$ - 4`ac` et,\n",
    "    -   si $\\Delta < 0$, il n'y a pas de solution ;\n",
    "    -   si $\\Delta = 0$, il y a exactement une solution ;\n",
    "    -   sinon $\\Delta > 0$ et il y a exactement deux solutions."
   ]
  },
  {
   "cell_type": "markdown",
   "metadata": {
    "slideshow": {
     "slide_type": "skip"
    }
   },
   "source": [
    "Écrire un programme qui demande à l'utilisateur de saisir au clavier\n",
    "les trois valeurs `a`, `b` et `c` et qui calcule et affiche le\n",
    "nombre de solutions **réelles** de l'équation du second degré associée."
   ]
  },
  {
   "cell_type": "code",
   "execution_count": null,
   "metadata": {
    "slideshow": {
     "slide_type": "skip"
    }
   },
   "outputs": [],
   "source": [
    "a, b, c = ...\n",
    "\n",
    "# Calcul et affichage du nombre de solutions\n",
    "if a == 0:\n",
    "    if b == 0:\n",
    "        if c == 0:\n",
    "            print(\"Une infinité de solutions\")\n",
    "        else:\n",
    "            print(\"Pas de solution\")\n",
    "    else :\n",
    "        print(\"Une solution\")\n",
    "else:\n",
    "    delta = b ** 2 - 4 * a * c\n",
    "    if delta < 0:\n",
    "        print(\"Pas de solution\")\n",
    "    else:\n",
    "        if delta == 0:\n",
    "            print(\"Une solution\")\n",
    "        else:\n",
    "            print(\"Deux solutions\")"
   ]
  },
  {
   "cell_type": "markdown",
   "metadata": {
    "slideshow": {
     "slide_type": "slide"
    }
   },
   "source": [
    "### Conditionnelles enchaînées\n",
    "  \n",
    "Cas particulier où le bloc `else` contient seulement un autre `if` : le mot-clé `elif`\n",
    "\n",
    "Le code...\n",
    "```python\n",
    "# début\n",
    "if <condition 1>:\n",
    "    # bloc **v1**\n",
    "else:\n",
    "    if <condition 2>:\n",
    "        # bloc **f1v2**\n",
    "    else:\n",
    "        # bloc **f1f2**\n",
    "# suite\n",
    "```"
   ]
  },
  {
   "cell_type": "markdown",
   "metadata": {
    "slideshow": {
     "slide_type": "subslide"
    }
   },
   "source": [
    "... s'écrit aussi :\n",
    "```python\n",
    "# début\n",
    "if <condition 1>:\n",
    "    # bloc **v1**\n",
    "elif <condition 2>:\n",
    "    # bloc **f1v2**\n",
    "else:\n",
    "    # bloc **f1f2**\n",
    "# suite\n",
    "```"
   ]
  },
  {
   "cell_type": "markdown",
   "metadata": {
    "slideshow": {
     "slide_type": "subslide"
    }
   },
   "source": [
    "On peut ainsi enchaîner autant de conditions qu'on le souhaite, lorsque les cas ne se recouvrent pas :\n",
    "\n",
    "```python\n",
    "# début\n",
    "if <condition 1>:\n",
    "    # bloc **v1**\n",
    "elif <condition 2>:\n",
    "    # bloc **f1v2**\n",
    "elif <condition 3>:\n",
    "    # bloc **f1f2v3**\n",
    "else:\n",
    "    # bloc **f1f2f3**\n",
    "# suite\n",
    "```"
   ]
  },
  {
   "cell_type": "markdown",
   "metadata": {
    "slideshow": {
     "slide_type": "subslide"
    }
   },
   "source": [
    "#### Exemple : pile ou face, deux fois (variante)\n",
    "Écrire un programme qui tire deux fois à pile ou face et affiche `Gagné` si les deux tirages sont différents (`pile` puis `face` ou bien `face` puis `pile`) et affiche `Perdu` sinon."
   ]
  },
  {
   "cell_type": "code",
   "execution_count": null,
   "metadata": {
    "slideshow": {
     "slide_type": "fragment"
    }
   },
   "outputs": [],
   "source": [
    "from random import randint\n",
    "tirage1 = randint(0,1)\n",
    "print(\"Premier tirage :\", tirage1)\n",
    "tirage2 = randint(0,1)\n",
    "print(\"Second tirage :\", tirage2)\n",
    "if tirage1 == 1 and tirage2 == 1:\n",
    "    print(\"Gagné\")\n",
    "elif tirage1 == 0 and tirage2 == 0:\n",
    "    print(\"Gagné\")\n",
    "else:\n",
    "    print(\"Perdu\")"
   ]
  },
  {
   "cell_type": "code",
   "execution_count": null,
   "metadata": {
    "slideshow": {
     "slide_type": "skip"
    }
   },
   "outputs": [],
   "source": [
    "# Une variante\n",
    "from random import randint\n",
    "tirage1 = randint(0,1)\n",
    "print(\"Premier tirage :\", tirage1)\n",
    "tirage2 = randint(0,1)\n",
    "print(\"Second tirage :\", tirage2)\n",
    "if tirage1 == 1 and tirage2 == 1 or tirage1 == 0 and tirage2 == 0:\n",
    "    print(\"Gagné\")\n",
    "else:\n",
    "    print(\"Perdu\")"
   ]
  },
  {
   "cell_type": "code",
   "execution_count": null,
   "metadata": {
    "slideshow": {
     "slide_type": "skip"
    }
   },
   "outputs": [],
   "source": [
    "# Une autre variante\n",
    "from random import randint\n",
    "tirage1 = randint(0,1)\n",
    "print(\"Premier tirage :\", tirage1)\n",
    "tirage2 = randint(0,1)\n",
    "print(\"Second tirage :\", tirage2)\n",
    "if tirage1 == tirage2:\n",
    "    print(\"Gagné\")\n",
    "else:\n",
    "    print(\"Perdu\")"
   ]
  },
  {
   "cell_type": "markdown",
   "metadata": {
    "slideshow": {
     "slide_type": "skip"
    }
   },
   "source": [
    "#### Exemple : équation du second degré (reprise)"
   ]
  },
  {
   "cell_type": "markdown",
   "metadata": {
    "slideshow": {
     "slide_type": "slide"
    }
   },
   "source": [
    "# Boucles\n",
    "Comment faire si l'on veut répéter une instruction ?"
   ]
  },
  {
   "cell_type": "markdown",
   "metadata": {
    "slideshow": {
     "slide_type": "subslide"
    }
   },
   "source": [
    "### Exemple : pile ou face, rejouer tant qu'on perd\n",
    "Écrire un programme qui nous fait rejouer à pile ou face tant qu'on perd."
   ]
  },
  {
   "cell_type": "code",
   "execution_count": null,
   "metadata": {
    "slideshow": {
     "slide_type": "fragment"
    }
   },
   "outputs": [],
   "source": [
    "# Un premier essai\n",
    "from random import randint\n",
    "tirage = randint(0,1)\n",
    "nombre_choisi = int(input(\"Pile (1) ou face (0) ? \"))\n",
    "if tirage == nombre_choisi:\n",
    "    print(\"Gagné\")\n",
    "else:\n",
    "    print(\"Perdu. Essaye encore.\")\n",
    "    tirage = randint(0,1)\n",
    "    nombre_choisi = int(input(\"Pile (1) ou face (0) ? \"))\n",
    "    if tirage == nombre_choisi:\n",
    "        print(\"Gagné\")\n",
    "    # ...\n",
    "    # Ça peut durer longtemps !"
   ]
  },
  {
   "cell_type": "code",
   "execution_count": null,
   "metadata": {
    "scrolled": false,
    "slideshow": {
     "slide_type": "fragment"
    }
   },
   "outputs": [],
   "source": [
    "# Un deuxième essai\n",
    "from random import randint\n",
    "gagne = False\n",
    "tirage = randint(0,1)\n",
    "nombre_choisi = int(input(\"Pile (1) ou face (0) ? \"))\n",
    "while not(gagne):\n",
    "    print(\"Perdu. Essaye encore.\")\n",
    "    tirage = randint(0,1)\n",
    "    nombre_choisi = int(input(\"Pile (1) ou face (0) ? \"))\n",
    "    if tirage == nombre_choisi:\n",
    "        gagne = True\n",
    "print(\"Gagné\")"
   ]
  },
  {
   "cell_type": "markdown",
   "metadata": {
    "slideshow": {
     "slide_type": "subslide"
    }
   },
   "source": [
    "### Exemple : pile ou face, rejouer\n",
    "Écrire un programme qui nous fait rejouer à pile ou face tant qu'on perd et qu'on veut rejouer."
   ]
  },
  {
   "cell_type": "code",
   "execution_count": null,
   "metadata": {
    "scrolled": false,
    "slideshow": {
     "slide_type": "fragment"
    }
   },
   "outputs": [],
   "source": [
    "from random import randint\n",
    "rejouer = True\n",
    "perdu = True\n",
    "while rejouer and perdu:\n",
    "    tirage = randint(0,1)\n",
    "    nombre_choisi = int(input(\"Pile (1) ou face (0) ? \"))\n",
    "    if tirage == nombre_choisi:\n",
    "        perdu = False\n",
    "    else:\n",
    "        print(\"Perdu.\")\n",
    "        reponse = input(\"Voulez-vous rejouer ? [o/n]\")\n",
    "        if reponse == \"n\":\n",
    "            rejouer = False\n",
    "if not perdu:\n",
    "    print(\"Gagné\")"
   ]
  },
  {
   "cell_type": "markdown",
   "metadata": {
    "slideshow": {
     "slide_type": "slide"
    }
   },
   "source": [
    "### Exemple : Compter de 1 à 100"
   ]
  },
  {
   "cell_type": "code",
   "execution_count": null,
   "metadata": {
    "scrolled": true,
    "slideshow": {
     "slide_type": "-"
    }
   },
   "outputs": [],
   "source": [
    "# à corriger !\n",
    "i = 0\n",
    "while i < 100:\n",
    "    print(i+1, end=\" \")\n",
    "    i = i + 1  # ou bien : i += 1"
   ]
  },
  {
   "cell_type": "markdown",
   "metadata": {
    "slideshow": {
     "slide_type": "subslide"
    }
   },
   "source": [
    "#### Exercice\n",
    "\n",
    "1. Compter de 1 à 100 par pas de 2, de 3...\n",
    "1. Compter 100 à 1 par pas de -1, de -2...\n",
    "1. Compter de `a` à `b` par pas de `c` pour `a`, `b` et `c` trois entiers quelconques. Dans quels cas a-t-on des problèmes ?"
   ]
  },
  {
   "cell_type": "code",
   "execution_count": null,
   "metadata": {
    "scrolled": true,
    "slideshow": {
     "slide_type": "-"
    }
   },
   "outputs": [],
   "source": [
    "i = 1\n",
    "pas = 4\n",
    "while i <= 100:\n",
    "    print(i, end=\" \")\n",
    "    i = i + pas  # ou bien : i += 1"
   ]
  },
  {
   "cell_type": "code",
   "execution_count": null,
   "metadata": {
    "scrolled": true,
    "slideshow": {
     "slide_type": "-"
    }
   },
   "outputs": [],
   "source": [
    "i = 100\n",
    "pas = -4\n",
    "while i > 0:\n",
    "    print(i, end=\" \")\n",
    "    i = i + pas  # ou bien : i += 1"
   ]
  },
  {
   "cell_type": "code",
   "execution_count": null,
   "metadata": {
    "scrolled": true,
    "slideshow": {
     "slide_type": "-"
    }
   },
   "outputs": [],
   "source": [
    "a, b, c = 27, 42, 2\n",
    "i = a\n",
    "pas = c\n",
    "while i <= b:\n",
    "    print(i, end=\" \")\n",
    "    i = i + pas  # ou bien : i += 1"
   ]
  },
  {
   "cell_type": "markdown",
   "metadata": {
    "slideshow": {
     "slide_type": "subslide"
    }
   },
   "source": [
    "### Exemple : Dessiner un polygone\n",
    "\n",
    "*Démo avec Thonny*"
   ]
  },
  {
   "cell_type": "markdown",
   "metadata": {
    "slideshow": {
     "slide_type": "subslide"
    }
   },
   "source": [
    "#### Exercice\n",
    "\n",
    "1. Simuler le lancer de 10 000 pièces et calculer la proportion de \"pile\" obtenue\n",
    "1. Simuler le lancer d'une pièce jusqu'à la première \"face\" obtenue, et afficher le nombre de lancers effectués"
   ]
  },
  {
   "cell_type": "code",
   "execution_count": null,
   "metadata": {},
   "outputs": [],
   "source": [
    "nb_lancers = 1e6\n",
    "\n",
    "i = 1\n",
    "pile = 0\n",
    "while i <= nb_lancers :\n",
    "    lancer = randint(0, 1)\n",
    "    if lancer == 0:\n",
    "        pile += 1\n",
    "    i += 1\n",
    "print(pile/nb_lancers)"
   ]
  },
  {
   "cell_type": "markdown",
   "metadata": {
    "slideshow": {
     "slide_type": "slide"
    }
   },
   "source": [
    "### Exemple : Jouer à pierre-feuille-ciseau"
   ]
  },
  {
   "cell_type": "code",
   "execution_count": null,
   "metadata": {
    "slideshow": {
     "slide_type": "-"
    }
   },
   "outputs": [],
   "source": [
    "from random import randint\n",
    "\n",
    "coup_humain = int(input(\"Pierre (1), feuille (2) ou ciseaux (3) ? \"))\n",
    "\n",
    "coup_ordi = randint(1, 3)\n",
    "if coup_ordi == 1:\n",
    "    print(\"L'ordinateur a joué pierre.\")\n",
    "elif coup_ordi == 2:\n",
    "    print(\"L'ordinateur a joué feuille.\")\n",
    "else:\n",
    "    print(\"L'ordinateur a joué ciseaux.\")\n",
    "\n",
    "if coup_ordi == coup_humain:\n",
    "    print(\"Égalité.\")\n",
    "elif coup_humain == (coup_ordi + 1) % 3:\n",
    "    print(\"Vous avez gagné.\")\n",
    "else:\n",
    "    print(\"Vous avez perdu.\")"
   ]
  },
  {
   "cell_type": "markdown",
   "metadata": {
    "slideshow": {
     "slide_type": "subslide"
    }
   },
   "source": [
    "#### Exercice\n",
    "\n",
    "1. Expliquer la ligne 15\n",
    "1. Expliquer ce qu'il se passe si l'humain entre 4.\n",
    "1. Proposer de rejouer une partie\n",
    "1. Afficher le nombre de parties jouées et le score final"
   ]
  },
  {
   "cell_type": "markdown",
   "metadata": {
    "slideshow": {
     "slide_type": "slide"
    }
   },
   "source": [
    "### Exemple : Dessiner une rosace avec des polygones\n",
    "\n",
    "*Démo avec Thonny*"
   ]
  },
  {
   "cell_type": "markdown",
   "metadata": {
    "slideshow": {
     "slide_type": "slide"
    }
   },
   "source": [
    "## Répétition simple\n",
    "\n",
    "On peut répéter un bloc d'instructions grâce à une boucle « tant que » ou boucle `while`.\n",
    "\n",
    "- **Si** une certaine condition est vraie,\n",
    "  on va exécuter un certain bloc d'instructions ;\n",
    "- **Sinon**, on va passer directement à la suite du programme ;\n",
    "- Après chaque exécution du bloc, on réévalue la condition."
   ]
  },
  {
   "cell_type": "markdown",
   "metadata": {
    "slideshow": {
     "slide_type": "subslide"
    }
   },
   "source": [
    "**Vocabulaire :**\n",
    "\n",
    "- L'expression booléenne `condition` est appelée **condition de continuation**.\n",
    "- Sa négation (`not condition`) est appelée **condition d'arrêt**.\n",
    "- Le bloc d'instructions est appelé **corps de la boucle**.\n",
    "- Chaque exécution du corps de la boucle est appelée **itération**."
   ]
  },
  {
   "cell_type": "markdown",
   "metadata": {
    "slideshow": {
     "slide_type": "subslide"
    }
   },
   "source": [
    "<img src='img/while1.png' width='30%'>"
   ]
  },
  {
   "cell_type": "markdown",
   "metadata": {
    "slideshow": {
     "slide_type": "subslide"
    }
   },
   "source": [
    "**Syntaxe :**\n",
    "\n",
    "```python\n",
    "# début\n",
    "while condition:\n",
    "    # bloc d'instructions\n",
    "    # (corps de la boucle)\n",
    "# suite\n",
    "```"
   ]
  },
  {
   "cell_type": "markdown",
   "metadata": {
    "slideshow": {
     "slide_type": "subslide"
    }
   },
   "source": [
    "- `condition` est une **expression booléenne**\n",
    "- corps exécuté uniquement si `condition` s'évalue à `True`\n",
    "- après chaque exécution du corps, on réévalue `condition`\n",
    "    - si `condition` s'évalue à `False`, sortie de la boucle\n",
    "    - sinon, nouvelle **itération**\n",
    "\n",
    "Il peut n'y avoir aucune itération, ou un nombre infini !"
   ]
  },
  {
   "cell_type": "markdown",
   "metadata": {
    "slideshow": {
     "slide_type": "slide"
    }
   },
   "source": [
    "## Outil d'analyse : tableau de valeurs\n",
    "\n",
    "Utile pour exécuter manuellement une boucle\n",
    "\n",
    "- Une colonne pour indiquer le numéro de la dernière ligne du programme exécutée\n",
    "- Une colonne pour indiquer le nombre d'itérations exécutées\n",
    "- Une colonne par variable \"intéressante\"\n",
    "- Une colonne pour la condition de continuation\n",
    "- Éventuellement des colonnes explicatives supplémentaires\n",
    "\n",
    "On remplit le tableau au moins pour **la ligne précédant la boucle** et pour **la dernière ligne du corps**"
   ]
  },
  {
   "cell_type": "markdown",
   "metadata": {
    "slideshow": {
     "slide_type": "slide"
    }
   },
   "source": [
    "### Exemple : Calculer $a^p$\n",
    "\n",
    "On veut calculer $2^n$ (sans utiliser `**`).\n",
    "\n",
    "Algorithme naïf : on remarque que $2^n = 2^{n-1} \\times 2 = 1 \\times 2 \\times 2 \\times \\cdots \\times 2$\n",
    "\n",
    "1. on commence par fixer le résultat à 1\n",
    "2. on multiplie le résultat par 2 `n` fois"
   ]
  },
  {
   "cell_type": "code",
   "execution_count": 2,
   "metadata": {
    "scrolled": true,
    "slideshow": {
     "slide_type": "fragment"
    }
   },
   "outputs": [
    {
     "name": "stdout",
     "output_type": "stream",
     "text": [
      "2 puissance 4 égale 16\n"
     ]
    }
   ],
   "source": [
    "a = 2\n",
    "p = 4\n",
    "res = 1  # pourquoi ?\n",
    "i = 0\n",
    "while i < p:\n",
    "    res = res * a\n",
    "    i = i + 1\n",
    "print(a, \"puissance\", p, \"égale\", res)"
   ]
  },
  {
   "cell_type": "markdown",
   "metadata": {
    "slideshow": {
     "slide_type": "subslide"
    }
   },
   "source": [
    "ligne  | itération | `a` | `p` | `res` |  `i` | `i < p` | commentaire\n",
    "-------|-----------|-----|-----|-------|------|---------|-----------------------------\n",
    "1      |           | 2   |     |       |      |         |\n",
    "2      |           | -   | 4   |       |      |         |\n",
    "3      |           | -   | -   | 1     |      |         |\n",
    "4      |           | -   | -   | -     | 0    | `True`  | \n",
    "5      |           | -   | -   | -     | -    | `True`  | condition vraie, on entre\n",
    "6      | 1         | -   | -   | 2     | -    | `True`  | \n",
    "7      | 1         | -   | -   | -     | 1    | `True`  | fin de la 1e itération\n",
    "5      |           | -   | -   | -     | -    | `True`  | condition vraie, on continue\n",
    "6      | 2         | -   | -   | 4     | -    | `True`  | \n",
    "7      | 2         | -   | -   | -     | 2    | `True`  | fin de la 2e itération\n",
    "5      |           | -   | -   | -     | -    | `True`  | condition vraie, on continue\n",
    "6      | 3         | -   | -   | 8     | -    | `True`  | \n",
    "7      | 3         | -   | -   | -     | 3    | `True`  | fin de la 3e itération\n",
    "5      |           | -   | -   | -     | -    | `True`  | condition vraie, on continue\n",
    "6      | 4         | -   | -   | 16    | -    | `True`  | \n",
    "7      | 4         | -   | -   | -     | 4    | `False` | fin de la 4e itération\n",
    "5      |           | -   | -   | -     | -    | `False` | condition fausse, on arrête\n",
    "8      |           | -   | -   | -     | -    | `False` | suite du programme"
   ]
  },
  {
   "cell_type": "markdown",
   "metadata": {
    "slideshow": {
     "slide_type": "subslide"
    }
   },
   "source": [
    "**Remarques :**\n",
    "- après la ligne 4 et chaque exécution de la ligne 7 on a `res == a**i`\n",
    "- `i` se rapproche de `p` à chaque tour sans le dépasser"
   ]
  },
  {
   "cell_type": "markdown",
   "metadata": {
    "slideshow": {
     "slide_type": "subslide"
    }
   },
   "source": [
    "Version \"compacte\" sans regarder toutes les lignes ni les variables qui ne changent pas :\n",
    "\n",
    "ligne  | itération | `res` |  `i` | `i < p` | commentaire\n",
    "-------|-----------|-------|------|---------|-----------------------------\n",
    "4      |           | 1     | 0    | `True`  | juste avant la première itération\n",
    "7      | 1         | 2     | 1    | `True`  | à la fin de la 1e itération\n",
    "7      | 2         | 4     | 2    | `True`  | à la fin de la 2e itération\n",
    "7      | 3         | 8     | 3    | `True`  | à la fin de la 3e itération\n",
    "7      | 4         | 16    | 4    | `False` | à la fin de la 4e itération (sortie)"
   ]
  },
  {
   "cell_type": "markdown",
   "metadata": {
    "slideshow": {
     "slide_type": "subslide"
    }
   },
   "source": [
    "**Remarques :**\n",
    "- pendant tout le programme `a` vaut `2` et `p` vaut `4`\n",
    "- après la ligne 4 et chaque exécution de la ligne 7 on a `res == a**i`\n",
    "- `i` se rapproche de `p` à chaque tour sans le dépasser\n",
    "- à la fin de la dernière itération `i == p` et donc `res == a**p`"
   ]
  },
  {
   "cell_type": "markdown",
   "metadata": {
    "slideshow": {
     "slide_type": "skip"
    }
   },
   "source": [
    "#### Variante"
   ]
  },
  {
   "cell_type": "code",
   "execution_count": null,
   "metadata": {
    "scrolled": true,
    "slideshow": {
     "slide_type": "skip"
    }
   },
   "outputs": [],
   "source": [
    "a = 2\n",
    "p = 4\n",
    "res = 1\n",
    "i = p  # changement !\n",
    "while i > 0:  # changement !\n",
    "    res *= a\n",
    "    i -= 1  # changement !\n",
    "print(a, \"puissance\", p, \"égale\", res)"
   ]
  },
  {
   "cell_type": "markdown",
   "metadata": {
    "slideshow": {
     "slide_type": "skip"
    }
   },
   "source": [
    "Tableau de valeurs compact :\n",
    "\n",
    "ligne  | itération | res  |  i   | i > 0   | commentaire\n",
    "-------|-----------|------|------|---------|-----------------------------\n",
    "4      |           | 1    | 4    | `True`  | avant la première itération\n",
    "7      | 1         | 2    | 3    | `True`  |\n",
    "7      | 2         | 4    | 2    | `True`  |\n",
    "7      | 3         | 8    | 1    | `True`  |\n",
    "7      | 4         | 16   | 0    | `False` | sortie de la boucle"
   ]
  },
  {
   "cell_type": "markdown",
   "metadata": {
    "slideshow": {
     "slide_type": "skip"
    }
   },
   "source": [
    "**Remarques :**\n",
    "- pendant tout le programme `a` vaut `2` et `p` vaut `4`\n",
    "- après la ligne 4 et chaque exécution de la ligne 7 on a `res == a**(p-i)`\n",
    "- la valeur de `i` est positive au début et décroît strictement\n",
    "- à la fin de la dernière itération `i == 0` et donc `res == a**(p-0) == a**p`"
   ]
  },
  {
   "cell_type": "markdown",
   "metadata": {
    "slideshow": {
     "slide_type": "slide"
    }
   },
   "source": [
    "## Terminaison et correction d'une boucle\n",
    "\n",
    "En général rien ne garantit :\n",
    "\n",
    "- qu'une boucle `while` va se terminer un jour\n",
    "\n",
    "    ```python\n",
    "    while(True):\n",
    "        print(\"spam\")\n",
    "    ```\n",
    "    \n",
    "- ni qu'elle produit le bon effet\n",
    "\n",
    "Pour cela il faut en général faire des **preuves**"
   ]
  },
  {
   "cell_type": "markdown",
   "metadata": {
    "slideshow": {
     "slide_type": "subslide"
    }
   },
   "source": [
    "### Preuve de terminaison : variant\n",
    "\n",
    "Méthode possible pour montrer qu'une boucle termine\n",
    "\n",
    "- montrer qu'une certaine quantité décroît strictement à chaque tour de boucle\n",
    "- montrer qu'elle ne peut pas décroître indéfiniment\n",
    "\n",
    "On appelle une telle quantité **variant de boucle**, son existence garantit la terminaison"
   ]
  },
  {
   "cell_type": "markdown",
   "metadata": {
    "slideshow": {
     "slide_type": "subslide"
    }
   },
   "source": [
    "#### Exemple : algorithme d'Euclide\n",
    "\n",
    "Algorithme de l'antiquité permettant de déterminer le PGCD de deux nombres entiers"
   ]
  },
  {
   "cell_type": "code",
   "execution_count": null,
   "metadata": {
    "slideshow": {
     "slide_type": "-"
    }
   },
   "outputs": [],
   "source": [
    "a0, b0 = 129, 36  # entiers positifs quelconques\n",
    "\n",
    "a, b = a0, b0\n",
    "while b > 0:\n",
    "    r = a % b\n",
    "    a = b\n",
    "    b = r\n",
    "\n",
    "print(\"le pgcd de\", a0, \"et\", b0, \"est\", a)"
   ]
  },
  {
   "cell_type": "markdown",
   "metadata": {
    "slideshow": {
     "slide_type": "subslide"
    }
   },
   "source": [
    "Pourquoi l'algorithme termine-t-il ?\n",
    "\n",
    "- on peut choisir comme variant la **valeur de `b`**\n",
    "- initialement, `b > 0`\n",
    "- la boucle ne s'exécute pas si `b <= 0`\n",
    "- la valeur de `b` décroît strictement\n",
    "\n",
    "Comme il ne peut exister de suite infinie strictement décroissante d'entiers positifs, la boucle termine"
   ]
  },
  {
   "cell_type": "markdown",
   "metadata": {
    "slideshow": {
     "slide_type": "subslide"
    }
   },
   "source": [
    "On peut repérer le variant dans le **tableau de valeurs**\n",
    "\n",
    "ligne  | itération | `a` | `b` | `a % b` | commentaire\n",
    "-------|-----------|-----|-----|---------|------------------------\n",
    "3      |           | 129 | 36  | 21      | avant la boucle\n",
    "7      | 1         | 36  | 21  | 15      | fin de 1e itération\n",
    "7      | 2         | 21  | 15  | 6       | ...\n",
    "7      | 3         | 16  | 6   | 3       |\n",
    "7      | 4         | 6   | 3   | 0       | \n",
    "7      | 5         | 3   | 0   | -       | on va sortir de la boucle"
   ]
  },
  {
   "cell_type": "markdown",
   "metadata": {
    "slideshow": {
     "slide_type": "-"
    }
   },
   "source": [
    "**Variant :** la valeur de `b` est positive au début et décroît strictement"
   ]
  },
  {
   "cell_type": "markdown",
   "metadata": {
    "slideshow": {
     "slide_type": "slide"
    }
   },
   "source": [
    "### Preuve de correction : invariant\n",
    "\n",
    "Méthode possible pour montrer qu'une boucle produit le bon effet :\n",
    "\n",
    "- montrer qu'une certaine propriété $I$ est vraie avant l'entrée dans la boucle\n",
    "- montrer que **si** $I$ est vraie au début du corps **alors** elle est encore vraie à la fin\n",
    "- en déduire que $I$ est vraie à la sortie de la boucle\n",
    "\n",
    "On appelle une telle propriété **invariant**, son existence peut permettre de garantir la correction"
   ]
  },
  {
   "cell_type": "markdown",
   "metadata": {
    "slideshow": {
     "slide_type": "slide"
    }
   },
   "source": [
    "#### Exemple : retour sur le calcul de puissance\n",
    "\n"
   ]
  },
  {
   "cell_type": "code",
   "execution_count": null,
   "metadata": {
    "scrolled": true,
    "slideshow": {
     "slide_type": "subslide"
    }
   },
   "outputs": [],
   "source": [
    "a = 2\n",
    "p = 4\n",
    "res = 1\n",
    "i = 0\n",
    "while i < p:\n",
    "    res *= a\n",
    "    i += 1\n",
    "print(a, \"puissance\", p, \"égale\", res)"
   ]
  },
  {
   "cell_type": "markdown",
   "metadata": {
    "slideshow": {
     "slide_type": "subslide"
    }
   },
   "source": [
    "ligne  | itération | `res` |  `i` | `i < p` | commentaire\n",
    "-------|-----------|-------|------|---------|-----------------------------\n",
    "4      |           | 1     | 0    | `True`  | juste avant la première itération\n",
    "7      | 1         | 2     | 1    | `True`  | à la fin de la 1e itération\n",
    "7      | 2         | 4     | 2    | `True`  | à la fin de la 2e itération\n",
    "7      | 3         | 8     | 3    | `True`  | à la fin de la 3e itération\n",
    "7      | 4         | 16    | 4    | `False` | à la fin de la 4e itération (sortie)"
   ]
  },
  {
   "cell_type": "markdown",
   "metadata": {
    "slideshow": {
     "slide_type": "subslide"
    }
   },
   "source": [
    "**Remarques :**\n",
    "- **Variant :** `p - i` décroît de 1 à chaque tour et la boucle s'arrête quand il atteint `0`\n",
    "- **Invariant :** après la ligne 4 et chaque exécution de la ligne 7 on a `res == a**i`\n",
    "- **En sortie de boucle :** `i == p` et donc `res == a**p`"
   ]
  },
  {
   "cell_type": "markdown",
   "metadata": {
    "slideshow": {
     "slide_type": "skip"
    }
   },
   "source": [
    "#### Variante"
   ]
  },
  {
   "cell_type": "code",
   "execution_count": null,
   "metadata": {
    "scrolled": true,
    "slideshow": {
     "slide_type": "skip"
    }
   },
   "outputs": [],
   "source": [
    "a = 2\n",
    "p = 4\n",
    "res = 1\n",
    "i = p\n",
    "while i > 0:\n",
    "    res *= a\n",
    "    i -= 1\n",
    "print(a, \"puissance\", p, \"égale\", res)"
   ]
  },
  {
   "cell_type": "markdown",
   "metadata": {
    "slideshow": {
     "slide_type": "skip"
    }
   },
   "source": [
    "ligne  | itération | `res` | `i`  | `i > 0` | commentaire\n",
    "-------|-----------|-------|------|---------|-----------------------------\n",
    "4      |           | 1     | 4    | `True`  | avant la première itération\n",
    "7      | 1         | 2     | 3    | `True`  |\n",
    "7      | 2         | 4     | 2    | `True`  |\n",
    "7      | 3         | 8     | 1    | `True`  |\n",
    "7      | 4         | 16    | 0    | `False` | sortie de la boucle"
   ]
  },
  {
   "cell_type": "markdown",
   "metadata": {
    "slideshow": {
     "slide_type": "skip"
    }
   },
   "source": [
    "**Remarques :**\n",
    "- **Variant :** `i` décroît de 1 à chaque tour et la boucle s'arrête quand il atteint 0\n",
    "- **Invariant :** après la ligne 4 et chaque exécution de la ligne 7 on a `res == a**(p-i)`\n",
    "- **En sortie de boucle :** `i == 0` et donc `res == a**(p-0) == a**p`"
   ]
  },
  {
   "cell_type": "markdown",
   "metadata": {
    "slideshow": {
     "slide_type": "skip"
    }
   },
   "source": [
    "#### Exemple : encadrer un nombre\n",
    "\n",
    "On veut encadrer un nombre positif $n$ entre deux puissances successives d'un nombre $b$. On cherche l'unique entier $k$ tel que :\n",
    "\n",
    "$$\n",
    "b^k \\leq n < b^{k+1}\n",
    "$$\n",
    "\n",
    "On appelle parfois $k$ le *logarithme entier* de $n$ en base $b$, parce que\n",
    "\n",
    "$$\n",
    "k \\leq \\log_b n < k+1\n",
    "$$"
   ]
  },
  {
   "cell_type": "markdown",
   "metadata": {
    "slideshow": {
     "slide_type": "skip"
    }
   },
   "source": [
    "Par exemple :\n",
    "\n",
    "- pour $b = 10$ on a $10^3 \\leq 1024 < 10^4$, donc $k = 3$.\n",
    "- pour $b = 2$ on a $2^{10} \\leq 1024 < 2^{11}$, donc $k = 10$."
   ]
  },
  {
   "cell_type": "code",
   "execution_count": null,
   "metadata": {
    "slideshow": {
     "slide_type": "skip"
    }
   },
   "outputs": [],
   "source": [
    "n = 1000  # le nombre à encadrer\n",
    "b = 10    # base de la puissance\n",
    "exp = 0   # exposant courant\n",
    "temp = 1  # valeurs successives de b**exp\n",
    "while temp <= n:\n",
    "    temp *= b\n",
    "    exp += 1\n",
    "print(\"le plus petit k tel que\", b, \"à la puissance k \" \n",
    "      \"est inférieur ou égal à\", n, \"est\", exp-1)  # compléter"
   ]
  },
  {
   "cell_type": "markdown",
   "metadata": {
    "slideshow": {
     "slide_type": "skip"
    }
   },
   "source": [
    "ligne  | temp  | exp  | temp < n | commentaire\n",
    "-------|-------|------|----------|-----------------------------\n",
    "4      | 1     | 0    | `True`   | avant la première itération\n",
    "7      | 10    | 1    | `True`   |\n",
    "7      | 100   | 2    | `True`   |\n",
    "7      | 1000  | 3    | `True`   |\n",
    "7      | 10000 | 4    | `False`  | on sort de la boucle\n",
    "\n",
    "- **Variant :** `n - temp` initialement $\\geq 0$, diminue à chaque tour\n",
    "- **Invariant** (simplifié) lignes 4 et 7 : `temp == 10**exp` et `10**(exp-1) <= n`\n",
    "- **À la fin:** `10**(exp-1) <= n` et `10**exp > n`, autrement dit `10**(exp-1) <= n < 10**exp`"
   ]
  },
  {
   "cell_type": "markdown",
   "metadata": {
    "slideshow": {
     "slide_type": "skip"
    }
   },
   "source": [
    "#### Exemple : convertir un nombre en binaire\n",
    "\n",
    "Le nombre 42 s'écrit `101010` en binaire parce que\n",
    "\n",
    "$$\n",
    "\\begin{align*}\n",
    "42 & = 0 + 2 \\times 21\\\\\n",
    "   & = 0 + 2 \\times (1 + 2 \\times 10))\\\\\n",
    "   & = \\ldots\\\\\n",
    "   & = 0 + 2 \\times (1 + 2 \\times (0 + 2 \\times (1 + 2 \\times (0 + 2 \\times (1 + 2 \\times 0)))))\\\\\n",
    "   & = 0 \\times 2^0 + 1 \\times 2^1 + 0 \\times 2^2 + 1 \\times 2^3 + 0 \\times 2^4 + 1 \\times 2^5\n",
    "\\end{align*}\n",
    "$$"
   ]
  },
  {
   "cell_type": "code",
   "execution_count": null,
   "metadata": {
    "slideshow": {
     "slide_type": "skip"
    }
   },
   "outputs": [],
   "source": [
    "bin(42)"
   ]
  },
  {
   "cell_type": "markdown",
   "metadata": {
    "slideshow": {
     "slide_type": "skip"
    }
   },
   "source": [
    "Algorithme de conversion de $n>0$ en binaire :\n",
    "\n",
    "1. Calculer le quotient $q$ et le reste $r$ de $n$ par 2\n",
    "2. Ajouter $r$ comme nouveau chiffre à **gauche** du résultat\n",
    "3. Poser $n = q$ et recommencer en 1 si $n > 0$"
   ]
  },
  {
   "cell_type": "markdown",
   "metadata": {
    "slideshow": {
     "slide_type": "skip"
    }
   },
   "source": [
    "Suite de l'exemple :\n",
    "\n",
    "\\begin{align*}\n",
    "& 42 & & = 2 * 21 & & + 0 & & \\rightarrow \\text{chiffre } 0\\\\\n",
    "& 21 & & = 2 * 10 & & + 1 & & \\rightarrow \\text{chiffre } 1\\\\\n",
    "& 10 & & = 2 * 5 & & + 0 & & \\rightarrow \\text{chiffre } 0\\\\\n",
    "& 5 & & = 2 * 2 & & + 1 & & \\rightarrow \\text{chiffre } 1\\\\\n",
    "& 2 & & = 2 * 1 & & + 0 & & \\rightarrow \\text{chiffre } 0\\\\\n",
    "& 1 & & = 2 * 0 & & + 1 & & \\rightarrow \\text{chiffre } 1\\\\\n",
    "\\end{align*}"
   ]
  },
  {
   "cell_type": "code",
   "execution_count": null,
   "metadata": {
    "slideshow": {
     "slide_type": "skip"
    }
   },
   "outputs": [],
   "source": [
    "n = 42\n",
    "k = n\n",
    "res = \"\"  # on utilise une chaîne\n",
    "while k > 0:\n",
    "    q = k // 2\n",
    "    r = k % 2\n",
    "    res = str(r) + res\n",
    "    k = q\n",
    "print(res)"
   ]
  },
  {
   "cell_type": "markdown",
   "metadata": {
    "slideshow": {
     "slide_type": "skip"
    }
   },
   "source": [
    "ligne  | itér  | `k`   | `r` | `res`      | $\\texttt{k}\\times2^{\\text{itér}}$ | val. `res` | `k > 0`  | commentaire\n",
    "-------|-------|-------|-----|------------|----------------------------|------------|----------|-----------------------------\n",
    "3      | 0     | 42    |     | `''`       | $42\\times2^0=42$ | 0          | `True`   | avant la première itération\n",
    "8      | 1     | 21    | 0   | `'0'`      | $21\\times2^1=42$        | 0          | `True`   | fin de la 1e itération\n",
    "8      | 2     | 10    | 1   | `'10'`     | $10\\times2^2=40$        | 2          | `True`   |\n",
    "8      | 3     | 5     | 0   | `'010'`    | $5\\times2^3=40$         | 2          | `True`   |\n",
    "8      | 4     | 2     | 1   | `'1010'`   | $2\\times2^4=32$         | 10         | `True`   |\n",
    "8      | 5     | 1     | 0   | `'01010'`  | $1\\times2^5=32$         | 10         | `True`   |\n",
    "8      | 6     | 0     | 1   | `'101010'` | $0\\times2^6=32$         | 42         | `False`  | sortie de la boucle\n",
    "\n",
    "- **Invariant** : `res` contient les (nombre d'itérations) derniers chiffres de la conversion de `n` en binaire  \n",
    "  <div style='color:gray'>$k \\times\\, 2^\\text{(itér)} +$ (valeur de res) $= n$</div>\n",
    "- **Variant :** `n - temp` initialement $\\geq 0$, diminue à chaque tour"
   ]
  },
  {
   "cell_type": "markdown",
   "metadata": {
    "slideshow": {
     "slide_type": "skip"
    }
   },
   "source": [
    "**Exercice :**\n",
    "- dresser le tableau de valeurs pour $n = 25$\n",
    "- adapter l'algorithme pour convertir $n$ en base 4, puis en base $b < 10$\n",
    "\n",
    "  ref : [Compter comme les Shadoks](https://www.youtube.com/watch?v=lP9PaDs2xgQ)"
   ]
  },
  {
   "cell_type": "markdown",
   "metadata": {
    "slideshow": {
     "slide_type": "skip"
    }
   },
   "source": [
    "**Exercice :** quel est l'invariant de boucle pour l'algorithme d'Euclide ?"
   ]
  },
  {
   "cell_type": "markdown",
   "metadata": {
    "slideshow": {
     "slide_type": "slide"
    }
   },
   "source": [
    "## Boucles imbriquées"
   ]
  },
  {
   "cell_type": "markdown",
   "metadata": {
    "slideshow": {
     "slide_type": "-"
    }
   },
   "source": [
    "On peut écrire une boucle à l'intérieur d'une autre boucle"
   ]
  },
  {
   "cell_type": "markdown",
   "metadata": {
    "slideshow": {
     "slide_type": "subslide"
    }
   },
   "source": [
    "<img src='img/while2.png' width='40%'>"
   ]
  },
  {
   "cell_type": "markdown",
   "metadata": {
    "slideshow": {
     "slide_type": "subslide"
    }
   },
   "source": [
    "La syntaxe d'une double boucle `while` :\n",
    "```python\n",
    "# début\n",
    "while condition1:\n",
    "    # début corps 1\n",
    "    while condition2:\n",
    "        # corps 2\n",
    "    # fin corps 1\n",
    "# suite\n",
    "```"
   ]
  },
  {
   "cell_type": "markdown",
   "metadata": {
    "slideshow": {
     "slide_type": "subslide"
    }
   },
   "source": [
    "#### Exemple : table d'addition\n",
    "\n",
    "But : afficher toutes les additions de nombres inférieurs à `n`"
   ]
  },
  {
   "cell_type": "code",
   "execution_count": null,
   "metadata": {
    "slideshow": {
     "slide_type": "-"
    }
   },
   "outputs": [],
   "source": [
    "m = 3\n",
    "n = 11\n",
    "\n",
    "a = 0  # hors de la boucle externe !\n",
    "while a < m:\n",
    "    b = 0  # dans la boucle externe !\n",
    "    while b < n:\n",
    "        print(a, '+', b, '=', a+b)\n",
    "        b += 1  # dans la boucle interne !\n",
    "    a += 1  # dans la boucle externe !"
   ]
  },
  {
   "cell_type": "markdown",
   "metadata": {
    "slideshow": {
     "slide_type": "skip"
    }
   },
   "source": [
    "**Exercices :** \n",
    "1. afficher toutes les additions `a + b = c` pour `a` entre 0 et `n` et `b` entre 0 et `m`\n",
    "2. essayer d'écrire le programme en utilisant une seule boucle (*non recommandé en temps normal !*)"
   ]
  },
  {
   "cell_type": "markdown",
   "metadata": {
    "slideshow": {
     "slide_type": "skip"
    }
   },
   "source": [
    "#### Exemple : compter jusqu'à 59, dix nombres par ligne "
   ]
  },
  {
   "cell_type": "code",
   "execution_count": null,
   "metadata": {
    "slideshow": {
     "slide_type": "skip"
    }
   },
   "outputs": [],
   "source": [
    "# paramètres\n",
    "limite = 60\n",
    "nb_colonnes = 7\n",
    "\n",
    "courant = 0\n",
    "while courant < limite:\n",
    "    colonne = 0\n",
    "    while colonne < nb_colonnes and courant < limite:\n",
    "        print(courant, end = '\\t')\n",
    "        colonne += 1\n",
    "        courant += 1\n",
    "    print()  # affiche un retour à la ligne"
   ]
  },
  {
   "cell_type": "markdown",
   "metadata": {
    "slideshow": {
     "slide_type": "skip"
    }
   },
   "source": [
    "**Exercice :** (pas si évident) faire en sorte que les nombres successifs apparaissent sur une même colonne"
   ]
  },
  {
   "cell_type": "code",
   "execution_count": null,
   "metadata": {
    "slideshow": {
     "slide_type": "skip"
    }
   },
   "outputs": [],
   "source": [
    "# paramètres\n",
    "limite = 37\n",
    "nb_colonnes = 10\n",
    "\n",
    "nb_lignes = limite // nb_colonnes + 1\n",
    "ligne = 0\n",
    "while ligne < nb_lignes:\n",
    "    colonne = 0\n",
    "    courant = ligne\n",
    "    while courant < limite and colonne < nb_colonnes:\n",
    "        print(courant, end = '\\t')\n",
    "        courant += nb_lignes\n",
    "        colonne += 1\n",
    "    ligne += 1\n",
    "    print()  # affiche un retour à la ligne"
   ]
  },
  {
   "cell_type": "markdown",
   "metadata": {
    "slideshow": {
     "slide_type": "skip"
    }
   },
   "source": [
    "## <img src='img/non-exigible.png' width='50px' style='display:inline'> Contrôle de boucle \n",
    "\n",
    "Tout ce qui suit est *non exigible en contrôle*.\n",
    "\n",
    "### Instruction `break`"
   ]
  },
  {
   "cell_type": "markdown",
   "metadata": {
    "slideshow": {
     "slide_type": "skip"
    }
   },
   "source": [
    "On peut sortir prématurément d’une boucle `while`\n",
    "- Instruction `break` dans le corps (en général dans une conditionnelle)\n",
    "- Force une sortie de boucle et passe directement à la suite du programme\n",
    "- On ne réévalue pas la condition du `while`\n",
    "  "
   ]
  },
  {
   "cell_type": "markdown",
   "metadata": {
    "slideshow": {
     "slide_type": "skip"
    }
   },
   "source": [
    "<img src='img/while3.png' width='30%'>"
   ]
  },
  {
   "cell_type": "markdown",
   "metadata": {
    "slideshow": {
     "slide_type": "skip"
    }
   },
   "source": [
    "**Exemple :** saisie contrôlée sans duplication de l'instruction `input` :"
   ]
  },
  {
   "cell_type": "code",
   "execution_count": null,
   "metadata": {
    "slideshow": {
     "slide_type": "skip"
    }
   },
   "outputs": [],
   "source": [
    "while True:\n",
    "    note_cc1 = float(input('Note du premier contrôle : '))\n",
    "    if 0 <= note_cc1 <= 20:\n",
    "        # saisie correcte, on termine la boucle\n",
    "        break\n",
    "    # saisie incorrecte, on recommence\n",
    "    print('Erreur de saisie.')"
   ]
  },
  {
   "cell_type": "markdown",
   "metadata": {
    "slideshow": {
     "slide_type": "skip"
    }
   },
   "source": [
    "### Instruction `continue`"
   ]
  },
  {
   "cell_type": "markdown",
   "metadata": {
    "slideshow": {
     "slide_type": "skip"
    }
   },
   "source": [
    "On peut passer prématurément à l’itération suivante\n",
    "- Instruction `continue` dans le corps de la boucle\n",
    "- On retourne directement à la condition, et on la réévalue"
   ]
  },
  {
   "cell_type": "code",
   "execution_count": null,
   "metadata": {
    "slideshow": {
     "slide_type": "skip"
    }
   },
   "outputs": [],
   "source": [
    "while True:\n",
    "    saisie = input(\"Dis-moi quelque chose : \")\n",
    "    if saisie == \"\":\n",
    "        print(\"Tu n'as rien dit !\")\n",
    "        continue\n",
    "    if saisie == \"je réfléchis\":  # elif inutile ici !\n",
    "        print(\"OK, j'attends...\")\n",
    "        continue\n",
    "    if saisie == \"stop\":  # elif inutile ici !\n",
    "        print(\"D'accord...\")\n",
    "        break\n",
    "    if saisie == \"arrête\":  # elif inutile ici !\n",
    "        print(\"C'est bon, j'ai compris !\")\n",
    "        break\n",
    "    # else inutile ici !\n",
    "    print(\"Ta phrase fait\", len(saisie), \"caractères.\")"
   ]
  },
  {
   "cell_type": "markdown",
   "metadata": {
    "slideshow": {
     "slide_type": "skip"
    }
   },
   "source": [
    "### Remarques sur `break` et `continue`\n",
    "\n",
    "- Ces deux instructions ne sont à utiliser que par des programmeurs confirmés\n",
    "- Elles compliquent en général la compréhension et l'analyse du code\n",
    "- On peut toujours s'en sortir sans (en utilisant des `if`), même si ça peut rendre le code moins \"élégant\""
   ]
  },
  {
   "cell_type": "code",
   "execution_count": null,
   "metadata": {
    "slideshow": {
     "slide_type": "skip"
    }
   },
   "outputs": [],
   "source": [
    "saisie = \"\"\n",
    "while saisie != \"stop\" and saisie != \"arrête\":\n",
    "    saisie = input(\"Dis-moi quelque chose : \")\n",
    "    if saisie == \"\":\n",
    "        print(\"Tu n'as rien dit !\")\n",
    "    elif saisie == \"je réfléchis\":\n",
    "        print(\"OK, j'attends...\")\n",
    "    else:\n",
    "        print(\"Ta phrase fait\", len(saisie), \"caractères.\")\n",
    "if saisie == \"stop\":\n",
    "    print(\"D'accord...\")\n",
    "elif saisie == \"arrête\":\n",
    "    print(\"C'est bon, j'ai compris !\")"
   ]
  },
  {
   "cell_type": "code",
   "execution_count": null,
   "metadata": {
    "slideshow": {
     "slide_type": "skip"
    }
   },
   "outputs": [],
   "source": [
    "a, b, c = ...\n",
    "\n",
    "# Calcul et affichage du nombre de solutions\n",
    "if a == b == c == 0:\n",
    "    print(\"Une infinité de solutions réelles (et complexes)\")\n",
    "elif a == b == 0:  # A ce stade, si a = b = 0, c est différent de 0 !!!\n",
    "    print(\"Aucune solution\")\n",
    "elif a == 0 :      # A ce stade, si a = 0, b est différent de 0 !!!\n",
    "    print(\"Une solution réelle\")\n",
    "else:\n",
    "    delta = b ** 2 - 4 * a * c\n",
    "    if delta < 0:\n",
    "        print(\"Pas de solution réelle\")\n",
    "    elif delta == 0:\n",
    "        print(\"Une solution réelle\")\n",
    "    else:\n",
    "        print(\"Deux solutions réelles\")"
   ]
  }
 ],
 "metadata": {
  "celltoolbar": "Slideshow",
  "kernelspec": {
   "display_name": "Python 3 (ipykernel)",
   "language": "python",
   "name": "python3"
  },
  "language_info": {
   "codemirror_mode": {
    "name": "ipython",
    "version": 3
   },
   "file_extension": ".py",
   "mimetype": "text/x-python",
   "name": "python",
   "nbconvert_exporter": "python",
   "pygments_lexer": "ipython3",
   "version": "3.10.12"
  }
 },
 "nbformat": 4,
 "nbformat_minor": 2
}
