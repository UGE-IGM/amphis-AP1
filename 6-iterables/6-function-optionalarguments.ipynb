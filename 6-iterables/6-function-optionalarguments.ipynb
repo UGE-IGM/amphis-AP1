{
 "cells": [
  {
   "cell_type": "markdown",
   "metadata": {},
   "source": [
    "# Fonctions les argument optionels\n",
    "\n",
    "Python propose trois extensions au passage d'argument classique.\n",
    "- les arguments optionels \n",
    "- un nombre variables d'arguments\n",
    "- arguments par mot clefs\n",
    "\n",
    "## Arguments optionels \n",
    "\n",
    "Les arguments optionnels permettent de définir des valeurs par défault de certains argument ainsi il n'est pas nécessaire de fournir de valeurs pour ces arguments."
   ]
  },
  {
   "cell_type": "code",
   "execution_count": 1,
   "metadata": {},
   "outputs": [],
   "source": [
    "def greet(name, msg=\"bienvenu !\"):\n",
    "    \"\"\"\n",
    "    Ceci acceuil une personne. \n",
    "    Si le message n'est pas fourni, la valeur par défault \"bienvenu !\" sera utilisée. \n",
    "    \"\"\"\n",
    "\n",
    "    print(\"Salut\", name + ', ' + msg)\n"
   ]
  },
  {
   "cell_type": "code",
   "execution_count": 3,
   "metadata": {},
   "outputs": [
    {
     "name": "stdout",
     "output_type": "stream",
     "text": [
      "Hello David, Bienvenito\n"
     ]
    }
   ],
   "source": [
    "greet(\"David\",\"Bienvenito\")"
   ]
  },
  {
   "cell_type": "code",
   "execution_count": 4,
   "metadata": {},
   "outputs": [
    {
     "name": "stdout",
     "output_type": "stream",
     "text": [
      "Hello David, bienvenu !\n"
     ]
    }
   ],
   "source": [
    "greet(\"David\")"
   ]
  },
  {
   "cell_type": "markdown",
   "metadata": {},
   "source": [
    "## Un appel indirect\n",
    "\n",
    "Dans le cas d'une fonction avec des arguments optionnels si l'on souhaite faire un appel avec d'autres valoeur par défaut pour les options il suffit d'écrire une nouvelle fonction qui définie ces arguments autrement."
   ]
  },
  {
   "cell_type": "code",
   "execution_count": 14,
   "metadata": {},
   "outputs": [],
   "source": [
    "def achatVoiture(type,motorisation,\n",
    "                 peinturemétalisée=False,radiobluetooth=False,\n",
    "                 couleur=\"Noire\",toitouvrant=False):\n",
    "    options=\"\"\n",
    "    if peinturemétalisée :\n",
    "        options += \"Peinture métalisée\"\n",
    "    options += \" de couleur \"+couleur\n",
    "    if radiobluetooth:\n",
    "        options +=\" radio bluetooth\"\n",
    "    if toitouvrant:\n",
    "        options +=\" avec toi ouvrant panoramique\"\n",
    "    return f\"une {type} avec un moteur {motorisation},{options}\""
   ]
  },
  {
   "cell_type": "code",
   "execution_count": 15,
   "metadata": {},
   "outputs": [
    {
     "data": {
      "text/plain": [
       "'une Renault avec un moteur Diesel,  de couleur Noire'"
      ]
     },
     "execution_count": 15,
     "metadata": {},
     "output_type": "execute_result"
    }
   ],
   "source": [
    "achatVoiture(\"Renault\",\"Diesel\")"
   ]
  },
  {
   "cell_type": "code",
   "execution_count": 16,
   "metadata": {},
   "outputs": [],
   "source": [
    "def achatVoitureLuxe(type,motorisation,\n",
    "                     peinturemétalisée=True,\n",
    "                     radiobluetooth=True,\n",
    "                     couleur=\"Dorée\",toitouvrant=True):\n",
    "    return achatVoiture(type, motorisation, peinturemétalisée=peinturemétalisée,\n",
    "                        radiobluetooth=radiobluetooth,\n",
    "                        couleur=couleur,toitouvrant=toitouvrant)"
   ]
  },
  {
   "cell_type": "markdown",
   "metadata": {},
   "source": [
    "Remarquer la syntaxe **radiobluetooth=radiobluetooth** qui est intéressante.\n",
    "\n",
    "En effet le rôle et la porté des identificateurs d'un coté et de l'autre de l'affectation sont très différents bien que ce soit ici le même identificateur il n'indique pas la même chose.\n",
    "\n",
    "On parle dans ce cas la de `valeur-gauche`(left-value) et `valeur-droite`(right-value), c'est à dire l'interprétation à gauche et à droite de l'affectation. \n",
    "\n",
    "Ainsi dans le cas présent la valeur gauche  `radiobluetooth`=radiobluetooth est le nom du paramêtre optionnel de la fonction `achatVoiture` \n",
    "\n",
    "La valeur droite radiobluetooth=`radiobluetooth` est le nom de la variable locale de la fonction **achatVoitureLuxe**.\n"
   ]
  },
  {
   "cell_type": "code",
   "execution_count": 17,
   "metadata": {},
   "outputs": [
    {
     "data": {
      "text/plain": [
       "'une Aston Martin DB11 avec un moteur essence, Peinture métalisée de couleur Dorée radio bluetooth avec toi ouvrant panoramique'"
      ]
     },
     "execution_count": 17,
     "metadata": {},
     "output_type": "execute_result"
    }
   ],
   "source": [
    "achatVoitureLuxe(\"Aston Martin DB11\",\"essence\")"
   ]
  },
  {
   "cell_type": "markdown",
   "metadata": {},
   "source": [
    "## un nombre variables d'arguments\n",
    "\n",
    "Parfois nous souhaitons avoir un nombre variable d'argument un bonne exemple est la fonction standard **print** qui accepte un nombre  variable d'argument.\n"
   ]
  },
  {
   "cell_type": "code",
   "execution_count": 18,
   "metadata": {},
   "outputs": [
    {
     "name": "stdout",
     "output_type": "stream",
     "text": [
      "1\n",
      "1 2\n",
      "1 2 3\n"
     ]
    }
   ],
   "source": [
    "print(1)\n",
    "print(1,2)\n",
    "print(1,2,3)"
   ]
  },
  {
   "cell_type": "markdown",
   "metadata": {},
   "source": [
    "Si le nombre d'argument est variable c'est donc un itérable.\n",
    "Il nous faut une syntaxe qui permette d'indiquer que l'on souhaite un nombre variable d'argument. Dans ce cas on utilise une étoile '*', pour l'indiquer. "
   ]
  },
  {
   "cell_type": "code",
   "execution_count": 19,
   "metadata": {},
   "outputs": [],
   "source": [
    "def monprint(*names):\n",
    "    for n in names:\n",
    "        print(\"Bonjour\",n,\"!\")\n"
   ]
  },
  {
   "cell_type": "code",
   "execution_count": 21,
   "metadata": {},
   "outputs": [
    {
     "name": "stdout",
     "output_type": "stream",
     "text": [
      "Bonjour Aissatou\n",
      "Bonjour Eric\n",
      "Bonjour Jean\n",
      "Bonjour Mamadou\n",
      "Bonjour Nicolas\n",
      "Bonjour Yiyi\n"
     ]
    }
   ],
   "source": [
    "monprint(\"Aissatou\",\"Eric\",\"Jean\",\"Mamadou\",\"Nicolas\",\"Yiyi\")"
   ]
  },
  {
   "cell_type": "markdown",
   "metadata": {},
   "source": [
    "Bien entendu il y a des problèmes ;)\n",
    "\n",
    "On ne peut pas avoir plusieurs arguments variables ...\n",
    "Et on ne peut placer celui ci qu'en dernier dans la liste des arguments non optionels."
   ]
  },
  {
   "cell_type": "markdown",
   "metadata": {},
   "source": [
    "## Arguments par motclefs \n",
    "\n",
    "Les mots clefs que l'on souhaite passer nous ne les connaissont pas au moment de l'écriture de notre fonction. \n",
    "\n",
    "Aie ! \n",
    "\n",
    "C'est pas grave on vas permettre de passer un dictionnaires de mots clefs.\n",
    "Mais comme nous n'avons pas encore vu les dictionnaires nous attendrons pour vous décrire cet partie la ;)\n",
    "\n"
   ]
  },
  {
   "cell_type": "code",
   "execution_count": 25,
   "metadata": {},
   "outputs": [],
   "source": [
    "def fun(arg1, *varargs, **keypara):\n",
    "    return \"OK\""
   ]
  },
  {
   "cell_type": "code",
   "execution_count": 26,
   "metadata": {},
   "outputs": [
    {
     "data": {
      "text/plain": [
       "'OK'"
      ]
     },
     "execution_count": 26,
     "metadata": {},
     "output_type": "execute_result"
    }
   ],
   "source": [
    "fun(1,2,3,3,5,5,key1=56,key2=89)\n"
   ]
  },
  {
   "cell_type": "code",
   "execution_count": null,
   "metadata": {},
   "outputs": [],
   "source": []
  },
  {
   "cell_type": "code",
   "execution_count": null,
   "metadata": {},
   "outputs": [],
   "source": []
  }
 ],
 "metadata": {
  "kernelspec": {
   "display_name": "Python 3",
   "language": "python",
   "name": "python3"
  },
  "language_info": {
   "codemirror_mode": {
    "name": "ipython",
    "version": 3
   },
   "file_extension": ".py",
   "mimetype": "text/x-python",
   "name": "python",
   "nbconvert_exporter": "python",
   "pygments_lexer": "ipython3",
   "version": "3.8.5"
  }
 },
 "nbformat": 4,
 "nbformat_minor": 4
}
