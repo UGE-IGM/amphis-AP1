{
 "cells": [
  {
   "cell_type": "markdown",
   "metadata": {
    "slideshow": {
     "slide_type": "slide"
    }
   },
   "source": [
    "<div style='float:center; margin-right:20pt; width:30em'><img src='../img/logo-igm.png'></div>\n",
    "<div style='float:center; font-size:large'>\n",
    "    <strong>Algorithmique et programmation 1</strong><br>\n",
    "    L1 Mathématiques - L1 Informatique<br>\n",
    "    Semestre 1\n",
    "</div>"
   ]
  },
  {
   "cell_type": "markdown",
   "metadata": {},
   "source": [
    "# Chapitre 6 - Séquences et itérables - La boucle `for`"
   ]
  },
  {
   "cell_type": "markdown",
   "metadata": {},
   "source": [
    "## Les listes : récapitulatif"
   ]
  },
  {
   "cell_type": "markdown",
   "metadata": {},
   "source": [
    "\n",
    "Type `list` : **séquence** **mutable** d'objets quelconques\n",
    "\n",
    "Les opérateurs et fonctions que nous avons rencontrés sont :\n",
    "\n",
    "- `L[i]`, `L[i][j]` : accès à un élément\n",
    "- `len(L)` :  longueur\n",
    "- `min(L)`, `max(L)` : minimum et maximum\n",
    "- `x in L`, `x not in L` : test d'appartenance\n",
    "- `L1 + L2`, `L * 3` : concaténation et répétition\n",
    "- `L[i] = x` : modification de l'élément d'indice `i`\n",
    "- `L2 = sorted(L)` : fabrication de liste triée\n",
    "\n",
    "Les principales méthodes que nous avons rencontrées sont :\n",
    "\n",
    "- `L.append(4)` : ajout d'un élément en fin de liste\n",
    "- `L1.extend(L2)` : ajout d'une liste d'éléments en fin de liste\n",
    "- `x = L.pop()` : suppression du dernier élément\n",
    "- `x = L.pop(i)` : suppression de l'élément d'indice `i`\n",
    "* `L.index(x)` : indice de la première occurrence de `x`\n",
    "* `L.count(x)` : nombre d'occurrences de `x`\n",
    "* `L.clear()` : retire tous les éléments de `L`\n",
    "* `L.copy()` : crée une copie *(superficielle)* de `L`\n",
    "* `L.reverse()` : renverse la liste `L`\n",
    "* `L.remove(x)` : retire la première occurrence de `x`\n",
    "* `L.insert(i, x)` : insère `x` avant la position `i`\n",
    "* `L.sort()` : trie sur place la liste `L` \n",
    "\n",
    "Consulter la [documentation en ligne](https://docs.python.org/3/) pour plus de\n",
    "détails"
   ]
  },
  {
   "cell_type": "markdown",
   "metadata": {},
   "source": [
    "**Rappel :** fonctions imitant les méthodes prédéfinies sur les listes"
   ]
  },
  {
   "cell_type": "code",
   "execution_count": null,
   "metadata": {},
   "outputs": [],
   "source": [
    "def chercher(L, x):\n",
    "    i = 0\n",
    "    while i < len(L):\n",
    "        if L[i] == x:\n",
    "            # pas la peine d'aller plus loin\n",
    "            return i\n",
    "        i += 1\n",
    "    # élément non trouvé\n",
    "    return None\n",
    "\n",
    "def compter(L, x):\n",
    "    i = 0\n",
    "    cpt = 0\n",
    "    while i < len(L):\n",
    "        if L[i] == x:\n",
    "            cpt += 1\n",
    "        i += 1\n",
    "    return cpt\n",
    "\n",
    "def vider(L):\n",
    "    # cette fonction n'est pas vraiment\n",
    "    # implémentée comme ça en principe...\n",
    "    while len(L) > 0:\n",
    "        L.pop()\n",
    "\n",
    "def copier(L):\n",
    "    copie = []\n",
    "    i = 0\n",
    "    while i < len(L):\n",
    "        copie.append(L[i])\n",
    "        i += 1\n",
    "    return copie\n",
    "\n",
    "def renverser(L):\n",
    "    i = 0\n",
    "    while i < len(L) // 2:\n",
    "        # chaque élément de la première moitié\n",
    "        # est interverti avec l'élément symétrique\n",
    "        temp = L[i]\n",
    "        L[i] = L[len(L) - i - 1]\n",
    "        L[len(L) - i - 1] = temp\n",
    "        i += 1\n",
    "\n",
    "def retirer(L, x):\n",
    "    i = chercher(L, x)\n",
    "    if i != None:\n",
    "        # décaler tous les éléments\n",
    "        # suivants d'un cran à gauche\n",
    "        while i < len(L) - 1:\n",
    "            L[i] = L[i + 1]\n",
    "            i += 1\n",
    "        # supprimer la dernière case\n",
    "        L.pop()\n",
    "\n",
    "def inserer(L, i, x):\n",
    "    if i >= len(L):\n",
    "        # le nouvel élément va à la fin\n",
    "        L.append(x)\n",
    "    else:\n",
    "        # décaler le dernier élément d'un cran à droite (nouvelle case)\n",
    "        L.append(L[len(L) - 1])\n",
    "        # décaler tous les éléments d'indices i à len(L)-2 vers la droite\n",
    "        # (en partant de l'ancienne fin)\n",
    "        j = len(L) - 2\n",
    "        while j > i:\n",
    "            L[j] = L[j - 1]\n",
    "            j -= 1\n",
    "        # placer le nouvel élément\n",
    "        L[i] = x"
   ]
  },
  {
   "cell_type": "markdown",
   "metadata": {},
   "source": [
    "## Parcours de liste revisité : la boucle `for`"
   ]
  },
  {
   "cell_type": "markdown",
   "metadata": {},
   "source": [
    "\n",
    "Parcours de liste avec une boucle `while` :\n",
    "\n",
    "```python\n",
    "ma_liste = ...\n",
    "i = 0\n",
    "while i < len(ma_liste):\n",
    "    faire_un_truc_avec(i)\n",
    "    i += 1\n",
    "```\n",
    "\n",
    "*Inconvénients :*\n",
    "\n",
    "* Oubli fréquent de l'incrémentation de `i` *(surtout si le corps de la boucle\n",
    "  est long)*\n",
    "* Erreurs possibles dans l'initialisation et le test"
   ]
  },
  {
   "cell_type": "markdown",
   "metadata": {},
   "source": [
    "Autre forme de parcours (**itération**):\n",
    "\n",
    "```python\n",
    "ma_liste = ...\n",
    "for elem in ma_liste:\n",
    "    faire_un_truc_avec(elem)\n",
    "```\n",
    "\n",
    "*Avantages :*\n",
    "\n",
    "- Absence des inconvénients du `while`...\n",
    "- Code plus lisible (pas de `[i]`)\n",
    "  \n",
    "*Inconvénient :*\n",
    "\n",
    "Pas d'accès à l'indice courant "
   ]
  },
  {
   "cell_type": "markdown",
   "metadata": {},
   "source": [
    "\n",
    "**Exercice :** \n",
    "\n",
    "Reprendre les fonctions `compter`, `copier` et `chercher` en utilisant des boucles `for`"
   ]
  },
  {
   "cell_type": "code",
   "execution_count": null,
   "metadata": {},
   "outputs": [],
   "source": [
    "def compter(L, x):\n",
    "    cpt = 0\n",
    "    for elem in L:\n",
    "        if elem == x:\n",
    "            cpt += 1\n",
    "    return cpt"
   ]
  },
  {
   "cell_type": "code",
   "execution_count": null,
   "metadata": {},
   "outputs": [],
   "source": [
    "def copier(L):\n",
    "    copie = []\n",
    "    for elem in L:\n",
    "        copie.append(elem)\n",
    "    return copie"
   ]
  },
  {
   "cell_type": "code",
   "execution_count": null,
   "metadata": {},
   "outputs": [],
   "source": [
    "def chercher(L, x):\n",
    "    for elem in L:\n",
    "        if elem == x:\n",
    "            return ... # ???\n",
    "            # impossible de terminer, on a besoin d'un indice\n",
    "    return None"
   ]
  },
  {
   "cell_type": "markdown",
   "metadata": {},
   "source": [
    "**Problème :** pas d'accès à l'indice de `x` !\n",
    "\n",
    "**Solution :** itérer sur un intervalle d'indices -- fonction `range()`"
   ]
  },
  {
   "cell_type": "markdown",
   "metadata": {},
   "source": [
    "## Intervalles d'entiers : `range`\n",
    "\n",
    "La fonction `range` fabrique des intervalles d'entiers\n",
    "\n",
    "* `range(i)` : entiers de 0 à `i-1`\n",
    "* `range(i, j)` : entiers de `i` à `j-1`\n",
    "* `range(i, j, k)` : entiers de `i` à `j-1` par\n",
    "  pas de `k`"
   ]
  },
  {
   "cell_type": "markdown",
   "metadata": {},
   "source": [
    "Opérations autorisées sur un `range` `r`:\n",
    "\n",
    "* `x in r, x not in r, r[i]`\n",
    "* `len(r), min(r), max(r), r.index(x), r.count(x)`\n",
    "* `list(r)` (conversion en liste)"
   ]
  },
  {
   "cell_type": "code",
   "execution_count": null,
   "metadata": {},
   "outputs": [],
   "source": [
    "r = range(10)\n",
    "print(r)"
   ]
  },
  {
   "cell_type": "code",
   "execution_count": null,
   "metadata": {},
   "outputs": [],
   "source": [
    "r[0]"
   ]
  },
  {
   "cell_type": "code",
   "execution_count": null,
   "metadata": {},
   "outputs": [],
   "source": [
    "r[1]"
   ]
  },
  {
   "cell_type": "code",
   "execution_count": null,
   "metadata": {},
   "outputs": [],
   "source": [
    "max(r)"
   ]
  },
  {
   "cell_type": "code",
   "execution_count": null,
   "metadata": {},
   "outputs": [],
   "source": [
    "r = range(10, 30, 7)\n",
    "max(r)"
   ]
  },
  {
   "cell_type": "code",
   "execution_count": null,
   "metadata": {},
   "outputs": [],
   "source": [
    "len(r)"
   ]
  },
  {
   "cell_type": "code",
   "execution_count": null,
   "metadata": {},
   "outputs": [],
   "source": [
    "list(r)"
   ]
  },
  {
   "cell_type": "markdown",
   "metadata": {},
   "source": [
    "Opérations interdites sur un `range` : **tout le reste**\n",
    "\n",
    "* Concaténation, répétition, affectation d'élément\n",
    "* Autres méthodes de listes (`append`, etc.)\n",
    "\n",
    "Objets de type `range` : \n",
    "\n",
    "* **séquences** (comme les listes)\n",
    "* **itérables** (utilisables dans un `for`, comme les listes)\n",
    "* **non mutables** (non modifiables, pas comme les listes)"
   ]
  },
  {
   "cell_type": "code",
   "execution_count": null,
   "metadata": {},
   "outputs": [],
   "source": [
    "for i in range(4):\n",
    "    print(i)"
   ]
  },
  {
   "cell_type": "markdown",
   "metadata": {},
   "source": [
    "Caractéristique importante :\n",
    "\n",
    "* Non construit entièrement en mémoire\n",
    "* `range(10000)` ne prend pas plus de place et ne prend pas plus de temps à construire que\n",
    "  `range(2)`\n",
    "* Éléments fabriqués « à la demande »\n",
    "\n",
    "Utilisation fréquente : parcours des indices d'une liste"
   ]
  },
  {
   "cell_type": "code",
   "execution_count": null,
   "metadata": {},
   "outputs": [],
   "source": [
    "L = ['a', 'b', 'c']\n",
    "for i in range(len(L)):\n",
    "    print(i, '->', L[i])"
   ]
  },
  {
   "cell_type": "markdown",
   "metadata": {},
   "source": [
    "**Exercice :** Écrire une fonction `chercher(L, x)` qui recherche la première position de `x` dans `L` en utilisant une boucle `for` et la fonction `range`."
   ]
  },
  {
   "cell_type": "code",
   "execution_count": null,
   "metadata": {},
   "outputs": [],
   "source": [
    "def chercher(L, x):\n",
    "    for i in range(len(L)):\n",
    "        if L[i] == x:\n",
    "            return i\n",
    "    return None"
   ]
  },
  {
   "cell_type": "markdown",
   "metadata": {},
   "source": [
    "## <img src='img/non-exigible.png' width='35px' style='display:inline'> Un autre type de parcours de liste : `enumerate`"
   ]
  },
  {
   "cell_type": "markdown",
   "metadata": {},
   "source": [
    "\n",
    "*La connaissance de cette notion n'est pas exigible à l'examen.*\n",
    "\n",
    "La fonction `enumerate(iterable)` permet d'itérer sur les couples `(i, elem)` constitués d'un indice et de l'élément correspondant dans `iterable`."
   ]
  },
  {
   "cell_type": "code",
   "execution_count": null,
   "metadata": {},
   "outputs": [],
   "source": [
    "def chercher(L, x):\n",
    "    for i, elem in enumerate(L):\n",
    "        if elem == x:\n",
    "            return i\n",
    "    return None"
   ]
  },
  {
   "cell_type": "code",
   "execution_count": null,
   "metadata": {},
   "outputs": [],
   "source": [
    "def lister(lst):\n",
    "    for i, elem in enumerate(lst):\n",
    "        print(i, '->', elem)\n",
    "        \n",
    "lister([6, 3, 8])"
   ]
  },
  {
   "cell_type": "markdown",
   "metadata": {},
   "source": [
    "## <img src='img/non-exigible.png' width='35px' style='display:inline'> Mutations de listes"
   ]
  },
  {
   "cell_type": "markdown",
   "metadata": {},
   "source": [
    "\n",
    "*La connaissance de cette notion n'est pas exigible à l'examen.*\n",
    "\n",
    "Il existe une syntaxe abrégée, inspirée de la notation ensembliste des mathématiques, qui permet de définir rapidement des listes. On parle de mutations de listes, ou *list comprehensions* en Anglais.\n",
    "\n",
    "La syntaxe est :\n",
    "\n",
    "```\n",
    "lst = [<forme d'un élement> for <variable> in <iterable>]\n",
    "```\n",
    "\n",
    "Cette écriture est équivalente à la syntaxe habituelle suivante :\n",
    "\n",
    "```\n",
    "lst = []\n",
    "for <variable> in <iterable>:\n",
    "    lst.append(<forme d'un element>)\n",
    "```\n",
    "\n",
    "On peu aussi rajouter une condition :\n",
    "\n",
    "```\n",
    "lst = [<forme d'un élement> for <variable> in <iterable> if <condition>]\n",
    "```\n",
    "\n",
    "Ce qui équivaut à :\n",
    "\n",
    "```\n",
    "lst = []\n",
    "for <variable> in <iterable>:\n",
    "    if <condition>:\n",
    "        lst.append(<forme d'un element>)\n",
    "```\n",
    "\n",
    "Voici quelques exemples :"
   ]
  },
  {
   "cell_type": "code",
   "execution_count": null,
   "metadata": {},
   "outputs": [],
   "source": [
    "[i*i for i in range(10)]  # liste des 10 premiers carrés"
   ]
  },
  {
   "cell_type": "code",
   "execution_count": null,
   "metadata": {},
   "outputs": [],
   "source": [
    "lst = []\n",
    "for i in range(10):\n",
    "    lst.append(i*i)\n",
    "lst"
   ]
  },
  {
   "cell_type": "code",
   "execution_count": null,
   "metadata": {},
   "outputs": [],
   "source": [
    "[i*i for i in range(10) if i*i % 2 == 0]"
   ]
  },
  {
   "cell_type": "code",
   "execution_count": null,
   "metadata": {},
   "outputs": [],
   "source": [
    "[c for c in 'anticonstitutionnellement' if c in 'aeiouy']  # liste des voyelles d'un mot"
   ]
  },
  {
   "cell_type": "markdown",
   "metadata": {},
   "source": [
    "On peut aussi utiliser plusieurs boucles et conditions :\n",
    "\n",
    "```\n",
    "lst = [<forme d'un élement> \n",
    "       for <variable1> in <iterable1>\n",
    "       for <variable2> in <iterable2>\n",
    "       if <condition>]\n",
    "```\n",
    "\n",
    "Ce qui équivaut à :\n",
    "\n",
    "```\n",
    "lst = []\n",
    "for <variable1> in <iterable1>:\n",
    "    for <variable2> in <iterable2>:\n",
    "        if <condition>:\n",
    "            lst.append(<forme d'un element>)\n",
    "```\n",
    "\n",
    "Exemple :"
   ]
  },
  {
   "cell_type": "code",
   "execution_count": null,
   "metadata": {},
   "outputs": [],
   "source": [
    "[(x, y) for x in [1,2,3] for y in [3,1,4] if x != y]"
   ]
  },
  {
   "cell_type": "markdown",
   "metadata": {},
   "source": [
    "On peut également imbriquer les expressions de ce type :"
   ]
  },
  {
   "cell_type": "code",
   "execution_count": null,
   "metadata": {},
   "outputs": [],
   "source": [
    "[[i + j for j in range(5)] for i in range(5)]"
   ]
  },
  {
   "cell_type": "markdown",
   "metadata": {},
   "source": [
    "## Retour sur les chaînes de caractères (type `str`)"
   ]
  },
  {
   "cell_type": "markdown",
   "metadata": {},
   "source": [
    "Les chaînes de caractères (`str`) sont aussi des séquences (et des itérables) !\n",
    "\n",
    "Type `str` : **séquence** **non mutable** et **itérable** de caractères\n",
    "\n",
    "En tant que séquences, les chaînes autorisent :\n",
    "  \n",
    "- `s[i]` : accès à un caractère par son indice\n",
    "- `len(s)` :  longueur\n",
    "- `min(s)`, `max(s)` : minimum et maximum\n",
    "- `s1 in s2`, `s1 not in s2` : recherche de sous-chaîne\n",
    "- `s2.index(s1)` : position de sous-chaîne\n",
    "- `s2.count(s1)` : comptage de sous-chaînes\n",
    "- `s1 + s2`, `s * 3` : concaténation et répétition\n",
    "         \n",
    "En tant que séquences **immutables**, les chaînes interdisent :\n",
    "  \n",
    "`s.append('a')`, `s1.extend(s2)`, `s.insert(i, x)`, `s.pop()`, `s.pop(i)`, `s.remove(x)`, `s.clear()`, `s[i] = x`, `s.reverse()`, `s.sort()`...\n",
    "\n",
    "En tant qu'objets **itérables**, les chaînes peuvent être utilisées dans des\n",
    "boucles `for` :"
   ]
  },
  {
   "cell_type": "code",
   "execution_count": null,
   "metadata": {},
   "outputs": [],
   "source": [
    "s = 'Hildegarde'\n",
    "# afficher les caractères de s, un par ligne\n",
    "for c in s:\n",
    "    print(c)"
   ]
  },
  {
   "cell_type": "markdown",
   "metadata": {},
   "source": [
    "... et acceptent la conversion en liste :"
   ]
  },
  {
   "cell_type": "code",
   "execution_count": null,
   "metadata": {},
   "outputs": [],
   "source": [
    "s = 'Hildegarde'\n",
    "list(s)"
   ]
  },
  {
   "cell_type": "markdown",
   "metadata": {},
   "source": [
    "**Exercice :** écrivez une fonction `cree_liste(s)` fabriquant à partir d'une chaîne la liste de ses caractères"
   ]
  },
  {
   "cell_type": "code",
   "execution_count": null,
   "metadata": {},
   "outputs": [],
   "source": [
    "def cree_liste(s):\n",
    "    return list(s)\n",
    "\n",
    "s = 'AP1 power'\n",
    "print(cree_liste(s))"
   ]
  },
  {
   "cell_type": "markdown",
   "metadata": {},
   "source": [
    "### Méthodes sur les chaînes"
   ]
  },
  {
   "cell_type": "markdown",
   "metadata": {},
   "source": [
    "\n",
    "De très nombreuses méthodes existent sur les chaînes :"
   ]
  },
  {
   "cell_type": "code",
   "execution_count": null,
   "metadata": {
    "scrolled": true
   },
   "outputs": [],
   "source": [
    "dir(\"\")"
   ]
  },
  {
   "cell_type": "markdown",
   "metadata": {},
   "source": [
    "Nous les découvrirons au fur et à mesure (et pas toutes). *Si vous êtes curieux... pensez à la [doc](https://docs.python.org/3/) !* En voici quelques unes :\n",
    "* `s.capitalize()` : renvoie une copie de la chaîne avec son premier caractère en majuscule et le reste en minuscule.\n",
    "* `s.find(sub)` : donne la première la position dans la chaîne où *sub* est trouvé\n",
    "* `s.join(iterable)` : donne une chaîne qui est la concaténation des chaînes contenues dans *iterable*\n",
    "* `s.split(sep)` : renvoie une liste des mots de la chaîne, en utilisant *sep* comme séparateur de mots. Si *sep* n'est pas donné, le séparateur utilisé est l'espace\n",
    "* `s.replace(old, new)` : renvoie une copie de la chaîne dont toutes les occurrences de la sous-chaîne *old* sont remplacés par *new*. \n",
    "* *etc.*\n"
   ]
  },
  {
   "cell_type": "code",
   "execution_count": null,
   "metadata": {},
   "outputs": [],
   "source": [
    "s='ceci est un titre'\n",
    "print(s.capitalize()) # renvoie une nouvelle chaine\n",
    "print(s) # str est non mutable, s n'a donc pas été modifiée"
   ]
  },
  {
   "cell_type": "code",
   "execution_count": null,
   "metadata": {},
   "outputs": [],
   "source": [
    "print(s.find(\"st\"))"
   ]
  },
  {
   "cell_type": "code",
   "execution_count": null,
   "metadata": {},
   "outputs": [],
   "source": [
    "\" \".join([\"les\", \"aventures\", \"de\", \"python\"])"
   ]
  },
  {
   "cell_type": "code",
   "execution_count": null,
   "metadata": {},
   "outputs": [],
   "source": [
    "\" # \".join([\"les\", \"aventures\", \"de\", \"python\"])"
   ]
  },
  {
   "cell_type": "code",
   "execution_count": null,
   "metadata": {},
   "outputs": [],
   "source": [
    "print(s.split(' '))"
   ]
  },
  {
   "cell_type": "code",
   "execution_count": null,
   "metadata": {},
   "outputs": [],
   "source": [
    "print(s.split('e'))"
   ]
  },
  {
   "cell_type": "code",
   "execution_count": null,
   "metadata": {},
   "outputs": [],
   "source": [
    "print(s.split())"
   ]
  },
  {
   "cell_type": "markdown",
   "metadata": {},
   "source": [
    "## Tuples (ou *$n$-uplets*)"
   ]
  },
  {
   "cell_type": "markdown",
   "metadata": {},
   "source": [
    "Ils sont similaires aux listes mais il sont **non mutables**. \n",
    "\n",
    "Type `tuple` : **séquence** **non mutable** et **itérable**\n",
    "\n",
    "En tant que séquences, les tuples autorisent :\n",
    "  \n",
    "- `t[i]` : accès à un élément par son indice\n",
    "- `len(t)` :  longueur\n",
    "- `min(t)`, `max(t)` : minimum et maximum\n",
    "- `elem in t` : recherche d'élément\n",
    "- `t.index(elem)` : position d'élément\n",
    "- `t.count(elem)` : comptage d'élément\n",
    "- `t1 + t2`, `t * 3` : concaténation et répétition"
   ]
  },
  {
   "cell_type": "markdown",
   "metadata": {},
   "source": [
    "En tant que séquences **immutables**, les tuples interdisent :\n",
    "  \n",
    "`t.append('a')`, `t1.extend(t2)`, `t.insert(i, elem)`, `t.pop()`, `t.pop(i)`, `t.remove(x)`, `t.clear()`, `t[i] = elem`, `t.reverse()`, `t.sort()`..."
   ]
  },
  {
   "cell_type": "markdown",
   "metadata": {},
   "source": [
    "En tant qu'objets **itérables**, les tuples peuvent être utilisées dans des boucles `for` :"
   ]
  },
  {
   "cell_type": "code",
   "execution_count": null,
   "metadata": {},
   "outputs": [],
   "source": [
    "trucs = ('machin', 'bidule', 'chose')\n",
    "for elem in trucs:\n",
    "    print(elem)"
   ]
  },
  {
   "cell_type": "markdown",
   "metadata": {},
   "source": [
    "\n",
    "Ils s'utilisent par exemple pour mémoriser les coordonnées d'un point du plan, une fraction...\n",
    "\n",
    "On les note avec des parenthèses:"
   ]
  },
  {
   "cell_type": "code",
   "execution_count": null,
   "metadata": {},
   "outputs": [],
   "source": [
    "couple = (2, 64)\n",
    "type(couple)"
   ]
  },
  {
   "cell_type": "code",
   "execution_count": null,
   "metadata": {},
   "outputs": [],
   "source": [
    "couple[1]"
   ]
  },
  {
   "cell_type": "markdown",
   "metadata": {},
   "source": [
    "Il est souvent pratique d'affecter simultanément chacun des éléments d'un tuple à une variable. Par exemple :"
   ]
  },
  {
   "cell_type": "code",
   "execution_count": null,
   "metadata": {},
   "outputs": [],
   "source": [
    "fraction = (3, 4)\n",
    "num, denom = fraction\n",
    "print(num)\n",
    "print(denom)"
   ]
  },
  {
   "cell_type": "markdown",
   "metadata": {},
   "source": [
    "Les parenthèses sont parfois omises autour des éléments d'un `tuple` :"
   ]
  },
  {
   "cell_type": "code",
   "execution_count": null,
   "metadata": {},
   "outputs": [],
   "source": [
    "fraction = 3, 4  # pas de parenthèses !\n",
    "num, denom = fraction\n",
    "print(num)\n",
    "print(denom)"
   ]
  },
  {
   "cell_type": "markdown",
   "metadata": {},
   "source": [
    "On se sert généralement d'un `tuple` pour renvoyer un résultat composé de plusieurs valeurs dans une fonction :"
   ]
  },
  {
   "cell_type": "code",
   "execution_count": null,
   "metadata": {},
   "outputs": [],
   "source": [
    "def produit_fractions(f1, f2):\n",
    "    num1, denom1 = f1\n",
    "    num2, denom2 = f2\n",
    "    return num1 * num2, denom1 * denom2  # c'est un tuple !"
   ]
  },
  {
   "cell_type": "code",
   "execution_count": null,
   "metadata": {},
   "outputs": [],
   "source": [
    "frac1 = (1, 3)\n",
    "frac2 = (5, 2)\n",
    "produit_fractions(frac1, frac2)"
   ]
  },
  {
   "cell_type": "markdown",
   "metadata": {},
   "source": [
    "## Fichiers"
   ]
  },
  {
   "cell_type": "markdown",
   "metadata": {},
   "source": [
    "Il est possible de consulter le contenu d'un fichier texte en Python, et de le modifier. On accède la plupart du temps aux lignes successives d'un fichier à l'aide d'une boucle `for`."
   ]
  },
  {
   "cell_type": "markdown",
   "metadata": {},
   "source": [
    "### Descripteurs de fichiers (type `file`)"
   ]
  },
  {
   "cell_type": "markdown",
   "metadata": {},
   "source": [
    "Ouverture d'un fichier : `f = open(chemin, mode)`\n",
    "\n",
    "- Paramètre `chemin` (chaîne de caractère) : nom (absolu ou relatif) d'un fichier\n",
    "- Paramètre `mode` (chaîne de caractère) :\n",
    "  - lecture seule : `'r'` (par défaut)\n",
    "  - écriture (crée / écrase le fichier) : `'w'`\n",
    "  - ajout (écrit à la fin) : `'a'`\n",
    "  - *autres modes possibles pour fichiers binaires*\n",
    "\n",
    "Fermeture : `f.close()`"
   ]
  },
  {
   "cell_type": "markdown",
   "metadata": {},
   "source": [
    "### Lire et écrire dans un fichier\n",
    "\n",
    "Lecture (mode `'r'`) :\n",
    "\n",
    "-   Tout lire d'un coup (une seule chaîne) : `contenu = f.read()`  \n",
    "    **Attention :** charge tout le fichier en mémoire !  \n",
    "    **Attention :** inclut les retours à la ligne\n",
    "\n",
    "-   Liste des lignes (liste de chaînes) : `lst_lignes = f.readlines()`  \n",
    "    **Attention :** charge tout le fichier en mémoire !  \n",
    "    **Attention :** inclut les retours à la ligne\n",
    "    \n",
    "-   Prochaine ligne : `ligne = f.readline()`  \n",
    "    **Attention :** renvoie une chaîne vide à la fin\n",
    "\n",
    "-   Parcours ligne par ligne : `for ligne in f: ...`\n",
    "\n",
    "Écriture (modes `'w'` et `'a'`) : `f.write(chaine)`\n",
    "\n",
    "**Attention :** n'inclut pas de retour à la ligne (`'\\n'`) automatique !"
   ]
  },
  {
   "cell_type": "code",
   "execution_count": null,
   "metadata": {},
   "outputs": [],
   "source": [
    "f = open('test.txt', 'w')\n",
    "for chaine in ['au', 'revoir', 'tout', 'le', 'monde !']:\n",
    "    f.write(chaine)\n",
    "f.close()"
   ]
  },
  {
   "cell_type": "code",
   "execution_count": null,
   "metadata": {},
   "outputs": [],
   "source": [
    "f = open('test.txt', 'w')\n",
    "f.write(\"\\n\".join(['au', 'revoir', 'tout', 'le', 'monde !']))\n",
    "f.close()"
   ]
  },
  {
   "cell_type": "code",
   "execution_count": null,
   "metadata": {},
   "outputs": [],
   "source": [
    "f = open('test.txt', 'a')\n",
    "f.write('(signé : Machin)\\n')\n",
    "f.close()"
   ]
  },
  {
   "cell_type": "code",
   "execution_count": null,
   "metadata": {},
   "outputs": [],
   "source": [
    "f = open('test.txt', 'r')\n",
    "for ligne in f:\n",
    "    # strip supprime les espaces avant et après la chaîne\n",
    "    print(ligne.strip()) \n",
    "f.close()"
   ]
  },
  {
   "cell_type": "code",
   "execution_count": null,
   "metadata": {},
   "outputs": [],
   "source": [
    "f = open('6-iterables.ipynb')\n",
    "for ligne in f:\n",
    "    print(ligne.strip())\n",
    "f.close()"
   ]
  },
  {
   "cell_type": "code",
   "execution_count": null,
   "metadata": {},
   "outputs": [],
   "source": []
  }
 ],
 "metadata": {
  "kernelspec": {
   "display_name": "Python 3",
   "language": "python",
   "name": "python3"
  },
  "language_info": {
   "codemirror_mode": {
    "name": "ipython",
    "version": 3
   },
   "file_extension": ".py",
   "mimetype": "text/x-python",
   "name": "python",
   "nbconvert_exporter": "python",
   "pygments_lexer": "ipython3",
   "version": "3.10.8 (main, Oct 13 2022, 10:18:28) [Clang 13.0.0 (clang-1300.0.29.30)]"
  },
  "vscode": {
   "interpreter": {
    "hash": "aee8b7b246df8f9039afb4144a1f6fd8d2ca17a180786b69acc140d282b71a49"
   }
  }
 },
 "nbformat": 4,
 "nbformat_minor": 2
}
