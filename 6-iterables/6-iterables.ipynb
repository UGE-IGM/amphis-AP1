{
 "cells": [
  {
   "cell_type": "markdown",
   "metadata": {},
   "source": [
    "<div>\n",
    "<div style='float:left; margin-right:40pt; width:6cm'><img src='img/UPEM-IGM-V1_300dpi.png'></div>\n",
    "<div style='float:right; font-size:large; text-align:right'><strong>Algorithmique et programmation 1</strong><br>\n",
    "L1 Mathématiques - L1 Informatique<br>\n",
    "Semestre 1\n",
    "</div>\n",
    "</div>"
   ]
  },
  {
   "cell_type": "markdown",
   "metadata": {},
   "source": [
    "# Chapitre 6 : Itérables -  Mutables"
   ]
  },
  {
   "cell_type": "markdown",
   "metadata": {},
   "source": [
    "## Les itérables\n",
    "\n",
    "La doc python indique:\n",
    "> \"un itérable est une structure de données permettant d'accèder à ses éléments un par un\"\n",
    "\n",
    "Par exemple, les `list` et les `str` sont des *itérables*. Tous les *itérables* permettent d'utiliser l'opérateur `in`. Pour un itérable `L`, on peut se servir de cet opérateur comme suit :\n",
    "\n",
    "- `x in L`, `x not in L` : test d'appartenance\n",
    "- `for elem in L: ` parcours \n",
    "\n",
    "Le deuxième cas d'utilisation permet de passer d'un élément de l'itérable au suivant. Vous avez déjà vu un cas particulier de cette syntaxe: `for i in range(n)`. En effet, `range(n)` est aussi un itérable (représentant la séquence 0,1,…,n-1)."
   ]
  },
  {
   "cell_type": "markdown",
   "metadata": {},
   "source": [
    "Afficher chaque élément d'une liste:"
   ]
  },
  {
   "cell_type": "code",
   "execution_count": 7,
   "metadata": {},
   "outputs": [],
   "source": [
    "l=[5,'toc',1.4,18,42,\"tic\"]"
   ]
  },
  {
   "cell_type": "code",
   "execution_count": null,
   "metadata": {},
   "outputs": [],
   "source": [
    "def element(l):\n",
    "    for elem in l:\n",
    "       print(elem)"
   ]
  },
  {
   "cell_type": "markdown",
   "metadata": {},
   "source": [
    "Les listes sont *mutables* c'est à dire que l'on peut changer leur contenu (au lieu de créer une nouvelle liste)."
   ]
  },
  {
   "cell_type": "code",
   "execution_count": 8,
   "metadata": {},
   "outputs": [
    {
     "name": "stdout",
     "output_type": "stream",
     "text": [
      "[5, 'toc', 1.4, 18, 42, 'tic']\n",
      "[5, 'toc', 111, 18, 42, 'tic']\n"
     ]
    }
   ],
   "source": [
    "print(l)\n",
    "l[2]=111\n",
    "print(l)"
   ]
  },
  {
   "cell_type": "markdown",
   "metadata": {},
   "source": [
    "## Intervalles d'entiers : `range`\n",
    "\n",
    "La fonction `range` fabrique des intervalles d'entiers:\n",
    "\n",
    "* `range(i)` : entiers de `0` à `i-1`\n",
    "* `range(i, j)` : entiers de `i` à `j-1`\n",
    "* `range(i, j, k)` : entiers de `i` à `j-1` par\n",
    "  pas de `k`"
   ]
  },
  {
   "cell_type": "markdown",
   "metadata": {},
   "source": [
    "Len opérations autorisées sur un `range` `r` sont :\n",
    "\n",
    "* `x in r, x not in r`\n",
    "* `r[i]`\n",
    "* `len(r), min(r), max(r), r.index(x), r.count(x)`\n",
    "* `list(r)` (conversion en liste)"
   ]
  },
  {
   "cell_type": "code",
   "execution_count": 1,
   "metadata": {
    "scrolled": true
   },
   "outputs": [
    {
     "name": "stdout",
     "output_type": "stream",
     "text": [
      "range(0, 10)\n"
     ]
    }
   ],
   "source": [
    "r = range(10)\n",
    "print(r)"
   ]
  },
  {
   "cell_type": "code",
   "execution_count": 5,
   "metadata": {},
   "outputs": [
    {
     "data": {
      "text/plain": [
       "0"
      ]
     },
     "execution_count": 5,
     "metadata": {},
     "output_type": "execute_result"
    }
   ],
   "source": [
    "r[0]"
   ]
  },
  {
   "cell_type": "code",
   "execution_count": 6,
   "metadata": {},
   "outputs": [
    {
     "data": {
      "text/plain": [
       "1"
      ]
     },
     "execution_count": 6,
     "metadata": {},
     "output_type": "execute_result"
    }
   ],
   "source": [
    "r[1]"
   ]
  },
  {
   "cell_type": "code",
   "execution_count": 7,
   "metadata": {},
   "outputs": [
    {
     "data": {
      "text/plain": [
       "9"
      ]
     },
     "execution_count": 7,
     "metadata": {},
     "output_type": "execute_result"
    }
   ],
   "source": [
    "max(r)"
   ]
  },
  {
   "cell_type": "code",
   "execution_count": 8,
   "metadata": {},
   "outputs": [
    {
     "data": {
      "text/plain": [
       "1"
      ]
     },
     "execution_count": 8,
     "metadata": {},
     "output_type": "execute_result"
    }
   ],
   "source": [
    "r = range(10, 30, 7)\n",
    "r.index(17)"
   ]
  },
  {
   "cell_type": "code",
   "execution_count": 10,
   "metadata": {
    "scrolled": true
   },
   "outputs": [
    {
     "data": {
      "text/plain": [
       "3"
      ]
     },
     "execution_count": 10,
     "metadata": {},
     "output_type": "execute_result"
    }
   ],
   "source": [
    "len(r)"
   ]
  },
  {
   "cell_type": "code",
   "execution_count": 11,
   "metadata": {},
   "outputs": [
    {
     "data": {
      "text/plain": [
       "[10, 17, 24]"
      ]
     },
     "execution_count": 11,
     "metadata": {},
     "output_type": "execute_result"
    }
   ],
   "source": [
    "list(r)"
   ]
  },
  {
   "cell_type": "code",
   "execution_count": 12,
   "metadata": {},
   "outputs": [
    {
     "name": "stdout",
     "output_type": "stream",
     "text": [
      "0\n",
      "1\n",
      "2\n",
      "3\n"
     ]
    }
   ],
   "source": [
    "for i in range(4):\n",
    "    print(i)"
   ]
  },
  {
   "cell_type": "markdown",
   "metadata": {},
   "source": [
    "Toutes les autres opérations sont interdites sur un range (car un range est non mutable). Plus précisément, sont interdits :\n",
    "\n",
    "    Concaténation, répétition, affectation d'élément\n",
    "    Autres méthodes de listes (append, etc.)"
   ]
  },
  {
   "cell_type": "markdown",
   "metadata": {},
   "source": [
    "Caractéristique importante :\n",
    "\n",
    "Un `range` n'est pas construit entièrement en mémoire. Au lieu de cela, ses éléments sont fabriqués « à la demande ». Donc, par exemple, `range(10000)` ne prend pas plus de place que `range(2)`. \n",
    "\n",
    "Utilisation fréquente : parcours des indices d'une liste"
   ]
  },
  {
   "cell_type": "code",
   "execution_count": 14,
   "metadata": {},
   "outputs": [
    {
     "name": "stdout",
     "output_type": "stream",
     "text": [
      "0 -> a\n",
      "1 -> b\n",
      "2 -> c\n"
     ]
    }
   ],
   "source": [
    "lst = ['a', 'b', 'c']\n",
    "for i in range(len(lst)):\n",
    "    print(i, '->', lst[i])"
   ]
  },
  {
   "cell_type": "markdown",
   "metadata": {},
   "source": [
    "**Exercice :** Écrire une fonction `chercher_range(iterable, x)` qui recherche la première position de `x` dans `iterable` en utilisant une boucle `for` et la fonction `range`."
   ]
  },
  {
   "cell_type": "code",
   "execution_count": 18,
   "metadata": {},
   "outputs": [],
   "source": [
    "def chercher_range(iterable, x):\n",
    "    for i in range(len(iterable)):\n",
    "        if lst[i] == x:\n",
    "            return i\n",
    "    return None"
   ]
  },
  {
   "cell_type": "markdown",
   "metadata": {},
   "source": [
    "### <img src='img/non-exigible.png' width='35px' style='display:inline'> Un dernier type de parcours de liste : `enumerate`\n",
    "\n",
    "*La connaissance de cette notion n'est pas exigible à l'examen.*\n",
    "\n",
    "La fonction `enumerate(iterable)` permet d'itérer sur les couples `(i, elem)` constitués d'un indice et de l'élément correspondant dans `iterable`. Pour reprendre l'exemple précédent :"
   ]
  },
  {
   "cell_type": "code",
   "execution_count": 5,
   "metadata": {},
   "outputs": [
    {
     "name": "stdout",
     "output_type": "stream",
     "text": [
      "0 -> a\n",
      "1 -> b\n",
      "2 -> c\n"
     ]
    }
   ],
   "source": [
    "lst = ['a', 'b', 'c']\n",
    "for i, elem in enumerate(lst):\n",
    "    print(i, '->', elem)"
   ]
  },
  {
   "cell_type": "code",
   "execution_count": 2,
   "metadata": {},
   "outputs": [],
   "source": [
    "def chercher_enumerate(L, x):\n",
    "    for i, elem in enumerate(L):\n",
    "        if elem == x:\n",
    "            return i\n",
    "    return None"
   ]
  },
  {
   "cell_type": "markdown",
   "metadata": {},
   "source": [
    "## Retour sur les chaînes de caractères (type `str`)\n",
    "\n",
    "Les chaînes de caractères (`str`) sont aussi des itérables !\n",
    "\n",
    "Type `str` : **itérable** dont les éléments sont des caractères."
   ]
  },
  {
   "cell_type": "markdown",
   "metadata": {},
   "source": [
    "Les `str` sont **non mutables** c'est à dire qu'on ne peut pas changer leur contenu. Par exemple, ils interdisent l'affectation (`s[i] = x`), ainsi que\n",
    "`s.append('a')`, `s1.extend(s2)`, `s.insert(i, x)`, `s.pop()`, `s.pop(i)`, `s.remove(x)`, `s.clear()`, \n",
    "`s.reverse()`, ..."
   ]
  },
  {
   "cell_type": "markdown",
   "metadata": {},
   "source": [
    "En tant qu'itérables, les chaînes autorisent :\n",
    "  \n",
    "- `s[i]` : accès à un caractère par son indice\n",
    "- `len(s)` :  longueur\n",
    "- `min(s)`, `max(s)` : minimum et maximum\n",
    "- `s1 in s2`, `s1 not in s2` : recherche de sous-chaîne\n",
    "- `s2.index(s1)` : position de sous-chaîne\n",
    "- `s2.count(s1)` : comptage de sous-chaînes\n",
    "- `s1 + s2`, `s * 3` : concaténation et répétition\n",
    "         \n",
    "En tant qu'objets **itérables**, les chaînes peuvent être utilisées dans des\n",
    "boucles `for` :"
   ]
  },
  {
   "cell_type": "code",
   "execution_count": 6,
   "metadata": {},
   "outputs": [
    {
     "name": "stdout",
     "output_type": "stream",
     "text": [
      "H\n",
      "i\n",
      "l\n",
      "d\n",
      "e\n",
      "g\n",
      "a\n",
      "r\n",
      "d\n",
      "e\n"
     ]
    }
   ],
   "source": [
    "s = 'Hildegarde'\n",
    "# afficher les caractères de s, un par ligne\n",
    "for c in s:\n",
    "    print(c)"
   ]
  },
  {
   "cell_type": "markdown",
   "metadata": {},
   "source": [
    "... et acceptent la conversion en liste :"
   ]
  },
  {
   "cell_type": "code",
   "execution_count": 22,
   "metadata": {},
   "outputs": [
    {
     "data": {
      "text/plain": [
       "['H', 'i', 'l', 'd', 'e', 'g', 'a', 'r', 'd', 'e']"
      ]
     },
     "execution_count": 22,
     "metadata": {},
     "output_type": "execute_result"
    }
   ],
   "source": [
    "s = 'Hildegarde'\n",
    "list(s)"
   ]
  },
  {
   "cell_type": "markdown",
   "metadata": {},
   "source": [
    "### Méthodes sur les chaînes\n",
    "\n",
    "De très nombreuses méthodes existent sur les chaînes qui renvoient toutes une nouvelle chaîne:"
   ]
  },
  {
   "cell_type": "code",
   "execution_count": 8,
   "metadata": {},
   "outputs": [
    {
     "name": "stdout",
     "output_type": "stream",
     "text": [
      "Ceci est un titre\n",
      "ceci est un titre\n"
     ]
    }
   ],
   "source": [
    "s='ceci est un titre'\n",
    "print(s.capitalize()) # renvoie une nouvelle chaine\n",
    "print(s) # str est non mutable, s n'a donc pas été modifiée"
   ]
  },
  {
   "cell_type": "code",
   "execution_count": 31,
   "metadata": {},
   "outputs": [
    {
     "name": "stdout",
     "output_type": "stream",
     "text": [
      "6\n"
     ]
    }
   ],
   "source": [
    "print(s.find(\"st\"))"
   ]
  },
  {
   "cell_type": "code",
   "execution_count": 14,
   "metadata": {},
   "outputs": [
    {
     "data": {
      "text/plain": [
       "'les aventures de python'"
      ]
     },
     "execution_count": 14,
     "metadata": {},
     "output_type": "execute_result"
    }
   ],
   "source": [
    "\" \".join([\"les\", \"aventures\", \"de\", \"python\"])"
   ]
  },
  {
   "cell_type": "code",
   "execution_count": 15,
   "metadata": {},
   "outputs": [
    {
     "data": {
      "text/plain": [
       "'les # aventures # de # python'"
      ]
     },
     "execution_count": 15,
     "metadata": {},
     "output_type": "execute_result"
    }
   ],
   "source": [
    "\" # \".join([\"les\", \"aventures\", \"de\", \"python\"])"
   ]
  },
  {
   "cell_type": "code",
   "execution_count": 17,
   "metadata": {},
   "outputs": [
    {
     "name": "stdout",
     "output_type": "stream",
     "text": [
      "['ceci', 'est', 'un', 'titre']\n"
     ]
    }
   ],
   "source": [
    "print(s.split(' '))"
   ]
  },
  {
   "cell_type": "code",
   "execution_count": 18,
   "metadata": {},
   "outputs": [
    {
     "name": "stdout",
     "output_type": "stream",
     "text": [
      "['c', 'ci ', 'st un titr', '']\n"
     ]
    }
   ],
   "source": [
    "print(s.split('e'))"
   ]
  },
  {
   "cell_type": "markdown",
   "metadata": {},
   "source": [
    "## Mutables et non mutables"
   ]
  },
  {
   "cell_type": "markdown",
   "metadata": {},
   "source": [
    "Les listes sont des structures *mutables* c'est à dire qu'on peut changer leur contenu (sans créer une nouvelle liste)."
   ]
  },
  {
   "cell_type": "code",
   "execution_count": 19,
   "metadata": {},
   "outputs": [
    {
     "name": "stdout",
     "output_type": "stream",
     "text": [
      "[9, 4, 3, 2, 1]\n"
     ]
    }
   ],
   "source": [
    "l = [5,4,3,2,1]\n",
    "l[0] = 9\n",
    "print(l)"
   ]
  },
  {
   "cell_type": "markdown",
   "metadata": {},
   "source": [
    "Voir python tutor : c'est `l[0]` qui représente une nouvelle valeur (ici 9), `l` n'a pas bougé !\n",
    "\n",
    "Par contre les chaines (comme les `int`) ne sont pas mutables."
   ]
  },
  {
   "cell_type": "code",
   "execution_count": 20,
   "metadata": {},
   "outputs": [
    {
     "ename": "TypeError",
     "evalue": "'str' object does not support item assignment",
     "output_type": "error",
     "traceback": [
      "\u001b[0;31m---------------------------------------------------------------------------\u001b[0m",
      "\u001b[0;31mTypeError\u001b[0m                                 Traceback (most recent call last)",
      "\u001b[0;32m<ipython-input-20-7dcb6f2f7dbb>\u001b[0m in \u001b[0;36m<module>\u001b[0;34m()\u001b[0m\n\u001b[1;32m      1\u001b[0m \u001b[0ms\u001b[0m \u001b[0;34m=\u001b[0m \u001b[0;34m'una chaine'\u001b[0m\u001b[0;34m\u001b[0m\u001b[0;34m\u001b[0m\u001b[0m\n\u001b[0;32m----> 2\u001b[0;31m \u001b[0ms\u001b[0m\u001b[0;34m[\u001b[0m\u001b[0;36m2\u001b[0m\u001b[0;34m]\u001b[0m \u001b[0;34m=\u001b[0m \u001b[0;34m'e'\u001b[0m\u001b[0;34m\u001b[0m\u001b[0;34m\u001b[0m\u001b[0m\n\u001b[0m",
      "\u001b[0;31mTypeError\u001b[0m: 'str' object does not support item assignment"
     ]
    }
   ],
   "source": [
    "s = 'una chaine'\n",
    "s[2] = 'e'"
   ]
  },
  {
   "cell_type": "markdown",
   "metadata": {},
   "source": [
    "Toutes les opérations sur les str créent de nouvelles chaines. Essayez avec python tutor le code suivant :"
   ]
  },
  {
   "cell_type": "code",
   "execution_count": 23,
   "metadata": {},
   "outputs": [
    {
     "name": "stdout",
     "output_type": "stream",
     "text": [
      "une chaine\n"
     ]
    }
   ],
   "source": [
    "m = \"une\"\n",
    "m = m + \" chaine\"\n",
    "print(m)"
   ]
  },
  {
   "cell_type": "markdown",
   "metadata": {},
   "source": [
    "On a créé une nouvelle chaine 'une chaine' et déplacé l'étiquette m"
   ]
  },
  {
   "cell_type": "markdown",
   "metadata": {},
   "source": [
    "## Tuples\n",
    "Ils sont similaires aux listes mais il sont **non mutables**. \n",
    "\n",
    "Ils s'utilisent par exemple pour mémoriser les coordonnées d'un point fixe.\n",
    "\n",
    "On les note avec des parenthèses:\n"
   ]
  },
  {
   "cell_type": "code",
   "execution_count": 24,
   "metadata": {},
   "outputs": [
    {
     "name": "stdout",
     "output_type": "stream",
     "text": [
      "(2, 64)\n"
     ]
    },
    {
     "data": {
      "text/plain": [
       "tuple"
      ]
     },
     "execution_count": 24,
     "metadata": {},
     "output_type": "execute_result"
    }
   ],
   "source": [
    "couple = (2,64)\n",
    "print(couple)\n",
    "type(couple)"
   ]
  },
  {
   "cell_type": "code",
   "execution_count": 26,
   "metadata": {},
   "outputs": [
    {
     "name": "stdout",
     "output_type": "stream",
     "text": [
      "64\n"
     ]
    },
    {
     "ename": "TypeError",
     "evalue": "'tuple' object does not support item assignment",
     "output_type": "error",
     "traceback": [
      "\u001b[0;31m---------------------------------------------------------------------------\u001b[0m",
      "\u001b[0;31mTypeError\u001b[0m                                 Traceback (most recent call last)",
      "\u001b[0;32m<ipython-input-26-42c11f5bc1d9>\u001b[0m in \u001b[0;36m<module>\u001b[0;34m()\u001b[0m\n\u001b[1;32m      1\u001b[0m \u001b[0mprint\u001b[0m\u001b[0;34m(\u001b[0m\u001b[0mcouple\u001b[0m\u001b[0;34m[\u001b[0m\u001b[0;36m1\u001b[0m\u001b[0;34m]\u001b[0m\u001b[0;34m)\u001b[0m\u001b[0;34m\u001b[0m\u001b[0;34m\u001b[0m\u001b[0m\n\u001b[0;32m----> 2\u001b[0;31m \u001b[0mcouple\u001b[0m\u001b[0;34m[\u001b[0m\u001b[0;36m1\u001b[0m\u001b[0;34m]\u001b[0m \u001b[0;34m=\u001b[0m \u001b[0;36m42\u001b[0m \u001b[0;31m# erreur non- mutable\u001b[0m\u001b[0;34m\u001b[0m\u001b[0;34m\u001b[0m\u001b[0m\n\u001b[0m",
      "\u001b[0;31mTypeError\u001b[0m: 'tuple' object does not support item assignment"
     ]
    }
   ],
   "source": [
    "print(couple[1])\n",
    "couple[1] = 42 # erreur non- mutable"
   ]
  },
  {
   "cell_type": "markdown",
   "metadata": {},
   "source": [
    "## Fichiers\n",
    "\n",
    "Il est très facile de consulter le contenu d'un fichier texte en Python, et de le modifier. On accède la plupart du temps aux lignes successives d'un fichier à l'aide d'une boucle `for`.\n",
    "\n",
    "### Descripteurs de fichiers (type `file`)\n",
    "\n",
    "Ouverture d'un fichier : `f = open(chemin, mode)`\n",
    "\n",
    "- Paramètre `chemin` (chaîne de caractère) : nom (absolu ou relatif) d'un fichier\n",
    "- Paramètre `mode` (chaîne de caractère) :\n",
    "  - lecture seule : `'r'` (par défaut)\n",
    "  - écriture (crée / écrase le fichier) : `'w'`\n",
    "  - ajout (écrit à la fin) : `'a'`\n",
    "  - *autres modes possibles pour fichiers binaires*\n",
    "\n",
    "Fermeture : `f.close()`"
   ]
  },
  {
   "cell_type": "markdown",
   "metadata": {},
   "source": [
    "### Lire et écrire dans un fichier\n",
    "\n",
    "Lecture (mode `'r'`) :\n",
    "\n",
    "-   Tout lire d'un coup (une seule chaîne) : `contenu = f.read()`  \n",
    "    **Attention :** charge tout le fichier en mémoire !  \n",
    "    **Attention :** inclut les retours à la ligne\n",
    "\n",
    "-   Liste des lignes (liste de chaînes) : `lst_lignes = f.readlines()`  \n",
    "    **Attention :** charge tout le fichier en mémoire !  \n",
    "    **Attention :** inclut les retours à la ligne\n",
    "    \n",
    "-   Prochaine ligne : `ligne = f.readline()`  \n",
    "    **Attention :** renvoie une chaîne vide à la fin\n",
    "\n",
    "-   Parcours ligne par ligne : `for ligne in f: ...`\n",
    "\n",
    "Écriture (modes `'w'` et `'a'`) : `f.write(chaine)`\n",
    "\n",
    "**Attention :** n'inclut pas de retour à la ligne (`'\\n'`) automatique !"
   ]
  },
  {
   "cell_type": "code",
   "execution_count": null,
   "metadata": {},
   "outputs": [],
   "source": [
    "f = open('test.txt', 'w')\n",
    "for chaine in ['bonjour', 'tout', 'le', 'monde !']:\n",
    "    f.write(chaine + '\\n')\n",
    "f.close()\n",
    "\n",
    "f = open('test.txt', 'a')\n",
    "f.write('(signé : Machin)\\n')\n",
    "f.close()\n",
    "\n",
    "f = open('test.txt', 'r')\n",
    "for ligne in f:\n",
    "    # strip supprime les espaces avant et après la chaîne\n",
    "    print(ligne.strip()) \n",
    "f.close()"
   ]
  },
  {
   "cell_type": "code",
   "execution_count": null,
   "metadata": {},
   "outputs": [],
   "source": [
    "f = open('8-dictionnaires-fichiers.ipynb')\n",
    "for ligne in f:\n",
    "    print(ligne.strip())\n",
    "f.close()"
   ]
  }
 ],
 "metadata": {
  "celltoolbar": "Raw Cell Format",
  "kernelspec": {
   "display_name": "Python 3",
   "language": "python",
   "name": "python3"
  },
  "language_info": {
   "codemirror_mode": {
    "name": "ipython",
    "version": 3
   },
   "file_extension": ".py",
   "mimetype": "text/x-python",
   "name": "python",
   "nbconvert_exporter": "python",
   "pygments_lexer": "ipython3",
   "version": "3.7.5"
  }
 },
 "nbformat": 4,
 "nbformat_minor": 2
}
