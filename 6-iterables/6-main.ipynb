{
 "cells": [
  {
   "cell_type": "markdown",
   "metadata": {},
   "source": [
    "# Scripts & Module"
   ]
  },
  {
   "cell_type": "markdown",
   "metadata": {},
   "source": [
    "Lorsque vous quittez et entrez à nouveau dans l'interpréteur Python, tout ce que vous avez déclaré dans la session précédente est perdu. Afin de rédiger des programmes plus longs, vous devez utiliser un éditeur de texte, préparer votre code dans un fichier et exécuter Python avec ce fichier en paramètre. Cela s'appelle créer un script. Lorsque votre programme grandit, vous pouvez séparer votre code dans plusieurs fichiers. Ainsi, il vous est facile de réutiliser des fonctions écrites pour un programme dans un autre sans avoir à les copier."
   ]
  },
  {
   "cell_type": "raw",
   "metadata": {},
   "source": [
    "python3 fichier.py # lance le contenu du fichier comme un script"
   ]
  },
  {
   "cell_type": "markdown",
   "metadata": {},
   "source": [
    "Pour utiliser les fonctions (et déclarations toplevel) d'un fichier vous utiliser un import."
   ]
  },
  {
   "cell_type": "code",
   "execution_count": 2,
   "metadata": {},
   "outputs": [
    {
     "name": "stdout",
     "output_type": "stream",
     "text": [
      "1.4142135623730951\n"
     ]
    }
   ],
   "source": [
    "import math\n",
    "print(math.sqrt(2))"
   ]
  },
  {
   "cell_type": "markdown",
   "metadata": {},
   "source": [
    "L'import en question se trouve soit dans le même répertoire que votre script soit dans l'environnement."
   ]
  },
  {
   "cell_type": "markdown",
   "metadata": {},
   "source": [
    "L'environnement est défini dans la variables sys.path qui contient une liste de repertoires, par construction le premier repertoire est le repertoire courant suivi du contenu de la variable d'environement unix : PYTHONPATH."
   ]
  },
  {
   "cell_type": "code",
   "execution_count": 5,
   "metadata": {},
   "outputs": [
    {
     "name": "stdout",
     "output_type": "stream",
     "text": [
      "['/Users/dominiquerevuz/Documents/ENSEIGNEMENT/AP1/GUTHUB/courspython/Cours/6-iterables', '/usr/local/Cellar/python@3.8/3.8.5/Frameworks/Python.framework/Versions/3.8/lib/python38.zip', '/usr/local/Cellar/python@3.8/3.8.5/Frameworks/Python.framework/Versions/3.8/lib/python3.8', '/usr/local/Cellar/python@3.8/3.8.5/Frameworks/Python.framework/Versions/3.8/lib/python3.8/lib-dynload', '', '/Users/dominiquerevuz/DJANGO/SEP2020/premierlangage/septembre/lib/python3.8/site-packages', '/Users/dominiquerevuz/DJANGO/SEP2020/premierlangage/septembre/src/django-enumfields', '/Users/dominiquerevuz/DJANGO/SEP2020/premierlangage/septembre/src/htmlprint', '/Users/dominiquerevuz/DJANGO/SEP2020/premierlangage/septembre/src/gitcmd', '/Users/dominiquerevuz/DJANGO/SEP2020/premierlangage/septembre/src/django-markdown', '/Users/dominiquerevuz/DJANGO/SEP2020/premierlangage/septembre/lib/python3.8/site-packages/IPython/extensions', '/Users/dominiquerevuz/.ipython']\n"
     ]
    }
   ],
   "source": [
    "import sys\n",
    "print(sys.path)"
   ]
  },
  {
   "cell_type": "markdown",
   "metadata": {},
   "source": [
    "# Double Rôle"
   ]
  },
  {
   "cell_type": "markdown",
   "metadata": {},
   "source": [
    "Un fichier python peut avoir deux rôles celui de module ou celui de script principal. Pour différencier les deux la variable ```__name__``` vas nous aider."
   ]
  },
  {
   "cell_type": "code",
   "execution_count": 6,
   "metadata": {},
   "outputs": [
    {
     "name": "stdout",
     "output_type": "stream",
     "text": [
      "math\n"
     ]
    }
   ],
   "source": [
    "import math\n",
    "print(math.__name__)"
   ]
  },
  {
   "cell_type": "code",
   "execution_count": 7,
   "metadata": {},
   "outputs": [
    {
     "name": "stdout",
     "output_type": "stream",
     "text": [
      "__main__\n"
     ]
    }
   ],
   "source": [
    "print(__name__)"
   ]
  },
  {
   "cell_type": "markdown",
   "metadata": {},
   "source": [
    "Donc quand le fichier dans lequel je suis s'appel ```__main__```alors je suis dans le script principal. D'ou le code suivant:"
   ]
  },
  {
   "cell_type": "code",
   "execution_count": 10,
   "metadata": {},
   "outputs": [
    {
     "name": "stdout",
     "output_type": "stream",
     "text": [
      "je suis dans le script principal\n"
     ]
    }
   ],
   "source": [
    "if __name__ == \"__main__\":\n",
    "    print(\"Moi le module suis dans le script principal !\")\n",
    "else:\n",
    "    print(\"Moi le module suis chargé comme module,\")\n",
    "    print(\"ce qui peut être utile pour créer des variables différentes dans un cas ou l'autre.\")"
   ]
  },
  {
   "cell_type": "markdown",
   "metadata": {},
   "source": [
    "Un script est lancé comme nous l'avons vu par la ligne dans le terminal:"
   ]
  },
  {
   "cell_type": "raw",
   "metadata": {},
   "source": [
    "python3 script.py"
   ]
  },
  {
   "cell_type": "markdown",
   "metadata": {},
   "source": [
    "Dans le terminal nous pouvons fournir des paramêtres aux commandes. "
   ]
  },
  {
   "cell_type": "raw",
   "metadata": {},
   "source": [
    "python3 script.py des parametres "
   ]
  },
  {
   "cell_type": "code",
   "execution_count": 11,
   "metadata": {},
   "outputs": [
    {
     "name": "stdout",
     "output_type": "stream",
     "text": [
      "['/Users/dominiquerevuz/DJANGO/SEP2020/premierlangage/septembre/lib/python3.8/site-packages/ipykernel_launcher.py', '-f', '/Users/dominiquerevuz/Library/Jupyter/runtime/kernel-089d24a5-1b5f-48da-a84b-a0b833530a51.json']\n"
     ]
    }
   ],
   "source": [
    "import sys\n",
    "if __name__ == \"__main__\":\n",
    "    print(sys.argv)\n"
   ]
  },
  {
   "cell_type": "markdown",
   "metadata": {},
   "source": [
    "La variable sys.argv contient la liste des arguments d'appel de python, donc le premier est le nom du script  principal (= \"__main__\") ."
   ]
  },
  {
   "cell_type": "code",
   "execution_count": null,
   "metadata": {},
   "outputs": [],
   "source": []
  }
 ],
 "metadata": {
  "kernelspec": {
   "display_name": "Python 3",
   "language": "python",
   "name": "python3"
  },
  "language_info": {
   "codemirror_mode": {
    "name": "ipython",
    "version": 3
   },
   "file_extension": ".py",
   "mimetype": "text/x-python",
   "name": "python",
   "nbconvert_exporter": "python",
   "pygments_lexer": "ipython3",
   "version": "3.8.5"
  }
 },
 "nbformat": 4,
 "nbformat_minor": 4
}
