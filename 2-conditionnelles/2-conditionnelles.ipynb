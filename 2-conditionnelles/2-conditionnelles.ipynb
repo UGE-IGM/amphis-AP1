{
 "cells": [
  {
   "cell_type": "markdown",
   "metadata": {},
   "source": [
    "<div>\n",
    "<div style='float:left; margin-right:40pt; width:6cm'><img src='img/UPEM-IGM-V1_300dpi.png'></div>\n",
    "<div style='float:right; font-size:large; text-align:right'><strong>Algorithmique et programmation 1</strong><br>\n",
    "L1 Mathématiques - L1 Informatique<br>\n",
    "Semestre 1\n",
    "</div>\n",
    "</div>"
   ]
  },
  {
   "cell_type": "markdown",
   "metadata": {},
   "source": [
    "# Chapitre 2 : Conditionnelles et expressions booléennes"
   ]
  },
  {
   "cell_type": "markdown",
   "metadata": {},
   "source": [
    "Dans ce chapitre vous allez apprendre à :\n",
    "1. effectuer des traitements différents selon si une condition est réalisée ou non ;\n",
    "2. manipuler les expressions logiques ;\n",
    "3. écrire correctement en Python une structure conditionnelle, aussi complexe soit-elle ;\n",
    "4. expliquer l'ordre dans lequel les lignes d'un programme contenant des blocs conditionnels seront exécutées en fonction des données fournies au programme ;\n",
    "5. simplifier, quand c'est possible, une imbrication de blocs conditionnels en utilisant des opérateurs booléens ;\n",
    "6. éliminer les opérateurs booléens d'une condition en introduisant de nouveaux blocs conditionnels."
   ]
  },
  {
   "cell_type": "markdown",
   "metadata": {},
   "source": [
    "## I Introduction\n",
    "\n",
    "Au chapitre précédent, nous avons appris à écrire un programme court réalisant des entrées/sorties avec l'utilisateur, pouvant affecter des valeurs à des variables et effectuant des calculs arithmétiques sur ces variables.\n",
    "\n",
    "Les **instructions** de nos programmes sont exécutées dans l'ordre, de manière linéaire les unes après les autres. On va maintenant ajouter la possibilité de faire des **choix** dans le programme, pour exécuter des instructions différentes selon les cas.\n",
    "\n",
    "Mais avant tout, commençons par un peu de révisions !\n",
    "\n",
    "### Exercice 1 : Révisions\n",
    "\n",
    "Que réalise le programme suivant ?\n",
    "```\n",
    "note_cc1 = float(input('Note du premier contrôle : '))\n",
    "note_cc2 = float(input('Note du second contrôle : '))\n",
    "note_exam = float(input(\"Note de l'examen : \"))\n",
    "\n",
    "moyenne_cc = (note_cc1 + note_cc2) / 2\n",
    "note_finale = (moyenne_cc + note_exam) / 2\n",
    "\n",
    "print('Note finale :', note_finale)\n",
    "```"
   ]
  },
  {
   "cell_type": "markdown",
   "metadata": {},
   "source": [
    "Nous allons maintenant voir comment on pourrait :\n",
    "* ne prendre en compte que la `note_exam` si celle-ci est supérieure à la``note_finale` ;\n",
    "* féliciter l'étudiant qui a une `note_finale` supérieure à `10` et encourager celui qui en a une entre `8` et `10`.\n",
    "\n",
    "Tout au long du cours, nous allons faire évoluer ce programme."
   ]
  },
  {
   "cell_type": "markdown",
   "metadata": {},
   "source": [
    "## II Expressions booléennes\n",
    "\n",
    "Les instructions conditionnelles (vues ci-dessous) sont écrites à l'aide d'expressions booléennes, c'est à dire d'expressions qui s'évaluent en un valeur de type `bool` (`True` ou `False`). Elles peuvent contenir des opérateurs de comparaison, des opérateurs logiques, etc."
   ]
  },
  {
   "cell_type": "markdown",
   "metadata": {},
   "source": [
    "### 1) Opérateurs de comparaison\n",
    "\n",
    "Plusieurs opérateurs ont des résultats booléens\n",
    "- Comparaisons :  `a < b`  `a <= b`  `a >= b`  `a > b`\n",
    "- Égalité ou inégalité :  `a == b`  `a != b`\n",
    "\n",
    "Ces opérateurs fonctionnent sur de nombreux types de valeurs\n",
    "- Sur les `int` et `float` : ordre naturel\n",
    "- Sur les `str` : ordre lexicographique (dictionnaire)\n",
    "- Sur d'autres types qu'on verra plus tard"
   ]
  },
  {
   "cell_type": "code",
   "execution_count": 1,
   "metadata": {},
   "outputs": [
    {
     "data": {
      "text/plain": [
       "True"
      ]
     },
     "execution_count": 1,
     "metadata": {},
     "output_type": "execute_result"
    }
   ],
   "source": [
    "1 == 3 - 2"
   ]
  },
  {
   "cell_type": "code",
   "execution_count": 2,
   "metadata": {},
   "outputs": [
    {
     "data": {
      "text/plain": [
       "True"
      ]
     },
     "execution_count": 2,
     "metadata": {},
     "output_type": "execute_result"
    }
   ],
   "source": [
    "1 < 3"
   ]
  },
  {
   "cell_type": "code",
   "execution_count": 3,
   "metadata": {},
   "outputs": [
    {
     "data": {
      "text/plain": [
       "True"
      ]
     },
     "execution_count": 3,
     "metadata": {},
     "output_type": "execute_result"
    }
   ],
   "source": [
    "3 <= 3"
   ]
  },
  {
   "cell_type": "code",
   "execution_count": null,
   "metadata": {},
   "outputs": [],
   "source": [
    "'aboyer' < 'abime'"
   ]
  },
  {
   "cell_type": "code",
   "execution_count": 4,
   "metadata": {},
   "outputs": [
    {
     "data": {
      "text/plain": [
       "True"
      ]
     },
     "execution_count": 4,
     "metadata": {},
     "output_type": "execute_result"
    }
   ],
   "source": [
    "1 < 4.0"
   ]
  },
  {
   "cell_type": "markdown",
   "metadata": {},
   "source": [
    "**Attention :** on ne peut pas ordonner des valeurs de types différents (sauf des nombres) ! "
   ]
  },
  {
   "cell_type": "code",
   "execution_count": 5,
   "metadata": {},
   "outputs": [
    {
     "ename": "TypeError",
     "evalue": "'<' not supported between instances of 'str' and 'int'",
     "output_type": "error",
     "traceback": [
      "\u001b[0;31m---------------------------------------------------------------------------\u001b[0m",
      "\u001b[0;31mTypeError\u001b[0m                                 Traceback (most recent call last)",
      "\u001b[0;32m<ipython-input-5-2ae56e567bff>\u001b[0m in \u001b[0;36m<module>\u001b[0;34m\u001b[0m\n\u001b[0;32m----> 1\u001b[0;31m \u001b[0;34m'1'\u001b[0m \u001b[0;34m<\u001b[0m \u001b[0;36m2\u001b[0m\u001b[0;34m\u001b[0m\u001b[0;34m\u001b[0m\u001b[0m\n\u001b[0m",
      "\u001b[0;31mTypeError\u001b[0m: '<' not supported between instances of 'str' and 'int'"
     ]
    }
   ],
   "source": [
    "'1' < 2"
   ]
  },
  {
   "cell_type": "code",
   "execution_count": 6,
   "metadata": {},
   "outputs": [
    {
     "data": {
      "text/plain": [
       "True"
      ]
     },
     "execution_count": 6,
     "metadata": {},
     "output_type": "execute_result"
    }
   ],
   "source": [
    "3.0 < 2 + 2"
   ]
  },
  {
   "cell_type": "markdown",
   "metadata": {},
   "source": [
    "Par contre, les opérateurs `==` et `!=` acceptent des opérandes de types différents"
   ]
  },
  {
   "cell_type": "code",
   "execution_count": 7,
   "metadata": {},
   "outputs": [
    {
     "data": {
      "text/plain": [
       "False"
      ]
     },
     "execution_count": 7,
     "metadata": {},
     "output_type": "execute_result"
    }
   ],
   "source": [
    "2 == '2'"
   ]
  },
  {
   "cell_type": "code",
   "execution_count": 8,
   "metadata": {},
   "outputs": [
    {
     "data": {
      "text/plain": [
       "True"
      ]
     },
     "execution_count": 8,
     "metadata": {},
     "output_type": "execute_result"
    }
   ],
   "source": [
    "'bonjour' != None"
   ]
  },
  {
   "cell_type": "code",
   "execution_count": 9,
   "metadata": {},
   "outputs": [
    {
     "data": {
      "text/plain": [
       "True"
      ]
     },
     "execution_count": 9,
     "metadata": {},
     "output_type": "execute_result"
    }
   ],
   "source": [
    "2 == 2.0  # Cas particulier : vrai car float(2) == 2.0"
   ]
  },
  {
   "cell_type": "markdown",
   "metadata": {},
   "source": [
    "<img src='img/warning.png' width='50px' style='display:inline'> Ne pas confondre l'opérateur d'égalité (`==`) avec l'opérateur d'affectation (`=`) !"
   ]
  },
  {
   "cell_type": "markdown",
   "metadata": {},
   "source": [
    "### Exercice 2 : Opérateurs de comparaison\n",
    "\n",
    "Que valent les expressions suivantes ?"
   ]
  },
  {
   "cell_type": "code",
   "execution_count": null,
   "metadata": {},
   "outputs": [],
   "source": [
    "1. < 2"
   ]
  },
  {
   "cell_type": "code",
   "execution_count": 13,
   "metadata": {},
   "outputs": [
    {
     "data": {
      "text/plain": [
       "'1 >= 0\\n0 <= 1\\n'"
      ]
     },
     "execution_count": 13,
     "metadata": {},
     "output_type": "execute_result"
    }
   ],
   "source": [
    "\"\"\"1 >= 0\n",
    "0 <= 1\n",
    "\"\"\""
   ]
  },
  {
   "cell_type": "code",
   "execution_count": null,
   "metadata": {},
   "outputs": [],
   "source": [
    "None != 0"
   ]
  },
  {
   "cell_type": "code",
   "execution_count": 10,
   "metadata": {},
   "outputs": [
    {
     "data": {
      "text/plain": [
       "True"
      ]
     },
     "execution_count": 10,
     "metadata": {},
     "output_type": "execute_result"
    }
   ],
   "source": [
    "\"to\" * 2 == \"toto\" "
   ]
  },
  {
   "cell_type": "markdown",
   "metadata": {},
   "source": [
    "### 2) Opérateurs logiques\n",
    "\n",
    "On peut combiner plusieurs expressions booléennes à l'aide d'opérateurs logiques :\n",
    "  \n",
    "- `a and b` vaut `False` dès que l'une des variables vaut `False`,  et vaut `True` si les deux variables valent `True`.\n",
    "\n",
    "- `a or b` vaut `True` si l'une des deux variables vaut `True`, et  `False` sinon.\n",
    "\n",
    "- `not a` vaut `True` si `a` vaut `False`, et vaut `False`si `a`vaut `True`."
   ]
  },
  {
   "cell_type": "code",
   "execution_count": 14,
   "metadata": {},
   "outputs": [
    {
     "data": {
      "text/plain": [
       "False"
      ]
     },
     "execution_count": 14,
     "metadata": {},
     "output_type": "execute_result"
    }
   ],
   "source": [
    "True and False"
   ]
  },
  {
   "cell_type": "code",
   "execution_count": 15,
   "metadata": {},
   "outputs": [
    {
     "data": {
      "text/plain": [
       "True"
      ]
     },
     "execution_count": 15,
     "metadata": {},
     "output_type": "execute_result"
    }
   ],
   "source": [
    "not (3 + 4 != 7)"
   ]
  },
  {
   "cell_type": "code",
   "execution_count": 16,
   "metadata": {},
   "outputs": [
    {
     "data": {
      "text/plain": [
       "True"
      ]
     },
     "execution_count": 16,
     "metadata": {},
     "output_type": "execute_result"
    }
   ],
   "source": [
    "4 < 1 or 'Bonjour' >= 'Au revoir'"
   ]
  },
  {
   "cell_type": "markdown",
   "metadata": {},
   "source": [
    "On peut résumer le comportement de ces opérateurs à l'aide de tableaux, appelés **tables de vérité** :\n",
    "\n",
    "`a`     | `not a` \n",
    "--------|---------\n",
    "`True`  | `False`\n",
    "`False` | `True`   \n",
    "\n",
    "`a`| `b` | `a and  b`\n",
    "---|---|---\n",
    "`True` | `True` | `True` \n",
    "`True` | `False` | `False` \n",
    "`False` | `True` | `False` \n",
    "`False` | `False` | `False`\n",
    "\n",
    "`a` | `b` | `a or  b`\n",
    "---|---|---\n",
    "`True` | `True` | `True` \n",
    "`True` | `False` | `True` \n",
    "`False` | `True` | `True` \n",
    "`False` | `False` | `False`\n"
   ]
  },
  {
   "cell_type": "code",
   "execution_count": 18,
   "metadata": {},
   "outputs": [
    {
     "name": "stdout",
     "output_type": "stream",
     "text": [
      "True\n",
      "False\n",
      "True\n"
     ]
    }
   ],
   "source": [
    "x = 1  # essayer plusieurs valeurs de x\n",
    "print(x >= 0 and x <= 10)  # x appartient à l'intervalle fermé [0, 10]\n",
    "print(x < 0 or x > 10)  # x n'appartient pas à l'intervalle fermé [0, 10]\n",
    "print(not (x < 0 or x > 10))  # comment interpréter cette ligne ??"
   ]
  },
  {
   "cell_type": "markdown",
   "metadata": {},
   "source": [
    "#### Exercice 3 :\n",
    "\n",
    "Pour quelles valeurs des variables `n`, `somme` et `seuil` l'expression suivante vaut-elle `True` ?\n",
    "```\n",
    "(n <= 3 and somme + n > seuil) or n > 3\n",
    "```"
   ]
  },
  {
   "cell_type": "code",
   "execution_count": null,
   "metadata": {},
   "outputs": [],
   "source": [
    "n = 2.1\n",
    "somme = 0\n",
    "seuil = 2 \n",
    "b = (n <= 3 and somme + n > seuil) or n > 3\n",
    "print(b)"
   ]
  },
  {
   "cell_type": "markdown",
   "metadata": {},
   "source": [
    "### 3) Analogies avec les opérations arithmétiques usuelles\n",
    "\n",
    "Un `True`peut être vu comme l'entier $1$. De même, `False` s'interprête comme l'entier $0$.\n",
    "\n",
    "**Remarque 1 :** Pour garder le fait que `not True == False`, en réalité dans de nombreux langages de programmation, `True`est un entier non nul\n",
    "\n",
    "**Remarque 2 :** `True or True = True`, d'où avec cette analogies : $1 + 1 = 1$ !!"
   ]
  },
  {
   "cell_type": "code",
   "execution_count": 25,
   "metadata": {},
   "outputs": [
    {
     "data": {
      "text/plain": [
       "True"
      ]
     },
     "execution_count": 25,
     "metadata": {},
     "output_type": "execute_result"
    }
   ],
   "source": [
    "bool(10)"
   ]
  },
  {
   "cell_type": "code",
   "execution_count": 26,
   "metadata": {},
   "outputs": [
    {
     "data": {
      "text/plain": [
       "False"
      ]
     },
     "execution_count": 26,
     "metadata": {},
     "output_type": "execute_result"
    }
   ],
   "source": [
    "bool(0)"
   ]
  },
  {
   "cell_type": "code",
   "execution_count": 24,
   "metadata": {},
   "outputs": [
    {
     "data": {
      "text/plain": [
       "1"
      ]
     },
     "execution_count": 24,
     "metadata": {},
     "output_type": "execute_result"
    }
   ],
   "source": [
    "int(True)"
   ]
  },
  {
   "cell_type": "markdown",
   "metadata": {},
   "source": [
    "Soit `P` et `Q` deux propositions logiques (`True` ou `False`) s'interprêtant respectivement comme l'entier `p`ou `q`.\n",
    "\n",
    "Alors : l'opérateur `and` peut être interprété comme une **multiplication**.\n",
    "En effet, `P and Q` s'interprête comme l'entier $p \\cdot q = pq$\n",
    "\n",
    "Alors : l'opérateur `or` peut être interprété comme une **addition**.\n",
    "En effet, `P and Q` s'interprête comme l'entier $p \\cdot q = pq$\n",
    "\n",
    "L'opérateur `not` change l'entier `p` en `1 - p`."
   ]
  },
  {
   "cell_type": "markdown",
   "metadata": {},
   "source": [
    "### 4) Exemples simples de tautologies\n",
    "\n",
    "Une *tautologies* est une expression logique qui s'évalue toujours à `True`."
   ]
  },
  {
   "cell_type": "code",
   "execution_count": 20,
   "metadata": {},
   "outputs": [
    {
     "data": {
      "text/plain": [
       "False"
      ]
     },
     "execution_count": 20,
     "metadata": {},
     "output_type": "execute_result"
    }
   ],
   "source": [
    "P = False\n",
    "P and False"
   ]
  },
  {
   "cell_type": "markdown",
   "metadata": {},
   "source": [
    "Quelque soit la proposition logique `P`, `P and False == False`."
   ]
  },
  {
   "cell_type": "code",
   "execution_count": 21,
   "metadata": {},
   "outputs": [
    {
     "data": {
      "text/plain": [
       "True"
      ]
     },
     "execution_count": 21,
     "metadata": {},
     "output_type": "execute_result"
    }
   ],
   "source": [
    "P = False\n",
    "P or True"
   ]
  },
  {
   "cell_type": "markdown",
   "metadata": {},
   "source": [
    "Quelque soit la proposition logique `P`, `P or True == True`."
   ]
  },
  {
   "cell_type": "code",
   "execution_count": 23,
   "metadata": {},
   "outputs": [
    {
     "data": {
      "text/plain": [
       "False"
      ]
     },
     "execution_count": 23,
     "metadata": {},
     "output_type": "execute_result"
    }
   ],
   "source": [
    "P = False\n",
    "not not P"
   ]
  },
  {
   "cell_type": "markdown",
   "metadata": {},
   "source": [
    "Quelque soit la proposition logique `P`, `not not P == P`."
   ]
  },
  {
   "cell_type": "code",
   "execution_count": 29,
   "metadata": {},
   "outputs": [
    {
     "data": {
      "text/plain": [
       "False"
      ]
     },
     "execution_count": 29,
     "metadata": {},
     "output_type": "execute_result"
    }
   ],
   "source": [
    "P = False\n",
    "P and (not P)"
   ]
  },
  {
   "cell_type": "markdown",
   "metadata": {},
   "source": [
    "Quelque soit la proposition logique `P`, `P and (not P) = False`\n",
    "\n",
    "En effet, si `p = 0 ou 1` est l'entier interprétant la proposition `P`, alors `P and (not P)` s'interprête comme : $p (1 - p) = 0$."
   ]
  },
  {
   "cell_type": "code",
   "execution_count": 31,
   "metadata": {},
   "outputs": [
    {
     "data": {
      "text/plain": [
       "True"
      ]
     },
     "execution_count": 31,
     "metadata": {},
     "output_type": "execute_result"
    }
   ],
   "source": [
    "P = True\n",
    "P or (not P)"
   ]
  },
  {
   "cell_type": "markdown",
   "metadata": {},
   "source": [
    "Quelque soit la proposition logique `P`, `P or (not P) = True`\n",
    "\n",
    "En effet, si `p = 0 ou 1` est l'entier interprétant la proposition `P`, alors `P or (not P)` s'interprête comme : $p + (1 - p) = 1$."
   ]
  },
  {
   "cell_type": "markdown",
   "metadata": {},
   "source": [
    "### 5) Exemples plus avancé de tautologies\n",
    "\n",
    "De manière générale, on peut donc déduire des tautologies à partir des relations vérifier par l'adition et la multiplication des entiers. \n",
    "\n",
    "#### a. `P and (Q or R) = ???`"
   ]
  },
  {
   "cell_type": "markdown",
   "metadata": {},
   "source": [
    "On va utiliser l'interprétation : \n",
    "`P AND (Q or R) --> p (q + r) = pq + pr --> (P AND Q) OR (P AND R)`"
   ]
  },
  {
   "cell_type": "code",
   "execution_count": 83,
   "metadata": {},
   "outputs": [],
   "source": [
    "P = True\n",
    "Q = True\n",
    "R = False"
   ]
  },
  {
   "cell_type": "code",
   "execution_count": 38,
   "metadata": {},
   "outputs": [
    {
     "data": {
      "text/plain": [
       "True"
      ]
     },
     "execution_count": 38,
     "metadata": {},
     "output_type": "execute_result"
    }
   ],
   "source": [
    "P and (Q or R)"
   ]
  },
  {
   "cell_type": "code",
   "execution_count": 39,
   "metadata": {},
   "outputs": [
    {
     "data": {
      "text/plain": [
       "True"
      ]
     },
     "execution_count": 39,
     "metadata": {},
     "output_type": "execute_result"
    }
   ],
   "source": [
    "(P and Q) or (P and R)"
   ]
  },
  {
   "cell_type": "markdown",
   "metadata": {},
   "source": [
    "Une fois une conjecture posée avec l'analogie, on la démontre avec une table de vérité !\n",
    "\n",
    "`P`     | `Q`     | `R`    | `Q or R`| `P and (Q or R)` | `P and  Q` | `P and R` | `(P and Q) or (P and R)`\n",
    "---     |---      |---     |---      | ---              |---         |---        |---\n",
    "`True`  | `True`  | `True` | `True`  | `True`           | `True`     | `True`    | `True`\n",
    "`True`  | `True`  | `False`| `True`  | `True`           | `True`     | `False`   | `True`\n",
    "`True`  | `False` | `True` | `True`  | `True`           | `False`    | `True`    | `True`\n",
    "`True`  | `False` | `False`| `False` | `False`          | `False`    | `False`   | `False`\n",
    "`False` | `True`  | `True` | `True`  | `False`          | `False`    | `False`   | `False`\n",
    "`False` | `True`  | `False`| `True`  | `False`          | `False`    | `False`   | `False`\n",
    "`False` | `False` | `True` | `True`  | `False`          | `False`    | `False`   | `False`\n",
    "`False` | `False` | `False`| `False` | `False`          | `False`    | `False`   | `False`\n",
    "\n",
    "Donc : `P AND (Q or R) == (P AND Q) OR (P AND R)`\n",
    "\n",
    "#### b. `P and (Q and R) == (P and Q) and R`"
   ]
  },
  {
   "cell_type": "markdown",
   "metadata": {},
   "source": [
    "**Interprétation :**\n",
    "\n",
    "`P and (Q and R)` --> p(qr) = pqr\n",
    "\n",
    "`(P and Q) and R` --> (pq)r = pqr\n",
    "\n",
    "**Vérification informatique :**"
   ]
  },
  {
   "cell_type": "code",
   "execution_count": 84,
   "metadata": {},
   "outputs": [],
   "source": [
    "P = True\n",
    "Q = True\n",
    "R = True"
   ]
  },
  {
   "cell_type": "code",
   "execution_count": 77,
   "metadata": {},
   "outputs": [
    {
     "data": {
      "text/plain": [
       "True"
      ]
     },
     "execution_count": 77,
     "metadata": {},
     "output_type": "execute_result"
    }
   ],
   "source": [
    "P and (Q and R)"
   ]
  },
  {
   "cell_type": "code",
   "execution_count": 78,
   "metadata": {},
   "outputs": [
    {
     "data": {
      "text/plain": [
       "True"
      ]
     },
     "execution_count": 78,
     "metadata": {},
     "output_type": "execute_result"
    }
   ],
   "source": [
    "(P and Q) and R"
   ]
  },
  {
   "cell_type": "markdown",
   "metadata": {},
   "source": [
    "Donc, `P and (Q and R) == (P and Q) and R`.\n",
    "On ne met donc pas de parenthèse, puisqu'il n'y a aucune ambiguité d'évaluation des opérateurs `and`.\n",
    "\n",
    "#### c. `not (P and Q) = ?`\n",
    "\n",
    "`P`| `Q` | `P and  Q`      | `not (P and Q)`|  `not P`  | `not Q`   | `(not P) or (not Q)`\n",
    "---|---|---                |---             |---        |---        |---\n",
    "`True` | `True` | `True`   | `False`        |`False`    |`False`    | `False`\n",
    "`True` | `False` | `False` | `True`         |`False`    |`True`     | `True`\n",
    "`False` | `True` | `False` | `True`         |`True`     |`False`    | `True`\n",
    "`False` | `False` | `False`| `True`         |`True`     |`True`     | `True`"
   ]
  },
  {
   "cell_type": "markdown",
   "metadata": {},
   "source": [
    "Donc : `not(P and Q) == (not P) or (not Q)`."
   ]
  },
  {
   "cell_type": "markdown",
   "metadata": {},
   "source": [
    "### 6) Vérifier vos connaissances\n",
    "\n",
    "A ce stade, vous devez être capable de :\n",
    "* citer les six opérateurs de comparaisons en Python ;\n",
    "* savoir évaluer le résultat d'une expression logique simple ;\n",
    "* comprendre les mécanisme de conversions implicites lors de l'évaluation d'une expression logique ;\n",
    "* citer les trois opérateurs logique que nous avons vus ;\n",
    "* donner la table de vérité des trois opérateurs logique que nous avons vus ;\n",
    "* savoir simplifier une expression logique simple."
   ]
  },
  {
   "cell_type": "markdown",
   "metadata": {},
   "source": [
    "#### Exercice 4 :\n",
    "\n",
    "Donner le résultat des expressions logiques suivantes :"
   ]
  },
  {
   "cell_type": "code",
   "execution_count": null,
   "metadata": {},
   "outputs": [],
   "source": [
    "a = 10\n",
    "b = 2\n",
    "c = 6"
   ]
  },
  {
   "cell_type": "code",
   "execution_count": null,
   "metadata": {},
   "outputs": [],
   "source": [
    "a < b or a > c"
   ]
  },
  {
   "cell_type": "code",
   "execution_count": null,
   "metadata": {},
   "outputs": [],
   "source": [
    "a + b < 2 * c"
   ]
  },
  {
   "cell_type": "code",
   "execution_count": null,
   "metadata": {},
   "outputs": [],
   "source": [
    "a - b == b + c"
   ]
  },
  {
   "cell_type": "code",
   "execution_count": null,
   "metadata": {},
   "outputs": [],
   "source": [
    "(a > b and a > c) or (b > a and b > c)"
   ]
  },
  {
   "cell_type": "code",
   "execution_count": null,
   "metadata": {},
   "outputs": [],
   "source": [
    "a < b < c"
   ]
  },
  {
   "cell_type": "code",
   "execution_count": null,
   "metadata": {},
   "outputs": [],
   "source": [
    "a == b == c"
   ]
  },
  {
   "cell_type": "code",
   "execution_count": null,
   "metadata": {},
   "outputs": [],
   "source": [
    "(a <= b and a <= c) or not (b < a)"
   ]
  },
  {
   "cell_type": "code",
   "execution_count": null,
   "metadata": {},
   "outputs": [],
   "source": [
    "not (a > b and a > c) or (b > a and b > c)"
   ]
  },
  {
   "cell_type": "markdown",
   "metadata": {},
   "source": [
    "#### Exercice 5 : \n",
    "\n",
    "variables ne servent à rien ou etre simplifier\n",
    "\n",
    "Les expressions logiques suivantes ne dépendent pas des variables `x`, `y`, `z`.\n",
    "peuvent être simplifiées. Cela peut avoir une grande importance pour la lisibilité d'un programme.\n",
    "\n",
    "Simplifiez les autant que possible."
   ]
  },
  {
   "cell_type": "code",
   "execution_count": 47,
   "metadata": {},
   "outputs": [],
   "source": [
    "x = False\n",
    "y = False\n",
    "z = False"
   ]
  },
  {
   "cell_type": "code",
   "execution_count": null,
   "metadata": {},
   "outputs": [],
   "source": [
    "(x + y > 3 * z) or True"
   ]
  },
  {
   "cell_type": "code",
   "execution_count": 48,
   "metadata": {},
   "outputs": [
    {
     "data": {
      "text/plain": [
       "True"
      ]
     },
     "execution_count": 48,
     "metadata": {},
     "output_type": "execute_result"
    }
   ],
   "source": [
    "(x <= y and x <= z) or not (y < x)"
   ]
  },
  {
   "cell_type": "code",
   "execution_count": null,
   "metadata": {},
   "outputs": [],
   "source": [
    "(x == y and y == z) or (x == y and y != z)"
   ]
  },
  {
   "cell_type": "markdown",
   "metadata": {},
   "source": [
    "## III Instructions conditionnelles"
   ]
  },
  {
   "cell_type": "markdown",
   "metadata": {},
   "source": [
    "### 1) Cas simple : Conditionnelle `Si`\n",
    "\n",
    "On peut maintenant modifier le flot d'instructions selon la valeur d'expressions booléennes, ou conditions :\n",
    "\n",
    "- **Si** une certaine condition est vraie, exécuter un certain groupe (ou bloc) d'instructions\n",
    "- **Sinon**, passer directement à la suite du programme\n",
    "\n",
    "<img src='img/conditionnelle1.png' width='300px'>\n",
    "\n",
    "La syntaxe d'une instruction conditionnelle est :\n",
    "\n",
    "```python\n",
    "# début\n",
    "if condition:\n",
    "    # bloc d'instructions V\n",
    "# suite\n",
    "```\n",
    "\n",
    "- Les instructions du bloc **v** sont exécutées uniquement si `condition` est évaluée à `True`\n",
    "- Dans tous les cas, l'exécution reprend à l'instruction suivant le bloc **v**"
   ]
  },
  {
   "cell_type": "markdown",
   "metadata": {},
   "source": [
    "#### Exemple 1 :"
   ]
  },
  {
   "cell_type": "code",
   "execution_count": 52,
   "metadata": {},
   "outputs": [
    {
     "name": "stdout",
     "output_type": "stream",
     "text": [
      "Quel est votre prénom ? Hildegarde\n",
      "Très joli prénom !\n",
      "Bonjour Hildegarde !\n"
     ]
    }
   ],
   "source": [
    "prenom = input(\"Quel est votre prénom ? \")\n",
    "if prenom == 'Hildegarde':\n",
    "    print('Très joli prénom !')\n",
    "print('Bonjour', prenom, '!')"
   ]
  },
  {
   "cell_type": "markdown",
   "metadata": {},
   "source": [
    "#### Exemple 2 :\n",
    "\n",
    "Reprenons maintenant notre exemple introductif :"
   ]
  },
  {
   "cell_type": "code",
   "execution_count": 53,
   "metadata": {},
   "outputs": [
    {
     "name": "stdout",
     "output_type": "stream",
     "text": [
      "Note du premier contrôle : 11\n",
      "Note du second contrôle : 15\n",
      "Note de l'examen : 19\n",
      "Notes de contrôle non prise en compte.\n",
      "Note finale : 19.0\n"
     ]
    }
   ],
   "source": [
    "# La note finale est le maximum de la note d'examen\n",
    "# et de la moyenne entre examen et moyenne de contrôle\n",
    "# continu\n",
    "note_cc1 = float(input('Note du premier contrôle : '))\n",
    "note_cc2 = float(input('Note du second contrôle : '))\n",
    "note_exam = float(input(\"Note de l'examen : \"))\n",
    "\n",
    "moyenne_cc = (note_cc1 + note_cc2) / 2\n",
    "note_finale = (moyenne_cc + note_exam) / 2\n",
    "\n",
    "if note_finale < note_exam:\n",
    "    # Les deux instructions suivantes ne s'exécutent que si\n",
    "    # la condition est vraie (remarquer le décalage des lignes)\n",
    "    note_finale = note_exam\n",
    "    print('Notes de contrôle non prise en compte.')\n",
    "\n",
    "print('Note finale :', note_finale)"
   ]
  },
  {
   "cell_type": "markdown",
   "metadata": {},
   "source": [
    "#### La notion de bloc\n",
    "\n",
    "Sur cet exemple, on a vu un groupe de lignes commençant par des espaces, appelé **bloc**. Un bloc est utilisé pour regrouper plusieurs instructions dépendant de la même condition.\n",
    "\n",
    "- Un tel groupe d'instructions est appelé un **bloc**\n",
    "- Le décalage du début de ligne est appelé **indentation**\n",
    "- Commencer une ligne avec une indentation supérieure à la précédente commence un nouveau bloc (sur le second exemple : `note_finale = note_exam`)\n",
    "- Un bloc se termine quand une ligne **moins indentée** apparaît (sur l'exemple : `print('Note finale :', note_finale)`)\n",
    "- Pour indenter la ligne courante : touche \"tabulation\" (⇥) \n",
    "- Pour désindenter une ligne : \"Shift + tabulation\" (⇧ + ⇥)\n",
    "- Changer l'indentation change le sens du programme (essayer !)"
   ]
  },
  {
   "cell_type": "markdown",
   "metadata": {},
   "source": [
    "#### Erreurs fréquentes liées à l'indentation :"
   ]
  },
  {
   "cell_type": "code",
   "execution_count": 54,
   "metadata": {},
   "outputs": [
    {
     "ename": "SyntaxError",
     "evalue": "invalid syntax (<ipython-input-54-070a63b47cf2>, line 1)",
     "output_type": "error",
     "traceback": [
      "\u001b[0;36m  File \u001b[0;32m\"<ipython-input-54-070a63b47cf2>\"\u001b[0;36m, line \u001b[0;32m1\u001b[0m\n\u001b[0;31m    if note_finale < note_exam  # oubli des deux points (:)\u001b[0m\n\u001b[0m                                                           ^\u001b[0m\n\u001b[0;31mSyntaxError\u001b[0m\u001b[0;31m:\u001b[0m invalid syntax\n"
     ]
    }
   ],
   "source": [
    "if note_finale < note_exam  # oubli des deux points (:)\n",
    "    note_finale = note_exam\n",
    "    print('Note de contrôle non prise en compte.')"
   ]
  },
  {
   "cell_type": "code",
   "execution_count": 56,
   "metadata": {},
   "outputs": [
    {
     "ename": "IndentationError",
     "evalue": "unindent does not match any outer indentation level (<tokenize>, line 3)",
     "output_type": "error",
     "traceback": [
      "\u001b[0;36m  File \u001b[0;32m\"<tokenize>\"\u001b[0;36m, line \u001b[0;32m3\u001b[0m\n\u001b[0;31m    print('Note de contrôle non prise en compte.')  # ligne pas assez indentée\u001b[0m\n\u001b[0m    ^\u001b[0m\n\u001b[0;31mIndentationError\u001b[0m\u001b[0;31m:\u001b[0m unindent does not match any outer indentation level\n"
     ]
    }
   ],
   "source": [
    "if note_finale < note_exam:\n",
    "    note_finale = note_exam\n",
    "  print('Note de contrôle non prise en compte.')  # ligne pas assez indentée "
   ]
  },
  {
   "cell_type": "code",
   "execution_count": 57,
   "metadata": {},
   "outputs": [
    {
     "ename": "IndentationError",
     "evalue": "unexpected indent (<ipython-input-57-a697e5b6bcba>, line 3)",
     "output_type": "error",
     "traceback": [
      "\u001b[0;36m  File \u001b[0;32m\"<ipython-input-57-a697e5b6bcba>\"\u001b[0;36m, line \u001b[0;32m3\u001b[0m\n\u001b[0;31m    print('Note de contrôle non prise en compte.')  # ligne trop indentée\u001b[0m\n\u001b[0m    ^\u001b[0m\n\u001b[0;31mIndentationError\u001b[0m\u001b[0;31m:\u001b[0m unexpected indent\n"
     ]
    }
   ],
   "source": [
    "if note_finale < note_exam:\n",
    "    note_finale = note_exam\n",
    "        print('Note de contrôle non prise en compte.')  # ligne trop indentée "
   ]
  },
  {
   "cell_type": "code",
   "execution_count": 58,
   "metadata": {},
   "outputs": [
    {
     "ename": "IndentationError",
     "evalue": "expected an indented block (<ipython-input-58-c8f5ccc6736d>, line 2)",
     "output_type": "error",
     "traceback": [
      "\u001b[0;36m  File \u001b[0;32m\"<ipython-input-58-c8f5ccc6736d>\"\u001b[0;36m, line \u001b[0;32m2\u001b[0m\n\u001b[0;31m    note_finale = note_exam  # oubli d'indentation\u001b[0m\n\u001b[0m              ^\u001b[0m\n\u001b[0;31mIndentationError\u001b[0m\u001b[0;31m:\u001b[0m expected an indented block\n"
     ]
    }
   ],
   "source": [
    "if note_finale < note_exam:\n",
    "note_finale = note_exam  # oubli d'indentation"
   ]
  },
  {
   "cell_type": "markdown",
   "metadata": {},
   "source": [
    "### Vérifier vos connaissances\n",
    "\n",
    "A ce stade, vous devez être capable :\n",
    "* d'écrire correctement en Python une structure conditionnelle simple (utilisation des :, indentation, ...) ;\n",
    "* d'évaluer le résultat d'une structure conditionnelle simple en Python ;\n",
    "* d'identifier les différents blocs dans un programme"
   ]
  },
  {
   "cell_type": "markdown",
   "metadata": {},
   "source": [
    "#### Exercice 6 :\n",
    "\n",
    "Écrire un programme qui demande un entier saisi au clavier par l’utilisateur et affiche\n",
    "`strictement positif` s’il est strictement positif."
   ]
  },
  {
   "cell_type": "code",
   "execution_count": 61,
   "metadata": {},
   "outputs": [
    {
     "name": "stdout",
     "output_type": "stream",
     "text": [
      "Entrez un nombre : 10\n",
      "strictement positif\n"
     ]
    }
   ],
   "source": [
    "n = int(input(\"Entrez un nombre : \"))\n",
    "if n > 0:\n",
    "    print(\"strictement positif\")"
   ]
  },
  {
   "cell_type": "markdown",
   "metadata": {},
   "source": [
    "#### Exercice 7 :\n",
    "\n",
    "Écrire un programme qui demande à l’utilisateur le poids de son bagage en kilos.\n",
    "Si le bagage pèse plus de 20 kilos, le programme affichera le message :\n",
    "\n",
    "```\n",
    "Vous devez payer un supplément.\n",
    "```"
   ]
  },
  {
   "cell_type": "markdown",
   "metadata": {},
   "source": [
    "#### Exercice 8 :\n",
    "\n",
    "Qu'affiche le programme suivant :\n",
    "```\n",
    "a = 10\n",
    "if a > 1000:\n",
    "    print(\"grand\")\n",
    "print(\"nombre\")\n",
    "```"
   ]
  },
  {
   "cell_type": "markdown",
   "metadata": {},
   "source": [
    "### 2) Conditionnelles `Si ... Sinon ...`\n",
    "\n",
    "\n",
    "\n",
    "On peut ajouter un second bloc d'instructions\n",
    "- **Si** une certaine condition est vraie, exécuter le premier bloc\n",
    "- **Sinon**, exécuter le second\n",
    "- Enfin, continuer l'exécution normale du programme\n",
    "  \n",
    "Syntaxe :\n",
    "\n",
    "```python\n",
    "# début\n",
    "if <condition>:\n",
    "    # bloc v\n",
    "else:\n",
    "    # bloc f\n",
    "# suite\n",
    "```\n",
    "\n",
    "Seul *l'un des deux* blocs d'instructions, **v** *ou bien* **f**, est exécuté\n",
    "- Le bloc **v** uniquement si `condition` est évaluée à `True`\n",
    "- Le bloc **f** uniquement si `condition` est évaluée à `False`\n",
    "- Dans tous les cas, reprise à l'instruction suivant le bloc **f**\n",
    "\n",
    "<img src='img/conditionnelle2.png' width='30%'>"
   ]
  },
  {
   "cell_type": "markdown",
   "metadata": {},
   "source": [
    "#### Notre exemple favori\n",
    "\n",
    "En plus de la dernière version, on cherche à savoir si le contrôle continu a été pris en compte."
   ]
  },
  {
   "cell_type": "code",
   "execution_count": 66,
   "metadata": {},
   "outputs": [
    {
     "name": "stdout",
     "output_type": "stream",
     "text": [
      "Note du premier contrôle : -2\n",
      "Note du second contrôle : 10\n",
      "Note de l'examen : 8\n",
      "Notes de contrôle non prise en compte.\n",
      "Note finale : 8.0\n"
     ]
    }
   ],
   "source": [
    "# La note finale est le maximum de la note d'examen\n",
    "# et de la moyenne entre examen et moyenne de contrôle\n",
    "# continu\n",
    "\n",
    "note_cc1 = float(input('Note du premier contrôle : '))\n",
    "note_cc2 = float(input('Note du second contrôle : '))\n",
    "note_exam = float(input(\"Note de l'examen : \"))\n",
    "\n",
    "moyenne_cc = (note_cc1 + note_cc2) / 2\n",
    "\n",
    "if moyenne_cc < note_exam:\n",
    "    # Bloc à exécuter si la condition est vraie\n",
    "    note_finale = note_exam\n",
    "    print('Notes de contrôle non prise en compte.')\n",
    "else:  # moyenne_cc >= note_exam\n",
    "    # Bloc à exécuter si la condition est fausse\n",
    "    note_finale = (moyenne_cc + note_exam) / 2\n",
    "    print('Notes de contrôle prise en compte.')\n",
    "\n",
    "# Instruction exécutée dans tous les cas\n",
    "print('Note finale :', note_finale)"
   ]
  },
  {
   "cell_type": "markdown",
   "metadata": {},
   "source": [
    "**Un autre exemple : la division euclidienne**"
   ]
  },
  {
   "cell_type": "code",
   "execution_count": 65,
   "metadata": {},
   "outputs": [
    {
     "name": "stdout",
     "output_type": "stream",
     "text": [
      "Donner moi un dividende : 428\n",
      "Donner moi un diviseur : 0\n",
      "Erreur de saisie ? Division par zéro...\n"
     ]
    }
   ],
   "source": [
    "dividende = int(input(\"Donner moi un dividende : \"))\n",
    "diviseur = int(input(\"Donner moi un diviseur : \"))\n",
    "if diviseur != 0:\n",
    "    print(dividende, '=', dividende // diviseur, '*', diviseur, '+', dividende % diviseur )\n",
    "else:\n",
    "    print('Erreur de saisie ? Division par zéro...')"
   ]
  },
  {
   "cell_type": "markdown",
   "metadata": {},
   "source": [
    "### Vérifier vos connaissances\n",
    "\n",
    "A ce stade, vous devriez savoir :\n",
    "* écrire une structure conditionnelle `Si ... Sinon ...`.\n",
    "\n",
    "#### Exercice 9 :\n",
    "\n",
    "Écrire un programme qui demande un entier saisi au clavier par l’utilisateur et affiche\n",
    "```positif``` si l'entier est positif ou nul et ```negatif``` sinon."
   ]
  },
  {
   "cell_type": "markdown",
   "metadata": {},
   "source": [
    "### 3) Conditionnelles composées\n",
    "\n",
    "Cette construction peut être imbriquée :\n",
    "\n",
    "```python\n",
    "# début\n",
    "if <condition 1>:\n",
    "    if <condition 2>:\n",
    "        # bloc v1v2\n",
    "    else:\n",
    "        # bloc v1f2\n",
    "    # suite 2\n",
    "else:\n",
    "    # bloc f1\n",
    "# suite 1\n",
    "```\n",
    "\n",
    "<img src='img/conditionnelle3.png' width='60%'>\n",
    "\n",
    "Toutes les variantes sont possibles — si chaque `else` correspond à un `if` de même indentation !"
   ]
  },
  {
   "cell_type": "markdown",
   "metadata": {},
   "source": [
    "#### Notre exemple favori\n",
    "\n",
    "On veut désormais ajouter la possibilité de tester si les notes données sont des notes positives."
   ]
  },
  {
   "cell_type": "code",
   "execution_count": 82,
   "metadata": {},
   "outputs": [
    {
     "name": "stdout",
     "output_type": "stream",
     "text": [
      "Note du premier contrôle : 10\n",
      "Note du second contrôle : 10\n",
      "Note de l'examen : 9\n",
      "Note de contrôle prise en compte.\n",
      "Note finale : 9.5\n"
     ]
    }
   ],
   "source": [
    "# La note finale est le maximum de la note d'examen\n",
    "# et de la moyenne entre examen et moyenne de contrôle\n",
    "# continu\n",
    "\n",
    "note_cc1 = float(input('Note du premier contrôle : '))\n",
    "note_cc2 = float(input('Note du second contrôle : '))\n",
    "note_exam = float(input(\"Note de l'examen : \"))\n",
    "\n",
    "# On vérifie qu'aucune note n'est négative\n",
    "if note_cc1 >= 0 and note_cc2 >= 0 and note_exam >= 0:\n",
    "    moyenne_cc = (note_cc1 + note_cc2) / 2\n",
    "    # Condition dans la condition\n",
    "    if moyenne_cc < note_exam:\n",
    "        # Indentation supplémentaire\n",
    "        note_finale = note_exam\n",
    "        print('Note de contrôle non prise en compte.')\n",
    "    else:\n",
    "        note_finale = (moyenne_cc + note_exam) / 2\n",
    "        print('Note de contrôle prise en compte.')\n",
    "    print('Note finale :', note_finale)\n",
    "else:\n",
    "    print('Erreur de saisie (note négative).')"
   ]
  },
  {
   "cell_type": "markdown",
   "metadata": {},
   "source": [
    "### Vérifier vos connaissances\n",
    "\n",
    "A ce stade, vous devriez être capable :\n",
    "* d'expliquer quelles lignes seront exécutées dans un programme contenant des blocs conditionnels en fonction des données fournies au programme ;\n",
    "* simplifier, quand c'est possible, une imbrication de blocs conditionnels en utilisant des opérateurs booléens ;\n",
    "* éliminer les opérateurs booléens d'une condition en introduisant de nouveaux blocs conditionnels."
   ]
  },
  {
   "cell_type": "markdown",
   "metadata": {},
   "source": [
    "**Exercice 10 : Evaluations d'un programme**\n",
    "\n",
    "Qu’affiche le programme ci-dessus lorsque :\n",
    "* le premier nombre donné est 1 et le second est 0.\n",
    "* le premier nombre donné est 2 et le second est 2.\n",
    "* le premier nombre donné est 3 et le second est 0.\n",
    "* le premier nombre donné est 4 et le second est 4.\n",
    "\n",
    "```\n",
    "a = int(input('Donnez un nombre : '))\n",
    "b = int(input('Donnez un nombre : '))\n",
    "print('toto')\n",
    "if a > 2:\n",
    "    print('tata')\n",
    "    if b >= a:\n",
    "        print('truc')\n",
    "    else:\n",
    "        print('bla')\n",
    "    print('poire')\n",
    "print('42')\n",
    "```"
   ]
  },
  {
   "cell_type": "markdown",
   "metadata": {},
   "source": [
    "#### Exercice 11 : Transformation de conditions imbriquées\n",
    "\n",
    "Modifier le programme suivant pour qu'il ne contienne qu'une seule condition.\n",
    "```\n",
    "a = int(input(\"Donnez moi un entier : \"))\n",
    "b = int(input(\"Donnez moi un entier : \"))\n",
    "if a > 0:\n",
    "    if b == 2 * a\n",
    "        print(\"Le nombre positif b est le double de a\")\n",
    "    else:\n",
    "        print(\"a est négatif ou b n'est pas le double de a\")\n",
    "else:\n",
    "    print(\"a est négatif ou b n'est pas le double de a\")    \n",
    "```"
   ]
  },
  {
   "cell_type": "markdown",
   "metadata": {},
   "source": [
    "### 4) Conditionnelles enchaînées :\n",
    "  \n",
    "Cas particulier où le bloc `else` contient seulement un autre `if` : le mot-clé `elif`\n",
    "\n",
    "Le code...\n",
    "```python\n",
    "# début\n",
    "if <condition 1>:\n",
    "    # bloc **v1**\n",
    "else:\n",
    "    if <condition 2>:\n",
    "        # bloc **f1v2**\n",
    "    else:\n",
    "        # bloc **f1f2**\n",
    "# suite\n",
    "```\n",
    "\n",
    "... s'écrit aussi :\n",
    "```python\n",
    "# début\n",
    "if <condition 1>:\n",
    "    # bloc **v1**\n",
    "elif <condition 2>:\n",
    "    # bloc **f1v2**\n",
    "else:\n",
    "    # bloc **f1f2**\n",
    "# suite\n",
    "```\n",
    "\n",
    "On peut ainsi enchaîner autant de conditions qu'on le souhaite, lorsque les cas ne se recouvrent pas :\n",
    "\n",
    "```python\n",
    "# début\n",
    "if <condition 1>:\n",
    "    # bloc **v1**\n",
    "elif <condition 2>:\n",
    "    # bloc **f1v2**\n",
    "elif <condition 3>:\n",
    "    # bloc **f1f2v3**\n",
    "else:\n",
    "    # bloc **f1f2f3**\n",
    "# suite\n",
    "```\n",
    "\n",
    "**Exemple final :**"
   ]
  },
  {
   "cell_type": "code",
   "execution_count": 86,
   "metadata": {},
   "outputs": [
    {
     "ename": "KeyboardInterrupt",
     "evalue": "",
     "output_type": "error",
     "traceback": [
      "\u001b[0;31m---------------------------------------------------------------------------\u001b[0m",
      "\u001b[0;31mKeyboardInterrupt\u001b[0m                         Traceback (most recent call last)",
      "\u001b[0;32m~/miniconda3/lib/python3.7/site-packages/ipykernel/kernelbase.py\u001b[0m in \u001b[0;36m_input_request\u001b[0;34m(self, prompt, ident, parent, password)\u001b[0m\n\u001b[1;32m    883\u001b[0m             \u001b[0;32mtry\u001b[0m\u001b[0;34m:\u001b[0m\u001b[0;34m\u001b[0m\u001b[0;34m\u001b[0m\u001b[0m\n\u001b[0;32m--> 884\u001b[0;31m                 \u001b[0mident\u001b[0m\u001b[0;34m,\u001b[0m \u001b[0mreply\u001b[0m \u001b[0;34m=\u001b[0m \u001b[0mself\u001b[0m\u001b[0;34m.\u001b[0m\u001b[0msession\u001b[0m\u001b[0;34m.\u001b[0m\u001b[0mrecv\u001b[0m\u001b[0;34m(\u001b[0m\u001b[0mself\u001b[0m\u001b[0;34m.\u001b[0m\u001b[0mstdin_socket\u001b[0m\u001b[0;34m,\u001b[0m \u001b[0;36m0\u001b[0m\u001b[0;34m)\u001b[0m\u001b[0;34m\u001b[0m\u001b[0;34m\u001b[0m\u001b[0m\n\u001b[0m\u001b[1;32m    885\u001b[0m             \u001b[0;32mexcept\u001b[0m \u001b[0mException\u001b[0m\u001b[0;34m:\u001b[0m\u001b[0;34m\u001b[0m\u001b[0;34m\u001b[0m\u001b[0m\n",
      "\u001b[0;32m~/miniconda3/lib/python3.7/site-packages/jupyter_client/session.py\u001b[0m in \u001b[0;36mrecv\u001b[0;34m(self, socket, mode, content, copy)\u001b[0m\n\u001b[1;32m    812\u001b[0m         \u001b[0;32mtry\u001b[0m\u001b[0;34m:\u001b[0m\u001b[0;34m\u001b[0m\u001b[0;34m\u001b[0m\u001b[0m\n\u001b[0;32m--> 813\u001b[0;31m             \u001b[0mmsg_list\u001b[0m \u001b[0;34m=\u001b[0m \u001b[0msocket\u001b[0m\u001b[0;34m.\u001b[0m\u001b[0mrecv_multipart\u001b[0m\u001b[0;34m(\u001b[0m\u001b[0mmode\u001b[0m\u001b[0;34m,\u001b[0m \u001b[0mcopy\u001b[0m\u001b[0;34m=\u001b[0m\u001b[0mcopy\u001b[0m\u001b[0;34m)\u001b[0m\u001b[0;34m\u001b[0m\u001b[0;34m\u001b[0m\u001b[0m\n\u001b[0m\u001b[1;32m    814\u001b[0m         \u001b[0;32mexcept\u001b[0m \u001b[0mzmq\u001b[0m\u001b[0;34m.\u001b[0m\u001b[0mZMQError\u001b[0m \u001b[0;32mas\u001b[0m \u001b[0me\u001b[0m\u001b[0;34m:\u001b[0m\u001b[0;34m\u001b[0m\u001b[0;34m\u001b[0m\u001b[0m\n",
      "\u001b[0;32m~/miniconda3/lib/python3.7/site-packages/zmq/sugar/socket.py\u001b[0m in \u001b[0;36mrecv_multipart\u001b[0;34m(self, flags, copy, track)\u001b[0m\n\u001b[1;32m    474\u001b[0m         \"\"\"\n\u001b[0;32m--> 475\u001b[0;31m         \u001b[0mparts\u001b[0m \u001b[0;34m=\u001b[0m \u001b[0;34m[\u001b[0m\u001b[0mself\u001b[0m\u001b[0;34m.\u001b[0m\u001b[0mrecv\u001b[0m\u001b[0;34m(\u001b[0m\u001b[0mflags\u001b[0m\u001b[0;34m,\u001b[0m \u001b[0mcopy\u001b[0m\u001b[0;34m=\u001b[0m\u001b[0mcopy\u001b[0m\u001b[0;34m,\u001b[0m \u001b[0mtrack\u001b[0m\u001b[0;34m=\u001b[0m\u001b[0mtrack\u001b[0m\u001b[0;34m)\u001b[0m\u001b[0;34m]\u001b[0m\u001b[0;34m\u001b[0m\u001b[0;34m\u001b[0m\u001b[0m\n\u001b[0m\u001b[1;32m    476\u001b[0m         \u001b[0;31m# have first part already, only loop while more to receive\u001b[0m\u001b[0;34m\u001b[0m\u001b[0;34m\u001b[0m\u001b[0;34m\u001b[0m\u001b[0m\n",
      "\u001b[0;32mzmq/backend/cython/socket.pyx\u001b[0m in \u001b[0;36mzmq.backend.cython.socket.Socket.recv\u001b[0;34m()\u001b[0m\n",
      "\u001b[0;32mzmq/backend/cython/socket.pyx\u001b[0m in \u001b[0;36mzmq.backend.cython.socket.Socket.recv\u001b[0;34m()\u001b[0m\n",
      "\u001b[0;32mzmq/backend/cython/socket.pyx\u001b[0m in \u001b[0;36mzmq.backend.cython.socket._recv_copy\u001b[0;34m()\u001b[0m\n",
      "\u001b[0;32m~/miniconda3/lib/python3.7/site-packages/zmq/backend/cython/checkrc.pxd\u001b[0m in \u001b[0;36mzmq.backend.cython.checkrc._check_rc\u001b[0;34m()\u001b[0m\n",
      "\u001b[0;31mKeyboardInterrupt\u001b[0m: ",
      "\nDuring handling of the above exception, another exception occurred:\n",
      "\u001b[0;31mKeyboardInterrupt\u001b[0m                         Traceback (most recent call last)",
      "\u001b[0;32m<ipython-input-86-38cf5a96f0df>\u001b[0m in \u001b[0;36m<module>\u001b[0;34m\u001b[0m\n\u001b[1;32m      3\u001b[0m \u001b[0;31m# continu\u001b[0m\u001b[0;34m\u001b[0m\u001b[0;34m\u001b[0m\u001b[0;34m\u001b[0m\u001b[0m\n\u001b[1;32m      4\u001b[0m \u001b[0;34m\u001b[0m\u001b[0m\n\u001b[0;32m----> 5\u001b[0;31m \u001b[0mnote_cc1\u001b[0m \u001b[0;34m=\u001b[0m \u001b[0mfloat\u001b[0m\u001b[0;34m(\u001b[0m\u001b[0minput\u001b[0m\u001b[0;34m(\u001b[0m\u001b[0;34m'Note du premier contrôle : '\u001b[0m\u001b[0;34m)\u001b[0m\u001b[0;34m)\u001b[0m\u001b[0;34m\u001b[0m\u001b[0;34m\u001b[0m\u001b[0m\n\u001b[0m\u001b[1;32m      6\u001b[0m \u001b[0mnote_cc2\u001b[0m \u001b[0;34m=\u001b[0m \u001b[0mfloat\u001b[0m\u001b[0;34m(\u001b[0m\u001b[0minput\u001b[0m\u001b[0;34m(\u001b[0m\u001b[0;34m'Note du second contrôle : '\u001b[0m\u001b[0;34m)\u001b[0m\u001b[0;34m)\u001b[0m\u001b[0;34m\u001b[0m\u001b[0;34m\u001b[0m\u001b[0m\n\u001b[1;32m      7\u001b[0m \u001b[0mnote_exam\u001b[0m \u001b[0;34m=\u001b[0m \u001b[0mfloat\u001b[0m\u001b[0;34m(\u001b[0m\u001b[0minput\u001b[0m\u001b[0;34m(\u001b[0m\u001b[0;34m\"Note de l'examen : \"\u001b[0m\u001b[0;34m)\u001b[0m\u001b[0;34m)\u001b[0m\u001b[0;34m\u001b[0m\u001b[0;34m\u001b[0m\u001b[0m\n",
      "\u001b[0;32m~/miniconda3/lib/python3.7/site-packages/ipykernel/kernelbase.py\u001b[0m in \u001b[0;36mraw_input\u001b[0;34m(self, prompt)\u001b[0m\n\u001b[1;32m    857\u001b[0m             \u001b[0mself\u001b[0m\u001b[0;34m.\u001b[0m\u001b[0m_parent_ident\u001b[0m\u001b[0;34m,\u001b[0m\u001b[0;34m\u001b[0m\u001b[0;34m\u001b[0m\u001b[0m\n\u001b[1;32m    858\u001b[0m             \u001b[0mself\u001b[0m\u001b[0;34m.\u001b[0m\u001b[0m_parent_header\u001b[0m\u001b[0;34m,\u001b[0m\u001b[0;34m\u001b[0m\u001b[0;34m\u001b[0m\u001b[0m\n\u001b[0;32m--> 859\u001b[0;31m             \u001b[0mpassword\u001b[0m\u001b[0;34m=\u001b[0m\u001b[0;32mFalse\u001b[0m\u001b[0;34m,\u001b[0m\u001b[0;34m\u001b[0m\u001b[0;34m\u001b[0m\u001b[0m\n\u001b[0m\u001b[1;32m    860\u001b[0m         )\n\u001b[1;32m    861\u001b[0m \u001b[0;34m\u001b[0m\u001b[0m\n",
      "\u001b[0;32m~/miniconda3/lib/python3.7/site-packages/ipykernel/kernelbase.py\u001b[0m in \u001b[0;36m_input_request\u001b[0;34m(self, prompt, ident, parent, password)\u001b[0m\n\u001b[1;32m    887\u001b[0m             \u001b[0;32mexcept\u001b[0m \u001b[0mKeyboardInterrupt\u001b[0m\u001b[0;34m:\u001b[0m\u001b[0;34m\u001b[0m\u001b[0;34m\u001b[0m\u001b[0m\n\u001b[1;32m    888\u001b[0m                 \u001b[0;31m# re-raise KeyboardInterrupt, to truncate traceback\u001b[0m\u001b[0;34m\u001b[0m\u001b[0;34m\u001b[0m\u001b[0;34m\u001b[0m\u001b[0m\n\u001b[0;32m--> 889\u001b[0;31m                 \u001b[0;32mraise\u001b[0m \u001b[0mKeyboardInterrupt\u001b[0m\u001b[0;34m\u001b[0m\u001b[0;34m\u001b[0m\u001b[0m\n\u001b[0m\u001b[1;32m    890\u001b[0m             \u001b[0;32melse\u001b[0m\u001b[0;34m:\u001b[0m\u001b[0;34m\u001b[0m\u001b[0;34m\u001b[0m\u001b[0m\n\u001b[1;32m    891\u001b[0m                 \u001b[0;32mbreak\u001b[0m\u001b[0;34m\u001b[0m\u001b[0;34m\u001b[0m\u001b[0m\n",
      "\u001b[0;31mKeyboardInterrupt\u001b[0m: "
     ]
    }
   ],
   "source": [
    "# La note finale est le maximum de la note d'examen\n",
    "# et de la moyenne entre examen et moyenne de contrôle\n",
    "# continu\n",
    "\n",
    "note_cc1 = float(input('Note du premier contrôle : '))\n",
    "note_cc2 = float(input('Note du second contrôle : '))\n",
    "note_exam = float(input(\"Note de l'examen : \"))\n",
    "\n",
    "if note_cc1 < 0 or note_cc2 < 0 or note_exam < 0:\n",
    "    # Négation de note_cc1 >= 0 and note_cc2 >= 0 and note_exam >= 0\n",
    "    print('Erreur de saisie (note négative).')\n",
    "else:\n",
    "    moyenne_cc = (note_cc1 + note_cc2) / 2\n",
    "\n",
    "    if moyenne_cc < note_exam:\n",
    "        note_finale = note_exam\n",
    "        print('Note de contrôle non prise en compte.')\n",
    "    else:\n",
    "        note_finale = (moyenne_cc + note_exam) / 2\n",
    "        print('Note de contrôle prise en compte.')\n",
    "    print('Note finale :', note_finale)\n",
    "\n",
    "    if note_finale < 8:\n",
    "        print(\"T'as pas assez bossé... Tant pis !\")\n",
    "    elif note_finale < 10:\n",
    "        print('Encore un petit effort !')\n",
    "    elif note_finale < 12:\n",
    "        print('Ça passe !')\n",
    "    elif note_finale < 14:\n",
    "        print('Pas mal !')\n",
    "    else:  # Quelles valeurs possibles ?\n",
    "        print('Bravo !')"
   ]
  },
  {
   "cell_type": "markdown",
   "metadata": {},
   "source": [
    "### Vérifier vos connaissances\n",
    "\n",
    "A ce stade, vous devriez être capable :\n",
    "* d'écrire correctement en Python une structure conditionnelle simple ou complexe ;"
   ]
  },
  {
   "cell_type": "markdown",
   "metadata": {},
   "source": [
    "**Exercice 12 : Où est cette valeur ?**\n",
    "\n",
    "Pour quelles plages de valeur de la variable `a` le programme suivant affiche-t-il `X` ?\n",
    "\n",
    "Que se passe-t-il si `a` n’est pas de type `int` ?\n",
    "  \n",
    "```\n",
    "if a > 10:\n",
    "    print('a grand')\n",
    "elif a < 5:\n",
    "    print('a petit')\n",
    "else:\n",
    "    print('X')\n",
    "```"
   ]
  },
  {
   "cell_type": "code",
   "execution_count": 5,
   "metadata": {},
   "outputs": [
    {
     "ename": "TypeError",
     "evalue": "'>' not supported between instances of 'str' and 'int'",
     "output_type": "error",
     "traceback": [
      "\u001b[0;31m---------------------------------------------------------------------------\u001b[0m",
      "\u001b[0;31mTypeError\u001b[0m                                 Traceback (most recent call last)",
      "\u001b[0;32m<ipython-input-5-26e5defc9e2e>\u001b[0m in \u001b[0;36m<module>\u001b[0;34m()\u001b[0m\n\u001b[1;32m      1\u001b[0m \u001b[0ma\u001b[0m \u001b[0;34m=\u001b[0m \u001b[0;34m\"10.3\"\u001b[0m\u001b[0;34m\u001b[0m\u001b[0m\n\u001b[0;32m----> 2\u001b[0;31m \u001b[0;32mif\u001b[0m \u001b[0ma\u001b[0m \u001b[0;34m>\u001b[0m \u001b[0;36m10\u001b[0m\u001b[0;34m:\u001b[0m\u001b[0;34m\u001b[0m\u001b[0m\n\u001b[0m\u001b[1;32m      3\u001b[0m     \u001b[0mprint\u001b[0m\u001b[0;34m(\u001b[0m\u001b[0;34m'a grand'\u001b[0m\u001b[0;34m)\u001b[0m\u001b[0;34m\u001b[0m\u001b[0m\n\u001b[1;32m      4\u001b[0m \u001b[0;32melif\u001b[0m \u001b[0ma\u001b[0m \u001b[0;34m<\u001b[0m \u001b[0;36m5\u001b[0m\u001b[0;34m:\u001b[0m\u001b[0;34m\u001b[0m\u001b[0m\n\u001b[1;32m      5\u001b[0m     \u001b[0mprint\u001b[0m\u001b[0;34m(\u001b[0m\u001b[0;34m'a petit'\u001b[0m\u001b[0;34m)\u001b[0m\u001b[0;34m\u001b[0m\u001b[0m\n",
      "\u001b[0;31mTypeError\u001b[0m: '>' not supported between instances of 'str' and 'int'"
     ]
    }
   ],
   "source": [
    "a = \"10.3\"\n",
    "if a > 10:\n",
    "    print('a grand')\n",
    "elif a < 5:\n",
    "    print('a petit')\n",
    "else:\n",
    "    print('X')"
   ]
  },
  {
   "cell_type": "code",
   "execution_count": null,
   "metadata": {},
   "outputs": [],
   "source": []
  }
 ],
 "metadata": {
  "kernelspec": {
   "display_name": "Python 3",
   "language": "python",
   "name": "python3"
  },
  "language_info": {
   "codemirror_mode": {
    "name": "ipython",
    "version": 3
   },
   "file_extension": ".py",
   "mimetype": "text/x-python",
   "name": "python",
   "nbconvert_exporter": "python",
   "pygments_lexer": "ipython3",
   "version": "3.7.4"
  }
 },
 "nbformat": 4,
 "nbformat_minor": 2
}
