{
 "cells": [
  {
   "cell_type": "markdown",
   "metadata": {
    "slideshow": {
     "slide_type": "slide"
    }
   },
   "source": [
    "<div style='float:center; margin-right:20pt; width:30em'><img src='../img/logo-igm.png'></div>\n",
    "<div style='float:center; font-size:large'>\n",
    "    <strong>Algorithmique et programmation 1</strong><br>\n",
    "    L1 Mathématiques - L1 Informatique<br>\n",
    "    Semestre 1\n",
    "</div>"
   ]
  },
  {
   "cell_type": "markdown",
   "metadata": {
    "slideshow": {
     "slide_type": "-"
    }
   },
   "source": [
    "# Chapitre 2 : Conditionnelles et expressions booléennes"
   ]
  },
  {
   "cell_type": "markdown",
   "metadata": {
    "slideshow": {
     "slide_type": "slide"
    }
   },
   "source": [
    "## Introduction\n",
    "\n",
    "Voilà le genre de choses qu'on a appris à faire au chapitre précédent :"
   ]
  },
  {
   "cell_type": "code",
   "execution_count": 4,
   "metadata": {
    "slideshow": {
     "slide_type": "-"
    }
   },
   "outputs": [],
   "source": [
    "# Ingrédients pour une recette simple\n",
    "nom_recette = \"une omelette\"\n",
    "nb_personnes_ref = 2\n",
    "q_oeuf_ref = 4"
   ]
  },
  {
   "cell_type": "code",
   "execution_count": 9,
   "metadata": {
    "slideshow": {
     "slide_type": "subslide"
    }
   },
   "outputs": [
    {
     "name": "stdout",
     "output_type": "stream",
     "text": [
      "Combien de convives ? 3\n"
     ]
    }
   ],
   "source": [
    "# Calcul du coefficient de proportionnalité\n",
    "nb_convives = int(input(\"Combien de convives ? \"))\n",
    "rapport = nb_convives / nb_personnes_ref"
   ]
  },
  {
   "cell_type": "code",
   "execution_count": 10,
   "metadata": {
    "slideshow": {
     "slide_type": "subslide"
    }
   },
   "outputs": [],
   "source": [
    "# Calcul de la quantité requise\n",
    "q_oeuf = round(q_oeuf_ref * rapport)"
   ]
  },
  {
   "cell_type": "code",
   "execution_count": 11,
   "metadata": {
    "slideshow": {
     "slide_type": "subslide"
    }
   },
   "outputs": [
    {
     "name": "stdout",
     "output_type": "stream",
     "text": [
      "Pour faire une omelette pour 3 personne(s)\n",
      "il vous faut 6 oeuf(s).\n"
     ]
    }
   ],
   "source": [
    "# Affichage\n",
    "print(\"Pour faire\", nom_recette, \"pour\", nb_convives, \"personne(s)\")\n",
    "print(\"il vous faut\", q_oeuf, \"oeuf(s).\")"
   ]
  },
  {
   "cell_type": "markdown",
   "metadata": {
    "slideshow": {
     "slide_type": "subslide"
    }
   },
   "source": [
    "Ici les **instructions** du programme sont exécutées toujours dans le même ordre."
   ]
  },
  {
   "cell_type": "markdown",
   "metadata": {
    "slideshow": {
     "slide_type": "slide"
    }
   },
   "source": [
    "On va maintenant ajouter la possibilité de faire des **choix** dans le programme, pour exécuter des instructions différentes selon les cas."
   ]
  },
  {
   "cell_type": "markdown",
   "metadata": {
    "slideshow": {
     "slide_type": "slide"
    }
   },
   "source": [
    "### Exemple"
   ]
  },
  {
   "cell_type": "code",
   "execution_count": 14,
   "metadata": {
    "slideshow": {
     "slide_type": "-"
    }
   },
   "outputs": [
    {
     "name": "stdout",
     "output_type": "stream",
     "text": [
      "Pour faire une omelette pour 3 personnes il vous faut 6 oeufs.\n"
     ]
    }
   ],
   "source": [
    "if nb_convives <= 0:\n",
    "    print(\"Le nombre de convives saisi est incorrect.\")\n",
    "else :\n",
    "    print(\"Pour faire\", nom_recette, \"pour\", nb_convives, end=\" \")\n",
    "    if nb_convives == 1:\n",
    "        print(\"personne\", end=\" \")\n",
    "    else:\n",
    "        print(\"personnes\", end=\" \")\n",
    "    if q_oeuf == 1:\n",
    "        print(\"il vous faut\", q_oeuf, \"oeuf.\")\n",
    "    else:\n",
    "        print(\"il vous faut\", q_oeuf, \"oeufs.\")"
   ]
  },
  {
   "cell_type": "markdown",
   "metadata": {
    "slideshow": {
     "slide_type": "subslide"
    }
   },
   "source": [
    "Autre version :"
   ]
  },
  {
   "cell_type": "code",
   "execution_count": 17,
   "metadata": {
    "slideshow": {
     "slide_type": "-"
    }
   },
   "outputs": [
    {
     "name": "stdout",
     "output_type": "stream",
     "text": [
      "Pour faire une omelette pour 1 personne\n",
      "il vous faut 6 oeufs.\n"
     ]
    }
   ],
   "source": [
    "nb_convives = 1\n",
    "if nb_convives < 0:\n",
    "    print(\"Le nombre de convives saisi est incorrect.\")\n",
    "else :\n",
    "    accord_convives = \"\"\n",
    "    accord_oeufs = \"\"\n",
    "    if nb_convives > 1:\n",
    "        accord_convives = \"s\"\n",
    "    print(\"Pour faire\", nom_recette, \"pour\", nb_convives, \n",
    "          \"personne\" + accord_convives)\n",
    "    if q_oeuf > 1:\n",
    "        accord_oeuf = \"s\"\n",
    "    print(\"il vous faut\", q_oeuf, \"oeuf\" + accord_oeuf + \".\")"
   ]
  },
  {
   "cell_type": "markdown",
   "metadata": {
    "slideshow": {
     "slide_type": "slide"
    }
   },
   "source": [
    "### Exercice"
   ]
  },
  {
   "cell_type": "code",
   "execution_count": 19,
   "metadata": {
    "slideshow": {
     "slide_type": "-"
    }
   },
   "outputs": [
    {
     "name": "stdout",
     "output_type": "stream",
     "text": [
      "11.8\n"
     ]
    }
   ],
   "source": [
    "note_cc0 = 8.75\n",
    "note_cc1 = 12\n",
    "note_cc2 = 13\n",
    "\n",
    "coef_cc0 = 1\n",
    "coef_cc1 = 2\n",
    "coef_cc2 = 2\n",
    "\n",
    "somme_coefs = coef_cc0 + coef_cc1 + coef_cc2\n",
    "somme_notes = (coef_cc0 * note_cc0\n",
    "               + coef_cc1 * note_cc1\n",
    "               + coef_cc2 * note_cc2)\n",
    "\n",
    "moyenne = round(somme_notes / somme_coefs, 1)\n",
    "print(moyenne)"
   ]
  },
  {
   "cell_type": "markdown",
   "metadata": {
    "slideshow": {
     "slide_type": "-"
    }
   },
   "source": [
    "1. Lire le programme et prévoir la valeur de la variable `moyenne` après son exécution.\n",
    "2. Modifier le programme pour que la note de CC0 ne soit **pas** prise en compte si elle fait baisser la moyenne."
   ]
  },
  {
   "cell_type": "code",
   "execution_count": 20,
   "metadata": {
    "slideshow": {
     "slide_type": "subslide"
    }
   },
   "outputs": [],
   "source": [
    "note_cc0 = 8.75\n",
    "note_cc1 = 12\n",
    "note_cc2 = 13\n",
    "\n",
    "coef_cc0 = 1\n",
    "coef_cc1 = 2\n",
    "coef_cc2 = 2\n",
    "\n",
    "somme_coefs_sans = coef_cc1 + coef_cc2\n",
    "somme_notes_sans = (coef_cc1 * note_cc1\n",
    "               + coef_cc2 * note_cc2)\n",
    "moyenne_sans = somme_notes_sans / somme_coefs_sans\n",
    "\n",
    "somme_coefs_avec = coef_cc0 + coef_cc1 + coef_cc2\n",
    "somme_notes_avec = (coef_cc0 * note_cc0\n",
    "               + coef_cc1 * note_cc1\n",
    "               + coef_cc2 * note_cc2)\n",
    "moyenne_avec = somme_notes_avec / somme_coefs_avec\n",
    "\n",
    "if moyenne_sans < moyenne_avec:\n",
    "    moyenne = moyenne_avec\n",
    "else:\n",
    "    moyenne = moyenne_sans"
   ]
  },
  {
   "cell_type": "code",
   "execution_count": 21,
   "metadata": {
    "scrolled": true,
    "slideshow": {
     "slide_type": "-"
    }
   },
   "outputs": [
    {
     "data": {
      "text/plain": [
       "12.5"
      ]
     },
     "execution_count": 21,
     "metadata": {},
     "output_type": "execute_result"
    }
   ],
   "source": [
    "moyenne"
   ]
  },
  {
   "cell_type": "code",
   "execution_count": 26,
   "metadata": {
    "slideshow": {
     "slide_type": "subslide"
    }
   },
   "outputs": [],
   "source": [
    "note_cc0 = 18.75\n",
    "note_cc1 = 12\n",
    "note_cc2 = 13\n",
    "\n",
    "coef_cc0 = 1\n",
    "coef_cc1 = 2\n",
    "coef_cc2 = 2\n",
    "\n",
    "somme_coefs = coef_cc1 + coef_cc2\n",
    "somme_notes = (coef_cc1 * note_cc1\n",
    "               + coef_cc2 * note_cc2)\n",
    "\n",
    "moyenne = somme_notes / somme_coefs\n",
    "\n",
    "if note_cc0 > moyenne:\n",
    "    moyenne = (coef_cc0*note_cc0 + somme_notes) / (coef_cc0 + somme_coefs)\n",
    "    \n",
    "moyenne = round(moyenne, 1)"
   ]
  },
  {
   "cell_type": "code",
   "execution_count": 27,
   "metadata": {
    "slideshow": {
     "slide_type": "-"
    }
   },
   "outputs": [
    {
     "data": {
      "text/plain": [
       "13.8"
      ]
     },
     "execution_count": 27,
     "metadata": {},
     "output_type": "execute_result"
    }
   ],
   "source": [
    "moyenne"
   ]
  },
  {
   "cell_type": "markdown",
   "metadata": {
    "slideshow": {
     "slide_type": "slide"
    }
   },
   "source": [
    "## Expressions booléennes\n",
    "\n",
    "Les instructions conditionnelles sont écrites à l'aide d'**expressions booléennes**, c'est à dire d'expressions qui s'évaluent en un valeur de type `bool` (`True` ou `False`). Elles peuvent contenir des opérateurs de comparaison, des opérateurs logiques, etc."
   ]
  },
  {
   "cell_type": "markdown",
   "metadata": {
    "slideshow": {
     "slide_type": "slide"
    }
   },
   "source": [
    "### Opérateurs de comparaison\n",
    "\n",
    "```python\n",
    "a < b   # a strictement inférieur b\n",
    "a <= b  # a inférieur ou égal à b\n",
    "a >= b  # a supérieur ou égal à b\n",
    "a > b   # a strictement supérieur à b\n",
    "```\n",
    "\n",
    "- `a` et `b` sont des **expressions**\n",
    "- elles doivent s'évaluer en des valeurs **de même type** (sauf exceptions)"
   ]
  },
  {
   "cell_type": "markdown",
   "metadata": {
    "slideshow": {
     "slide_type": "subslide"
    }
   },
   "source": [
    "Les opérateurs de comparaison fonctionnent sur de nombreux types de valeurs\n",
    "- Sur les `int` et `float` : ordre habituel sur les nombres\n",
    "- Sur les `str` : ordre *lexicographique* (dictionnaire)\n",
    "- Sur d'autres types qu'on verra plus tard"
   ]
  },
  {
   "cell_type": "code",
   "execution_count": 28,
   "metadata": {
    "slideshow": {
     "slide_type": "subslide"
    }
   },
   "outputs": [
    {
     "data": {
      "text/plain": [
       "True"
      ]
     },
     "execution_count": 28,
     "metadata": {},
     "output_type": "execute_result"
    }
   ],
   "source": [
    "12 < 13"
   ]
  },
  {
   "cell_type": "code",
   "execution_count": 29,
   "metadata": {
    "slideshow": {
     "slide_type": "-"
    }
   },
   "outputs": [
    {
     "data": {
      "text/plain": [
       "True"
      ]
     },
     "execution_count": 29,
     "metadata": {},
     "output_type": "execute_result"
    }
   ],
   "source": [
    "12 <= 12.0"
   ]
  },
  {
   "cell_type": "code",
   "execution_count": 30,
   "metadata": {},
   "outputs": [
    {
     "data": {
      "text/plain": [
       "False"
      ]
     },
     "execution_count": 30,
     "metadata": {},
     "output_type": "execute_result"
    }
   ],
   "source": [
    "3*0.1 <= 0.3"
   ]
  },
  {
   "cell_type": "code",
   "execution_count": 31,
   "metadata": {
    "slideshow": {
     "slide_type": "-"
    }
   },
   "outputs": [
    {
     "data": {
      "text/plain": [
       "False"
      ]
     },
     "execution_count": 31,
     "metadata": {},
     "output_type": "execute_result"
    }
   ],
   "source": [
    "\"informatique\" > \"math\""
   ]
  },
  {
   "cell_type": "markdown",
   "metadata": {
    "slideshow": {
     "slide_type": "subslide"
    }
   },
   "source": [
    "<img src='../img/warning.png' width='50px' style='display:inline'> **Rappel :** on ne peut pas ordonner des valeurs de types différents (sauf des nombres) ! "
   ]
  },
  {
   "cell_type": "code",
   "execution_count": 32,
   "metadata": {
    "slideshow": {
     "slide_type": "-"
    }
   },
   "outputs": [
    {
     "data": {
      "text/plain": [
       "True"
      ]
     },
     "execution_count": 32,
     "metadata": {},
     "output_type": "execute_result"
    }
   ],
   "source": [
    "1.0 < 2"
   ]
  },
  {
   "cell_type": "code",
   "execution_count": 33,
   "metadata": {
    "slideshow": {
     "slide_type": "-"
    }
   },
   "outputs": [
    {
     "ename": "TypeError",
     "evalue": "'<' not supported between instances of 'str' and 'int'",
     "output_type": "error",
     "traceback": [
      "\u001b[0;31m---------------------------------------------------------------------------\u001b[0m",
      "\u001b[0;31mTypeError\u001b[0m                                 Traceback (most recent call last)",
      "Cell \u001b[0;32mIn [33], line 1\u001b[0m\n\u001b[0;32m----> 1\u001b[0m \u001b[38;5;124;43m'\u001b[39;49m\u001b[38;5;124;43m1\u001b[39;49m\u001b[38;5;124;43m'\u001b[39;49m\u001b[43m \u001b[49m\u001b[38;5;241;43m<\u001b[39;49m\u001b[43m \u001b[49m\u001b[38;5;241;43m2\u001b[39;49m\n",
      "\u001b[0;31mTypeError\u001b[0m: '<' not supported between instances of 'str' and 'int'"
     ]
    }
   ],
   "source": [
    "'1' < 2"
   ]
  },
  {
   "cell_type": "markdown",
   "metadata": {
    "slideshow": {
     "slide_type": "slide"
    }
   },
   "source": [
    "### Égalité ou inégalité \n",
    "\n",
    "```python\n",
    "a == b  # a égal à b\n",
    "a != b  # a différent de b\n",
    "```\n",
    "\n",
    "- `a` et `b` sont des **expressions**\n",
    "- elles peuvent être de types différents"
   ]
  },
  {
   "cell_type": "code",
   "execution_count": 34,
   "metadata": {
    "slideshow": {
     "slide_type": "subslide"
    }
   },
   "outputs": [
    {
     "data": {
      "text/plain": [
       "True"
      ]
     },
     "execution_count": 34,
     "metadata": {},
     "output_type": "execute_result"
    }
   ],
   "source": [
    "17 % 2 == 1"
   ]
  },
  {
   "cell_type": "code",
   "execution_count": 35,
   "metadata": {
    "slideshow": {
     "slide_type": "subslide"
    }
   },
   "outputs": [
    {
     "data": {
      "text/plain": [
       "True"
      ]
     },
     "execution_count": 35,
     "metadata": {},
     "output_type": "execute_result"
    }
   ],
   "source": [
    "a = -5\n",
    "a != abs(a)"
   ]
  },
  {
   "cell_type": "code",
   "execution_count": 36,
   "metadata": {
    "slideshow": {
     "slide_type": "subslide"
    }
   },
   "outputs": [
    {
     "data": {
      "text/plain": [
       "True"
      ]
     },
     "execution_count": 36,
     "metadata": {},
     "output_type": "execute_result"
    }
   ],
   "source": [
    "1.0 == 3 - 2  # l'égalité fonctionne aussi avec les float..."
   ]
  },
  {
   "cell_type": "code",
   "execution_count": 37,
   "metadata": {
    "slideshow": {
     "slide_type": "-"
    }
   },
   "outputs": [
    {
     "data": {
      "text/plain": [
       "False"
      ]
     },
     "execution_count": 37,
     "metadata": {},
     "output_type": "execute_result"
    }
   ],
   "source": [
    "0.3 == 3 * 0.1  # mais réserve parfois des surprises"
   ]
  },
  {
   "cell_type": "markdown",
   "metadata": {
    "slideshow": {
     "slide_type": "subslide"
    }
   },
   "source": [
    "Les opérateurs `==` et `!=` acceptent des opérandes de types différents\n",
    "- renvoie généralement `False` si les opérandes sont de types différents\n",
    "- sauf parfois entre nombres"
   ]
  },
  {
   "cell_type": "code",
   "execution_count": 38,
   "metadata": {
    "slideshow": {
     "slide_type": "-"
    }
   },
   "outputs": [
    {
     "data": {
      "text/plain": [
       "False"
      ]
     },
     "execution_count": 38,
     "metadata": {},
     "output_type": "execute_result"
    }
   ],
   "source": [
    "2 == '2'"
   ]
  },
  {
   "cell_type": "code",
   "execution_count": 39,
   "metadata": {
    "slideshow": {
     "slide_type": "-"
    }
   },
   "outputs": [
    {
     "data": {
      "text/plain": [
       "True"
      ]
     },
     "execution_count": 39,
     "metadata": {},
     "output_type": "execute_result"
    }
   ],
   "source": [
    "'bonjour' != None"
   ]
  },
  {
   "cell_type": "code",
   "execution_count": 40,
   "metadata": {
    "slideshow": {
     "slide_type": "-"
    }
   },
   "outputs": [
    {
     "data": {
      "text/plain": [
       "True"
      ]
     },
     "execution_count": 40,
     "metadata": {},
     "output_type": "execute_result"
    }
   ],
   "source": [
    "2 == 2.0  # Cas particulier : vrai car float(2) == 2.0"
   ]
  },
  {
   "cell_type": "markdown",
   "metadata": {
    "slideshow": {
     "slide_type": "subslide"
    }
   },
   "source": [
    "<img src='img/warning.png' width='50px' style='display:inline'> **Attention !** Ne pas confondre l'opérateur d'égalité (`==`) avec la syntaxe de l'affectation (`=`) !"
   ]
  },
  {
   "cell_type": "markdown",
   "metadata": {
    "slideshow": {
     "slide_type": "slide"
    }
   },
   "source": [
    "### Opérateurs logiques\n",
    "\n",
    "On peut combiner plusieurs expressions booléennes `a` et `b` à l'aide d'opérateurs logiques, inspirés de la logique mathématique.\n",
    "\n",
    "On peut résumer le comportement de ces opérateurs à l'aide de tableaux, appelés **tables de vérité**."
   ]
  },
  {
   "cell_type": "markdown",
   "metadata": {
    "slideshow": {
     "slide_type": "subslide"
    }
   },
   "source": [
    "#### Négation\n",
    "\n",
    "L'expression `not a` vaut `True` si `a` s'évalue en `False`, et `False` sinon (correspond à $\\lnot a$).\n",
    "\n",
    "`a`     | `not a` \n",
    "--------|---------\n",
    "`True`  | `False`\n",
    "`False` | `True`   "
   ]
  },
  {
   "cell_type": "markdown",
   "metadata": {
    "slideshow": {
     "slide_type": "subslide"
    }
   },
   "source": [
    "#### Conjonction\n",
    "\n",
    "L'expression `a and b` vaut `True` si `a` et `b` s'évaluent toutes les deux en `True`, et `False` sinon (correspond à $a \\land b$).\n",
    "\n",
    "`a`| `b` | `a and  b`\n",
    "---|---|---\n",
    "`True` | `True` | `True` \n",
    "`True` | `False` | `False` \n",
    "`False` | `True` | `False` \n",
    "`False` | `False` | `False`"
   ]
  },
  {
   "cell_type": "markdown",
   "metadata": {
    "slideshow": {
     "slide_type": "subslide"
    }
   },
   "source": [
    "#### Disjonction\n",
    "\n",
    "L'expression `a or b` vaut `True` si `a` s'évalue en `True` ou `b` s'évalue en `True`, et  `False` sinon (correspond à $a \\lor b$).\n",
    "\n",
    "`a` | `b` | `a or  b`\n",
    "---|---|---\n",
    "`True` | `True` | `True` \n",
    "`True` | `False` | `True` \n",
    "`False` | `True` | `True` \n",
    "`False` | `False` | `False`"
   ]
  },
  {
   "cell_type": "code",
   "execution_count": 41,
   "metadata": {
    "slideshow": {
     "slide_type": "subslide"
    }
   },
   "outputs": [
    {
     "data": {
      "text/plain": [
       "True"
      ]
     },
     "execution_count": 41,
     "metadata": {},
     "output_type": "execute_result"
    }
   ],
   "source": [
    "not (3 + 4 != 7)"
   ]
  },
  {
   "cell_type": "code",
   "execution_count": 42,
   "metadata": {
    "slideshow": {
     "slide_type": "-"
    }
   },
   "outputs": [
    {
     "data": {
      "text/plain": [
       "True"
      ]
     },
     "execution_count": 42,
     "metadata": {},
     "output_type": "execute_result"
    }
   ],
   "source": [
    "4 < 1 or 'Bonjour' >= 'Au revoir'"
   ]
  },
  {
   "cell_type": "markdown",
   "metadata": {
    "slideshow": {
     "slide_type": "subslide"
    }
   },
   "source": [
    "<img src='img/non-exigible.png' width='50px' style='float:left'> En réalité les opérateurs `and` et `or` ont un comportement un peu spécial appelé **évaluation séquentielle** : on n'évalue le deuxième opérande que si c'est nécessaire pour déterminer le résultat.\n",
    "\n",
    "- `a and b` est à peu près équivalent à `b if a else a`\n",
    "- `a or b` est à peu près équivalent à `a if a else b`"
   ]
  },
  {
   "cell_type": "markdown",
   "metadata": {
    "slideshow": {
     "slide_type": "subslide"
    }
   },
   "source": [
    "Cela signifie qu'on n'évalue pas toujours `b` dans `a and b` et dans `a or b`. Par exemple :"
   ]
  },
  {
   "cell_type": "code",
   "execution_count": 43,
   "metadata": {
    "slideshow": {
     "slide_type": "-"
    }
   },
   "outputs": [
    {
     "ename": "ZeroDivisionError",
     "evalue": "division by zero",
     "output_type": "error",
     "traceback": [
      "\u001b[0;31m---------------------------------------------------------------------------\u001b[0m",
      "\u001b[0;31mZeroDivisionError\u001b[0m                         Traceback (most recent call last)",
      "Cell \u001b[0;32mIn [43], line 1\u001b[0m\n\u001b[0;32m----> 1\u001b[0m \u001b[38;5;241;43m1\u001b[39;49m\u001b[38;5;241;43m/\u001b[39;49m\u001b[38;5;241;43m0\u001b[39;49m\n",
      "\u001b[0;31mZeroDivisionError\u001b[0m: division by zero"
     ]
    }
   ],
   "source": [
    "1/0  # erreur : division par 0"
   ]
  },
  {
   "cell_type": "code",
   "execution_count": 44,
   "metadata": {
    "slideshow": {
     "slide_type": "-"
    }
   },
   "outputs": [
    {
     "data": {
      "text/plain": [
       "True"
      ]
     },
     "execution_count": 44,
     "metadata": {},
     "output_type": "execute_result"
    }
   ],
   "source": [
    "True or 1/0 == 1    # ne provoque pas d'erreur !"
   ]
  },
  {
   "cell_type": "code",
   "execution_count": 45,
   "metadata": {
    "slideshow": {
     "slide_type": "-"
    }
   },
   "outputs": [
    {
     "data": {
      "text/plain": [
       "False"
      ]
     },
     "execution_count": 45,
     "metadata": {},
     "output_type": "execute_result"
    }
   ],
   "source": [
    "False and 1/0 == 1  # ne provoque pas d'erreur !"
   ]
  },
  {
   "cell_type": "markdown",
   "metadata": {
    "slideshow": {
     "slide_type": "subslide"
    }
   },
   "source": [
    "<img src='img/non-exigible.png' width='50px' style='float:left'> En Python, presque tout objet possède une valeur de vérité et peut s'utiliser comme un booléen... mais les règles sont un peu complexes.\n",
    "\n",
    "Par exemple :\n",
    "\n",
    "- les nombres égaux à 0 sont interprétés comme \"faux\"\n",
    "- la chaîne vide est interprétée comme \"faux\"\n",
    "- la valeur `None` est interprétée comme \"faux\", etc.\n",
    "\n",
    "Tout le reste est interprété comme \"vrai\""
   ]
  },
  {
   "cell_type": "markdown",
   "metadata": {
    "slideshow": {
     "slide_type": "subslide"
    }
   },
   "source": [
    "Si on combine ces deux aspects du langage, ça peut donner des choses assez surprenantes..."
   ]
  },
  {
   "cell_type": "code",
   "execution_count": 46,
   "metadata": {
    "slideshow": {
     "slide_type": "-"
    }
   },
   "outputs": [
    {
     "data": {
      "text/plain": [
       "'courgette'"
      ]
     },
     "execution_count": 46,
     "metadata": {},
     "output_type": "execute_result"
    }
   ],
   "source": [
    "'patate' and 'courgette'"
   ]
  },
  {
   "cell_type": "code",
   "execution_count": 47,
   "metadata": {
    "slideshow": {
     "slide_type": "-"
    }
   },
   "outputs": [
    {
     "data": {
      "text/plain": [
       "'patate'"
      ]
     },
     "execution_count": 47,
     "metadata": {},
     "output_type": "execute_result"
    }
   ],
   "source": [
    "'patate' or 'courgette'"
   ]
  },
  {
   "cell_type": "markdown",
   "metadata": {
    "slideshow": {
     "slide_type": "-"
    }
   },
   "source": [
    "Ce comportement est largement **hors programme** et non exigible !"
   ]
  },
  {
   "cell_type": "markdown",
   "metadata": {
    "slideshow": {
     "slide_type": "slide"
    }
   },
   "source": [
    "### Quelques règles utiles"
   ]
  },
  {
   "cell_type": "markdown",
   "metadata": {
    "slideshow": {
     "slide_type": "-"
    }
   },
   "source": [
    "#### Lois de De Morgan\n",
    "\n",
    "- dire \"non (a ou b)\" revient à dire \"(non a) et (non b)\"\n",
    "- dire \"non (a et b)\" revient à dire \"(non a) ou (non b)\"\n",
    "\n",
    "En Python :\n",
    "\n",
    "```python\n",
    "not (a and b) == (not a) or (not b)  # vrai pour tous a et b\n",
    "not (a or b) == (not a) and (not b)  # vrai pour tous a et b\n",
    "```"
   ]
  },
  {
   "cell_type": "markdown",
   "metadata": {
    "slideshow": {
     "slide_type": "subslide"
    }
   },
   "source": [
    "#### Distributivité\n",
    "\n",
    "- la conjonction est distributive sur la disjonction\n",
    "- la disjonction est distributive sur la conjonction\n",
    "\n",
    "En Python :\n",
    "\n",
    "```python\n",
    "a and (b or c) == (a and b) or (a and c)  # vrai pour tous a, b et c\n",
    "a or (b and c) == (a or b) and (a or c)   # vrai pour tous a, b et c\n",
    "```"
   ]
  },
  {
   "cell_type": "markdown",
   "metadata": {
    "slideshow": {
     "slide_type": "subslide"
    }
   },
   "source": [
    "#### Commutativité\n",
    "\n",
    "- `a and b` est (presque) équivalente à `b and a`\n",
    "- `a or b` est (presque) équivalente à `b or a`"
   ]
  },
  {
   "cell_type": "markdown",
   "metadata": {
    "slideshow": {
     "slide_type": "subslide"
    }
   },
   "source": [
    "#### Absorption\n",
    "\n",
    "- `a or True` est (presque) équivalente à `True`\n",
    "- `True or a` est équivalente à `True`"
   ]
  },
  {
   "cell_type": "markdown",
   "metadata": {
    "slideshow": {
     "slide_type": "-"
    }
   },
   "source": [
    "- `a and False` est (presque) équivalente à `False`\n",
    "- `False and a` est équivalente à `False`"
   ]
  },
  {
   "cell_type": "markdown",
   "metadata": {
    "slideshow": {
     "slide_type": "subslide"
    }
   },
   "source": [
    "#### Invariance\n",
    "\n",
    "- `a and True` est (presque) équivalente à `a`\n",
    "- `True and a` est équivalente à `a`"
   ]
  },
  {
   "cell_type": "markdown",
   "metadata": {
    "slideshow": {
     "slide_type": "-"
    }
   },
   "source": [
    "- `a or False` est (presque) équivalente à `a`\n",
    "- `False or a` est équivalente à `a`"
   ]
  },
  {
   "cell_type": "markdown",
   "metadata": {
    "slideshow": {
     "slide_type": "subslide"
    }
   },
   "source": [
    "#### Égalité et négation\n",
    "\n",
    "- `not a == b` est équivalent à `a != b`\n",
    "- `not a != b` est équivalent à `a == b`"
   ]
  },
  {
   "cell_type": "markdown",
   "metadata": {
    "slideshow": {
     "slide_type": "subslide"
    }
   },
   "source": [
    "#### Comparaisons et opérateurs logiques\n",
    "\n",
    "- `a < b` est équivalent à `a <= b and a != b`\n",
    "- `a <= b` est équivalent à `a < b or a == b`\n",
    "- `a > b` est équivalent à `a >= b and a != b`\n",
    "- `a >= b` est équivalent à `a > b or a == b`"
   ]
  },
  {
   "cell_type": "markdown",
   "metadata": {
    "slideshow": {
     "slide_type": "subslide"
    }
   },
   "source": [
    "#### Comparaisons et négation\n",
    "\n",
    "- `not a < b` est équivalent à `a >= b` ou encore `b <= a`\n",
    "- `not a <= b` est équivalent à `a > b` ou encore `b < a`\n",
    "- `not a > b` est équivalent à `a <= b` ou encore `b >= a`\n",
    "- `not a >= b` est équivalent à `a < b` ou encore `b > a`"
   ]
  },
  {
   "cell_type": "markdown",
   "metadata": {
    "slideshow": {
     "slide_type": "subslide"
    }
   },
   "source": [
    "### Exercice : intervalle fermé\n",
    "\n",
    "Étant données trois variables `x`, `inf` et `sup` désignant des nombres,\n",
    "1. écrire une expression booléenne qui vaut `True` si `x` est compris entre `inf` et `sup` et `False` sinon\n",
    "2. écrire une expression booléenne qui vaut `True` si `x` n'est **pas** compris entre `inf` et `sup` et `False` sinon\n",
    "3. même question que 1., mais sans utiliser `and`\n",
    "3. même question que 2., mais sans utiliser `or`"
   ]
  },
  {
   "cell_type": "code",
   "execution_count": 51,
   "metadata": {
    "slideshow": {
     "slide_type": "subslide"
    }
   },
   "outputs": [
    {
     "data": {
      "text/plain": [
       "False"
      ]
     },
     "execution_count": 51,
     "metadata": {},
     "output_type": "execute_result"
    }
   ],
   "source": [
    "x = -1\n",
    "inf, sup = 0, 10\n",
    "x >= inf and x <= sup"
   ]
  },
  {
   "cell_type": "code",
   "execution_count": 54,
   "metadata": {
    "slideshow": {
     "slide_type": "subslide"
    }
   },
   "outputs": [
    {
     "data": {
      "text/plain": [
       "True"
      ]
     },
     "execution_count": 54,
     "metadata": {},
     "output_type": "execute_result"
    }
   ],
   "source": [
    "x = -1\n",
    "inf, sup = 0, 10\n",
    "x < inf or x > sup"
   ]
  },
  {
   "cell_type": "code",
   "execution_count": 55,
   "metadata": {
    "slideshow": {
     "slide_type": "subslide"
    }
   },
   "outputs": [
    {
     "data": {
      "text/plain": [
       "True"
      ]
     },
     "execution_count": 55,
     "metadata": {},
     "output_type": "execute_result"
    }
   ],
   "source": [
    "x = 1\n",
    "inf, sup = 0, 10\n",
    "not (x < inf or x > sup)"
   ]
  },
  {
   "cell_type": "code",
   "execution_count": 56,
   "metadata": {
    "slideshow": {
     "slide_type": "subslide"
    }
   },
   "outputs": [
    {
     "data": {
      "text/plain": [
       "True"
      ]
     },
     "execution_count": 56,
     "metadata": {},
     "output_type": "execute_result"
    }
   ],
   "source": [
    "x = 12\n",
    "inf, sup = 0, 10\n",
    "not (x >= inf and x <= sup)"
   ]
  },
  {
   "cell_type": "markdown",
   "metadata": {
    "slideshow": {
     "slide_type": "subslide"
    }
   },
   "source": [
    "### Enchaînement de comparaisons\n",
    "\n",
    "<img src='img/non-exigible.png' width='50px' style='float:left'> En Python on peut rassembler plusieurs comparaisons successives en une seule expression (c'est impossible dans de nombreux autres langages)."
   ]
  },
  {
   "cell_type": "markdown",
   "metadata": {
    "slideshow": {
     "slide_type": "subslide"
    }
   },
   "source": [
    "Si `£` et `¥` représentent des opérateurs de comparaison, \n",
    "```python\n",
    "exp1 £ exp2 ¥ exp3\n",
    "```\n",
    "est une abréviation de \n",
    "```python\n",
    "exp1 £ exp2 and exp2 ¥ exp3\n",
    "```"
   ]
  },
  {
   "cell_type": "code",
   "execution_count": 58,
   "metadata": {
    "slideshow": {
     "slide_type": "subslide"
    }
   },
   "outputs": [
    {
     "data": {
      "text/plain": [
       "True"
      ]
     },
     "execution_count": 58,
     "metadata": {},
     "output_type": "execute_result"
    }
   ],
   "source": [
    "x, inf, sup = 1, 0, 10\n",
    "inf <= x <= sup"
   ]
  },
  {
   "cell_type": "code",
   "execution_count": 60,
   "metadata": {
    "slideshow": {
     "slide_type": "-"
    }
   },
   "outputs": [
    {
     "data": {
      "text/plain": [
       "False"
      ]
     },
     "execution_count": 60,
     "metadata": {},
     "output_type": "execute_result"
    }
   ],
   "source": [
    "a, b, c = 1, 1, 2\n",
    "a == b == c"
   ]
  },
  {
   "cell_type": "markdown",
   "metadata": {
    "slideshow": {
     "slide_type": "subslide"
    }
   },
   "source": [
    "**Attention**, cela mène parfois à des écritures un peu bizarres..."
   ]
  },
  {
   "cell_type": "code",
   "execution_count": 61,
   "metadata": {
    "slideshow": {
     "slide_type": "-"
    }
   },
   "outputs": [
    {
     "data": {
      "text/plain": [
       "True"
      ]
     },
     "execution_count": 61,
     "metadata": {},
     "output_type": "execute_result"
    }
   ],
   "source": [
    "x, inf, sup = 1, 4, 10\n",
    "inf < sup > x  # ???"
   ]
  },
  {
   "cell_type": "code",
   "execution_count": 63,
   "metadata": {
    "slideshow": {
     "slide_type": "-"
    }
   },
   "outputs": [
    {
     "data": {
      "text/plain": [
       "True"
      ]
     },
     "execution_count": 63,
     "metadata": {},
     "output_type": "execute_result"
    }
   ],
   "source": [
    "a = 1\n",
    "b = 2\n",
    "c = 1\n",
    "a != b != c"
   ]
  },
  {
   "cell_type": "markdown",
   "metadata": {
    "slideshow": {
     "slide_type": "subslide"
    }
   },
   "source": [
    "### Exercice : multiple de 3 ou 5\n",
    "\n",
    "Étant donnée une variable `x` désignant un nombre,\n",
    "1. écrire deux expressions booléennes différentes qui valent `True` si `x` est un multiple de 3 et de 5 et `False` sinon, \n",
    "2. écrire deux expressions booléennes différentes qui valent `True` si `x` n'est un multiple ni de 3 ni de 5 et `False` sinon."
   ]
  },
  {
   "cell_type": "markdown",
   "metadata": {
    "slideshow": {
     "slide_type": "subslide"
    }
   },
   "source": [
    "### Exercice\n",
    "\n",
    "Donner le résultat des expressions logiques suivantes pour les valeurs indiquées de `a`, `b` et `c`"
   ]
  },
  {
   "cell_type": "code",
   "execution_count": null,
   "metadata": {
    "slideshow": {
     "slide_type": "subslide"
    }
   },
   "outputs": [],
   "source": [
    "a, b, c = 10, 2, 6\n",
    "a < b or a > c"
   ]
  },
  {
   "cell_type": "code",
   "execution_count": null,
   "metadata": {
    "slideshow": {
     "slide_type": "subslide"
    }
   },
   "outputs": [],
   "source": [
    "a, b, c = 10, 2, 6\n",
    "a + b < 2 * c"
   ]
  },
  {
   "cell_type": "code",
   "execution_count": null,
   "metadata": {
    "slideshow": {
     "slide_type": "subslide"
    }
   },
   "outputs": [],
   "source": [
    "a, b, c = 10, 2, 6\n",
    "a - b == b + c"
   ]
  },
  {
   "cell_type": "code",
   "execution_count": null,
   "metadata": {
    "slideshow": {
     "slide_type": "subslide"
    }
   },
   "outputs": [],
   "source": [
    "a, b, c = 10, 2, 6\n",
    "(a > b and a > c) or (b > a and b > c)"
   ]
  },
  {
   "cell_type": "code",
   "execution_count": null,
   "metadata": {
    "slideshow": {
     "slide_type": "subslide"
    }
   },
   "outputs": [],
   "source": [
    "a, b, c = 10, 2, 6\n",
    "a < b < c"
   ]
  },
  {
   "cell_type": "code",
   "execution_count": null,
   "metadata": {
    "slideshow": {
     "slide_type": "subslide"
    }
   },
   "outputs": [],
   "source": [
    "a, b, c = 10, 2, 6\n",
    "a == b == c"
   ]
  },
  {
   "cell_type": "code",
   "execution_count": null,
   "metadata": {
    "slideshow": {
     "slide_type": "subslide"
    }
   },
   "outputs": [],
   "source": [
    "a, b, c = 10, 2, 6\n",
    "(a <= b and a <= c) or not (b < a)"
   ]
  },
  {
   "cell_type": "code",
   "execution_count": null,
   "metadata": {
    "slideshow": {
     "slide_type": "subslide"
    }
   },
   "outputs": [],
   "source": [
    "a, b, c = 10, 2, 6\n",
    "not (a > b and a > c) or (b > a and b > c)"
   ]
  },
  {
   "cell_type": "markdown",
   "metadata": {
    "slideshow": {
     "slide_type": "slide"
    }
   },
   "source": [
    "## Instructions conditionnelles"
   ]
  },
  {
   "cell_type": "markdown",
   "metadata": {
    "slideshow": {
     "slide_type": "subslide"
    }
   },
   "source": [
    "### Cas simple : Conditionnelle `Si`\n",
    "\n",
    "On peut maintenant modifier le flot d'instructions selon la valeur d'expressions booléennes, ou conditions :\n",
    "\n",
    "- **Si** une certaine condition est vraie, exécuter un certain groupe (ou bloc) d'instructions\n",
    "- **Sinon**, passer directement à la suite du programme"
   ]
  },
  {
   "cell_type": "markdown",
   "metadata": {
    "slideshow": {
     "slide_type": "subslide"
    }
   },
   "source": [
    "<img src='img/conditionnelle1.png' width='300px'>"
   ]
  },
  {
   "cell_type": "markdown",
   "metadata": {
    "slideshow": {
     "slide_type": "subslide"
    }
   },
   "source": [
    "La syntaxe d'une instruction conditionnelle est :\n",
    "\n",
    "```python\n",
    "# début\n",
    "if condition:\n",
    "    # bloc \n",
    "    # d'instructions\n",
    "    # indenté\n",
    "# suite (*)\n",
    "```\n",
    "\n",
    "- Ici `condition` est une expression booléenne\n",
    "- Les instructions du bloc **v** sont exécutées uniquement si `condition` est évaluée à `True`\n",
    "- Dans tous les cas, l'exécution reprend à l'instruction suivant le bloc indenté (ligne `(*)`)"
   ]
  },
  {
   "cell_type": "markdown",
   "metadata": {
    "slideshow": {
     "slide_type": "subslide"
    }
   },
   "source": [
    "#### Exemple : mettre deux chaînes dans l'ordre\n",
    "\n",
    "Supposons qu'il existe deux variables `a` et `b` désignant des `str`. \n",
    "\n",
    "Écrire un bout de programme qui modifie ces variables pour que `a` désigne la plus petite chaîne et `b` la plus grande (dans l'ordre lexicographique)"
   ]
  },
  {
   "cell_type": "code",
   "execution_count": 69,
   "metadata": {
    "slideshow": {
     "slide_type": "subslide"
    }
   },
   "outputs": [
    {
     "name": "stdout",
     "output_type": "stream",
     "text": [
      "truc\n",
      "bidule\n",
      "bidule truc\n"
     ]
    }
   ],
   "source": [
    "a = input()\n",
    "b = input()\n",
    "if a > b:\n",
    "    # on intervertit les valeurs\n",
    "    temp = a  # variable temporaire\n",
    "    a = b\n",
    "    b = temp\n",
    "print(a, b)"
   ]
  },
  {
   "cell_type": "code",
   "execution_count": 67,
   "metadata": {
    "slideshow": {
     "slide_type": "subslide"
    }
   },
   "outputs": [
    {
     "name": "stdout",
     "output_type": "stream",
     "text": [
      "patate\n",
      "courgette\n",
      "courgette patate\n"
     ]
    }
   ],
   "source": [
    "a = input()\n",
    "b = input()\n",
    "if a > b:\n",
    "    # variante\n",
    "    a, b = b, a\n",
    "print(a, b)"
   ]
  },
  {
   "cell_type": "markdown",
   "metadata": {
    "slideshow": {
     "slide_type": "slide"
    }
   },
   "source": [
    "### La notion de bloc\n",
    "\n",
    "Sur cet exemple, on a vu un groupe de lignes commençant par des espaces, appelé **bloc**. Un bloc est utilisé pour regrouper plusieurs instructions dépendant de la même condition.\n",
    "\n",
    "- Un tel groupe d'instructions est appelé un **bloc**\n",
    "- Le décalage du début de ligne est appelé **indentation**\n",
    "- Un bloc se termine quand une ligne **moins indentée** apparaît (sur l'exemple : `print(a, b)`)"
   ]
  },
  {
   "cell_type": "markdown",
   "metadata": {
    "slideshow": {
     "slide_type": "subslide"
    }
   },
   "source": [
    "- Pour indenter la ligne courante : touche \"tabulation\" (⇥) \n",
    "- Pour désindenter une ligne : \"Shift + tabulation\" (⇧ + ⇥)\n",
    "- Changer l'indentation change le sens du programme (essayer !)"
   ]
  },
  {
   "cell_type": "markdown",
   "metadata": {
    "slideshow": {
     "slide_type": "slide"
    }
   },
   "source": [
    "#### Erreurs fréquentes liées à l'indentation :"
   ]
  },
  {
   "cell_type": "code",
   "execution_count": 70,
   "metadata": {
    "slideshow": {
     "slide_type": "-"
    }
   },
   "outputs": [
    {
     "ename": "SyntaxError",
     "evalue": "expected ':' (575603165.py, line 1)",
     "output_type": "error",
     "traceback": [
      "\u001b[0;36m  Cell \u001b[0;32mIn [70], line 1\u001b[0;36m\u001b[0m\n\u001b[0;31m    if a > b  # oubli des deux points (:)\u001b[0m\n\u001b[0m              ^\u001b[0m\n\u001b[0;31mSyntaxError\u001b[0m\u001b[0;31m:\u001b[0m expected ':'\n"
     ]
    }
   ],
   "source": [
    "if a > b  # oubli des deux points (:)\n",
    "    temp = a\n",
    "    a = b\n",
    "    b = temp"
   ]
  },
  {
   "cell_type": "code",
   "execution_count": 72,
   "metadata": {
    "slideshow": {
     "slide_type": "subslide"
    }
   },
   "outputs": [
    {
     "ename": "IndentationError",
     "evalue": "unindent does not match any outer indentation level (<tokenize>, line 4)",
     "output_type": "error",
     "traceback": [
      "\u001b[0;36m  File \u001b[0;32m<tokenize>:4\u001b[0;36m\u001b[0m\n\u001b[0;31m    b = temp  # ligne pas assez indentée\u001b[0m\n\u001b[0m    ^\u001b[0m\n\u001b[0;31mIndentationError\u001b[0m\u001b[0;31m:\u001b[0m unindent does not match any outer indentation level\n"
     ]
    }
   ],
   "source": [
    "if a > b:\n",
    "    temp = a\n",
    "    a = b\n",
    "   b = temp  # ligne pas assez indentée "
   ]
  },
  {
   "cell_type": "code",
   "execution_count": 73,
   "metadata": {
    "slideshow": {
     "slide_type": "subslide"
    }
   },
   "outputs": [
    {
     "ename": "IndentationError",
     "evalue": "unexpected indent (2307555162.py, line 4)",
     "output_type": "error",
     "traceback": [
      "\u001b[0;36m  Cell \u001b[0;32mIn [73], line 4\u001b[0;36m\u001b[0m\n\u001b[0;31m    b = temp  # ligne trop indentée\u001b[0m\n\u001b[0m    ^\u001b[0m\n\u001b[0;31mIndentationError\u001b[0m\u001b[0;31m:\u001b[0m unexpected indent\n"
     ]
    }
   ],
   "source": [
    "if a > b:\n",
    "    temp = a\n",
    "    a = b\n",
    "     b = temp  # ligne trop indentée "
   ]
  },
  {
   "cell_type": "code",
   "execution_count": 74,
   "metadata": {
    "slideshow": {
     "slide_type": "subslide"
    }
   },
   "outputs": [
    {
     "ename": "IndentationError",
     "evalue": "expected an indented block after 'if' statement on line 1 (3620574185.py, line 2)",
     "output_type": "error",
     "traceback": [
      "\u001b[0;36m  Cell \u001b[0;32mIn [74], line 2\u001b[0;36m\u001b[0m\n\u001b[0;31m    a, b = b, a  # oubli d'indentation\u001b[0m\n\u001b[0m    ^\u001b[0m\n\u001b[0;31mIndentationError\u001b[0m\u001b[0;31m:\u001b[0m expected an indented block after 'if' statement on line 1\n"
     ]
    }
   ],
   "source": [
    "if a > b:\n",
    "a, b = b, a  # oubli d'indentation"
   ]
  },
  {
   "cell_type": "markdown",
   "metadata": {
    "slideshow": {
     "slide_type": "slide"
    }
   },
   "source": [
    "### Conditionnelles `Si ... Sinon ...`\n",
    "\n",
    "\n",
    "\n",
    "On peut ajouter un second bloc d'instructions\n",
    "- **Si** une certaine condition est vraie, exécuter le premier bloc\n",
    "- **Sinon**, exécuter le second\n",
    "- Enfin, continuer l'exécution normale du programme"
   ]
  },
  {
   "cell_type": "markdown",
   "metadata": {
    "slideshow": {
     "slide_type": "subslide"
    }
   },
   "source": [
    "Syntaxe :\n",
    "\n",
    "```python\n",
    "# début\n",
    "if condition:\n",
    "    # bloc v\n",
    "else:\n",
    "    # bloc f\n",
    "# suite\n",
    "```\n",
    "\n",
    "Ici `condition` est une expression booléenne"
   ]
  },
  {
   "cell_type": "markdown",
   "metadata": {
    "slideshow": {
     "slide_type": "subslide"
    }
   },
   "source": [
    "Seul *l'un des deux* blocs d'instructions, **v** *ou bien* **f**, est exécuté\n",
    "- Le bloc **v** uniquement si `condition` est évaluée à `True`\n",
    "- Le bloc **f** uniquement si `condition` est évaluée à `False`\n",
    "- Dans tous les cas, reprise à l'instruction suivant le bloc **f**"
   ]
  },
  {
   "cell_type": "markdown",
   "metadata": {
    "slideshow": {
     "slide_type": "subslide"
    }
   },
   "source": [
    "<img src='img/conditionnelle2.png' width='30%'>"
   ]
  },
  {
   "cell_type": "markdown",
   "metadata": {
    "slideshow": {
     "slide_type": "subslide"
    }
   },
   "source": [
    "#### Exemple : division euclidienne"
   ]
  },
  {
   "cell_type": "code",
   "execution_count": 76,
   "metadata": {
    "slideshow": {
     "slide_type": "fragment"
    }
   },
   "outputs": [
    {
     "name": "stdout",
     "output_type": "stream",
     "text": [
      "Donner moi un dividende : 14\n",
      "Donner moi un diviseur : 0\n",
      "Erreur : division par zéro\n"
     ]
    }
   ],
   "source": [
    "dividende = int(input(\"Donner moi un dividende : \"))\n",
    "diviseur = int(input(\"Donner moi un diviseur : \"))\n",
    "if diviseur != 0:\n",
    "    quotient = dividende // diviseur\n",
    "    reste = dividende % diviseur\n",
    "    print(dividende, '=', quotient, '*', diviseur, '+', reste)\n",
    "else:\n",
    "    print('Erreur : division par zéro')"
   ]
  },
  {
   "cell_type": "markdown",
   "metadata": {
    "slideshow": {
     "slide_type": "subslide"
    }
   },
   "source": [
    "#### Exercices\n",
    "\n",
    "1. Écrire un programme qui saisit un nombre entier et affiche `positif` si l'entier est positif ou nul et `negatif` sinon.\n",
    "2. Écrire un programme qui saisit deux nombres entiers et affiche le plus grand des deux."
   ]
  },
  {
   "cell_type": "markdown",
   "metadata": {
    "slideshow": {
     "slide_type": "subslide"
    }
   },
   "source": [
    "### Conditionnelles composées\n",
    "\n",
    "Cette construction peut être imbriquée :\n",
    "\n",
    "```python\n",
    "# début\n",
    "if <condition 1>:\n",
    "    if <condition 2>:\n",
    "        # bloc v1v2\n",
    "    else:\n",
    "        # bloc v1f2\n",
    "    # suite 2\n",
    "else:\n",
    "    # bloc f1\n",
    "# suite 1\n",
    "```\n",
    "\n",
    "Toutes les variantes sont possibles — si chaque `else` correspond à un `if` de même indentation !"
   ]
  },
  {
   "cell_type": "markdown",
   "metadata": {},
   "source": [
    "<img src='img/conditionnelle3.png' width='60%'>"
   ]
  },
  {
   "cell_type": "markdown",
   "metadata": {
    "slideshow": {
     "slide_type": "subslide"
    }
   },
   "source": [
    "#### Exemple : discriminant\n",
    "\n",
    "On suppose qu'il existe trois variables `a`, `b` et `c` désignant des nombres. On veut déterminer le nombre de solutions réelles de l'équation `a`$x^2$ + `b`$x$ + `c` = 0. Les cas suivants sont à considérer :\n",
    "\n",
    "-   si `a` = `b` = `c` = 0, il y a une infinité de solutions\n",
    "-   si `a` = `b` = 0 et `c` $\\neq$ 0, il n'y a pas de solution\n",
    "-   si `a` = 0 et `b` $\\neq$ 0, il y a exactement une solution\n",
    "-   sinon, on calcule le discriminant\n",
    "    $\\Delta$ = `b`$^2$ - 4`ac` et,\n",
    "    -   si $\\Delta < 0$, il n'y a pas de solution ;\n",
    "    -   si $\\Delta = 0$, il y a exactement une solution ;\n",
    "    -   sinon $\\Delta > 0$ et il y a exactement deux solutions."
   ]
  },
  {
   "cell_type": "markdown",
   "metadata": {
    "slideshow": {
     "slide_type": "subslide"
    }
   },
   "source": [
    "Écrire un programme qui demande à l'utilisateur de saisir au clavier\n",
    "les trois valeurs `a`, `b` et `c` et qui calcule et affiche le\n",
    "nombre de solutions **réelles** de l'équation du second degré associée."
   ]
  },
  {
   "cell_type": "code",
   "execution_count": null,
   "metadata": {
    "slideshow": {
     "slide_type": "subslide"
    }
   },
   "outputs": [],
   "source": [
    "a, b, c = ...\n",
    "\n",
    "# Calcul et affichage du nombre de solutions\n",
    "if a == 0:\n",
    "    if b == 0:\n",
    "        if c == 0:\n",
    "            print(\"Une infinité de solutions\")\n",
    "        else:\n",
    "            print(\"Pas de solution\")\n",
    "    else :\n",
    "        print(\"Une solution\")\n",
    "else:\n",
    "    delta = b ** 2 - 4 * a * c\n",
    "    if delta < 0:\n",
    "        print(\"Pas de solution\")\n",
    "    else:\n",
    "        if delta == 0:\n",
    "            print(\"Une solution\")\n",
    "        else:\n",
    "            print(\"Deux solutions\")"
   ]
  },
  {
   "cell_type": "markdown",
   "metadata": {
    "slideshow": {
     "slide_type": "slide"
    }
   },
   "source": [
    "### Conditionnelles enchaînées\n",
    "  \n",
    "Cas particulier où le bloc `else` contient seulement un autre `if` : le mot-clé `elif`\n",
    "\n",
    "Le code...\n",
    "```python\n",
    "# début\n",
    "if <condition 1>:\n",
    "    # bloc **v1**\n",
    "else:\n",
    "    if <condition 2>:\n",
    "        # bloc **f1v2**\n",
    "    else:\n",
    "        # bloc **f1f2**\n",
    "# suite\n",
    "```"
   ]
  },
  {
   "cell_type": "markdown",
   "metadata": {
    "slideshow": {
     "slide_type": "subslide"
    }
   },
   "source": [
    "... s'écrit aussi :\n",
    "```python\n",
    "# début\n",
    "if <condition 1>:\n",
    "    # bloc **v1**\n",
    "elif <condition 2>:\n",
    "    # bloc **f1v2**\n",
    "else:\n",
    "    # bloc **f1f2**\n",
    "# suite\n",
    "```"
   ]
  },
  {
   "cell_type": "markdown",
   "metadata": {
    "slideshow": {
     "slide_type": "subslide"
    }
   },
   "source": [
    "On peut ainsi enchaîner autant de conditions qu'on le souhaite, lorsque les cas ne se recouvrent pas :\n",
    "\n",
    "```python\n",
    "# début\n",
    "if <condition 1>:\n",
    "    # bloc **v1**\n",
    "elif <condition 2>:\n",
    "    # bloc **f1v2**\n",
    "elif <condition 3>:\n",
    "    # bloc **f1f2v3**\n",
    "else:\n",
    "    # bloc **f1f2f3**\n",
    "# suite\n",
    "```"
   ]
  },
  {
   "cell_type": "markdown",
   "metadata": {
    "slideshow": {
     "slide_type": "subslide"
    }
   },
   "source": [
    "#### Exemple : équation du second degré (reprise)"
   ]
  },
  {
   "cell_type": "code",
   "execution_count": null,
   "metadata": {
    "slideshow": {
     "slide_type": "-"
    }
   },
   "outputs": [],
   "source": [
    "a, b, c = ...\n",
    "\n",
    "# Calcul et affichage du nombre de solutions\n",
    "if a == b == c == 0:\n",
    "    print(\"Une infinité de solutions réelles (et complexes)\")\n",
    "elif a == b == 0:  # A ce stade, si a = b = 0, c est différent de 0 !!!\n",
    "    print(\"Aucune solution\")\n",
    "elif a == 0 :      # A ce stade, si a = 0, b est différent de 0 !!!\n",
    "    print(\"Une solution réelle\")\n",
    "else:\n",
    "    delta = b ** 2 - 4 * a * c\n",
    "    if delta < 0:\n",
    "        print(\"Pas de solution réelle\")\n",
    "    elif delta == 0:\n",
    "        print(\"Une solution réelle\")\n",
    "    else:\n",
    "        print(\"Deux solutions réelles\")"
   ]
  }
 ],
 "metadata": {
  "celltoolbar": "Diaporama",
  "kernelspec": {
   "display_name": "Python 3 (ipykernel)",
   "language": "python",
   "name": "python3"
  },
  "language_info": {
   "codemirror_mode": {
    "name": "ipython",
    "version": 3
   },
   "file_extension": ".py",
   "mimetype": "text/x-python",
   "name": "python",
   "nbconvert_exporter": "python",
   "pygments_lexer": "ipython3",
   "version": "3.10.12"
  }
 },
 "nbformat": 4,
 "nbformat_minor": 2
}
