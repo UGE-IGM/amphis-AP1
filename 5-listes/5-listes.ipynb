{
 "cells": [
  {
   "cell_type": "markdown",
   "metadata": {
    "slideshow": {
     "slide_type": "slide"
    }
   },
   "source": [
    "<div style='float:center; margin-right:20pt; width:30em'><img src='../img/logo-igm.png'></div>\n",
    "<div style='float:center; font-size:large'>\n",
    "    <strong>Algorithmique et programmation 1</strong><br>\n",
    "    L1 Mathématiques - L1 Informatique<br>\n",
    "    Semestre 1\n",
    "</div>"
   ]
  },
  {
   "cell_type": "markdown",
   "metadata": {},
   "source": [
    "# Chapitre 5 - Les listes en Python : le type `list`"
   ]
  },
  {
   "cell_type": "markdown",
   "metadata": {},
   "source": [
    "## Introduction\n",
    "\n",
    "Savez-vous résoudre les problèmes suivants ?\n",
    "\n",
    "-   Lire $n$ nombres, puis les afficher dans l'ordre inverse\n",
    "\n",
    "-   Lire $n$ nombres, puis les afficher dans l'ordre croissant\n",
    "\n",
    "-   Lire $n$ nombres différents (et vérifier qu'ils le sont)\n",
    "\n",
    "-   Écrire une fonction qui renvoie les $n$ premiers nombres premiers\n",
    "\n",
    "-   Stocker tous les $P(x)$ pour $x$ variant de $a$ à $b$ par pas de\n",
    "    $0,01$\n",
    "\n",
    "-   Écrire une fonction qui renvoie le minimum **et** le maximum d'une\n",
    "    suite de nombre.\n",
    "\n",
    "Nous allons voir un nouveau type de données pour résoudre\n",
    "ce genre de problèmes : le type `list`"
   ]
  },
  {
   "cell_type": "markdown",
   "metadata": {},
   "source": [
    "**Objectif :** désigner avec une seule variable une collection de valeurs\n",
    "\n",
    "**Liste :** suite **indexée** (numérotée) d'objets quelconques (type `list` en python)\n",
    "\n",
    "-   Élements \"rangés\" dans des \"cases\" numérotées de 0 à $n-1$\n",
    "\n",
    "-   En mémoire : tableau à $n$ cases, chacune contenant une référence\n",
    "    (*\"flèche\"*) vers un objet\n",
    "\n",
    "-   Peut contenir des objets de plusieurs types différents\n",
    "\n",
    "-   **Mutable** : peut être modifiée, agrandie, raccourcie..."
   ]
  },
  {
   "cell_type": "markdown",
   "metadata": {},
   "source": [
    "<div style='float:left; margin-right:40pt; width:10cm'><img src='img/schema_list_py.png'></div>"
   ]
  },
  {
   "cell_type": "markdown",
   "metadata": {},
   "source": [
    "## Création et affichage\n",
    "\n",
    "**Création :** suite entre `[` et `]` d'expressions séparées par `,`"
   ]
  },
  {
   "cell_type": "code",
   "execution_count": null,
   "metadata": {},
   "outputs": [],
   "source": [
    "lst = [3, 'toto', 4.5, False, None]\n",
    "print(lst)"
   ]
  },
  {
   "cell_type": "markdown",
   "metadata": {},
   "source": [
    "Liste vide `[]` : liste ne contenant aucun objet"
   ]
  },
  {
   "cell_type": "code",
   "execution_count": null,
   "metadata": {},
   "outputs": [],
   "source": [
    "lst = []\n",
    "print(lst)"
   ]
  },
  {
   "cell_type": "markdown",
   "metadata": {},
   "source": [
    "Une liste peut contenir d'autres listes !"
   ]
  },
  {
   "cell_type": "code",
   "execution_count": null,
   "metadata": {},
   "outputs": [],
   "source": [
    "lst = ['test', [1, [2], 3]]\n",
    "print(lst)"
   ]
  },
  {
   "cell_type": "markdown",
   "metadata": {},
   "source": [
    "[Exemple (Python tutor)](http://pythontutor.com/visualize.html#code=%23Cr%C3%A9ation%20et%20affichage%0A%0Alst_ex1%20%3D%20%5B1,%204.5,%20'toto',%20False%5D%0A%0Alst_vide%20%3D%20%5B%5D%0A%0Alst_ex2%20%3D%20%5B1,%202,%20%5B3,'haha'%5D,%20'hoho'%5D%0A%0Aprint%28%22Le%20premier%20exemple%20%3A%20%22,lst_ex1%29%0Aprint%28%22La%20liste%20vide%20%3A%20%22,%20lst_vide%29%0Aprint%28%22Le%20deuxi%C3%A8me%20exemple%20%3A%20%22,%20lst_ex2%29%0A%0A%23Acc%C3%A8s%20%C3%A0%20un%20%C3%A9l%C3%A9ment%0Ai%20%3D%202%0Aval_ex1%20%3D%20lst_ex1%5Bi%5D%0Aval_ex2%20%3D%20lst_ex2%5Bi%5D%0Aprint%28%22Les%20%C3%A9l%C3%A9ments%20d'indice%22,%20i,%20%22sont%22,%20val_ex1,%20%22et%22,%20val_ex2%29%0A%0A%23Longueur%0Ataille_ex1%20%3D%20len%28lst_ex1%29%0Ataille_vide%20%3D%20len%28lst_vide%29%0A%0Aprint%28%22La%20longueur%20de%20lst_ex2%20est%22,%20len%28lst_ex2%29%29%0A%0A%23Modification%20d'un%20%C3%A9l%C3%A9ment%0Alst_ex1%5B0%5D%20%3D%20%22allo%3F%3F%22%0Aval_ex2%5B1%5D%20%3D%20%22blop%22%0A%0Aprint%28%22Est-ce%20que%20lst_ex2%20est%20modifi%C3%A9e%3F%5Cn%22,%20lst_ex2%29%0A%0Alst_ex2%5B2%5D%20%3D%2042%0A%0Aprint%28%22Est-ce%20que%20val_ex2%20est%20modifi%C3%A9e%3F%5Cn%22,%20val_ex2%29%0A%0A%23ajout%20d'un%20%C3%A9l%C3%A9ment%0Alst_ex1.append%28%22et%20hop%22%29%0A%23retirer%20un%20%C3%A9l%C3%A9ment%20%28case%20d'indice%202%29%0Alst_ex1.pop%282%29%0A%23%20retirer%20le%20dernier%20%C3%A9l%C3%A9ment%0Alst_ex1.pop%28%29%0A%23%20encore%20une%20fois%20sans%20perdre%20la%20valeur%20en%20route%0Ares%20%3D%20lst_ex1.pop%28%29&cumulative=false&heapPrimitives=false&mode=edit&origin=opt-frontend.js&py=3&rawInputLstJSON=%5B%5D&textReferences=false)  \n",
    "(exemple filé à exploiter tout au long du cours)"
   ]
  },
  {
   "cell_type": "markdown",
   "metadata": {},
   "source": [
    "## Opérations et fonctions de base"
   ]
  },
  {
   "cell_type": "markdown",
   "metadata": {},
   "source": [
    "### Longueur d'une liste\n",
    "\n",
    "La longueur d'une liste (le nombre d'éléments qu'elle contient) s'obtient par la fonction `len`."
   ]
  },
  {
   "cell_type": "code",
   "execution_count": null,
   "metadata": {},
   "outputs": [],
   "source": [
    "lst = [3, 'toto', 4.5, False, None]\n",
    "print(len(lst))"
   ]
  },
  {
   "cell_type": "code",
   "execution_count": null,
   "metadata": {},
   "outputs": [],
   "source": [
    "print(lst[5])"
   ]
  },
  {
   "cell_type": "code",
   "execution_count": null,
   "metadata": {},
   "outputs": [],
   "source": [
    "print(len([]))"
   ]
  },
  {
   "cell_type": "markdown",
   "metadata": {},
   "source": [
    "### Accès aux éléments\n",
    "\n",
    "Les éléments d'une liste à $n$ éléments sont numérotés de 0 à $n-1$.  \n",
    "Le numéro d'un élément est appelé son *indice*.  \n",
    "L'accès à un élément donné s'appelle l'**indexation**."
   ]
  },
  {
   "cell_type": "code",
   "execution_count": null,
   "metadata": {},
   "outputs": [],
   "source": [
    "lst = [3, 'toto', 4.5]\n",
    "print(lst[1])"
   ]
  },
  {
   "cell_type": "markdown",
   "metadata": {},
   "source": [
    "<img src='img/warning.png' width='50px' style='display:inline'> **Attention !** \n",
    "\n",
    "- Le premier élément d'une liste est l'élément d'indice `0` !\n",
    "- Si la liste a `n` éléments, il n'existe pas d'élément d'indice `n` !\n",
    "- L'accès à un indice supérieur ou égal à la taille de la liste provoque une erreur !"
   ]
  },
  {
   "cell_type": "code",
   "execution_count": null,
   "metadata": {},
   "outputs": [],
   "source": [
    "lst = [3, 'toto', 4.5]\n",
    "print(lst[3])"
   ]
  },
  {
   "cell_type": "markdown",
   "metadata": {},
   "source": [
    "**Exercice :** Écrire une fonction qui affiche tous les éléments d'une liste (un par ligne)"
   ]
  },
  {
   "cell_type": "code",
   "execution_count": null,
   "metadata": {},
   "outputs": [],
   "source": [
    "def affiche_elements(lst):\n",
    "    ...\n",
    "\n",
    "lst = [3, 'toto', 4.5]\n",
    "affiche_elements(lst)"
   ]
  },
  {
   "cell_type": "code",
   "execution_count": null,
   "metadata": {},
   "outputs": [],
   "source": [
    "\n",
    "\n",
    "\n",
    "\n",
    "\n",
    "\n",
    "\n",
    "\n",
    "\n",
    "\n"
   ]
  },
  {
   "cell_type": "code",
   "execution_count": null,
   "metadata": {
    "scrolled": true
   },
   "outputs": [],
   "source": [
    "def affiche_elements(lst):\n",
    "    i = 0\n",
    "    while i < len(lst):\n",
    "        print(lst[i])\n",
    "        i += 1\n",
    "        \n",
    "lst = [3, 'toto', 4.5]\n",
    "affiche_elements(lst)"
   ]
  },
  {
   "cell_type": "markdown",
   "metadata": {},
   "source": [
    "### Modification d'un élément\n",
    "\n",
    "On peut modifier le $i$-ème élément de `lst` à l'aide d'une affectation :"
   ]
  },
  {
   "cell_type": "code",
   "execution_count": null,
   "metadata": {},
   "outputs": [],
   "source": [
    "lst = [3, 'toto', 4.5, False, None]\n",
    "print(lst[2])\n",
    "lst[2] = 'titi'\n",
    "print(lst)"
   ]
  },
  {
   "cell_type": "markdown",
   "metadata": {},
   "source": [
    "**Attention**, ceci ne crée pas une nouvelle liste mais modifie la\n",
    "liste sur place !"
   ]
  },
  {
   "cell_type": "code",
   "execution_count": null,
   "metadata": {},
   "outputs": [],
   "source": [
    "lst = [3, 'toto', 4.5, False, None]\n",
    "lst_bis = lst\n",
    "lst[2] = 'titi'\n",
    "lst_bis"
   ]
  },
  {
   "cell_type": "markdown",
   "metadata": {},
   "source": [
    "### Concaténation et répétition\n",
    "\n",
    "Comme pour les chaînes de caractères (`str`) on peut utiliser les opérateurs `+` pour fabriquer la concaténation de deux listes et `*` pour répéter une liste."
   ]
  },
  {
   "cell_type": "code",
   "execution_count": null,
   "metadata": {},
   "outputs": [],
   "source": [
    "[3, 'toto', 4.5] + [False, None]"
   ]
  },
  {
   "cell_type": "code",
   "execution_count": null,
   "metadata": {},
   "outputs": [],
   "source": [
    "[] + [3, 'toto', 4.5] + []"
   ]
  },
  {
   "cell_type": "code",
   "execution_count": null,
   "metadata": {},
   "outputs": [],
   "source": [
    "3 * ['a', 'b']"
   ]
  },
  {
   "cell_type": "code",
   "execution_count": null,
   "metadata": {},
   "outputs": [],
   "source": [
    "[0] * 13"
   ]
  },
  {
   "cell_type": "markdown",
   "metadata": {},
   "source": [
    "On peut utiliser ces opérateurs pour recopier une liste. Comparer :"
   ]
  },
  {
   "cell_type": "code",
   "execution_count": null,
   "metadata": {},
   "outputs": [],
   "source": [
    "lst = [3, 'toto', 4.5]\n",
    "lst2 = lst\n",
    "lst3 = lst + []\n",
    "lst4 = lst * 1"
   ]
  },
  {
   "cell_type": "markdown",
   "metadata": {},
   "source": [
    "### Test d'appartenance\n",
    "\n",
    "**Exercice :** Écrire une fonction recevant une liste et une valeur, et\n",
    "renvoyant `True` si la valeur apparaît dans la liste (`False` sinon)"
   ]
  },
  {
   "cell_type": "code",
   "execution_count": null,
   "metadata": {},
   "outputs": [],
   "source": [
    "def appartient(lst, val):\n",
    "    ...\n",
    "\n",
    "lst = ['Hildegarde', 'Cunégonde', 'Médor']\n",
    "\n",
    "print(appartient(lst, 'Cunégonde'))\n",
    "\n",
    "if appartient(lst, 'Médor'):\n",
    "    print('Bon chien !') "
   ]
  },
  {
   "cell_type": "code",
   "execution_count": null,
   "metadata": {},
   "outputs": [],
   "source": [
    "\n",
    "\n",
    "\n",
    "\n",
    "\n",
    "\n",
    "\n",
    "\n",
    "\n",
    "\n"
   ]
  },
  {
   "cell_type": "code",
   "execution_count": null,
   "metadata": {},
   "outputs": [],
   "source": [
    "def appartient(lst, val):\n",
    "    i = 0\n",
    "    while i < len(lst):\n",
    "        if lst[i] == val:\n",
    "            return True\n",
    "        i += 1\n",
    "    return False\n",
    "\n",
    "lst = ['Hildegarde', 'Cunégonde', 'Médor']\n",
    "\n",
    "print(appartient(lst, 'Cunégonde'))\n",
    "\n",
    "if appartient(lst, 'Médor'):\n",
    "    print('Bon chien !')"
   ]
  },
  {
   "cell_type": "markdown",
   "metadata": {},
   "source": [
    "\n",
    "\n",
    "\n",
    "\n",
    "\n",
    "\n",
    "\n",
    "\n",
    "\n",
    "\n",
    "**Remarque :** Cette fonctionnalité existe déjà en Python :\n",
    "\n",
    "-   `val in lst` vaut `True` si `val` apparaît dans `lst`, `False` sinon\n",
    "-   Réciproquement, on peut écrire `val not in lst`"
   ]
  },
  {
   "cell_type": "code",
   "execution_count": null,
   "metadata": {},
   "outputs": [],
   "source": [
    "lst = ['Hildegarde', 'Cunégonde', 'Médor']\n",
    "'Cunégonde' in lst"
   ]
  },
  {
   "cell_type": "code",
   "execution_count": null,
   "metadata": {},
   "outputs": [],
   "source": [
    "lst = ['Hildegarde', 'Cunégonde', 'Médor']\n",
    "'Rex' not in lst"
   ]
  },
  {
   "cell_type": "code",
   "execution_count": null,
   "metadata": {},
   "outputs": [],
   "source": [
    "lst = ['Hildegarde', 'Cunégonde', 'Médor']\n",
    "if 'Médor' in lst:\n",
    "    print('Bon chien !')"
   ]
  },
  {
   "cell_type": "markdown",
   "metadata": {},
   "source": [
    "### Minimum et maximum d'une liste\n",
    "\n",
    "**Exercice :** Écrire une fonction recevant une liste **non vide d'éléments comparables entre eux** et renvoyant la valeur du plus petit élément qui apparaît dans la liste"
   ]
  },
  {
   "cell_type": "code",
   "execution_count": null,
   "metadata": {},
   "outputs": [],
   "source": [
    "def minimum(lst):\n",
    "    ..."
   ]
  },
  {
   "cell_type": "markdown",
   "metadata": {},
   "source": [
    "Même question pour le plus grand élément"
   ]
  },
  {
   "cell_type": "code",
   "execution_count": null,
   "metadata": {},
   "outputs": [],
   "source": [
    "def maximum(lst):\n",
    "    ..."
   ]
  },
  {
   "cell_type": "code",
   "execution_count": null,
   "metadata": {},
   "outputs": [],
   "source": [
    "\n",
    "\n",
    "\n",
    "\n",
    "\n",
    "\n",
    "\n",
    "\n",
    "\n"
   ]
  },
  {
   "cell_type": "code",
   "execution_count": null,
   "metadata": {},
   "outputs": [],
   "source": [
    "def minimum(lst):\n",
    "    res = lst[0]  # plante si lst == []\n",
    "    i = 1\n",
    "    while i < len(lst):\n",
    "        if lst[i] < res:\n",
    "            res = lst[i]\n",
    "        i += 1\n",
    "    return res\n",
    "\n",
    "def maximum(lst):\n",
    "    res = lst[0]\n",
    "    i = 1\n",
    "    while i < len(lst):\n",
    "        if lst[i] > res:\n",
    "            res = lst[i]\n",
    "        i += 1\n",
    "    return res\n",
    "\n",
    "lst = [4, 6.6, 2, -7, 13, -6, 0]\n",
    "print(minimum(lst), maximum(lst))"
   ]
  },
  {
   "cell_type": "markdown",
   "metadata": {},
   "source": [
    "Ces fonctionnalités existent déjà en Python : fonctions `min` et `max`."
   ]
  },
  {
   "cell_type": "code",
   "execution_count": null,
   "metadata": {},
   "outputs": [],
   "source": [
    "lst = [4, 6.6, 2, -7, 13, -6, 0]\n",
    "print(min(lst), max(lst))"
   ]
  },
  {
   "cell_type": "markdown",
   "metadata": {},
   "source": [
    "**Attention :** pour que cela fonctionne il faut que tous les éléments soient comparables !"
   ]
  },
  {
   "cell_type": "code",
   "execution_count": null,
   "metadata": {},
   "outputs": [],
   "source": [
    "lst = [3, 'toto', 4.5, False, None]\n",
    "print(min(lst))"
   ]
  },
  {
   "cell_type": "markdown",
   "metadata": {},
   "source": [
    "Une erreur se produit aussi si l'on appelle ces fonctions sur une liste vide :"
   ]
  },
  {
   "cell_type": "code",
   "execution_count": null,
   "metadata": {},
   "outputs": [],
   "source": [
    "min([])"
   ]
  },
  {
   "cell_type": "markdown",
   "metadata": {},
   "source": [
    "### Somme des éléments d'une liste\n",
    "\n",
    "**Exercice :** Écrire une fonction `somme(lst)` qui renvoie la somme des éléments d'une liste dont tous les éléments sont des nombres."
   ]
  },
  {
   "cell_type": "code",
   "execution_count": null,
   "metadata": {},
   "outputs": [],
   "source": [
    "def somme(lst):\n",
    "    ..."
   ]
  },
  {
   "cell_type": "code",
   "execution_count": null,
   "metadata": {},
   "outputs": [],
   "source": [
    "\n",
    "\n",
    "\n",
    "\n",
    "\n",
    "\n",
    "\n",
    "\n",
    "\n"
   ]
  },
  {
   "cell_type": "code",
   "execution_count": null,
   "metadata": {},
   "outputs": [],
   "source": [
    "def somme(lst):\n",
    "    res = 0\n",
    "    i = 0\n",
    "    while i < len(lst):\n",
    "        res += lst[i]\n",
    "        i += 1\n",
    "    return res\n",
    "\n",
    "print(somme([1, 2, 3]))"
   ]
  },
  {
   "cell_type": "markdown",
   "metadata": {},
   "source": [
    "La fonction prédéfinie `sum` de Python réalise également ce calcul :"
   ]
  },
  {
   "cell_type": "code",
   "execution_count": null,
   "metadata": {},
   "outputs": [],
   "source": [
    "sum([1, 2, 3])"
   ]
  },
  {
   "cell_type": "markdown",
   "metadata": {},
   "source": [
    "**Attention :** la fonction `sum` provoque une erreur si un élément de la liste n'est pas un nombre !"
   ]
  },
  {
   "cell_type": "code",
   "execution_count": null,
   "metadata": {},
   "outputs": [],
   "source": [
    "sum([3, 'toto', 4.5, False, None])"
   ]
  },
  {
   "cell_type": "markdown",
   "metadata": {},
   "source": [
    "## Manipulations plus complexes : méthodes\n",
    "\n",
    "On va maintenant énumérer un certain nombre de méthodes prédéfinies sur les listes, permettant des modifications plus complexes. Pour plus de détails, on pourra consulter la [documentation en ligne](https://docs.python.org/3/)."
   ]
  },
  {
   "cell_type": "markdown",
   "metadata": {},
   "source": [
    "### Agrandir ou rétrécir une liste\n",
    "\n",
    "Plusieurs instructions ont un effet sur la taille de la liste :\n",
    "\n",
    "-   L'instruction `lst.append(elem)` ajoute l'élément `elem` à la fin de\n",
    "    la liste `lst`\n",
    "\n",
    "-   L'instruction `lst.pop()` supprime le dernier élément de `lst` et\n",
    "    renvoie sa valeur\n",
    "\n",
    "-   L'instruction `lst.pop(i)` supprime l'élément d'indice `i` de `lst` et\n",
    "    renvoie sa valeur\n",
    "\n",
    "*Les fonctions `append` et `pop` sont appelées **méthodes**, ou fonctions\n",
    "s'appliquant à un objet (nous en verrons d'autres dans les cours\n",
    "suivants)*\n",
    "\n",
    "**Attention**, ces instructions ne créent pas une nouvelle liste mais\n",
    "modifient la liste sur place !\n",
    "\n",
    "**Attention**, ne pas confondre `x = lst[2]` et `x = lst.pop(2)` !"
   ]
  },
  {
   "cell_type": "code",
   "execution_count": null,
   "metadata": {},
   "outputs": [],
   "source": [
    "lst = [3, 'toto', 4.5, False, None]\n",
    "lst_bis = lst\n",
    "\n",
    "lst.append(1)\n",
    "print(lst_bis)\n",
    "\n",
    "elem = lst_bis.pop(2)\n",
    "print(elem)\n",
    "\n",
    "print(lst)"
   ]
  },
  {
   "cell_type": "markdown",
   "metadata": {},
   "source": [
    "**Exercice** : écrire une fonction recevant deux listes et ajoutant tous\n",
    "les éléments de la seconde à la fin de la première"
   ]
  },
  {
   "cell_type": "code",
   "execution_count": null,
   "metadata": {},
   "outputs": [],
   "source": [
    "def etend_liste(une_liste, autre_liste):\n",
    "    ..."
   ]
  },
  {
   "cell_type": "markdown",
   "metadata": {},
   "source": [
    "-   Attention, pas de `return` : `une_liste` doit être modifiée sur place !\n",
    "\n",
    "-   Attention, on ne doit pas modifier `autre_liste` !"
   ]
  },
  {
   "cell_type": "code",
   "execution_count": null,
   "metadata": {},
   "outputs": [],
   "source": [
    "\n",
    "\n",
    "\n",
    "\n",
    "\n",
    "\n",
    "\n",
    "\n",
    "\n"
   ]
  },
  {
   "cell_type": "code",
   "execution_count": null,
   "metadata": {},
   "outputs": [],
   "source": [
    "def etend_liste(une_liste, autre_liste):\n",
    "    i = 0\n",
    "    while i < len(autre_liste):\n",
    "        une_liste.append(autre_liste[i])\n",
    "        i += 1\n",
    "        \n",
    "lst = [3, 'toto', 4.5]\n",
    "lst2 = [False, None]\n",
    "\n",
    "print(lst)\n",
    "print(lst2)\n",
    "etend_liste(lst, lst2)\n",
    "print(lst)\n",
    "print(lst2)"
   ]
  },
  {
   "cell_type": "code",
   "execution_count": null,
   "metadata": {},
   "outputs": [],
   "source": [
    "lst.append(lst2)\n",
    "lst"
   ]
  },
  {
   "cell_type": "markdown",
   "metadata": {},
   "source": [
    "-   Cette fonctionnalité existe déjà en Python :\n",
    "    `une_liste.extend(autre_liste)`"
   ]
  },
  {
   "cell_type": "code",
   "execution_count": null,
   "metadata": {},
   "outputs": [],
   "source": [
    "lst = [3, 'toto', 4.5]\n",
    "lst_bis = lst\n",
    "lst2 = [False, None]\n",
    "\n",
    "lst.extend(lst2)\n",
    "print(lst)\n",
    "print(lst_bis)"
   ]
  },
  {
   "cell_type": "code",
   "execution_count": null,
   "metadata": {},
   "outputs": [],
   "source": [
    "lst = [3, 'toto', 4.5]\n",
    "lst_bis = lst\n",
    "lst2 = [False, None]\n",
    "\n",
    "lst = lst + lst2\n",
    "print(lst)\n",
    "print(lst_bis)"
   ]
  },
  {
   "cell_type": "markdown",
   "metadata": {},
   "source": [
    "### Rechercher la position d'un élément\n",
    "\n",
    "**Exercice :** Écrire une fonction renvoyant le plus petit indice où apparaît un élément `x` dans une liste `lst` (on renverra `None` si `x` n'apparaît pas dans la liste)"
   ]
  },
  {
   "cell_type": "code",
   "execution_count": null,
   "metadata": {},
   "outputs": [],
   "source": [
    "def chercher(lst, x):\n",
    "    ..."
   ]
  },
  {
   "cell_type": "code",
   "execution_count": null,
   "metadata": {},
   "outputs": [],
   "source": [
    "\n",
    "\n",
    "\n",
    "\n",
    "\n",
    "\n",
    "\n",
    "\n",
    "\n"
   ]
  },
  {
   "cell_type": "code",
   "execution_count": null,
   "metadata": {},
   "outputs": [],
   "source": [
    "def chercher(lst, val):\n",
    "    i = 0\n",
    "    while i < len(lst):\n",
    "        if lst[i] == val:\n",
    "            return i\n",
    "        i += 1\n",
    "    return None\n",
    "\n",
    "lst = [3, 'toto', 4.5, False, None, 4.5]\n",
    "indice = chercher(lst, 4.5)\n",
    "print(indice)\n",
    "indiceNone = chercher(lst, 'AP1')\n",
    "print(indiceNone)"
   ]
  },
  {
   "cell_type": "markdown",
   "metadata": {},
   "source": [
    "Cette fonction existe déjà en Python : méthode `index`"
   ]
  },
  {
   "cell_type": "code",
   "execution_count": null,
   "metadata": {},
   "outputs": [],
   "source": [
    "lst = [3, 'toto', 4.5, False, None, 4.5]\n",
    "lst.index(4.5)"
   ]
  },
  {
   "cell_type": "markdown",
   "metadata": {},
   "source": [
    "**Attention**, cette méthode provoque une erreur si l'élément à retirer n'est pas dans la liste !"
   ]
  },
  {
   "cell_type": "code",
   "execution_count": null,
   "metadata": {},
   "outputs": [],
   "source": [
    "lst = [3, 'toto', 4.5, False, None, 4.5]\n",
    "lst.index(3.5)"
   ]
  },
  {
   "cell_type": "markdown",
   "metadata": {},
   "source": [
    "### Compter le nombre d'occurrences d'un élément\n",
    "\n",
    "**Exercice :** Écrire une fonction renvoyant le nombre de fois où apparaît un élément `x` dans une liste `lst`"
   ]
  },
  {
   "cell_type": "code",
   "execution_count": null,
   "metadata": {},
   "outputs": [],
   "source": [
    "def compter(lst, x):\n",
    "    ..."
   ]
  },
  {
   "cell_type": "code",
   "execution_count": null,
   "metadata": {},
   "outputs": [],
   "source": [
    "\n",
    "\n",
    "\n",
    "\n",
    "\n",
    "\n",
    "\n",
    "\n",
    "\n"
   ]
  },
  {
   "cell_type": "code",
   "execution_count": null,
   "metadata": {},
   "outputs": [],
   "source": [
    "def compter(lst, x):\n",
    "    cpt = 0\n",
    "    i = 0\n",
    "    while i < len(lst):\n",
    "        if lst[i] == x:\n",
    "            cpt += 1\n",
    "        i += 1\n",
    "    return cpt\n",
    "\n",
    "lst = [3, 'toto', 4.5, False, None, 4.5]\n",
    "print(compter(lst, 4.5))"
   ]
  },
  {
   "cell_type": "markdown",
   "metadata": {},
   "source": [
    "Cette fonction existe déjà en Python : méthode `count`"
   ]
  },
  {
   "cell_type": "code",
   "execution_count": null,
   "metadata": {},
   "outputs": [],
   "source": [
    "lst = [3, 'toto', 4.5, False, None, 4.5]\n",
    "lst.count(4.5)"
   ]
  },
  {
   "cell_type": "markdown",
   "metadata": {},
   "source": [
    "### Vider entièrement une liste\n",
    "\n",
    "**Exercice :** Écrire une fonction supprimant tous les éléments de la liste `lst`"
   ]
  },
  {
   "cell_type": "code",
   "execution_count": null,
   "metadata": {},
   "outputs": [],
   "source": [
    "def vider(lst, x):\n",
    "    ..."
   ]
  },
  {
   "cell_type": "code",
   "execution_count": null,
   "metadata": {},
   "outputs": [],
   "source": [
    "\n",
    "\n",
    "\n",
    "\n",
    "\n",
    "\n",
    "\n",
    "\n",
    "\n"
   ]
  },
  {
   "cell_type": "code",
   "execution_count": null,
   "metadata": {},
   "outputs": [],
   "source": [
    "def vider(lst):\n",
    "    while len(lst) > 0:\n",
    "        lst.pop()\n",
    "        \n",
    "lst = [3, 'toto', 4.5, False, None, 4.5]\n",
    "print(lst)\n",
    "vider(lst)\n",
    "print(lst)"
   ]
  },
  {
   "cell_type": "markdown",
   "metadata": {},
   "source": [
    "Cette fonction existe déjà en Python : méthode `clear`"
   ]
  },
  {
   "cell_type": "code",
   "execution_count": null,
   "metadata": {},
   "outputs": [],
   "source": [
    "lst = [3, 'toto', 4.5, False, None, 4.5]\n",
    "lst.clear()\n",
    "print(lst)"
   ]
  },
  {
   "cell_type": "markdown",
   "metadata": {},
   "source": [
    "### Renverser une liste\n",
    "\n",
    "**Exercice :** Écrire une fonction renversant l'ordre des éléments d'une liste `lst`"
   ]
  },
  {
   "cell_type": "code",
   "execution_count": null,
   "metadata": {},
   "outputs": [],
   "source": [
    "def renverser(lst, x):\n",
    "    ..."
   ]
  },
  {
   "cell_type": "code",
   "execution_count": null,
   "metadata": {},
   "outputs": [],
   "source": [
    "\n",
    "\n",
    "\n",
    "\n",
    "\n",
    "\n",
    "\n",
    "\n",
    "\n"
   ]
  },
  {
   "cell_type": "code",
   "execution_count": null,
   "metadata": {},
   "outputs": [],
   "source": [
    "def renverser(lst):\n",
    "    i = 0\n",
    "    j = len(lst) - 1\n",
    "    while i < j:\n",
    "        lst[i], lst[j] = lst[j], lst[i]\n",
    "        i += 1\n",
    "        j -= 1\n",
    "\n",
    "lst = [3, 'toto', 4.5, False, None, 4.5]\n",
    "print(lst)\n",
    "renverser(lst)\n",
    "print(lst)"
   ]
  },
  {
   "cell_type": "markdown",
   "metadata": {},
   "source": [
    "Cette fonction existe déjà en Python : méthode `reverse`"
   ]
  },
  {
   "cell_type": "code",
   "execution_count": null,
   "metadata": {},
   "outputs": [],
   "source": [
    "lst = [3, 'toto', 4.5, False, None, 4.5]\n",
    "lst.reverse()\n",
    "print(lst)"
   ]
  },
  {
   "cell_type": "markdown",
   "metadata": {},
   "source": [
    "### Retirer un élément donné\n",
    "\n",
    "**Exercice :** Écrire une fonction retirant la première occurrence d'un élément `x` dans une liste `lst` (on ne fera rien si la liste ne contient pas `x`)"
   ]
  },
  {
   "cell_type": "code",
   "execution_count": null,
   "metadata": {},
   "outputs": [],
   "source": [
    "def retirer(lst, x):\n",
    "    ..."
   ]
  },
  {
   "cell_type": "code",
   "execution_count": null,
   "metadata": {},
   "outputs": [],
   "source": [
    "# Utilisez la fonction 'chercher' ou 'index' pour trouver l'indice de x\n",
    "\n",
    "\n",
    "\n",
    "\n",
    "\n",
    "\n",
    "\n",
    "\n"
   ]
  },
  {
   "cell_type": "code",
   "execution_count": null,
   "metadata": {},
   "outputs": [],
   "source": [
    "def retirer(lst, x):\n",
    "    i = lst.index(x)\n",
    "    if i is not None:\n",
    "        while i < len(lst)-1:\n",
    "            lst[i] = lst[i+1]\n",
    "            i += 1\n",
    "        lst.pop()\n",
    "        \n",
    "def retirer2(lst, x): # version utilisant pop(i)\n",
    "    i = lst.index(x)\n",
    "    if i is not None:\n",
    "        lst.pop(i)\n",
    "        \n",
    "lst = [3, 'toto', 4.5, False, None, 4.5]\n",
    "print(lst)\n",
    "retirer(lst, 4.5)\n",
    "print(lst)\n",
    "print(\"---------------\")\n",
    "lst2 = [3, 'toto', 4.5, False, None, 4.5]\n",
    "print(lst2)\n",
    "retirer2(lst2, 4.5)\n",
    "print(lst2)"
   ]
  },
  {
   "cell_type": "markdown",
   "metadata": {},
   "source": [
    "Cette fonction existe déjà en Python : méthode `remove`"
   ]
  },
  {
   "cell_type": "code",
   "execution_count": null,
   "metadata": {},
   "outputs": [],
   "source": [
    "lst = [3, 'toto', 4.5, False, None, 4.5]\n",
    "lst.remove(4.5)\n",
    "print(lst)"
   ]
  },
  {
   "cell_type": "markdown",
   "metadata": {},
   "source": [
    "**Attention**, cette méthode provoque une erreur si l'élément à retirer n'est pas dans la liste !"
   ]
  },
  {
   "cell_type": "code",
   "execution_count": null,
   "metadata": {},
   "outputs": [],
   "source": [
    "lst = [3, 'toto', 4.5, False, None, 4.5]\n",
    "lst.remove(3.5)"
   ]
  },
  {
   "cell_type": "markdown",
   "metadata": {},
   "source": [
    "### Ajouter un élément donné à un indice donné\n",
    "\n",
    "**Exercice :** Écrire une fonction qui insère un élément `x` à la position `i` de la liste `lst` (si `i` est trop grand, la fonction insère `x` à la fin de `lst` ; si `i` est trop petit, elle insère `x` au début de `lst`)"
   ]
  },
  {
   "cell_type": "code",
   "execution_count": null,
   "metadata": {},
   "outputs": [],
   "source": [
    "def ajouter(lst, i, x):\n",
    "    ..."
   ]
  },
  {
   "cell_type": "code",
   "execution_count": null,
   "metadata": {},
   "outputs": [],
   "source": [
    "\n",
    "\n",
    "\n",
    "\n",
    "\n",
    "\n",
    "\n",
    "\n",
    "\n"
   ]
  },
  {
   "cell_type": "code",
   "execution_count": null,
   "metadata": {},
   "outputs": [],
   "source": [
    "def ajouter(lst, i, x):\n",
    "    # determine une valeur correcte pour i\n",
    "    i = max(0, min(i, len(lst))) \n",
    "    # on ajoute une case vide à la fin\n",
    "    lst.append(None) \n",
    "    # decalage des cases sur la droite à partir de i\n",
    "    j = len(lst) - 1\n",
    "    while j > i:\n",
    "        lst[j] = lst[j-1]\n",
    "        j -= 1\n",
    "    lst[i] = x # on insère x à l'indice i\n",
    "    \n",
    "lst = [3, 'toto', 4.5, False, None, 4.5]\n",
    "print(lst)\n",
    "ajouter(lst, 3, 79) # indice ok\n",
    "print(lst)\n",
    "ajouter(lst, -6, \"petit\") # indice trop petit\n",
    "print(lst)\n",
    "ajouter(lst, 16, \"grand\") # indice trop grand\n",
    "print(lst)"
   ]
  },
  {
   "cell_type": "markdown",
   "metadata": {},
   "source": [
    "Cette fonction existe déjà en Python : méthode `insert`"
   ]
  },
  {
   "cell_type": "markdown",
   "metadata": {},
   "source": [
    "**Attention**, cette méthode insère l'élément à la fin si l'indice est supérieur à `len(lst)`, et au début si l'indice est négatif !"
   ]
  },
  {
   "cell_type": "code",
   "execution_count": 4,
   "metadata": {},
   "outputs": [
    {
     "name": "stdout",
     "output_type": "stream",
     "text": [
      "[3, 'toto', 4.5, False, None, 4.5]\n",
      "[3, 'toto', 4.5, 79, False, None, 4.5]\n"
     ]
    }
   ],
   "source": [
    "lst = [3, 'toto', 4.5, False, None, 4.5]\n",
    "print(lst)\n",
    "lst.insert(3, 79)\n",
    "print(lst)"
   ]
  },
  {
   "cell_type": "code",
   "execution_count": 3,
   "metadata": {},
   "outputs": [
    {
     "name": "stdout",
     "output_type": "stream",
     "text": [
      "[3, 'toto', 4.5, 79, False, None, 4.5]\n",
      "['petit', 3, 'toto', 4.5, 79, False, None, 4.5]\n",
      "['petit', 3, 'toto', 4.5, 79, False, None, 4.5, 'grand']\n"
     ]
    }
   ],
   "source": [
    "lst.insert(-8, \"petit\")\n",
    "print(lst)\n",
    "lst.insert(16, \"grand\")\n",
    "print(lst)"
   ]
  },
  {
   "cell_type": "markdown",
   "metadata": {},
   "source": [
    "### Trier une liste\n",
    "\n",
    "Enfin, il est possible de trier le contenu d'une liste avec la méthode `sort`. Programmer ce genre de fonctions fait partie des objectifs du semestre 2."
   ]
  },
  {
   "cell_type": "code",
   "execution_count": null,
   "metadata": {},
   "outputs": [],
   "source": [
    "lst = [4, 6.6, 2, -7, 13, -6, 0]\n",
    "lst.sort()\n",
    "print(lst)"
   ]
  },
  {
   "cell_type": "markdown",
   "metadata": {},
   "source": [
    "**Attention**, cette méthode ne fonctionne pas si les éléments ne sont pas tous comparables !"
   ]
  },
  {
   "cell_type": "code",
   "execution_count": null,
   "metadata": {},
   "outputs": [],
   "source": [
    "lst = [3, 'toto', 4.5, False, None, 4.5]\n",
    "lst.sort()"
   ]
  },
  {
   "cell_type": "markdown",
   "metadata": {},
   "source": [
    "Notez que la méthode `sort` modifie définitivement la liste (une nouvelle liste n'est pas créée). Il existe aussi une fonction permettant de fabriquer une copie triée d'une liste : la fonction `sorted`."
   ]
  },
  {
   "cell_type": "code",
   "execution_count": null,
   "metadata": {},
   "outputs": [],
   "source": [
    "lst = [4, 6.6, 2, -7, 13, -6, 0]\n",
    "print(sorted(lst))\n",
    "print(lst)"
   ]
  },
  {
   "cell_type": "markdown",
   "metadata": {},
   "source": [
    "## <img src='img/non-exigible.png' width='50px' style='display:inline'> Manipulation de sous-listes : les *slices* (tranches)\n",
    "\n",
    "La connaissance de cette notion n'est pas exigible à l'examen.\n",
    "\n",
    "### Accès à une slice\n",
    "\n",
    "-   Syntaxe : `lst[i, j]` construit une liste contenant les éléments\n",
    "    d'indices `i` à `j-1` de `lst`\n",
    "-   Attention, l'élément d'indice `i` est **inclus** mais celui d'indice\n",
    "    `j` est **exclu** !"
   ]
  },
  {
   "cell_type": "code",
   "execution_count": null,
   "metadata": {},
   "outputs": [],
   "source": [
    "lst = [3, 'toto', 4.5]\n",
    "print(lst[1:len(lst)])\n",
    "print(lst[0:1])"
   ]
  },
  {
   "cell_type": "markdown",
   "metadata": {},
   "source": [
    "-   Si `i` est omis, il prend la valeur par défaut `0`\n",
    "-   Si `j` est omis, il prend la valeur par défaut `len(lst)`"
   ]
  },
  {
   "cell_type": "code",
   "execution_count": null,
   "metadata": {},
   "outputs": [],
   "source": [
    "lst = [3, 'toto', 4.5]\n",
    "print(lst[:len(lst)-1])\n",
    "print(lst[:])  # cette instruction crée une copie de lst !"
   ]
  },
  {
   "cell_type": "markdown",
   "metadata": {},
   "source": [
    "### Affectation de slice\n",
    "\n",
    "On peut aussi utiliser la syntaxe des tranches pour modifier en une seule fois une partie de la liste"
   ]
  },
  {
   "cell_type": "code",
   "execution_count": null,
   "metadata": {},
   "outputs": [],
   "source": [
    "lst = [3, 'toto', 4.5]\n",
    "lst[1:3] = [\"riri\", \"fifi\", \"loulou\"]\n",
    "print(lst)"
   ]
  },
  {
   "cell_type": "markdown",
   "metadata": {},
   "source": [
    "### Tranches avec intervalle\n",
    "\n",
    "Il est possible de compléter la notation des tranches en spécifiant un \"pas\" `k`: `lst[i:j:k]`. Dans ce cas, on sélectionne uniquement les éléments d'indices `i`, `i+k`, `i+2*k`, etc. en s'arrêtant à l'indice `j`(exclu)."
   ]
  },
  {
   "cell_type": "code",
   "execution_count": null,
   "metadata": {},
   "outputs": [],
   "source": [
    "lst = [0, 1, 2, 3, 4, 5]\n",
    "print(lst[1:6:2])"
   ]
  },
  {
   "cell_type": "markdown",
   "metadata": {},
   "source": [
    "Un exemple un peu étrange :"
   ]
  },
  {
   "cell_type": "code",
   "execution_count": null,
   "metadata": {},
   "outputs": [],
   "source": [
    "lst = [0, 1, 2, 3, 4, 5]\n",
    "print(lst[6:1:-1])"
   ]
  },
  {
   "cell_type": "markdown",
   "metadata": {},
   "source": [
    "## <img src='img/non-exigible.png' width='50px' style='display:inline'> Indices négatifs\n",
    "\n",
    "La connaissance de cette notion n'est pas exigible à l'examen.\n",
    "\n",
    "Il est possible d'utiliser des indices négatifs pour accéder aux éléments d'une liste. Dans ce cas, les éléments sont numérotés à partir de la droite, en commençant par l'indice `-1` et jusqu'à l'indice `-len(lst)` :"
   ]
  },
  {
   "cell_type": "code",
   "execution_count": null,
   "metadata": {},
   "outputs": [],
   "source": [
    "lst = [3, 'toto', 4.5]\n",
    "print(lst[-1])\n",
    "print(lst[-3])"
   ]
  },
  {
   "cell_type": "markdown",
   "metadata": {},
   "source": [
    "On voit que `lst[-1]` est une autre façon de désigner l'élément `lst[len(lst)-1`, et `lst[-len(lst)]` désigne `lst[0]`. Tenter d'accéder à un indice plus petit provoque une erreur :"
   ]
  },
  {
   "cell_type": "code",
   "execution_count": null,
   "metadata": {},
   "outputs": [],
   "source": [
    "lst = [3, 'toto', 4.5]\n",
    "print(lst[-4])"
   ]
  },
  {
   "cell_type": "markdown",
   "metadata": {},
   "source": [
    "Ces indices négatifs sont utiles comme raccourcis d'écriture dans certains cas particuliers, par exemple pour construire la copie d'une liste privée de son dernier élément :"
   ]
  },
  {
   "cell_type": "code",
   "execution_count": null,
   "metadata": {},
   "outputs": [],
   "source": [
    "lst = [3, 'toto', 4.5]\n",
    "print(lst[:-1])"
   ]
  }
 ],
 "metadata": {
  "kernelspec": {
   "display_name": "Python 3.10.6 64-bit",
   "language": "python",
   "name": "python3"
  },
  "language_info": {
   "codemirror_mode": {
    "name": "ipython",
    "version": 3
   },
   "file_extension": ".py",
   "mimetype": "text/x-python",
   "name": "python",
   "nbconvert_exporter": "python",
   "pygments_lexer": "ipython3",
   "version": "3.10.7"
  },
  "vscode": {
   "interpreter": {
    "hash": "aee8b7b246df8f9039afb4144a1f6fd8d2ca17a180786b69acc140d282b71a49"
   }
  }
 },
 "nbformat": 4,
 "nbformat_minor": 2
}
