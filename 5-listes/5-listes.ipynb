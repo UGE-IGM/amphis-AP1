{
 "cells": [
  {
   "cell_type": "markdown",
   "metadata": {},
   "source": [
    "<div>\n",
    "<div style='float:left; margin-right:40pt; width:6cm'><img src='img/UPEM-IGM-V1_300dpi.png'></div>\n",
    "<div style='float:right; font-size:large; text-align:right'><strong>Algorithmique et programmation 1</strong><br>\n",
    "L1 Mathématiques - L1 Informatique<br>\n",
    "Semestre 1\n",
    "</div>\n",
    "</div>"
   ]
  },
  {
   "cell_type": "markdown",
   "metadata": {},
   "source": [
    "# Chapitre 5 - Les listes en Python : le type `list`"
   ]
  },
  {
   "cell_type": "markdown",
   "metadata": {},
   "source": [
    "Dans ce chapitre vous allez :\n",
    "1. Découvrir le type liste ;\n",
    "2. Apprendre à désigner avec une seule variable une collection de valeurs ;\n",
    "3. Apprendre à créer une liste ;\n",
    "4. Apprendre à accéder et modifier un élément d'une liste ;\n",
    "5. Apprendre à parcourir une liste pour effectuer un traitement spécifique sur ses éléments ;\n",
    "6. Découvrir les opérations de base et des méthodes sur les listes pour les manipuler (`in`, `+`, `*`, `len`, `sum`, `min`, `max`, `sorted`)\n",
    "7. Apprendre à utiliser correctement les méthodes `append`, `pop`, `extend`, `index`, `count`, `reverse`, `remove`, `insert` et `sort` ;\n",
    "8. Distinguer les opérations et méthodes qui modifient en place la liste de celles qui en créent une nouvelle ;\n",
    "9. Écrire des fonctions modifiant une liste passée en paramètre."
   ]
  },
  {
   "cell_type": "markdown",
   "metadata": {},
   "source": [
    "## I Introduction\n",
    "\n",
    "Savez-vous résoudre les problèmes suivants ?\n",
    "\n",
    "-   Lire `n` nombres, puis les afficher dans l'ordre inverse.\n",
    "\n",
    "-   Lire `n` nombres, puis les afficher dans l'ordre croissant.\n",
    "\n",
    "-   Lire `n` nombres différents (et vérifier qu'ils le sont).\n",
    "\n",
    "-   Écrire une fonction qui renvoie les `n` premiers nombres premiers.\n",
    "\n",
    "-   Stocker tous les `P(x)` pour `x` variant de `a` à `b` par pas de\n",
    "    `0,01`.\n",
    "\n",
    "-   Écrire une fonction qui renvoie le minimum **et** le maximum d'une\n",
    "    suite de nombre.\n",
    "\n",
    "Nous allons voir un nouveau type de données pour résoudre\n",
    "ce genre de problèmes : le type `list`.\n",
    "\n",
    "\n",
    "<img src='img/warning.png' width='50px' style='display:inline'> *Tout les exercices sont corrigés dans le notebook `5-listes-solutions`. A ne consulter qu'en cas de raz-le-bol, après assauts successifs !*"
   ]
  },
  {
   "cell_type": "markdown",
   "metadata": {},
   "source": [
    "## II Définition et création d'une `list` en Python\n",
    "\n",
    "### 1) Définition\n",
    "\n",
    "Schématiquement, une liste en python est une variable dans laquelle on peut mettre plusieurs variables.\n",
    "\n",
    "Plus précisemment, une **liste** (de type `list` en python) est une **suite indexée** (i.e. numérotée)\n",
    "d'objets quelconques. La **taille de la liste** est, par définition, le nombre d'éléments qu'elle contient.\n",
    "\n",
    "Ainsi, une liste de longueur `n` contient `n` élements _rangés_ dans des _cases_ contigües numérotées de `0` à `n - 1` en mémoire. Chacune de ses cases contient une **référence**.\n",
    "\n",
    "<img src='img/schema_list_py.png' width='40%'>\n",
    "\n",
    "Schématiquement, une liste de longueur `n` peut être vu comme une commode à `n` tiroirs telle que chaque tiroir :\n",
    "* possède une étiquette collé sur lui (la *référence*) indiquant le contenu du tiroir.\n",
    "* ne puisse contenir qu'un seul objet (éventuellement une autre liste).\n",
    "\n",
    "**Remarque :** Une liste en Python peut contenir des objets de plusieurs types différents, comme sur le dessin précédent."
   ]
  },
  {
   "cell_type": "markdown",
   "metadata": {},
   "source": [
    "### 2) Syntaxe pour la création d'une `list`\n",
    "\n",
    "Concrètement, l'instantiation d'une `list` en Python se fait par une suite encadré par des crochets (`[`\n",
    "et `]`) d'expressions séparées par des virgules.\n",
    "\n",
    "Voici une liste conteant cinq éléments : l'entier `3`, la chaine de caractères `toto`, le flottant `4.5`, le booléen `False` et enfin `None`."
   ]
  },
  {
   "cell_type": "code",
   "execution_count": 1,
   "metadata": {},
   "outputs": [],
   "source": [
    "lst_1 = [3, 'toto', 4.5, False, None]"
   ]
  },
  {
   "cell_type": "code",
   "execution_count": 3,
   "metadata": {},
   "outputs": [
    {
     "data": {
      "text/plain": [
       "[3, 'toto', 4.5, False, None]"
      ]
     },
     "execution_count": 3,
     "metadata": {},
     "output_type": "execute_result"
    }
   ],
   "source": [
    "lst_1"
   ]
  },
  {
   "cell_type": "markdown",
   "metadata": {},
   "source": [
    "Ici, nous créons la liste vide, c'est-à-dire la liste ne contenant aucun élément. Elle se note `[]`. On peut aussi la créer avec la fonction `list()`"
   ]
  },
  {
   "cell_type": "code",
   "execution_count": 4,
   "metadata": {},
   "outputs": [],
   "source": [
    "lst_2 = []"
   ]
  },
  {
   "cell_type": "code",
   "execution_count": 11,
   "metadata": {},
   "outputs": [],
   "source": [
    "lst_2 = list()"
   ]
  },
  {
   "cell_type": "code",
   "execution_count": 6,
   "metadata": {},
   "outputs": [
    {
     "data": {
      "text/plain": [
       "[]"
      ]
     },
     "execution_count": 6,
     "metadata": {},
     "output_type": "execute_result"
    }
   ],
   "source": [
    "lst_2"
   ]
  },
  {
   "cell_type": "markdown",
   "metadata": {},
   "source": [
    "Enfin, une liste peut contenir d'autres listes !"
   ]
  },
  {
   "cell_type": "code",
   "execution_count": 12,
   "metadata": {},
   "outputs": [
    {
     "data": {
      "text/plain": [
       "['test', [1, [2], 3]]"
      ]
     },
     "execution_count": 12,
     "metadata": {},
     "output_type": "execute_result"
    }
   ],
   "source": [
    "lst_3 = ['test', [1, [2], 3]]\n",
    "lst_3"
   ]
  },
  {
   "cell_type": "markdown",
   "metadata": {},
   "source": [
    "### 3) Affichage d'une `list`\n",
    "\n",
    "Pour voir le contenu d'une `list`, on peut utiliser la fonction primitive `print` :"
   ]
  },
  {
   "cell_type": "code",
   "execution_count": 13,
   "metadata": {},
   "outputs": [
    {
     "name": "stdout",
     "output_type": "stream",
     "text": [
      "[3, 'toto', 4.5, False, None]\n",
      "[]\n",
      "['test', [1, [2], 3]]\n"
     ]
    }
   ],
   "source": [
    "print(lst_1)\n",
    "print(lst_2)\n",
    "print(lst_3)"
   ]
  },
  {
   "cell_type": "markdown",
   "metadata": {},
   "source": [
    "### Vérifier vos connaissances :\n",
    "\n",
    "A ce stade, vous devriez être capable :\n",
    "* d'expliquer ce qu'est une liste ;\n",
    "* de reconnaitre un objet `Python` de type `list` ;\n",
    "* de créer une liste contenant des éléments ;\n",
    "* de créer une liste vide de deux manières différentes ;\n",
    "* d'afficher le contenu d'une liste."
   ]
  },
  {
   "cell_type": "markdown",
   "metadata": {},
   "source": [
    "## III Opérations et fonctions de base sur les listes\n",
    "\n",
    "Vous savez maintenant créer et afficher une liste. Voyons désormais comment la manipuler."
   ]
  },
  {
   "cell_type": "markdown",
   "metadata": {},
   "source": [
    "### 1) Longueur d'une liste\n",
    "\n",
    "La longueur d'une liste (le nombre d'éléments qu'elle contient) s'obtient par la fonction `len`."
   ]
  },
  {
   "cell_type": "code",
   "execution_count": 14,
   "metadata": {},
   "outputs": [
    {
     "data": {
      "text/plain": [
       "5"
      ]
     },
     "execution_count": 14,
     "metadata": {},
     "output_type": "execute_result"
    }
   ],
   "source": [
    "lst = [3, 'toto', 4.5, False, None]\n",
    "len(lst)"
   ]
  },
  {
   "cell_type": "code",
   "execution_count": 15,
   "metadata": {},
   "outputs": [
    {
     "data": {
      "text/plain": [
       "0"
      ]
     },
     "execution_count": 15,
     "metadata": {},
     "output_type": "execute_result"
    }
   ],
   "source": [
    "len([])"
   ]
  },
  {
   "cell_type": "markdown",
   "metadata": {},
   "source": [
    "### 2) Accès aux éléments\n",
    "\n",
    "Les éléments d'une liste à `n` éléments sont numérotés de``0` à `n-1`.  \n",
    "Le numéro d'un élément est appelé son **indice**. L'accès à un élément donné s'appelle l'**indexation**."
   ]
  },
  {
   "cell_type": "code",
   "execution_count": 16,
   "metadata": {},
   "outputs": [
    {
     "data": {
      "text/plain": [
       "'toto'"
      ]
     },
     "execution_count": 16,
     "metadata": {},
     "output_type": "execute_result"
    }
   ],
   "source": [
    "lst = [3, 'toto', 4.5]\n",
    "lst[1]"
   ]
  },
  {
   "cell_type": "markdown",
   "metadata": {},
   "source": [
    "<img src='img/warning.png' width='50px' style='display:inline'> **Attention !** \n",
    "\n",
    "- Le premier élément d'une liste est l'élément d'indice `0` !\n",
    "- Si la liste a `n` éléments, il n'existe pas d'élément d'indice `n` !\n",
    "- L'accès à un indice supérieur ou égal à la taille de la liste provoque une erreur !"
   ]
  },
  {
   "cell_type": "code",
   "execution_count": 17,
   "metadata": {
    "scrolled": true
   },
   "outputs": [
    {
     "ename": "IndexError",
     "evalue": "list index out of range",
     "output_type": "error",
     "traceback": [
      "\u001b[0;31m---------------------------------------------------------------------------\u001b[0m",
      "\u001b[0;31mIndexError\u001b[0m                                Traceback (most recent call last)",
      "\u001b[0;32m<ipython-input-17-ac5a51b92aee>\u001b[0m in \u001b[0;36m<module>\u001b[0;34m\u001b[0m\n\u001b[1;32m      1\u001b[0m \u001b[0mlst\u001b[0m \u001b[0;34m=\u001b[0m \u001b[0;34m[\u001b[0m\u001b[0;36m3\u001b[0m\u001b[0;34m,\u001b[0m \u001b[0;34m'toto'\u001b[0m\u001b[0;34m,\u001b[0m \u001b[0;36m4.5\u001b[0m\u001b[0;34m]\u001b[0m\u001b[0;34m\u001b[0m\u001b[0;34m\u001b[0m\u001b[0m\n\u001b[0;32m----> 2\u001b[0;31m \u001b[0mlst\u001b[0m\u001b[0;34m[\u001b[0m\u001b[0;36m3\u001b[0m\u001b[0;34m]\u001b[0m\u001b[0;34m\u001b[0m\u001b[0;34m\u001b[0m\u001b[0m\n\u001b[0m",
      "\u001b[0;31mIndexError\u001b[0m: list index out of range"
     ]
    }
   ],
   "source": [
    "lst = [3, 'toto', 4.5]\n",
    "lst[3]"
   ]
  },
  {
   "cell_type": "markdown",
   "metadata": {},
   "source": [
    "### 3) Mutabilité des listes\n",
    "\n",
    "Maintenant que vous savez récupérer la taille d'une liste et accéder à ses éléments, vous allez apprendre à la modifier.\n",
    "\n",
    "On dit qu'un objet en Python est **mutable** lorsqu'il peut être modifié, agrandi, raccourci, ...\n",
    "\n",
    "**Fait important :** Les listes en Python sont mutables.\n",
    "\n",
    "Cela peut bien sur vous paraitre surprenant que la mutabilité des listes soit un fait important. En effet, pour le moment, nous n'avions étudié aucune structure de données en détail. Autrement dit, tout ce que l'on a remcontré vous parait modifiable, mais ce n'est pas forcément le cas : les entiers, les flottants ou les chaines de caractères ne sont pas mutables, bien qu'une variable contenant de tels objets puisse être modifiée. Nous reviendrons plus tard dans le cours sur ce point."
   ]
  },
  {
   "cell_type": "markdown",
   "metadata": {},
   "source": [
    "On peut donc modifier le `i`-ème élément de `lst` à l'aide d'une affectation :"
   ]
  },
  {
   "cell_type": "code",
   "execution_count": 18,
   "metadata": {},
   "outputs": [
    {
     "data": {
      "text/plain": [
       "4.5"
      ]
     },
     "execution_count": 18,
     "metadata": {},
     "output_type": "execute_result"
    }
   ],
   "source": [
    "lst = [3, 'toto', 4.5, False, None]\n",
    "lst[2]"
   ]
  },
  {
   "cell_type": "code",
   "execution_count": 19,
   "metadata": {},
   "outputs": [
    {
     "data": {
      "text/plain": [
       "'titi'"
      ]
     },
     "execution_count": 19,
     "metadata": {},
     "output_type": "execute_result"
    }
   ],
   "source": [
    "lst[2] = 'titi'\n",
    "lst[2]"
   ]
  },
  {
   "cell_type": "code",
   "execution_count": 20,
   "metadata": {},
   "outputs": [
    {
     "data": {
      "text/plain": [
       "[3, 'toto', 'titi', False, None]"
      ]
     },
     "execution_count": 20,
     "metadata": {},
     "output_type": "execute_result"
    }
   ],
   "source": [
    "lst"
   ]
  },
  {
   "cell_type": "markdown",
   "metadata": {},
   "source": [
    "<img src='img/warning.png' width='50px' style='display:inline'>Ceci ne crée pas une nouvelle liste mais modifie la\n",
    "liste sur place !"
   ]
  },
  {
   "cell_type": "code",
   "execution_count": 21,
   "metadata": {},
   "outputs": [
    {
     "data": {
      "text/plain": [
       "[3, 'toto', 'titi', False, None]"
      ]
     },
     "execution_count": 21,
     "metadata": {},
     "output_type": "execute_result"
    }
   ],
   "source": [
    "lst = [3, 'toto', 4.5, False, None]\n",
    "lst_bis = lst\n",
    "lst[2] = 'titi'\n",
    "lst_bis"
   ]
  },
  {
   "cell_type": "code",
   "execution_count": 22,
   "metadata": {},
   "outputs": [
    {
     "data": {
      "text/plain": [
       "[3, 'toto', 'titi', False, None]"
      ]
     },
     "execution_count": 22,
     "metadata": {},
     "output_type": "execute_result"
    }
   ],
   "source": [
    "lst"
   ]
  },
  {
   "cell_type": "code",
   "execution_count": 23,
   "metadata": {},
   "outputs": [
    {
     "data": {
      "text/plain": [
       "[3.1415, 'toto', 'titi', False, None]"
      ]
     },
     "execution_count": 23,
     "metadata": {},
     "output_type": "execute_result"
    }
   ],
   "source": [
    "lst_bis[0] = 3.1415\n",
    "lst"
   ]
  },
  {
   "cell_type": "code",
   "execution_count": 24,
   "metadata": {},
   "outputs": [
    {
     "data": {
      "text/plain": [
       "(4462642192, 4462642192)"
      ]
     },
     "execution_count": 24,
     "metadata": {},
     "output_type": "execute_result"
    }
   ],
   "source": [
    "id(lst), id(lst_bis)"
   ]
  },
  {
   "cell_type": "code",
   "execution_count": 25,
   "metadata": {},
   "outputs": [
    {
     "data": {
      "text/plain": [
       "[]"
      ]
     },
     "execution_count": 25,
     "metadata": {},
     "output_type": "execute_result"
    }
   ],
   "source": [
    "lst_bis = []\n",
    "lst[0] = 12\n",
    "lst_bis"
   ]
  },
  {
   "cell_type": "markdown",
   "metadata": {},
   "source": [
    "### 4) Concaténation et répétition\n",
    "\n",
    "Comme pour les chaînes de caractères (`str`), on peut utiliser les opérateurs `+` pour concaténer deux listes (c'est-à-dire ajouter les éléments de la seconde liste à la fin de la première) et `*` pour répéter une liste."
   ]
  },
  {
   "cell_type": "code",
   "execution_count": 26,
   "metadata": {},
   "outputs": [
    {
     "data": {
      "text/plain": [
       "[3, 'toto', 4.5, False, None]"
      ]
     },
     "execution_count": 26,
     "metadata": {},
     "output_type": "execute_result"
    }
   ],
   "source": [
    "[3, 'toto', 4.5] + [False, None]"
   ]
  },
  {
   "cell_type": "code",
   "execution_count": 27,
   "metadata": {},
   "outputs": [
    {
     "data": {
      "text/plain": [
       "[3, 'toto', 4.5]"
      ]
     },
     "execution_count": 27,
     "metadata": {},
     "output_type": "execute_result"
    }
   ],
   "source": [
    "[] + [3, 'toto', 4.5] + []"
   ]
  },
  {
   "cell_type": "code",
   "execution_count": 28,
   "metadata": {},
   "outputs": [
    {
     "data": {
      "text/plain": [
       "['a', 'b', 'a', 'b', 'a', 'b']"
      ]
     },
     "execution_count": 28,
     "metadata": {},
     "output_type": "execute_result"
    }
   ],
   "source": [
    "3 * ['a', 'b']"
   ]
  },
  {
   "cell_type": "code",
   "execution_count": 29,
   "metadata": {},
   "outputs": [
    {
     "data": {
      "text/plain": [
       "[0, 0, 0, 0, 0, 0, 0, 0, 0, 0, 0, 0, 0]"
      ]
     },
     "execution_count": 29,
     "metadata": {},
     "output_type": "execute_result"
    }
   ],
   "source": [
    "[0] * 13"
   ]
  },
  {
   "cell_type": "markdown",
   "metadata": {},
   "source": [
    "<img src='img/warning.png' width='50px' style='display:inline'> Affecter une liste à une variable ne fait qu'associer un nouveau nom à la liste.\n"
   ]
  },
  {
   "cell_type": "code",
   "execution_count": 30,
   "metadata": {},
   "outputs": [
    {
     "name": "stdout",
     "output_type": "stream",
     "text": [
      "[10, 'toto', 4.5]\n",
      "[10, 'toto', 4.5]\n"
     ]
    }
   ],
   "source": [
    "lst = [3, 'toto', 4.5]\n",
    "lst2 = lst\n",
    "lst2[0] = 10\n",
    "print(lst)\n",
    "print(lst2)"
   ]
  },
  {
   "cell_type": "markdown",
   "metadata": {},
   "source": [
    "**A noter :** Les opérateurs (`+`, `*`) et la fonction `list()` créent une nouvelle liste. Cela peut permettre de faire des fausse copie de listes :"
   ]
  },
  {
   "cell_type": "code",
   "execution_count": 31,
   "metadata": {
    "scrolled": true
   },
   "outputs": [
    {
     "name": "stdout",
     "output_type": "stream",
     "text": [
      "lst  =  [3, 'toto', 4.5]\n",
      "lst2 =  [10, 'toto', 4.5]\n",
      "lst3 =  [13, 'toto', 4.5]\n",
      "lst4 =  [20, 'toto', 4.5]\n"
     ]
    }
   ],
   "source": [
    "lst = [3, 'toto', 4.5]\n",
    "lst2 = lst + []\n",
    "lst3 = lst * 1\n",
    "lst4 = list(lst) # Plus lisible\n",
    "lst2[0] = 10\n",
    "lst3[0] = 13\n",
    "lst4[0] = 20\n",
    "print(\"lst  = \", lst)\n",
    "print(\"lst2 = \", lst2)\n",
    "print(\"lst3 = \", lst3)\n",
    "print(\"lst4 = \", lst4)"
   ]
  },
  {
   "cell_type": "code",
   "execution_count": 33,
   "metadata": {},
   "outputs": [
    {
     "data": {
      "text/plain": [
       "(4461221360, 4462756000, 4461221440, 4462755920)"
      ]
     },
     "execution_count": 33,
     "metadata": {},
     "output_type": "execute_result"
    }
   ],
   "source": [
    "id(lst), id(lst2), id(lst3), id(lst4)"
   ]
  },
  {
   "cell_type": "markdown",
   "metadata": {},
   "source": [
    "<img src='img/warning.png' width='50px' style='display:inline'> Les *copies* précédentes ne sont que superficielle"
   ]
  },
  {
   "cell_type": "code",
   "execution_count": null,
   "metadata": {},
   "outputs": [],
   "source": [
    "lst1 = [1, [2], 3]\n",
    "lst2 = list(lst1)\n",
    "lst2[0] = 10\n",
    "lst1[1][0] = 30\n",
    "print(lst1)\n",
    "print(lst2)"
   ]
  },
  {
   "cell_type": "markdown",
   "metadata": {},
   "source": [
    "Testez cet [exemple sur Python Tutor](http://pythontutor.com/visualize.html#code=lst1%20%3D%20%5B1,%20%5B2%5D,%203%5D%0Alst2%20%3D%20list%28lst1%29%0Alst2%5B0%5D%20%3D%2010%0Alst1%5B1%5D%5B0%5D%20%3D%2030%0Aprint%28lst1%29%0Aprint%28lst2%29%0A&cumulative=false&curInstr=0&heapPrimitives=nevernest&mode=display&origin=opt-frontend.js&py=3&rawInputLstJSON=%5B%5D&textReferences=false) pour mieux comprendre ce qui se passe en machine"
   ]
  },
  {
   "cell_type": "markdown",
   "metadata": {},
   "source": [
    "### Vérifier vos connaissances :\n",
    "\n",
    "A ce stade, vous devriez être capable :\n",
    "* de déterminer la longueur d'une liste ;\n",
    "* de récupérer l'élément d'une liste `lst` d'indice `i` ;\n",
    "* de modifier un élément d'une liste ;\n",
    "* de concaténer des listes entres-elles ;\n",
    "* de savoir créer des *fausses* copies de listes de trois manières différentes ;\n",
    "* de savoir si les opérations de base modifient la liste en jeu ou si elles créent une nouvelle liste."
   ]
  },
  {
   "cell_type": "markdown",
   "metadata": {},
   "source": [
    "## IV Parcours de listes et opérations élémentaires sur les listes\n",
    "\n",
    "Nous avons tous les éléments de base pour avoir désormais des fonctionnalités prédéfines sur les listes.\n",
    "Nous allons désormais passer en revue :\n",
    "* le test d'appartenance d'une valeur `val` à la liste `lst` ;\n",
    "* la détermination du minimum et du maximum des éléments de `lst` ;\n",
    "* le calcul de la somme des éléments de `lst`.\n",
    "\n",
    "Dans tous ces exemples, c'est la même notion qui est en jeu : le parcours de la liste `lst`.\n",
    "\n",
    "### 1) Parcours de listes\n",
    "\n",
    "Connaissant la longueur d'une liste `lst` et sachant comment récupérer son élément d'indice `i`,\n",
    "nous sommes prêt pour effectuer un parcours de liste. Le schéma de code est toujours le même.\n",
    "On itére un traitement pour chaque position (comprise entre `0` et `len(lst) - 1` :\n",
    "on effectue donc une boucle `for pos in range(len(lst))`:\n",
    "\n",
    "```python\n",
    "def mon_traitement(lst):\n",
    "    \"\"\" Fonction réalisant un traitement élément par élément d'une liste\n",
    "    :param lst: list\n",
    "    \"\"\"\n",
    "    for pos in range(len(lst)):\n",
    "        # Traitement sur la valeur lst[i]\n",
    "```\n",
    "\n",
    "On peut par exemple écrire une fonction qui affiche tous les éléments d'une liste (un par ligne) :"
   ]
  },
  {
   "cell_type": "code",
   "execution_count": 34,
   "metadata": {},
   "outputs": [
    {
     "name": "stdout",
     "output_type": "stream",
     "text": [
      "3\n",
      "toto\n",
      "4.5\n"
     ]
    }
   ],
   "source": [
    "def affiche_elements(lst):\n",
    "    \"\"\"Affiche le contenu de la liste passée en argument, un élément par ligne.\n",
    "    \n",
    "    :param lst: list\n",
    "    \n",
    "    >>> affiche_elements([3, 'toto', 4.5])\n",
    "    3\n",
    "    toto\n",
    "    4.5\n",
    "    \"\"\"\n",
    "    for pos in range(len(lst)):\n",
    "        print(lst[pos])\n",
    "\n",
    "lst = [3, 'toto', 4.5]\n",
    "affiche_elements(lst)"
   ]
  },
  {
   "cell_type": "markdown",
   "metadata": {},
   "source": [
    "**Exercice 1 :** Ecrire une fonction `affiche_1_elements_sur_2(lst)` qui affiche (un par ligne) un élément sur deux d'une liste"
   ]
  },
  {
   "cell_type": "code",
   "execution_count": 36,
   "metadata": {},
   "outputs": [],
   "source": [
    "def affiche_1_elements_sur_2(lst):\n",
    "    for i in range(len(lst)):\n",
    "        if i % 2 == 0:\n",
    "            print(lst[i])"
   ]
  },
  {
   "cell_type": "code",
   "execution_count": 38,
   "metadata": {},
   "outputs": [],
   "source": [
    "def affiche_1_elements_sur_2(lst):\n",
    "    for i in range(0, len(lst), 2):\n",
    "        print(lst[i])"
   ]
  },
  {
   "cell_type": "code",
   "execution_count": 41,
   "metadata": {},
   "outputs": [],
   "source": [
    "def affiche_1_elements_sur_2(lst):\n",
    "    affiche = True\n",
    "    for i in range(len(lst)):\n",
    "        if affiche:\n",
    "            print(lst[i])\n",
    "        affiche = not affiche"
   ]
  },
  {
   "cell_type": "code",
   "execution_count": 43,
   "metadata": {},
   "outputs": [],
   "source": [
    "def affiche_1_elements_sur_2(lst):\n",
    "    i = 0\n",
    "    while i < len(lst):\n",
    "        print(lst[i])\n",
    "        i += 2"
   ]
  },
  {
   "cell_type": "code",
   "execution_count": 37,
   "metadata": {},
   "outputs": [
    {
     "data": {
      "text/plain": [
       "['a',\n",
       " 'b',\n",
       " 'c',\n",
       " 'd',\n",
       " 'e',\n",
       " 'f',\n",
       " 'g',\n",
       " 'h',\n",
       " 'i',\n",
       " 'j',\n",
       " 'k',\n",
       " 'l',\n",
       " 'm',\n",
       " 'n',\n",
       " 'o',\n",
       " 'p',\n",
       " 'q',\n",
       " 'r',\n",
       " 's',\n",
       " 't',\n",
       " 'u',\n",
       " 'v',\n",
       " 'w',\n",
       " 'x',\n",
       " 'y',\n",
       " 'z']"
      ]
     },
     "execution_count": 37,
     "metadata": {},
     "output_type": "execute_result"
    }
   ],
   "source": [
    "lettres = list(\"abcdefghijklmnopqrstuvwxyz\")\n",
    "lettres"
   ]
  },
  {
   "cell_type": "code",
   "execution_count": 44,
   "metadata": {},
   "outputs": [
    {
     "name": "stdout",
     "output_type": "stream",
     "text": [
      "a\n",
      "c\n",
      "e\n",
      "g\n",
      "i\n",
      "k\n",
      "m\n",
      "o\n",
      "q\n",
      "s\n",
      "u\n",
      "w\n",
      "y\n"
     ]
    }
   ],
   "source": [
    "affiche_1_elements_sur_2(lettres)"
   ]
  },
  {
   "cell_type": "markdown",
   "metadata": {},
   "source": [
    "### 2) Test d'appartenance\n",
    "\n",
    "Nous allons maintenant voir comment faire pour savoir si une valeur `val` est un élément d'une liste `lst`.\n",
    "\n",
    "Pour cela, il suffit de parcourir la liste `lst`. Pour chaque position `i` de la liste :\n",
    "* on teste si l'élément en position `i` est égal à `val` : dans ce cas, on retourne `True` ;\n",
    "* Si on est sorti de la boucle permettant de parcourir `lst`, on retourne `False` car l'élément `val` n'est pas présent dans `lst`.\n",
    "\n",
    "**Exercice 2 :** Écrire une fonction recevant une liste et une valeur, et\n",
    "renvoyant `True` si la valeur apparaît dans la liste (`False` sinon)"
   ]
  },
  {
   "cell_type": "code",
   "execution_count": 46,
   "metadata": {},
   "outputs": [
    {
     "name": "stdout",
     "output_type": "stream",
     "text": [
      "True\n"
     ]
    }
   ],
   "source": [
    "def appartient(lst, val):\n",
    "    for i in range(len(lst)):\n",
    "        if lst[i] == val:\n",
    "            return True\n",
    "        # PAS DE ELSE !!!\n",
    "        # PAS DE RETURN FALSE !!!\n",
    "    return False\n",
    "\n",
    "lst = ['Hildegarde', 'Cunégonde', 'Médor']\n",
    "\n",
    "print(appartient(lst, 'Cunégonde'))\n",
    "\n",
    "if appartient(lst, 'Rex'):\n",
    "    print('Bon chien !') "
   ]
  },
  {
   "cell_type": "markdown",
   "metadata": {},
   "source": [
    "**Cette fonctionnalité existe déjà en Python :**\n",
    "\n",
    "-   `val in lst` vaut `True` si `val` apparaît dans `lst`, `False` sinon\n",
    "-   Réciproquement, on peut écrire `val not in lst`"
   ]
  },
  {
   "cell_type": "code",
   "execution_count": 47,
   "metadata": {},
   "outputs": [
    {
     "data": {
      "text/plain": [
       "True"
      ]
     },
     "execution_count": 47,
     "metadata": {},
     "output_type": "execute_result"
    }
   ],
   "source": [
    "lst = ['Hildegarde', 'Cunégonde', 'Médor']\n",
    "'Cunégonde' in lst"
   ]
  },
  {
   "cell_type": "code",
   "execution_count": 48,
   "metadata": {},
   "outputs": [
    {
     "data": {
      "text/plain": [
       "False"
      ]
     },
     "execution_count": 48,
     "metadata": {},
     "output_type": "execute_result"
    }
   ],
   "source": [
    "lst = ['Hildegarde', 'Cunégonde', 'Médor']\n",
    "'Anastasie' in lst"
   ]
  },
  {
   "cell_type": "code",
   "execution_count": 49,
   "metadata": {},
   "outputs": [
    {
     "data": {
      "text/plain": [
       "True"
      ]
     },
     "execution_count": 49,
     "metadata": {},
     "output_type": "execute_result"
    }
   ],
   "source": [
    "lst = ['Hildegarde', 'Cunégonde', 'Médor']\n",
    "'Rex' not in lst"
   ]
  },
  {
   "cell_type": "code",
   "execution_count": 50,
   "metadata": {},
   "outputs": [
    {
     "name": "stdout",
     "output_type": "stream",
     "text": [
      "Bon chien !\n"
     ]
    }
   ],
   "source": [
    "lst = ['Hildegarde', 'Cunégonde', 'Médor']\n",
    "if 'Médor' in lst:\n",
    "    print('Bon chien !')"
   ]
  },
  {
   "cell_type": "code",
   "execution_count": 53,
   "metadata": {},
   "outputs": [
    {
     "data": {
      "text/plain": [
       "False"
      ]
     },
     "execution_count": 53,
     "metadata": {},
     "output_type": "execute_result"
    }
   ],
   "source": [
    "\"toute\" in \"bonjour tout le monde\""
   ]
  },
  {
   "cell_type": "markdown",
   "metadata": {},
   "source": [
    "### 3) Minimum et maximum d'une liste\n",
    "\n",
    "**Exercice 3 :** Écrire une fonction recevant une liste **non vide d'éléments comparables entre eux** et renvoyant la valeur du plus petit élément qui apparaît dans la liste"
   ]
  },
  {
   "cell_type": "code",
   "execution_count": 60,
   "metadata": {},
   "outputs": [
    {
     "ename": "ValueError",
     "evalue": "minimum sur une liste vide",
     "output_type": "error",
     "traceback": [
      "\u001b[0;31m---------------------------------------------------------------------------\u001b[0m",
      "\u001b[0;31mValueError\u001b[0m                                Traceback (most recent call last)",
      "\u001b[0;32m<ipython-input-60-e286d79de47d>\u001b[0m in \u001b[0;36m<module>\u001b[0;34m\u001b[0m\n\u001b[1;32m      8\u001b[0m     \u001b[0;32mreturn\u001b[0m \u001b[0mtemp\u001b[0m\u001b[0;34m\u001b[0m\u001b[0;34m\u001b[0m\u001b[0m\n\u001b[1;32m      9\u001b[0m \u001b[0;34m\u001b[0m\u001b[0m\n\u001b[0;32m---> 10\u001b[0;31m \u001b[0mminimum\u001b[0m\u001b[0;34m(\u001b[0m\u001b[0;34m[\u001b[0m\u001b[0;34m]\u001b[0m\u001b[0;34m)\u001b[0m\u001b[0;34m\u001b[0m\u001b[0;34m\u001b[0m\u001b[0m\n\u001b[0m",
      "\u001b[0;32m<ipython-input-60-e286d79de47d>\u001b[0m in \u001b[0;36mminimum\u001b[0;34m(lst)\u001b[0m\n\u001b[1;32m      1\u001b[0m \u001b[0;32mdef\u001b[0m \u001b[0mminimum\u001b[0m\u001b[0;34m(\u001b[0m\u001b[0mlst\u001b[0m\u001b[0;34m)\u001b[0m\u001b[0;34m:\u001b[0m\u001b[0;34m\u001b[0m\u001b[0;34m\u001b[0m\u001b[0m\n\u001b[1;32m      2\u001b[0m     \u001b[0;32mif\u001b[0m \u001b[0mlen\u001b[0m\u001b[0;34m(\u001b[0m\u001b[0mlst\u001b[0m\u001b[0;34m)\u001b[0m \u001b[0;34m==\u001b[0m \u001b[0;36m0\u001b[0m\u001b[0;34m:\u001b[0m\u001b[0;34m\u001b[0m\u001b[0;34m\u001b[0m\u001b[0m\n\u001b[0;32m----> 3\u001b[0;31m         \u001b[0;32mraise\u001b[0m \u001b[0mValueError\u001b[0m\u001b[0;34m(\u001b[0m\u001b[0;34m\"minimum sur une liste vide\"\u001b[0m\u001b[0;34m)\u001b[0m\u001b[0;34m\u001b[0m\u001b[0;34m\u001b[0m\u001b[0m\n\u001b[0m\u001b[1;32m      4\u001b[0m     \u001b[0mtemp\u001b[0m \u001b[0;34m=\u001b[0m \u001b[0mlst\u001b[0m\u001b[0;34m[\u001b[0m\u001b[0;36m0\u001b[0m\u001b[0;34m]\u001b[0m\u001b[0;34m\u001b[0m\u001b[0;34m\u001b[0m\u001b[0m\n\u001b[1;32m      5\u001b[0m     \u001b[0;32mfor\u001b[0m \u001b[0mi\u001b[0m \u001b[0;32min\u001b[0m \u001b[0mrange\u001b[0m\u001b[0;34m(\u001b[0m\u001b[0;36m1\u001b[0m\u001b[0;34m,\u001b[0m \u001b[0mlen\u001b[0m\u001b[0;34m(\u001b[0m\u001b[0mlst\u001b[0m\u001b[0;34m)\u001b[0m\u001b[0;34m)\u001b[0m\u001b[0;34m:\u001b[0m\u001b[0;34m\u001b[0m\u001b[0;34m\u001b[0m\u001b[0m\n",
      "\u001b[0;31mValueError\u001b[0m: minimum sur une liste vide"
     ]
    }
   ],
   "source": [
    "def minimum(lst):\n",
    "    if len(lst) == 0:\n",
    "        raise ValueError(\"minimum sur une liste vide\")\n",
    "    temp = lst[0]\n",
    "    for i in range(1, len(lst)):\n",
    "        if lst[i] < temp:\n",
    "            temp = lst[i]\n",
    "    return temp\n",
    "\n",
    "minimum([])"
   ]
  },
  {
   "cell_type": "markdown",
   "metadata": {},
   "source": [
    "Même question pour le plus grand élément"
   ]
  },
  {
   "cell_type": "code",
   "execution_count": null,
   "metadata": {},
   "outputs": [],
   "source": [
    "def maximum(lst):\n",
    "    ..."
   ]
  },
  {
   "cell_type": "markdown",
   "metadata": {},
   "source": [
    "**Ces fonctionnalités existent déjà en Python :** ce sont les fonctions `min` et `max`."
   ]
  },
  {
   "cell_type": "code",
   "execution_count": 56,
   "metadata": {},
   "outputs": [
    {
     "data": {
      "text/plain": [
       "(-7, 13)"
      ]
     },
     "execution_count": 56,
     "metadata": {},
     "output_type": "execute_result"
    }
   ],
   "source": [
    "lst = [4, 6.6, 2, -7, 13, -6, 0]\n",
    "min(lst), max(lst)"
   ]
  },
  {
   "cell_type": "markdown",
   "metadata": {},
   "source": [
    "<img src='img/warning.png' width='50px' style='display:inline'> Pour que cela fonctionne il faut que tous les éléments soient comparables !"
   ]
  },
  {
   "cell_type": "code",
   "execution_count": 57,
   "metadata": {},
   "outputs": [
    {
     "ename": "TypeError",
     "evalue": "'<' not supported between instances of 'str' and 'int'",
     "output_type": "error",
     "traceback": [
      "\u001b[0;31m---------------------------------------------------------------------------\u001b[0m",
      "\u001b[0;31mTypeError\u001b[0m                                 Traceback (most recent call last)",
      "\u001b[0;32m<ipython-input-57-a87aa1f45161>\u001b[0m in \u001b[0;36m<module>\u001b[0;34m\u001b[0m\n\u001b[1;32m      1\u001b[0m \u001b[0mlst\u001b[0m \u001b[0;34m=\u001b[0m \u001b[0;34m[\u001b[0m\u001b[0;36m3\u001b[0m\u001b[0;34m,\u001b[0m \u001b[0;34m'toto'\u001b[0m\u001b[0;34m,\u001b[0m \u001b[0;36m4.5\u001b[0m\u001b[0;34m,\u001b[0m \u001b[0;32mFalse\u001b[0m\u001b[0;34m,\u001b[0m \u001b[0;32mNone\u001b[0m\u001b[0;34m]\u001b[0m\u001b[0;34m\u001b[0m\u001b[0;34m\u001b[0m\u001b[0m\n\u001b[0;32m----> 2\u001b[0;31m \u001b[0mmin\u001b[0m\u001b[0;34m(\u001b[0m\u001b[0mlst\u001b[0m\u001b[0;34m)\u001b[0m\u001b[0;34m\u001b[0m\u001b[0;34m\u001b[0m\u001b[0m\n\u001b[0m",
      "\u001b[0;31mTypeError\u001b[0m: '<' not supported between instances of 'str' and 'int'"
     ]
    }
   ],
   "source": [
    "lst = [3, 'toto', 4.5, False, None]\n",
    "min(lst)"
   ]
  },
  {
   "cell_type": "markdown",
   "metadata": {},
   "source": [
    "Une erreur se produit aussi si l'on appelle ces fonctions sur une liste vide :"
   ]
  },
  {
   "cell_type": "code",
   "execution_count": 58,
   "metadata": {},
   "outputs": [
    {
     "ename": "ValueError",
     "evalue": "min() arg is an empty sequence",
     "output_type": "error",
     "traceback": [
      "\u001b[0;31m---------------------------------------------------------------------------\u001b[0m",
      "\u001b[0;31mValueError\u001b[0m                                Traceback (most recent call last)",
      "\u001b[0;32m<ipython-input-58-cb4199d4da81>\u001b[0m in \u001b[0;36m<module>\u001b[0;34m\u001b[0m\n\u001b[0;32m----> 1\u001b[0;31m \u001b[0mmin\u001b[0m\u001b[0;34m(\u001b[0m\u001b[0;34m[\u001b[0m\u001b[0;34m]\u001b[0m\u001b[0;34m)\u001b[0m\u001b[0;34m\u001b[0m\u001b[0;34m\u001b[0m\u001b[0m\n\u001b[0m",
      "\u001b[0;31mValueError\u001b[0m: min() arg is an empty sequence"
     ]
    }
   ],
   "source": [
    "min([])"
   ]
  },
  {
   "cell_type": "markdown",
   "metadata": {},
   "source": [
    "### 4) Somme des éléments d'une liste\n",
    "\n",
    "**Exercice 4 :** Écrire une fonction `somme(lst)` qui renvoie la somme des éléments d'une liste dont tous les éléments sont des nombres."
   ]
  },
  {
   "cell_type": "code",
   "execution_count": null,
   "metadata": {},
   "outputs": [],
   "source": [
    "def somme(lst):\n",
    "    ..."
   ]
  },
  {
   "cell_type": "markdown",
   "metadata": {},
   "source": [
    "La fonction prédéfinie `sum` de Python réalise également ce calcul :"
   ]
  },
  {
   "cell_type": "code",
   "execution_count": 61,
   "metadata": {},
   "outputs": [
    {
     "data": {
      "text/plain": [
       "6"
      ]
     },
     "execution_count": 61,
     "metadata": {},
     "output_type": "execute_result"
    }
   ],
   "source": [
    "sum([1, 2, 3])"
   ]
  },
  {
   "cell_type": "markdown",
   "metadata": {},
   "source": [
    "<img src='img/warning.png' width='50px' style='display:inline'> La fonction `sum` provoque une erreur si un élément de la liste n'est pas un nombre !"
   ]
  },
  {
   "cell_type": "code",
   "execution_count": 62,
   "metadata": {},
   "outputs": [
    {
     "ename": "TypeError",
     "evalue": "unsupported operand type(s) for +: 'int' and 'str'",
     "output_type": "error",
     "traceback": [
      "\u001b[0;31m---------------------------------------------------------------------------\u001b[0m",
      "\u001b[0;31mTypeError\u001b[0m                                 Traceback (most recent call last)",
      "\u001b[0;32m<ipython-input-62-2b83eff6ee22>\u001b[0m in \u001b[0;36m<module>\u001b[0;34m\u001b[0m\n\u001b[0;32m----> 1\u001b[0;31m \u001b[0msum\u001b[0m\u001b[0;34m(\u001b[0m\u001b[0;34m[\u001b[0m\u001b[0;36m3\u001b[0m\u001b[0;34m,\u001b[0m \u001b[0;34m'toto'\u001b[0m\u001b[0;34m,\u001b[0m \u001b[0;36m4.5\u001b[0m\u001b[0;34m,\u001b[0m \u001b[0;32mFalse\u001b[0m\u001b[0;34m,\u001b[0m \u001b[0;32mNone\u001b[0m\u001b[0;34m]\u001b[0m\u001b[0;34m)\u001b[0m\u001b[0;34m\u001b[0m\u001b[0;34m\u001b[0m\u001b[0m\n\u001b[0m",
      "\u001b[0;31mTypeError\u001b[0m: unsupported operand type(s) for +: 'int' and 'str'"
     ]
    }
   ],
   "source": [
    "sum([3, 'toto', 4.5, False, None])"
   ]
  },
  {
   "cell_type": "markdown",
   "metadata": {},
   "source": [
    "### Vérifier vos connaissances :\n",
    "\n",
    "A ce stade, vous devriez être capable de :\n",
    "* parcourir une liste et effectuer un traitement sur ses éléments ;\n",
    "* tester si une valeur est un élément d'une liste ;\n",
    "* déterminer la valeur minimale et maximale d'une liste d'éléments comparables ;\n",
    "* sommer les éléments d'une liste."
   ]
  },
  {
   "cell_type": "markdown",
   "metadata": {},
   "source": [
    "## V Fonctions modifiant des éléments d'une liste\n",
    "\n",
    "\n",
    "Soit la fonction `foo(lst)` effectuant un traitement sur la liste `lst`.\n",
    "Supposons qu'elle soit appellé par `foo(ma_liste)`.\n",
    "\n",
    "Lorsqu'on passe la liste `ma_liste` en argument de la fonction `foo`, un nouveau nom de variable (`lst`) est créé. Ce  nom désigne la même liste que `ma_liste`. Donc, si on change un élément de `lst` (`lst[i]`) dans la fonction `foo`, cet élément est en fait celui de la liste `ma_liste` (`ma_liste[i]`). "
   ]
  },
  {
   "cell_type": "code",
   "execution_count": 63,
   "metadata": {},
   "outputs": [
    {
     "data": {
      "text/plain": [
       "[1, 5, 3]"
      ]
     },
     "execution_count": 63,
     "metadata": {},
     "output_type": "execute_result"
    }
   ],
   "source": [
    "def remplace(lst, val, pos):\n",
    "    \"\"\"Modifie l'élément d'indice pos de la liste lst pour prendre la valeur val\"\"\"\n",
    "    lst[pos] = val\n",
    "    \n",
    "    \n",
    "ma_liste = [1, 2, 3]\n",
    "remplace(ma_liste, 5, 1)\n",
    "ma_liste"
   ]
  },
  {
   "cell_type": "markdown",
   "metadata": {},
   "source": [
    "Dans cet exemple, l'appel `remplace(ma_liste, 5, 1)` permet de remplacer l'élément d'indice `pos` de la liste `ma_liste` par `val`, et cette modification est conservée après la fin de l'exécution de la fonction. En effet, au cours de l'exécution du corps de la fonction, les nom de variable `lst` et `ma_liste` désignent la même liste.\n",
    "\n",
    "\n",
    "Par contre, si on affecte une nouvelle valeur à la variable `lst`, la liste `ma_liste` passée en argument sera inchangée :"
   ]
  },
  {
   "cell_type": "code",
   "execution_count": 67,
   "metadata": {},
   "outputs": [
    {
     "data": {
      "text/plain": [
       "[1, 5, 3]"
      ]
     },
     "execution_count": 67,
     "metadata": {},
     "output_type": "execute_result"
    }
   ],
   "source": [
    "def quadruple_faux(lst):\n",
    "    \"\"\"Un exemple où la liste l est réaffectée et ne modifie en fait pas la liste passée en argument\"\"\"\n",
    "    lst = lst * 4\n",
    "\n",
    "quadruple_faux(ma_liste)\n",
    "ma_liste"
   ]
  },
  {
   "cell_type": "markdown",
   "metadata": {},
   "source": [
    "Néanmoins, lors de l'appel `quaduple_faux(ma_liste)`, `lst` et `ma_liste` désignent aussi la même liste. Mais l'exécution de la ligne `lst = lst * 4` va créer une nouvelle liste. Il y a simplement une réaffectation de la variable `lst`. La liste `ma_liste` passée en argument est donc inchangée après le retour de la fonction.\n",
    "\n",
    "*Nous verrons un peu plus loin comment corriger cette fonction `quaduple(lst)`.*\n",
    "\n",
    "Visualisez ces exemples en détail avec [Python tutor](http://pythontutor.com/visualize.html#code=def%20remplace%28l,%20val,%20pos%29%3A%0A%20%20%20%20\"\"\"Modifie%20l'élément%20d'indice%20pos%20de%20la%20liste%20l%0A%20%20%20%20pour%20prendre%20la%20valeur%20val\"\"\"%0A%20%20%20%20l%5Bpos%5D%20%3D%20val%0A%20%20%20%20%0A%20%20%20%20%0Adef%20quadruple_faux%28l%29%3A%0A%20%20%20%20\"\"\"Un%20exemple%20où%20la%20liste%20l%20est%20réaffectée%0A%20%20%20%20et%20ne%20modifie%20en%20fait%20pas%20la%20liste%20passée%0A%20%20%20%20en%20argument\"\"\"%0A%20%20%20%20l%20%3D%20l%20*%204%0A%0Alst%20%3D%20%5B1,%202,%203%5D%0Aremplace%28lst,%205,%201%29%0Aprint%28lst%29%0Aquadruple_faux%28lst%29%0Aprint%28lst%29&cumulative=false&curInstr=13&heapPrimitives=false&mode=display&origin=opt-frontend.js&py=3&rawInputLstJSON=%5B%5D&textReferences=false)."
   ]
  },
  {
   "cell_type": "markdown",
   "metadata": {},
   "source": [
    "### Vérifier vos connaissances :\n",
    "\n",
    "A ce stade, vous devriez être capable de :\n",
    "* modifier une liste lors d'un appel de fonction."
   ]
  },
  {
   "cell_type": "markdown",
   "metadata": {},
   "source": [
    "**Exercice 5 :** Écrire une fonction `renverser` renversant l'ordre des éléments d'une liste `lst` en la modifiant.\n",
    "\n",
    "Par exemple, le programme suivant\n",
    "```python\n",
    "lst = [3, 'toto', 4.5, False, None, 4.5]\n",
    "renverser(lst)\n",
    "print(lst)\n",
    "```\n",
    "doit provoquer l'affichage de `[4.5, None, False, 4.5, 'toto', 3]`."
   ]
  },
  {
   "cell_type": "code",
   "execution_count": null,
   "metadata": {},
   "outputs": [],
   "source": [
    "def renverser(lst):\n",
    "    \"\"\" Fonction renversant l'ordre des éléments de la liste lst \"\"\"\n",
    "    ...\n",
    "\n",
    "lst = [3, 'toto', 4.5, False, None, 4.5]\n",
    "renverser(lst)\n",
    "lst"
   ]
  },
  {
   "cell_type": "markdown",
   "metadata": {},
   "source": [
    "## VI Manipulations plus complexes : méthodes\n",
    "\n",
    "Une méthode est une fonction associée à un type, appelable sous la forme `nom_de_variable.nom_de_methode()`.\n",
    "\n",
    "On va maintenant énumérer un certain nombre de méthodes prédéfinies sur les listes, permettant des modifications plus complexes. Pour plus de détails, on pourra consulter la [documentation en ligne](https://docs.python.org/fr/3/tutorial/datastructures.html)."
   ]
  },
  {
   "cell_type": "markdown",
   "metadata": {},
   "source": [
    "### 1) Agrandir ou rétrécir une liste\n",
    "\n",
    "Plusieurs instructions ont un effet sur la taille de la liste :\n",
    "\n",
    "-   L'instruction `lst.append(elem)` ajoute l'élément `elem` à la fin de\n",
    "    la liste `lst`\n",
    "\n",
    "-   L'instruction `lst.pop()` supprime le dernier élément de `lst` et\n",
    "    renvoie sa valeur\n",
    "\n",
    "-   L'instruction `lst.pop(i)` supprime l'élément d'indice `i` de `lst` et\n",
    "    renvoie sa valeur\n",
    "\n",
    "*Les fonctions `append` et `pop` sont appelées **méthodes**, ou fonctions\n",
    "s'appliquant à un type (nous en verrons d'autres dans les cours\n",
    "suivants)*\n",
    "\n",
    "<img src='img/warning.png' width='50px' style='display:inline'> Ces instructions ne créent pas une nouvelle liste mais modifient la liste sur place !"
   ]
  },
  {
   "cell_type": "code",
   "execution_count": 68,
   "metadata": {},
   "outputs": [
    {
     "data": {
      "text/plain": [
       "[3, 'toto', 4.5, False, None, 1]"
      ]
     },
     "execution_count": 68,
     "metadata": {},
     "output_type": "execute_result"
    }
   ],
   "source": [
    "lst = [3, 'toto', 4.5, False, None]\n",
    "\n",
    "lst.append(1)\n",
    "lst"
   ]
  },
  {
   "cell_type": "code",
   "execution_count": 69,
   "metadata": {},
   "outputs": [
    {
     "data": {
      "text/plain": [
       "4.5"
      ]
     },
     "execution_count": 69,
     "metadata": {},
     "output_type": "execute_result"
    }
   ],
   "source": [
    "elem = lst.pop(2)\n",
    "elem"
   ]
  },
  {
   "cell_type": "code",
   "execution_count": 70,
   "metadata": {},
   "outputs": [
    {
     "data": {
      "text/plain": [
       "[3, 'toto', False, None, 1]"
      ]
     },
     "execution_count": 70,
     "metadata": {},
     "output_type": "execute_result"
    }
   ],
   "source": [
    "lst"
   ]
  },
  {
   "cell_type": "markdown",
   "metadata": {},
   "source": [
    "<img src='img/warning.png' width='50px' style='display:inline'> Ne pas confondre `x = lst[2]` qui accède à l'élément d'incide `2` et `x = lst.pop(2)` qui supprime l'élément d'indice `2` et l'affecte à `x` !"
   ]
  },
  {
   "cell_type": "markdown",
   "metadata": {},
   "source": [
    "On peut aussi ajouter plus d'un élément en une instruction.\n",
    "\n",
    "**Exercice 6** : Ecrire une fonction `etend_liste(une_liste, autre_liste)` recevant deux listes et ajoutant tous\n",
    "les éléments de la seconde à la fin de la première.\n",
    "Celle-ci ne doit pas contenir de `return`, car `une_liste` doit être modifiée sur place. La liste `autre_liste` ne doit pas être modifiée."
   ]
  },
  {
   "cell_type": "code",
   "execution_count": 3,
   "metadata": {},
   "outputs": [
    {
     "data": {
      "text/plain": [
       "[0, 1, 2, 3]"
      ]
     },
     "execution_count": 3,
     "metadata": {},
     "output_type": "execute_result"
    }
   ],
   "source": [
    "def etend_liste(une_liste, autre_liste):\n",
    "    for i in range(len(autre_liste)):\n",
    "        une_liste.append(autre_liste[i])\n",
    "        \n",
    "lst1 = [0]\n",
    "lst2 = [1, 2, 3]\n",
    "etend_liste(lst1, lst2)\n",
    "lst1"
   ]
  },
  {
   "cell_type": "markdown",
   "metadata": {},
   "source": [
    "Cette fonctionnalité existe déjà en Python : c'est la méthode `extend` dont l'appel s'effectue par \n",
    "    `une_liste.extend(autre_liste)`."
   ]
  },
  {
   "cell_type": "code",
   "execution_count": 4,
   "metadata": {},
   "outputs": [
    {
     "name": "stdout",
     "output_type": "stream",
     "text": [
      "[3, 'toto', 4.5, False, None]\n",
      "[3, 'toto', 4.5, False, None]\n"
     ]
    }
   ],
   "source": [
    "lst = [3, 'toto', 4.5]\n",
    "lst_bis = lst\n",
    "lst2 = [False, None]\n",
    "\n",
    "lst.extend(lst2)\n",
    "print(lst)\n",
    "print(lst_bis)"
   ]
  },
  {
   "cell_type": "markdown",
   "metadata": {},
   "source": [
    "<img src='img/warning.png' width='50px' style='display:inline'> La méthode `append` ne permet pas d'ajouter les éléments d'une liste à la fin, il rajoute la liste entière, considérée comme un seul élément."
   ]
  },
  {
   "cell_type": "code",
   "execution_count": 5,
   "metadata": {
    "scrolled": true
   },
   "outputs": [
    {
     "data": {
      "text/plain": [
       "[3, 'toto', 4.5, False, None, [False, None]]"
      ]
     },
     "execution_count": 5,
     "metadata": {},
     "output_type": "execute_result"
    }
   ],
   "source": [
    "lst.append(lst2)\n",
    "lst"
   ]
  },
  {
   "cell_type": "markdown",
   "metadata": {},
   "source": [
    "<img src='img/warning.png' width='50px' style='display:inline'> La méthode `extend` a un comportement en mémoire différent de l'opérateur `+` : \n",
    "* `lst.extend(lst_2)` modifie sur place la liste `lst`.\n",
    "* `lst = lst + lst_2` créé une nouvelle liste, stockée dans `lst`."
   ]
  },
  {
   "cell_type": "code",
   "execution_count": 6,
   "metadata": {},
   "outputs": [
    {
     "name": "stdout",
     "output_type": "stream",
     "text": [
      "lst = [3, 'toto', 4.5, False, None]\n",
      "lst_bis = [3, 'toto', 4.5]\n"
     ]
    }
   ],
   "source": [
    "lst = [3, 'toto', 4.5]\n",
    "lst_bis = lst\n",
    "lst2 = [False, None]\n",
    "\n",
    "lst = lst + lst2\n",
    "print(\"lst =\", lst)\n",
    "print(\"lst_bis =\", lst_bis)"
   ]
  },
  {
   "cell_type": "markdown",
   "metadata": {},
   "source": [
    "### 2) Rechercher la position d'un élément\n",
    "\n",
    "**Exercice 7 :** En effectuant un parcours de liste, écrire une fonction `chercher(lst, x)` renvoyant le plus petit indice où apparaît un élément `x` dans une liste `lst` (on renverra `None` si `x` n'apparaît pas dans la liste)"
   ]
  },
  {
   "cell_type": "code",
   "execution_count": 9,
   "metadata": {},
   "outputs": [
    {
     "data": {
      "text/plain": [
       "5"
      ]
     },
     "execution_count": 9,
     "metadata": {},
     "output_type": "execute_result"
    }
   ],
   "source": [
    "def chercher(lst, x):\n",
    "    for i in range(len(lst)):\n",
    "        if lst[i] == x:\n",
    "            return i\n",
    "    return None\n",
    "\n",
    "chercher([0] * 5 + [1] + [0 * 12], 1)"
   ]
  },
  {
   "cell_type": "markdown",
   "metadata": {},
   "source": [
    "Cette fonction existe déjà en Python : c'est la méthode `index`."
   ]
  },
  {
   "cell_type": "code",
   "execution_count": 10,
   "metadata": {},
   "outputs": [
    {
     "data": {
      "text/plain": [
       "2"
      ]
     },
     "execution_count": 10,
     "metadata": {},
     "output_type": "execute_result"
    }
   ],
   "source": [
    "lst = [3, 'toto', 4.5, False, None, 4.5]\n",
    "lst.index(4.5)"
   ]
  },
  {
   "cell_type": "markdown",
   "metadata": {},
   "source": [
    "<img src='img/warning.png' width='50px' style='display:inline'> Contrairement à ce que l'on a codé dans l'exercice 7, la méthode `index` provoque une erreur si l'élément à retirer n'est pas dans la liste..."
   ]
  },
  {
   "cell_type": "code",
   "execution_count": 11,
   "metadata": {},
   "outputs": [
    {
     "ename": "ValueError",
     "evalue": "3.5 is not in list",
     "output_type": "error",
     "traceback": [
      "\u001b[0;31m---------------------------------------------------------------------------\u001b[0m",
      "\u001b[0;31mValueError\u001b[0m                                Traceback (most recent call last)",
      "\u001b[0;32m<ipython-input-11-5060db434b65>\u001b[0m in \u001b[0;36m<module>\u001b[0;34m\u001b[0m\n\u001b[1;32m      1\u001b[0m \u001b[0mlst\u001b[0m \u001b[0;34m=\u001b[0m \u001b[0;34m[\u001b[0m\u001b[0;36m3\u001b[0m\u001b[0;34m,\u001b[0m \u001b[0;34m'toto'\u001b[0m\u001b[0;34m,\u001b[0m \u001b[0;36m4.5\u001b[0m\u001b[0;34m,\u001b[0m \u001b[0;32mFalse\u001b[0m\u001b[0;34m,\u001b[0m \u001b[0;32mNone\u001b[0m\u001b[0;34m,\u001b[0m \u001b[0;36m4.5\u001b[0m\u001b[0;34m]\u001b[0m\u001b[0;34m\u001b[0m\u001b[0;34m\u001b[0m\u001b[0m\n\u001b[0;32m----> 2\u001b[0;31m \u001b[0mlst\u001b[0m\u001b[0;34m.\u001b[0m\u001b[0mindex\u001b[0m\u001b[0;34m(\u001b[0m\u001b[0;36m3.5\u001b[0m\u001b[0;34m)\u001b[0m\u001b[0;34m\u001b[0m\u001b[0;34m\u001b[0m\u001b[0m\n\u001b[0m",
      "\u001b[0;31mValueError\u001b[0m: 3.5 is not in list"
     ]
    }
   ],
   "source": [
    "lst = [3, 'toto', 4.5, False, None, 4.5]\n",
    "lst.index(3.5)"
   ]
  },
  {
   "cell_type": "markdown",
   "metadata": {},
   "source": [
    "Variante :"
   ]
  },
  {
   "cell_type": "code",
   "execution_count": 13,
   "metadata": {},
   "outputs": [
    {
     "data": {
      "text/plain": [
       "[2, 5]"
      ]
     },
     "execution_count": 13,
     "metadata": {},
     "output_type": "execute_result"
    }
   ],
   "source": [
    "def positions(lst, x):\n",
    "    acc = []\n",
    "    for i in range(len(lst)):\n",
    "        if x == lst[i]:\n",
    "            acc.append(i)\n",
    "    return acc\n",
    "\n",
    "lst = [3, 'toto', 4.5, False, None, 4.5]\n",
    "positions(lst, 4.5)"
   ]
  },
  {
   "cell_type": "markdown",
   "metadata": {},
   "source": [
    "### 3) Compter le nombre d'occurrences d'un élément\n",
    "\n",
    "**Exercice 8 :** En effectuant un parcours de liste, écrire une fonction `compter(lst, x)` renvoyant le nombre de fois où apparaît un élément `x` dans une liste `lst`."
   ]
  },
  {
   "cell_type": "code",
   "execution_count": 12,
   "metadata": {},
   "outputs": [
    {
     "data": {
      "text/plain": [
       "2"
      ]
     },
     "execution_count": 12,
     "metadata": {},
     "output_type": "execute_result"
    }
   ],
   "source": [
    "def compter(lst, x):\n",
    "    a = 0\n",
    "    for i in range(len(lst)):\n",
    "        if x == lst[i]:\n",
    "            a += 1\n",
    "    return a\n",
    "\n",
    "lst = [3, 'toto', 4.5, False, None, 4.5]\n",
    "compter(lst, 4.5)"
   ]
  },
  {
   "cell_type": "markdown",
   "metadata": {},
   "source": [
    "Cette fonction existe déjà en Python : c'est la méthode `count`."
   ]
  },
  {
   "cell_type": "code",
   "execution_count": null,
   "metadata": {},
   "outputs": [],
   "source": [
    "lst = [3, 'toto', 4.5, False, None, 4.5]\n",
    "lst.count(4.5)"
   ]
  },
  {
   "cell_type": "markdown",
   "metadata": {},
   "source": [
    "### 4) Renverser une liste\n",
    "\n",
    "A l'exercice 5, nous avons déjà écris une fonction `renverser` renversant l'ordre des éléments d'une liste `lst` en la modifiant.\n",
    "\n",
    "Par exemple, le programme suivant :\n",
    "```python\n",
    "lst = [3, 'toto', 4.5, False, None, 4.5]\n",
    "renverser(lst)\n",
    "print(lst)\n",
    "```\n",
    "provoquait l'affichage de `[4.5, None, False, 4.5, 'toto', 3]`.\n",
    "\n",
    "Cette fonction existe déjà en Python : c'est la méthode `reverse`."
   ]
  },
  {
   "cell_type": "code",
   "execution_count": 14,
   "metadata": {},
   "outputs": [
    {
     "name": "stdout",
     "output_type": "stream",
     "text": [
      "[4.5, None, False, 4.5, 'toto', 3]\n"
     ]
    }
   ],
   "source": [
    "lst = [3, 'toto', 4.5, False, None, 4.5]\n",
    "lst.reverse()\n",
    "print(lst)"
   ]
  },
  {
   "cell_type": "markdown",
   "metadata": {},
   "source": [
    "### 5) Retirer un élément donné\n",
    "\n",
    "**Exercice 9 :** Écrire une fonction retirant la première occurrence d'un élément `x` dans une liste `lst` (on ne fera rien si la liste ne contient pas `x`)"
   ]
  },
  {
   "cell_type": "code",
   "execution_count": null,
   "metadata": {},
   "outputs": [],
   "source": [
    "def retirer(lst, x):\n",
    "    ..."
   ]
  },
  {
   "cell_type": "markdown",
   "metadata": {},
   "source": [
    "Cette fonction existe déjà en Python : c'est la méthode `remove`."
   ]
  },
  {
   "cell_type": "code",
   "execution_count": 15,
   "metadata": {},
   "outputs": [
    {
     "data": {
      "text/plain": [
       "[3, 'toto', False, None, 4.5]"
      ]
     },
     "execution_count": 15,
     "metadata": {},
     "output_type": "execute_result"
    }
   ],
   "source": [
    "lst = [3, 'toto', 4.5, False, None, 4.5]\n",
    "lst.remove(4.5)\n",
    "lst"
   ]
  },
  {
   "cell_type": "markdown",
   "metadata": {},
   "source": [
    "<img src='img/warning.png' width='50px' style='display:inline'> Cette méthode provoque une erreur si l'élément à retirer n'est pas dans la liste !"
   ]
  },
  {
   "cell_type": "code",
   "execution_count": 16,
   "metadata": {},
   "outputs": [
    {
     "ename": "ValueError",
     "evalue": "list.remove(x): x not in list",
     "output_type": "error",
     "traceback": [
      "\u001b[0;31m---------------------------------------------------------------------------\u001b[0m",
      "\u001b[0;31mValueError\u001b[0m                                Traceback (most recent call last)",
      "\u001b[0;32m<ipython-input-16-46e7228665ae>\u001b[0m in \u001b[0;36m<module>\u001b[0;34m\u001b[0m\n\u001b[1;32m      1\u001b[0m \u001b[0mlst\u001b[0m \u001b[0;34m=\u001b[0m \u001b[0;34m[\u001b[0m\u001b[0;36m3\u001b[0m\u001b[0;34m,\u001b[0m \u001b[0;34m'toto'\u001b[0m\u001b[0;34m,\u001b[0m \u001b[0;36m4.5\u001b[0m\u001b[0;34m,\u001b[0m \u001b[0;32mFalse\u001b[0m\u001b[0;34m,\u001b[0m \u001b[0;32mNone\u001b[0m\u001b[0;34m,\u001b[0m \u001b[0;36m4.5\u001b[0m\u001b[0;34m]\u001b[0m\u001b[0;34m\u001b[0m\u001b[0;34m\u001b[0m\u001b[0m\n\u001b[0;32m----> 2\u001b[0;31m \u001b[0mlst\u001b[0m\u001b[0;34m.\u001b[0m\u001b[0mremove\u001b[0m\u001b[0;34m(\u001b[0m\u001b[0;36m3.5\u001b[0m\u001b[0;34m)\u001b[0m\u001b[0;34m\u001b[0m\u001b[0;34m\u001b[0m\u001b[0m\n\u001b[0m",
      "\u001b[0;31mValueError\u001b[0m: list.remove(x): x not in list"
     ]
    }
   ],
   "source": [
    "lst = [3, 'toto', 4.5, False, None, 4.5]\n",
    "lst.remove(3.5)"
   ]
  },
  {
   "cell_type": "markdown",
   "metadata": {},
   "source": [
    "### 6) Ajouter un élément donné à un indice donné\n",
    "\n",
    "**Exercice 10 :** Écrire une fonction qui insère un élément `x` à la position `i` de la liste `lst` (si `i` est trop grand, la fonction insère `x` à la fin de `lst` ; si `i` est trop petit, elle insère `x` au début de `lst`)"
   ]
  },
  {
   "cell_type": "code",
   "execution_count": 26,
   "metadata": {},
   "outputs": [
    {
     "data": {
      "text/plain": [
       "[3, 'toto', 4.5, False, None, 4.5, 79]"
      ]
     },
     "execution_count": 26,
     "metadata": {},
     "output_type": "execute_result"
    }
   ],
   "source": [
    "def ajouter(lst, i, x):\n",
    "    \"\"\"\n",
    "    Ajoute x en position i dans lst.\n",
    "    \n",
    "    >>> lst = [3, 'toto', 4.5, False, None, 4.5]\n",
    "    >>> ajouter(lst, 3, 79)\n",
    "    >>> lst\n",
    "    [3, 'toto', 4.5, 79, False, None, 4.5]\n",
    "    \"\"\"\n",
    "    if i < 0:\n",
    "        i = 0\n",
    "    elif i > len(lst):\n",
    "        i = len(lst)\n",
    "    lst.append(None)\n",
    "    for j in range(len(lst)-1, i, -1):\n",
    "        lst[j] = lst[j-1]\n",
    "    lst[i] = x\n",
    "    \n",
    "lst = [3, 'toto', 4.5, False, None, 4.5]\n",
    "ajouter(lst, 40, 79)\n",
    "lst"
   ]
  },
  {
   "cell_type": "markdown",
   "metadata": {},
   "source": [
    "Cette fonction existe déjà en Python : c'est la méthode `insert`."
   ]
  },
  {
   "cell_type": "markdown",
   "metadata": {},
   "source": [
    "<img src='img/warning.png' width='50px' style='display:inline'>Cette méthode insère l'élément à la fin si l'indice est supérieur à `len(lst)` et au début s'il est plus petit que `0` !"
   ]
  },
  {
   "cell_type": "code",
   "execution_count": 17,
   "metadata": {},
   "outputs": [],
   "source": [
    "lst = [3, 'toto', 4.5, False, None, 4.5]"
   ]
  },
  {
   "cell_type": "code",
   "execution_count": 18,
   "metadata": {},
   "outputs": [
    {
     "data": {
      "text/plain": [
       "[3, 'toto', 4.5, 79, False, None, 4.5]"
      ]
     },
     "execution_count": 18,
     "metadata": {},
     "output_type": "execute_result"
    }
   ],
   "source": [
    "lst.insert(3, 79)\n",
    "lst"
   ]
  },
  {
   "cell_type": "code",
   "execution_count": 19,
   "metadata": {},
   "outputs": [
    {
     "data": {
      "text/plain": [
       "['petit', 3, 'toto', 4.5, 79, False, None, 4.5]"
      ]
     },
     "execution_count": 19,
     "metadata": {},
     "output_type": "execute_result"
    }
   ],
   "source": [
    "lst.insert(-8, \"petit\")\n",
    "lst"
   ]
  },
  {
   "cell_type": "code",
   "execution_count": 20,
   "metadata": {},
   "outputs": [
    {
     "data": {
      "text/plain": [
       "['petit', 3, 'toto', 4.5, 79, False, None, 4.5, 'grand']"
      ]
     },
     "execution_count": 20,
     "metadata": {},
     "output_type": "execute_result"
    }
   ],
   "source": [
    "lst.insert(16, \"grand\")\n",
    "lst"
   ]
  },
  {
   "cell_type": "markdown",
   "metadata": {},
   "source": [
    "### 7) Trier une liste\n",
    "\n",
    "Enfin, il est possible de trier le contenu d'une liste dont les éléments sont comparables avec la méthode `sort`. Programmer ce genre de fonctions fait partie des objectifs du semestre 2."
   ]
  },
  {
   "cell_type": "code",
   "execution_count": 27,
   "metadata": {},
   "outputs": [
    {
     "data": {
      "text/plain": [
       "[-7, -6, 0, 2, 4, 6.6, 13]"
      ]
     },
     "execution_count": 27,
     "metadata": {},
     "output_type": "execute_result"
    }
   ],
   "source": [
    "lst = [4, 6.6, 2, -7, 13, -6, 0]\n",
    "lst.sort()\n",
    "lst"
   ]
  },
  {
   "cell_type": "markdown",
   "metadata": {},
   "source": [
    "<img src='img/warning.png' width='50px' style='display:inline'>Cette méthode ne fonctionne pas si les éléments ne sont pas tous comparables !"
   ]
  },
  {
   "cell_type": "code",
   "execution_count": 28,
   "metadata": {},
   "outputs": [
    {
     "ename": "TypeError",
     "evalue": "'<' not supported between instances of 'str' and 'int'",
     "output_type": "error",
     "traceback": [
      "\u001b[0;31m---------------------------------------------------------------------------\u001b[0m",
      "\u001b[0;31mTypeError\u001b[0m                                 Traceback (most recent call last)",
      "\u001b[0;32m<ipython-input-28-592ee7acd924>\u001b[0m in \u001b[0;36m<module>\u001b[0;34m\u001b[0m\n\u001b[1;32m      1\u001b[0m \u001b[0mlst\u001b[0m \u001b[0;34m=\u001b[0m \u001b[0;34m[\u001b[0m\u001b[0;36m3\u001b[0m\u001b[0;34m,\u001b[0m \u001b[0;34m'toto'\u001b[0m\u001b[0;34m,\u001b[0m \u001b[0;36m4.5\u001b[0m\u001b[0;34m,\u001b[0m \u001b[0;32mFalse\u001b[0m\u001b[0;34m,\u001b[0m \u001b[0;32mNone\u001b[0m\u001b[0;34m,\u001b[0m \u001b[0;36m4.5\u001b[0m\u001b[0;34m]\u001b[0m\u001b[0;34m\u001b[0m\u001b[0;34m\u001b[0m\u001b[0m\n\u001b[0;32m----> 2\u001b[0;31m \u001b[0mlst\u001b[0m\u001b[0;34m.\u001b[0m\u001b[0msort\u001b[0m\u001b[0;34m(\u001b[0m\u001b[0;34m)\u001b[0m\u001b[0;34m\u001b[0m\u001b[0;34m\u001b[0m\u001b[0m\n\u001b[0m",
      "\u001b[0;31mTypeError\u001b[0m: '<' not supported between instances of 'str' and 'int'"
     ]
    }
   ],
   "source": [
    "lst = [3, 'toto', 4.5, False, None, 4.5]\n",
    "lst.sort()"
   ]
  },
  {
   "cell_type": "markdown",
   "metadata": {},
   "source": [
    "Notez que la méthode `sort` modifie définitivement la liste (une nouvelle liste n'est pas créée). Il existe aussi une fonction permettant de fabriquer une copie triée d'une liste : la fonction `sorted`."
   ]
  },
  {
   "cell_type": "code",
   "execution_count": 29,
   "metadata": {},
   "outputs": [
    {
     "data": {
      "text/plain": [
       "[-7, -6, 0, 2, 4, 6.6, 13]"
      ]
     },
     "execution_count": 29,
     "metadata": {},
     "output_type": "execute_result"
    }
   ],
   "source": [
    "lst = [4, 6.6, 2, -7, 13, -6, 0]\n",
    "sorted(lst)"
   ]
  },
  {
   "cell_type": "code",
   "execution_count": 30,
   "metadata": {},
   "outputs": [
    {
     "data": {
      "text/plain": [
       "[4, 6.6, 2, -7, 13, -6, 0]"
      ]
     },
     "execution_count": 30,
     "metadata": {},
     "output_type": "execute_result"
    }
   ],
   "source": [
    "# la liste n'est pas modifiée !\n",
    "lst"
   ]
  },
  {
   "cell_type": "markdown",
   "metadata": {},
   "source": [
    "### Vérifier vos connaissances :\n",
    "\n",
    "A ce stade, vous devriez être capable :\n",
    "* d'utiliser correctement les méthodes `append`, `pop`, `extend`, `index`, `count`, `reverse`, `remove`, `insert` et `sort` ;\n",
    "* de préciser si parmi ces méthodes, la liste à laquelle elle s'applique est modifiée en place ou non ;\n",
    "* de reprogrammer simplement les méthodes `append`, `pop`, `extend`, `index`, `count`, `reverse`, `remove` et `insert`."
   ]
  }
 ],
 "metadata": {
  "kernelspec": {
   "display_name": "Python 3",
   "language": "python",
   "name": "python3"
  },
  "language_info": {
   "codemirror_mode": {
    "name": "ipython",
    "version": 3
   },
   "file_extension": ".py",
   "mimetype": "text/x-python",
   "name": "python",
   "nbconvert_exporter": "python",
   "pygments_lexer": "ipython3",
   "version": "3.7.5"
  }
 },
 "nbformat": 4,
 "nbformat_minor": 2
}
