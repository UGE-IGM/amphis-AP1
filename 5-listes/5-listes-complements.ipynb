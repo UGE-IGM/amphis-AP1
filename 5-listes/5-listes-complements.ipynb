{
 "cells": [
  {
   "cell_type": "markdown",
   "metadata": {},
   "source": [
    "<div>\n",
    "<div style='float:left; margin-right:40pt; width:6cm'><img src='img/UPEM-IGM-V1_300dpi.png'></div>\n",
    "<div style='float:right; font-size:large; text-align:right'><strong>Algorithmique et programmation 1</strong><br>\n",
    "L1 Mathématiques - L1 Informatique<br>\n",
    "Semestre 1\n",
    "</div>\n",
    "</div>"
   ]
  },
  {
   "cell_type": "markdown",
   "metadata": {},
   "source": [
    "**Cette partie n'est à lire qu'une fois que le cours 5-listes a été entièrement compris et les exercices réalisés.**\n",
    "\n",
    "Son contenu n'est pas exigible à l'examen."
   ]
  },
  {
   "cell_type": "markdown",
   "metadata": {},
   "source": [
    "## I Manipulation de sous-listes : les *slices* (tranches)\n",
    "\n",
    "### Accès à une slice\n",
    "\n",
    "-   Syntaxe : `lst[i, j]` construit une nouvelle liste contenant les éléments\n",
    "    d'indices `i` à `j-1` de `lst`\n",
    "-   Attention, l'élément d'indice `i` est **inclus** mais celui d'indice\n",
    "    `j` est **exclu** !"
   ]
  },
  {
   "cell_type": "code",
   "execution_count": null,
   "metadata": {},
   "outputs": [],
   "source": [
    "lst = [3, 'toto', 4.5]\n",
    "print(lst[1:len(lst)])\n",
    "print(lst[0:1])"
   ]
  },
  {
   "cell_type": "markdown",
   "metadata": {},
   "source": [
    "-   Si `i` est omis, il prend la valeur par défaut `0`\n",
    "-   Si `j` est omis, il prend la valeur par défaut `len(lst)`"
   ]
  },
  {
   "cell_type": "code",
   "execution_count": null,
   "metadata": {},
   "outputs": [],
   "source": [
    "lst = [3, 'toto', 4.5]\n",
    "print(lst[:len(lst)-1])\n",
    "print(lst[:])  # cette instruction crée une copie de lst !"
   ]
  },
  {
   "cell_type": "markdown",
   "metadata": {},
   "source": [
    "### Affectation de slice\n",
    "\n",
    "On peut aussi utiliser la syntaxe des tranches pour modifier en une seule fois une partie de la liste"
   ]
  },
  {
   "cell_type": "code",
   "execution_count": null,
   "metadata": {},
   "outputs": [],
   "source": [
    "lst = [3, 'toto', 4.5, 5]\n",
    "lst[1:3] = [\"riri\", \"fifi\", \"loulou\"]\n",
    "print(lst)"
   ]
  },
  {
   "cell_type": "markdown",
   "metadata": {},
   "source": [
    "La liste `[\"riri\", \"fifi\", \"loulou\"]` est insérée à la place de la slice `['toto', 4.5]`"
   ]
  },
  {
   "cell_type": "markdown",
   "metadata": {},
   "source": [
    "### Tranches avec intervalle\n",
    "\n",
    "Il est possible de compléter la notation des tranches en spécifiant un \"pas\" `k`: `lst[i:j:k]`. Dans ce cas, on sélectionne uniquement les éléments d'indices `i`, `i+k`, `i+2*k`, etc. en s'arrêtant à l'indice `j`(exclu)."
   ]
  },
  {
   "cell_type": "code",
   "execution_count": null,
   "metadata": {},
   "outputs": [],
   "source": [
    "lst = [0, 1, 2, 3, 4, 5]\n",
    "print(lst[1:6:2])"
   ]
  },
  {
   "cell_type": "markdown",
   "metadata": {},
   "source": [
    "Le pas peut être négatif pour parcourir la liste depuis la fin vers le début :"
   ]
  },
  {
   "cell_type": "code",
   "execution_count": null,
   "metadata": {},
   "outputs": [],
   "source": [
    "lst = [0, 1, 2, 3, 4, 5]\n",
    "print(lst[6:1:-1])"
   ]
  },
  {
   "cell_type": "markdown",
   "metadata": {},
   "source": [
    "## II Indices négatifs\n",
    "\n",
    "\n",
    "Il est possible d'utiliser des indices négatifs pour accéder aux éléments d'une liste. Dans ce cas, les éléments sont numérotés à partir de la droite, en commençant par l'indice `-1` et jusqu'à l'indice `-len(lst)` :"
   ]
  },
  {
   "cell_type": "code",
   "execution_count": null,
   "metadata": {},
   "outputs": [],
   "source": [
    "lst = [3, 'toto', 4.5]\n",
    "print(lst[-1])\n",
    "print(lst[-3])"
   ]
  },
  {
   "cell_type": "markdown",
   "metadata": {},
   "source": [
    "On voit que `lst[-1]` est une autre façon de désigner l'élément `lst[len(lst)-1`, et `lst[-len(lst)]` désigne `lst[0]`. Tenter d'accéder à un indice plus petit provoque une erreur :"
   ]
  },
  {
   "cell_type": "code",
   "execution_count": null,
   "metadata": {},
   "outputs": [],
   "source": [
    "lst = [3, 'toto', 4.5]\n",
    "print(lst[-4])"
   ]
  },
  {
   "cell_type": "markdown",
   "metadata": {},
   "source": [
    "Ces indices négatifs sont utiles comme raccourcis d'écriture dans certains cas particuliers, par exemple pour construire la copie d'une liste privée de son dernier élément :"
   ]
  },
  {
   "cell_type": "code",
   "execution_count": null,
   "metadata": {},
   "outputs": [],
   "source": [
    "lst = [3, 'toto', 4.5]\n",
    "print(lst[:-1])"
   ]
  },
  {
   "cell_type": "markdown",
   "metadata": {},
   "source": [
    "Remarque : l'utilisation d'indices négatifs devient rapidement illisible et il est conseillé de se limiter à l'utilisation de `-1`."
   ]
  }
 ],
 "metadata": {
  "kernelspec": {
   "display_name": "Python 3",
   "language": "python",
   "name": "python3"
  },
  "language_info": {
   "codemirror_mode": {
    "name": "ipython",
    "version": 3
   },
   "file_extension": ".py",
   "mimetype": "text/x-python",
   "name": "python",
   "nbconvert_exporter": "python",
   "pygments_lexer": "ipython3",
   "version": "3.6.5"
  }
 },
 "nbformat": 4,
 "nbformat_minor": 2
}
