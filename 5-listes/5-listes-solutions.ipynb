{
 "cells": [
  {
   "cell_type": "markdown",
   "metadata": {},
   "source": [
    "<div>\n",
    "<div style='float:left; margin-right:40pt; width:6cm'><img src='img/UPEM-IGM-V1_300dpi.png'></div>\n",
    "<div style='float:right; font-size:large; text-align:right'><strong>Algorithmique et programmation 1</strong><br>\n",
    "L1 Mathématiques - L1 Informatique<br>\n",
    "Semestre 1\n",
    "</div>\n",
    "</div>"
   ]
  },
  {
   "cell_type": "markdown",
   "metadata": {},
   "source": [
    "**Exercice 1 :** Écrire une fonction qui affiche tous les éléments d'une liste (un par ligne)"
   ]
  },
  {
   "cell_type": "code",
   "execution_count": 1,
   "metadata": {},
   "outputs": [
    {
     "name": "stdout",
     "output_type": "stream",
     "text": [
      "3\n",
      "4.5\n",
      "Cunégonde\n"
     ]
    }
   ],
   "source": [
    "def affiche_1_elements_sur_2(lst):\n",
    "    \"\"\"Affiche un élément sur deux d'une liste passée en argument. L'affichage se fait un élément par ligne.\n",
    "\n",
    "    :param lst: List\n",
    "    \n",
    "    >>> lst = [1, 2, 3, 4, 5, 6, 7, 8, 9]\n",
    "    >>> affiche_1_elements_sur_2(lst)\n",
    "    1\n",
    "    3\n",
    "    5\n",
    "    7\n",
    "    9\n",
    "    \"\"\"\n",
    "    for pos in range(len(lst)):\n",
    "        if pos % 2 == 0:\n",
    "            print(lst[pos])\n",
    "\n",
    "lst = [3, 'toto', 4.5, None, \"Cunégonde\"]\n",
    "affiche_1_elements_sur_2(lst)"
   ]
  },
  {
   "cell_type": "markdown",
   "metadata": {},
   "source": [
    "\n",
    "**Exercice 2 :** Écrire une fonction recevant une liste et une valeur, et\n",
    "renvoyant `True` si la valeur apparaît dans la liste (`False` sinon)"
   ]
  },
  {
   "cell_type": "code",
   "execution_count": 2,
   "metadata": {},
   "outputs": [
    {
     "name": "stdout",
     "output_type": "stream",
     "text": [
      "True\n",
      "Bon chien !\n"
     ]
    }
   ],
   "source": [
    "def appartient(lst, val):\n",
    "    \"\"\"Fonction déterminant si une valeur est bien un élément d'une liste\n",
    "\n",
    "    :param lst: List\n",
    "    :param val: whatever\n",
    "    :return value: boolean\n",
    "    \n",
    "    >>> appartient([], 'Hildegarde')\n",
    "    False\n",
    "    >>> appartient(['Hildegarde', 'Cunégonde', 'Médor'], 'Cunégonde')\n",
    "    True\n",
    "    >>> appartient(['Hildegarde', 'Cunégonde', 'Médor'], 'Ursule')\n",
    "    False\n",
    "    \"\"\"\n",
    "    for pos in range(len(lst)):\n",
    "        if lst[pos] == val:\n",
    "            return True\n",
    "    return False\n",
    "\n",
    "lst = ['Hildegarde', 'Cunégonde', 'Médor']\n",
    "\n",
    "print(appartient(lst, 'Cunégonde'))\n",
    "\n",
    "if appartient(lst, 'Médor'):\n",
    "    print('Bon chien !')"
   ]
  },
  {
   "cell_type": "markdown",
   "metadata": {},
   "source": [
    "\n",
    "**Exercice 3 :** Écrire une fonction recevant une liste **non vide d'éléments comparables entre eux** et renvoyant la valeur du plus petit élément qui apparaît dans la liste"
   ]
  },
  {
   "cell_type": "code",
   "execution_count": 3,
   "metadata": {},
   "outputs": [
    {
     "name": "stdout",
     "output_type": "stream",
     "text": [
      "-7\n",
      "Cunégonde\n"
     ]
    },
    {
     "ename": "TypeError",
     "evalue": "'<' not supported between instances of 'int' and 'str'",
     "output_type": "error",
     "traceback": [
      "\u001b[0;31m---------------------------------------------------------------------------\u001b[0m",
      "\u001b[0;31mTypeError\u001b[0m                                 Traceback (most recent call last)",
      "\u001b[0;32m<ipython-input-3-9176a57af19b>\u001b[0m in \u001b[0;36m<module>\u001b[0;34m()\u001b[0m\n\u001b[1;32m     25\u001b[0m \u001b[0mprint\u001b[0m\u001b[0;34m(\u001b[0m\u001b[0mminimum\u001b[0m\u001b[0;34m(\u001b[0m\u001b[0mlst_1\u001b[0m\u001b[0;34m)\u001b[0m\u001b[0;34m)\u001b[0m\u001b[0;34m\u001b[0m\u001b[0m\n\u001b[1;32m     26\u001b[0m \u001b[0mprint\u001b[0m\u001b[0;34m(\u001b[0m\u001b[0mminimum\u001b[0m\u001b[0;34m(\u001b[0m\u001b[0mlst_2\u001b[0m\u001b[0;34m)\u001b[0m\u001b[0;34m)\u001b[0m\u001b[0;34m\u001b[0m\u001b[0m\n\u001b[0;32m---> 27\u001b[0;31m \u001b[0mprint\u001b[0m\u001b[0;34m(\u001b[0m\u001b[0mminimum\u001b[0m\u001b[0;34m(\u001b[0m\u001b[0mlst_3\u001b[0m\u001b[0;34m)\u001b[0m\u001b[0;34m)\u001b[0m\u001b[0;34m\u001b[0m\u001b[0m\n\u001b[0m",
      "\u001b[0;32m<ipython-input-3-9176a57af19b>\u001b[0m in \u001b[0;36mminimum\u001b[0;34m(lst)\u001b[0m\n\u001b[1;32m     16\u001b[0m     \u001b[0mres\u001b[0m \u001b[0;34m=\u001b[0m \u001b[0mlst\u001b[0m\u001b[0;34m[\u001b[0m\u001b[0;36m0\u001b[0m\u001b[0;34m]\u001b[0m  \u001b[0;31m# plante si lst == []\u001b[0m\u001b[0;34m\u001b[0m\u001b[0m\n\u001b[1;32m     17\u001b[0m     \u001b[0;32mfor\u001b[0m \u001b[0mpos\u001b[0m \u001b[0;32min\u001b[0m \u001b[0mrange\u001b[0m\u001b[0;34m(\u001b[0m\u001b[0mlen\u001b[0m\u001b[0;34m(\u001b[0m\u001b[0mlst\u001b[0m\u001b[0;34m)\u001b[0m\u001b[0;34m)\u001b[0m\u001b[0;34m:\u001b[0m\u001b[0;34m\u001b[0m\u001b[0m\n\u001b[0;32m---> 18\u001b[0;31m         \u001b[0;32mif\u001b[0m \u001b[0mlst\u001b[0m\u001b[0;34m[\u001b[0m\u001b[0mpos\u001b[0m\u001b[0;34m]\u001b[0m \u001b[0;34m<\u001b[0m \u001b[0mres\u001b[0m\u001b[0;34m:\u001b[0m\u001b[0;34m\u001b[0m\u001b[0m\n\u001b[0m\u001b[1;32m     19\u001b[0m             \u001b[0mres\u001b[0m \u001b[0;34m=\u001b[0m \u001b[0mlst\u001b[0m\u001b[0;34m[\u001b[0m\u001b[0mpos\u001b[0m\u001b[0;34m]\u001b[0m\u001b[0;34m\u001b[0m\u001b[0m\n\u001b[1;32m     20\u001b[0m     \u001b[0;32mreturn\u001b[0m \u001b[0mres\u001b[0m\u001b[0;34m\u001b[0m\u001b[0m\n",
      "\u001b[0;31mTypeError\u001b[0m: '<' not supported between instances of 'int' and 'str'"
     ]
    }
   ],
   "source": [
    "def minimum(lst):\n",
    "    \"\"\"Fonction déterminant la valeur minimale d'une liste NON VIDE.\n",
    "    Les éléments de la liste doivent être comparables, même s'ils ne sont pas\n",
    "    forcément tous du même type.\n",
    "\n",
    "    :param lst: List \n",
    "    :return value: valeur minimale de la liste\n",
    "    \n",
    "    >>> minimum([4, 6.6, 2, -7, 13.0, -6, 0])\n",
    "    -7\n",
    "    >>> minimum([])\n",
    "    Traceback (most recent call last):\n",
    "    ...\n",
    "    IndexError: list index out of range\n",
    "    \"\"\"\n",
    "    res = lst[0]  # plante si lst == []\n",
    "    for pos in range(len(lst)):\n",
    "        if lst[pos] < res:\n",
    "            res = lst[pos]\n",
    "    return res\n",
    "\n",
    "lst_1 = [4, 6.6, 2, -7, 13.0, -6, 0]\n",
    "lst_2 = ['Hildegarde', 'Cunégonde', 'Médor']\n",
    "lst_3 = ['Hildegarde', 'Cunégonde', 3, 2]\n",
    "print(minimum(lst_1))\n",
    "print(minimum(lst_2))\n",
    "print(minimum(lst_3))"
   ]
  },
  {
   "cell_type": "markdown",
   "metadata": {},
   "source": [
    "Même question pour le plus grand élément"
   ]
  },
  {
   "cell_type": "code",
   "execution_count": 4,
   "metadata": {},
   "outputs": [
    {
     "name": "stdout",
     "output_type": "stream",
     "text": [
      "13.0\n",
      "Médor\n"
     ]
    },
    {
     "ename": "TypeError",
     "evalue": "'>' not supported between instances of 'int' and 'str'",
     "output_type": "error",
     "traceback": [
      "\u001b[0;31m---------------------------------------------------------------------------\u001b[0m",
      "\u001b[0;31mTypeError\u001b[0m                                 Traceback (most recent call last)",
      "\u001b[0;32m<ipython-input-4-338d2502a785>\u001b[0m in \u001b[0;36m<module>\u001b[0;34m()\u001b[0m\n\u001b[1;32m     25\u001b[0m \u001b[0mprint\u001b[0m\u001b[0;34m(\u001b[0m\u001b[0mmaximum\u001b[0m\u001b[0;34m(\u001b[0m\u001b[0mlst_1\u001b[0m\u001b[0;34m)\u001b[0m\u001b[0;34m)\u001b[0m\u001b[0;34m\u001b[0m\u001b[0m\n\u001b[1;32m     26\u001b[0m \u001b[0mprint\u001b[0m\u001b[0;34m(\u001b[0m\u001b[0mmaximum\u001b[0m\u001b[0;34m(\u001b[0m\u001b[0mlst_2\u001b[0m\u001b[0;34m)\u001b[0m\u001b[0;34m)\u001b[0m\u001b[0;34m\u001b[0m\u001b[0m\n\u001b[0;32m---> 27\u001b[0;31m \u001b[0mprint\u001b[0m\u001b[0;34m(\u001b[0m\u001b[0mmaximum\u001b[0m\u001b[0;34m(\u001b[0m\u001b[0mlst_3\u001b[0m\u001b[0;34m)\u001b[0m\u001b[0;34m)\u001b[0m\u001b[0;34m\u001b[0m\u001b[0m\n\u001b[0m",
      "\u001b[0;32m<ipython-input-4-338d2502a785>\u001b[0m in \u001b[0;36mmaximum\u001b[0;34m(lst)\u001b[0m\n\u001b[1;32m     16\u001b[0m     \u001b[0mres\u001b[0m \u001b[0;34m=\u001b[0m \u001b[0mlst\u001b[0m\u001b[0;34m[\u001b[0m\u001b[0;36m0\u001b[0m\u001b[0;34m]\u001b[0m\u001b[0;34m\u001b[0m\u001b[0m\n\u001b[1;32m     17\u001b[0m     \u001b[0;32mfor\u001b[0m \u001b[0mpos\u001b[0m \u001b[0;32min\u001b[0m \u001b[0mrange\u001b[0m\u001b[0;34m(\u001b[0m\u001b[0mlen\u001b[0m\u001b[0;34m(\u001b[0m\u001b[0mlst\u001b[0m\u001b[0;34m)\u001b[0m\u001b[0;34m)\u001b[0m\u001b[0;34m:\u001b[0m\u001b[0;34m\u001b[0m\u001b[0m\n\u001b[0;32m---> 18\u001b[0;31m         \u001b[0;32mif\u001b[0m \u001b[0mlst\u001b[0m\u001b[0;34m[\u001b[0m\u001b[0mpos\u001b[0m\u001b[0;34m]\u001b[0m \u001b[0;34m>\u001b[0m \u001b[0mres\u001b[0m\u001b[0;34m:\u001b[0m\u001b[0;34m\u001b[0m\u001b[0m\n\u001b[0m\u001b[1;32m     19\u001b[0m             \u001b[0mres\u001b[0m \u001b[0;34m=\u001b[0m \u001b[0mlst\u001b[0m\u001b[0;34m[\u001b[0m\u001b[0mpos\u001b[0m\u001b[0;34m]\u001b[0m\u001b[0;34m\u001b[0m\u001b[0m\n\u001b[1;32m     20\u001b[0m     \u001b[0;32mreturn\u001b[0m \u001b[0mres\u001b[0m\u001b[0;34m\u001b[0m\u001b[0m\n",
      "\u001b[0;31mTypeError\u001b[0m: '>' not supported between instances of 'int' and 'str'"
     ]
    }
   ],
   "source": [
    "def maximum(lst):\n",
    "    \"\"\"Fonction déterminant la valeur maximale d'une liste NON VIDE.\n",
    "    Les éléments de la liste doivent être comparables, même s'ils ne sont pas\n",
    "    forcément tous du même type.\n",
    "\n",
    "    :param lst: List \n",
    "    :return value: valeur maximale de la liste\n",
    "\n",
    "    >>> maximum([4, 6.6, 2, -7, 13.0, -6, 0])\n",
    "    13.0\n",
    "    >>> maximum([])\n",
    "    Traceback (most recent call last):\n",
    "    ...\n",
    "    IndexError: list index out of range\n",
    "    \"\"\"\n",
    "    res = lst[0]\n",
    "    for pos in range(len(lst)):\n",
    "        if lst[pos] > res:\n",
    "            res = lst[pos]\n",
    "    return res\n",
    "\n",
    "lst_1 = lst = [4, 6.6, 2, -7, 13.0, -6, 0]\n",
    "lst_2 = ['Hildegarde', 'Cunégonde', 'Médor']\n",
    "lst_3 = ['Hildegarde', 'Cunégonde', 3, 2]\n",
    "print(maximum(lst_1))\n",
    "print(maximum(lst_2))\n",
    "print(maximum(lst_3))"
   ]
  },
  {
   "cell_type": "markdown",
   "metadata": {},
   "source": [
    "\n",
    "**Exercice 4 :** Écrire une fonction `somme(lst)` qui renvoie la somme des éléments d'une liste dont tous les éléments sont **des nombres**."
   ]
  },
  {
   "cell_type": "code",
   "execution_count": 5,
   "metadata": {},
   "outputs": [
    {
     "name": "stdout",
     "output_type": "stream",
     "text": [
      "6\n"
     ]
    }
   ],
   "source": [
    "def somme(lst):\n",
    "    \"\"\"Fonction calculant la somme des éléments d'une liste d'entiers ou de flottant.\n",
    "\n",
    "    :param lst: Liste d'entiers\n",
    "    :return value: int ou float\n",
    "    \n",
    "    >>> somme([])\n",
    "    0\n",
    "    >>> somme([1, 2, 3])\n",
    "    6\n",
    "    \"\"\"\n",
    "    somme = 0\n",
    "    for pos in range(len(lst)):\n",
    "        somme += lst[pos]\n",
    "    return somme\n",
    "\n",
    "print(somme([1, 2, 3]))"
   ]
  },
  {
   "cell_type": "markdown",
   "metadata": {},
   "source": [
    "**Exercice 5 :** Écrire une fonction `renverser` renversant l'ordre des éléments d'une liste `lst` en la modifiant."
   ]
  },
  {
   "cell_type": "code",
   "execution_count": 6,
   "metadata": {},
   "outputs": [
    {
     "name": "stdout",
     "output_type": "stream",
     "text": [
      "[3, 'toto', 4.5, False, None, 4.5]\n",
      "[4.5, None, False, 4.5, 'toto', 3]\n"
     ]
    }
   ],
   "source": [
    "def renverser(lst):\n",
    "    \"\"\"Fonction modifiant la liste passée en paramètre en lui renversant l'ordre de ses éléments\n",
    "    \n",
    "    :param lst: List\n",
    "    \n",
    "    >>> lst = [3, 'toto', 4.5, False, None, 4.5]\n",
    "    >>> renverser(lst)\n",
    "    >>> lst\n",
    "    [4.5, None, False, 4.5, 'toto', 3]\n",
    "    \"\"\"\n",
    "    i = 0\n",
    "    j = len(lst) - 1\n",
    "    while i < j:\n",
    "        lst[i], lst[j] = lst[j], lst[i]\n",
    "        i += 1\n",
    "        j -= 1\n",
    "\n",
    "lst = [3, 'toto', 4.5, False, None, 4.5]\n",
    "print(lst)\n",
    "renverser(lst)\n",
    "print(lst)"
   ]
  },
  {
   "cell_type": "markdown",
   "metadata": {},
   "source": [
    "**Exercice 6 :** Écrire une fonction `etend_liste(une_liste, autre_liste)` recevant deux listes et ajoutant tous\n",
    "les éléments de la seconde à la fin de la première"
   ]
  },
  {
   "cell_type": "code",
   "execution_count": 7,
   "metadata": {},
   "outputs": [
    {
     "name": "stdout",
     "output_type": "stream",
     "text": [
      "lst_un = [3, 'toto', 4.5]\n",
      "lst_deux = [False, None]\n",
      "lst_un = [3, 'toto', 4.5, False, None]\n",
      "lst_deux = [False, None]\n"
     ]
    }
   ],
   "source": [
    "def etend_liste(une_liste, autre_liste):\n",
    "    \"\"\"Fonction ajoutant tous les éléments de la seconde liste passée en paramètres à la fin de la première\n",
    "\n",
    "    :param une_liste: List\n",
    "    :param autre_liste: List\n",
    "    \n",
    "    >>> lst_un = [3, 'toto', 4.5]\n",
    "    >>> lst_deux = [False, None]\n",
    "    >>> etend_liste(lst_un, lst_deux)\n",
    "    >>> lst_un\n",
    "    [3, 'toto', 4.5, False, None]\n",
    "    >>> lst_deux\n",
    "    [False, None]\n",
    "    \"\"\"\n",
    "    for i in range(len(autre_liste)):\n",
    "        une_liste.append(autre_liste[i])\n",
    "        \n",
    "lst_un = [3, 'toto', 4.5]\n",
    "lst_deux = [False, None]\n",
    "\n",
    "print(\"lst_un =\", lst_un)\n",
    "print(\"lst_deux =\", lst_deux)\n",
    "etend_liste(lst_un, lst_deux)\n",
    "print(\"lst_un =\", lst_un)\n",
    "print(\"lst_deux =\", lst_deux)"
   ]
  },
  {
   "cell_type": "markdown",
   "metadata": {},
   "source": [
    "\n",
    "**Exercice 7 :** Écrire une fonction renvoyant le plus petit indice où apparaît un élément `val` dans une liste `lst` (on renverra `None` si `val` n'apparaît pas dans la liste)"
   ]
  },
  {
   "cell_type": "code",
   "execution_count": 8,
   "metadata": {},
   "outputs": [
    {
     "name": "stdout",
     "output_type": "stream",
     "text": [
      "2\n",
      "None\n"
     ]
    }
   ],
   "source": [
    "def chercher(lst, val):\n",
    "    \"\"\" Fonction renvoyant le plus petit indice où apparaît l'élément val dans la liste lst\n",
    "\n",
    "    :param lst: List\n",
    "    :param val: whatever\n",
    "    :return value: int ou None\n",
    "    \n",
    "    >>> chercher([3, 'toto', 4.5, False, None, 4.5], 4.5)\n",
    "    2\n",
    "    >>> chercher([3, 'toto', 4.5, False, None, 4.5], 'AP1')\n",
    "    \"\"\"\n",
    "    for i in range(len(lst)):\n",
    "        if lst[i] == val:\n",
    "            return i\n",
    "    return None\n",
    "\n",
    "lst = [3, 'toto', 4.5, False, None, 4.5]\n",
    "indice = chercher(lst, 4.5)\n",
    "print(indice)\n",
    "indiceNone = chercher(lst, 'AP1')\n",
    "print(indiceNone)"
   ]
  },
  {
   "cell_type": "markdown",
   "metadata": {},
   "source": [
    "\n",
    "**Exercice 8 :** Écrire une fonction renvoyant le nombre de fois où apparaît un élément `x` dans une liste `lst`"
   ]
  },
  {
   "cell_type": "code",
   "execution_count": 9,
   "metadata": {},
   "outputs": [
    {
     "name": "stdout",
     "output_type": "stream",
     "text": [
      "2\n"
     ]
    }
   ],
   "source": [
    "def compter(lst, x):\n",
    "    \"\"\" Fonction renvoyant le nombre de fois où l'élément x dans la liste lst\n",
    "    \n",
    "    :param lst: List\n",
    "    :param val: whatever\n",
    "    :return value: int\n",
    "    \n",
    "    >>> compter([3, 'toto', 4.5, False, None, 4.5], 4.5)\n",
    "    2\n",
    "    >>> compter([3, 'toto', 4.5, False, None, 4.5], 'AP1')\n",
    "    0\n",
    "    \"\"\"\n",
    "    cpt = 0\n",
    "    i = 0\n",
    "    for i in range(len(lst)):\n",
    "        if lst[i] == x:\n",
    "            cpt += 1\n",
    "    return cpt\n",
    "\n",
    "lst = [3, 'toto', 4.5, False, None, 4.5]\n",
    "print(compter(lst, 4.5))"
   ]
  },
  {
   "cell_type": "markdown",
   "metadata": {},
   "source": [
    "\n",
    "**Exercice 9 :** Écrire une fonction retirant la première occurrence d'un élément `x` dans une liste `lst` (on ne fera rien si la liste ne contient pas `x`)"
   ]
  },
  {
   "cell_type": "code",
   "execution_count": 10,
   "metadata": {},
   "outputs": [
    {
     "name": "stdout",
     "output_type": "stream",
     "text": [
      "lst = [3, 'toto', 4.5, False, None, 4.5]\n",
      "lst = [3, 'toto', False, None, 4.5]\n",
      "---------------\n",
      "lst2 = [3, 'toto', 4.5, False, None, 4.5]\n",
      "lst2 = [3, 'toto', False, None, 4.5]\n",
      "lst2 = [3, 'toto', False, None, 4.5]\n"
     ]
    }
   ],
   "source": [
    "def chercher(lst, val):\n",
    "    \"\"\" Fonction renvoyant le plus petit indice où apparaît l'élément val dans la liste lst\n",
    "\n",
    "    :param lst: List\n",
    "    :param val: whatever\n",
    "    :return value: int ou None\n",
    "\n",
    "    >>> chercher([3, 'toto', 4.5, False, None, 4.5], 4.5)\n",
    "    2\n",
    "    >>> chercher([3, 'toto', 4.5, False, None, 4.5], 'AP1')\n",
    "    \"\"\"\n",
    "    for i in range(len(lst)):\n",
    "        if lst[i] == val:\n",
    "            return i\n",
    "    return None\n",
    "\n",
    "def retirer(lst, x):\n",
    "    \"\"\" Fonction retirant la première occurence de l'élément x dans la liste lst\n",
    "    \n",
    "    :param lst: List\n",
    "    :param x: whatever\n",
    "    :return value: int\n",
    "    \n",
    "    >>> lst = [3, 'toto', 4.5, False, None, 4.5]\n",
    "    >>> retirer(lst, 4.5)\n",
    "    >>> lst\n",
    "    [3, 'toto', False, None, 4.5]\n",
    "    >>> retirer(lst, 4.5)\n",
    "    >>> lst\n",
    "    [3, 'toto', False, None]\n",
    "    >>> retirer(lst, 4.5)\n",
    "    >>> lst\n",
    "    [3, 'toto', False, None]\n",
    "    \"\"\"\n",
    "    i = chercher(lst, x)\n",
    "    if i != None:\n",
    "        while i < len(lst)-1:\n",
    "            lst[i] = lst[i+1]\n",
    "            i += 1\n",
    "        lst.pop()\n",
    "        \n",
    "def retirer2(lst, x): # version utilisant pop(i)\n",
    "    \"\"\" Fonction retirant la première occurence de l'élément x dans la liste lst\n",
    "    \n",
    "    :param lst: List\n",
    "    :param x: whatever\n",
    "    :return value: int\n",
    "\n",
    "    >>> lst = [3, 'toto', 4.5, False, None, 4.5]\n",
    "    >>> retirer(lst, 4.5)\n",
    "    >>> lst\n",
    "    [3, 'toto', False, None, 4.5]\n",
    "    >>> retirer(lst, 4.5)\n",
    "    >>> lst\n",
    "    [3, 'toto', False, None]\n",
    "    >>> retirer(lst, 4.5)\n",
    "    >>> lst\n",
    "    [3, 'toto', False, None]\n",
    "    \"\"\"\n",
    "    i = chercher(lst, x)\n",
    "    if i != None:\n",
    "        lst.pop(i)\n",
    "        \n",
    "lst = [3, 'toto', 4.5, False, None, 4.5]\n",
    "print(\"lst =\", lst)\n",
    "retirer(lst, 4.5)\n",
    "print(\"lst =\", lst)\n",
    "print(\"---------------\")\n",
    "lst2 = [3, 'toto', 4.5, False, None, 4.5]\n",
    "print(\"lst2 =\", lst2)\n",
    "retirer2(lst2, 4.5)\n",
    "print(\"lst2 =\", lst2)\n",
    "retirer2(lst2, 5) # On essaie de retirer un élément qui n'est pas dans la liste\n",
    "print(\"lst2 =\", lst2) "
   ]
  },
  {
   "cell_type": "markdown",
   "metadata": {},
   "source": [
    "**Exercice 10 :** Écrire une fonction qui insère un élément `x` à la position `i` de la liste `lst` (si `i` est trop grand, la fonction insère `x` à la fin de `lst` ; si `i` est trop petit, elle insère `x` au début de `lst`)"
   ]
  },
  {
   "cell_type": "code",
   "execution_count": 11,
   "metadata": {},
   "outputs": [
    {
     "name": "stdout",
     "output_type": "stream",
     "text": [
      "[3, 'toto', 4.5, False, None, 4.5]\n",
      "[3, 'toto', 4.5, 79, False, None, 4.5]\n",
      "['petit', 3, 'toto', 4.5, 79, False, None, 4.5]\n",
      "['petit', 3, 'toto', 4.5, 79, False, None, 4.5, 'grand']\n"
     ]
    }
   ],
   "source": [
    "def ajouter(lst, i, x):\n",
    "    \"\"\" Fonction qui insère la valeur `x` à la position `i` de la liste `lst`\n",
    "    \n",
    "    :param lst: List\n",
    "    :param i: int\n",
    "    :param x: whatever\n",
    "    :return value: int\n",
    "    \n",
    "    >>> lst = [3, 'toto', 4.5, False, None, 4.5]\n",
    "    >>> ajouter(lst, 3, 79)\n",
    "    >>> lst\n",
    "    [3, 'toto', 4.5, 79, False, None, 4.5]\n",
    "    >>> ajouter(lst, -6, 'petit')\n",
    "    >>> lst\n",
    "    ['petit', 3, 'toto', 4.5, 79, False, None, 4.5]\n",
    "    >>> ajouter(lst, 16, 'grand')\n",
    "    >>> lst\n",
    "    ['petit', 3, 'toto', 4.5, 79, False, None, 4.5, 'grand']\n",
    "    \"\"\"\n",
    "    # 1. Détermine une valeur correcte pour i\n",
    "    # Si i < 0: i devient 0\n",
    "    # Si i > len(lst): i devient len(lst)\n",
    "    i = max(0, min(i, len(lst))) \n",
    "    # 2. On ajoute une case vide à la fin\n",
    "    lst.append(None) \n",
    "    # 3. Décalage des cases sur la droite à partir de i\n",
    "    j = len(lst) - 1\n",
    "    while j > i:\n",
    "        lst[j] = lst[j-1]\n",
    "        j -= 1\n",
    "    # 4. On insère x à l'indice i\n",
    "    lst[i] = x\n",
    "    \n",
    "lst = [3, 'toto', 4.5, False, None, 4.5]\n",
    "print(lst)\n",
    "ajouter(lst, 3, 79) # indice ok\n",
    "print(lst)\n",
    "ajouter(lst, -6, 'petit') # indice trop petit\n",
    "print(lst)\n",
    "ajouter(lst, 16, 'grand') # indice trop grand\n",
    "print(lst)"
   ]
  },
  {
   "cell_type": "code",
   "execution_count": null,
   "metadata": {},
   "outputs": [],
   "source": [
    "import doctest\n",
    "doctest.testmod()"
   ]
  }
 ],
 "metadata": {
  "kernelspec": {
   "display_name": "Python 3",
   "language": "python",
   "name": "python3"
  },
  "language_info": {
   "codemirror_mode": {
    "name": "ipython",
    "version": 3
   },
   "file_extension": ".py",
   "mimetype": "text/x-python",
   "name": "python",
   "nbconvert_exporter": "python",
   "pygments_lexer": "ipython3",
   "version": "3.6.5"
  }
 },
 "nbformat": 4,
 "nbformat_minor": 2
}
